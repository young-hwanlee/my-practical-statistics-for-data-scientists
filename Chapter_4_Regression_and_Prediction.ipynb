{
  "nbformat": 4,
  "nbformat_minor": 0,
  "metadata": {
    "colab": {
      "name": "Chapter 4 - Regression and Prediction.ipynb",
      "provenance": [],
      "collapsed_sections": [],
      "authorship_tag": "ABX9TyNyHfFvGhca6mCGscU594/h",
      "include_colab_link": true
    },
    "kernelspec": {
      "name": "python3",
      "display_name": "Python 3"
    },
    "language_info": {
      "name": "python"
    }
  },
  "cells": [
    {
      "cell_type": "markdown",
      "metadata": {
        "id": "view-in-github",
        "colab_type": "text"
      },
      "source": [
        "<a href=\"https://colab.research.google.com/github/young-hwanlee/my-practical-statistics-for-data-scientists/blob/main/Chapter_4_Regression_and_Prediction.ipynb\" target=\"_parent\"><img src=\"https://colab.research.google.com/assets/colab-badge.svg\" alt=\"Open In Colab\"/></a>"
      ]
    },
    {
      "cell_type": "code",
      "metadata": {
        "id": "pvAUfMNZued0",
        "colab": {
          "base_uri": "https://localhost:8080/"
        },
        "outputId": "6f5b0b6c-247c-4acf-ceee-937bdc4fc777"
      },
      "source": [
        "# # Clone the repository\n",
        "# !git clone https://github.com/young-hwanlee/practical-statistics-for-data-scientists.git\n",
        "\n",
        "# # Open the file from the list of contents (File)\n",
        "# # Then, copy and paste it"
      ],
      "execution_count": 1,
      "outputs": [
        {
          "output_type": "stream",
          "name": "stdout",
          "text": [
            "Cloning into 'practical-statistics-for-data-scientists'...\n",
            "remote: Enumerating objects: 363, done.\u001b[K\n",
            "remote: Counting objects: 100% (156/156), done.\u001b[K\n",
            "remote: Compressing objects: 100% (127/127), done.\u001b[K\n",
            "remote: Total 363 (delta 75), reused 93 (delta 27), pack-reused 207\u001b[K\n",
            "Receiving objects: 100% (363/363), 83.68 MiB | 33.80 MiB/s, done.\n",
            "Resolving deltas: 100% (161/161), done.\n"
          ]
        }
      ]
    },
    {
      "cell_type": "markdown",
      "source": [
        "## Practical Statistics for Data Scientists (Python)\n",
        "## Chapter 4. Regression and Prediction\n",
        "> (c) 2019 Peter C. Bruce, Andrew Bruce, Peter Gedeck"
      ],
      "metadata": {
        "id": "K30YYi9CWm9B"
      }
    },
    {
      "cell_type": "markdown",
      "source": [
        "Import required Python packages."
      ],
      "metadata": {
        "id": "KCeNC8JNW54d"
      }
    },
    {
      "cell_type": "code",
      "source": [
        "!pip install pygam"
      ],
      "metadata": {
        "colab": {
          "base_uri": "https://localhost:8080/"
        },
        "id": "fpm8kzAfX_B9",
        "outputId": "814e4da3-2c81-4a3a-c3d0-0c5813cd9248"
      },
      "execution_count": 1,
      "outputs": [
        {
          "output_type": "stream",
          "name": "stdout",
          "text": [
            "Collecting pygam\n",
            "  Downloading pygam-0.8.0-py2.py3-none-any.whl (1.8 MB)\n",
            "\u001b[?25l\r\u001b[K     |▏                               | 10 kB 19.5 MB/s eta 0:00:01\r\u001b[K     |▍                               | 20 kB 25.0 MB/s eta 0:00:01\r\u001b[K     |▌                               | 30 kB 30.5 MB/s eta 0:00:01\r\u001b[K     |▊                               | 40 kB 27.6 MB/s eta 0:00:01\r\u001b[K     |█                               | 51 kB 27.0 MB/s eta 0:00:01\r\u001b[K     |█                               | 61 kB 22.1 MB/s eta 0:00:01\r\u001b[K     |█▎                              | 71 kB 18.1 MB/s eta 0:00:01\r\u001b[K     |█▍                              | 81 kB 8.7 MB/s eta 0:00:01\r\u001b[K     |█▋                              | 92 kB 9.5 MB/s eta 0:00:01\r\u001b[K     |█▉                              | 102 kB 10.4 MB/s eta 0:00:01\r\u001b[K     |██                              | 112 kB 10.4 MB/s eta 0:00:01\r\u001b[K     |██▏                             | 122 kB 10.4 MB/s eta 0:00:01\r\u001b[K     |██▍                             | 133 kB 10.4 MB/s eta 0:00:01\r\u001b[K     |██▌                             | 143 kB 10.4 MB/s eta 0:00:01\r\u001b[K     |██▊                             | 153 kB 10.4 MB/s eta 0:00:01\r\u001b[K     |██▉                             | 163 kB 10.4 MB/s eta 0:00:01\r\u001b[K     |███                             | 174 kB 10.4 MB/s eta 0:00:01\r\u001b[K     |███▎                            | 184 kB 10.4 MB/s eta 0:00:01\r\u001b[K     |███▍                            | 194 kB 10.4 MB/s eta 0:00:01\r\u001b[K     |███▋                            | 204 kB 10.4 MB/s eta 0:00:01\r\u001b[K     |███▊                            | 215 kB 10.4 MB/s eta 0:00:01\r\u001b[K     |████                            | 225 kB 10.4 MB/s eta 0:00:01\r\u001b[K     |████▏                           | 235 kB 10.4 MB/s eta 0:00:01\r\u001b[K     |████▎                           | 245 kB 10.4 MB/s eta 0:00:01\r\u001b[K     |████▌                           | 256 kB 10.4 MB/s eta 0:00:01\r\u001b[K     |████▊                           | 266 kB 10.4 MB/s eta 0:00:01\r\u001b[K     |████▉                           | 276 kB 10.4 MB/s eta 0:00:01\r\u001b[K     |█████                           | 286 kB 10.4 MB/s eta 0:00:01\r\u001b[K     |█████▏                          | 296 kB 10.4 MB/s eta 0:00:01\r\u001b[K     |█████▍                          | 307 kB 10.4 MB/s eta 0:00:01\r\u001b[K     |█████▋                          | 317 kB 10.4 MB/s eta 0:00:01\r\u001b[K     |█████▊                          | 327 kB 10.4 MB/s eta 0:00:01\r\u001b[K     |██████                          | 337 kB 10.4 MB/s eta 0:00:01\r\u001b[K     |██████                          | 348 kB 10.4 MB/s eta 0:00:01\r\u001b[K     |██████▎                         | 358 kB 10.4 MB/s eta 0:00:01\r\u001b[K     |██████▌                         | 368 kB 10.4 MB/s eta 0:00:01\r\u001b[K     |██████▋                         | 378 kB 10.4 MB/s eta 0:00:01\r\u001b[K     |██████▉                         | 389 kB 10.4 MB/s eta 0:00:01\r\u001b[K     |███████                         | 399 kB 10.4 MB/s eta 0:00:01\r\u001b[K     |███████▏                        | 409 kB 10.4 MB/s eta 0:00:01\r\u001b[K     |███████▍                        | 419 kB 10.4 MB/s eta 0:00:01\r\u001b[K     |███████▌                        | 430 kB 10.4 MB/s eta 0:00:01\r\u001b[K     |███████▊                        | 440 kB 10.4 MB/s eta 0:00:01\r\u001b[K     |████████                        | 450 kB 10.4 MB/s eta 0:00:01\r\u001b[K     |████████                        | 460 kB 10.4 MB/s eta 0:00:01\r\u001b[K     |████████▎                       | 471 kB 10.4 MB/s eta 0:00:01\r\u001b[K     |████████▍                       | 481 kB 10.4 MB/s eta 0:00:01\r\u001b[K     |████████▋                       | 491 kB 10.4 MB/s eta 0:00:01\r\u001b[K     |████████▉                       | 501 kB 10.4 MB/s eta 0:00:01\r\u001b[K     |█████████                       | 512 kB 10.4 MB/s eta 0:00:01\r\u001b[K     |█████████▏                      | 522 kB 10.4 MB/s eta 0:00:01\r\u001b[K     |█████████▍                      | 532 kB 10.4 MB/s eta 0:00:01\r\u001b[K     |█████████▌                      | 542 kB 10.4 MB/s eta 0:00:01\r\u001b[K     |█████████▊                      | 552 kB 10.4 MB/s eta 0:00:01\r\u001b[K     |█████████▉                      | 563 kB 10.4 MB/s eta 0:00:01\r\u001b[K     |██████████                      | 573 kB 10.4 MB/s eta 0:00:01\r\u001b[K     |██████████▎                     | 583 kB 10.4 MB/s eta 0:00:01\r\u001b[K     |██████████▍                     | 593 kB 10.4 MB/s eta 0:00:01\r\u001b[K     |██████████▋                     | 604 kB 10.4 MB/s eta 0:00:01\r\u001b[K     |██████████▊                     | 614 kB 10.4 MB/s eta 0:00:01\r\u001b[K     |███████████                     | 624 kB 10.4 MB/s eta 0:00:01\r\u001b[K     |███████████▏                    | 634 kB 10.4 MB/s eta 0:00:01\r\u001b[K     |███████████▎                    | 645 kB 10.4 MB/s eta 0:00:01\r\u001b[K     |███████████▌                    | 655 kB 10.4 MB/s eta 0:00:01\r\u001b[K     |███████████▊                    | 665 kB 10.4 MB/s eta 0:00:01\r\u001b[K     |███████████▉                    | 675 kB 10.4 MB/s eta 0:00:01\r\u001b[K     |████████████                    | 686 kB 10.4 MB/s eta 0:00:01\r\u001b[K     |████████████▏                   | 696 kB 10.4 MB/s eta 0:00:01\r\u001b[K     |████████████▍                   | 706 kB 10.4 MB/s eta 0:00:01\r\u001b[K     |████████████▋                   | 716 kB 10.4 MB/s eta 0:00:01\r\u001b[K     |████████████▊                   | 727 kB 10.4 MB/s eta 0:00:01\r\u001b[K     |█████████████                   | 737 kB 10.4 MB/s eta 0:00:01\r\u001b[K     |█████████████                   | 747 kB 10.4 MB/s eta 0:00:01\r\u001b[K     |█████████████▎                  | 757 kB 10.4 MB/s eta 0:00:01\r\u001b[K     |█████████████▌                  | 768 kB 10.4 MB/s eta 0:00:01\r\u001b[K     |█████████████▋                  | 778 kB 10.4 MB/s eta 0:00:01\r\u001b[K     |█████████████▉                  | 788 kB 10.4 MB/s eta 0:00:01\r\u001b[K     |██████████████                  | 798 kB 10.4 MB/s eta 0:00:01\r\u001b[K     |██████████████▏                 | 808 kB 10.4 MB/s eta 0:00:01\r\u001b[K     |██████████████▍                 | 819 kB 10.4 MB/s eta 0:00:01\r\u001b[K     |██████████████▌                 | 829 kB 10.4 MB/s eta 0:00:01\r\u001b[K     |██████████████▊                 | 839 kB 10.4 MB/s eta 0:00:01\r\u001b[K     |███████████████                 | 849 kB 10.4 MB/s eta 0:00:01\r\u001b[K     |███████████████                 | 860 kB 10.4 MB/s eta 0:00:01\r\u001b[K     |███████████████▎                | 870 kB 10.4 MB/s eta 0:00:01\r\u001b[K     |███████████████▍                | 880 kB 10.4 MB/s eta 0:00:01\r\u001b[K     |███████████████▋                | 890 kB 10.4 MB/s eta 0:00:01\r\u001b[K     |███████████████▉                | 901 kB 10.4 MB/s eta 0:00:01\r\u001b[K     |████████████████                | 911 kB 10.4 MB/s eta 0:00:01\r\u001b[K     |████████████████▏               | 921 kB 10.4 MB/s eta 0:00:01\r\u001b[K     |████████████████▍               | 931 kB 10.4 MB/s eta 0:00:01\r\u001b[K     |████████████████▌               | 942 kB 10.4 MB/s eta 0:00:01\r\u001b[K     |████████████████▊               | 952 kB 10.4 MB/s eta 0:00:01\r\u001b[K     |████████████████▉               | 962 kB 10.4 MB/s eta 0:00:01\r\u001b[K     |█████████████████               | 972 kB 10.4 MB/s eta 0:00:01\r\u001b[K     |█████████████████▎              | 983 kB 10.4 MB/s eta 0:00:01\r\u001b[K     |█████████████████▍              | 993 kB 10.4 MB/s eta 0:00:01\r\u001b[K     |█████████████████▋              | 1.0 MB 10.4 MB/s eta 0:00:01\r\u001b[K     |█████████████████▉              | 1.0 MB 10.4 MB/s eta 0:00:01\r\u001b[K     |██████████████████              | 1.0 MB 10.4 MB/s eta 0:00:01\r\u001b[K     |██████████████████▏             | 1.0 MB 10.4 MB/s eta 0:00:01\r\u001b[K     |██████████████████▎             | 1.0 MB 10.4 MB/s eta 0:00:01\r\u001b[K     |██████████████████▌             | 1.1 MB 10.4 MB/s eta 0:00:01\r\u001b[K     |██████████████████▊             | 1.1 MB 10.4 MB/s eta 0:00:01\r\u001b[K     |██████████████████▉             | 1.1 MB 10.4 MB/s eta 0:00:01\r\u001b[K     |███████████████████             | 1.1 MB 10.4 MB/s eta 0:00:01\r\u001b[K     |███████████████████▏            | 1.1 MB 10.4 MB/s eta 0:00:01\r\u001b[K     |███████████████████▍            | 1.1 MB 10.4 MB/s eta 0:00:01\r\u001b[K     |███████████████████▋            | 1.1 MB 10.4 MB/s eta 0:00:01\r\u001b[K     |███████████████████▊            | 1.1 MB 10.4 MB/s eta 0:00:01\r\u001b[K     |████████████████████            | 1.1 MB 10.4 MB/s eta 0:00:01\r\u001b[K     |████████████████████▏           | 1.1 MB 10.4 MB/s eta 0:00:01\r\u001b[K     |████████████████████▎           | 1.2 MB 10.4 MB/s eta 0:00:01\r\u001b[K     |████████████████████▌           | 1.2 MB 10.4 MB/s eta 0:00:01\r\u001b[K     |████████████████████▋           | 1.2 MB 10.4 MB/s eta 0:00:01\r\u001b[K     |████████████████████▉           | 1.2 MB 10.4 MB/s eta 0:00:01\r\u001b[K     |█████████████████████           | 1.2 MB 10.4 MB/s eta 0:00:01\r\u001b[K     |█████████████████████▏          | 1.2 MB 10.4 MB/s eta 0:00:01\r\u001b[K     |█████████████████████▍          | 1.2 MB 10.4 MB/s eta 0:00:01\r\u001b[K     |█████████████████████▌          | 1.2 MB 10.4 MB/s eta 0:00:01\r\u001b[K     |█████████████████████▊          | 1.2 MB 10.4 MB/s eta 0:00:01\r\u001b[K     |██████████████████████          | 1.2 MB 10.4 MB/s eta 0:00:01\r\u001b[K     |██████████████████████          | 1.3 MB 10.4 MB/s eta 0:00:01\r\u001b[K     |██████████████████████▎         | 1.3 MB 10.4 MB/s eta 0:00:01\r\u001b[K     |██████████████████████▌         | 1.3 MB 10.4 MB/s eta 0:00:01\r\u001b[K     |██████████████████████▋         | 1.3 MB 10.4 MB/s eta 0:00:01\r\u001b[K     |██████████████████████▉         | 1.3 MB 10.4 MB/s eta 0:00:01\r\u001b[K     |███████████████████████         | 1.3 MB 10.4 MB/s eta 0:00:01\r\u001b[K     |███████████████████████▏        | 1.3 MB 10.4 MB/s eta 0:00:01\r\u001b[K     |███████████████████████▍        | 1.3 MB 10.4 MB/s eta 0:00:01\r\u001b[K     |███████████████████████▌        | 1.3 MB 10.4 MB/s eta 0:00:01\r\u001b[K     |███████████████████████▊        | 1.4 MB 10.4 MB/s eta 0:00:01\r\u001b[K     |███████████████████████▉        | 1.4 MB 10.4 MB/s eta 0:00:01\r\u001b[K     |████████████████████████        | 1.4 MB 10.4 MB/s eta 0:00:01\r\u001b[K     |████████████████████████▎       | 1.4 MB 10.4 MB/s eta 0:00:01\r\u001b[K     |████████████████████████▍       | 1.4 MB 10.4 MB/s eta 0:00:01\r\u001b[K     |████████████████████████▋       | 1.4 MB 10.4 MB/s eta 0:00:01\r\u001b[K     |████████████████████████▉       | 1.4 MB 10.4 MB/s eta 0:00:01\r\u001b[K     |█████████████████████████       | 1.4 MB 10.4 MB/s eta 0:00:01\r\u001b[K     |█████████████████████████▏      | 1.4 MB 10.4 MB/s eta 0:00:01\r\u001b[K     |█████████████████████████▎      | 1.4 MB 10.4 MB/s eta 0:00:01\r\u001b[K     |█████████████████████████▌      | 1.5 MB 10.4 MB/s eta 0:00:01\r\u001b[K     |█████████████████████████▊      | 1.5 MB 10.4 MB/s eta 0:00:01\r\u001b[K     |█████████████████████████▉      | 1.5 MB 10.4 MB/s eta 0:00:01\r\u001b[K     |██████████████████████████      | 1.5 MB 10.4 MB/s eta 0:00:01\r\u001b[K     |██████████████████████████▏     | 1.5 MB 10.4 MB/s eta 0:00:01\r\u001b[K     |██████████████████████████▍     | 1.5 MB 10.4 MB/s eta 0:00:01\r\u001b[K     |██████████████████████████▋     | 1.5 MB 10.4 MB/s eta 0:00:01\r\u001b[K     |██████████████████████████▊     | 1.5 MB 10.4 MB/s eta 0:00:01\r\u001b[K     |███████████████████████████     | 1.5 MB 10.4 MB/s eta 0:00:01\r\u001b[K     |███████████████████████████▏    | 1.5 MB 10.4 MB/s eta 0:00:01\r\u001b[K     |███████████████████████████▎    | 1.6 MB 10.4 MB/s eta 0:00:01\r\u001b[K     |███████████████████████████▌    | 1.6 MB 10.4 MB/s eta 0:00:01\r\u001b[K     |███████████████████████████▋    | 1.6 MB 10.4 MB/s eta 0:00:01\r\u001b[K     |███████████████████████████▉    | 1.6 MB 10.4 MB/s eta 0:00:01\r\u001b[K     |████████████████████████████    | 1.6 MB 10.4 MB/s eta 0:00:01\r\u001b[K     |████████████████████████████▏   | 1.6 MB 10.4 MB/s eta 0:00:01\r\u001b[K     |████████████████████████████▍   | 1.6 MB 10.4 MB/s eta 0:00:01\r\u001b[K     |████████████████████████████▌   | 1.6 MB 10.4 MB/s eta 0:00:01\r\u001b[K     |████████████████████████████▊   | 1.6 MB 10.4 MB/s eta 0:00:01\r\u001b[K     |█████████████████████████████   | 1.6 MB 10.4 MB/s eta 0:00:01\r\u001b[K     |█████████████████████████████   | 1.7 MB 10.4 MB/s eta 0:00:01\r\u001b[K     |█████████████████████████████▎  | 1.7 MB 10.4 MB/s eta 0:00:01\r\u001b[K     |█████████████████████████████▌  | 1.7 MB 10.4 MB/s eta 0:00:01\r\u001b[K     |█████████████████████████████▋  | 1.7 MB 10.4 MB/s eta 0:00:01\r\u001b[K     |█████████████████████████████▉  | 1.7 MB 10.4 MB/s eta 0:00:01\r\u001b[K     |██████████████████████████████  | 1.7 MB 10.4 MB/s eta 0:00:01\r\u001b[K     |██████████████████████████████▏ | 1.7 MB 10.4 MB/s eta 0:00:01\r\u001b[K     |██████████████████████████████▍ | 1.7 MB 10.4 MB/s eta 0:00:01\r\u001b[K     |██████████████████████████████▌ | 1.7 MB 10.4 MB/s eta 0:00:01\r\u001b[K     |██████████████████████████████▊ | 1.8 MB 10.4 MB/s eta 0:00:01\r\u001b[K     |██████████████████████████████▉ | 1.8 MB 10.4 MB/s eta 0:00:01\r\u001b[K     |███████████████████████████████ | 1.8 MB 10.4 MB/s eta 0:00:01\r\u001b[K     |███████████████████████████████▎| 1.8 MB 10.4 MB/s eta 0:00:01\r\u001b[K     |███████████████████████████████▍| 1.8 MB 10.4 MB/s eta 0:00:01\r\u001b[K     |███████████████████████████████▋| 1.8 MB 10.4 MB/s eta 0:00:01\r\u001b[K     |███████████████████████████████▉| 1.8 MB 10.4 MB/s eta 0:00:01\r\u001b[K     |████████████████████████████████| 1.8 MB 10.4 MB/s eta 0:00:01\r\u001b[K     |████████████████████████████████| 1.8 MB 10.4 MB/s \n",
            "\u001b[?25hRequirement already satisfied: numpy in /usr/local/lib/python3.7/dist-packages (from pygam) (1.19.5)\n",
            "Requirement already satisfied: progressbar2 in /usr/local/lib/python3.7/dist-packages (from pygam) (3.38.0)\n",
            "Requirement already satisfied: scipy in /usr/local/lib/python3.7/dist-packages (from pygam) (1.4.1)\n",
            "Requirement already satisfied: future in /usr/local/lib/python3.7/dist-packages (from pygam) (0.16.0)\n",
            "Requirement already satisfied: python-utils>=2.3.0 in /usr/local/lib/python3.7/dist-packages (from progressbar2->pygam) (2.5.6)\n",
            "Requirement already satisfied: six in /usr/local/lib/python3.7/dist-packages (from progressbar2->pygam) (1.15.0)\n",
            "Installing collected packages: pygam\n",
            "Successfully installed pygam-0.8.0\n"
          ]
        }
      ]
    },
    {
      "cell_type": "code",
      "source": [
        "!pip install dmba"
      ],
      "metadata": {
        "colab": {
          "base_uri": "https://localhost:8080/"
        },
        "id": "4XLRBKr0YR9e",
        "outputId": "12c3c5fa-006c-4406-e787-3b6935b58ec7"
      },
      "execution_count": 2,
      "outputs": [
        {
          "output_type": "stream",
          "name": "stdout",
          "text": [
            "Collecting dmba\n",
            "  Downloading dmba-0.0.19-py3-none-any.whl (11.8 MB)\n",
            "\u001b[K     |████████████████████████████████| 11.8 MB 20.5 MB/s \n",
            "\u001b[?25hInstalling collected packages: dmba\n",
            "Successfully installed dmba-0.0.19\n"
          ]
        }
      ]
    },
    {
      "cell_type": "code",
      "source": [
        "from pathlib import Path\n",
        "\n",
        "import pandas as pd\n",
        "import numpy as np\n",
        "from sklearn.metrics import r2_score, mean_squared_error\n",
        "from sklearn.linear_model import LinearRegression\n",
        "\n",
        "import statsmodels.api as sm\n",
        "import statsmodels.formula.api as smf\n",
        "from statsmodels.stats.outliers_influence import OLSInfluence\n",
        "\n",
        "from pygam import LinearGAM, s, l\n",
        "from pygam.datasets import wage\n",
        "\n",
        "\n",
        "import seaborn as sns\n",
        "import matplotlib.pyplot as plt\n",
        "\n",
        "from dmba import stepwise_selection\n",
        "from dmba import AIC_score"
      ],
      "metadata": {
        "colab": {
          "base_uri": "https://localhost:8080/"
        },
        "id": "vU2Vn6Y0XxdY",
        "outputId": "c14cef99-cf39-4dfd-e513-64085dd48952"
      },
      "execution_count": 3,
      "outputs": [
        {
          "output_type": "stream",
          "name": "stderr",
          "text": [
            "/usr/local/lib/python3.7/dist-packages/statsmodels/tools/_testing.py:19: FutureWarning: pandas.util.testing is deprecated. Use the functions in the public API at pandas.testing instead.\n",
            "  import pandas.util.testing as tm\n"
          ]
        },
        {
          "output_type": "stream",
          "name": "stdout",
          "text": [
            "no display found. Using non-interactive Agg backend\n"
          ]
        }
      ]
    },
    {
      "cell_type": "code",
      "source": [
        "%matplotlib inline"
      ],
      "metadata": {
        "id": "dk8FIsWOYnoD"
      },
      "execution_count": 4,
      "outputs": []
    },
    {
      "cell_type": "code",
      "source": [
        "# try:\n",
        "#     import common\n",
        "#     DATA = common.dataDirectory()\n",
        "# except ImportError:\n",
        "#     DATA = Path().resolve() / 'data'"
      ],
      "metadata": {
        "id": "2bKnUqLRX6jd"
      },
      "execution_count": null,
      "outputs": []
    },
    {
      "cell_type": "markdown",
      "source": [
        "Define paths to data sets. If you don't keep your data in the same directory as the code, adapt the path names."
      ],
      "metadata": {
        "id": "06KIF10_Yp0y"
      }
    },
    {
      "cell_type": "code",
      "source": [
        "# LUNG_CSV = DATA / 'LungDisease.csv'\n",
        "# HOUSE_CSV = DATA / 'house_sales.csv'\n",
        "\n",
        "DATA = 'https://raw.githubusercontent.com/young-hwanlee/practical-statistics-for-data-scientists/master/data/'\n",
        "\n",
        "LUNG_CSV = DATA + 'LungDisease.csv'\n",
        "HOUSE_CSV = DATA + 'house_sales.csv'"
      ],
      "metadata": {
        "id": "HixYOzs9ZTY7"
      },
      "execution_count": 5,
      "outputs": []
    },
    {
      "cell_type": "markdown",
      "source": [
        "## **4.1 Simple Linear Regression**\n",
        "### **4.1.1 The Regression Equation**"
      ],
      "metadata": {
        "id": "fkN4y8cxZbl-"
      }
    },
    {
      "cell_type": "code",
      "source": [
        "lung = pd.read_csv(LUNG_CSV)\n",
        "\n",
        "lung.plot.scatter(x='Exposure', y='PEFR')\n",
        "\n",
        "plt.tight_layout()\n",
        "plt.show()"
      ],
      "metadata": {
        "colab": {
          "base_uri": "https://localhost:8080/",
          "height": 297
        },
        "id": "4zzZAg1DZYRZ",
        "outputId": "25dc0bae-8327-4dba-b2c4-065e15b6cc3c"
      },
      "execution_count": 6,
      "outputs": [
        {
          "output_type": "display_data",
          "data": {
            "image/png": "[encoded data removed]",
            "text/plain": [
              "<Figure size 432x288 with 1 Axes>"
            ]
          },
          "metadata": {
            "needs_background": "light"
          }
        }
      ]
    },
    {
      "cell_type": "markdown",
      "source": [
        "We can use the `LinearRegression` model from _scikit-learn_."
      ],
      "metadata": {
        "id": "rg9KD7YoaT8R"
      }
    },
    {
      "cell_type": "code",
      "source": [
        "predictors = ['Exposure']\n",
        "outcome = 'PEFR'\n",
        "\n",
        "model = LinearRegression()\n",
        "model.fit(lung[predictors], lung[outcome])\n",
        "\n",
        "print(f'Intercept: {model.intercept_:.3f}')\n",
        "print(f'Coefficient Exposure: {model.coef_[0]:.3f}')"
      ],
      "metadata": {
        "colab": {
          "base_uri": "https://localhost:8080/"
        },
        "id": "CBBZzXIGadOQ",
        "outputId": "b0f0c8bd-e219-44a8-d948-f4de58b6d662"
      },
      "execution_count": 7,
      "outputs": [
        {
          "output_type": "stream",
          "name": "stdout",
          "text": [
            "Intercept: 424.583\n",
            "Coefficient Exposure: -4.185\n"
          ]
        }
      ]
    },
    {
      "cell_type": "code",
      "source": [
        "fig, ax = plt.subplots(figsize=(4, 4))\n",
        "ax.set_xlim(0, 23)\n",
        "ax.set_ylim(295, 450)\n",
        "ax.set_xlabel('Exposure')\n",
        "ax.set_ylabel('PEFR')\n",
        "ax.plot((0, 23), model.predict([[0], [23]]))\n",
        "ax.text(0.4, model.intercept_, r'$b_0$', size='larger')\n",
        "\n",
        "x = [[7.5], [17.5]]\n",
        "y = model.predict(x)\n",
        "ax.plot((7.5, 7.5, 17.5), (y[0], y[1], y[1]), '--')\n",
        "ax.text(5, np.mean(y), r'$\\Delta Y$', size='larger')\n",
        "ax.text(12, y[1] - 10, r'$\\Delta X$', size='larger')\n",
        "ax.text(12, 390, r'$b_1 = \\frac{\\Delta Y}{\\Delta X}$', size='larger')\n",
        "\n",
        "plt.tight_layout()\n",
        "plt.show()"
      ],
      "metadata": {
        "colab": {
          "base_uri": "https://localhost:8080/",
          "height": 386
        },
        "id": "ETexUeWmagiR",
        "outputId": "b0d38f34-e823-46f4-91bb-cd070beea504"
      },
      "execution_count": 8,
      "outputs": [
        {
          "output_type": "stream",
          "name": "stderr",
          "text": [
            "/usr/local/lib/python3.7/dist-packages/sklearn/base.py:446: UserWarning: X does not have valid feature names, but LinearRegression was fitted with feature names\n",
            "  \"X does not have valid feature names, but\"\n",
            "/usr/local/lib/python3.7/dist-packages/sklearn/base.py:446: UserWarning: X does not have valid feature names, but LinearRegression was fitted with feature names\n",
            "  \"X does not have valid feature names, but\"\n"
          ]
        },
        {
          "output_type": "display_data",
          "data": {
            "image/png": "[encoded data removed]",
            "text/plain": [
              "<Figure size 288x288 with 1 Axes>"
            ]
          },
          "metadata": {
            "needs_background": "light"
          }
        }
      ]
    },
    {
      "cell_type": "code",
      "source": [
        "lung.plot.scatter(x='Exposure', y='PEFR')\n",
        "plt.plot((0, 23), model.predict([[0], [23]]))\n",
        "\n",
        "plt.tight_layout()\n",
        "plt.show()"
      ],
      "metadata": {
        "colab": {
          "base_uri": "https://localhost:8080/",
          "height": 352
        },
        "id": "qaN41IOD7W-Z",
        "outputId": "ee9c81f4-9443-4d29-995a-fb519831dcbc"
      },
      "execution_count": 9,
      "outputs": [
        {
          "output_type": "stream",
          "name": "stderr",
          "text": [
            "/usr/local/lib/python3.7/dist-packages/sklearn/base.py:446: UserWarning: X does not have valid feature names, but LinearRegression was fitted with feature names\n",
            "  \"X does not have valid feature names, but\"\n"
          ]
        },
        {
          "output_type": "display_data",
          "data": {
            "image/png": "[encoded data removed]",
            "text/plain": [
              "<Figure size 432x288 with 1 Axes>"
            ]
          },
          "metadata": {
            "needs_background": "light"
          }
        }
      ]
    },
    {
      "cell_type": "markdown",
      "source": [
        "### **4.1.2 Fitted Values and Residuals**"
      ],
      "metadata": {
        "id": "hSRhCAspahqp"
      }
    },
    {
      "cell_type": "markdown",
      "source": [
        "The method `predict` of a fitted _scikit-learn_ model can be used to predict new data points."
      ],
      "metadata": {
        "id": "Ezpripj_awTQ"
      }
    },
    {
      "cell_type": "code",
      "source": [
        "fitted = model.predict(lung[predictors])\n",
        "residuals = lung[outcome] - fitted"
      ],
      "metadata": {
        "id": "agsE4f01bDxb"
      },
      "execution_count": 10,
      "outputs": []
    },
    {
      "cell_type": "code",
      "source": [
        "ax = lung.plot.scatter(x='Exposure', y='PEFR', figsize=(4, 4))\n",
        "ax.plot(lung.Exposure, fitted)\n",
        "for x, yactual, yfitted in zip(lung.Exposure, lung.PEFR, fitted): \n",
        "    ax.plot((x, x), (yactual, yfitted), '--', color='C1')\n",
        "\n",
        "plt.tight_layout()\n",
        "plt.show()"
      ],
      "metadata": {
        "colab": {
          "base_uri": "https://localhost:8080/",
          "height": 297
        },
        "id": "UH36SKNTbGHh",
        "outputId": "cdf49d65-10ef-4187-b909-7da4e7299623"
      },
      "execution_count": 11,
      "outputs": [
        {
          "output_type": "display_data",
          "data": {
            "image/png": "[encoded data removed]",
            "text/plain": [
              "<Figure size 288x288 with 1 Axes>"
            ]
          },
          "metadata": {
            "needs_background": "light"
          }
        }
      ]
    },
    {
      "cell_type": "code",
      "source": [
        "ax = lung.plot.scatter(x='Exposure', y='PEFR', figsize=(4, 4))\n",
        "\n",
        "plt.tight_layout()\n",
        "plt.show()"
      ],
      "metadata": {
        "colab": {
          "base_uri": "https://localhost:8080/",
          "height": 297
        },
        "id": "283D3PS--8he",
        "outputId": "9f7673bf-876a-4888-a505-e17b3b2fdfdf"
      },
      "execution_count": 12,
      "outputs": [
        {
          "output_type": "display_data",
          "data": {
            "image/png": "[encoded data removed]",
            "text/plain": [
              "<Figure size 288x288 with 1 Axes>"
            ]
          },
          "metadata": {
            "needs_background": "light"
          }
        }
      ]
    },
    {
      "cell_type": "markdown",
      "source": [
        "## **4.2 Multiple linear regression**"
      ],
      "metadata": {
        "id": "aFdhNc8PbHiK"
      }
    },
    {
      "cell_type": "code",
      "source": [
        "subset = ['AdjSalePrice', 'SqFtTotLiving', 'SqFtLot', 'Bathrooms', \n",
        "          'Bedrooms', 'BldgGrade']\n",
        "\n",
        "house = pd.read_csv(HOUSE_CSV, sep='\\t')\n",
        "print(house[subset].head())"
      ],
      "metadata": {
        "id": "-5HAnvUcbSzQ"
      },
      "execution_count": null,
      "outputs": []
    },
    {
      "cell_type": "code",
      "source": [
        "predictors = ['SqFtTotLiving', 'SqFtLot', 'Bathrooms', \n",
        "              'Bedrooms', 'BldgGrade']\n",
        "outcome = 'AdjSalePrice'\n",
        "\n",
        "house_lm = LinearRegression()\n",
        "house_lm.fit(house[predictors], house[outcome])\n",
        "\n",
        "print(f'Intercept: {house_lm.intercept_:.3f}')\n",
        "print('Coefficients:')\n",
        "for name, coef in zip(predictors, house_lm.coef_):\n",
        "    print(f' {name}: {coef}')"
      ],
      "metadata": {
        "id": "yt2IcLA4bVEo"
      },
      "execution_count": null,
      "outputs": []
    },
    {
      "cell_type": "markdown",
      "source": [
        "### **4.2.2 Assessing the Model**"
      ],
      "metadata": {
        "id": "UAyiTx7-bYkB"
      }
    },
    {
      "cell_type": "markdown",
      "source": [
        "_Scikit-learn_ provides a number of metrics to determine the quality of a model. Here we use the `r2_score`."
      ],
      "metadata": {
        "id": "CTJMDzA2bftk"
      }
    },
    {
      "cell_type": "code",
      "source": [
        "fitted = house_lm.predict(house[predictors])\n",
        "RMSE = np.sqrt(mean_squared_error(house[outcome], fitted))\n",
        "r2 = r2_score(house[outcome], fitted)\n",
        "print(f'RMSE: {RMSE:.0f}')\n",
        "print(f'r2: {r2:.4f}')"
      ],
      "metadata": {
        "id": "kjY4NS2jblTY"
      },
      "execution_count": null,
      "outputs": []
    },
    {
      "cell_type": "markdown",
      "source": [
        "While _scikit-learn_ provides a variety of different metrics, _statsmodels_ provides a more in-depth analysis of the linear regression model. This package has two different ways of specifying the model, one that is similar to _scikit-learn_ and one that allows specifying _R_-style formulas. Here we use the first approach. As _statsmodels_ doesn't add an intercept automaticaly, we need to add a constant column with value 1 to the predictors. We can use the _pandas_ method assign for this."
      ],
      "metadata": {
        "id": "nPKIYZWObpfM"
      }
    },
    {
      "cell_type": "code",
      "source": [
        "model = sm.OLS(house[outcome], house[predictors].assign(const=1))\n",
        "results = model.fit()\n",
        "print(results.summary())"
      ],
      "metadata": {
        "id": "rb5nxmH4bpBK"
      },
      "execution_count": null,
      "outputs": []
    },
    {
      "cell_type": "markdown",
      "source": [
        "### **4.2.4 Model Selection and Stepwise Regression**"
      ],
      "metadata": {
        "id": "DOsaAqK2buGL"
      }
    },
    {
      "cell_type": "code",
      "source": [
        "predictors = ['SqFtTotLiving', 'SqFtLot', 'Bathrooms', 'Bedrooms',\n",
        "              'BldgGrade', 'PropertyType', 'NbrLivingUnits',\n",
        "              'SqFtFinBasement', 'YrBuilt', 'YrRenovated', \n",
        "              'NewConstruction']\n",
        "\n",
        "X = pd.get_dummies(house[predictors], drop_first=True)\n",
        "X['NewConstruction'] = [1 if nc else 0 for nc in X['NewConstruction']]\n",
        "\n",
        "house_full = sm.OLS(house[outcome], X.assign(const=1))\n",
        "results = house_full.fit()\n",
        "print(results.summary())"
      ],
      "metadata": {
        "id": "ksTzTP2Lb3n7"
      },
      "execution_count": null,
      "outputs": []
    },
    {
      "cell_type": "markdown",
      "source": [
        "We can use the `stepwise_selection` method from the _dmba_ package."
      ],
      "metadata": {
        "id": "btYZ3S8sb8iO"
      }
    },
    {
      "cell_type": "code",
      "source": [
        "y = house[outcome]\n",
        "\n",
        "def train_model(variables):\n",
        "    if len(variables) == 0:\n",
        "        return None\n",
        "    model = LinearRegression()\n",
        "    model.fit(X[variables], y)\n",
        "    return model\n",
        "\n",
        "def score_model(model, variables):\n",
        "    if len(variables) == 0:\n",
        "        return AIC_score(y, [y.mean()] * len(y), model, df=1)\n",
        "    return AIC_score(y, model.predict(X[variables]), model)\n",
        "\n",
        "best_model, best_variables = stepwise_selection(X.columns, train_model, score_model, \n",
        "                                                verbose=True)\n",
        "\n",
        "print()\n",
        "print(f'Intercept: {best_model.intercept_:.3f}')\n",
        "print('Coefficients:')\n",
        "for name, coef in zip(best_variables, best_model.coef_):\n",
        "    print(f' {name}: {coef}')"
      ],
      "metadata": {
        "id": "DYto6-eCb_2F"
      },
      "execution_count": null,
      "outputs": []
    },
    {
      "cell_type": "markdown",
      "source": [
        "### **4.2.5 Weighted regression**"
      ],
      "metadata": {
        "id": "NavqkpSAcEdk"
      }
    },
    {
      "cell_type": "markdown",
      "source": [
        "We can calculate the Year from the date column using either a list comprehension or the data frame's `apply` method."
      ],
      "metadata": {
        "id": "F7R3k632cPCL"
      }
    },
    {
      "cell_type": "code",
      "source": [
        "house['Year'] = [int(date.split('-')[0]) for date in house.DocumentDate]\n",
        "house['Year'] = house.DocumentDate.apply(lambda d: int(d.split('-')[0]))\n",
        "house['Weight'] = house.Year - 2005"
      ],
      "metadata": {
        "id": "11HGHENccRof"
      },
      "execution_count": null,
      "outputs": []
    },
    {
      "cell_type": "code",
      "source": [
        "predictors = ['SqFtTotLiving', 'SqFtLot', 'Bathrooms', \n",
        "              'Bedrooms', 'BldgGrade']\n",
        "outcome = 'AdjSalePrice'\n",
        "\n",
        "house_wt = LinearRegression()\n",
        "house_wt.fit(house[predictors], house[outcome], sample_weight=house.Weight)\n",
        "pd.DataFrame({\n",
        "    'predictor': predictors,\n",
        "    'house_lm': house_lm.coef_,\n",
        "    'house_wt': house_wt.coef_,\n",
        "}).append({\n",
        "    'predictor': 'intercept', \n",
        "    'house_lm': house_lm.intercept_,\n",
        "    'house_wt': house_wt.intercept_,\n",
        "}, ignore_index=True)"
      ],
      "metadata": {
        "id": "JRqm3SjjcU4_"
      },
      "execution_count": null,
      "outputs": []
    },
    {
      "cell_type": "code",
      "source": [
        "residuals = pd.DataFrame({\n",
        "    'abs_residual_lm': np.abs(house_lm.predict(house[predictors]) - house[outcome]),\n",
        "    'abs_residual_wt': np.abs(house_wt.predict(house[predictors]) - house[outcome]),\n",
        "    'Year': house['Year'],\n",
        "})\n",
        "print(residuals.head())\n",
        "# axes = residuals.boxplot(['abs_residual_lm', 'abs_residual_wt'], by='Year', figsize=(10, 4))\n",
        "# axes[0].set_ylim(0, 300000)\n",
        "\n",
        "pd.DataFrame(([year, np.mean(group['abs_residual_lm']), np.mean(group['abs_residual_wt'])] \n",
        "              for year, group in residuals.groupby('Year')),\n",
        "             columns=['Year', 'mean abs_residual_lm', 'mean abs_residual_wt'])\n",
        "# for year, group in residuals.groupby('Year'):\n",
        "#     print(year, np.mean(group['abs_residual_lm']), np.mean(group['abs_residual_wt']))"
      ],
      "metadata": {
        "id": "MlK2F-mocZe7"
      },
      "execution_count": null,
      "outputs": []
    },
    {
      "cell_type": "markdown",
      "source": [
        "## **4.4 Factor variables in regression**\n",
        "### **4.4.1 Dummy Variables Representation**"
      ],
      "metadata": {
        "id": "RHclmluWcb03"
      }
    },
    {
      "cell_type": "code",
      "source": [
        "print(house.PropertyType.head())"
      ],
      "metadata": {
        "id": "2Fh_Il9scyK0"
      },
      "execution_count": null,
      "outputs": []
    },
    {
      "cell_type": "code",
      "source": [
        "print(pd.get_dummies(house['PropertyType']).head(6))"
      ],
      "metadata": {
        "id": "Z5OlnLxPc0dU"
      },
      "execution_count": null,
      "outputs": []
    },
    {
      "cell_type": "code",
      "source": [
        "print(pd.get_dummies(house['PropertyType'], drop_first=True).head(6))"
      ],
      "metadata": {
        "id": "vFpdt4Lbc109"
      },
      "execution_count": null,
      "outputs": []
    },
    {
      "cell_type": "code",
      "source": [
        "predictors = ['SqFtTotLiving', 'SqFtLot', 'Bathrooms', 'Bedrooms',\n",
        "              'BldgGrade', 'PropertyType']\n",
        "\n",
        "X = pd.get_dummies(house[predictors], drop_first=True)\n",
        "\n",
        "house_lm_factor = LinearRegression()\n",
        "house_lm_factor.fit(X, house[outcome])\n",
        "\n",
        "print(f'Intercept: {house_lm_factor.intercept_:.3f}')\n",
        "print('Coefficients:')\n",
        "for name, coef in zip(X.columns, house_lm_factor.coef_):\n",
        "    print(f' {name}: {coef}')"
      ],
      "metadata": {
        "id": "LZClCXUFc4h1"
      },
      "execution_count": null,
      "outputs": []
    },
    {
      "cell_type": "markdown",
      "source": [
        "### **4.4.2 Factor Variables with many levels**"
      ],
      "metadata": {
        "id": "CQxecaWSc7lK"
      }
    },
    {
      "cell_type": "code",
      "source": [
        "print(pd.DataFrame(house['ZipCode'].value_counts()).transpose())"
      ],
      "metadata": {
        "id": "MOjxTLv_dBwB"
      },
      "execution_count": null,
      "outputs": []
    },
    {
      "cell_type": "code",
      "source": [
        "house = pd.read_csv(HOUSE_CSV, sep='\\t')\n",
        "\n",
        "predictors = ['SqFtTotLiving', 'SqFtLot', 'Bathrooms', \n",
        "              'Bedrooms', 'BldgGrade']\n",
        "outcome = 'AdjSalePrice'\n",
        "\n",
        "house_lm = LinearRegression()\n",
        "house_lm.fit(house[predictors], house[outcome])\n",
        "\n",
        "\n",
        "zip_groups = pd.DataFrame([\n",
        "    *pd.DataFrame({\n",
        "        'ZipCode': house['ZipCode'],\n",
        "        'residual' : house[outcome] - house_lm.predict(house[predictors]),\n",
        "    })\n",
        "    .groupby(['ZipCode'])\n",
        "    .apply(lambda x: {\n",
        "        'ZipCode': x.iloc[0,0],\n",
        "        'count': len(x),\n",
        "        'median_residual': x.residual.median()\n",
        "    })\n",
        "]).sort_values('median_residual')\n",
        "zip_groups['cum_count'] = np.cumsum(zip_groups['count'])\n",
        "zip_groups['ZipGroup'] = pd.qcut(zip_groups['cum_count'], 5, labels=False, retbins=False)\n",
        "zip_groups.head()\n",
        "print(zip_groups.ZipGroup.value_counts().sort_index())"
      ],
      "metadata": {
        "id": "Fsgd9wP2dHid"
      },
      "execution_count": null,
      "outputs": []
    },
    {
      "cell_type": "code",
      "source": [
        "to_join = zip_groups[['ZipCode', 'ZipGroup']].set_index('ZipCode')\n",
        "house = house.join(to_join, on='ZipCode')\n",
        "house['ZipGroup'] = house['ZipGroup'].astype('category')"
      ],
      "metadata": {
        "id": "AZH96_EfdJdt"
      },
      "execution_count": null,
      "outputs": []
    },
    {
      "cell_type": "markdown",
      "source": [
        "## **4.5 Interpreting the Regression Equation**\n",
        "### **4.5.1 Correlated predictors**"
      ],
      "metadata": {
        "id": "twiOMKlbdPNB"
      }
    },
    {
      "cell_type": "markdown",
      "source": [
        "The results from the stepwise regression are."
      ],
      "metadata": {
        "id": "ZIwh7Rz1dbw_"
      }
    },
    {
      "cell_type": "code",
      "source": [
        "print(f'Intercept: {best_model.intercept_:.3f}')\n",
        "print('Coefficients:')\n",
        "for name, coef in zip(best_variables, best_model.coef_):\n",
        "    print(f' {name}: {coef}')"
      ],
      "metadata": {
        "id": "PoZPHJHzdfnv"
      },
      "execution_count": null,
      "outputs": []
    },
    {
      "cell_type": "code",
      "source": [
        "predictors = ['Bedrooms', 'BldgGrade', 'PropertyType', 'YrBuilt']\n",
        "outcome = 'AdjSalePrice'\n",
        "\n",
        "X = pd.get_dummies(house[predictors], drop_first=True)\n",
        "\n",
        "reduced_lm = LinearRegression()\n",
        "reduced_lm.fit(X, house[outcome])\n",
        "\n",
        "\n",
        "print(f'Intercept: {reduced_lm.intercept_:.3f}')\n",
        "print('Coefficients:')\n",
        "for name, coef in zip(X.columns, reduced_lm.coef_):\n",
        "    print(f' {name}: {coef}')"
      ],
      "metadata": {
        "id": "ed3pssCYdi0p"
      },
      "execution_count": null,
      "outputs": []
    },
    {
      "cell_type": "markdown",
      "source": [
        "### **4.5.3 Confounding variables**"
      ],
      "metadata": {
        "id": "yVnnXrlhdq75"
      }
    },
    {
      "cell_type": "code",
      "source": [
        "predictors = ['SqFtTotLiving', 'SqFtLot', 'Bathrooms', 'Bedrooms',\n",
        "              'BldgGrade', 'PropertyType', 'ZipGroup']\n",
        "outcome = 'AdjSalePrice'\n",
        "\n",
        "X = pd.get_dummies(house[predictors], drop_first=True)\n",
        "\n",
        "confounding_lm = LinearRegression()\n",
        "confounding_lm.fit(X, house[outcome])\n",
        "\n",
        "print(f'Intercept: {confounding_lm.intercept_:.3f}')\n",
        "print('Coefficients:')\n",
        "for name, coef in zip(X.columns, confounding_lm.coef_):\n",
        "    print(f' {name}: {coef}')"
      ],
      "metadata": {
        "id": "4nQQramMeSzT"
      },
      "execution_count": null,
      "outputs": []
    },
    {
      "cell_type": "markdown",
      "source": [
        "### **4.5.4 Interactions and Main Effects**"
      ],
      "metadata": {
        "id": "8-QNQq0NeUUc"
      }
    },
    {
      "cell_type": "code",
      "source": [
        "model = smf.ols(formula='AdjSalePrice ~  SqFtTotLiving*ZipGroup + SqFtLot + ' +\n",
        "     'Bathrooms + Bedrooms + BldgGrade + PropertyType', data=house)\n",
        "results = model.fit()\n",
        "print(results.summary())"
      ],
      "metadata": {
        "id": "oGH35OGsecML"
      },
      "execution_count": null,
      "outputs": []
    },
    {
      "cell_type": "markdown",
      "source": [
        "> Results differ from R due to different binning. Enforcing the same binning gives identical results"
      ],
      "metadata": {
        "id": "yqTOAIHHee7n"
      }
    },
    {
      "cell_type": "markdown",
      "source": [
        "## **4.6 Testing the Assumptions: Regression Diagnostics**\n",
        "### **4.6.1 Outliers**"
      ],
      "metadata": {
        "id": "TR7cN9QSejvY"
      }
    },
    {
      "cell_type": "markdown",
      "source": [
        "The _statsmodels_ package has the most developed support for outlier analysis."
      ],
      "metadata": {
        "id": "LBafB-Zfeunm"
      }
    },
    {
      "cell_type": "code",
      "source": [
        "house_98105 = house.loc[house['ZipCode'] == 98105, ]\n",
        "\n",
        "predictors = ['SqFtTotLiving', 'SqFtLot', 'Bathrooms', 'Bedrooms',\n",
        "              'BldgGrade']\n",
        "outcome = 'AdjSalePrice'\n",
        "\n",
        "house_outlier = sm.OLS(house_98105[outcome], house_98105[predictors].assign(const=1))\n",
        "result_98105 = house_outlier.fit()\n",
        "print(result_98105.summary())"
      ],
      "metadata": {
        "id": "iJnthle8eyKM"
      },
      "execution_count": null,
      "outputs": []
    },
    {
      "cell_type": "markdown",
      "source": [
        "The `OLSInfluence` class is initialized with the OLS regression results and gives access to a number of usefule properties. Here we use the studentized residuals."
      ],
      "metadata": {
        "id": "9Zv7Fq2Ve2BQ"
      }
    },
    {
      "cell_type": "code",
      "source": [
        "influence = OLSInfluence(result_98105)\n",
        "sresiduals = influence.resid_studentized_internal\n",
        "\n",
        "print(sresiduals.idxmin(), sresiduals.min())"
      ],
      "metadata": {
        "id": "qky4j2L6e4e4"
      },
      "execution_count": null,
      "outputs": []
    },
    {
      "cell_type": "code",
      "source": [
        "print(result_98105.resid.loc[sresiduals.idxmin()])"
      ],
      "metadata": {
        "id": "reEGXaLoe6r6"
      },
      "execution_count": null,
      "outputs": []
    },
    {
      "cell_type": "code",
      "source": [
        "outlier = house_98105.loc[sresiduals.idxmin(), :]\n",
        "print('AdjSalePrice', outlier[outcome])\n",
        "print(outlier[predictors])"
      ],
      "metadata": {
        "id": "cAyYmXege9Sg"
      },
      "execution_count": null,
      "outputs": []
    },
    {
      "cell_type": "markdown",
      "source": [
        "### **4.6.2 Influential values**"
      ],
      "metadata": {
        "id": "H88VjLqze_yV"
      }
    },
    {
      "cell_type": "code",
      "source": [
        "from scipy.stats import linregress\n",
        "\n",
        "np.random.seed(5)\n",
        "x = np.random.normal(size=25)\n",
        "y = -x / 5 + np.random.normal(size=25)\n",
        "x[0] = 8\n",
        "y[0] = 8\n",
        "\n",
        "def abline(slope, intercept, ax):\n",
        "    \"\"\"Calculate coordinates of a line based on slope and intercept\"\"\"\n",
        "    x_vals = np.array(ax.get_xlim())\n",
        "    return (x_vals, intercept + slope * x_vals)\n",
        "\n",
        "fig, ax = plt.subplots(figsize=(4, 4))\n",
        "ax.scatter(x, y)\n",
        "slope, intercept, _, _, _ = linregress(x, y)\n",
        "ax.plot(*abline(slope, intercept, ax))\n",
        "slope, intercept, _, _, _ = linregress(x[1:], y[1:])\n",
        "ax.plot(*abline(slope, intercept, ax), '--')\n",
        "ax.set_xlim(-2.5, 8.5)\n",
        "ax.set_ylim(-2.5, 8.5)\n",
        "\n",
        "plt.tight_layout()\n",
        "plt.show()"
      ],
      "metadata": {
        "id": "bc2zb-FzfHyN"
      },
      "execution_count": null,
      "outputs": []
    },
    {
      "cell_type": "markdown",
      "source": [
        "The package _statsmodel_ provides a number of plots to analyze the data point influence."
      ],
      "metadata": {
        "id": "p3d7vHqifJSV"
      }
    },
    {
      "cell_type": "code",
      "source": [
        "influence = OLSInfluence(result_98105)\n",
        "fig, ax = plt.subplots(figsize=(5, 5))\n",
        "ax.axhline(-2.5, linestyle='--', color='C1')\n",
        "ax.axhline(2.5, linestyle='--', color='C1')\n",
        "ax.scatter(influence.hat_matrix_diag, influence.resid_studentized_internal, \n",
        "           s=1000 * np.sqrt(influence.cooks_distance[0]),\n",
        "           alpha=0.5)\n",
        "\n",
        "ax.set_xlabel('hat values')\n",
        "ax.set_ylabel('studentized residuals')\n",
        "\n",
        "plt.tight_layout()\n",
        "plt.show()"
      ],
      "metadata": {
        "id": "pmbQDIFufOJ2"
      },
      "execution_count": null,
      "outputs": []
    },
    {
      "cell_type": "code",
      "source": [
        "mask = [dist < .08 for dist in influence.cooks_distance[0]]\n",
        "house_infl = house_98105.loc[mask]\n",
        "\n",
        "ols_infl = sm.OLS(house_infl[outcome], house_infl[predictors].assign(const=1))\n",
        "result_infl = ols_infl.fit()\n",
        "\n",
        "pd.DataFrame({\n",
        "    'Original': result_98105.params,\n",
        "    'Influential removed': result_infl.params,\n",
        "})"
      ],
      "metadata": {
        "id": "gU51br_kfRca"
      },
      "execution_count": null,
      "outputs": []
    },
    {
      "cell_type": "markdown",
      "source": [
        "### **4.6.3 Heteroskedasticity, Non-Normality and Correlated Errors**"
      ],
      "metadata": {
        "id": "Pgi0V2BzfTDI"
      }
    },
    {
      "cell_type": "markdown",
      "source": [
        "The `regplot` in _seaborn_ allows adding a lowess smoothing line to the scatterplot."
      ],
      "metadata": {
        "id": "sxBmWeWIfZo2"
      }
    },
    {
      "cell_type": "code",
      "source": [
        "fig, ax = plt.subplots(figsize=(5, 5))\n",
        "sns.regplot(x=result_98105.fittedvalues, y=np.abs(result_98105.resid), \n",
        "            scatter_kws={'alpha': 0.25},\n",
        "            line_kws={'color': 'C1'},\n",
        "            lowess=True, ax=ax)\n",
        "ax.set_xlabel('predicted')\n",
        "ax.set_ylabel('abs(residual)')\n",
        "\n",
        "plt.tight_layout()\n",
        "plt.show()"
      ],
      "metadata": {
        "id": "FMiyKLYbfeUu"
      },
      "execution_count": null,
      "outputs": []
    },
    {
      "cell_type": "code",
      "source": [
        "fig, ax = plt.subplots(figsize=(4, 4))\n",
        "pd.Series(influence.resid_studentized_internal).hist(ax=ax)\n",
        "ax.set_xlabel('std. residual')\n",
        "ax.set_ylabel('Frequency')\n",
        "\n",
        "\n",
        "plt.tight_layout()\n",
        "plt.show()"
      ],
      "metadata": {
        "id": "eMsNGakBfhJ8"
      },
      "execution_count": null,
      "outputs": []
    },
    {
      "cell_type": "markdown",
      "source": [
        "### **4.6.4 Partial Residual Plots and Nonlinearity**"
      ],
      "metadata": {
        "id": "jTvizu7ZfjTo"
      }
    },
    {
      "cell_type": "code",
      "source": [
        "fig, ax = plt.subplots(figsize=(5, 5))\n",
        "fig = sm.graphics.plot_ccpr(result_98105, 'SqFtTotLiving', ax=ax)\n",
        "\n",
        "plt.tight_layout()\n",
        "plt.show()"
      ],
      "metadata": {
        "id": "CxAZRVTOfqEo"
      },
      "execution_count": null,
      "outputs": []
    },
    {
      "cell_type": "code",
      "source": [
        "fig = plt.figure(figsize=(8, 12))\n",
        "fig = sm.graphics.plot_ccpr_grid(result_98105, fig=fig)"
      ],
      "metadata": {
        "id": "nV--LJSifqi5"
      },
      "execution_count": null,
      "outputs": []
    },
    {
      "cell_type": "markdown",
      "source": [
        "## **4.7 Polynomial and Spline Regression**"
      ],
      "metadata": {
        "id": "HpR1N07mfu4y"
      }
    },
    {
      "cell_type": "code",
      "source": [
        "model_poly = smf.ols(formula='AdjSalePrice ~  SqFtTotLiving + np.power(SqFtTotLiving, 2) + ' + \n",
        "                'SqFtLot + Bathrooms + Bedrooms + BldgGrade', data=house_98105)\n",
        "result_poly = model_poly.fit()\n",
        "print(result_poly.summary())"
      ],
      "metadata": {
        "id": "8SAL5WpQf2xZ"
      },
      "execution_count": null,
      "outputs": []
    },
    {
      "cell_type": "markdown",
      "source": [
        "The statsmodels implementation of a partial residual plot works only for linear term. Here is an implementation of a partial residual plot that, while inefficient, works for the polynomial regression."
      ],
      "metadata": {
        "id": "GLSG_ToGf3s0"
      }
    },
    {
      "cell_type": "code",
      "source": [
        "def partialResidualPlot(model, df, outcome, feature, ax):\n",
        "    y_pred = model.predict(df)\n",
        "    copy_df = df.copy()\n",
        "    for c in copy_df.columns:\n",
        "        if c == feature:\n",
        "            continue\n",
        "        copy_df[c] = 0.0\n",
        "    feature_prediction = model.predict(copy_df)\n",
        "    results = pd.DataFrame({\n",
        "        'feature': df[feature],\n",
        "        'residual': df[outcome] - y_pred,\n",
        "        'ypartial': feature_prediction - model.params[0],\n",
        "    })\n",
        "    results = results.sort_values(by=['feature'])\n",
        "    smoothed = sm.nonparametric.lowess(results.ypartial, results.feature, frac=1/3)\n",
        "    \n",
        "    ax.scatter(results.feature, results.ypartial + results.residual)\n",
        "    ax.plot(smoothed[:, 0], smoothed[:, 1], color='gray')\n",
        "    ax.plot(results.feature, results.ypartial, color='black')\n",
        "    ax.set_xlabel(feature)\n",
        "    ax.set_ylabel(f'Residual + {feature} contribution')\n",
        "    return ax\n",
        "\n",
        "fig, ax = plt.subplots(figsize=(5, 5))\n",
        "partialResidualPlot(result_poly, house_98105, 'AdjSalePrice', 'SqFtTotLiving', ax)\n",
        "\n",
        "plt.tight_layout()\n",
        "plt.show()\n",
        "print(result_poly.params[2])"
      ],
      "metadata": {
        "id": "3Exq6pn3f-VD"
      },
      "execution_count": null,
      "outputs": []
    },
    {
      "cell_type": "markdown",
      "source": [
        "### **4.7.2 Splines**"
      ],
      "metadata": {
        "id": "E5WJp_ZvgOIT"
      }
    },
    {
      "cell_type": "code",
      "source": [
        "formula = ('AdjSalePrice ~ bs(SqFtTotLiving, df=6, degree=3) + ' + \n",
        "           'SqFtLot + Bathrooms + Bedrooms + BldgGrade')\n",
        "model_spline = smf.ols(formula=formula, data=house_98105)\n",
        "result_spline = model_spline.fit()\n",
        "print(result_spline.summary())"
      ],
      "metadata": {
        "id": "YzgAEh1Bgmdz"
      },
      "execution_count": null,
      "outputs": []
    },
    {
      "cell_type": "code",
      "source": [
        "fig, ax = plt.subplots(figsize=(5, 5))\n",
        "partialResidualPlot(result_spline, house_98105, 'AdjSalePrice', 'SqFtTotLiving', ax)\n",
        "\n",
        "plt.tight_layout()\n",
        "plt.show()"
      ],
      "metadata": {
        "id": "svFyDcJhgo5d"
      },
      "execution_count": null,
      "outputs": []
    },
    {
      "cell_type": "markdown",
      "source": [
        "### **4.7.3 Generalized Additive Models**"
      ],
      "metadata": {
        "id": "p8iQ8Zs_gtRR"
      }
    },
    {
      "cell_type": "code",
      "source": [
        "predictors = ['SqFtTotLiving', 'SqFtLot', 'Bathrooms', \n",
        "              'Bedrooms', 'BldgGrade']\n",
        "outcome = 'AdjSalePrice'\n",
        "X = house_98105[predictors].values\n",
        "y = house_98105[outcome]\n",
        "\n",
        "## model\n",
        "gam = LinearGAM(s(0, n_splines=12) + l(1) + l(2) + l(3) + l(4))\n",
        "gam.gridsearch(X, y)\n",
        "print(gam.summary())"
      ],
      "metadata": {
        "id": "sAT_9VGZg2vX"
      },
      "execution_count": null,
      "outputs": []
    },
    {
      "cell_type": "code",
      "source": [
        "fig, axes = plt.subplots(figsize=(8, 8), ncols=2, nrows=3)\n",
        "\n",
        "titles = ['SqFtTotLiving', 'SqFtLot', 'Bathrooms', 'Bedrooms', 'BldgGrade']\n",
        "for i, title in enumerate(titles):\n",
        "    ax = axes[i // 2, i % 2]\n",
        "    XX = gam.generate_X_grid(term=i)\n",
        "    ax.plot(XX[:, i], gam.partial_dependence(term=i, X=XX))\n",
        "    ax.plot(XX[:, i], gam.partial_dependence(term=i, X=XX, width=.95)[1], c='r', ls='--')\n",
        "    ax.set_title(titles[i]);\n",
        "    \n",
        "axes[2][1].set_visible(False)\n",
        "\n",
        "plt.tight_layout()\n",
        "plt.show()"
      ],
      "metadata": {
        "id": "Zw4s2x7S2bzg"
      },
      "execution_count": null,
      "outputs": []
    },
    {
      "cell_type": "markdown",
      "source": [
        "## **Additional material - not in book**\n",
        "## **Regularization**\n",
        "### **Lasso**"
      ],
      "metadata": {
        "id": "xQhK3oKLg64U"
      }
    },
    {
      "cell_type": "code",
      "source": [
        "from sklearn.linear_model import Lasso, LassoLars, LassoCV, LassoLarsCV\n",
        "from sklearn.preprocessing import StandardScaler\n"
      ],
      "metadata": {
        "id": "7cGb7Vg7hDnD"
      },
      "execution_count": null,
      "outputs": []
    },
    {
      "cell_type": "code",
      "source": [
        "subset = ['AdjSalePrice', 'SqFtTotLiving', 'SqFtLot', 'Bathrooms', \n",
        "          'Bedrooms', 'BldgGrade']\n",
        "\n",
        "house = pd.read_csv(HOUSE_CSV, sep='\\t')\n",
        "print(house[subset].head())"
      ],
      "metadata": {
        "id": "k5Afr854hGlO"
      },
      "execution_count": null,
      "outputs": []
    },
    {
      "cell_type": "code",
      "source": [
        "predictors = ['SqFtTotLiving', 'SqFtLot', 'Bathrooms', 'Bedrooms',\n",
        "              'BldgGrade', 'PropertyType', 'NbrLivingUnits',\n",
        "              'SqFtFinBasement', 'YrBuilt', 'YrRenovated', \n",
        "              'NewConstruction']\n",
        "outcome = 'AdjSalePrice'\n",
        "\n",
        "X = pd.get_dummies(house[predictors], drop_first=True)\n",
        "X['NewConstruction'] = [1 if nc else 0 for nc in X['NewConstruction']]\n",
        "columns = X.columns\n",
        "# X = StandardScaler().fit_transform(X * 1.0)\n",
        "y = house[outcome]\n",
        "\n",
        "house_lm = LinearRegression()\n",
        "print(house_lm.fit(X, y))"
      ],
      "metadata": {
        "id": "v6crkLrj2bu3"
      },
      "execution_count": null,
      "outputs": []
    },
    {
      "cell_type": "code",
      "source": [
        "house_lasso = Lasso(alpha=10)\n",
        "print(house_lasso.fit(X, y))"
      ],
      "metadata": {
        "id": "P1w0euKS2br_"
      },
      "execution_count": null,
      "outputs": []
    },
    {
      "cell_type": "code",
      "source": [
        "Method = LassoLars\n",
        "MethodCV = LassoLarsCV\n",
        "Method = Lasso\n",
        "MethodCV = LassoCV\n",
        "\n",
        "alpha_values = []\n",
        "results = []\n",
        "for alpha in [0.001, 0.01, 0.1, 1, 10, 100, 1000, 10000, 100000, 1000000, 10000000]:\n",
        "    model = Method(alpha=alpha)\n",
        "    model.fit(X, y)\n",
        "    alpha_values.append(alpha)\n",
        "    results.append(model.coef_)\n",
        "modelCV = MethodCV(cv=5)\n",
        "modelCV.fit(X, y)\n",
        "ax = pd.DataFrame(results, index=alpha_values, columns=columns).plot(logx=True, legend=False)\n",
        "ax.axvline(modelCV.alpha_)\n",
        "plt.show()"
      ],
      "metadata": {
        "id": "tsFEt85R2bop"
      },
      "execution_count": null,
      "outputs": []
    },
    {
      "cell_type": "code",
      "source": [
        "pd.DataFrame({\n",
        "    'name': columns,\n",
        "    'coef': modelCV.coef_, \n",
        "})"
      ],
      "metadata": {
        "id": "QYIhEiJA2bhO",
        "colab": {
          "base_uri": "https://localhost:8080/",
          "height": 218
        },
        "outputId": "5f68dc21-45ce-4f43-f665-f89893c10626"
      },
      "execution_count": 1,
      "outputs": [
        {
          "output_type": "error",
          "ename": "NameError",
          "evalue": "ignored",
          "traceback": [
            "\u001b[0;31m---------------------------------------------------------------------------\u001b[0m",
            "\u001b[0;31mNameError\u001b[0m                                 Traceback (most recent call last)",
            "\u001b[0;32m<ipython-input-1-5947c2a72b07>\u001b[0m in \u001b[0;36m<module>\u001b[0;34m()\u001b[0m\n\u001b[0;32m----> 1\u001b[0;31m pd.DataFrame({\n\u001b[0m\u001b[1;32m      2\u001b[0m     \u001b[0;34m'name'\u001b[0m\u001b[0;34m:\u001b[0m \u001b[0mcolumns\u001b[0m\u001b[0;34m,\u001b[0m\u001b[0;34m\u001b[0m\u001b[0;34m\u001b[0m\u001b[0m\n\u001b[1;32m      3\u001b[0m     \u001b[0;34m'coef'\u001b[0m\u001b[0;34m:\u001b[0m \u001b[0mmodelCV\u001b[0m\u001b[0;34m.\u001b[0m\u001b[0mcoef_\u001b[0m\u001b[0;34m,\u001b[0m\u001b[0;34m\u001b[0m\u001b[0;34m\u001b[0m\u001b[0m\n\u001b[1;32m      4\u001b[0m })\n",
            "\u001b[0;31mNameError\u001b[0m: name 'pd' is not defined"
          ]
        }
      ]
    },
    {
      "cell_type": "code",
      "source": [
        "# Intercept: 6177658.144\n",
        "# Coefficients:\n",
        "#  SqFtTotLiving: 199.27474217544048\n",
        "#  BldgGrade: 137181.13724627026\n",
        "#  YrBuilt: -3564.934870415041\n",
        "#  Bedrooms: -51974.76845567939\n",
        "#  Bathrooms: 42403.059999677665\n",
        "#  PropertyType_Townhouse: 84378.9333363999\n",
        "#  SqFtFinBasement: 7.032178917565108\n",
        "#  PropertyType_Single Family: 22854.87954019308"
      ],
      "metadata": {
        "id": "ES2YMjMr2bWm"
      },
      "execution_count": null,
      "outputs": []
    }
  ]
}