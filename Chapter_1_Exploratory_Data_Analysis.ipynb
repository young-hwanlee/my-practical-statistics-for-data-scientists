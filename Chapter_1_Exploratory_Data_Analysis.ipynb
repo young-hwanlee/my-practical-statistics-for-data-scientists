{
  "nbformat": 4,
  "nbformat_minor": 0,
  "metadata": {
    "colab": {
      "name": "Chapter 1 - Exploratory Data Analysis.ipynb",
      "provenance": [],
      "collapsed_sections": [],
      "authorship_tag": "ABX9TyNlb6ZpjXOKXb4TL7Y4EvMT",
      "include_colab_link": true
    },
    "kernelspec": {
      "name": "python3",
      "display_name": "Python 3"
    },
    "language_info": {
      "name": "python"
    }
  },
  "cells": [
    {
      "cell_type": "markdown",
      "metadata": {
        "id": "view-in-github",
        "colab_type": "text"
      },
      "source": [
        "<a href=\"https://colab.research.google.com/github/young-hwanlee/my-practical-statistics-for-data-scientists/blob/main/Chapter_1_Exploratory_Data_Analysis.ipynb\" target=\"_parent\"><img src=\"https://colab.research.google.com/assets/colab-badge.svg\" alt=\"Open In Colab\"/></a>"
      ]
    },
    {
      "cell_type": "markdown",
      "metadata": {
        "id": "GlCQ0BsYZave"
      },
      "source": [
        "# **Practical Statistics for Data Scientists (Python)**\n",
        "# **Chapter 1. Exploratory Data Analysis**\n",
        "> (c) 2019 Peter C. Bruce, Andrew Bruce, and Peter Gedeck"
      ]
    },
    {
      "cell_type": "markdown",
      "metadata": {
        "id": "8b1HM9IUZuT0"
      },
      "source": [
        "Import required Python packeages."
      ]
    },
    {
      "cell_type": "code",
      "metadata": {
        "colab": {
          "base_uri": "https://localhost:8080/"
        },
        "id": "dFo29C8_ZtW8",
        "outputId": "26d946a5-351e-4b24-fa9d-1875dba8268f"
      },
      "source": [
        "%matplotlib inline\n",
        "\n",
        "from pathlib import Path\n",
        "\n",
        "import pandas as pd\n",
        "import numpy as np\n",
        "from scipy.stats import trim_mean\n",
        "from statsmodels import robust\n",
        "\n",
        "!pip install wquantiles\n",
        "import wquantiles\n",
        "\n",
        "import seaborn as sns\n",
        "import matplotlib.pylab as plt"
      ],
      "execution_count": 1,
      "outputs": [
        {
          "output_type": "stream",
          "name": "stderr",
          "text": [
            "/usr/local/lib/python3.7/dist-packages/statsmodels/tools/_testing.py:19: FutureWarning: pandas.util.testing is deprecated. Use the functions in the public API at pandas.testing instead.\n",
            "  import pandas.util.testing as tm\n"
          ]
        },
        {
          "output_type": "stream",
          "name": "stdout",
          "text": [
            "Collecting wquantiles\n",
            "  Downloading wquantiles-0.6-py3-none-any.whl (3.3 kB)\n",
            "Requirement already satisfied: numpy>=1.18 in /usr/local/lib/python3.7/dist-packages (from wquantiles) (1.19.5)\n",
            "Installing collected packages: wquantiles\n",
            "Successfully installed wquantiles-0.6\n"
          ]
        }
      ]
    },
    {
      "cell_type": "code",
      "metadata": {
        "id": "K0oKiwU9Z4MB"
      },
      "source": [
        "# try:\n",
        "#     import common\n",
        "#     DATA = common.dataDirectory()\n",
        "# except ImportError:\n",
        "#     DATA = Path().resolve() / 'data'"
      ],
      "execution_count": 2,
      "outputs": []
    },
    {
      "cell_type": "markdown",
      "metadata": {
        "id": "bseE1hVZZ6Rp"
      },
      "source": [
        "Define paths to data sets. If you don't keep your data in the same directory as the code, adapt the path names."
      ]
    },
    {
      "cell_type": "code",
      "metadata": {
        "id": "PRbaFbu7Z5gh"
      },
      "source": [
        "# AIRLINE_STATS_CSV = DATA / 'airline_stats.csv'\n",
        "# KC_TAX_CSV = DATA / 'kc_tax.csv.gz'\n",
        "# LC_LOANS_CSV = DATA / 'lc_loans.csv'\n",
        "# AIRPORT_DELAYS_CSV = DATA / 'dfw_airline.csv'\n",
        "# SP500_DATA_CSV = DATA / 'sp500_data.csv.gz'\n",
        "# SP500_SECTORS_CSV = DATA / 'sp500_sectors.csv'\n",
        "# STATE_CSV = DATA / 'state.csv'\n",
        "\n",
        "DATA = 'https://raw.githubusercontent.com/young-hwanlee/practical-statistics-for-data-scientists/master/data/'\n",
        "\n",
        "AIRLINE_STATS_CSV = DATA + 'airline_stats.csv'\n",
        "KC_TAX_CSV = DATA + 'kc_tax.csv.gz'\n",
        "LC_LOANS_CSV = DATA + 'lc_loans.csv'\n",
        "AIRPORT_DELAYS_CSV = DATA + 'dfw_airline.csv'\n",
        "SP500_DATA_CSV = DATA + 'sp500_data.csv.gz'\n",
        "SP500_SECTORS_CSV = DATA + 'sp500_sectors.csv'\n",
        "STATE_CSV = DATA + 'state.csv'"
      ],
      "execution_count": 3,
      "outputs": []
    },
    {
      "cell_type": "markdown",
      "metadata": {
        "id": "wFGZaoAzaB3S"
      },
      "source": [
        "## **Estimates of Location**\n",
        "### **Example: Location Estimates of Population and Murder Rates**"
      ]
    },
    {
      "cell_type": "code",
      "metadata": {
        "id": "agoQAh6LazJ5",
        "colab": {
          "base_uri": "https://localhost:8080/"
        },
        "outputId": "d4911634-610e-43e6-ce26-f7f0e87f14d8"
      },
      "source": [
        "# Table 1-2\n",
        "state = pd.read_csv(STATE_CSV)\n",
        "print(state.head(8))"
      ],
      "execution_count": 4,
      "outputs": [
        {
          "output_type": "stream",
          "name": "stdout",
          "text": [
            "         State  Population  Murder.Rate Abbreviation\n",
            "0      Alabama     4779736          5.7           AL\n",
            "1       Alaska      710231          5.6           AK\n",
            "2      Arizona     6392017          4.7           AZ\n",
            "3     Arkansas     2915918          5.6           AR\n",
            "4   California    37253956          4.4           CA\n",
            "5     Colorado     5029196          2.8           CO\n",
            "6  Connecticut     3574097          2.4           CT\n",
            "7     Delaware      897934          5.8           DE\n"
          ]
        }
      ]
    },
    {
      "cell_type": "markdown",
      "metadata": {
        "id": "xre-Z6f2p0-r"
      },
      "source": [
        "Compute the mean, trimmed mean, and median for Population. For mean and median, we can use the pandas methods of the data frame. The trimmed mean requires the trim_mean function in scipy.stats."
      ]
    },
    {
      "cell_type": "code",
      "metadata": {
        "colab": {
          "base_uri": "https://localhost:8080/"
        },
        "id": "ZgI_zXJJp4-4",
        "outputId": "13a4889b-9244-4d75-f0b0-935093033214"
      },
      "source": [
        "state = pd.read_csv(STATE_CSV)\n",
        "print(state['Population'].mean())"
      ],
      "execution_count": 5,
      "outputs": [
        {
          "output_type": "stream",
          "name": "stdout",
          "text": [
            "6162876.3\n"
          ]
        }
      ]
    },
    {
      "cell_type": "code",
      "metadata": {
        "colab": {
          "base_uri": "https://localhost:8080/"
        },
        "id": "tTASxqDEqOri",
        "outputId": "49c1de72-a338-406f-ce77-1a401381c26f"
      },
      "source": [
        "print(trim_mean(state['Population'],0.1))"
      ],
      "execution_count": 6,
      "outputs": [
        {
          "output_type": "stream",
          "name": "stdout",
          "text": [
            "4783697.125\n"
          ]
        }
      ]
    },
    {
      "cell_type": "code",
      "metadata": {
        "colab": {
          "base_uri": "https://localhost:8080/"
        },
        "id": "ftbjhnqAqfq6",
        "outputId": "ce6d5836-0673-400a-fe83-ebeca45f4296"
      },
      "source": [
        "print(state['Population'].median())"
      ],
      "execution_count": 7,
      "outputs": [
        {
          "output_type": "stream",
          "name": "stdout",
          "text": [
            "4436369.5\n"
          ]
        }
      ]
    },
    {
      "cell_type": "markdown",
      "metadata": {
        "id": "eR1Iwh1jqm_q"
      },
      "source": [
        "Weighted mean is available with numpy. For weighted median, we can use the specialized package wquantiles (https://pypi.org/project/wquantiles/)."
      ]
    },
    {
      "cell_type": "code",
      "metadata": {
        "colab": {
          "base_uri": "https://localhost:8080/"
        },
        "id": "hF7tOTjZrMwQ",
        "outputId": "0bfcdc00-5bdd-4f25-b468-88610a8aa85d"
      },
      "source": [
        "print(state['Murder.Rate'].mean())"
      ],
      "execution_count": 8,
      "outputs": [
        {
          "output_type": "stream",
          "name": "stdout",
          "text": [
            "4.066\n"
          ]
        }
      ]
    },
    {
      "cell_type": "code",
      "metadata": {
        "colab": {
          "base_uri": "https://localhost:8080/"
        },
        "id": "kY1g9YPIrYOY",
        "outputId": "ac45dfa9-168b-4d5d-c9ee-a6dfa8d591f3"
      },
      "source": [
        "print(np.average(state['Murder.Rate'],weights=state['Population']))"
      ],
      "execution_count": 9,
      "outputs": [
        {
          "output_type": "stream",
          "name": "stdout",
          "text": [
            "4.445833981123393\n"
          ]
        }
      ]
    },
    {
      "cell_type": "code",
      "metadata": {
        "colab": {
          "base_uri": "https://localhost:8080/"
        },
        "id": "PBJXwXCSrhGI",
        "outputId": "ef53d446-b8e8-4ac5-dcae-3fb0d9993cd7"
      },
      "source": [
        "print(wquantiles.median(state['Murder.Rate'],weights=state['Population']))"
      ],
      "execution_count": 10,
      "outputs": [
        {
          "output_type": "stream",
          "name": "stdout",
          "text": [
            "4.4\n"
          ]
        }
      ]
    },
    {
      "cell_type": "markdown",
      "metadata": {
        "id": "kIgwxk0Za5Ga"
      },
      "source": [
        "## **Estimates of Variability**"
      ]
    },
    {
      "cell_type": "code",
      "metadata": {
        "id": "GI2QfQ0Irq5y",
        "colab": {
          "base_uri": "https://localhost:8080/"
        },
        "outputId": "bedd2257-e787-406a-e51a-49931b4b9f91"
      },
      "source": [
        "# Table 1-2\n",
        "print(state.head(8))"
      ],
      "execution_count": 11,
      "outputs": [
        {
          "output_type": "stream",
          "name": "stdout",
          "text": [
            "         State  Population  Murder.Rate Abbreviation\n",
            "0      Alabama     4779736          5.7           AL\n",
            "1       Alaska      710231          5.6           AK\n",
            "2      Arizona     6392017          4.7           AZ\n",
            "3     Arkansas     2915918          5.6           AR\n",
            "4   California    37253956          4.4           CA\n",
            "5     Colorado     5029196          2.8           CO\n",
            "6  Connecticut     3574097          2.4           CT\n",
            "7     Delaware      897934          5.8           DE\n"
          ]
        }
      ]
    },
    {
      "cell_type": "markdown",
      "metadata": {
        "id": "mcgUnWOQrvDI"
      },
      "source": [
        "Standard deviation"
      ]
    },
    {
      "cell_type": "code",
      "metadata": {
        "id": "mWsr2QakcSf9",
        "colab": {
          "base_uri": "https://localhost:8080/"
        },
        "outputId": "134d5c85-2d56-4bd0-d4b1-e50b8ef0e939"
      },
      "source": [
        "print(state['Population'].std())"
      ],
      "execution_count": 12,
      "outputs": [
        {
          "output_type": "stream",
          "name": "stdout",
          "text": [
            "6848235.347401142\n"
          ]
        }
      ]
    },
    {
      "cell_type": "markdown",
      "metadata": {
        "id": "0BN3ITGFtdy-"
      },
      "source": [
        "Interquartile range is calculated as the difference of the 75% and 25% quantile."
      ]
    },
    {
      "cell_type": "code",
      "metadata": {
        "colab": {
          "base_uri": "https://localhost:8080/"
        },
        "id": "HRQfRRc6tl5W",
        "outputId": "9e4cec3b-d615-4308-dad1-5a2ea3e10c18"
      },
      "source": [
        "print(state['Population'].quantile(0.75) - state['Population'].quantile(0.25))"
      ],
      "execution_count": 13,
      "outputs": [
        {
          "output_type": "stream",
          "name": "stdout",
          "text": [
            "4847308.0\n"
          ]
        }
      ]
    },
    {
      "cell_type": "markdown",
      "metadata": {
        "id": "PtDs3nXyt1GX"
      },
      "source": [
        "Median absolute deviation from the median can be calculated with a method in statsmodels."
      ]
    },
    {
      "cell_type": "code",
      "metadata": {
        "colab": {
          "base_uri": "https://localhost:8080/"
        },
        "id": "dAMPGvTUuBIN",
        "outputId": "801a6356-5f76-4292-c64d-da5f5f6f045f"
      },
      "source": [
        "print(robust.scale.mad(state['Population']))\n",
        "print(abs(state['Population'] - state['Population'].median()).median() / 0.6744897501960817)"
      ],
      "execution_count": 14,
      "outputs": [
        {
          "output_type": "stream",
          "name": "stdout",
          "text": [
            "3849876.1459979336\n",
            "3849876.1459979336\n"
          ]
        }
      ]
    },
    {
      "cell_type": "markdown",
      "metadata": {
        "id": "ASju8Vqna_PX"
      },
      "source": [
        "## **Percentiles and Boxplots**"
      ]
    },
    {
      "cell_type": "code",
      "metadata": {
        "id": "dZkEmnI9cSGe"
      },
      "source": [
        ""
      ],
      "execution_count": null,
      "outputs": []
    },
    {
      "cell_type": "markdown",
      "metadata": {
        "id": "DhybgUl4bHRL"
      },
      "source": [
        "## **Frequency Table and Histograms**"
      ]
    },
    {
      "cell_type": "code",
      "metadata": {
        "id": "XifD6G-EcRtE"
      },
      "source": [
        ""
      ],
      "execution_count": null,
      "outputs": []
    },
    {
      "cell_type": "markdown",
      "metadata": {
        "id": "V_h4BQtzbOXc"
      },
      "source": [
        "## **Density Estimates**"
      ]
    },
    {
      "cell_type": "code",
      "metadata": {
        "id": "EnHvWAbecRRE"
      },
      "source": [
        ""
      ],
      "execution_count": null,
      "outputs": []
    },
    {
      "cell_type": "markdown",
      "metadata": {
        "id": "c5xtpu6FbSeL"
      },
      "source": [
        "## **Exploring Binary and Categorical Data**"
      ]
    },
    {
      "cell_type": "code",
      "metadata": {
        "id": "pKzdEvrbcQjM"
      },
      "source": [
        ""
      ],
      "execution_count": null,
      "outputs": []
    },
    {
      "cell_type": "markdown",
      "metadata": {
        "id": "pWFNVYsebYfc"
      },
      "source": [
        "## **Correlation**"
      ]
    },
    {
      "cell_type": "code",
      "metadata": {
        "id": "zS8WB43FcQL2"
      },
      "source": [
        ""
      ],
      "execution_count": null,
      "outputs": []
    },
    {
      "cell_type": "markdown",
      "metadata": {
        "id": "XtKLvhqGbaxk"
      },
      "source": [
        "## **Scatterplots**"
      ]
    },
    {
      "cell_type": "code",
      "metadata": {
        "id": "VtOHrz9acPoE"
      },
      "source": [
        ""
      ],
      "execution_count": null,
      "outputs": []
    },
    {
      "cell_type": "markdown",
      "metadata": {
        "id": "neW6Z59dbecc"
      },
      "source": [
        "## **Exploring Two or More Variables**"
      ]
    },
    {
      "cell_type": "code",
      "metadata": {
        "id": "s8-CGul0cWid"
      },
      "source": [
        ""
      ],
      "execution_count": null,
      "outputs": []
    },
    {
      "cell_type": "markdown",
      "metadata": {
        "id": "faChiwy-bjdd"
      },
      "source": [
        "### **Hexagonal binning and Contours**\n",
        "#### **Plotting numeric versus numeric data**"
      ]
    },
    {
      "cell_type": "code",
      "metadata": {
        "id": "Ip_UnPuOcO7V"
      },
      "source": [
        ""
      ],
      "execution_count": null,
      "outputs": []
    },
    {
      "cell_type": "markdown",
      "metadata": {
        "id": "gtlaOIofb9oZ"
      },
      "source": [
        "## **Two Categorical Variables**"
      ]
    },
    {
      "cell_type": "code",
      "metadata": {
        "id": "OtJ0mTGzcObd"
      },
      "source": [
        ""
      ],
      "execution_count": null,
      "outputs": []
    },
    {
      "cell_type": "markdown",
      "metadata": {
        "id": "CJXQ80RxcEm6"
      },
      "source": [
        "## **Categorical and Numeric Data**"
      ]
    },
    {
      "cell_type": "code",
      "metadata": {
        "id": "GbsYX6NscN-E"
      },
      "source": [
        ""
      ],
      "execution_count": null,
      "outputs": []
    },
    {
      "cell_type": "markdown",
      "metadata": {
        "id": "O44vgK0ccJC-"
      },
      "source": [
        "## **Visualizing Multiple Variables**"
      ]
    },
    {
      "cell_type": "code",
      "metadata": {
        "id": "OlrueK6scNZ0"
      },
      "source": [
        ""
      ],
      "execution_count": null,
      "outputs": []
    }
  ]
}