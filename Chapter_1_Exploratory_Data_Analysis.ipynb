{
  "nbformat": 4,
  "nbformat_minor": 0,
  "metadata": {
    "colab": {
      "name": "Chapter 1 - Exploratory Data Analysis.ipynb",
      "provenance": [],
      "collapsed_sections": [],
      "authorship_tag": "ABX9TyMjl3Tfq7Qpv4xeJHPX7tJW",
      "include_colab_link": true
    },
    "kernelspec": {
      "name": "python3",
      "display_name": "Python 3"
    },
    "language_info": {
      "name": "python"
    }
  },
  "cells": [
    {
      "cell_type": "markdown",
      "metadata": {
        "id": "view-in-github",
        "colab_type": "text"
      },
      "source": [
        "<a href=\"https://colab.research.google.com/github/young-hwanlee/my-practical-statistics-for-data-scientists/blob/main/Chapter_1_Exploratory_Data_Analysis.ipynb\" target=\"_parent\"><img src=\"https://colab.research.google.com/assets/colab-badge.svg\" alt=\"Open In Colab\"/></a>"
      ]
    },
    {
      "cell_type": "markdown",
      "metadata": {
        "id": "GlCQ0BsYZave"
      },
      "source": [
        "# **Practical Statistics for Data Scientists (Python)**\n",
        "# **Chapter 1. Exploratory Data Analysis**\n",
        "> (c) 2019 Peter C. Bruce, Andrew Bruce, and Peter Gedeck"
      ]
    },
    {
      "cell_type": "markdown",
      "metadata": {
        "id": "8b1HM9IUZuT0"
      },
      "source": [
        "Import required Python packeages."
      ]
    },
    {
      "cell_type": "code",
      "metadata": {
        "colab": {
          "base_uri": "https://localhost:8080/"
        },
        "id": "dFo29C8_ZtW8",
        "outputId": "767b5389-c418-4749-c061-1d3be6295114"
      },
      "source": [
        "%matplotlib inline\n",
        "\n",
        "from pathlib import Path\n",
        "\n",
        "import pandas as pd\n",
        "import numpy as np\n",
        "from scipy.stats import trim_mean\n",
        "from statsmodels import robust\n",
        "\n",
        "!pip install wquantiles\n",
        "import wquantiles\n",
        "\n",
        "import seaborn as sns\n",
        "import matplotlib.pylab as plt"
      ],
      "execution_count": 1,
      "outputs": [
        {
          "output_type": "stream",
          "name": "stderr",
          "text": [
            "/usr/local/lib/python3.7/dist-packages/statsmodels/tools/_testing.py:19: FutureWarning: pandas.util.testing is deprecated. Use the functions in the public API at pandas.testing instead.\n",
            "  import pandas.util.testing as tm\n"
          ]
        },
        {
          "output_type": "stream",
          "name": "stdout",
          "text": [
            "Collecting wquantiles\n",
            "  Downloading wquantiles-0.6-py3-none-any.whl (3.3 kB)\n",
            "Requirement already satisfied: numpy>=1.18 in /usr/local/lib/python3.7/dist-packages (from wquantiles) (1.19.5)\n",
            "Installing collected packages: wquantiles\n",
            "Successfully installed wquantiles-0.6\n"
          ]
        }
      ]
    },
    {
      "cell_type": "code",
      "metadata": {
        "id": "K0oKiwU9Z4MB"
      },
      "source": [
        "# try:\n",
        "#     import common\n",
        "#     DATA = common.dataDirectory()\n",
        "# except ImportError:\n",
        "#     DATA = Path().resolve() / 'data'"
      ],
      "execution_count": 2,
      "outputs": []
    },
    {
      "cell_type": "markdown",
      "metadata": {
        "id": "bseE1hVZZ6Rp"
      },
      "source": [
        "Define paths to data sets. If you don't keep your data in the same directory as the code, adapt the path names."
      ]
    },
    {
      "cell_type": "code",
      "metadata": {
        "id": "PRbaFbu7Z5gh"
      },
      "source": [
        "# AIRLINE_STATS_CSV = DATA / 'airline_stats.csv'\n",
        "# KC_TAX_CSV = DATA / 'kc_tax.csv.gz'\n",
        "# LC_LOANS_CSV = DATA / 'lc_loans.csv'\n",
        "# AIRPORT_DELAYS_CSV = DATA / 'dfw_airline.csv'\n",
        "# SP500_DATA_CSV = DATA / 'sp500_data.csv.gz'\n",
        "# SP500_SECTORS_CSV = DATA / 'sp500_sectors.csv'\n",
        "# STATE_CSV = DATA / 'state.csv'\n",
        "\n",
        "DATA = 'https://raw.githubusercontent.com/young-hwanlee/practical-statistics-for-data-scientists/master/data/'\n",
        "\n",
        "AIRLINE_STATS_CSV = DATA + 'airline_stats.csv'\n",
        "KC_TAX_CSV = DATA + 'kc_tax.csv.gz'\n",
        "LC_LOANS_CSV = DATA + 'lc_loans.csv'\n",
        "AIRPORT_DELAYS_CSV = DATA + 'dfw_airline.csv'\n",
        "SP500_DATA_CSV = DATA + 'sp500_data.csv.gz'\n",
        "SP500_SECTORS_CSV = DATA + 'sp500_sectors.csv'\n",
        "STATE_CSV = DATA + 'state.csv'"
      ],
      "execution_count": 3,
      "outputs": []
    },
    {
      "cell_type": "markdown",
      "metadata": {
        "id": "wFGZaoAzaB3S"
      },
      "source": [
        "## **1.3 Estimates of Location**\n",
        "### **Example: Location Estimates of Population and Murder Rates**"
      ]
    },
    {
      "cell_type": "code",
      "metadata": {
        "id": "agoQAh6LazJ5",
        "colab": {
          "base_uri": "https://localhost:8080/"
        },
        "outputId": "03115c82-a055-4e0b-89a8-9072d99a00da"
      },
      "source": [
        "# Table 1-2\n",
        "state = pd.read_csv(STATE_CSV)\n",
        "print(state.head(8))"
      ],
      "execution_count": 4,
      "outputs": [
        {
          "output_type": "stream",
          "name": "stdout",
          "text": [
            "         State  Population  Murder.Rate Abbreviation\n",
            "0      Alabama     4779736          5.7           AL\n",
            "1       Alaska      710231          5.6           AK\n",
            "2      Arizona     6392017          4.7           AZ\n",
            "3     Arkansas     2915918          5.6           AR\n",
            "4   California    37253956          4.4           CA\n",
            "5     Colorado     5029196          2.8           CO\n",
            "6  Connecticut     3574097          2.4           CT\n",
            "7     Delaware      897934          5.8           DE\n"
          ]
        }
      ]
    },
    {
      "cell_type": "markdown",
      "metadata": {
        "id": "xre-Z6f2p0-r"
      },
      "source": [
        "Compute the mean, trimmed mean, and median for Population. For mean and median, we can use the *pandas* methods of the data frame. The trimmed mean requires the trim_mean function in *scipy.stats*."
      ]
    },
    {
      "cell_type": "code",
      "metadata": {
        "colab": {
          "base_uri": "https://localhost:8080/"
        },
        "id": "ZgI_zXJJp4-4",
        "outputId": "d9f823b6-93a6-4087-c5dc-cf942db2bafa"
      },
      "source": [
        "state = pd.read_csv(STATE_CSV)\n",
        "print(state['Population'].mean())"
      ],
      "execution_count": 5,
      "outputs": [
        {
          "output_type": "stream",
          "name": "stdout",
          "text": [
            "6162876.3\n"
          ]
        }
      ]
    },
    {
      "cell_type": "code",
      "metadata": {
        "colab": {
          "base_uri": "https://localhost:8080/"
        },
        "id": "tTASxqDEqOri",
        "outputId": "d015decf-2caa-4f36-f10d-1110c9e3c123"
      },
      "source": [
        "print(trim_mean(state['Population'],0.1))"
      ],
      "execution_count": 6,
      "outputs": [
        {
          "output_type": "stream",
          "name": "stdout",
          "text": [
            "4783697.125\n"
          ]
        }
      ]
    },
    {
      "cell_type": "code",
      "metadata": {
        "colab": {
          "base_uri": "https://localhost:8080/"
        },
        "id": "ftbjhnqAqfq6",
        "outputId": "53137c80-8303-48c9-e444-5d500e140421"
      },
      "source": [
        "print(state['Population'].median())"
      ],
      "execution_count": 7,
      "outputs": [
        {
          "output_type": "stream",
          "name": "stdout",
          "text": [
            "4436369.5\n"
          ]
        }
      ]
    },
    {
      "cell_type": "markdown",
      "metadata": {
        "id": "eR1Iwh1jqm_q"
      },
      "source": [
        "Weighted mean is available with numpy. For weighted median, we can use the specialized package *wquantiles* (https://pypi.org/project/wquantiles/)."
      ]
    },
    {
      "cell_type": "code",
      "metadata": {
        "colab": {
          "base_uri": "https://localhost:8080/"
        },
        "id": "hF7tOTjZrMwQ",
        "outputId": "dd1b2de7-9a8e-485c-ab48-c25d9bc4db6d"
      },
      "source": [
        "print(state['Murder.Rate'].mean())"
      ],
      "execution_count": 8,
      "outputs": [
        {
          "output_type": "stream",
          "name": "stdout",
          "text": [
            "4.066\n"
          ]
        }
      ]
    },
    {
      "cell_type": "code",
      "metadata": {
        "colab": {
          "base_uri": "https://localhost:8080/"
        },
        "id": "kY1g9YPIrYOY",
        "outputId": "79f21307-cc19-4b5a-8745-20abb30f47dd"
      },
      "source": [
        "print(np.average(state['Murder.Rate'],weights=state['Population']))"
      ],
      "execution_count": 9,
      "outputs": [
        {
          "output_type": "stream",
          "name": "stdout",
          "text": [
            "4.445833981123393\n"
          ]
        }
      ]
    },
    {
      "cell_type": "code",
      "metadata": {
        "colab": {
          "base_uri": "https://localhost:8080/"
        },
        "id": "PBJXwXCSrhGI",
        "outputId": "38c1fdae-843f-4631-937b-c9f8c1a4a423"
      },
      "source": [
        "print(wquantiles.median(state['Murder.Rate'],weights=state['Population']))"
      ],
      "execution_count": 10,
      "outputs": [
        {
          "output_type": "stream",
          "name": "stdout",
          "text": [
            "4.4\n"
          ]
        }
      ]
    },
    {
      "cell_type": "markdown",
      "metadata": {
        "id": "kIgwxk0Za5Ga"
      },
      "source": [
        "## **1.4 Estimates of Variability**"
      ]
    },
    {
      "cell_type": "code",
      "metadata": {
        "id": "GI2QfQ0Irq5y",
        "colab": {
          "base_uri": "https://localhost:8080/"
        },
        "outputId": "28e1fbb7-4e32-4fb2-f5fb-2dce7b92dc1e"
      },
      "source": [
        "# Table 1-2\n",
        "print(state.head(8))"
      ],
      "execution_count": 11,
      "outputs": [
        {
          "output_type": "stream",
          "name": "stdout",
          "text": [
            "         State  Population  Murder.Rate Abbreviation\n",
            "0      Alabama     4779736          5.7           AL\n",
            "1       Alaska      710231          5.6           AK\n",
            "2      Arizona     6392017          4.7           AZ\n",
            "3     Arkansas     2915918          5.6           AR\n",
            "4   California    37253956          4.4           CA\n",
            "5     Colorado     5029196          2.8           CO\n",
            "6  Connecticut     3574097          2.4           CT\n",
            "7     Delaware      897934          5.8           DE\n"
          ]
        }
      ]
    },
    {
      "cell_type": "markdown",
      "metadata": {
        "id": "mcgUnWOQrvDI"
      },
      "source": [
        "Standard deviation"
      ]
    },
    {
      "cell_type": "code",
      "metadata": {
        "id": "mWsr2QakcSf9",
        "colab": {
          "base_uri": "https://localhost:8080/"
        },
        "outputId": "c93b0b04-9a4c-41e2-a74d-7fce7c603010"
      },
      "source": [
        "print(state['Population'].std())"
      ],
      "execution_count": 12,
      "outputs": [
        {
          "output_type": "stream",
          "name": "stdout",
          "text": [
            "6848235.347401142\n"
          ]
        }
      ]
    },
    {
      "cell_type": "markdown",
      "metadata": {
        "id": "0BN3ITGFtdy-"
      },
      "source": [
        "Interquartile range is calculated as the difference of the 75% and 25% quantile."
      ]
    },
    {
      "cell_type": "code",
      "metadata": {
        "colab": {
          "base_uri": "https://localhost:8080/"
        },
        "id": "HRQfRRc6tl5W",
        "outputId": "f8d7b35d-7df3-4cb1-901f-9aa02c7ce36b"
      },
      "source": [
        "print(state['Population'].quantile(0.75) - state['Population'].quantile(0.25))"
      ],
      "execution_count": 13,
      "outputs": [
        {
          "output_type": "stream",
          "name": "stdout",
          "text": [
            "4847308.0\n"
          ]
        }
      ]
    },
    {
      "cell_type": "markdown",
      "metadata": {
        "id": "PtDs3nXyt1GX"
      },
      "source": [
        "Median absolute deviation from the median (MAD) can be calculated with a method in *statsmodels* (robust.scale.mad)."
      ]
    },
    {
      "cell_type": "code",
      "metadata": {
        "colab": {
          "base_uri": "https://localhost:8080/"
        },
        "id": "dAMPGvTUuBIN",
        "outputId": "209c812b-2d51-4e19-c4dc-40d6eeb65e05"
      },
      "source": [
        "print(robust.scale.mad(state['Population']))\n",
        "print(abs(state['Population'] - state['Population'].median()).median() / 0.6744897501960817)"
      ],
      "execution_count": 14,
      "outputs": [
        {
          "output_type": "stream",
          "name": "stdout",
          "text": [
            "3849876.1459979336\n",
            "3849876.1459979336\n"
          ]
        }
      ]
    },
    {
      "cell_type": "markdown",
      "metadata": {
        "id": "AoCQWIepOLJL"
      },
      "source": [
        "$$MAD \\approx 0.67449 \\sigma$$"
      ]
    },
    {
      "cell_type": "code",
      "metadata": {
        "colab": {
          "base_uri": "https://localhost:8080/"
        },
        "id": "PKGSdySCN3js",
        "outputId": "01ad7afb-6035-4f01-8c77-b665984bbf85"
      },
      "source": [
        "print(robust.scale.mad(state['Population']) / state['Population'].std())"
      ],
      "execution_count": 15,
      "outputs": [
        {
          "output_type": "stream",
          "name": "stdout",
          "text": [
            "0.5621705374741444\n"
          ]
        }
      ]
    },
    {
      "cell_type": "markdown",
      "metadata": {
        "id": "GUOqf2H1Z2aI"
      },
      "source": [
        "https://onlinestatbook.com/2/introduction/percentiles.html"
      ]
    },
    {
      "cell_type": "markdown",
      "metadata": {
        "id": "QEqAC3P8aPA9"
      },
      "source": [
        "https://www.r-bloggers.com/2013/08/absolute-deviation-around-the-median/"
      ]
    },
    {
      "cell_type": "markdown",
      "metadata": {
        "id": "ASju8Vqna_PX"
      },
      "source": [
        "### **1.5.1 Percentiles and Boxplots**"
      ]
    },
    {
      "cell_type": "markdown",
      "metadata": {
        "id": "y9spMUstg2_b"
      },
      "source": [
        "*Pandas* has the quantile method for data frames."
      ]
    },
    {
      "cell_type": "code",
      "metadata": {
        "id": "dZkEmnI9cSGe",
        "colab": {
          "base_uri": "https://localhost:8080/"
        },
        "outputId": "4ab3f404-8139-4bee-9a88-b3d43f0adfbe"
      },
      "source": [
        "print(state['Murder.Rate'].quantile([0.05, 0.25, 0.5, 0.75, 0.95]))"
      ],
      "execution_count": 16,
      "outputs": [
        {
          "output_type": "stream",
          "name": "stdout",
          "text": [
            "0.05    1.600\n",
            "0.25    2.425\n",
            "0.50    4.000\n",
            "0.75    5.550\n",
            "0.95    6.510\n",
            "Name: Murder.Rate, dtype: float64\n"
          ]
        }
      ]
    },
    {
      "cell_type": "code",
      "metadata": {
        "id": "XifD6G-EcRtE",
        "colab": {
          "base_uri": "https://localhost:8080/"
        },
        "outputId": "da7723d6-af39-47a9-b93f-f19bb960ad98"
      },
      "source": [
        "# Table 1.4\n",
        "percentages = [0.05, 0.25, 0.5, 0.75, 0.95]\n",
        "df = pd.DataFrame(state['Murder.Rate'].quantile(percentages))\n",
        "df.index = [f'{p*100}%' for p in percentages]\n",
        "print(df.transpose())"
      ],
      "execution_count": 17,
      "outputs": [
        {
          "output_type": "stream",
          "name": "stdout",
          "text": [
            "             5.0%  25.0%  50.0%  75.0%  95.0%\n",
            "Murder.Rate   1.6  2.425    4.0   5.55   6.51\n"
          ]
        }
      ]
    },
    {
      "cell_type": "markdown",
      "metadata": {
        "id": "HoxQJymMj-FU"
      },
      "source": [
        "*Pandas* provides a number of basic exploratory plots; one of them are boxplots."
      ]
    },
    {
      "cell_type": "code",
      "metadata": {
        "colab": {
          "base_uri": "https://localhost:8080/",
          "height": 297
        },
        "id": "cb2y62XmkF1i",
        "outputId": "32015ea5-e6a6-463c-a86c-4bb2062a1d8c"
      },
      "source": [
        "ax = (state['Population']/1_000_000).plot.box(figsize=(3, 4))\n",
        "ax.set_ylabel('Population (millions)')\n",
        "\n",
        "plt.tight_layout()\n",
        "plt.show()"
      ],
      "execution_count": 18,
      "outputs": [
        {
          "output_type": "display_data",
          "data": {
            "image/png": "[encoded data removed]",
            "text/plain": [
              "<Figure size 216x288 with 1 Axes>"
            ]
          },
          "metadata": {
            "needs_background": "light"
          }
        }
      ]
    },
    {
      "cell_type": "markdown",
      "metadata": {
        "id": "DhybgUl4bHRL"
      },
      "source": [
        "### **1.5.2 Frequency Table and Histograms**"
      ]
    },
    {
      "cell_type": "markdown",
      "metadata": {
        "id": "8AHenoqhmxCI"
      },
      "source": [
        "The cut method for *pandas* data splits the dataset into bins. There are a number of arguments for the method. The following code creates equal sized bins. The method value_counts returns a frequency table."
      ]
    },
    {
      "cell_type": "code",
      "metadata": {
        "colab": {
          "base_uri": "https://localhost:8080/"
        },
        "id": "aQUuhU1-ksD6",
        "outputId": "171d4efc-0a7d-408c-d270-5fcec8ef4467"
      },
      "source": [
        "binnedPopulation = pd.cut(state['Population'], 10)\n",
        "print(binnedPopulation.value_counts())"
      ],
      "execution_count": 19,
      "outputs": [
        {
          "output_type": "stream",
          "name": "stdout",
          "text": [
            "(526935.67, 4232659.0]      24\n",
            "(4232659.0, 7901692.0]      14\n",
            "(7901692.0, 11570725.0]      6\n",
            "(11570725.0, 15239758.0]     2\n",
            "(33584923.0, 37253956.0]     1\n",
            "(22577824.0, 26246857.0]     1\n",
            "(18908791.0, 22577824.0]     1\n",
            "(15239758.0, 18908791.0]     1\n",
            "(29915890.0, 33584923.0]     0\n",
            "(26246857.0, 29915890.0]     0\n",
            "Name: Population, dtype: int64\n"
          ]
        }
      ]
    },
    {
      "cell_type": "code",
      "metadata": {
        "colab": {
          "base_uri": "https://localhost:8080/"
        },
        "id": "sc5m_8Zynaa_",
        "outputId": "b6defd1a-84db-4ad7-d866-69cf40783c2a"
      },
      "source": [
        "# Table 1.5\n",
        "binnedPopulation.name = 'binnedPopulation'\n",
        "df = pd.concat([state, binnedPopulation], axis=1)\n",
        "df = df.sort_values(by='Population')\n",
        "\n",
        "groups = []\n",
        "for group, subset in df.groupby(by='binnedPopulation'):\n",
        "    groups.append({\n",
        "        'BinRange': group,\n",
        "        'Count': len(subset),\n",
        "        'States': ','.join(subset.Abbreviation)\n",
        "    })\n",
        "print(pd.DataFrame(groups))"
      ],
      "execution_count": 20,
      "outputs": [
        {
          "output_type": "stream",
          "name": "stdout",
          "text": [
            "                   BinRange  ...                                             States\n",
            "0    (526935.67, 4232659.0]  ...  WY,VT,ND,AK,SD,DE,MT,RI,NH,ME,HI,ID,NE,WV,NM,N...\n",
            "1    (4232659.0, 7901692.0]  ...          KY,LA,SC,AL,CO,MN,WI,MD,MO,TN,AZ,IN,MA,WA\n",
            "2   (7901692.0, 11570725.0]  ...                                  VA,NJ,NC,GA,MI,OH\n",
            "3  (11570725.0, 15239758.0]  ...                                              PA,IL\n",
            "4  (15239758.0, 18908791.0]  ...                                                 FL\n",
            "5  (18908791.0, 22577824.0]  ...                                                 NY\n",
            "6  (22577824.0, 26246857.0]  ...                                                 TX\n",
            "7  (26246857.0, 29915890.0]  ...                                                   \n",
            "8  (29915890.0, 33584923.0]  ...                                                   \n",
            "9  (33584923.0, 37253956.0]  ...                                                 CA\n",
            "\n",
            "[10 rows x 3 columns]\n"
          ]
        }
      ]
    },
    {
      "cell_type": "markdown",
      "metadata": {
        "id": "Fsi-GvS9otKC"
      },
      "source": [
        "*Pandas* also supports histograms for exploratory data analysis."
      ]
    },
    {
      "cell_type": "code",
      "metadata": {
        "colab": {
          "base_uri": "https://localhost:8080/",
          "height": 297
        },
        "id": "vu6zPhhBo19C",
        "outputId": "3b17cd57-6e1b-499b-f4f1-9b89619aa2cd"
      },
      "source": [
        "ax = (state['Population'] / 1_000_000).plot.hist(figsize=(4, 4))\n",
        "ax.set_xlabel('Population (millions)')\n",
        "\n",
        "plt.tight_layout()\n",
        "plt.show()"
      ],
      "execution_count": 21,
      "outputs": [
        {
          "output_type": "display_data",
          "data": {
            "image/png": "[encoded data removed]",
            "text/plain": [
              "<Figure size 288x288 with 1 Axes>"
            ]
          },
          "metadata": {
            "needs_background": "light"
          }
        }
      ]
    },
    {
      "cell_type": "markdown",
      "metadata": {
        "id": "V_h4BQtzbOXc"
      },
      "source": [
        "### **1.5.3 Density Estimates**"
      ]
    },
    {
      "cell_type": "markdown",
      "metadata": {
        "id": "IRluI-wepR1N"
      },
      "source": [
        "Density is an alternative to histograms that can provide more insight into the distribution of the data points. Use the argument bw_method to control the smoothness of the density curve."
      ]
    },
    {
      "cell_type": "code",
      "metadata": {
        "id": "EnHvWAbecRRE",
        "colab": {
          "base_uri": "https://localhost:8080/",
          "height": 297
        },
        "outputId": "e0038f4c-90bb-4f56-d420-e86452899f8d"
      },
      "source": [
        "ax = state['Murder.Rate'].plot.hist(density=True, xlim=[0, 12],\n",
        "                                    bins=range(1, 12), figsize=(4, 4))\n",
        "state['Murder.Rate'].plot.density(ax=ax)\n",
        "ax.set_xlabel('Murder Rate (per 100,000)')\n",
        "\n",
        "plt.tight_layout()\n",
        "plt.show()"
      ],
      "execution_count": 22,
      "outputs": [
        {
          "output_type": "display_data",
          "data": {
            "image/png": "[encoded data removed]",
            "text/plain": [
              "<Figure size 288x288 with 1 Axes>"
            ]
          },
          "metadata": {
            "needs_background": "light"
          }
        }
      ]
    },
    {
      "cell_type": "markdown",
      "metadata": {
        "id": "c5xtpu6FbSeL"
      },
      "source": [
        "## **1.6 Exploring Binary and Categorical Data**"
      ]
    },
    {
      "cell_type": "code",
      "metadata": {
        "id": "pKzdEvrbcQjM",
        "colab": {
          "base_uri": "https://localhost:8080/"
        },
        "outputId": "413637f4-e77f-460a-f1d2-5f5ddd0eee58"
      },
      "source": [
        "# Table 1-6\n",
        "dfw = pd.read_csv(AIRPORT_DELAYS_CSV)\n",
        "print(100 * dfw / dfw.values.sum())"
      ],
      "execution_count": 23,
      "outputs": [
        {
          "output_type": "stream",
          "name": "stdout",
          "text": [
            "     Carrier        ATC   Weather  Security    Inbound\n",
            "0  23.022989  30.400781  4.025214  0.122937  42.428079\n"
          ]
        }
      ]
    },
    {
      "cell_type": "markdown",
      "metadata": {
        "id": "D_FF57faMnhb"
      },
      "source": [
        "*Pandas* also supports bar charts for displaying a single categorical variable."
      ]
    },
    {
      "cell_type": "code",
      "metadata": {
        "colab": {
          "base_uri": "https://localhost:8080/",
          "height": 297
        },
        "id": "KGhqF_9PMvP7",
        "outputId": "ccc5cb90-23c8-4d8d-ace6-ff8bca245e9b"
      },
      "source": [
        "ax = dfw.transpose().plot.bar(figsize=(4, 4), legend=False)\n",
        "ax.set_xlabel('Cause of Delay')\n",
        "ax.set_ylabel('Count')\n",
        "\n",
        "plt.tight_layout()\n",
        "plt.show()"
      ],
      "execution_count": 24,
      "outputs": [
        {
          "output_type": "display_data",
          "data": {
            "image/png": "[encoded data removed]",
            "text/plain": [
              "<Figure size 288x288 with 1 Axes>"
            ]
          },
          "metadata": {
            "needs_background": "light"
          }
        }
      ]
    },
    {
      "cell_type": "markdown",
      "metadata": {
        "id": "pWFNVYsebYfc"
      },
      "source": [
        "## **1.7 Correlation**"
      ]
    },
    {
      "cell_type": "markdown",
      "metadata": {
        "id": "4ccGerfvNI-N"
      },
      "source": [
        "First read the required datasets."
      ]
    },
    {
      "cell_type": "code",
      "metadata": {
        "id": "zS8WB43FcQL2"
      },
      "source": [
        "sp500_sym = pd.read_csv(SP500_SECTORS_CSV)\n",
        "sp500_px = pd.read_csv(SP500_DATA_CSV, index_col=0)"
      ],
      "execution_count": 25,
      "outputs": []
    },
    {
      "cell_type": "code",
      "metadata": {
        "colab": {
          "base_uri": "https://localhost:8080/",
          "height": 204
        },
        "id": "BO4epSQ_PRYQ",
        "outputId": "9959446a-ff6f-4529-f0fa-ac7b40b8961e"
      },
      "source": [
        "sp500_sym.head(5)"
      ],
      "execution_count": 26,
      "outputs": [
        {
          "output_type": "execute_result",
          "data": {
            "text/html": [
              "<div>\n",
              "<style scoped>\n",
              "    .dataframe tbody tr th:only-of-type {\n",
              "        vertical-align: middle;\n",
              "    }\n",
              "\n",
              "    .dataframe tbody tr th {\n",
              "        vertical-align: top;\n",
              "    }\n",
              "\n",
              "    .dataframe thead th {\n",
              "        text-align: right;\n",
              "    }\n",
              "</style>\n",
              "<table border=\"1\" class=\"dataframe\">\n",
              "  <thead>\n",
              "    <tr style=\"text-align: right;\">\n",
              "      <th></th>\n",
              "      <th>sector</th>\n",
              "      <th>sector_label</th>\n",
              "      <th>sub_sector</th>\n",
              "      <th>symbol</th>\n",
              "    </tr>\n",
              "  </thead>\n",
              "  <tbody>\n",
              "    <tr>\n",
              "      <th>0</th>\n",
              "      <td>information_technology</td>\n",
              "      <td>Technology</td>\n",
              "      <td>data_processing_&amp;_outsourced_services</td>\n",
              "      <td>ADS</td>\n",
              "    </tr>\n",
              "    <tr>\n",
              "      <th>1</th>\n",
              "      <td>information_technology</td>\n",
              "      <td>Technology</td>\n",
              "      <td>systems_software</td>\n",
              "      <td>CA</td>\n",
              "    </tr>\n",
              "    <tr>\n",
              "      <th>2</th>\n",
              "      <td>information_technology</td>\n",
              "      <td>Technology</td>\n",
              "      <td>systems_software</td>\n",
              "      <td>MSFT</td>\n",
              "    </tr>\n",
              "    <tr>\n",
              "      <th>3</th>\n",
              "      <td>information_technology</td>\n",
              "      <td>Technology</td>\n",
              "      <td>systems_software</td>\n",
              "      <td>RHT</td>\n",
              "    </tr>\n",
              "    <tr>\n",
              "      <th>4</th>\n",
              "      <td>information_technology</td>\n",
              "      <td>Technology</td>\n",
              "      <td>it_consulting_&amp;_services</td>\n",
              "      <td>CTSH</td>\n",
              "    </tr>\n",
              "  </tbody>\n",
              "</table>\n",
              "</div>"
            ],
            "text/plain": [
              "                   sector  ... symbol\n",
              "0  information_technology  ...    ADS\n",
              "1  information_technology  ...     CA\n",
              "2  information_technology  ...   MSFT\n",
              "3  information_technology  ...    RHT\n",
              "4  information_technology  ...   CTSH\n",
              "\n",
              "[5 rows x 4 columns]"
            ]
          },
          "metadata": {},
          "execution_count": 26
        }
      ]
    },
    {
      "cell_type": "code",
      "metadata": {
        "colab": {
          "base_uri": "https://localhost:8080/"
        },
        "id": "5sLL99OwO89E",
        "outputId": "42124dc8-a36e-4c27-b29f-b70710e45c24"
      },
      "source": [
        "sp500_sym['sector'].unique()"
      ],
      "execution_count": 27,
      "outputs": [
        {
          "output_type": "execute_result",
          "data": {
            "text/plain": [
              "array(['information_technology', 'industrials', 'energy',\n",
              "       'consumer_discretionary', 'utilities', 'materials', 'etf',\n",
              "       'telecommunications_services', 'consumer_staples', 'financials',\n",
              "       'health_care'], dtype=object)"
            ]
          },
          "metadata": {},
          "execution_count": 27
        }
      ]
    },
    {
      "cell_type": "code",
      "metadata": {
        "colab": {
          "base_uri": "https://localhost:8080/",
          "height": 338
        },
        "id": "G9ocHP5gPyXB",
        "outputId": "68ebd9c5-e0cd-4e92-8da9-8ab416f7bbee"
      },
      "source": [
        "sp500_px.head(5)"
      ],
      "execution_count": 28,
      "outputs": [
        {
          "output_type": "execute_result",
          "data": {
            "text/html": [
              "<div>\n",
              "<style scoped>\n",
              "    .dataframe tbody tr th:only-of-type {\n",
              "        vertical-align: middle;\n",
              "    }\n",
              "\n",
              "    .dataframe tbody tr th {\n",
              "        vertical-align: top;\n",
              "    }\n",
              "\n",
              "    .dataframe thead th {\n",
              "        text-align: right;\n",
              "    }\n",
              "</style>\n",
              "<table border=\"1\" class=\"dataframe\">\n",
              "  <thead>\n",
              "    <tr style=\"text-align: right;\">\n",
              "      <th></th>\n",
              "      <th>ADS</th>\n",
              "      <th>CA</th>\n",
              "      <th>MSFT</th>\n",
              "      <th>RHT</th>\n",
              "      <th>CTSH</th>\n",
              "      <th>CSC</th>\n",
              "      <th>EMC</th>\n",
              "      <th>IBM</th>\n",
              "      <th>XRX</th>\n",
              "      <th>ALTR</th>\n",
              "      <th>ADI</th>\n",
              "      <th>AVGO</th>\n",
              "      <th>BRCM</th>\n",
              "      <th>FSLR</th>\n",
              "      <th>INTC</th>\n",
              "      <th>LLTC</th>\n",
              "      <th>MCHP</th>\n",
              "      <th>MU</th>\n",
              "      <th>NVDA</th>\n",
              "      <th>QRVO</th>\n",
              "      <th>QCOM</th>\n",
              "      <th>SWKS</th>\n",
              "      <th>TXN</th>\n",
              "      <th>XLNX</th>\n",
              "      <th>AAPL</th>\n",
              "      <th>HPQ</th>\n",
              "      <th>EA</th>\n",
              "      <th>SNDK</th>\n",
              "      <th>STX</th>\n",
              "      <th>WDC</th>\n",
              "      <th>TEL</th>\n",
              "      <th>HRS</th>\n",
              "      <th>MSI</th>\n",
              "      <th>ACN</th>\n",
              "      <th>AMAT</th>\n",
              "      <th>KLAC</th>\n",
              "      <th>LRCX</th>\n",
              "      <th>ADBE</th>\n",
              "      <th>ADSK</th>\n",
              "      <th>ORCL</th>\n",
              "      <th>...</th>\n",
              "      <th>ENDP</th>\n",
              "      <th>LLY</th>\n",
              "      <th>MNK</th>\n",
              "      <th>MRK</th>\n",
              "      <th>MYL</th>\n",
              "      <th>PRGO</th>\n",
              "      <th>PFE</th>\n",
              "      <th>ZTS</th>\n",
              "      <th>ABT</th>\n",
              "      <th>A</th>\n",
              "      <th>BCR</th>\n",
              "      <th>BAX</th>\n",
              "      <th>BDX</th>\n",
              "      <th>BSX</th>\n",
              "      <th>EW</th>\n",
              "      <th>HSP</th>\n",
              "      <th>ISRG</th>\n",
              "      <th>JNJ</th>\n",
              "      <th>MDT</th>\n",
              "      <th>PKI</th>\n",
              "      <th>STJ</th>\n",
              "      <th>SYK</th>\n",
              "      <th>TMO</th>\n",
              "      <th>VAR</th>\n",
              "      <th>ZBH</th>\n",
              "      <th>BMY</th>\n",
              "      <th>CAH</th>\n",
              "      <th>CERN</th>\n",
              "      <th>ESRX</th>\n",
              "      <th>MCK</th>\n",
              "      <th>WAT</th>\n",
              "      <th>ALXN</th>\n",
              "      <th>AMGN</th>\n",
              "      <th>BXLT</th>\n",
              "      <th>BIIB</th>\n",
              "      <th>CELG</th>\n",
              "      <th>GILD</th>\n",
              "      <th>REGN</th>\n",
              "      <th>VRTX</th>\n",
              "      <th>HSIC</th>\n",
              "    </tr>\n",
              "  </thead>\n",
              "  <tbody>\n",
              "    <tr>\n",
              "      <th>1993-01-29</th>\n",
              "      <td>0.0</td>\n",
              "      <td>0.060124</td>\n",
              "      <td>-0.022100</td>\n",
              "      <td>0.0</td>\n",
              "      <td>0.0</td>\n",
              "      <td>0.018897</td>\n",
              "      <td>0.007368</td>\n",
              "      <td>0.092165</td>\n",
              "      <td>0.259140</td>\n",
              "      <td>-0.007105</td>\n",
              "      <td>-0.015785</td>\n",
              "      <td>0.0</td>\n",
              "      <td>0.0</td>\n",
              "      <td>0.0</td>\n",
              "      <td>-0.050488</td>\n",
              "      <td>-0.089870</td>\n",
              "      <td>0.0</td>\n",
              "      <td>0.037021</td>\n",
              "      <td>0.0</td>\n",
              "      <td>0.0</td>\n",
              "      <td>-0.044718</td>\n",
              "      <td>-0.041262</td>\n",
              "      <td>0.060179</td>\n",
              "      <td>0.033152</td>\n",
              "      <td>-0.024235</td>\n",
              "      <td>0.045586</td>\n",
              "      <td>0.12500</td>\n",
              "      <td>0.0</td>\n",
              "      <td>0.0</td>\n",
              "      <td>0.118103</td>\n",
              "      <td>0.0</td>\n",
              "      <td>0.016412</td>\n",
              "      <td>-1.842719</td>\n",
              "      <td>0.0</td>\n",
              "      <td>-0.012867</td>\n",
              "      <td>0.079940</td>\n",
              "      <td>0.246706</td>\n",
              "      <td>-0.044884</td>\n",
              "      <td>0.057267</td>\n",
              "      <td>-0.005776</td>\n",
              "      <td>...</td>\n",
              "      <td>0.0</td>\n",
              "      <td>-0.077535</td>\n",
              "      <td>0.0</td>\n",
              "      <td>-0.028797</td>\n",
              "      <td>0.166355</td>\n",
              "      <td>-0.577943</td>\n",
              "      <td>0.066591</td>\n",
              "      <td>0.0</td>\n",
              "      <td>0.045961</td>\n",
              "      <td>0.0</td>\n",
              "      <td>-0.326659</td>\n",
              "      <td>0.000000</td>\n",
              "      <td>-0.033363</td>\n",
              "      <td>0.06250</td>\n",
              "      <td>0.0</td>\n",
              "      <td>0.0</td>\n",
              "      <td>0.0</td>\n",
              "      <td>0.018827</td>\n",
              "      <td>0.006047</td>\n",
              "      <td>0.000000</td>\n",
              "      <td>0.187132</td>\n",
              "      <td>0.276317</td>\n",
              "      <td>-0.124187</td>\n",
              "      <td>0.037430</td>\n",
              "      <td>0.0</td>\n",
              "      <td>0.038546</td>\n",
              "      <td>0.060142</td>\n",
              "      <td>0.03126</td>\n",
              "      <td>0.00195</td>\n",
              "      <td>0.0</td>\n",
              "      <td>0.0</td>\n",
              "      <td>0.0</td>\n",
              "      <td>0.34716</td>\n",
              "      <td>0.0</td>\n",
              "      <td>0.04167</td>\n",
              "      <td>0.00000</td>\n",
              "      <td>0.015564</td>\n",
              "      <td>1.75</td>\n",
              "      <td>0.1250</td>\n",
              "      <td>0.0</td>\n",
              "    </tr>\n",
              "    <tr>\n",
              "      <th>1993-02-01</th>\n",
              "      <td>0.0</td>\n",
              "      <td>-0.180389</td>\n",
              "      <td>0.027621</td>\n",
              "      <td>0.0</td>\n",
              "      <td>0.0</td>\n",
              "      <td>0.018889</td>\n",
              "      <td>0.018425</td>\n",
              "      <td>0.115207</td>\n",
              "      <td>-0.100775</td>\n",
              "      <td>0.063893</td>\n",
              "      <td>-0.015793</td>\n",
              "      <td>0.0</td>\n",
              "      <td>0.0</td>\n",
              "      <td>0.0</td>\n",
              "      <td>0.095367</td>\n",
              "      <td>0.044935</td>\n",
              "      <td>0.0</td>\n",
              "      <td>0.037020</td>\n",
              "      <td>0.0</td>\n",
              "      <td>0.0</td>\n",
              "      <td>0.006387</td>\n",
              "      <td>-0.041252</td>\n",
              "      <td>0.102317</td>\n",
              "      <td>0.099446</td>\n",
              "      <td>0.064618</td>\n",
              "      <td>0.072942</td>\n",
              "      <td>0.09375</td>\n",
              "      <td>0.0</td>\n",
              "      <td>0.0</td>\n",
              "      <td>0.000000</td>\n",
              "      <td>0.0</td>\n",
              "      <td>-0.032829</td>\n",
              "      <td>0.594428</td>\n",
              "      <td>0.0</td>\n",
              "      <td>0.016077</td>\n",
              "      <td>0.019985</td>\n",
              "      <td>0.411170</td>\n",
              "      <td>0.134672</td>\n",
              "      <td>0.057267</td>\n",
              "      <td>0.025999</td>\n",
              "      <td>...</td>\n",
              "      <td>0.0</td>\n",
              "      <td>-0.031014</td>\n",
              "      <td>0.0</td>\n",
              "      <td>-0.172781</td>\n",
              "      <td>-0.066536</td>\n",
              "      <td>0.346766</td>\n",
              "      <td>-0.027745</td>\n",
              "      <td>0.0</td>\n",
              "      <td>-0.045960</td>\n",
              "      <td>0.0</td>\n",
              "      <td>-0.093331</td>\n",
              "      <td>0.018157</td>\n",
              "      <td>0.100076</td>\n",
              "      <td>0.03125</td>\n",
              "      <td>0.0</td>\n",
              "      <td>0.0</td>\n",
              "      <td>0.0</td>\n",
              "      <td>-0.056481</td>\n",
              "      <td>-0.048392</td>\n",
              "      <td>0.041782</td>\n",
              "      <td>-0.074851</td>\n",
              "      <td>-0.027632</td>\n",
              "      <td>0.000000</td>\n",
              "      <td>-0.074859</td>\n",
              "      <td>0.0</td>\n",
              "      <td>-0.038546</td>\n",
              "      <td>0.060142</td>\n",
              "      <td>0.10156</td>\n",
              "      <td>0.01953</td>\n",
              "      <td>0.0</td>\n",
              "      <td>0.0</td>\n",
              "      <td>0.0</td>\n",
              "      <td>-0.23144</td>\n",
              "      <td>0.0</td>\n",
              "      <td>0.00000</td>\n",
              "      <td>-0.01041</td>\n",
              "      <td>0.007782</td>\n",
              "      <td>1.25</td>\n",
              "      <td>0.1250</td>\n",
              "      <td>0.0</td>\n",
              "    </tr>\n",
              "    <tr>\n",
              "      <th>1993-02-02</th>\n",
              "      <td>0.0</td>\n",
              "      <td>-0.120257</td>\n",
              "      <td>0.035900</td>\n",
              "      <td>0.0</td>\n",
              "      <td>0.0</td>\n",
              "      <td>-0.075573</td>\n",
              "      <td>0.029482</td>\n",
              "      <td>-0.023041</td>\n",
              "      <td>0.028796</td>\n",
              "      <td>-0.014192</td>\n",
              "      <td>0.047363</td>\n",
              "      <td>0.0</td>\n",
              "      <td>0.0</td>\n",
              "      <td>0.0</td>\n",
              "      <td>0.000000</td>\n",
              "      <td>0.067402</td>\n",
              "      <td>0.0</td>\n",
              "      <td>0.123402</td>\n",
              "      <td>0.0</td>\n",
              "      <td>0.0</td>\n",
              "      <td>0.035141</td>\n",
              "      <td>0.041252</td>\n",
              "      <td>-0.024066</td>\n",
              "      <td>0.016572</td>\n",
              "      <td>-0.016148</td>\n",
              "      <td>-0.045586</td>\n",
              "      <td>-0.06250</td>\n",
              "      <td>0.0</td>\n",
              "      <td>0.0</td>\n",
              "      <td>0.118103</td>\n",
              "      <td>0.0</td>\n",
              "      <td>-0.032829</td>\n",
              "      <td>0.237767</td>\n",
              "      <td>0.0</td>\n",
              "      <td>0.051450</td>\n",
              "      <td>0.000000</td>\n",
              "      <td>0.054828</td>\n",
              "      <td>0.082299</td>\n",
              "      <td>-0.042955</td>\n",
              "      <td>-0.011562</td>\n",
              "      <td>...</td>\n",
              "      <td>0.0</td>\n",
              "      <td>-0.062028</td>\n",
              "      <td>0.0</td>\n",
              "      <td>-0.143984</td>\n",
              "      <td>-0.066536</td>\n",
              "      <td>0.693532</td>\n",
              "      <td>-0.133183</td>\n",
              "      <td>0.0</td>\n",
              "      <td>-0.153198</td>\n",
              "      <td>0.0</td>\n",
              "      <td>-0.093331</td>\n",
              "      <td>-0.072626</td>\n",
              "      <td>0.000000</td>\n",
              "      <td>0.03125</td>\n",
              "      <td>0.0</td>\n",
              "      <td>0.0</td>\n",
              "      <td>0.0</td>\n",
              "      <td>-0.018827</td>\n",
              "      <td>0.000000</td>\n",
              "      <td>0.208912</td>\n",
              "      <td>0.018711</td>\n",
              "      <td>-0.027632</td>\n",
              "      <td>0.000000</td>\n",
              "      <td>0.044923</td>\n",
              "      <td>0.0</td>\n",
              "      <td>-0.115639</td>\n",
              "      <td>-0.030071</td>\n",
              "      <td>-0.01562</td>\n",
              "      <td>0.00000</td>\n",
              "      <td>0.0</td>\n",
              "      <td>0.0</td>\n",
              "      <td>0.0</td>\n",
              "      <td>-0.11572</td>\n",
              "      <td>0.0</td>\n",
              "      <td>0.00000</td>\n",
              "      <td>0.00000</td>\n",
              "      <td>-0.007792</td>\n",
              "      <td>-0.25</td>\n",
              "      <td>0.0000</td>\n",
              "      <td>0.0</td>\n",
              "    </tr>\n",
              "    <tr>\n",
              "      <th>1993-02-03</th>\n",
              "      <td>0.0</td>\n",
              "      <td>0.060124</td>\n",
              "      <td>-0.024857</td>\n",
              "      <td>0.0</td>\n",
              "      <td>0.0</td>\n",
              "      <td>-0.151128</td>\n",
              "      <td>0.003689</td>\n",
              "      <td>-0.253454</td>\n",
              "      <td>-0.043190</td>\n",
              "      <td>-0.007105</td>\n",
              "      <td>0.205236</td>\n",
              "      <td>0.0</td>\n",
              "      <td>0.0</td>\n",
              "      <td>0.0</td>\n",
              "      <td>-0.050495</td>\n",
              "      <td>0.022467</td>\n",
              "      <td>0.0</td>\n",
              "      <td>-0.012340</td>\n",
              "      <td>0.0</td>\n",
              "      <td>0.0</td>\n",
              "      <td>0.006387</td>\n",
              "      <td>0.041252</td>\n",
              "      <td>-0.024073</td>\n",
              "      <td>0.049723</td>\n",
              "      <td>-0.032305</td>\n",
              "      <td>-0.091184</td>\n",
              "      <td>0.21875</td>\n",
              "      <td>0.0</td>\n",
              "      <td>0.0</td>\n",
              "      <td>0.059052</td>\n",
              "      <td>0.0</td>\n",
              "      <td>0.049247</td>\n",
              "      <td>-0.118893</td>\n",
              "      <td>0.0</td>\n",
              "      <td>0.000000</td>\n",
              "      <td>0.039970</td>\n",
              "      <td>-0.054828</td>\n",
              "      <td>-0.149639</td>\n",
              "      <td>0.057267</td>\n",
              "      <td>0.002884</td>\n",
              "      <td>...</td>\n",
              "      <td>0.0</td>\n",
              "      <td>0.139564</td>\n",
              "      <td>0.0</td>\n",
              "      <td>0.345561</td>\n",
              "      <td>0.133081</td>\n",
              "      <td>0.693532</td>\n",
              "      <td>0.022199</td>\n",
              "      <td>0.0</td>\n",
              "      <td>0.168520</td>\n",
              "      <td>0.0</td>\n",
              "      <td>0.093331</td>\n",
              "      <td>0.090783</td>\n",
              "      <td>0.044480</td>\n",
              "      <td>0.03125</td>\n",
              "      <td>0.0</td>\n",
              "      <td>0.0</td>\n",
              "      <td>0.0</td>\n",
              "      <td>0.263578</td>\n",
              "      <td>0.030243</td>\n",
              "      <td>0.125347</td>\n",
              "      <td>0.187140</td>\n",
              "      <td>0.000000</td>\n",
              "      <td>0.124187</td>\n",
              "      <td>0.104805</td>\n",
              "      <td>0.0</td>\n",
              "      <td>0.141333</td>\n",
              "      <td>0.000000</td>\n",
              "      <td>-0.01172</td>\n",
              "      <td>0.02344</td>\n",
              "      <td>0.0</td>\n",
              "      <td>0.0</td>\n",
              "      <td>0.0</td>\n",
              "      <td>-0.08679</td>\n",
              "      <td>0.0</td>\n",
              "      <td>0.04167</td>\n",
              "      <td>-0.04167</td>\n",
              "      <td>-0.038919</td>\n",
              "      <td>-0.50</td>\n",
              "      <td>0.0625</td>\n",
              "      <td>0.0</td>\n",
              "    </tr>\n",
              "    <tr>\n",
              "      <th>1993-02-04</th>\n",
              "      <td>0.0</td>\n",
              "      <td>-0.360770</td>\n",
              "      <td>-0.060757</td>\n",
              "      <td>0.0</td>\n",
              "      <td>0.0</td>\n",
              "      <td>0.113350</td>\n",
              "      <td>-0.022114</td>\n",
              "      <td>0.069862</td>\n",
              "      <td>0.000000</td>\n",
              "      <td>-0.007096</td>\n",
              "      <td>-0.031570</td>\n",
              "      <td>0.0</td>\n",
              "      <td>0.0</td>\n",
              "      <td>0.0</td>\n",
              "      <td>0.000000</td>\n",
              "      <td>0.022467</td>\n",
              "      <td>0.0</td>\n",
              "      <td>-0.074041</td>\n",
              "      <td>0.0</td>\n",
              "      <td>0.0</td>\n",
              "      <td>0.051113</td>\n",
              "      <td>0.041252</td>\n",
              "      <td>-0.024073</td>\n",
              "      <td>-0.008290</td>\n",
              "      <td>-0.016157</td>\n",
              "      <td>-0.109414</td>\n",
              "      <td>0.09375</td>\n",
              "      <td>0.0</td>\n",
              "      <td>0.0</td>\n",
              "      <td>-0.118103</td>\n",
              "      <td>0.0</td>\n",
              "      <td>0.000000</td>\n",
              "      <td>-0.237776</td>\n",
              "      <td>0.0</td>\n",
              "      <td>-0.003219</td>\n",
              "      <td>-0.099925</td>\n",
              "      <td>-0.246706</td>\n",
              "      <td>0.000000</td>\n",
              "      <td>-0.157480</td>\n",
              "      <td>-0.017329</td>\n",
              "      <td>...</td>\n",
              "      <td>0.0</td>\n",
              "      <td>0.000000</td>\n",
              "      <td>0.0</td>\n",
              "      <td>-0.345561</td>\n",
              "      <td>-0.133073</td>\n",
              "      <td>-0.924709</td>\n",
              "      <td>-0.016648</td>\n",
              "      <td>0.0</td>\n",
              "      <td>-0.061282</td>\n",
              "      <td>0.0</td>\n",
              "      <td>0.186662</td>\n",
              "      <td>0.000000</td>\n",
              "      <td>-0.011123</td>\n",
              "      <td>-0.15625</td>\n",
              "      <td>0.0</td>\n",
              "      <td>0.0</td>\n",
              "      <td>0.0</td>\n",
              "      <td>0.018827</td>\n",
              "      <td>-0.024196</td>\n",
              "      <td>0.167129</td>\n",
              "      <td>-0.187629</td>\n",
              "      <td>-0.082895</td>\n",
              "      <td>0.341510</td>\n",
              "      <td>-0.029946</td>\n",
              "      <td>0.0</td>\n",
              "      <td>-0.115635</td>\n",
              "      <td>0.060142</td>\n",
              "      <td>-0.00782</td>\n",
              "      <td>-0.01562</td>\n",
              "      <td>0.0</td>\n",
              "      <td>0.0</td>\n",
              "      <td>0.0</td>\n",
              "      <td>0.14465</td>\n",
              "      <td>0.0</td>\n",
              "      <td>-0.04166</td>\n",
              "      <td>-0.03126</td>\n",
              "      <td>-0.046711</td>\n",
              "      <td>0.00</td>\n",
              "      <td>0.0625</td>\n",
              "      <td>0.0</td>\n",
              "    </tr>\n",
              "  </tbody>\n",
              "</table>\n",
              "<p>5 rows × 517 columns</p>\n",
              "</div>"
            ],
            "text/plain": [
              "            ADS        CA      MSFT  RHT  ...      GILD  REGN    VRTX  HSIC\n",
              "1993-01-29  0.0  0.060124 -0.022100  0.0  ...  0.015564  1.75  0.1250   0.0\n",
              "1993-02-01  0.0 -0.180389  0.027621  0.0  ...  0.007782  1.25  0.1250   0.0\n",
              "1993-02-02  0.0 -0.120257  0.035900  0.0  ... -0.007792 -0.25  0.0000   0.0\n",
              "1993-02-03  0.0  0.060124 -0.024857  0.0  ... -0.038919 -0.50  0.0625   0.0\n",
              "1993-02-04  0.0 -0.360770 -0.060757  0.0  ... -0.046711  0.00  0.0625   0.0\n",
              "\n",
              "[5 rows x 517 columns]"
            ]
          },
          "metadata": {},
          "execution_count": 28
        }
      ]
    },
    {
      "cell_type": "code",
      "metadata": {
        "colab": {
          "base_uri": "https://localhost:8080/"
        },
        "id": "apu-A2lFP4un",
        "outputId": "aa4df788-7951-4113-bd0c-af52f7f318f3"
      },
      "source": [
        "sp500_px.index"
      ],
      "execution_count": 29,
      "outputs": [
        {
          "output_type": "execute_result",
          "data": {
            "text/plain": [
              "Index(['1993-01-29', '1993-02-01', '1993-02-02', '1993-02-03', '1993-02-04',\n",
              "       '1993-02-05', '1993-02-08', '1993-02-09', '1993-02-10', '1993-02-11',\n",
              "       ...\n",
              "       '2015-06-18', '2015-06-19', '2015-06-22', '2015-06-23', '2015-06-24',\n",
              "       '2015-06-25', '2015-06-26', '2015-06-29', '2015-06-30', '2015-07-01'],\n",
              "      dtype='object', length=5647)"
            ]
          },
          "metadata": {},
          "execution_count": 29
        }
      ]
    },
    {
      "cell_type": "code",
      "metadata": {
        "colab": {
          "base_uri": "https://localhost:8080/"
        },
        "id": "wxGyMSNDOl5V",
        "outputId": "1ed21e3e-8e52-43ab-f2e8-e22a064e5801"
      },
      "source": [
        "# Table 1-7\n",
        "# Determine telecommunications symbols\n",
        "telecomSymbols = sp500_sym[sp500_sym['sector'] == 'telecommunications_services']['symbol']\n",
        "\n",
        "# Filter data for dates July 2012 through June 2015\n",
        "telecom = sp500_px.loc[sp500_px.index >= '2012-07-01', telecomSymbols]\n",
        "telecom.corr()\n",
        "print(telecom)"
      ],
      "execution_count": 30,
      "outputs": [
        {
          "output_type": "stream",
          "name": "stdout",
          "text": [
            "                   T       CTL       FTR        VZ      LVLT\n",
            "2012-07-02  0.422496  0.140847  0.070879  0.554180 -0.519998\n",
            "2012-07-03 -0.177448  0.066280  0.070879 -0.025976 -0.049999\n",
            "2012-07-05 -0.160548 -0.132563  0.055128 -0.051956 -0.180000\n",
            "2012-07-06  0.342205  0.132563  0.007875  0.140106 -0.359999\n",
            "2012-07-09  0.136883  0.124279 -0.023626  0.253943  0.180000\n",
            "...              ...       ...       ...       ...       ...\n",
            "2015-06-25  0.049342 -1.600000 -0.040000 -0.187790 -0.330002\n",
            "2015-06-26 -0.256586  0.039999 -0.070000  0.029650 -0.739998\n",
            "2015-06-29 -0.098685 -0.559999 -0.060000 -0.504063 -1.360000\n",
            "2015-06-30 -0.503298 -0.420000 -0.070000 -0.523829  0.199997\n",
            "2015-07-01 -0.019737  0.080000 -0.050000  0.355811  0.139999\n",
            "\n",
            "[754 rows x 5 columns]\n"
          ]
        }
      ]
    },
    {
      "cell_type": "markdown",
      "metadata": {
        "id": "NB-6-mMmPnpo"
      },
      "source": [
        "Next we focus on funds traded on major exchanges (sector == 'etf')."
      ]
    },
    {
      "cell_type": "code",
      "metadata": {
        "colab": {
          "base_uri": "https://localhost:8080/"
        },
        "id": "kuTqMHGXQGjQ",
        "outputId": "8c7fbb12-ecb9-4406-8f19-c04c4f369719"
      },
      "source": [
        "etfs = sp500_px.loc[sp500_px.index > '2012-07-01',\n",
        "                    sp500_sym[sp500_sym['sector'] == 'etf']['symbol']]\n",
        "print(etfs.head())"
      ],
      "execution_count": 31,
      "outputs": [
        {
          "output_type": "stream",
          "name": "stdout",
          "text": [
            "                 XLI       QQQ       SPY  ...       XLP       XLF       XLK\n",
            "2012-07-02 -0.376098  0.096313  0.028223  ...  0.313499  0.018999  0.075668\n",
            "2012-07-03  0.376099  0.481576  0.874936  ...  0.129087  0.104492  0.236462\n",
            "2012-07-05  0.150440  0.096313 -0.103487  ... -0.073766 -0.142490  0.066211\n",
            "2012-07-06 -0.141040 -0.491201  0.018819  ...  0.119865  0.066495 -0.227003\n",
            "2012-07-09  0.244465 -0.048160 -0.056445  ... -0.064548  0.018999  0.009457\n",
            "\n",
            "[5 rows x 17 columns]\n"
          ]
        }
      ]
    },
    {
      "cell_type": "markdown",
      "metadata": {
        "id": "eKKfU18uQZgo"
      },
      "source": [
        "Due to the large number of columns in this table, looking at the correlation matrix is cumbersome and it's more convenient to plot the correlation as a heatmap. The *seaborn* package provides a convenient implementation for heatmaps."
      ]
    },
    {
      "cell_type": "code",
      "metadata": {
        "colab": {
          "base_uri": "https://localhost:8080/",
          "height": 297
        },
        "id": "hQMifdjMQ0XX",
        "outputId": "bc43d6f0-064c-4164-be31-2c2aa3c13e75"
      },
      "source": [
        "fig, ax = plt.subplots(figsize=(5, 4))\n",
        "ax = sns.heatmap(etfs.corr(), vmin=-1, vmax=1,\n",
        "                 cmap=sns.diverging_palette(20, 220, as_cmap=True),\n",
        "                 ax=ax)\n",
        "\n",
        "plt.tight_layout()\n",
        "plt.show()"
      ],
      "execution_count": 32,
      "outputs": [
        {
          "output_type": "display_data",
          "data": {
            "image/png": "[encoded data removed]",
            "text/plain": [
              "<Figure size 360x288 with 2 Axes>"
            ]
          },
          "metadata": {
            "needs_background": "light"
          }
        }
      ]
    },
    {
      "cell_type": "markdown",
      "metadata": {
        "id": "5Le-YwoQRG-R"
      },
      "source": [
        "The above heatmap works when you have color. For the greyscale images, as used in the book, we need to visualize the direction as well. The following code shows the strength of the correlation using ellipses."
      ]
    },
    {
      "cell_type": "code",
      "metadata": {
        "colab": {
          "base_uri": "https://localhost:8080/",
          "height": 297
        },
        "id": "9ChoUUFcRkiO",
        "outputId": "097205ef-2ad6-43e6-969e-54bc44fc77da"
      },
      "source": [
        "from matplotlib.collections import EllipseCollection\n",
        "from matplotlib.colors import Normalize\n",
        "\n",
        "def plot_corr_ellipses(data, figsize=None, **kwargs):\n",
        "    ''' https://stackoverflow.com/a/34558488 '''\n",
        "    M = np.array(data)\n",
        "    if not M.ndim == 2:\n",
        "        raise ValueError('data must be a 2D array')\n",
        "    fig, ax = plt.subplots(1, 1, figsize=figsize, subplot_kw={'aspect':'equal'})\n",
        "    ax.set_xlim(-0.5, M.shape[1] - 0.5)\n",
        "    ax.set_ylim(-0.5, M.shape[0] - 0.5)\n",
        "    ax.invert_yaxis()\n",
        "\n",
        "    # xy locations of each ellipse center\n",
        "    xy = np.indices(M.shape)[::-1].reshape(2, -1).T\n",
        "\n",
        "    # set the relative sizes of the major/minor axes according to the strength of\n",
        "    # the positive/negative correlation\n",
        "    w = np.ones_like(M).ravel() + 0.01\n",
        "    h = 1 - np.abs(M).ravel() - 0.01\n",
        "    a = 45 * np.sign(M).ravel()\n",
        "\n",
        "    ec = EllipseCollection(widths=w, heights=h, angles=a, units='x', offsets=xy,\n",
        "                           norm=Normalize(vmin=-1, vmax=1),\n",
        "                           transOffset=ax.transData, array=M.ravel(), **kwargs)\n",
        "    ax.add_collection(ec)\n",
        "\n",
        "    # if data is a DataFrame, use the row/column names as tick labels\n",
        "    if isinstance(data, pd.DataFrame):\n",
        "        ax.set_xticks(np.arange(M.shape[1]))\n",
        "        ax.set_xticklabels(data.columns, rotation=90)\n",
        "        ax.set_yticks(np.arange(M.shape[0]))\n",
        "        ax.set_yticklabels(data.index)\n",
        "\n",
        "    return ec\n",
        "\n",
        "m = plot_corr_ellipses(etfs.corr(), figsize=(5, 4), cmap='bwr_r')\n",
        "cb = fig.colorbar(m)\n",
        "cb.set_label('Correlation coefficient')\n",
        "\n",
        "plt.tight_layout()\n",
        "plt.show()"
      ],
      "execution_count": 33,
      "outputs": [
        {
          "output_type": "display_data",
          "data": {
            "image/png": "[encoded data removed]",
            "text/plain": [
              "<Figure size 360x288 with 1 Axes>"
            ]
          },
          "metadata": {
            "needs_background": "light"
          }
        }
      ]
    },
    {
      "cell_type": "markdown",
      "metadata": {
        "id": "XtKLvhqGbaxk"
      },
      "source": [
        "### **1.7.1 Scatterplots**"
      ]
    },
    {
      "cell_type": "markdown",
      "metadata": {
        "id": "YMgwU0FXfMwu"
      },
      "source": [
        "Simple scatterplots are supported by *pandas*. Specifying the marker as $\\u25EF$ uses an open circle for each point."
      ]
    },
    {
      "cell_type": "code",
      "metadata": {
        "id": "VtOHrz9acPoE",
        "colab": {
          "base_uri": "https://localhost:8080/",
          "height": 297
        },
        "outputId": "56d78c85-96bf-4cec-e12a-6d11f7f18f62"
      },
      "source": [
        "ax = telecom.plot.scatter(x='T', y='VZ', figsize=(4, 4), marker='$\\u25EF$')\n",
        "ax.set_xlabel('ATT (T)')\n",
        "ax.set_ylabel('Verizon (VZ)')\n",
        "ax.axhline(0, color='grey', lw=1)\n",
        "ax.axvline(0, color='grey', lw=1)\n",
        "\n",
        "plt.tight_layout()\n",
        "plt.show()"
      ],
      "execution_count": 34,
      "outputs": [
        {
          "output_type": "display_data",
          "data": {
            "image/png": "[encoded data removed]",
            "text/plain": [
              "<Figure size 288x288 with 1 Axes>"
            ]
          },
          "metadata": {
            "needs_background": "light"
          }
        }
      ]
    },
    {
      "cell_type": "code",
      "metadata": {
        "colab": {
          "base_uri": "https://localhost:8080/",
          "height": 296
        },
        "id": "OyJCZseihkHH",
        "outputId": "64fa7ae5-11f2-47a7-b0af-73d75e8373d5"
      },
      "source": [
        "ax = telecom.plot.scatter(x='T', y='VZ', figsize=(4, 4), marker='$\\u25EF$', alpha=0.5)\n",
        "ax.set_xlabel('ATT (T)')\n",
        "ax.set_ylabel('Verizon (VZ)')\n",
        "ax.axhline(0, color='grey', lw=1)\n",
        "print(ax.axvline(0, color='grey', lw=1))"
      ],
      "execution_count": 35,
      "outputs": [
        {
          "output_type": "stream",
          "name": "stdout",
          "text": [
            "Line2D(_line1)\n"
          ]
        },
        {
          "output_type": "display_data",
          "data": {
            "image/png": "[encoded data removed]",
            "text/plain": [
              "<Figure size 288x288 with 1 Axes>"
            ]
          },
          "metadata": {
            "needs_background": "light"
          }
        }
      ]
    },
    {
      "cell_type": "markdown",
      "metadata": {
        "id": "neW6Z59dbecc"
      },
      "source": [
        "## **1.8 Exploring Two or More Variables**"
      ]
    },
    {
      "cell_type": "markdown",
      "metadata": {
        "id": "OaeLeoaBlISs"
      },
      "source": [
        "Load the kc_tax dataset and filter based on a variety of criteria."
      ]
    },
    {
      "cell_type": "code",
      "metadata": {
        "colab": {
          "base_uri": "https://localhost:8080/",
          "height": 204
        },
        "id": "JGhB_wG0hapm",
        "outputId": "9a732995-99e4-4ef6-bbef-a5dcd298218a"
      },
      "source": [
        "kc_tax = pd.read_csv(KC_TAX_CSV)\n",
        "kc_tax.head(5)"
      ],
      "execution_count": 36,
      "outputs": [
        {
          "output_type": "execute_result",
          "data": {
            "text/html": [
              "<div>\n",
              "<style scoped>\n",
              "    .dataframe tbody tr th:only-of-type {\n",
              "        vertical-align: middle;\n",
              "    }\n",
              "\n",
              "    .dataframe tbody tr th {\n",
              "        vertical-align: top;\n",
              "    }\n",
              "\n",
              "    .dataframe thead th {\n",
              "        text-align: right;\n",
              "    }\n",
              "</style>\n",
              "<table border=\"1\" class=\"dataframe\">\n",
              "  <thead>\n",
              "    <tr style=\"text-align: right;\">\n",
              "      <th></th>\n",
              "      <th>TaxAssessedValue</th>\n",
              "      <th>SqFtTotLiving</th>\n",
              "      <th>ZipCode</th>\n",
              "    </tr>\n",
              "  </thead>\n",
              "  <tbody>\n",
              "    <tr>\n",
              "      <th>0</th>\n",
              "      <td>NaN</td>\n",
              "      <td>1730</td>\n",
              "      <td>98117.0</td>\n",
              "    </tr>\n",
              "    <tr>\n",
              "      <th>1</th>\n",
              "      <td>206000.0</td>\n",
              "      <td>1870</td>\n",
              "      <td>98002.0</td>\n",
              "    </tr>\n",
              "    <tr>\n",
              "      <th>2</th>\n",
              "      <td>303000.0</td>\n",
              "      <td>1530</td>\n",
              "      <td>98166.0</td>\n",
              "    </tr>\n",
              "    <tr>\n",
              "      <th>3</th>\n",
              "      <td>361000.0</td>\n",
              "      <td>2000</td>\n",
              "      <td>98108.0</td>\n",
              "    </tr>\n",
              "    <tr>\n",
              "      <th>4</th>\n",
              "      <td>459000.0</td>\n",
              "      <td>3150</td>\n",
              "      <td>98108.0</td>\n",
              "    </tr>\n",
              "  </tbody>\n",
              "</table>\n",
              "</div>"
            ],
            "text/plain": [
              "   TaxAssessedValue  SqFtTotLiving  ZipCode\n",
              "0               NaN           1730  98117.0\n",
              "1          206000.0           1870  98002.0\n",
              "2          303000.0           1530  98166.0\n",
              "3          361000.0           2000  98108.0\n",
              "4          459000.0           3150  98108.0"
            ]
          },
          "metadata": {},
          "execution_count": 36
        }
      ]
    },
    {
      "cell_type": "code",
      "metadata": {
        "colab": {
          "base_uri": "https://localhost:8080/"
        },
        "id": "V2yuxzQou6wQ",
        "outputId": "133befe2-f504-41bc-c496-07a9a1608311"
      },
      "source": [
        "print(kc_tax.shape)"
      ],
      "execution_count": 37,
      "outputs": [
        {
          "output_type": "stream",
          "name": "stdout",
          "text": [
            "(498249, 3)\n"
          ]
        }
      ]
    },
    {
      "cell_type": "code",
      "metadata": {
        "id": "s8-CGul0cWid",
        "colab": {
          "base_uri": "https://localhost:8080/"
        },
        "outputId": "7401b9ef-59ca-486c-ccc5-30b25c3421c3"
      },
      "source": [
        "kc_tax0 = kc_tax.loc[(kc_tax.TaxAssessedValue < 750000) &\n",
        "                     (kc_tax.SqFtTotLiving > 100) &\n",
        "                     (kc_tax.SqFtTotLiving < 3500), :]\n",
        "print(kc_tax0.shape)"
      ],
      "execution_count": 38,
      "outputs": [
        {
          "output_type": "stream",
          "name": "stdout",
          "text": [
            "(432693, 3)\n"
          ]
        }
      ]
    },
    {
      "cell_type": "markdown",
      "metadata": {
        "id": "faChiwy-bjdd"
      },
      "source": [
        "### **1.8.1 Hexagonal binning and Contours**\n",
        "#### **Plotting numeric data versus numeric data**"
      ]
    },
    {
      "cell_type": "markdown",
      "metadata": {
        "id": "eHBghrlno_qr"
      },
      "source": [
        "If the number of data points gets large, scatter plots will no longer be meaningful. Here methods that visualize densities are more useful. The hexbin method for *pandas* data frames is one powerful approach."
      ]
    },
    {
      "cell_type": "code",
      "metadata": {
        "id": "Ip_UnPuOcO7V",
        "colab": {
          "base_uri": "https://localhost:8080/",
          "height": 297
        },
        "outputId": "36d8deca-59d2-42f9-99dc-07029b21c823"
      },
      "source": [
        "ax = kc_tax0.plot.hexbin(x='SqFtTotLiving', y='TaxAssessedValue',\n",
        "                         gridsize=30, sharex=False, figsize=(5, 4))\n",
        "ax.set_xlabel('Finished Square Feet')\n",
        "ax.set_ylabel('Tax Assessed Value')\n",
        "\n",
        "plt.tight_layout()\n",
        "plt.show()"
      ],
      "execution_count": 39,
      "outputs": [
        {
          "output_type": "display_data",
          "data": {
            "image/png": "[encoded data removed]",
            "text/plain": [
              "<Figure size 360x288 with 2 Axes>"
            ]
          },
          "metadata": {
            "needs_background": "light"
          }
        }
      ]
    },
    {
      "cell_type": "markdown",
      "metadata": {
        "id": "96FnHjizr0EY"
      },
      "source": [
        "The *seaborn* kdeplot is a two-dimensional extension of the density plot. The calculation of the 2D-density for the full dataset takes several minutes. It is sufficient to create the visualization with a smaller sample of the dataset. With 10,000 data points, creating the graph takes only seconds. While some details may be lost, the overall shape is preserved."
      ]
    },
    {
      "cell_type": "code",
      "metadata": {
        "colab": {
          "base_uri": "https://localhost:8080/",
          "height": 297
        },
        "id": "73V83qt6sRx7",
        "outputId": "a57dd9e0-d9bc-4276-83e2-4f000fb9a248"
      },
      "source": [
        "fig, ax = plt.subplots(figsize=(4, 4))\n",
        "sns.kdeplot(data=kc_tax0.sample(1000), x='SqFtTotLiving', y='TaxAssessedValue', ax=ax)\n",
        "ax.set_xlabel('Finished Square Feet')\n",
        "ax.set_ylabel('Tax Assessed Value')\n",
        "\n",
        "plt.tight_layout()\n",
        "plt.show()"
      ],
      "execution_count": 40,
      "outputs": [
        {
          "output_type": "display_data",
          "data": {
            "image/png": "[encoded data removed]",
            "text/plain": [
              "<Figure size 288x288 with 1 Axes>"
            ]
          },
          "metadata": {
            "needs_background": "light"
          }
        }
      ]
    },
    {
      "cell_type": "markdown",
      "metadata": {
        "id": "gtlaOIofb9oZ"
      },
      "source": [
        "### **1.8.2 Two Categorical Variables**"
      ]
    },
    {
      "cell_type": "markdown",
      "metadata": {
        "id": "X3ma9X7jtrFx"
      },
      "source": [
        "Load the lc_loans dataset."
      ]
    },
    {
      "cell_type": "code",
      "metadata": {
        "colab": {
          "base_uri": "https://localhost:8080/",
          "height": 204
        },
        "id": "9hezW7u0tuKq",
        "outputId": "557260e8-a3b8-40f9-bf5b-4d7ace6da5d5"
      },
      "source": [
        "lc_loans = pd.read_csv(LC_LOANS_CSV)\n",
        "lc_loans.head(5)"
      ],
      "execution_count": 41,
      "outputs": [
        {
          "output_type": "execute_result",
          "data": {
            "text/html": [
              "<div>\n",
              "<style scoped>\n",
              "    .dataframe tbody tr th:only-of-type {\n",
              "        vertical-align: middle;\n",
              "    }\n",
              "\n",
              "    .dataframe tbody tr th {\n",
              "        vertical-align: top;\n",
              "    }\n",
              "\n",
              "    .dataframe thead th {\n",
              "        text-align: right;\n",
              "    }\n",
              "</style>\n",
              "<table border=\"1\" class=\"dataframe\">\n",
              "  <thead>\n",
              "    <tr style=\"text-align: right;\">\n",
              "      <th></th>\n",
              "      <th>status</th>\n",
              "      <th>grade</th>\n",
              "    </tr>\n",
              "  </thead>\n",
              "  <tbody>\n",
              "    <tr>\n",
              "      <th>0</th>\n",
              "      <td>Fully Paid</td>\n",
              "      <td>B</td>\n",
              "    </tr>\n",
              "    <tr>\n",
              "      <th>1</th>\n",
              "      <td>Charged Off</td>\n",
              "      <td>C</td>\n",
              "    </tr>\n",
              "    <tr>\n",
              "      <th>2</th>\n",
              "      <td>Fully Paid</td>\n",
              "      <td>C</td>\n",
              "    </tr>\n",
              "    <tr>\n",
              "      <th>3</th>\n",
              "      <td>Fully Paid</td>\n",
              "      <td>C</td>\n",
              "    </tr>\n",
              "    <tr>\n",
              "      <th>4</th>\n",
              "      <td>Current</td>\n",
              "      <td>B</td>\n",
              "    </tr>\n",
              "  </tbody>\n",
              "</table>\n",
              "</div>"
            ],
            "text/plain": [
              "        status grade\n",
              "0   Fully Paid     B\n",
              "1  Charged Off     C\n",
              "2   Fully Paid     C\n",
              "3   Fully Paid     C\n",
              "4      Current     B"
            ]
          },
          "metadata": {},
          "execution_count": 41
        }
      ]
    },
    {
      "cell_type": "code",
      "metadata": {
        "colab": {
          "base_uri": "https://localhost:8080/"
        },
        "id": "XVF4D2A_u0Zg",
        "outputId": "02ea99c9-30d8-44f9-e468-d0531048348e"
      },
      "source": [
        "print(lc_loans.shape)"
      ],
      "execution_count": 42,
      "outputs": [
        {
          "output_type": "stream",
          "name": "stdout",
          "text": [
            "(450961, 2)\n"
          ]
        }
      ]
    },
    {
      "cell_type": "code",
      "metadata": {
        "id": "OtJ0mTGzcObd",
        "colab": {
          "base_uri": "https://localhost:8080/",
          "height": 498
        },
        "outputId": "44f9474d-a15a-4ba7-8530-d730de043e89"
      },
      "source": [
        "# Table 1-8(1)\n",
        "crosstab = lc_loans.pivot_table(index='grade', columns='status',\n",
        "                                aggfunc=lambda x: len(x), margins=True)\n",
        "print(crosstab)\n",
        "crosstab"
      ],
      "execution_count": 43,
      "outputs": [
        {
          "output_type": "stream",
          "name": "stdout",
          "text": [
            "status  Charged Off  Current  Fully Paid  Late     All\n",
            "grade                                                 \n",
            "A              1562    50051       20408   469   72490\n",
            "B              5302    93852       31160  2056  132370\n",
            "C              6023    88928       23147  2777  120875\n",
            "D              5007    53281       13681  2308   74277\n",
            "E              2842    24639        5949  1374   34804\n",
            "F              1526     8444        2328   606   12904\n",
            "G               409     1990         643   199    3241\n",
            "All           22671   321185       97316  9789  450961\n"
          ]
        },
        {
          "output_type": "execute_result",
          "data": {
            "text/html": [
              "<div>\n",
              "<style scoped>\n",
              "    .dataframe tbody tr th:only-of-type {\n",
              "        vertical-align: middle;\n",
              "    }\n",
              "\n",
              "    .dataframe tbody tr th {\n",
              "        vertical-align: top;\n",
              "    }\n",
              "\n",
              "    .dataframe thead th {\n",
              "        text-align: right;\n",
              "    }\n",
              "</style>\n",
              "<table border=\"1\" class=\"dataframe\">\n",
              "  <thead>\n",
              "    <tr style=\"text-align: right;\">\n",
              "      <th>status</th>\n",
              "      <th>Charged Off</th>\n",
              "      <th>Current</th>\n",
              "      <th>Fully Paid</th>\n",
              "      <th>Late</th>\n",
              "      <th>All</th>\n",
              "    </tr>\n",
              "    <tr>\n",
              "      <th>grade</th>\n",
              "      <th></th>\n",
              "      <th></th>\n",
              "      <th></th>\n",
              "      <th></th>\n",
              "      <th></th>\n",
              "    </tr>\n",
              "  </thead>\n",
              "  <tbody>\n",
              "    <tr>\n",
              "      <th>A</th>\n",
              "      <td>1562</td>\n",
              "      <td>50051</td>\n",
              "      <td>20408</td>\n",
              "      <td>469</td>\n",
              "      <td>72490</td>\n",
              "    </tr>\n",
              "    <tr>\n",
              "      <th>B</th>\n",
              "      <td>5302</td>\n",
              "      <td>93852</td>\n",
              "      <td>31160</td>\n",
              "      <td>2056</td>\n",
              "      <td>132370</td>\n",
              "    </tr>\n",
              "    <tr>\n",
              "      <th>C</th>\n",
              "      <td>6023</td>\n",
              "      <td>88928</td>\n",
              "      <td>23147</td>\n",
              "      <td>2777</td>\n",
              "      <td>120875</td>\n",
              "    </tr>\n",
              "    <tr>\n",
              "      <th>D</th>\n",
              "      <td>5007</td>\n",
              "      <td>53281</td>\n",
              "      <td>13681</td>\n",
              "      <td>2308</td>\n",
              "      <td>74277</td>\n",
              "    </tr>\n",
              "    <tr>\n",
              "      <th>E</th>\n",
              "      <td>2842</td>\n",
              "      <td>24639</td>\n",
              "      <td>5949</td>\n",
              "      <td>1374</td>\n",
              "      <td>34804</td>\n",
              "    </tr>\n",
              "    <tr>\n",
              "      <th>F</th>\n",
              "      <td>1526</td>\n",
              "      <td>8444</td>\n",
              "      <td>2328</td>\n",
              "      <td>606</td>\n",
              "      <td>12904</td>\n",
              "    </tr>\n",
              "    <tr>\n",
              "      <th>G</th>\n",
              "      <td>409</td>\n",
              "      <td>1990</td>\n",
              "      <td>643</td>\n",
              "      <td>199</td>\n",
              "      <td>3241</td>\n",
              "    </tr>\n",
              "    <tr>\n",
              "      <th>All</th>\n",
              "      <td>22671</td>\n",
              "      <td>321185</td>\n",
              "      <td>97316</td>\n",
              "      <td>9789</td>\n",
              "      <td>450961</td>\n",
              "    </tr>\n",
              "  </tbody>\n",
              "</table>\n",
              "</div>"
            ],
            "text/plain": [
              "status  Charged Off  Current  Fully Paid  Late     All\n",
              "grade                                                 \n",
              "A              1562    50051       20408   469   72490\n",
              "B              5302    93852       31160  2056  132370\n",
              "C              6023    88928       23147  2777  120875\n",
              "D              5007    53281       13681  2308   74277\n",
              "E              2842    24639        5949  1374   34804\n",
              "F              1526     8444        2328   606   12904\n",
              "G               409     1990         643   199    3241\n",
              "All           22671   321185       97316  9789  450961"
            ]
          },
          "metadata": {},
          "execution_count": 43
        }
      ]
    },
    {
      "cell_type": "code",
      "metadata": {
        "colab": {
          "base_uri": "https://localhost:8080/"
        },
        "id": "CJQk41D3uNfw",
        "outputId": "6748ac4e-c63f-4c71-e18f-6687b0f1919b"
      },
      "source": [
        "# Table 1-8(2)\n",
        "df = crosstab.copy().loc['A':'G', :]\n",
        "df.loc[:, 'Charged Off':'Late'] = df.loc[:, 'Charged Off':'Late'].div(df['All'], axis=0)\n",
        "df['All']"
      ],
      "execution_count": 44,
      "outputs": [
        {
          "output_type": "execute_result",
          "data": {
            "text/plain": [
              "grade\n",
              "A     72490\n",
              "B    132370\n",
              "C    120875\n",
              "D     74277\n",
              "E     34804\n",
              "F     12904\n",
              "G      3241\n",
              "Name: All, dtype: int64"
            ]
          },
          "metadata": {},
          "execution_count": 44
        }
      ]
    },
    {
      "cell_type": "code",
      "metadata": {
        "colab": {
          "base_uri": "https://localhost:8080/",
          "height": 297
        },
        "id": "MlU5A0pcwsVs",
        "outputId": "819c8c57-5ec8-4dbc-8546-2d84c5c64565"
      },
      "source": [
        "df"
      ],
      "execution_count": 45,
      "outputs": [
        {
          "output_type": "execute_result",
          "data": {
            "text/html": [
              "<div>\n",
              "<style scoped>\n",
              "    .dataframe tbody tr th:only-of-type {\n",
              "        vertical-align: middle;\n",
              "    }\n",
              "\n",
              "    .dataframe tbody tr th {\n",
              "        vertical-align: top;\n",
              "    }\n",
              "\n",
              "    .dataframe thead th {\n",
              "        text-align: right;\n",
              "    }\n",
              "</style>\n",
              "<table border=\"1\" class=\"dataframe\">\n",
              "  <thead>\n",
              "    <tr style=\"text-align: right;\">\n",
              "      <th>status</th>\n",
              "      <th>Charged Off</th>\n",
              "      <th>Current</th>\n",
              "      <th>Fully Paid</th>\n",
              "      <th>Late</th>\n",
              "      <th>All</th>\n",
              "    </tr>\n",
              "    <tr>\n",
              "      <th>grade</th>\n",
              "      <th></th>\n",
              "      <th></th>\n",
              "      <th></th>\n",
              "      <th></th>\n",
              "      <th></th>\n",
              "    </tr>\n",
              "  </thead>\n",
              "  <tbody>\n",
              "    <tr>\n",
              "      <th>A</th>\n",
              "      <td>0.021548</td>\n",
              "      <td>0.690454</td>\n",
              "      <td>0.281528</td>\n",
              "      <td>0.006470</td>\n",
              "      <td>72490</td>\n",
              "    </tr>\n",
              "    <tr>\n",
              "      <th>B</th>\n",
              "      <td>0.040054</td>\n",
              "      <td>0.709013</td>\n",
              "      <td>0.235401</td>\n",
              "      <td>0.015532</td>\n",
              "      <td>132370</td>\n",
              "    </tr>\n",
              "    <tr>\n",
              "      <th>C</th>\n",
              "      <td>0.049828</td>\n",
              "      <td>0.735702</td>\n",
              "      <td>0.191495</td>\n",
              "      <td>0.022974</td>\n",
              "      <td>120875</td>\n",
              "    </tr>\n",
              "    <tr>\n",
              "      <th>D</th>\n",
              "      <td>0.067410</td>\n",
              "      <td>0.717328</td>\n",
              "      <td>0.184189</td>\n",
              "      <td>0.031073</td>\n",
              "      <td>74277</td>\n",
              "    </tr>\n",
              "    <tr>\n",
              "      <th>E</th>\n",
              "      <td>0.081657</td>\n",
              "      <td>0.707936</td>\n",
              "      <td>0.170929</td>\n",
              "      <td>0.039478</td>\n",
              "      <td>34804</td>\n",
              "    </tr>\n",
              "    <tr>\n",
              "      <th>F</th>\n",
              "      <td>0.118258</td>\n",
              "      <td>0.654371</td>\n",
              "      <td>0.180409</td>\n",
              "      <td>0.046962</td>\n",
              "      <td>12904</td>\n",
              "    </tr>\n",
              "    <tr>\n",
              "      <th>G</th>\n",
              "      <td>0.126196</td>\n",
              "      <td>0.614008</td>\n",
              "      <td>0.198396</td>\n",
              "      <td>0.061401</td>\n",
              "      <td>3241</td>\n",
              "    </tr>\n",
              "  </tbody>\n",
              "</table>\n",
              "</div>"
            ],
            "text/plain": [
              "status  Charged Off   Current  Fully Paid      Late     All\n",
              "grade                                                      \n",
              "A          0.021548  0.690454    0.281528  0.006470   72490\n",
              "B          0.040054  0.709013    0.235401  0.015532  132370\n",
              "C          0.049828  0.735702    0.191495  0.022974  120875\n",
              "D          0.067410  0.717328    0.184189  0.031073   74277\n",
              "E          0.081657  0.707936    0.170929  0.039478   34804\n",
              "F          0.118258  0.654371    0.180409  0.046962   12904\n",
              "G          0.126196  0.614008    0.198396  0.061401    3241"
            ]
          },
          "metadata": {},
          "execution_count": 45
        }
      ]
    },
    {
      "cell_type": "code",
      "metadata": {
        "colab": {
          "base_uri": "https://localhost:8080/",
          "height": 450
        },
        "id": "-OSYJGxlwczE",
        "outputId": "a44530af-b9fc-4d1d-d587-fa21162726bb"
      },
      "source": [
        "df['All'] = df['All'] / sum(df['All'])\n",
        "perc_crosstab = df\n",
        "print(perc_crosstab)\n",
        "perc_crosstab"
      ],
      "execution_count": 46,
      "outputs": [
        {
          "output_type": "stream",
          "name": "stdout",
          "text": [
            "status  Charged Off   Current  Fully Paid      Late       All\n",
            "grade                                                        \n",
            "A          0.021548  0.690454    0.281528  0.006470  0.160746\n",
            "B          0.040054  0.709013    0.235401  0.015532  0.293529\n",
            "C          0.049828  0.735702    0.191495  0.022974  0.268039\n",
            "D          0.067410  0.717328    0.184189  0.031073  0.164708\n",
            "E          0.081657  0.707936    0.170929  0.039478  0.077177\n",
            "F          0.118258  0.654371    0.180409  0.046962  0.028614\n",
            "G          0.126196  0.614008    0.198396  0.061401  0.007187\n"
          ]
        },
        {
          "output_type": "execute_result",
          "data": {
            "text/html": [
              "<div>\n",
              "<style scoped>\n",
              "    .dataframe tbody tr th:only-of-type {\n",
              "        vertical-align: middle;\n",
              "    }\n",
              "\n",
              "    .dataframe tbody tr th {\n",
              "        vertical-align: top;\n",
              "    }\n",
              "\n",
              "    .dataframe thead th {\n",
              "        text-align: right;\n",
              "    }\n",
              "</style>\n",
              "<table border=\"1\" class=\"dataframe\">\n",
              "  <thead>\n",
              "    <tr style=\"text-align: right;\">\n",
              "      <th>status</th>\n",
              "      <th>Charged Off</th>\n",
              "      <th>Current</th>\n",
              "      <th>Fully Paid</th>\n",
              "      <th>Late</th>\n",
              "      <th>All</th>\n",
              "    </tr>\n",
              "    <tr>\n",
              "      <th>grade</th>\n",
              "      <th></th>\n",
              "      <th></th>\n",
              "      <th></th>\n",
              "      <th></th>\n",
              "      <th></th>\n",
              "    </tr>\n",
              "  </thead>\n",
              "  <tbody>\n",
              "    <tr>\n",
              "      <th>A</th>\n",
              "      <td>0.021548</td>\n",
              "      <td>0.690454</td>\n",
              "      <td>0.281528</td>\n",
              "      <td>0.006470</td>\n",
              "      <td>0.160746</td>\n",
              "    </tr>\n",
              "    <tr>\n",
              "      <th>B</th>\n",
              "      <td>0.040054</td>\n",
              "      <td>0.709013</td>\n",
              "      <td>0.235401</td>\n",
              "      <td>0.015532</td>\n",
              "      <td>0.293529</td>\n",
              "    </tr>\n",
              "    <tr>\n",
              "      <th>C</th>\n",
              "      <td>0.049828</td>\n",
              "      <td>0.735702</td>\n",
              "      <td>0.191495</td>\n",
              "      <td>0.022974</td>\n",
              "      <td>0.268039</td>\n",
              "    </tr>\n",
              "    <tr>\n",
              "      <th>D</th>\n",
              "      <td>0.067410</td>\n",
              "      <td>0.717328</td>\n",
              "      <td>0.184189</td>\n",
              "      <td>0.031073</td>\n",
              "      <td>0.164708</td>\n",
              "    </tr>\n",
              "    <tr>\n",
              "      <th>E</th>\n",
              "      <td>0.081657</td>\n",
              "      <td>0.707936</td>\n",
              "      <td>0.170929</td>\n",
              "      <td>0.039478</td>\n",
              "      <td>0.077177</td>\n",
              "    </tr>\n",
              "    <tr>\n",
              "      <th>F</th>\n",
              "      <td>0.118258</td>\n",
              "      <td>0.654371</td>\n",
              "      <td>0.180409</td>\n",
              "      <td>0.046962</td>\n",
              "      <td>0.028614</td>\n",
              "    </tr>\n",
              "    <tr>\n",
              "      <th>G</th>\n",
              "      <td>0.126196</td>\n",
              "      <td>0.614008</td>\n",
              "      <td>0.198396</td>\n",
              "      <td>0.061401</td>\n",
              "      <td>0.007187</td>\n",
              "    </tr>\n",
              "  </tbody>\n",
              "</table>\n",
              "</div>"
            ],
            "text/plain": [
              "status  Charged Off   Current  Fully Paid      Late       All\n",
              "grade                                                        \n",
              "A          0.021548  0.690454    0.281528  0.006470  0.160746\n",
              "B          0.040054  0.709013    0.235401  0.015532  0.293529\n",
              "C          0.049828  0.735702    0.191495  0.022974  0.268039\n",
              "D          0.067410  0.717328    0.184189  0.031073  0.164708\n",
              "E          0.081657  0.707936    0.170929  0.039478  0.077177\n",
              "F          0.118258  0.654371    0.180409  0.046962  0.028614\n",
              "G          0.126196  0.614008    0.198396  0.061401  0.007187"
            ]
          },
          "metadata": {},
          "execution_count": 46
        }
      ]
    },
    {
      "cell_type": "markdown",
      "metadata": {
        "id": "CJXQ80RxcEm6"
      },
      "source": [
        "### **1.8.3 Categorical and Numeric Data**"
      ]
    },
    {
      "cell_type": "markdown",
      "metadata": {
        "id": "cIiby2Qjw2oF"
      },
      "source": [
        "*Pandas* boxplots of a column can be grouped by a different column."
      ]
    },
    {
      "cell_type": "code",
      "metadata": {
        "colab": {
          "base_uri": "https://localhost:8080/",
          "height": 204
        },
        "id": "7jC4iw4Hw4zl",
        "outputId": "3c6005ef-fdc2-4a96-9f84-eeaae6220732"
      },
      "source": [
        "airline_stats = pd.read_csv(AIRLINE_STATS_CSV)\n",
        "airline_stats.head()"
      ],
      "execution_count": 47,
      "outputs": [
        {
          "output_type": "execute_result",
          "data": {
            "text/html": [
              "<div>\n",
              "<style scoped>\n",
              "    .dataframe tbody tr th:only-of-type {\n",
              "        vertical-align: middle;\n",
              "    }\n",
              "\n",
              "    .dataframe tbody tr th {\n",
              "        vertical-align: top;\n",
              "    }\n",
              "\n",
              "    .dataframe thead th {\n",
              "        text-align: right;\n",
              "    }\n",
              "</style>\n",
              "<table border=\"1\" class=\"dataframe\">\n",
              "  <thead>\n",
              "    <tr style=\"text-align: right;\">\n",
              "      <th></th>\n",
              "      <th>pct_carrier_delay</th>\n",
              "      <th>pct_atc_delay</th>\n",
              "      <th>pct_weather_delay</th>\n",
              "      <th>airline</th>\n",
              "    </tr>\n",
              "  </thead>\n",
              "  <tbody>\n",
              "    <tr>\n",
              "      <th>0</th>\n",
              "      <td>8.153226</td>\n",
              "      <td>1.971774</td>\n",
              "      <td>0.762097</td>\n",
              "      <td>American</td>\n",
              "    </tr>\n",
              "    <tr>\n",
              "      <th>1</th>\n",
              "      <td>5.959924</td>\n",
              "      <td>3.706107</td>\n",
              "      <td>1.585878</td>\n",
              "      <td>American</td>\n",
              "    </tr>\n",
              "    <tr>\n",
              "      <th>2</th>\n",
              "      <td>7.157270</td>\n",
              "      <td>2.706231</td>\n",
              "      <td>2.026706</td>\n",
              "      <td>American</td>\n",
              "    </tr>\n",
              "    <tr>\n",
              "      <th>3</th>\n",
              "      <td>12.100000</td>\n",
              "      <td>11.033333</td>\n",
              "      <td>0.000000</td>\n",
              "      <td>American</td>\n",
              "    </tr>\n",
              "    <tr>\n",
              "      <th>4</th>\n",
              "      <td>7.333333</td>\n",
              "      <td>3.365591</td>\n",
              "      <td>1.774194</td>\n",
              "      <td>American</td>\n",
              "    </tr>\n",
              "  </tbody>\n",
              "</table>\n",
              "</div>"
            ],
            "text/plain": [
              "   pct_carrier_delay  pct_atc_delay  pct_weather_delay   airline\n",
              "0           8.153226       1.971774           0.762097  American\n",
              "1           5.959924       3.706107           1.585878  American\n",
              "2           7.157270       2.706231           2.026706  American\n",
              "3          12.100000      11.033333           0.000000  American\n",
              "4           7.333333       3.365591           1.774194  American"
            ]
          },
          "metadata": {},
          "execution_count": 47
        }
      ]
    },
    {
      "cell_type": "code",
      "metadata": {
        "colab": {
          "base_uri": "https://localhost:8080/",
          "height": 423
        },
        "id": "EEqQLk57xQBu",
        "outputId": "bd194ce4-f1b5-40fd-b6af-3c2d13d21805"
      },
      "source": [
        "ax = airline_stats.boxplot(by='airline', column='pct_carrier_delay',\n",
        "                           figsize=(5, 5))\n",
        "ax.set_xlabel('')\n",
        "ax.set_ylabel('Daily % of Delayed Flights')\n",
        "plt.suptitle('')\n",
        "\n",
        "plt.tight_layout()\n",
        "plt.show()"
      ],
      "execution_count": 48,
      "outputs": [
        {
          "output_type": "stream",
          "name": "stderr",
          "text": [
            "/usr/local/lib/python3.7/dist-packages/numpy/core/_asarray.py:83: VisibleDeprecationWarning: Creating an ndarray from ragged nested sequences (which is a list-or-tuple of lists-or-tuples-or ndarrays with different lengths or shapes) is deprecated. If you meant to do this, you must specify 'dtype=object' when creating the ndarray\n",
            "  return array(a, dtype, copy=False, order=order)\n"
          ]
        },
        {
          "output_type": "display_data",
          "data": {
            "image/png": "[encoded data removed]",
            "text/plain": [
              "<Figure size 360x360 with 1 Axes>"
            ]
          },
          "metadata": {
            "needs_background": "light"
          }
        }
      ]
    },
    {
      "cell_type": "code",
      "metadata": {
        "id": "GbsYX6NscN-E",
        "colab": {
          "base_uri": "https://localhost:8080/",
          "height": 369
        },
        "outputId": "e96a6161-7746-4aa0-b386-b8b3b3fb69e8"
      },
      "source": [
        "fig, ax = plt.subplots(figsize=(5, 5))\n",
        "sns.violinplot(data=airline_stats, x='airline', y='pct_carrier_delay',\n",
        "               ax=ax, inner='quartile', color='white')\n",
        "ax.set_xlabel('')\n",
        "ax.set_ylabel('Dailly % of Delayed Flights')\n",
        "\n",
        "plt.tight_layout()\n",
        "plt.show()"
      ],
      "execution_count": 49,
      "outputs": [
        {
          "output_type": "display_data",
          "data": {
            "image/png": "[encoded data removed]",
            "text/plain": [
              "<Figure size 360x360 with 1 Axes>"
            ]
          },
          "metadata": {
            "needs_background": "light"
          }
        }
      ]
    },
    {
      "cell_type": "markdown",
      "metadata": {
        "id": "O44vgK0ccJC-"
      },
      "source": [
        "### **1.8.4 Visualizing Multiple Variables**"
      ]
    },
    {
      "cell_type": "code",
      "metadata": {
        "id": "OlrueK6scNZ0",
        "colab": {
          "base_uri": "https://localhost:8080/",
          "height": 419
        },
        "outputId": "e4061470-0575-4824-8626-6c9e351453f1"
      },
      "source": [
        "zip_codes = [98188, 98105, 98108, 98126]\n",
        "kc_tax_zip = kc_tax0.loc[kc_tax0.ZipCode.isin(zip_codes),:]\n",
        "kc_tax_zip"
      ],
      "execution_count": 50,
      "outputs": [
        {
          "output_type": "execute_result",
          "data": {
            "text/html": [
              "<div>\n",
              "<style scoped>\n",
              "    .dataframe tbody tr th:only-of-type {\n",
              "        vertical-align: middle;\n",
              "    }\n",
              "\n",
              "    .dataframe tbody tr th {\n",
              "        vertical-align: top;\n",
              "    }\n",
              "\n",
              "    .dataframe thead th {\n",
              "        text-align: right;\n",
              "    }\n",
              "</style>\n",
              "<table border=\"1\" class=\"dataframe\">\n",
              "  <thead>\n",
              "    <tr style=\"text-align: right;\">\n",
              "      <th></th>\n",
              "      <th>TaxAssessedValue</th>\n",
              "      <th>SqFtTotLiving</th>\n",
              "      <th>ZipCode</th>\n",
              "    </tr>\n",
              "  </thead>\n",
              "  <tbody>\n",
              "    <tr>\n",
              "      <th>3</th>\n",
              "      <td>361000.0</td>\n",
              "      <td>2000</td>\n",
              "      <td>98108.0</td>\n",
              "    </tr>\n",
              "    <tr>\n",
              "      <th>4</th>\n",
              "      <td>459000.0</td>\n",
              "      <td>3150</td>\n",
              "      <td>98108.0</td>\n",
              "    </tr>\n",
              "    <tr>\n",
              "      <th>10</th>\n",
              "      <td>202000.0</td>\n",
              "      <td>830</td>\n",
              "      <td>98108.0</td>\n",
              "    </tr>\n",
              "    <tr>\n",
              "      <th>11</th>\n",
              "      <td>210000.0</td>\n",
              "      <td>1130</td>\n",
              "      <td>98108.0</td>\n",
              "    </tr>\n",
              "    <tr>\n",
              "      <th>12</th>\n",
              "      <td>193000.0</td>\n",
              "      <td>1560</td>\n",
              "      <td>98108.0</td>\n",
              "    </tr>\n",
              "    <tr>\n",
              "      <th>...</th>\n",
              "      <td>...</td>\n",
              "      <td>...</td>\n",
              "      <td>...</td>\n",
              "    </tr>\n",
              "    <tr>\n",
              "      <th>498049</th>\n",
              "      <td>346000.0</td>\n",
              "      <td>1430</td>\n",
              "      <td>98105.0</td>\n",
              "    </tr>\n",
              "    <tr>\n",
              "      <th>498050</th>\n",
              "      <td>463000.0</td>\n",
              "      <td>1610</td>\n",
              "      <td>98105.0</td>\n",
              "    </tr>\n",
              "    <tr>\n",
              "      <th>498051</th>\n",
              "      <td>553000.0</td>\n",
              "      <td>1580</td>\n",
              "      <td>98105.0</td>\n",
              "    </tr>\n",
              "    <tr>\n",
              "      <th>498052</th>\n",
              "      <td>571000.0</td>\n",
              "      <td>1840</td>\n",
              "      <td>98105.0</td>\n",
              "    </tr>\n",
              "    <tr>\n",
              "      <th>498053</th>\n",
              "      <td>694000.0</td>\n",
              "      <td>2420</td>\n",
              "      <td>98105.0</td>\n",
              "    </tr>\n",
              "  </tbody>\n",
              "</table>\n",
              "<p>19690 rows × 3 columns</p>\n",
              "</div>"
            ],
            "text/plain": [
              "        TaxAssessedValue  SqFtTotLiving  ZipCode\n",
              "3               361000.0           2000  98108.0\n",
              "4               459000.0           3150  98108.0\n",
              "10              202000.0            830  98108.0\n",
              "11              210000.0           1130  98108.0\n",
              "12              193000.0           1560  98108.0\n",
              "...                  ...            ...      ...\n",
              "498049          346000.0           1430  98105.0\n",
              "498050          463000.0           1610  98105.0\n",
              "498051          553000.0           1580  98105.0\n",
              "498052          571000.0           1840  98105.0\n",
              "498053          694000.0           2420  98105.0\n",
              "\n",
              "[19690 rows x 3 columns]"
            ]
          },
          "metadata": {},
          "execution_count": 50
        }
      ]
    },
    {
      "cell_type": "code",
      "metadata": {
        "colab": {
          "base_uri": "https://localhost:8080/",
          "height": 441
        },
        "id": "JwVGOfbvCz4G",
        "outputId": "87b89ae7-67d5-4a4f-d5bd-0162a0a2d350"
      },
      "source": [
        "def hexbin(x, y, color, **kwargs):\n",
        "    cmap = sns.light_palette(color, as_cmap=True)\n",
        "    plt.hexbin(x, y, gridsize=25, cmap=cmap, **kwargs)\n",
        "\n",
        "g = sns.FacetGrid(kc_tax_zip, col='ZipCode', col_wrap=2)\n",
        "g.map(hexbin, 'SqFtTotLiving', 'TaxAssessedValue', \n",
        "      extent=[0, 3500, 0, 700000])\n",
        "g.set_axis_labels('Finished Square Feet', 'Tax Assessed Value')\n",
        "g.set_titles('Zip code {col_name:.0f}')\n",
        "\n",
        "plt.tight_layout()\n",
        "plt.show()"
      ],
      "execution_count": 51,
      "outputs": [
        {
          "output_type": "display_data",
          "data": {
            "image/png": "[encoded data removed]",
            "text/plain": [
              "<Figure size 432x432 with 4 Axes>"
            ]
          },
          "metadata": {
            "needs_background": "light"
          }
        }
      ]
    }
  ]
}