{
  "nbformat": 4,
  "nbformat_minor": 0,
  "metadata": {
    "colab": {
      "name": "Chapter 1 - Exploratory Data Analysis.ipynb",
      "provenance": [],
      "collapsed_sections": [],
      "authorship_tag": "ABX9TyNuxSmiTC31Y3pydxfK3drQ",
      "include_colab_link": true
    },
    "kernelspec": {
      "name": "python3",
      "display_name": "Python 3"
    },
    "language_info": {
      "name": "python"
    }
  },
  "cells": [
    {
      "cell_type": "markdown",
      "metadata": {
        "id": "view-in-github",
        "colab_type": "text"
      },
      "source": [
        "<a href=\"https://colab.research.google.com/github/young-hwanlee/practical-statistics-for-data-scientists/blob/main/Chapter_1_Exploratory_Data_Analysis.ipynb\" target=\"_parent\"><img src=\"https://colab.research.google.com/assets/colab-badge.svg\" alt=\"Open In Colab\"/></a>"
      ]
    },
    {
      "cell_type": "markdown",
      "metadata": {
        "id": "7Bn4CojVQZvC"
      },
      "source": [
        "# **Practical Statistics for Data Scientists (Python)**\n",
        "# **Chapter 1. Exploratory Data Analysis**\n",
        "> (c) 2019 Peter C. Bruce, Andrew Bruce, Peter Gedeck"
      ]
    },
    {
      "cell_type": "markdown",
      "metadata": {
        "id": "Y2ymHz-TQT_r"
      },
      "source": [
        "Import required Python packages."
      ]
    },
    {
      "cell_type": "code",
      "metadata": {
        "colab": {
          "base_uri": "https://localhost:8080/"
        },
        "id": "SXPuSTuPTPcR",
        "outputId": "5f132b4a-827b-41b4-b958-b2349bf9f814"
      },
      "source": [
        "!git clone https://github.com/young-hwanlee/practical-statistics-for-data-scientists/blob/main/common.py"
      ],
      "execution_count": 7,
      "outputs": [
        {
          "output_type": "stream",
          "name": "stdout",
          "text": [
            "Cloning into 'common.py'...\n",
            "fatal: repository 'https://github.com/young-hwanlee/practical-statistics-for-data-scientists/blob/main/common.py/' not found\n"
          ]
        }
      ]
    },
    {
      "cell_type": "code",
      "metadata": {
        "id": "Ed0kcRuTrNDR",
        "colab": {
          "base_uri": "https://localhost:8080/"
        },
        "outputId": "277fd550-9de6-4048-84a7-e6307c48ff0a"
      },
      "source": [
        "%matplotlib inline\n",
        "\n",
        "from pathlib import Path\n",
        "\n",
        "import pandas as pd\n",
        "import numpy as np\n",
        "from scipy.stats import trim_mean\n",
        "from statsmodels import robust\n",
        "\n",
        "!pip install wquantiles\n",
        "import wquantiles\n",
        "\n",
        "import seaborn as sns\n",
        "import matplotlib.pylab as plt"
      ],
      "execution_count": 2,
      "outputs": [
        {
          "output_type": "stream",
          "name": "stdout",
          "text": [
            "Collecting wquantiles\n",
            "  Downloading wquantiles-0.6-py3-none-any.whl (3.3 kB)\n",
            "Requirement already satisfied: numpy>=1.18 in /usr/local/lib/python3.7/dist-packages (from wquantiles) (1.19.5)\n",
            "Installing collected packages: wquantiles\n",
            "Successfully installed wquantiles-0.6\n"
          ]
        }
      ]
    },
    {
      "cell_type": "code",
      "metadata": {
        "id": "61_MAxJ_DNwO"
      },
      "source": [
        "try:\n",
        "    import common\n",
        "    DATA = common.dataDirectory()\n",
        "except ImportError:\n",
        "    DATA = Path().resolve() / 'data'"
      ],
      "execution_count": 3,
      "outputs": []
    },
    {
      "cell_type": "code",
      "metadata": {
        "colab": {
          "base_uri": "https://localhost:8080/",
          "height": 164
        },
        "id": "seShgsh3Rc85",
        "outputId": "553a38b9-bf9c-467a-c164-b0bf4001b956"
      },
      "source": [
        ""
      ],
      "execution_count": 4,
      "outputs": [
        {
          "output_type": "error",
          "ename": "NameError",
          "evalue": "ignored",
          "traceback": [
            "\u001b[0;31m---------------------------------------------------------------------------\u001b[0m",
            "\u001b[0;31mNameError\u001b[0m                                 Traceback (most recent call last)",
            "\u001b[0;32m<ipython-input-4-79c9d3b52db4>\u001b[0m in \u001b[0;36m<module>\u001b[0;34m()\u001b[0m\n\u001b[0;32m----> 1\u001b[0;31m \u001b[0mcommon\u001b[0m\u001b[0;34m\u001b[0m\u001b[0;34m\u001b[0m\u001b[0m\n\u001b[0m",
            "\u001b[0;31mNameError\u001b[0m: name 'common' is not defined"
          ]
        }
      ]
    },
    {
      "cell_type": "code",
      "metadata": {
        "id": "7ObAoXDpGV2q"
      },
      "source": [
        ""
      ],
      "execution_count": null,
      "outputs": []
    },
    {
      "cell_type": "code",
      "metadata": {
        "id": "PH77159GDO70"
      },
      "source": [
        ""
      ],
      "execution_count": null,
      "outputs": []
    }
  ]
}