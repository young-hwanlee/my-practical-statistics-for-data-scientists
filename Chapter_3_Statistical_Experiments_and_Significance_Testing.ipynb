{
  "nbformat": 4,
  "nbformat_minor": 0,
  "metadata": {
    "colab": {
      "name": "Chapter 3 - Statistical Experiments and Significance Testing.ipynb",
      "provenance": [],
      "collapsed_sections": [],
      "authorship_tag": "ABX9TyP0DfK29XOWpa+Nkd8GBs6M",
      "include_colab_link": true
    },
    "kernelspec": {
      "name": "python3",
      "display_name": "Python 3"
    },
    "language_info": {
      "name": "python"
    }
  },
  "cells": [
    {
      "cell_type": "markdown",
      "metadata": {
        "id": "view-in-github",
        "colab_type": "text"
      },
      "source": [
        "<a href=\"https://colab.research.google.com/github/young-hwanlee/my-practical-statistics-for-data-scientists/blob/main/Chapter_3_Statistical_Experiments_and_Significance_Testing.ipynb\" target=\"_parent\"><img src=\"https://colab.research.google.com/assets/colab-badge.svg\" alt=\"Open In Colab\"/></a>"
      ]
    },
    {
      "cell_type": "markdown",
      "metadata": {
        "id": "IBzvIi0DO-Cn"
      },
      "source": [
        "# **Practical Statistics for Data Scientists (Python)**\n",
        "# **Chapter 3 - Statistical Experiments and Significance Testing**\n",
        "> (c) 2019 Peter C. Bruce, Andrew Bruce, and Peter Gedeck"
      ]
    },
    {
      "cell_type": "markdown",
      "metadata": {
        "id": "BgkilkevPL8A"
      },
      "source": [
        "Import required Python packages."
      ]
    },
    {
      "cell_type": "code",
      "metadata": {
        "id": "wmrWBX_2uYUF"
      },
      "source": [
        "%matplotlib inline\n",
        "\n",
        "from pathlib import Path\n",
        "import random\n",
        "\n",
        "import pandas as pd\n",
        "import numpy as np\n",
        "\n",
        "from scipy import stats\n",
        "import statsmodels.api as sm\n",
        "import statsmodels.formula.api as smf\n",
        "from statsmodels.stats import power\n",
        "\n",
        "import matplotlib.pylab as plt"
      ],
      "execution_count": null,
      "outputs": []
    },
    {
      "cell_type": "code",
      "metadata": {
        "id": "xzl9FskqZg6L"
      },
      "source": [
        "# try:\n",
        "#     import common\n",
        "#     DATA = common.dataDirectory()\n",
        "# except ImportError:\n",
        "#     DATA = Path().resolve() / 'data'"
      ],
      "execution_count": null,
      "outputs": []
    },
    {
      "cell_type": "markdown",
      "metadata": {
        "id": "gDBWlD_PXIUW"
      },
      "source": [
        "Define paths to data sets. If you don't keep your data in the same directory as the code, adapt the path names."
      ]
    },
    {
      "cell_type": "code",
      "metadata": {
        "id": "jyvYMutDXI6X"
      },
      "source": [
        "# WEB_PAGE_DATA_CSV = DATA / 'web_page_data.csv'\n",
        "# FOUR_SESSIONS_CSV = DATA / 'four_sessions.csv'\n",
        "# CLICK_RATE_CSV = DATA / 'click_rates.csv'\n",
        "# IMANISHI_CSV = DATA / 'imanishi_data.csv'\n",
        "\n",
        "DATA = 'https://raw.githubusercontent.com/young-hwanlee/practical-statistics-for-data-scientists/master/data/'\n",
        "\n",
        "WEB_PAGE_DATA_CSV = DATA + 'web_page_data.csv'\n",
        "FOUR_SESSIONS_CSV = DATA + 'four_sessions.csv'\n",
        "CLICK_RATE_CSV = DATA + 'click_rates.csv'\n",
        "IMANISHI_CSV = DATA + 'imanishi_data.csv'"
      ],
      "execution_count": null,
      "outputs": []
    },
    {
      "cell_type": "markdown",
      "metadata": {
        "id": "MtVARcLrPebB"
      },
      "source": [
        "## **3.3 Resampling**"
      ]
    },
    {
      "cell_type": "code",
      "metadata": {
        "id": "Vn83zMFePhEB"
      },
      "source": [
        "session_times = pd.read_csv(WEB_PAGE_DATA_CSV)\n",
        "session_times.Time = 100 * session_times.Time"
      ],
      "execution_count": null,
      "outputs": []
    },
    {
      "cell_type": "code",
      "metadata": {
        "id": "bEs5Qm2NaB27"
      },
      "source": [
        "ax = session_times.boxplot(by='Page', column='Time', figsize=(4, 4))\n",
        "ax.set_xlabel('')\n",
        "ax.set_ylabel('Time (in seconds)')\n",
        "ax.suptitle('')\n",
        "\n",
        "plt.tight_layout()\n",
        "plt.show()"
      ],
      "execution_count": null,
      "outputs": []
    },
    {
      "cell_type": "code",
      "metadata": {
        "id": "RC5aS6QgadfQ"
      },
      "source": [
        "mean_a = session_times[session_times.Page == 'Page A'].Time.mean()\n",
        "mean_b = session_times[session_times.Page == 'Page B'].Time.mean()\n",
        "print(mean_b - mean_a)"
      ],
      "execution_count": null,
      "outputs": []
    },
    {
      "cell_type": "markdown",
      "metadata": {
        "id": "8uUg5DdeWm_u"
      },
      "source": [
        "The following code is different to the R version. idx_A and idx_B are reversed."
      ]
    },
    {
      "cell_type": "code",
      "metadata": {
        "id": "YyxdWfzBWnWf"
      },
      "source": [
        "# Permutation test example with stickiness\n",
        "def perm_fun(x, nA, nB):\n",
        "    n = nA + nB\n",
        "    idx_B = set(random.sample(range(n), nB))\n",
        "    idx_A = set(range(n)) - idx_B\n",
        "    return x.loc[idx_B].mean() - x.loc[idx_A].mean()\n",
        "\n",
        "xA = session_times[session_times.Page == 'Page A'].shape[0]\n",
        "nB = session_times[session_times.Page == 'Page B'].shape[0]\n",
        "print(perm_fun(session_times.Time, nA, nB))"
      ],
      "execution_count": null,
      "outputs": []
    },
    {
      "cell_type": "code",
      "metadata": {
        "id": "wBDM5FcncDYa"
      },
      "source": [
        "random.seed(1)\n",
        "perm_diffs = [perm_fun(session_times.Time, nA, nB)] for _in range(1000)]\n",
        "\n",
        "fig, ax = plt.subplots(figsize=(5, 5))\n",
        "ax.hist(perm_diffs, bins=11, rwidth=0.9)\n",
        "ax.axvline(x = mean_b - mean_a, color='black', lw=2)\n",
        "ax.text(50, 190, 'Observed\\ndifference', bbox={'facecolor':'white'})\n",
        "ax.set_xlabel('Session Time Differences (in Seconds)')\n",
        "ax.set_ylabel('Frequency')\n",
        "\n",
        "plt.tight_layout()\n",
        "plt.show()"
      ],
      "execution_count": null,
      "outputs": []
    },
    {
      "cell_type": "code",
      "metadata": {
        "id": "3PLG6qkPdl7b"
      },
      "source": [
        "print(np.mean(perm_diffs > mean_b - mean_a))"
      ],
      "execution_count": null,
      "outputs": []
    },
    {
      "cell_type": "markdown",
      "metadata": {
        "id": "8_hk4UDHPiWn"
      },
      "source": [
        "## **3.4 Statistical Significance and P-Value**\n",
        "\n"
      ]
    },
    {
      "cell_type": "code",
      "metadata": {
        "id": "h62UFKOYdxcd"
      },
      "source": [
        "random.seed(1)\n",
        "obs_pct_diff = 100 * (200 / 23739 - 182 / 22588)\n",
        "print(f'Observed difference: {obs_pct_diff:.4f}%')\n",
        "\n",
        "conversion = [0] * 45945\n",
        "conversion.extend([1] * 382)\n",
        "conversion = pd.Series(conversion)\n",
        "\n",
        "perm_diffs = [100 * perm_fun(conversion, 23739, 22588) for _ in range(1000)]\n",
        "\n",
        "fig, ax = plt.subplots(figsize=(5, 5))\n",
        "ax.hist(perm_diffs, bins=11, rwidth=0.9)\n",
        "ax.axvline(x=obs_pct_diff, color='black', lw=2)\n",
        "ax.text(0.06, 200, 'Observed\\ndifference', bbox={'facecolor':'white'})\n",
        "ax.set_xlabel('Conversion Rate (Percent)')\n",
        "ax.set_ylabel('Frequency')\n",
        "\n",
        "plt.tight_layout()\n",
        "plt.show()"
      ],
      "execution_count": null,
      "outputs": []
    },
    {
      "cell_type": "markdown",
      "metadata": {
        "id": "Gc6LrfzYdtcN"
      },
      "source": [
        "### **3.4.1 P-Value**"
      ]
    },
    {
      "cell_type": "markdown",
      "metadata": {
        "id": "KpOXZiitWWIw"
      },
      "source": [
        "If np.mean is applied to a list of booleans, it gives the percentage of how often True was found in the list (#True / #Total)."
      ]
    },
    {
      "cell_type": "code",
      "metadata": {
        "id": "oSiXhORhPrny"
      },
      "source": [
        "print(np.mean([diff > obs_pct_diff for diff in perm_diffs]))"
      ],
      "execution_count": null,
      "outputs": []
    },
    {
      "cell_type": "code",
      "metadata": {
        "id": "1yrL3xUggQLF"
      },
      "source": [
        "survivors = np.array([[200, 23739 - 200], [182, 22588 - 182]])\n",
        "chi2, p_value, df, _ = stats.chi2_contingency(survivors)\n",
        "\n",
        "print(f'p-value for single sided test: {p_value / 2:.4f}')"
      ],
      "execution_count": null,
      "outputs": []
    },
    {
      "cell_type": "markdown",
      "metadata": {
        "id": "G52fs3lhPu9U"
      },
      "source": [
        "## **3.5 t-Tests**"
      ]
    },
    {
      "cell_type": "code",
      "metadata": {
        "id": "K3m_X9NEQKoC"
      },
      "source": [
        "res = stats.ttest_ind(session_times[session_times.Page == 'Page A'].Time,\n",
        "                      session_times[session_times.Page == 'Page B'].Time,\n",
        "                      equal_var=False)\n",
        "print(f'p-value for single sided test: {res.pvalue / 2:.4f}')"
      ],
      "execution_count": null,
      "outputs": []
    },
    {
      "cell_type": "code",
      "metadata": {
        "id": "-7h8R_uUhodI"
      },
      "source": [
        "tstat, pvalue, df = sm.stats.ttest_ind(\n",
        "    session_times[session_times.Page == 'Page A'].Time,\n",
        "    session_times[session_times.Page == 'Page B'].Time,\n",
        "    usevar='unequal', alternative='smaller')\n",
        "print(f'p-value: {pvalue:.4f}')"
      ],
      "execution_count": null,
      "outputs": []
    },
    {
      "cell_type": "markdown",
      "metadata": {
        "id": "hbfGcpcPQSRz"
      },
      "source": [
        "## **3.8 ANOVA (ANalysis Of VAriance)**"
      ]
    },
    {
      "cell_type": "code",
      "metadata": {
        "id": "hqzJHtq1QaD5"
      },
      "source": [
        "four_sessions = pd.read_csv(FOUR_SESSIONS_CSV)\n",
        "\n",
        "ax = four_sessions.boxplot(by='Page', column='Time', figsize=(4, 4))\n",
        "ax.set_xlabel('Page')\n",
        "ax.set_ylabel('Time (in Seconds)')\n",
        "plt.suptitle('')\n",
        "plt.title('')\n",
        "\n",
        "plt.tight_layout()\n",
        "plt.show()"
      ],
      "execution_count": null,
      "outputs": []
    },
    {
      "cell_type": "code",
      "metadata": {
        "id": "sxQzjnp1jUnz"
      },
      "source": [
        "print(pd.read_csv(FOUR_SESSIONS_CSV).head())"
      ],
      "execution_count": null,
      "outputs": []
    },
    {
      "cell_type": "code",
      "metadata": {
        "id": "CKTd0XqajZnK"
      },
      "source": [
        "observed_variance = four_sessions.groupby('Page').mean().var()[0]\n",
        "print('Observed mean:', four_sessions.groupby('Page').mean().values.ravel())\n",
        "print('Variance:', observed_variance)\n",
        "\n",
        "# Permutation test example with stickiness\n",
        "def perm_test(df):\n",
        "    df = df.copy()\n",
        "    df['Time'] = np.random.permutation(df['Time'].values)\n",
        "    return df.groupby('Page').mean().var()[0]\n",
        "\n",
        "print(perm_test(four_sessions))"
      ],
      "execution_count": null,
      "outputs": []
    },
    {
      "cell_type": "code",
      "metadata": {
        "id": "TemQRutkkKM4"
      },
      "source": [
        "random.seed(1)\n",
        "perm_variance = [perm_test(four_sessions) for _ in range(3000)]\n",
        "print('Pr(Prov)', np.mean([var > observed_variance for var in perm_variance]))\n",
        "\n",
        "fig, ax = plt.subplots(figsize=(5, 5))\n",
        "ax.hist(perm_variance, bins=11, rwidth=0.9)\n",
        "ax.axvline(x=observed_variance, color='black', lw=2)\n",
        "ax.text(60, 200, 'Observed\\nvariance', bbox={'facecolor':'white'})\n",
        "ax.set_xlabel('Variance')\n",
        "ax.set_ylabel('Frequency')\n",
        "\n",
        "plt.tight_layout()\n",
        "plt.show()"
      ],
      "execution_count": null,
      "outputs": []
    },
    {
      "cell_type": "markdown",
      "metadata": {
        "id": "iscim_lmQm7l"
      },
      "source": [
        "### **3.8.1 F-Statistic**"
      ]
    },
    {
      "cell_type": "markdown",
      "metadata": {
        "id": "Ocn-IgzNV-KZ"
      },
      "source": [
        "We can compute an ANOVA table using *statsmodels*."
      ]
    },
    {
      "cell_type": "code",
      "metadata": {
        "id": "_QrWn9rwQqnp"
      },
      "source": [
        "model = smf.ols('Time ~ Page', data=four_sessions).fit()\n",
        "\n",
        "aov_table = sm.stats.anova_Im(model)\n",
        "print(aov_table)"
      ],
      "execution_count": null,
      "outputs": []
    },
    {
      "cell_type": "code",
      "metadata": {
        "id": "D6j5QcIVl1j2"
      },
      "source": [
        "res = stats.f_oneway(four_sessions[four_sessions.Page == 'Page 1'].Time,\n",
        "                     four_sessions[four_sessions.Page == 'Page 2'].Time,\n",
        "                     four_sessions[four_sessions.Page == 'Page 3'].Time,\n",
        "                     four_sessions[four_sessions.Page == 'Page 4'].Time)\n",
        "print(f'F-Statistic: {res.statistic / 2:.4f}')\n",
        "print(f'p-value: {res.pvalue / 2:.4f}')"
      ],
      "execution_count": null,
      "outputs": []
    },
    {
      "cell_type": "markdown",
      "metadata": {
        "id": "ApZY2aKZQu3O"
      },
      "source": [
        "### **3.8.2 Two-Way ANOVA**\n",
        "### **Two-way ANOVA is only available with statsmodels**  \n",
        "> formula = 'len ~ C(supp) + C(dose) + C(supp):C(dose)'  \n",
        "> model = ols(formula, data).fit()  \n",
        "> aov_table = anova_lm(model, typ=2)"
      ]
    },
    {
      "cell_type": "markdown",
      "metadata": {
        "id": "itpRlpzBSadl"
      },
      "source": [
        "## **3.9 Chi-Square Test**\n",
        "### **3.9.1 Chi-Square Test: A Resampling Approach**"
      ]
    },
    {
      "cell_type": "code",
      "metadata": {
        "id": "6ovD8quFSnSm"
      },
      "source": [
        "# Table 3-4\n",
        "click_rate = pd.read_csv(CLICK_RATE_CSV)\n",
        "clicks = click_rate.pivot(index='Click', columns='Headline', values='Rate')\n",
        "print(clicks)"
      ],
      "execution_count": null,
      "outputs": []
    },
    {
      "cell_type": "code",
      "metadata": {
        "id": "hbRJNb47nH5X"
      },
      "source": [
        "# Table 3-5\n",
        "row_average = clicks.mean(axis=1)\n",
        "pd.DataFrame({\n",
        "    'Headline A': row_average,\n",
        "    'Headline B': row_average,\n",
        "    'Headline C': row_average,\n",
        "})"
      ],
      "execution_count": null,
      "outputs": []
    },
    {
      "cell_type": "code",
      "metadata": {
        "id": "6jJEnI81nd0n"
      },
      "source": [
        "# Resampling approach\n",
        "box = [1] * 34\n",
        "box.extend([0] * 2966)\n",
        "random.shuffle(box)\n",
        "\n",
        "def chi2(observed, expected):\n",
        "    pearson_residuals = []\n",
        "    for row, expect in zip(observed, expected):\n",
        "        pearson_residuals.append([(observe - expect) ** 2 / expect for observe in row])\n",
        "\n",
        "    # Return sum of squares\n",
        "    return np.sum(pearson_residuals)\n",
        "\n",
        "expected_clicks = 34 / 3\n",
        "expected_noclicks = 1000 - expected_clicks\n",
        "expected = [34 / 3, 1000 - 34 / 3]\n",
        "chi2observed = chi2(clicks.values, expected)\n",
        "\n",
        "def perm_fun(box):\n",
        "    sample_clicks = [sum(random.sample(box, 1000)),\n",
        "                     sum(random.sample(box, 1000)),\n",
        "                     sum(random.sample(box, 1000))]\n",
        "    sample_noclicks = [1000 - n for n in sample_clicks]\n",
        "    return chi2([sample_clicks, sample_noclicks], expected)\n",
        "\n",
        "perm_chi2 = [perm_fun(box) for _ in range(2000)]\n",
        "\n",
        "resampled_p_value = sum(perm_chi2 > chi2observed) / len(perm_chi2)\n",
        "print(f'Observed chi2: {chi2observed:.4f}')\n",
        "print(f'Resampled p-value: {resampled_p_value:.4f}')"
      ],
      "execution_count": null,
      "outputs": []
    },
    {
      "cell_type": "code",
      "metadata": {
        "id": "1MZiPBwopZWC"
      },
      "source": [
        "chisq, pvalue, df, expected = stats.chi2_contingency(clicks)\n",
        "print(f'Observed chi2: {chisq:.4f}')\n",
        "print(f'p-value: {pvalue:.4f}')"
      ],
      "execution_count": null,
      "outputs": []
    },
    {
      "cell_type": "markdown",
      "metadata": {
        "id": "SozEpOuzSwV6"
      },
      "source": [
        "### **3.9.2 Figure Chi-Square Distribution**"
      ]
    },
    {
      "cell_type": "code",
      "metadata": {
        "id": "0uy4hLg_S5U-"
      },
      "source": [
        "x = [1 + i * (30 - 1) / 99 for i in range(100)]\n",
        "\n",
        "chi = pd.DataFrame({\n",
        "    'x': x,\n",
        "    'chi_1': stats.chi2.pdf(x, df=1),\n",
        "    'chi_2': stats.chi2.pdf(x, df=2),\n",
        "    'chi_5': stats.chi2.pdf(x, df=5),\n",
        "    'chi_10': stats.chi2.pdf(x, df=10),\n",
        "    'chi_20': stats.chi2.pdf(x, df=20),\n",
        "})\n",
        "\n",
        "fig, ax = plt.subplots(figsize=(4, 2.5))\n",
        "ax.plot(chi.x, chi.chi_1, color='black', linestyle='-', label='1')\n",
        "ax.plot(chi.x, chi.chi_2, color='black', linestyle=(0, (1, 1)), label='2')\n",
        "ax.plot(chi.x, chi.chi_5, color='black', linestyle=(0, (2, 1)), label='5')\n",
        "ax.plot(chi.x, chi.chi_10, color='black', linestyle=(0, (3, 1)), label = '10')\n",
        "ax.plot(chi.x, chi.chi_20, color='black', linestyle=(0, (4, 1)), label = '20')\n",
        "ax.legend(title='df')\n",
        "\n",
        "plt.tight_layout()\n",
        "plt.show()"
      ],
      "execution_count": null,
      "outputs": []
    },
    {
      "cell_type": "markdown",
      "metadata": {
        "id": "HOatWLENS7vx"
      },
      "source": [
        "### **3.9.3 Fisher's Exact Test**"
      ]
    },
    {
      "cell_type": "markdown",
      "metadata": {
        "id": "pjEnYcjvT0uC"
      },
      "source": [
        "*Scipy* has only an implementation of Fisher's Exact Test for 2x2 matrices. There is a github repository that provides a Python implementation that uses the same code as the R version. Installing this requires a Fortran compiler.  \n",
        "> stat.fisher_exact(clicks)"
      ]
    },
    {
      "cell_type": "code",
      "metadata": {
        "id": "cm6QyzJAS_VW"
      },
      "source": [
        "# stats.fisher_exact(clicks.values)"
      ],
      "execution_count": null,
      "outputs": []
    },
    {
      "cell_type": "markdown",
      "metadata": {
        "id": "saMnd4ZbTIxf"
      },
      "source": [
        "### **Scientific Fraud**"
      ]
    },
    {
      "cell_type": "code",
      "metadata": {
        "id": "cVg4vyoXTNPm"
      },
      "source": [
        "imanishi = pd.read_csv(IMANISHI_CSV)\n",
        "imanishi.columns = [c.strip() for c in imanishi.columns]\n",
        "ax = imanishi.plot.bar(x='Digit', y=['Frequency'], legend=False, figsize=(4, 4))\n",
        "ax.set_xlabel('Digit')\n",
        "ax.set_ylabel('Frequency')\n",
        "\n",
        "plt.tight_layout()\n",
        "plt.show()"
      ],
      "execution_count": null,
      "outputs": []
    },
    {
      "cell_type": "markdown",
      "metadata": {
        "id": "FEUTxzEeTT_S"
      },
      "source": [
        "## **3.11 Power and Sample Size**"
      ]
    },
    {
      "cell_type": "markdown",
      "metadata": {
        "id": "OcTGWBFzTZ68"
      },
      "source": [
        "*Statsmodels* has a number of methods for power calculation.  \n",
        "See e.g.: https://machinelearningmastery.com/statistical-power-and-power-analysis-in-python/"
      ]
    },
    {
      "cell_type": "code",
      "metadata": {
        "id": "o8kuA7pTTZEV"
      },
      "source": [
        "effect_size = sm.stats.proportion_effectsize(0.0121, 0.011)\n",
        "analysis = sm.stats.TTestIndPower()\n",
        "result = analysis.solve_power(effect_size=effect_size,\n",
        "                              alpha=0.05, power=0.8, alternative='larger')\n",
        "print('Sample Size: %.3f' % result)"
      ],
      "execution_count": null,
      "outputs": []
    }
  ]
}