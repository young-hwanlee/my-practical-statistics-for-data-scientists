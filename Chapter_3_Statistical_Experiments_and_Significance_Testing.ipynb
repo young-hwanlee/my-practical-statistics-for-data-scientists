{
  "nbformat": 4,
  "nbformat_minor": 0,
  "metadata": {
    "colab": {
      "name": "Chapter 3 - Statistical Experiments and Significance Testing.ipynb",
      "provenance": [],
      "collapsed_sections": [],
      "authorship_tag": "ABX9TyO73Kdhjl6+g+M85YKlRpzd",
      "include_colab_link": true
    },
    "kernelspec": {
      "name": "python3",
      "display_name": "Python 3"
    },
    "language_info": {
      "name": "python"
    }
  },
  "cells": [
    {
      "cell_type": "markdown",
      "metadata": {
        "id": "view-in-github",
        "colab_type": "text"
      },
      "source": [
        "<a href=\"https://colab.research.google.com/github/young-hwanlee/my-practical-statistics-for-data-scientists/blob/main/Chapter_3_Statistical_Experiments_and_Significance_Testing.ipynb\" target=\"_parent\"><img src=\"https://colab.research.google.com/assets/colab-badge.svg\" alt=\"Open In Colab\"/></a>"
      ]
    },
    {
      "cell_type": "markdown",
      "metadata": {
        "id": "IBzvIi0DO-Cn"
      },
      "source": [
        "# **Practical Statistics for Data Scientists (Python)**\n",
        "# **Chapter 3 - Statistical Experiments and Significance Testing**\n",
        "> (c) 2019 Peter C. Bruce, Andrew Bruce, and Peter Gedeck"
      ]
    },
    {
      "cell_type": "markdown",
      "metadata": {
        "id": "BgkilkevPL8A"
      },
      "source": [
        "Import required Python packages."
      ]
    },
    {
      "cell_type": "code",
      "metadata": {
        "id": "wmrWBX_2uYUF"
      },
      "source": [
        "% "
      ],
      "execution_count": null,
      "outputs": []
    },
    {
      "cell_type": "markdown",
      "metadata": {
        "id": "gDBWlD_PXIUW"
      },
      "source": [
        "Define paths to data sets. If you don't keep your data in the same directory as the code, adapt the path names."
      ]
    },
    {
      "cell_type": "code",
      "metadata": {
        "id": "jyvYMutDXI6X"
      },
      "source": [
        ""
      ],
      "execution_count": null,
      "outputs": []
    },
    {
      "cell_type": "markdown",
      "metadata": {
        "id": "MtVARcLrPebB"
      },
      "source": [
        "## **3.3 Resampling**"
      ]
    },
    {
      "cell_type": "code",
      "metadata": {
        "id": "Vn83zMFePhEB"
      },
      "source": [
        ""
      ],
      "execution_count": null,
      "outputs": []
    },
    {
      "cell_type": "markdown",
      "metadata": {
        "id": "8uUg5DdeWm_u"
      },
      "source": [
        "The following code is different to the R version. idx_A and idx_B are reversed."
      ]
    },
    {
      "cell_type": "code",
      "metadata": {
        "id": "YyxdWfzBWnWf"
      },
      "source": [
        ""
      ],
      "execution_count": null,
      "outputs": []
    },
    {
      "cell_type": "markdown",
      "metadata": {
        "id": "8_hk4UDHPiWn"
      },
      "source": [
        "## **3.4 Statistical Significance and P-Value**\n",
        "### **3.4.1 P-Value**\n",
        "\n"
      ]
    },
    {
      "cell_type": "markdown",
      "metadata": {
        "id": "KpOXZiitWWIw"
      },
      "source": [
        "If np.mean is applied to a list of booleans, it gives the percentage of how often True was found in the list (#True / #Total)."
      ]
    },
    {
      "cell_type": "code",
      "metadata": {
        "id": "oSiXhORhPrny"
      },
      "source": [
        ""
      ],
      "execution_count": null,
      "outputs": []
    },
    {
      "cell_type": "markdown",
      "metadata": {
        "id": "G52fs3lhPu9U"
      },
      "source": [
        "## **3.5 t-Tests**"
      ]
    },
    {
      "cell_type": "code",
      "metadata": {
        "id": "K3m_X9NEQKoC"
      },
      "source": [
        ""
      ],
      "execution_count": null,
      "outputs": []
    },
    {
      "cell_type": "markdown",
      "metadata": {
        "id": "hbfGcpcPQSRz"
      },
      "source": [
        "## **3.8 ANOVA (ANalysis Of VAriance)**"
      ]
    },
    {
      "cell_type": "code",
      "metadata": {
        "id": "hqzJHtq1QaD5"
      },
      "source": [
        ""
      ],
      "execution_count": null,
      "outputs": []
    },
    {
      "cell_type": "markdown",
      "metadata": {
        "id": "iscim_lmQm7l"
      },
      "source": [
        "### **3.8.1 F-Statistic**"
      ]
    },
    {
      "cell_type": "markdown",
      "metadata": {
        "id": "Ocn-IgzNV-KZ"
      },
      "source": [
        "We can compute an ANOVA table using *statsmodels*."
      ]
    },
    {
      "cell_type": "code",
      "metadata": {
        "id": "_QrWn9rwQqnp"
      },
      "source": [
        ""
      ],
      "execution_count": null,
      "outputs": []
    },
    {
      "cell_type": "markdown",
      "metadata": {
        "id": "ApZY2aKZQu3O"
      },
      "source": [
        "### **3.8.2 Two-Way ANOVA**\n",
        "### **Two-way ANOVA is only available with statsmodels**  \n",
        "> formula = 'len ~ C(supp) + C(dose) + C(supp):C(dose)'  \n",
        "> model = ols(formula, data).fit()  \n",
        "> aov_table = anova_lm(model, typ=2)"
      ]
    },
    {
      "cell_type": "code",
      "metadata": {
        "id": "jGGYPTfJSAen"
      },
      "source": [
        ""
      ],
      "execution_count": null,
      "outputs": []
    },
    {
      "cell_type": "markdown",
      "metadata": {
        "id": "itpRlpzBSadl"
      },
      "source": [
        "## **3.9 Chi-Square Test**\n",
        "### **3.9.1 Chi-Square Test: A Resampling Approach**"
      ]
    },
    {
      "cell_type": "code",
      "metadata": {
        "id": "6ovD8quFSnSm"
      },
      "source": [
        ""
      ],
      "execution_count": null,
      "outputs": []
    },
    {
      "cell_type": "markdown",
      "metadata": {
        "id": "SozEpOuzSwV6"
      },
      "source": [
        "### **3.9.2 Figure Chi-Square Distribution**"
      ]
    },
    {
      "cell_type": "code",
      "metadata": {
        "id": "0uy4hLg_S5U-"
      },
      "source": [
        ""
      ],
      "execution_count": null,
      "outputs": []
    },
    {
      "cell_type": "markdown",
      "metadata": {
        "id": "HOatWLENS7vx"
      },
      "source": [
        "### **3.9.3 Fisher's Exact Test**"
      ]
    },
    {
      "cell_type": "markdown",
      "metadata": {
        "id": "pjEnYcjvT0uC"
      },
      "source": [
        "*Scipy* has only an implementation of Fisher's Exact Test for 2x2 matrices. There is a github repository that provides a Python implementation that uses the same code as the R version. Installing this requires a Fortran compiler.  \n",
        "> stat.fisher_exact(clicks)"
      ]
    },
    {
      "cell_type": "code",
      "metadata": {
        "id": "cm6QyzJAS_VW"
      },
      "source": [
        ""
      ],
      "execution_count": null,
      "outputs": []
    },
    {
      "cell_type": "markdown",
      "metadata": {
        "id": "saMnd4ZbTIxf"
      },
      "source": [
        "### **Scientific Fraud**"
      ]
    },
    {
      "cell_type": "code",
      "metadata": {
        "id": "cVg4vyoXTNPm"
      },
      "source": [
        ""
      ],
      "execution_count": null,
      "outputs": []
    },
    {
      "cell_type": "markdown",
      "metadata": {
        "id": "FEUTxzEeTT_S"
      },
      "source": [
        "## **3.11 Power and Sample Size**"
      ]
    },
    {
      "cell_type": "markdown",
      "metadata": {
        "id": "OcTGWBFzTZ68"
      },
      "source": [
        "*Statsmodels* has a number of methods for power calculation.  \n",
        "See e.g.: https://machinelearningmastery.com/statistical-power-and-power-analysis-in-python/"
      ]
    },
    {
      "cell_type": "code",
      "metadata": {
        "id": "o8kuA7pTTZEV"
      },
      "source": [
        ""
      ],
      "execution_count": null,
      "outputs": []
    }
  ]
}