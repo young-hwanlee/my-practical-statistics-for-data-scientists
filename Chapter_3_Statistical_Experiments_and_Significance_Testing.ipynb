{
  "nbformat": 4,
  "nbformat_minor": 0,
  "metadata": {
    "colab": {
      "name": "Chapter 3 - Statistical Experiments and Significance Testing.ipynb",
      "provenance": [],
      "collapsed_sections": [],
      "authorship_tag": "ABX9TyMXsnSTz6qPuIkPSm+crO7I",
      "include_colab_link": true
    },
    "kernelspec": {
      "name": "python3",
      "display_name": "Python 3"
    },
    "language_info": {
      "name": "python"
    }
  },
  "cells": [
    {
      "cell_type": "markdown",
      "metadata": {
        "id": "view-in-github",
        "colab_type": "text"
      },
      "source": [
        "<a href=\"https://colab.research.google.com/github/young-hwanlee/my-practical-statistics-for-data-scientists/blob/main/Chapter_3_Statistical_Experiments_and_Significance_Testing.ipynb\" target=\"_parent\"><img src=\"https://colab.research.google.com/assets/colab-badge.svg\" alt=\"Open In Colab\"/></a>"
      ]
    },
    {
      "cell_type": "markdown",
      "metadata": {
        "id": "IBzvIi0DO-Cn"
      },
      "source": [
        "# **Practical Statistics for Data Scientists (Python)**\n",
        "# **Chapter 3 - Statistical Experiments and Significance Testing**\n",
        "> (c) 2019 Peter C. Bruce, Andrew Bruce, and Peter Gedeck"
      ]
    },
    {
      "cell_type": "markdown",
      "metadata": {
        "id": "BgkilkevPL8A"
      },
      "source": [
        "Import required Python packages."
      ]
    },
    {
      "cell_type": "code",
      "metadata": {
        "id": "wmrWBX_2uYUF",
        "colab": {
          "base_uri": "https://localhost:8080/"
        },
        "outputId": "16cf3698-4596-4e09-d8c8-62bd6042fbfa"
      },
      "source": [
        "%matplotlib inline\n",
        "\n",
        "from pathlib import Path\n",
        "import random\n",
        "\n",
        "import pandas as pd\n",
        "import numpy as np\n",
        "\n",
        "from scipy import stats\n",
        "import statsmodels.api as sm\n",
        "import statsmodels.formula.api as smf\n",
        "from statsmodels.stats import power\n",
        "\n",
        "import matplotlib.pylab as plt"
      ],
      "execution_count": 1,
      "outputs": [
        {
          "output_type": "stream",
          "name": "stderr",
          "text": [
            "/usr/local/lib/python3.7/dist-packages/statsmodels/tools/_testing.py:19: FutureWarning: pandas.util.testing is deprecated. Use the functions in the public API at pandas.testing instead.\n",
            "  import pandas.util.testing as tm\n"
          ]
        }
      ]
    },
    {
      "cell_type": "code",
      "metadata": {
        "id": "xzl9FskqZg6L"
      },
      "source": [
        "# try:\n",
        "#     import common\n",
        "#     DATA = common.dataDirectory()\n",
        "# except ImportError:\n",
        "#     DATA = Path().resolve() / 'data'"
      ],
      "execution_count": 2,
      "outputs": []
    },
    {
      "cell_type": "markdown",
      "metadata": {
        "id": "gDBWlD_PXIUW"
      },
      "source": [
        "Define paths to data sets. If you don't keep your data in the same directory as the code, adapt the path names."
      ]
    },
    {
      "cell_type": "code",
      "metadata": {
        "id": "jyvYMutDXI6X"
      },
      "source": [
        "# WEB_PAGE_DATA_CSV = DATA / 'web_page_data.csv'\n",
        "# FOUR_SESSIONS_CSV = DATA / 'four_sessions.csv'\n",
        "# CLICK_RATE_CSV = DATA / 'click_rates.csv'\n",
        "# IMANISHI_CSV = DATA / 'imanishi_data.csv'\n",
        "\n",
        "DATA = 'https://raw.githubusercontent.com/young-hwanlee/practical-statistics-for-data-scientists/master/data/'\n",
        "\n",
        "WEB_PAGE_DATA_CSV = DATA + 'web_page_data.csv'\n",
        "FOUR_SESSIONS_CSV = DATA + 'four_sessions.csv'\n",
        "CLICK_RATE_CSV = DATA + 'click_rates.csv'\n",
        "IMANISHI_CSV = DATA + 'imanishi_data.csv'"
      ],
      "execution_count": 3,
      "outputs": []
    },
    {
      "cell_type": "markdown",
      "metadata": {
        "id": "MtVARcLrPebB"
      },
      "source": [
        "## **3.3 Resampling**"
      ]
    },
    {
      "cell_type": "code",
      "metadata": {
        "colab": {
          "base_uri": "https://localhost:8080/",
          "height": 221
        },
        "id": "Vn83zMFePhEB",
        "outputId": "bb3f5696-bd6b-475d-fc34-ce5d2fec773b"
      },
      "source": [
        "session_times = pd.read_csv(WEB_PAGE_DATA_CSV)\n",
        "print(session_times.shape)\n",
        "session_times.head(5)"
      ],
      "execution_count": 4,
      "outputs": [
        {
          "output_type": "stream",
          "name": "stdout",
          "text": [
            "(36, 2)\n"
          ]
        },
        {
          "output_type": "execute_result",
          "data": {
            "text/html": [
              "<div>\n",
              "<style scoped>\n",
              "    .dataframe tbody tr th:only-of-type {\n",
              "        vertical-align: middle;\n",
              "    }\n",
              "\n",
              "    .dataframe tbody tr th {\n",
              "        vertical-align: top;\n",
              "    }\n",
              "\n",
              "    .dataframe thead th {\n",
              "        text-align: right;\n",
              "    }\n",
              "</style>\n",
              "<table border=\"1\" class=\"dataframe\">\n",
              "  <thead>\n",
              "    <tr style=\"text-align: right;\">\n",
              "      <th></th>\n",
              "      <th>Page</th>\n",
              "      <th>Time</th>\n",
              "    </tr>\n",
              "  </thead>\n",
              "  <tbody>\n",
              "    <tr>\n",
              "      <th>0</th>\n",
              "      <td>Page A</td>\n",
              "      <td>0.21</td>\n",
              "    </tr>\n",
              "    <tr>\n",
              "      <th>1</th>\n",
              "      <td>Page B</td>\n",
              "      <td>2.53</td>\n",
              "    </tr>\n",
              "    <tr>\n",
              "      <th>2</th>\n",
              "      <td>Page A</td>\n",
              "      <td>0.35</td>\n",
              "    </tr>\n",
              "    <tr>\n",
              "      <th>3</th>\n",
              "      <td>Page B</td>\n",
              "      <td>0.71</td>\n",
              "    </tr>\n",
              "    <tr>\n",
              "      <th>4</th>\n",
              "      <td>Page A</td>\n",
              "      <td>0.67</td>\n",
              "    </tr>\n",
              "  </tbody>\n",
              "</table>\n",
              "</div>"
            ],
            "text/plain": [
              "     Page  Time\n",
              "0  Page A  0.21\n",
              "1  Page B  2.53\n",
              "2  Page A  0.35\n",
              "3  Page B  0.71\n",
              "4  Page A  0.67"
            ]
          },
          "metadata": {},
          "execution_count": 4
        }
      ]
    },
    {
      "cell_type": "code",
      "metadata": {
        "colab": {
          "base_uri": "https://localhost:8080/",
          "height": 204
        },
        "id": "1sfO9thOTwDY",
        "outputId": "aa994d1d-e76d-4af3-f608-db77d8f8599a"
      },
      "source": [
        "session_times.Time = 100 * session_times.Time\n",
        "session_times.head(5)"
      ],
      "execution_count": 5,
      "outputs": [
        {
          "output_type": "execute_result",
          "data": {
            "text/html": [
              "<div>\n",
              "<style scoped>\n",
              "    .dataframe tbody tr th:only-of-type {\n",
              "        vertical-align: middle;\n",
              "    }\n",
              "\n",
              "    .dataframe tbody tr th {\n",
              "        vertical-align: top;\n",
              "    }\n",
              "\n",
              "    .dataframe thead th {\n",
              "        text-align: right;\n",
              "    }\n",
              "</style>\n",
              "<table border=\"1\" class=\"dataframe\">\n",
              "  <thead>\n",
              "    <tr style=\"text-align: right;\">\n",
              "      <th></th>\n",
              "      <th>Page</th>\n",
              "      <th>Time</th>\n",
              "    </tr>\n",
              "  </thead>\n",
              "  <tbody>\n",
              "    <tr>\n",
              "      <th>0</th>\n",
              "      <td>Page A</td>\n",
              "      <td>21.0</td>\n",
              "    </tr>\n",
              "    <tr>\n",
              "      <th>1</th>\n",
              "      <td>Page B</td>\n",
              "      <td>253.0</td>\n",
              "    </tr>\n",
              "    <tr>\n",
              "      <th>2</th>\n",
              "      <td>Page A</td>\n",
              "      <td>35.0</td>\n",
              "    </tr>\n",
              "    <tr>\n",
              "      <th>3</th>\n",
              "      <td>Page B</td>\n",
              "      <td>71.0</td>\n",
              "    </tr>\n",
              "    <tr>\n",
              "      <th>4</th>\n",
              "      <td>Page A</td>\n",
              "      <td>67.0</td>\n",
              "    </tr>\n",
              "  </tbody>\n",
              "</table>\n",
              "</div>"
            ],
            "text/plain": [
              "     Page   Time\n",
              "0  Page A   21.0\n",
              "1  Page B  253.0\n",
              "2  Page A   35.0\n",
              "3  Page B   71.0\n",
              "4  Page A   67.0"
            ]
          },
          "metadata": {},
          "execution_count": 5
        }
      ]
    },
    {
      "cell_type": "code",
      "metadata": {
        "colab": {
          "base_uri": "https://localhost:8080/",
          "height": 351
        },
        "id": "bEs5Qm2NaB27",
        "outputId": "7ab215c7-aae9-4004-9dba-84a544513d07"
      },
      "source": [
        "ax = session_times.boxplot(by='Page', column='Time', figsize=(4, 4))\n",
        "ax.set_xlabel('')\n",
        "ax.set_ylabel('Time (In Seconds)')\n",
        "plt.suptitle('')\n",
        "\n",
        "plt.tight_layout()\n",
        "plt.show()"
      ],
      "execution_count": 6,
      "outputs": [
        {
          "output_type": "stream",
          "name": "stderr",
          "text": [
            "/usr/local/lib/python3.7/dist-packages/numpy/core/_asarray.py:83: VisibleDeprecationWarning: Creating an ndarray from ragged nested sequences (which is a list-or-tuple of lists-or-tuples-or ndarrays with different lengths or shapes) is deprecated. If you meant to do this, you must specify 'dtype=object' when creating the ndarray\n",
            "  return array(a, dtype, copy=False, order=order)\n"
          ]
        },
        {
          "output_type": "display_data",
          "data": {
            "image/png": "[encoded data removed]",
            "text/plain": [
              "<Figure size 288x288 with 1 Axes>"
            ]
          },
          "metadata": {
            "needs_background": "light"
          }
        }
      ]
    },
    {
      "cell_type": "code",
      "metadata": {
        "colab": {
          "base_uri": "https://localhost:8080/"
        },
        "id": "RC5aS6QgadfQ",
        "outputId": "87cced81-e8d4-4bb6-c33f-238879cb1116"
      },
      "source": [
        "mean_a = session_times[session_times.Page == 'Page A'].Time.mean()\n",
        "mean_b = session_times[session_times.Page == 'Page B'].Time.mean()\n",
        "print('Mean of Page B: ', mean_b, '\\nMean of Page A: ', mean_a)\n",
        "print(mean_b - mean_a)"
      ],
      "execution_count": 7,
      "outputs": [
        {
          "output_type": "stream",
          "name": "stdout",
          "text": [
            "Mean of Page B:  162.0 \n",
            "Mean of Page A:  126.33333333333333\n",
            "35.66666666666667\n"
          ]
        }
      ]
    },
    {
      "cell_type": "code",
      "metadata": {
        "colab": {
          "base_uri": "https://localhost:8080/"
        },
        "id": "WfPSk2wRVmaU",
        "outputId": "2dbceb59-a0e0-4316-b746-748188fc42ff"
      },
      "source": [
        "print(len(session_times[session_times.Page == 'Page A']),\n",
        "      len(session_times[session_times.Page == 'Page B']))"
      ],
      "execution_count": 8,
      "outputs": [
        {
          "output_type": "stream",
          "name": "stdout",
          "text": [
            "21 15\n"
          ]
        }
      ]
    },
    {
      "cell_type": "markdown",
      "metadata": {
        "id": "8uUg5DdeWm_u"
      },
      "source": [
        "The following code is different to the R version. idx_A and idx_B are reversed."
      ]
    },
    {
      "cell_type": "code",
      "metadata": {
        "colab": {
          "base_uri": "https://localhost:8080/"
        },
        "id": "apg-qCPjZ2EC",
        "outputId": "bbce9ca8-2f80-46f7-89a0-765982fe37ea"
      },
      "source": [
        "for _ in range(5):\n",
        "    print(random.sample(range(5),2))"
      ],
      "execution_count": 9,
      "outputs": [
        {
          "output_type": "stream",
          "name": "stdout",
          "text": [
            "[2, 4]\n",
            "[4, 2]\n",
            "[4, 0]\n",
            "[1, 4]\n",
            "[2, 4]\n"
          ]
        }
      ]
    },
    {
      "cell_type": "code",
      "metadata": {
        "colab": {
          "base_uri": "https://localhost:8080/"
        },
        "id": "saryckyuWsgb",
        "outputId": "3fb91483-6c2f-48a9-b7dd-a419f797c36f"
      },
      "source": [
        "for _ in range(5):\n",
        "    print(set(random.sample(range(5), 3)))"
      ],
      "execution_count": 10,
      "outputs": [
        {
          "output_type": "stream",
          "name": "stdout",
          "text": [
            "{0, 2, 3}\n",
            "{0, 2, 4}\n",
            "{0, 1, 3}\n",
            "{1, 2, 4}\n",
            "{0, 1, 4}\n"
          ]
        }
      ]
    },
    {
      "cell_type": "code",
      "metadata": {
        "colab": {
          "base_uri": "https://localhost:8080/"
        },
        "id": "YyxdWfzBWnWf",
        "outputId": "d61bc858-d53f-46ca-d621-192f4c87a8b8"
      },
      "source": [
        "# Permutation test example with stickiness\n",
        "def perm_fun(x, nA, nB):\n",
        "    n = nA + nB\n",
        "    idx_B = set(random.sample(range(n), nB))\n",
        "    idx_A = set(range(n)) - idx_B\n",
        "    return x.loc[idx_B].mean() - x.loc[idx_A].mean()\n",
        "\n",
        "nA = session_times[session_times.Page == 'Page A'].shape[0]\n",
        "nB = session_times[session_times.Page == 'Page B'].shape[0]\n",
        "print(perm_fun(session_times.Time, nA, nB))"
      ],
      "execution_count": 11,
      "outputs": [
        {
          "output_type": "stream",
          "name": "stdout",
          "text": [
            "42.86666666666666\n"
          ]
        }
      ]
    },
    {
      "cell_type": "code",
      "metadata": {
        "colab": {
          "base_uri": "https://localhost:8080/",
          "height": 369
        },
        "id": "wBDM5FcncDYa",
        "outputId": "9616b06a-1224-4a5b-bc79-0b5c51621a5a"
      },
      "source": [
        "random.seed(1)\n",
        "perm_diffs = [perm_fun(session_times.Time, nA, nB) for _ in range(1000)]\n",
        "\n",
        "fig, ax = plt.subplots(figsize=(5, 5))\n",
        "ax.hist(perm_diffs, bins=11, rwidth=0.9)\n",
        "ax.axvline(x = mean_b - mean_a, color='black', lw=2)\n",
        "ax.text(50, 190, 'Observed\\ndifference', bbox={'facecolor':'white'})\n",
        "ax.set_xlabel('Session Time Differences (In Seconds)')\n",
        "ax.set_ylabel('Frequency')\n",
        "\n",
        "plt.tight_layout()\n",
        "plt.show()"
      ],
      "execution_count": 12,
      "outputs": [
        {
          "output_type": "display_data",
          "data": {
            "image/png": "[encoded data removed]",
            "text/plain": [
              "<Figure size 360x360 with 1 Axes>"
            ]
          },
          "metadata": {
            "needs_background": "light"
          }
        }
      ]
    },
    {
      "cell_type": "code",
      "metadata": {
        "colab": {
          "base_uri": "https://localhost:8080/"
        },
        "id": "Un0k3JOury_j",
        "outputId": "edb279c6-2489-4a52-ab8f-5c6857be76d6"
      },
      "source": [
        "perm_diffs[:5]"
      ],
      "execution_count": 13,
      "outputs": [
        {
          "output_type": "execute_result",
          "data": {
            "text/plain": [
              "[6.523809523809518,\n",
              " -17.59047619047618,\n",
              " 22.866666666666674,\n",
              " -6.161904761904765,\n",
              " 10.29523809523809]"
            ]
          },
          "metadata": {},
          "execution_count": 13
        }
      ]
    },
    {
      "cell_type": "code",
      "metadata": {
        "colab": {
          "base_uri": "https://localhost:8080/"
        },
        "id": "vVTfPEstsvOG",
        "outputId": "e314cef4-455a-46bd-fc5b-5c86c449b79a"
      },
      "source": [
        "[mean_b - mean_a]"
      ],
      "execution_count": 14,
      "outputs": [
        {
          "output_type": "execute_result",
          "data": {
            "text/plain": [
              "[35.66666666666667]"
            ]
          },
          "metadata": {},
          "execution_count": 14
        }
      ]
    },
    {
      "cell_type": "code",
      "metadata": {
        "colab": {
          "base_uri": "https://localhost:8080/"
        },
        "id": "kwh_Tj-O0MZA",
        "outputId": "51b6b9be-00cc-4e3f-b597-f10e9d9f7b2d"
      },
      "source": [
        "np.array(perm_diffs) > mean_b - mean_a"
      ],
      "execution_count": 15,
      "outputs": [
        {
          "output_type": "execute_result",
          "data": {
            "text/plain": [
              "array([False, False, False, False, False, False, False, False, False,\n",
              "       False, False, False,  True,  True, False, False, False,  True,\n",
              "       False, False, False, False, False, False, False,  True,  True,\n",
              "       False, False, False, False, False, False, False, False, False,\n",
              "       False, False, False,  True, False, False, False, False, False,\n",
              "       False, False, False, False, False, False, False, False, False,\n",
              "       False, False, False, False, False, False, False, False, False,\n",
              "       False, False, False, False, False, False, False, False, False,\n",
              "       False, False, False, False, False, False,  True, False, False,\n",
              "       False,  True, False, False,  True, False, False, False, False,\n",
              "       False, False, False, False, False, False, False, False, False,\n",
              "       False, False, False, False, False, False, False, False, False,\n",
              "        True, False, False, False, False, False, False, False, False,\n",
              "       False, False, False, False, False, False, False, False,  True,\n",
              "       False, False, False, False, False, False, False, False, False,\n",
              "       False, False, False, False, False, False, False, False, False,\n",
              "       False, False, False, False, False, False,  True, False, False,\n",
              "       False, False, False, False, False, False, False, False, False,\n",
              "       False, False, False, False, False, False, False, False,  True,\n",
              "       False, False, False, False, False, False,  True, False, False,\n",
              "       False, False,  True, False, False, False, False, False, False,\n",
              "        True, False, False,  True, False,  True, False,  True, False,\n",
              "       False,  True,  True,  True,  True, False, False, False, False,\n",
              "       False,  True, False, False, False, False,  True, False, False,\n",
              "       False, False, False, False, False, False, False, False,  True,\n",
              "       False, False, False, False, False,  True, False, False, False,\n",
              "       False, False, False, False, False, False, False, False, False,\n",
              "       False, False, False, False, False, False,  True, False,  True,\n",
              "       False,  True, False, False, False, False, False,  True, False,\n",
              "       False, False,  True, False,  True,  True, False,  True, False,\n",
              "       False, False, False, False, False, False, False,  True, False,\n",
              "       False, False, False, False, False, False, False, False, False,\n",
              "       False, False, False, False, False, False, False, False,  True,\n",
              "       False, False, False, False, False, False, False, False, False,\n",
              "       False, False, False,  True, False, False, False,  True, False,\n",
              "       False, False,  True, False, False, False, False, False, False,\n",
              "        True, False, False, False, False, False, False, False, False,\n",
              "       False, False, False, False,  True, False, False, False, False,\n",
              "       False, False,  True, False, False, False, False, False, False,\n",
              "       False, False, False, False, False, False, False, False, False,\n",
              "       False, False,  True, False, False, False, False, False, False,\n",
              "       False, False, False,  True,  True, False, False, False,  True,\n",
              "       False, False, False, False, False, False, False, False, False,\n",
              "       False,  True, False, False,  True, False, False, False, False,\n",
              "       False, False, False, False, False, False, False, False, False,\n",
              "       False, False, False, False, False,  True, False, False, False,\n",
              "       False, False, False, False, False, False, False, False, False,\n",
              "       False, False, False,  True, False, False, False,  True, False,\n",
              "       False, False, False, False, False, False, False, False, False,\n",
              "       False, False, False, False, False, False, False, False, False,\n",
              "       False,  True, False, False,  True, False,  True, False,  True,\n",
              "        True, False, False, False,  True, False, False, False, False,\n",
              "       False, False, False, False, False, False, False, False, False,\n",
              "       False, False, False, False, False, False, False, False, False,\n",
              "       False,  True, False, False, False, False, False, False, False,\n",
              "       False, False, False, False, False, False, False, False, False,\n",
              "       False, False, False, False, False, False, False, False, False,\n",
              "        True, False, False, False, False, False, False, False, False,\n",
              "       False, False, False, False, False, False, False, False, False,\n",
              "       False, False, False, False, False,  True,  True, False, False,\n",
              "       False, False,  True, False, False, False, False, False, False,\n",
              "       False, False, False, False, False,  True, False, False, False,\n",
              "       False, False, False, False, False, False, False, False, False,\n",
              "       False, False, False, False,  True, False, False, False, False,\n",
              "       False, False, False, False, False, False, False, False, False,\n",
              "       False, False,  True, False, False,  True, False, False,  True,\n",
              "        True, False, False, False, False,  True, False, False, False,\n",
              "        True, False, False, False, False, False, False, False, False,\n",
              "       False, False, False, False, False, False, False, False, False,\n",
              "       False, False, False, False, False, False,  True, False, False,\n",
              "       False, False,  True, False, False, False, False, False, False,\n",
              "       False, False, False, False, False, False, False, False, False,\n",
              "       False,  True, False, False, False, False, False, False, False,\n",
              "       False, False, False, False, False, False, False, False, False,\n",
              "       False, False, False, False, False,  True, False,  True, False,\n",
              "       False, False, False, False, False, False, False, False, False,\n",
              "       False, False, False,  True, False, False, False, False, False,\n",
              "        True, False, False, False, False, False, False, False,  True,\n",
              "        True,  True, False, False, False, False, False, False, False,\n",
              "       False, False, False, False, False, False, False, False, False,\n",
              "       False, False, False, False, False,  True, False, False, False,\n",
              "       False, False, False, False, False, False, False, False, False,\n",
              "       False, False,  True, False, False, False, False, False, False,\n",
              "       False, False, False,  True, False, False, False, False,  True,\n",
              "       False,  True, False, False, False, False, False, False, False,\n",
              "       False, False, False, False, False, False, False, False, False,\n",
              "       False, False, False, False, False, False, False, False, False,\n",
              "       False, False, False, False, False, False, False,  True, False,\n",
              "        True,  True, False, False, False, False, False,  True, False,\n",
              "       False,  True, False,  True, False, False, False, False, False,\n",
              "       False, False, False, False, False, False,  True, False, False,\n",
              "        True, False, False, False, False, False, False, False, False,\n",
              "       False, False, False,  True, False, False,  True, False,  True,\n",
              "        True, False, False,  True, False, False, False, False, False,\n",
              "       False, False, False, False, False, False, False, False, False,\n",
              "       False,  True, False, False, False, False, False, False, False,\n",
              "       False, False,  True, False, False, False, False, False, False,\n",
              "       False, False, False, False, False, False, False, False, False,\n",
              "       False, False, False, False, False, False,  True, False, False,\n",
              "        True, False, False, False, False,  True,  True,  True, False,\n",
              "        True, False, False,  True, False, False, False, False, False,\n",
              "       False, False, False,  True, False,  True, False, False, False,\n",
              "       False, False, False, False, False,  True, False, False, False,\n",
              "       False,  True, False, False,  True, False,  True, False, False,\n",
              "       False, False, False,  True, False, False, False, False, False,\n",
              "       False, False, False, False, False, False, False, False, False,\n",
              "       False, False, False, False, False, False, False, False, False,\n",
              "       False, False, False, False, False, False, False,  True, False,\n",
              "       False, False,  True, False, False, False, False, False, False,\n",
              "       False,  True, False, False, False, False, False, False, False,\n",
              "       False, False,  True, False, False,  True, False, False, False,\n",
              "        True])"
            ]
          },
          "metadata": {},
          "execution_count": 15
        }
      ]
    },
    {
      "cell_type": "code",
      "metadata": {
        "colab": {
          "base_uri": "https://localhost:8080/"
        },
        "id": "-B70fLwg0G8S",
        "outputId": "81d60757-1dc8-4386-a4c1-e29f37fead87"
      },
      "source": [
        "np.where(np.array(perm_diffs) > mean_b - mean_a)[0]"
      ],
      "execution_count": 16,
      "outputs": [
        {
          "output_type": "execute_result",
          "data": {
            "text/plain": [
              "array([ 12,  13,  17,  25,  26,  39,  78,  82,  85, 108, 125, 150, 170,\n",
              "       177, 182, 189, 192, 194, 196, 199, 200, 201, 202, 208, 213, 224,\n",
              "       230, 249, 251, 253, 259, 263, 265, 266, 268, 277, 296, 309, 313,\n",
              "       317, 324, 337, 344, 362, 372, 373, 377, 388, 391, 410, 426, 430,\n",
              "       451, 454, 456, 458, 459, 463, 487, 513, 536, 537, 542, 554, 571,\n",
              "       587, 590, 593, 594, 599, 603, 627, 632, 649, 671, 673, 687, 693,\n",
              "       701, 702, 703, 725, 740, 750, 755, 757, 790, 792, 793, 799, 802,\n",
              "       804, 816, 819, 831, 834, 836, 837, 840, 856, 866, 888, 891, 896,\n",
              "       897, 898, 900, 903, 912, 914, 923, 928, 931, 933, 939, 970, 974,\n",
              "       982, 992, 995, 999])"
            ]
          },
          "metadata": {},
          "execution_count": 16
        }
      ]
    },
    {
      "cell_type": "code",
      "metadata": {
        "colab": {
          "base_uri": "https://localhost:8080/"
        },
        "id": "0qHdzK0o0uSW",
        "outputId": "f3140e03-8b72-4c27-ce22-279a9b028dd0"
      },
      "source": [
        "type(perm_diffs)"
      ],
      "execution_count": 17,
      "outputs": [
        {
          "output_type": "execute_result",
          "data": {
            "text/plain": [
              "list"
            ]
          },
          "metadata": {},
          "execution_count": 17
        }
      ]
    },
    {
      "cell_type": "code",
      "metadata": {
        "colab": {
          "base_uri": "https://localhost:8080/"
        },
        "id": "yMTPhHGD31VU",
        "outputId": "0a5e7cbc-1109-4567-b4d3-7f27fc60de35"
      },
      "source": [
        "type(pd.DataFrame(perm_diffs))"
      ],
      "execution_count": 18,
      "outputs": [
        {
          "output_type": "execute_result",
          "data": {
            "text/plain": [
              "pandas.core.frame.DataFrame"
            ]
          },
          "metadata": {},
          "execution_count": 18
        }
      ]
    },
    {
      "cell_type": "code",
      "metadata": {
        "colab": {
          "base_uri": "https://localhost:8080/",
          "height": 129
        },
        "id": "wCy_3ORc2Sra",
        "outputId": "8264079e-ffd6-4c6c-c51f-28db21f105d7"
      },
      "source": [
        "pd.DataFrame(perm_diffs).T[np.where(np.array(perm_diffs) > mean_b - mean_a)[0]]"
      ],
      "execution_count": 19,
      "outputs": [
        {
          "output_type": "execute_result",
          "data": {
            "text/html": [
              "<div>\n",
              "<style scoped>\n",
              "    .dataframe tbody tr th:only-of-type {\n",
              "        vertical-align: middle;\n",
              "    }\n",
              "\n",
              "    .dataframe tbody tr th {\n",
              "        vertical-align: top;\n",
              "    }\n",
              "\n",
              "    .dataframe thead th {\n",
              "        text-align: right;\n",
              "    }\n",
              "</style>\n",
              "<table border=\"1\" class=\"dataframe\">\n",
              "  <thead>\n",
              "    <tr style=\"text-align: right;\">\n",
              "      <th></th>\n",
              "      <th>12</th>\n",
              "      <th>13</th>\n",
              "      <th>17</th>\n",
              "      <th>25</th>\n",
              "      <th>26</th>\n",
              "      <th>39</th>\n",
              "      <th>78</th>\n",
              "      <th>82</th>\n",
              "      <th>85</th>\n",
              "      <th>108</th>\n",
              "      <th>125</th>\n",
              "      <th>150</th>\n",
              "      <th>170</th>\n",
              "      <th>177</th>\n",
              "      <th>182</th>\n",
              "      <th>189</th>\n",
              "      <th>192</th>\n",
              "      <th>194</th>\n",
              "      <th>196</th>\n",
              "      <th>199</th>\n",
              "      <th>200</th>\n",
              "      <th>201</th>\n",
              "      <th>202</th>\n",
              "      <th>208</th>\n",
              "      <th>213</th>\n",
              "      <th>224</th>\n",
              "      <th>230</th>\n",
              "      <th>249</th>\n",
              "      <th>251</th>\n",
              "      <th>253</th>\n",
              "      <th>259</th>\n",
              "      <th>263</th>\n",
              "      <th>265</th>\n",
              "      <th>266</th>\n",
              "      <th>268</th>\n",
              "      <th>277</th>\n",
              "      <th>296</th>\n",
              "      <th>309</th>\n",
              "      <th>313</th>\n",
              "      <th>317</th>\n",
              "      <th>...</th>\n",
              "      <th>725</th>\n",
              "      <th>740</th>\n",
              "      <th>750</th>\n",
              "      <th>755</th>\n",
              "      <th>757</th>\n",
              "      <th>790</th>\n",
              "      <th>792</th>\n",
              "      <th>793</th>\n",
              "      <th>799</th>\n",
              "      <th>802</th>\n",
              "      <th>804</th>\n",
              "      <th>816</th>\n",
              "      <th>819</th>\n",
              "      <th>831</th>\n",
              "      <th>834</th>\n",
              "      <th>836</th>\n",
              "      <th>837</th>\n",
              "      <th>840</th>\n",
              "      <th>856</th>\n",
              "      <th>866</th>\n",
              "      <th>888</th>\n",
              "      <th>891</th>\n",
              "      <th>896</th>\n",
              "      <th>897</th>\n",
              "      <th>898</th>\n",
              "      <th>900</th>\n",
              "      <th>903</th>\n",
              "      <th>912</th>\n",
              "      <th>914</th>\n",
              "      <th>923</th>\n",
              "      <th>928</th>\n",
              "      <th>931</th>\n",
              "      <th>933</th>\n",
              "      <th>939</th>\n",
              "      <th>970</th>\n",
              "      <th>974</th>\n",
              "      <th>982</th>\n",
              "      <th>992</th>\n",
              "      <th>995</th>\n",
              "      <th>999</th>\n",
              "    </tr>\n",
              "  </thead>\n",
              "  <tbody>\n",
              "    <tr>\n",
              "      <th>0</th>\n",
              "      <td>53.266667</td>\n",
              "      <td>39.552381</td>\n",
              "      <td>48.809524</td>\n",
              "      <td>55.895238</td>\n",
              "      <td>42.980952</td>\n",
              "      <td>48.12381</td>\n",
              "      <td>37.609524</td>\n",
              "      <td>40.009524</td>\n",
              "      <td>48.809524</td>\n",
              "      <td>39.780952</td>\n",
              "      <td>41.72381</td>\n",
              "      <td>46.180952</td>\n",
              "      <td>60.12381</td>\n",
              "      <td>69.609524</td>\n",
              "      <td>46.066667</td>\n",
              "      <td>64.466667</td>\n",
              "      <td>41.495238</td>\n",
              "      <td>37.952381</td>\n",
              "      <td>40.12381</td>\n",
              "      <td>51.32381</td>\n",
              "      <td>65.038095</td>\n",
              "      <td>43.095238</td>\n",
              "      <td>38.638095</td>\n",
              "      <td>38.752381</td>\n",
              "      <td>36.809524</td>\n",
              "      <td>86.295238</td>\n",
              "      <td>95.32381</td>\n",
              "      <td>36.580952</td>\n",
              "      <td>58.980952</td>\n",
              "      <td>44.580952</td>\n",
              "      <td>60.580952</td>\n",
              "      <td>62.866667</td>\n",
              "      <td>42.409524</td>\n",
              "      <td>43.895238</td>\n",
              "      <td>37.380952</td>\n",
              "      <td>36.12381</td>\n",
              "      <td>68.809524</td>\n",
              "      <td>38.180952</td>\n",
              "      <td>76.92381</td>\n",
              "      <td>54.866667</td>\n",
              "      <td>...</td>\n",
              "      <td>37.038095</td>\n",
              "      <td>44.695238</td>\n",
              "      <td>57.495238</td>\n",
              "      <td>55.552381</td>\n",
              "      <td>74.295238</td>\n",
              "      <td>57.72381</td>\n",
              "      <td>44.352381</td>\n",
              "      <td>57.952381</td>\n",
              "      <td>74.066667</td>\n",
              "      <td>37.72381</td>\n",
              "      <td>42.066667</td>\n",
              "      <td>47.780952</td>\n",
              "      <td>50.409524</td>\n",
              "      <td>79.895238</td>\n",
              "      <td>36.695238</td>\n",
              "      <td>45.952381</td>\n",
              "      <td>39.095238</td>\n",
              "      <td>37.038095</td>\n",
              "      <td>40.580952</td>\n",
              "      <td>100.352381</td>\n",
              "      <td>52.009524</td>\n",
              "      <td>70.180952</td>\n",
              "      <td>44.352381</td>\n",
              "      <td>50.866667</td>\n",
              "      <td>49.495238</td>\n",
              "      <td>39.780952</td>\n",
              "      <td>55.095238</td>\n",
              "      <td>49.609524</td>\n",
              "      <td>40.009524</td>\n",
              "      <td>41.952381</td>\n",
              "      <td>73.838095</td>\n",
              "      <td>49.609524</td>\n",
              "      <td>37.152381</td>\n",
              "      <td>37.72381</td>\n",
              "      <td>35.780952</td>\n",
              "      <td>48.238095</td>\n",
              "      <td>38.638095</td>\n",
              "      <td>53.838095</td>\n",
              "      <td>36.695238</td>\n",
              "      <td>62.638095</td>\n",
              "    </tr>\n",
              "  </tbody>\n",
              "</table>\n",
              "<p>1 rows × 121 columns</p>\n",
              "</div>"
            ],
            "text/plain": [
              "         12         13         17   ...        992        995        999\n",
              "0  53.266667  39.552381  48.809524  ...  53.838095  36.695238  62.638095\n",
              "\n",
              "[1 rows x 121 columns]"
            ]
          },
          "metadata": {},
          "execution_count": 19
        }
      ]
    },
    {
      "cell_type": "code",
      "metadata": {
        "id": "eK1HfPrd0RDt",
        "colab": {
          "base_uri": "https://localhost:8080/"
        },
        "outputId": "6541923c-442d-417e-dbec-d31d51993934"
      },
      "source": [
        "print(np.mean(pd.DataFrame(perm_diffs).T[np.where(np.array(perm_diffs) > mean_b - mean_a)[0]],axis=1))"
      ],
      "execution_count": 20,
      "outputs": [
        {
          "output_type": "stream",
          "name": "stdout",
          "text": [
            "0    52.482723\n",
            "dtype: float64\n"
          ]
        }
      ]
    },
    {
      "cell_type": "code",
      "metadata": {
        "id": "qb-eA96q71SG"
      },
      "source": [
        "# print(np.mean(perm_diffs > mean_b - mean_a))    # -> not working"
      ],
      "execution_count": 21,
      "outputs": []
    },
    {
      "cell_type": "code",
      "metadata": {
        "colab": {
          "base_uri": "https://localhost:8080/"
        },
        "id": "tfZ5W1028aIv",
        "outputId": "073ea00d-6914-4aed-f473-a1b48b8654c6"
      },
      "source": [
        "print(np.mean([diff > mean_b - mean_a for diff in perm_diffs]))"
      ],
      "execution_count": 22,
      "outputs": [
        {
          "output_type": "stream",
          "name": "stdout",
          "text": [
            "0.121\n"
          ]
        }
      ]
    },
    {
      "cell_type": "markdown",
      "metadata": {
        "id": "8_hk4UDHPiWn"
      },
      "source": [
        "## **3.4 Statistical Significance and P-Value**\n",
        "\n"
      ]
    },
    {
      "cell_type": "code",
      "metadata": {
        "colab": {
          "base_uri": "https://localhost:8080/"
        },
        "id": "CKZazsbhflsC",
        "outputId": "a600f127-361a-4ad9-a1ea-792831dd9e9e"
      },
      "source": [
        "382 / (45945 + 382)"
      ],
      "execution_count": 23,
      "outputs": [
        {
          "output_type": "execute_result",
          "data": {
            "text/plain": [
              "0.008245731430915016"
            ]
          },
          "metadata": {},
          "execution_count": 23
        }
      ]
    },
    {
      "cell_type": "code",
      "metadata": {
        "id": "h62UFKOYdxcd",
        "colab": {
          "base_uri": "https://localhost:8080/"
        },
        "outputId": "332b8a52-57d3-43f6-a913-2cd837e7369f"
      },
      "source": [
        "random.seed(1)\n",
        "obs_pct_diff = 100 * (200 / (23539+200) - 182 / (22406+182))\n",
        "print(f'Observed difference: {obs_pct_diff:.4f}%')\n",
        "\n",
        "conversion = [0] * 45945\n",
        "conversion.extend([1] * 382)\n",
        "type(conversion)"
      ],
      "execution_count": 24,
      "outputs": [
        {
          "output_type": "stream",
          "name": "stdout",
          "text": [
            "Observed difference: 0.0368%\n"
          ]
        },
        {
          "output_type": "execute_result",
          "data": {
            "text/plain": [
              "list"
            ]
          },
          "metadata": {},
          "execution_count": 24
        }
      ]
    },
    {
      "cell_type": "code",
      "metadata": {
        "colab": {
          "base_uri": "https://localhost:8080/"
        },
        "id": "NVdDTEqxgUZI",
        "outputId": "74ee8138-db5f-48eb-ac41-f4068d07e719"
      },
      "source": [
        "conversion = pd.Series(conversion)\n",
        "type(conversion)"
      ],
      "execution_count": 25,
      "outputs": [
        {
          "output_type": "execute_result",
          "data": {
            "text/plain": [
              "pandas.core.series.Series"
            ]
          },
          "metadata": {},
          "execution_count": 25
        }
      ]
    },
    {
      "cell_type": "code",
      "metadata": {
        "colab": {
          "base_uri": "https://localhost:8080/"
        },
        "id": "CjdkNO0jgasZ",
        "outputId": "de717089-dabf-4966-f042-4edf16a29366"
      },
      "source": [
        "perm_diffs = [100 * perm_fun(conversion, 23739, 22588) for _ in range(1000)]\n",
        "perm_diffs"
      ],
      "execution_count": 26,
      "outputs": [
        {
          "output_type": "execute_result",
          "data": {
            "text/plain": [
              "[-0.06267673224219054,\n",
              " -0.019478698206194106,\n",
              " 0.023719335829802332,\n",
              " 0.17923225835938977,\n",
              " -0.02811830501339343,\n",
              " -0.22682926157897723,\n",
              " -0.06267673224219054,\n",
              " -0.0453975186277919,\n",
              " -0.12315397989258554,\n",
              " 0.023719335829802332,\n",
              " -0.019478698206194106,\n",
              " -0.07131633904938986,\n",
              " -0.019478698206194106,\n",
              " -0.0021994845917954614,\n",
              " 0.006440122215403861,\n",
              " 0.11011540390179539,\n",
              " 0.13603422432339335,\n",
              " 0.015079729022603183,\n",
              " 0.13603422432339335,\n",
              " 0.0496381562514003,\n",
              " -0.05403712543499122,\n",
              " -0.010839091398994784,\n",
              " -0.010839091398994784,\n",
              " -0.12315397989258554,\n",
              " 0.015079729022603183,\n",
              " 0.07555697667299827,\n",
              " -0.1404331935069842,\n",
              " -0.010839091398994784,\n",
              " -0.05403712543499122,\n",
              " -0.10587476627818707,\n",
              " -0.0021994845917954614,\n",
              " 0.04099854944420098,\n",
              " 0.006440122215403861,\n",
              " 0.0841965834801976,\n",
              " 0.0841965834801976,\n",
              " 0.006440122215403861,\n",
              " -0.0021994845917954614,\n",
              " 0.10147579709459614,\n",
              " -0.019478698206194106,\n",
              " -0.1836312275429806,\n",
              " 0.032358942637001654,\n",
              " -0.03675791182059275,\n",
              " -0.05403712543499122,\n",
              " -0.0453975186277919,\n",
              " -0.09723515947098775,\n",
              " -0.010839091398994784,\n",
              " -0.010839091398994784,\n",
              " 0.05827776305859962,\n",
              " -0.11451437308538621,\n",
              " 0.0841965834801976,\n",
              " 0.11011540390179539,\n",
              " -0.05403712543499122,\n",
              " 0.032358942637001654,\n",
              " 0.015079729022603183,\n",
              " -0.1836312275429806,\n",
              " -0.07131633904938986,\n",
              " -0.0021994845917954614,\n",
              " 0.032358942637001654,\n",
              " -0.12315397989258554,\n",
              " 0.13603422432339335,\n",
              " -0.02811830501339343,\n",
              " 0.1533134379377919,\n",
              " -0.03675791182059275,\n",
              " 0.07555697667299827,\n",
              " 0.015079729022603183,\n",
              " -0.019478698206194106,\n",
              " -0.05403712543499122,\n",
              " 0.006440122215403861,\n",
              " 0.04099854944420098,\n",
              " -0.019478698206194106,\n",
              " 0.1446738311305926,\n",
              " -0.010839091398994784,\n",
              " 0.023719335829802332,\n",
              " 0.10147579709459614,\n",
              " -0.08859555266378842,\n",
              " 0.04099854944420098,\n",
              " 0.006440122215403861,\n",
              " -0.019478698206194106,\n",
              " 0.032358942637001654,\n",
              " 0.05827776305859962,\n",
              " 0.07555697667299827,\n",
              " 0.05827776305859962,\n",
              " -0.15771240712138282,\n",
              " 0.06691736986579894,\n",
              " -0.010839091398994784,\n",
              " -0.05403712543499122,\n",
              " -0.019478698206194106,\n",
              " 0.015079729022603183,\n",
              " 0.015079729022603183,\n",
              " -0.11451437308538621,\n",
              " -0.05403712543499122,\n",
              " -0.0021994845917954614,\n",
              " 0.09283619028739683,\n",
              " -0.0453975186277919,\n",
              " 0.1187550107089947,\n",
              " 0.023719335829802332,\n",
              " 0.006440122215403861,\n",
              " -0.02811830501339343,\n",
              " -0.05403712543499122,\n",
              " -0.06267673224219054,\n",
              " 0.015079729022603183,\n",
              " -0.12315397989258554,\n",
              " 0.07555697667299827,\n",
              " 0.023719335829802332,\n",
              " 0.006440122215403861,\n",
              " -0.03675791182059275,\n",
              " 0.06691736986579894,\n",
              " -0.06267673224219054,\n",
              " -0.03675791182059275,\n",
              " -0.13179358669978486,\n",
              " 0.19651147197378843,\n",
              " 0.04099854944420098,\n",
              " -0.010839091398994784,\n",
              " 0.015079729022603183,\n",
              " 0.07555697667299827,\n",
              " -0.08859555266378842,\n",
              " 0.12739461751619402,\n",
              " 0.1187550107089947,\n",
              " -0.11451437308538621,\n",
              " 0.06691736986579894,\n",
              " 0.05827776305859962,\n",
              " 0.06691736986579894,\n",
              " 0.05827776305859962,\n",
              " -0.2095500479645786,\n",
              " -0.010839091398994784,\n",
              " -0.03675791182059275,\n",
              " -0.02811830501339343,\n",
              " 0.07555697667299827,\n",
              " -0.11451437308538621,\n",
              " 0.1187550107089947,\n",
              " -0.0453975186277919,\n",
              " -0.07131633904938986,\n",
              " 0.023719335829802332,\n",
              " 0.015079729022603183,\n",
              " 0.0841965834801976,\n",
              " -0.06267673224219054,\n",
              " -0.2441084751933759,\n",
              " -0.03675791182059275,\n",
              " -0.02811830501339343,\n",
              " -0.07995594585658919,\n",
              " 0.023719335829802332,\n",
              " 0.1446738311305926,\n",
              " 0.05827776305859962,\n",
              " -0.05403712543499122,\n",
              " 0.06691736986579894,\n",
              " 0.09283619028739683,\n",
              " 0.13603422432339335,\n",
              " 0.006440122215403861,\n",
              " -0.10587476627818707,\n",
              " 0.006440122215403861,\n",
              " -0.0453975186277919,\n",
              " -0.10587476627818707,\n",
              " -0.10587476627818707,\n",
              " 0.06691736986579894,\n",
              " 0.07555697667299827,\n",
              " -0.10587476627818707,\n",
              " -0.0453975186277919,\n",
              " 0.07555697667299827,\n",
              " 0.17059265155219056,\n",
              " 0.2224302923953863,\n",
              " -0.14907280031418352,\n",
              " -0.07995594585658919,\n",
              " 0.032358942637001654,\n",
              " -0.05403712543499122,\n",
              " 0.10147579709459614,\n",
              " 0.04099854944420098,\n",
              " -0.15771240712138282,\n",
              " 0.006440122215403861,\n",
              " 0.0841965834801976,\n",
              " -0.08859555266378842,\n",
              " 0.17059265155219056,\n",
              " -0.010839091398994784,\n",
              " 0.032358942637001654,\n",
              " -0.0453975186277919,\n",
              " 0.20515107878098776,\n",
              " -0.08859555266378842,\n",
              " -0.05403712543499122,\n",
              " -0.06267673224219054,\n",
              " -0.16635201392858215,\n",
              " 0.04099854944420098,\n",
              " 0.04099854944420098,\n",
              " -0.0453975186277919,\n",
              " 0.032358942637001654,\n",
              " 0.04099854944420098,\n",
              " 0.0496381562514003,\n",
              " 0.015079729022603183,\n",
              " 0.0496381562514003,\n",
              " -0.06267673224219054,\n",
              " -0.0021994845917954614,\n",
              " -0.11451437308538621,\n",
              " -0.0453975186277919,\n",
              " -0.07995594585658919,\n",
              " -0.07995594585658919,\n",
              " 0.032358942637001654,\n",
              " -0.010839091398994784,\n",
              " -0.0021994845917954614,\n",
              " 0.015079729022603183,\n",
              " -0.02811830501339343,\n",
              " -0.03675791182059275,\n",
              " -0.08859555266378842,\n",
              " 0.13603422432339335,\n",
              " 0.09283619028739683,\n",
              " 0.1446738311305926,\n",
              " -0.12315397989258554,\n",
              " 0.0841965834801976,\n",
              " -0.07995594585658919,\n",
              " -0.0453975186277919,\n",
              " -0.06267673224219054,\n",
              " -0.14907280031418352,\n",
              " -0.019478698206194106,\n",
              " -0.0021994845917954614,\n",
              " 0.006440122215403861,\n",
              " -0.1836312275429806,\n",
              " -0.09723515947098775,\n",
              " 0.023719335829802332,\n",
              " -0.09723515947098775,\n",
              " 0.09283619028739683,\n",
              " 0.17059265155219056,\n",
              " 0.05827776305859962,\n",
              " 0.05827776305859962,\n",
              " 0.0496381562514003,\n",
              " 0.023719335829802332,\n",
              " 0.1187550107089947,\n",
              " -0.14907280031418352,\n",
              " -0.1404331935069842,\n",
              " -0.019478698206194106,\n",
              " 0.015079729022603183,\n",
              " 0.06691736986579894,\n",
              " 0.13603422432339335,\n",
              " 0.06691736986579894,\n",
              " -0.0453975186277919,\n",
              " -0.19227083435017994,\n",
              " -0.14907280031418352,\n",
              " 0.0841965834801976,\n",
              " 0.0496381562514003,\n",
              " -0.12315397989258554,\n",
              " -0.16635201392858215,\n",
              " -0.05403712543499122,\n",
              " 0.015079729022603183,\n",
              " -0.06267673224219054,\n",
              " -0.06267673224219054,\n",
              " 0.11011540390179539,\n",
              " 0.0841965834801976,\n",
              " -0.0453975186277919,\n",
              " -0.010839091398994784,\n",
              " -0.07995594585658919,\n",
              " 0.023719335829802332,\n",
              " -0.06267673224219054,\n",
              " -0.08859555266378842,\n",
              " 0.1878718651665891,\n",
              " -0.252748082000575,\n",
              " -0.07995594585658919,\n",
              " 0.06691736986579894,\n",
              " -0.0021994845917954614,\n",
              " 0.07555697667299827,\n",
              " -0.010839091398994784,\n",
              " -0.019478698206194106,\n",
              " -0.019478698206194106,\n",
              " -0.06267673224219054,\n",
              " 0.0496381562514003,\n",
              " -0.09723515947098775,\n",
              " -0.08859555266378842,\n",
              " -0.11451437308538621,\n",
              " 0.032358942637001654,\n",
              " -0.09723515947098775,\n",
              " 0.11011540390179539,\n",
              " 0.032358942637001654,\n",
              " 0.015079729022603183,\n",
              " -0.06267673224219054,\n",
              " 0.10147579709459614,\n",
              " 0.0841965834801976,\n",
              " -0.08859555266378842,\n",
              " 0.10147579709459614,\n",
              " -0.08859555266378842,\n",
              " -0.0453975186277919,\n",
              " 0.006440122215403861,\n",
              " 0.015079729022603183,\n",
              " -0.06267673224219054,\n",
              " 0.10147579709459614,\n",
              " -0.1836312275429806,\n",
              " 0.06691736986579894,\n",
              " 0.015079729022603183,\n",
              " 0.16195304474499123,\n",
              " -0.23546886838617656,\n",
              " 0.0841965834801976,\n",
              " -0.02811830501339343,\n",
              " 0.12739461751619402,\n",
              " 0.032358942637001654,\n",
              " -0.0453975186277919,\n",
              " 0.05827776305859962,\n",
              " -0.14907280031418352,\n",
              " -0.10587476627818707,\n",
              " -0.10587476627818707,\n",
              " -0.0021994845917954614,\n",
              " -0.15771240712138282,\n",
              " 0.0496381562514003,\n",
              " -0.019478698206194106,\n",
              " 0.032358942637001654,\n",
              " 0.05827776305859962,\n",
              " 0.11011540390179539,\n",
              " 0.11011540390179539,\n",
              " 0.05827776305859962,\n",
              " 0.04099854944420098,\n",
              " -0.010839091398994784,\n",
              " 0.0841965834801976,\n",
              " 0.023719335829802332,\n",
              " 0.0496381562514003,\n",
              " -0.010839091398994784,\n",
              " -0.07131633904938986,\n",
              " -0.07995594585658919,\n",
              " 0.0496381562514003,\n",
              " 0.0841965834801976,\n",
              " -0.010839091398994784,\n",
              " -0.0453975186277919,\n",
              " 0.023719335829802332,\n",
              " 0.07555697667299827,\n",
              " 0.0841965834801976,\n",
              " -0.02811830501339343,\n",
              " 0.1533134379377919,\n",
              " 0.06691736986579894,\n",
              " 0.20515107878098776,\n",
              " 0.0496381562514003,\n",
              " -0.07131633904938986,\n",
              " -0.16635201392858215,\n",
              " -0.08859555266378842,\n",
              " 0.16195304474499123,\n",
              " -0.019478698206194106,\n",
              " -0.10587476627818707,\n",
              " 0.006440122215403861,\n",
              " -0.10587476627818707,\n",
              " -0.1404331935069842,\n",
              " -0.03675791182059275,\n",
              " 0.023719335829802332,\n",
              " 0.06691736986579894,\n",
              " 0.015079729022603183,\n",
              " -0.02811830501339343,\n",
              " 0.023719335829802332,\n",
              " 0.09283619028739683,\n",
              " -0.13179358669978486,\n",
              " 0.032358942637001654,\n",
              " 0.023719335829802332,\n",
              " -0.20091044115737927,\n",
              " 0.05827776305859962,\n",
              " 0.17923225835938977,\n",
              " -0.06267673224219054,\n",
              " 0.05827776305859962,\n",
              " 0.17059265155219056,\n",
              " 0.06691736986579894,\n",
              " -0.0021994845917954614,\n",
              " -0.02811830501339343,\n",
              " -0.06267673224219054,\n",
              " -0.03675791182059275,\n",
              " -0.019478698206194106,\n",
              " 0.17059265155219056,\n",
              " -0.12315397989258554,\n",
              " 0.032358942637001654,\n",
              " -0.019478698206194106,\n",
              " -0.1404331935069842,\n",
              " 0.04099854944420098,\n",
              " 0.04099854944420098,\n",
              " 0.06691736986579894,\n",
              " 0.10147579709459614,\n",
              " 0.006440122215403861,\n",
              " 0.006440122215403861,\n",
              " -0.08859555266378842,\n",
              " -0.019478698206194106,\n",
              " -0.12315397989258554,\n",
              " 0.24834911281698419,\n",
              " -0.02811830501339343,\n",
              " 0.023719335829802332,\n",
              " -0.03675791182059275,\n",
              " 0.06691736986579894,\n",
              " -0.07995594585658919,\n",
              " 0.0841965834801976,\n",
              " -0.05403712543499122,\n",
              " 0.12739461751619402,\n",
              " 0.07555697667299827,\n",
              " 0.015079729022603183,\n",
              " 0.06691736986579894,\n",
              " -0.010839091398994784,\n",
              " 0.015079729022603183,\n",
              " -0.03675791182059275,\n",
              " 0.032358942637001654,\n",
              " -0.13179358669978486,\n",
              " -0.07995594585658919,\n",
              " -0.03675791182059275,\n",
              " -0.05403712543499122,\n",
              " -0.09723515947098775,\n",
              " -0.07995594585658919,\n",
              " -0.010839091398994784,\n",
              " -0.02811830501339343,\n",
              " -0.06267673224219054,\n",
              " 0.11011540390179539,\n",
              " -0.09723515947098775,\n",
              " 0.015079729022603183,\n",
              " -0.010839091398994784,\n",
              " 0.0496381562514003,\n",
              " 0.11011540390179539,\n",
              " -0.10587476627818707,\n",
              " 0.12739461751619402,\n",
              " -0.02811830501339343,\n",
              " 0.04099854944420098,\n",
              " 0.05827776305859962,\n",
              " -0.0453975186277919,\n",
              " -0.019478698206194106,\n",
              " -0.08859555266378842,\n",
              " 0.032358942637001654,\n",
              " 0.032358942637001654,\n",
              " -0.08859555266378842,\n",
              " -0.0453975186277919,\n",
              " 0.04099854944420098,\n",
              " 0.015079729022603183,\n",
              " 0.006440122215403861,\n",
              " 0.09283619028739683,\n",
              " -0.0021994845917954614,\n",
              " 0.06691736986579894,\n",
              " 0.015079729022603183,\n",
              " 0.006440122215403861,\n",
              " -0.03675791182059275,\n",
              " -0.13179358669978486,\n",
              " 0.05827776305859962,\n",
              " 0.015079729022603183,\n",
              " -0.03675791182059275,\n",
              " 0.032358942637001654,\n",
              " -0.03675791182059275,\n",
              " 0.04099854944420098,\n",
              " 0.11011540390179539,\n",
              " 0.015079729022603183,\n",
              " -0.019478698206194106,\n",
              " 0.015079729022603183,\n",
              " -0.08859555266378842,\n",
              " -0.11451437308538621,\n",
              " 0.0496381562514003,\n",
              " 0.05827776305859962,\n",
              " -0.05403712543499122,\n",
              " 0.0496381562514003,\n",
              " -0.11451437308538621,\n",
              " 0.05827776305859962,\n",
              " 0.015079729022603183,\n",
              " 0.006440122215403861,\n",
              " 0.04099854944420098,\n",
              " -0.010839091398994784,\n",
              " 0.07555697667299827,\n",
              " 0.0496381562514003,\n",
              " -0.06267673224219054,\n",
              " 0.11011540390179539,\n",
              " -0.20091044115737927,\n",
              " -0.03675791182059275,\n",
              " 0.0841965834801976,\n",
              " -0.010839091398994784,\n",
              " -0.02811830501339343,\n",
              " -0.0453975186277919,\n",
              " 0.015079729022603183,\n",
              " 0.09283619028739683,\n",
              " 0.20515107878098776,\n",
              " -0.05403712543499122,\n",
              " -0.08859555266378842,\n",
              " -0.010839091398994784,\n",
              " 0.1187550107089947,\n",
              " -0.11451437308538621,\n",
              " 0.015079729022603183,\n",
              " -0.15771240712138282,\n",
              " 0.11011540390179539,\n",
              " 0.17059265155219056,\n",
              " 0.12739461751619402,\n",
              " -0.11451437308538621,\n",
              " -0.11451437308538621,\n",
              " 0.06691736986579894,\n",
              " 0.04099854944420098,\n",
              " 0.04099854944420098,\n",
              " -0.07995594585658919,\n",
              " -0.010839091398994784,\n",
              " 0.13603422432339335,\n",
              " 0.032358942637001654,\n",
              " 0.015079729022603183,\n",
              " -0.019478698206194106,\n",
              " 0.0496381562514003,\n",
              " 0.13603422432339335,\n",
              " 0.0841965834801976,\n",
              " -0.12315397989258554,\n",
              " 0.04099854944420098,\n",
              " -0.019478698206194106,\n",
              " -0.07131633904938986,\n",
              " -0.03675791182059275,\n",
              " 0.032358942637001654,\n",
              " 0.10147579709459614,\n",
              " -0.16635201392858215,\n",
              " 0.05827776305859962,\n",
              " -0.06267673224219054,\n",
              " -0.010839091398994784,\n",
              " 0.09283619028739683,\n",
              " -0.06267673224219054,\n",
              " 0.09283619028739683,\n",
              " 0.05827776305859962,\n",
              " -0.0021994845917954614,\n",
              " 0.12739461751619402,\n",
              " -0.16635201392858215,\n",
              " 0.015079729022603183,\n",
              " -0.0021994845917954614,\n",
              " 0.032358942637001654,\n",
              " 0.015079729022603183,\n",
              " -0.019478698206194106,\n",
              " -0.0021994845917954614,\n",
              " 0.032358942637001654,\n",
              " 0.24834911281698419,\n",
              " 0.04099854944420098,\n",
              " -0.03675791182059275,\n",
              " -0.010839091398994784,\n",
              " -0.20091044115737927,\n",
              " 0.17059265155219056,\n",
              " -0.07131633904938986,\n",
              " 0.17059265155219056,\n",
              " 0.06691736986579894,\n",
              " -0.11451437308538621,\n",
              " -0.12315397989258554,\n",
              " -0.10587476627818707,\n",
              " 0.023719335829802332,\n",
              " -0.11451437308538621,\n",
              " -0.0453975186277919,\n",
              " -0.13179358669978486,\n",
              " 0.0841965834801976,\n",
              " 0.16195304474499123,\n",
              " 0.04099854944420098,\n",
              " -0.10587476627818707,\n",
              " 0.032358942637001654,\n",
              " -0.13179358669978486,\n",
              " -0.010839091398994784,\n",
              " 0.05827776305859962,\n",
              " 0.09283619028739683,\n",
              " 0.015079729022603183,\n",
              " -0.07995594585658919,\n",
              " -0.0021994845917954614,\n",
              " 0.015079729022603183,\n",
              " -0.07131633904938986,\n",
              " 0.06691736986579894,\n",
              " -0.13179358669978486,\n",
              " 0.12739461751619402,\n",
              " 0.015079729022603183,\n",
              " 0.12739461751619402,\n",
              " 0.17923225835938977,\n",
              " 0.0496381562514003,\n",
              " 0.0496381562514003,\n",
              " -0.07995594585658919,\n",
              " -0.03675791182059275,\n",
              " 0.0496381562514003,\n",
              " -0.0453975186277919,\n",
              " -0.14907280031418352,\n",
              " -0.14907280031418352,\n",
              " 0.04099854944420098,\n",
              " 0.015079729022603183,\n",
              " 0.1446738311305926,\n",
              " 0.032358942637001654,\n",
              " 0.10147579709459614,\n",
              " 0.023719335829802332,\n",
              " -0.06267673224219054,\n",
              " -0.019478698206194106,\n",
              " -0.019478698206194106,\n",
              " -0.08859555266378842,\n",
              " 0.06691736986579894,\n",
              " -0.0021994845917954614,\n",
              " -0.05403712543499122,\n",
              " -0.010839091398994784,\n",
              " 0.023719335829802332,\n",
              " -0.03675791182059275,\n",
              " 0.0841965834801976,\n",
              " 0.015079729022603183,\n",
              " 0.05827776305859962,\n",
              " -0.2441084751933759,\n",
              " -0.0021994845917954614,\n",
              " 0.16195304474499123,\n",
              " -0.07995594585658919,\n",
              " 0.015079729022603183,\n",
              " -0.02811830501339343,\n",
              " 0.0841965834801976,\n",
              " -0.019478698206194106,\n",
              " -0.05403712543499122,\n",
              " -0.10587476627818707,\n",
              " 0.006440122215403861,\n",
              " -0.019478698206194106,\n",
              " -0.0453975186277919,\n",
              " -0.11451437308538621,\n",
              " -0.0453975186277919,\n",
              " 0.015079729022603183,\n",
              " 0.09283619028739683,\n",
              " -0.07131633904938986,\n",
              " 0.006440122215403861,\n",
              " -0.2095500479645786,\n",
              " 0.015079729022603183,\n",
              " 0.16195304474499123,\n",
              " 0.032358942637001654,\n",
              " -0.1404331935069842,\n",
              " -0.0021994845917954614,\n",
              " -0.05403712543499122,\n",
              " 0.0496381562514003,\n",
              " -0.019478698206194106,\n",
              " -0.06267673224219054,\n",
              " 0.032358942637001654,\n",
              " 0.1187550107089947,\n",
              " 0.17059265155219056,\n",
              " -0.09723515947098775,\n",
              " 0.0841965834801976,\n",
              " 0.07555697667299827,\n",
              " -0.0021994845917954614,\n",
              " 0.05827776305859962,\n",
              " 0.19651147197378843,\n",
              " -0.09723515947098775,\n",
              " 0.006440122215403861,\n",
              " -0.10587476627818707,\n",
              " 0.10147579709459614,\n",
              " 0.006440122215403861,\n",
              " -0.07131633904938986,\n",
              " 0.06691736986579894,\n",
              " -0.07995594585658919,\n",
              " 0.07555697667299827,\n",
              " 0.0496381562514003,\n",
              " 0.10147579709459614,\n",
              " -0.06267673224219054,\n",
              " 0.06691736986579894,\n",
              " 0.0496381562514003,\n",
              " 0.04099854944420098,\n",
              " 0.023719335829802332,\n",
              " 0.05827776305859962,\n",
              " -0.05403712543499122,\n",
              " 0.0496381562514003,\n",
              " 0.023719335829802332,\n",
              " -0.06267673224219054,\n",
              " -0.010839091398994784,\n",
              " -0.07995594585658919,\n",
              " -0.02811830501339343,\n",
              " -0.05403712543499122,\n",
              " -0.13179358669978486,\n",
              " -0.02811830501339343,\n",
              " 0.11011540390179539,\n",
              " -0.0453975186277919,\n",
              " -0.03675791182059275,\n",
              " -0.010839091398994784,\n",
              " -0.12315397989258554,\n",
              " -0.07131633904938986,\n",
              " -0.06267673224219054,\n",
              " 0.1533134379377919,\n",
              " 0.1533134379377919,\n",
              " -0.1404331935069842,\n",
              " -0.12315397989258554,\n",
              " -0.0453975186277919,\n",
              " 0.1187550107089947,\n",
              " 0.1187550107089947,\n",
              " 0.0496381562514003,\n",
              " 0.04099854944420098,\n",
              " -0.05403712543499122,\n",
              " -0.11451437308538621,\n",
              " -0.03675791182059275,\n",
              " 0.06691736986579894,\n",
              " -0.05403712543499122,\n",
              " 0.1187550107089947,\n",
              " 0.015079729022603183,\n",
              " 0.07555697667299827,\n",
              " -0.03675791182059275,\n",
              " 0.0841965834801976,\n",
              " -0.019478698206194106,\n",
              " 0.10147579709459614,\n",
              " 0.032358942637001654,\n",
              " 0.07555697667299827,\n",
              " 0.032358942637001654,\n",
              " 0.10147579709459614,\n",
              " 0.05827776305859962,\n",
              " 0.11011540390179539,\n",
              " -0.0453975186277919,\n",
              " 0.04099854944420098,\n",
              " 0.006440122215403861,\n",
              " 0.07555697667299827,\n",
              " -0.13179358669978486,\n",
              " 0.10147579709459614,\n",
              " -0.019478698206194106,\n",
              " 0.07555697667299827,\n",
              " -0.19227083435017994,\n",
              " 0.10147579709459614,\n",
              " 0.0496381562514003,\n",
              " -0.0453975186277919,\n",
              " 0.05827776305859962,\n",
              " -0.08859555266378842,\n",
              " 0.0496381562514003,\n",
              " -0.019478698206194106,\n",
              " -0.010839091398994784,\n",
              " -0.11451437308538621,\n",
              " 0.0496381562514003,\n",
              " -0.08859555266378842,\n",
              " -0.0021994845917954614,\n",
              " 0.032358942637001654,\n",
              " 0.06691736986579894,\n",
              " 0.0496381562514003,\n",
              " -0.09723515947098775,\n",
              " -0.08859555266378842,\n",
              " -0.13179358669978486,\n",
              " 0.023719335829802332,\n",
              " 0.07555697667299827,\n",
              " -0.02811830501339343,\n",
              " -0.05403712543499122,\n",
              " -0.07995594585658919,\n",
              " -0.010839091398994784,\n",
              " -0.12315397989258554,\n",
              " 0.07555697667299827,\n",
              " 0.12739461751619402,\n",
              " 0.06691736986579894,\n",
              " -0.11451437308538621,\n",
              " 0.0496381562514003,\n",
              " -0.019478698206194106,\n",
              " -0.010839091398994784,\n",
              " 0.032358942637001654,\n",
              " -0.20091044115737927,\n",
              " -0.14907280031418352,\n",
              " 0.0496381562514003,\n",
              " 0.0496381562514003,\n",
              " 0.023719335829802332,\n",
              " -0.010839091398994784,\n",
              " -0.03675791182059275,\n",
              " 0.023719335829802332,\n",
              " 0.17059265155219056,\n",
              " -0.06267673224219054,\n",
              " 0.07555697667299827,\n",
              " -0.0453975186277919,\n",
              " -0.07995594585658919,\n",
              " -0.19227083435017994,\n",
              " 0.04099854944420098,\n",
              " 0.015079729022603183,\n",
              " 0.015079729022603183,\n",
              " 0.032358942637001654,\n",
              " -0.11451437308538621,\n",
              " -0.010839091398994784,\n",
              " 0.032358942637001654,\n",
              " 0.032358942637001654,\n",
              " 0.032358942637001654,\n",
              " 0.07555697667299827,\n",
              " -0.17499162073578148,\n",
              " -0.20091044115737927,\n",
              " -0.02811830501339343,\n",
              " -0.12315397989258554,\n",
              " -0.07131633904938986,\n",
              " 0.06691736986579894,\n",
              " 0.04099854944420098,\n",
              " 0.015079729022603183,\n",
              " 0.1187550107089947,\n",
              " -0.03675791182059275,\n",
              " -0.03675791182059275,\n",
              " -0.0453975186277919,\n",
              " 0.07555697667299827,\n",
              " 0.015079729022603183,\n",
              " 0.023719335829802332,\n",
              " -0.02811830501339343,\n",
              " 0.11011540390179539,\n",
              " -0.010839091398994784,\n",
              " 0.0496381562514003,\n",
              " -0.11451437308538621,\n",
              " -0.0453975186277919,\n",
              " 0.05827776305859962,\n",
              " -0.07131633904938986,\n",
              " -0.17499162073578148,\n",
              " -0.0453975186277919,\n",
              " 0.06691736986579894,\n",
              " -0.010839091398994784,\n",
              " 0.023719335829802332,\n",
              " -0.0021994845917954614,\n",
              " 0.05827776305859962,\n",
              " -0.06267673224219054,\n",
              " 0.015079729022603183,\n",
              " -0.06267673224219054,\n",
              " -0.15771240712138282,\n",
              " 0.006440122215403861,\n",
              " -0.08859555266378842,\n",
              " 0.006440122215403861,\n",
              " 0.023719335829802332,\n",
              " -0.11451437308538621,\n",
              " 0.006440122215403861,\n",
              " -0.20091044115737927,\n",
              " 0.006440122215403861,\n",
              " -0.010839091398994784,\n",
              " -0.05403712543499122,\n",
              " -0.05403712543499122,\n",
              " 0.015079729022603183,\n",
              " -0.09723515947098775,\n",
              " -0.0021994845917954614,\n",
              " -0.02811830501339343,\n",
              " 0.023719335829802332,\n",
              " -0.03675791182059275,\n",
              " 0.20515107878098776,\n",
              " -0.019478698206194106,\n",
              " 0.06691736986579894,\n",
              " 0.0496381562514003,\n",
              " 0.07555697667299827,\n",
              " -0.05403712543499122,\n",
              " -0.0021994845917954614,\n",
              " -0.13179358669978486,\n",
              " -0.07995594585658919,\n",
              " -0.19227083435017994,\n",
              " -0.010839091398994784,\n",
              " 0.06691736986579894,\n",
              " -0.010839091398994784,\n",
              " 0.1446738311305926,\n",
              " 0.015079729022603183,\n",
              " -0.14907280031418352,\n",
              " 0.13603422432339335,\n",
              " 0.023719335829802332,\n",
              " 0.04099854944420098,\n",
              " -0.2095500479645786,\n",
              " -0.13179358669978486,\n",
              " -0.07131633904938986,\n",
              " -0.0453975186277919,\n",
              " -0.13179358669978486,\n",
              " -0.0021994845917954614,\n",
              " 0.006440122215403861,\n",
              " 0.1533134379377919,\n",
              " -0.019478698206194106,\n",
              " -0.0021994845917954614,\n",
              " 0.12739461751619402,\n",
              " 0.04099854944420098,\n",
              " 0.0496381562514003,\n",
              " -0.07995594585658919,\n",
              " 0.13603422432339335,\n",
              " -0.03675791182059275,\n",
              " -0.12315397989258554,\n",
              " 0.10147579709459614,\n",
              " 0.023719335829802332,\n",
              " -0.20091044115737927,\n",
              " -0.010839091398994784,\n",
              " -0.02811830501339343,\n",
              " -0.03675791182059275,\n",
              " -0.11451437308538621,\n",
              " -0.02811830501339343,\n",
              " -0.019478698206194106,\n",
              " 0.015079729022603183,\n",
              " 0.07555697667299827,\n",
              " -0.14907280031418352,\n",
              " 0.07555697667299827,\n",
              " -0.15771240712138282,\n",
              " -0.0453975186277919,\n",
              " -0.010839091398994784,\n",
              " -0.019478698206194106,\n",
              " 0.0841965834801976,\n",
              " 0.023719335829802332,\n",
              " 0.1446738311305926,\n",
              " -0.26138768880777435,\n",
              " -0.05403712543499122,\n",
              " 0.09283619028739683,\n",
              " -0.07995594585658919,\n",
              " -0.0453975186277919,\n",
              " 0.032358942637001654,\n",
              " 0.17059265155219056,\n",
              " 0.0841965834801976,\n",
              " 0.13603422432339335,\n",
              " 0.006440122215403861,\n",
              " 0.032358942637001654,\n",
              " 0.015079729022603183,\n",
              " -0.0453975186277919,\n",
              " -0.0453975186277919,\n",
              " -0.09723515947098775,\n",
              " 0.17923225835938977,\n",
              " 0.09283619028739683,\n",
              " -0.07131633904938986,\n",
              " -0.14907280031418352,\n",
              " 0.11011540390179539,\n",
              " 0.023719335829802332,\n",
              " 0.04099854944420098,\n",
              " 0.11011540390179539,\n",
              " 0.1878718651665891,\n",
              " 0.1878718651665891,\n",
              " -0.09723515947098775,\n",
              " -0.010839091398994784,\n",
              " -0.13179358669978486,\n",
              " -0.02811830501339343,\n",
              " 0.032358942637001654,\n",
              " 0.023719335829802332,\n",
              " -0.12315397989258554,\n",
              " -0.06267673224219054,\n",
              " 0.0841965834801976,\n",
              " 0.06691736986579894,\n",
              " 0.0841965834801976,\n",
              " -0.0021994845917954614,\n",
              " -0.02811830501339343,\n",
              " 0.0496381562514003,\n",
              " 0.0496381562514003,\n",
              " -0.0453975186277919,\n",
              " 0.006440122215403861,\n",
              " -0.010839091398994784,\n",
              " 0.21379068558818698,\n",
              " 0.0496381562514003,\n",
              " -0.0453975186277919,\n",
              " 0.16195304474499123,\n",
              " 0.032358942637001654,\n",
              " 0.07555697667299827,\n",
              " -0.07995594585658919,\n",
              " -0.019478698206194106,\n",
              " 0.06691736986579894,\n",
              " -0.010839091398994784,\n",
              " 0.04099854944420098,\n",
              " -0.05403712543499122,\n",
              " -0.010839091398994784,\n",
              " 0.023719335829802332,\n",
              " -0.02811830501339343,\n",
              " 0.07555697667299827,\n",
              " -0.010839091398994784,\n",
              " -0.019478698206194106,\n",
              " 0.10147579709459614,\n",
              " 0.05827776305859962,\n",
              " 0.006440122215403861,\n",
              " -0.010839091398994784,\n",
              " 0.015079729022603183,\n",
              " 0.12739461751619402,\n",
              " 0.06691736986579894,\n",
              " -0.010839091398994784,\n",
              " -0.03675791182059275,\n",
              " -0.07131633904938986,\n",
              " -0.06267673224219054,\n",
              " -0.17499162073578148,\n",
              " -0.1404331935069842,\n",
              " -0.11451437308538621,\n",
              " -0.02811830501339343,\n",
              " 0.1878718651665891,\n",
              " -0.0453975186277919,\n",
              " 0.006440122215403861,\n",
              " 0.1446738311305926,\n",
              " -0.09723515947098775,\n",
              " -0.019478698206194106,\n",
              " 0.04099854944420098,\n",
              " -0.0453975186277919,\n",
              " -0.010839091398994784,\n",
              " 0.16195304474499123,\n",
              " 0.04099854944420098,\n",
              " -0.019478698206194106,\n",
              " -0.0453975186277919,\n",
              " 0.11011540390179539,\n",
              " 0.032358942637001654,\n",
              " -0.019478698206194106,\n",
              " 0.07555697667299827,\n",
              " -0.03675791182059275,\n",
              " 0.1878718651665891,\n",
              " -0.13179358669978486,\n",
              " 0.0496381562514003,\n",
              " -0.14907280031418352,\n",
              " 0.05827776305859962,\n",
              " -0.07995594585658919,\n",
              " -0.05403712543499122,\n",
              " 0.0496381562514003,\n",
              " -0.0021994845917954614,\n",
              " 0.006440122215403861,\n",
              " 0.12739461751619402,\n",
              " 0.06691736986579894,\n",
              " -0.06267673224219054,\n",
              " 0.1187550107089947,\n",
              " 0.023719335829802332,\n",
              " -0.07995594585658919,\n",
              " 0.1446738311305926,\n",
              " 0.06691736986579894,\n",
              " -0.05403712543499122,\n",
              " 0.06691736986579894,\n",
              " -0.02811830501339343,\n",
              " 0.006440122215403861,\n",
              " -0.07131633904938986,\n",
              " 0.032358942637001654,\n",
              " 0.0496381562514003,\n",
              " 0.032358942637001654,\n",
              " 0.05827776305859962,\n",
              " -0.05403712543499122,\n",
              " -0.0021994845917954614,\n",
              " -0.1404331935069842,\n",
              " -0.05403712543499122,\n",
              " 0.015079729022603183,\n",
              " -0.02811830501339343,\n",
              " -0.05403712543499122,\n",
              " -0.03675791182059275,\n",
              " -0.0453975186277919,\n",
              " -0.07995594585658919,\n",
              " 0.04099854944420098,\n",
              " -0.010839091398994784,\n",
              " -0.23546886838617656,\n",
              " -0.06267673224219054,\n",
              " 0.10147579709459614,\n",
              " 0.1446738311305926,\n",
              " -0.07995594585658919,\n",
              " -0.07995594585658919,\n",
              " -0.0021994845917954614,\n",
              " 0.006440122215403861,\n",
              " -0.02811830501339343,\n",
              " -0.09723515947098775,\n",
              " 0.05827776305859962,\n",
              " -0.09723515947098775,\n",
              " -0.07131633904938986,\n",
              " 0.032358942637001654,\n",
              " 0.05827776305859962,\n",
              " -0.12315397989258554,\n",
              " -0.06267673224219054,\n",
              " 0.06691736986579894,\n",
              " 0.032358942637001654,\n",
              " 0.023719335829802332,\n",
              " 0.1878718651665891,\n",
              " 0.0841965834801976,\n",
              " -0.09723515947098775,\n",
              " 0.07555697667299827,\n",
              " 0.09283619028739683,\n",
              " -0.02811830501339343,\n",
              " -0.010839091398994784,\n",
              " 0.015079729022603183]"
            ]
          },
          "metadata": {},
          "execution_count": 26
        }
      ]
    },
    {
      "cell_type": "code",
      "metadata": {
        "colab": {
          "base_uri": "https://localhost:8080/",
          "height": 369
        },
        "id": "s5DrBTiChtzy",
        "outputId": "a20b0299-e640-4a68-896d-3dfaca842711"
      },
      "source": [
        "fig, ax = plt.subplots(figsize=(5, 5))\n",
        "ax.hist(perm_diffs, bins=11, rwidth=0.9)\n",
        "ax.axvline(x=obs_pct_diff, color='black', lw=2)\n",
        "ax.text(0.06, 200, 'Observed\\ndifference', bbox={'facecolor':'white'})\n",
        "ax.set_xlabel('Conversion Rate (Percent)')\n",
        "ax.set_ylabel('Frequency')\n",
        "\n",
        "plt.tight_layout()\n",
        "plt.show()"
      ],
      "execution_count": 27,
      "outputs": [
        {
          "output_type": "display_data",
          "data": {
            "image/png": "[encoded data removed]",
            "text/plain": [
              "<Figure size 360x360 with 1 Axes>"
            ]
          },
          "metadata": {
            "needs_background": "light"
          }
        }
      ]
    },
    {
      "cell_type": "markdown",
      "metadata": {
        "id": "Gc6LrfzYdtcN"
      },
      "source": [
        "### **3.4.1 P-Value**"
      ]
    },
    {
      "cell_type": "markdown",
      "metadata": {
        "id": "KpOXZiitWWIw"
      },
      "source": [
        "If np.mean is applied to a list of booleans, it gives the percentage of how often True was found in the list (#True / #Total)."
      ]
    },
    {
      "cell_type": "code",
      "metadata": {
        "id": "oSiXhORhPrny",
        "colab": {
          "base_uri": "https://localhost:8080/"
        },
        "outputId": "0cab3079-952a-4201-ec20-6f9baf403b20"
      },
      "source": [
        "print(np.mean([diff > obs_pct_diff for diff in perm_diffs]))"
      ],
      "execution_count": 28,
      "outputs": [
        {
          "output_type": "stream",
          "name": "stdout",
          "text": [
            "0.332\n"
          ]
        }
      ]
    },
    {
      "cell_type": "code",
      "metadata": {
        "id": "1yrL3xUggQLF",
        "colab": {
          "base_uri": "https://localhost:8080/"
        },
        "outputId": "30003fcc-b7ae-4068-88e0-21854336c742"
      },
      "source": [
        "survivors = np.array([[200, 23739 - 200], [182, 22588 - 182]])\n",
        "chi2, p_value, df, _ = stats.chi2_contingency(survivors)\n",
        "\n",
        "print(f'p-value for single sided test: {p_value / 2:.4f}')"
      ],
      "execution_count": 29,
      "outputs": [
        {
          "output_type": "stream",
          "name": "stdout",
          "text": [
            "p-value for single sided test: 0.3498\n"
          ]
        }
      ]
    },
    {
      "cell_type": "markdown",
      "metadata": {
        "id": "RMoSV3GZnulk"
      },
      "source": [
        "https://link.springer.com/content/pdf/10.1007/s00144-008-0033-3.pdf"
      ]
    },
    {
      "cell_type": "markdown",
      "metadata": {
        "id": "G52fs3lhPu9U"
      },
      "source": [
        "## **3.5 t-Tests**"
      ]
    },
    {
      "cell_type": "code",
      "metadata": {
        "id": "K3m_X9NEQKoC",
        "colab": {
          "base_uri": "https://localhost:8080/"
        },
        "outputId": "dc5ed845-996b-4dd5-d3bb-444d8bc9eaac"
      },
      "source": [
        "res = stats.ttest_ind(session_times[session_times.Page == 'Page A'].Time,\n",
        "                      session_times[session_times.Page == 'Page B'].Time,\n",
        "                      equal_var=False)\n",
        "print(f'p-value for single sided test: {res.pvalue / 2:.4f}')"
      ],
      "execution_count": 30,
      "outputs": [
        {
          "output_type": "stream",
          "name": "stdout",
          "text": [
            "p-value for single sided test: 0.1408\n"
          ]
        }
      ]
    },
    {
      "cell_type": "code",
      "metadata": {
        "id": "-7h8R_uUhodI",
        "colab": {
          "base_uri": "https://localhost:8080/"
        },
        "outputId": "0b665d0d-ccdf-46c4-c611-18ed6b8bd77b"
      },
      "source": [
        "tstat, pvalue, df = sm.stats.ttest_ind(\n",
        "    session_times[session_times.Page == 'Page A'].Time,\n",
        "    session_times[session_times.Page == 'Page B'].Time,\n",
        "    usevar='unequal', alternative='smaller')\n",
        "print(f'p-value: {pvalue:.4f}')"
      ],
      "execution_count": 31,
      "outputs": [
        {
          "output_type": "stream",
          "name": "stdout",
          "text": [
            "p-value: 0.1408\n"
          ]
        }
      ]
    },
    {
      "cell_type": "markdown",
      "metadata": {
        "id": "hbfGcpcPQSRz"
      },
      "source": [
        "## **3.8 ANOVA (ANalysis Of VAriance)**"
      ]
    },
    {
      "cell_type": "code",
      "metadata": {
        "id": "hqzJHtq1QaD5",
        "colab": {
          "base_uri": "https://localhost:8080/",
          "height": 297
        },
        "outputId": "4c68a420-7769-47b6-deed-d318f8f4c8b7"
      },
      "source": [
        "four_sessions = pd.read_csv(FOUR_SESSIONS_CSV)\n",
        "\n",
        "ax = four_sessions.boxplot(by='Page', column='Time', figsize=(4, 4))\n",
        "ax.set_xlabel('Page')\n",
        "ax.set_ylabel('Time (In Seconds)')\n",
        "plt.suptitle('')\n",
        "plt.title('')\n",
        "\n",
        "plt.tight_layout()\n",
        "plt.show()"
      ],
      "execution_count": 32,
      "outputs": [
        {
          "output_type": "display_data",
          "data": {
            "image/png": "[encoded data removed]",
            "text/plain": [
              "<Figure size 288x288 with 1 Axes>"
            ]
          },
          "metadata": {
            "needs_background": "light"
          }
        }
      ]
    },
    {
      "cell_type": "code",
      "metadata": {
        "id": "sxQzjnp1jUnz",
        "colab": {
          "base_uri": "https://localhost:8080/"
        },
        "outputId": "cd9e8597-2520-479c-8dfe-2eb7142a6f72"
      },
      "source": [
        "print(pd.read_csv(FOUR_SESSIONS_CSV).head())"
      ],
      "execution_count": 33,
      "outputs": [
        {
          "output_type": "stream",
          "name": "stdout",
          "text": [
            "     Page  Time\n",
            "0  Page 1   164\n",
            "1  Page 2   178\n",
            "2  Page 3   175\n",
            "3  Page 4   155\n",
            "4  Page 1   172\n"
          ]
        }
      ]
    },
    {
      "cell_type": "code",
      "metadata": {
        "id": "CKTd0XqajZnK",
        "colab": {
          "base_uri": "https://localhost:8080/"
        },
        "outputId": "ddf82903-f4cd-4cf9-c064-13c40df10715"
      },
      "source": [
        "observed_variance = four_sessions.groupby('Page').mean().var()[0]\n",
        "print('Observed mean:', four_sessions.groupby('Page').mean().values.ravel())\n",
        "print('Variance:', observed_variance)\n",
        "\n",
        "# Permutation test example with stickiness\n",
        "def perm_test(df):\n",
        "    df = df.copy()\n",
        "    df['Time'] = np.random.permutation(df['Time'].values)\n",
        "    return df.groupby('Page').mean().var()[0]\n",
        "\n",
        "print(perm_test(four_sessions))"
      ],
      "execution_count": 34,
      "outputs": [
        {
          "output_type": "stream",
          "name": "stdout",
          "text": [
            "Observed mean: [172.8 182.6 175.6 164.6]\n",
            "Variance: 55.426666666666655\n",
            "50.706666666666685\n"
          ]
        }
      ]
    },
    {
      "cell_type": "code",
      "metadata": {
        "id": "TemQRutkkKM4",
        "colab": {
          "base_uri": "https://localhost:8080/",
          "height": 386
        },
        "outputId": "76567504-5c59-4a4d-e28d-a9c97ff7d8cf"
      },
      "source": [
        "random.seed(1)\n",
        "perm_variance = [perm_test(four_sessions) for _ in range(3000)]\n",
        "print('Pr(Prov)', np.mean([var > observed_variance for var in perm_variance]))\n",
        "\n",
        "fig, ax = plt.subplots(figsize=(5, 5))\n",
        "ax.hist(perm_variance, bins=11, rwidth=0.9)\n",
        "ax.axvline(x=observed_variance, color='black', lw=2)\n",
        "ax.text(60, 200, 'Observed\\nvariance', bbox={'facecolor':'white'})\n",
        "ax.set_xlabel('Variance')\n",
        "ax.set_ylabel('Frequency')\n",
        "\n",
        "plt.tight_layout()\n",
        "plt.show()"
      ],
      "execution_count": 35,
      "outputs": [
        {
          "output_type": "stream",
          "name": "stdout",
          "text": [
            "Pr(Prov) 0.081\n"
          ]
        },
        {
          "output_type": "display_data",
          "data": {
            "image/png": "[encoded data removed]",
            "text/plain": [
              "<Figure size 360x360 with 1 Axes>"
            ]
          },
          "metadata": {
            "needs_background": "light"
          }
        }
      ]
    },
    {
      "cell_type": "markdown",
      "metadata": {
        "id": "iscim_lmQm7l"
      },
      "source": [
        "### **3.8.1 F-Statistic**"
      ]
    },
    {
      "cell_type": "markdown",
      "metadata": {
        "id": "Ocn-IgzNV-KZ"
      },
      "source": [
        "We can compute an ANOVA table using *statsmodels*."
      ]
    },
    {
      "cell_type": "code",
      "metadata": {
        "id": "_QrWn9rwQqnp",
        "colab": {
          "base_uri": "https://localhost:8080/",
          "height": 215
        },
        "outputId": "214720e7-0be4-4bfd-d307-b66bab19a58a"
      },
      "source": [
        "model = smf.ols('Time ~ Page', data=four_sessions).fit()\n",
        "\n",
        "aov_table = sm.stats.anova_Im(model)\n",
        "print(aov_table)"
      ],
      "execution_count": 36,
      "outputs": [
        {
          "output_type": "error",
          "ename": "AttributeError",
          "evalue": "ignored",
          "traceback": [
            "\u001b[0;31m---------------------------------------------------------------------------\u001b[0m",
            "\u001b[0;31mAttributeError\u001b[0m                            Traceback (most recent call last)",
            "\u001b[0;32m<ipython-input-36-a5893872f49e>\u001b[0m in \u001b[0;36m<module>\u001b[0;34m()\u001b[0m\n\u001b[1;32m      1\u001b[0m \u001b[0mmodel\u001b[0m \u001b[0;34m=\u001b[0m \u001b[0msmf\u001b[0m\u001b[0;34m.\u001b[0m\u001b[0mols\u001b[0m\u001b[0;34m(\u001b[0m\u001b[0;34m'Time ~ Page'\u001b[0m\u001b[0;34m,\u001b[0m \u001b[0mdata\u001b[0m\u001b[0;34m=\u001b[0m\u001b[0mfour_sessions\u001b[0m\u001b[0;34m)\u001b[0m\u001b[0;34m.\u001b[0m\u001b[0mfit\u001b[0m\u001b[0;34m(\u001b[0m\u001b[0;34m)\u001b[0m\u001b[0;34m\u001b[0m\u001b[0;34m\u001b[0m\u001b[0m\n\u001b[1;32m      2\u001b[0m \u001b[0;34m\u001b[0m\u001b[0m\n\u001b[0;32m----> 3\u001b[0;31m \u001b[0maov_table\u001b[0m \u001b[0;34m=\u001b[0m \u001b[0msm\u001b[0m\u001b[0;34m.\u001b[0m\u001b[0mstats\u001b[0m\u001b[0;34m.\u001b[0m\u001b[0manova_Im\u001b[0m\u001b[0;34m(\u001b[0m\u001b[0mmodel\u001b[0m\u001b[0;34m)\u001b[0m\u001b[0;34m\u001b[0m\u001b[0;34m\u001b[0m\u001b[0m\n\u001b[0m\u001b[1;32m      4\u001b[0m \u001b[0mprint\u001b[0m\u001b[0;34m(\u001b[0m\u001b[0maov_table\u001b[0m\u001b[0;34m)\u001b[0m\u001b[0;34m\u001b[0m\u001b[0;34m\u001b[0m\u001b[0m\n",
            "\u001b[0;31mAttributeError\u001b[0m: module 'statsmodels.stats.api' has no attribute 'anova_Im'"
          ]
        }
      ]
    },
    {
      "cell_type": "code",
      "metadata": {
        "id": "D6j5QcIVl1j2"
      },
      "source": [
        "res = stats.f_oneway(four_sessions[four_sessions.Page == 'Page 1'].Time,\n",
        "                     four_sessions[four_sessions.Page == 'Page 2'].Time,\n",
        "                     four_sessions[four_sessions.Page == 'Page 3'].Time,\n",
        "                     four_sessions[four_sessions.Page == 'Page 4'].Time)\n",
        "print(f'F-Statistic: {res.statistic / 2:.4f}')\n",
        "print(f'p-value: {res.pvalue / 2:.4f}')"
      ],
      "execution_count": null,
      "outputs": []
    },
    {
      "cell_type": "markdown",
      "metadata": {
        "id": "ApZY2aKZQu3O"
      },
      "source": [
        "### **3.8.2 Two-Way ANOVA**\n",
        "### **Two-way ANOVA is only available with statsmodels**  \n",
        "> formula = 'len ~ C(supp) + C(dose) + C(supp):C(dose)'  \n",
        "> model = ols(formula, data).fit()  \n",
        "> aov_table = anova_lm(model, typ=2)"
      ]
    },
    {
      "cell_type": "markdown",
      "metadata": {
        "id": "itpRlpzBSadl"
      },
      "source": [
        "## **3.9 Chi-Square Test**\n",
        "### **3.9.1 Chi-Square Test: A Resampling Approach**"
      ]
    },
    {
      "cell_type": "code",
      "metadata": {
        "id": "6ovD8quFSnSm"
      },
      "source": [
        "# Table 3-4\n",
        "click_rate = pd.read_csv(CLICK_RATE_CSV)\n",
        "clicks = click_rate.pivot(index='Click', columns='Headline', values='Rate')\n",
        "print(clicks)"
      ],
      "execution_count": null,
      "outputs": []
    },
    {
      "cell_type": "code",
      "metadata": {
        "id": "hbRJNb47nH5X"
      },
      "source": [
        "# Table 3-5\n",
        "row_average = clicks.mean(axis=1)\n",
        "pd.DataFrame({\n",
        "    'Headline A': row_average,\n",
        "    'Headline B': row_average,\n",
        "    'Headline C': row_average,\n",
        "})"
      ],
      "execution_count": null,
      "outputs": []
    },
    {
      "cell_type": "code",
      "metadata": {
        "id": "6jJEnI81nd0n"
      },
      "source": [
        "# Resampling approach\n",
        "box = [1] * 34\n",
        "box.extend([0] * 2966)\n",
        "random.shuffle(box)\n",
        "\n",
        "def chi2(observed, expected):\n",
        "    pearson_residuals = []\n",
        "    for row, expect in zip(observed, expected):\n",
        "        pearson_residuals.append([(observe - expect) ** 2 / expect for observe in row])\n",
        "\n",
        "    # Return sum of squares\n",
        "    return np.sum(pearson_residuals)\n",
        "\n",
        "expected_clicks = 34 / 3\n",
        "expected_noclicks = 1000 - expected_clicks\n",
        "expected = [34 / 3, 1000 - 34 / 3]\n",
        "chi2observed = chi2(clicks.values, expected)\n",
        "\n",
        "def perm_fun(box):\n",
        "    sample_clicks = [sum(random.sample(box, 1000)),\n",
        "                     sum(random.sample(box, 1000)),\n",
        "                     sum(random.sample(box, 1000))]\n",
        "    sample_noclicks = [1000 - n for n in sample_clicks]\n",
        "    return chi2([sample_clicks, sample_noclicks], expected)\n",
        "\n",
        "perm_chi2 = [perm_fun(box) for _ in range(2000)]\n",
        "\n",
        "resampled_p_value = sum(perm_chi2 > chi2observed) / len(perm_chi2)\n",
        "print(f'Observed chi2: {chi2observed:.4f}')\n",
        "print(f'Resampled p-value: {resampled_p_value:.4f}')"
      ],
      "execution_count": null,
      "outputs": []
    },
    {
      "cell_type": "code",
      "metadata": {
        "id": "1MZiPBwopZWC"
      },
      "source": [
        "chisq, pvalue, df, expected = stats.chi2_contingency(clicks)\n",
        "print(f'Observed chi2: {chisq:.4f}')\n",
        "print(f'p-value: {pvalue:.4f}')"
      ],
      "execution_count": null,
      "outputs": []
    },
    {
      "cell_type": "markdown",
      "metadata": {
        "id": "SozEpOuzSwV6"
      },
      "source": [
        "### **3.9.2 Figure Chi-Square Distribution**"
      ]
    },
    {
      "cell_type": "code",
      "metadata": {
        "id": "0uy4hLg_S5U-"
      },
      "source": [
        "x = [1 + i * (30 - 1) / 99 for i in range(100)]\n",
        "\n",
        "chi = pd.DataFrame({\n",
        "    'x': x,\n",
        "    'chi_1': stats.chi2.pdf(x, df=1),\n",
        "    'chi_2': stats.chi2.pdf(x, df=2),\n",
        "    'chi_5': stats.chi2.pdf(x, df=5),\n",
        "    'chi_10': stats.chi2.pdf(x, df=10),\n",
        "    'chi_20': stats.chi2.pdf(x, df=20),\n",
        "})\n",
        "\n",
        "fig, ax = plt.subplots(figsize=(4, 2.5))\n",
        "ax.plot(chi.x, chi.chi_1, color='black', linestyle='-', label='1')\n",
        "ax.plot(chi.x, chi.chi_2, color='black', linestyle=(0, (1, 1)), label='2')\n",
        "ax.plot(chi.x, chi.chi_5, color='black', linestyle=(0, (2, 1)), label='5')\n",
        "ax.plot(chi.x, chi.chi_10, color='black', linestyle=(0, (3, 1)), label = '10')\n",
        "ax.plot(chi.x, chi.chi_20, color='black', linestyle=(0, (4, 1)), label = '20')\n",
        "ax.legend(title='df')\n",
        "\n",
        "plt.tight_layout()\n",
        "plt.show()"
      ],
      "execution_count": null,
      "outputs": []
    },
    {
      "cell_type": "markdown",
      "metadata": {
        "id": "HOatWLENS7vx"
      },
      "source": [
        "### **3.9.3 Fisher's Exact Test**"
      ]
    },
    {
      "cell_type": "markdown",
      "metadata": {
        "id": "pjEnYcjvT0uC"
      },
      "source": [
        "*Scipy* has only an implementation of Fisher's Exact Test for 2x2 matrices. There is a github repository that provides a Python implementation that uses the same code as the R version. Installing this requires a Fortran compiler.  \n",
        "> stat.fisher_exact(clicks)"
      ]
    },
    {
      "cell_type": "code",
      "metadata": {
        "id": "cm6QyzJAS_VW"
      },
      "source": [
        "# stats.fisher_exact(clicks.values)"
      ],
      "execution_count": null,
      "outputs": []
    },
    {
      "cell_type": "markdown",
      "metadata": {
        "id": "saMnd4ZbTIxf"
      },
      "source": [
        "### **Scientific Fraud**"
      ]
    },
    {
      "cell_type": "code",
      "metadata": {
        "id": "cVg4vyoXTNPm"
      },
      "source": [
        "imanishi = pd.read_csv(IMANISHI_CSV)\n",
        "imanishi.columns = [c.strip() for c in imanishi.columns]\n",
        "ax = imanishi.plot.bar(x='Digit', y=['Frequency'], legend=False, figsize=(4, 4))\n",
        "ax.set_xlabel('Digit')\n",
        "ax.set_ylabel('Frequency')\n",
        "\n",
        "plt.tight_layout()\n",
        "plt.show()"
      ],
      "execution_count": null,
      "outputs": []
    },
    {
      "cell_type": "markdown",
      "metadata": {
        "id": "FEUTxzEeTT_S"
      },
      "source": [
        "## **3.11 Power and Sample Size**"
      ]
    },
    {
      "cell_type": "markdown",
      "metadata": {
        "id": "OcTGWBFzTZ68"
      },
      "source": [
        "*Statsmodels* has a number of methods for power calculation.  \n",
        "See e.g.: https://machinelearningmastery.com/statistical-power-and-power-analysis-in-python/"
      ]
    },
    {
      "cell_type": "code",
      "metadata": {
        "id": "o8kuA7pTTZEV"
      },
      "source": [
        "effect_size = sm.stats.proportion_effectsize(0.0121, 0.011)\n",
        "analysis = sm.stats.TTestIndPower()\n",
        "result = analysis.solve_power(effect_size=effect_size,\n",
        "                              alpha=0.05, power=0.8, alternative='larger')\n",
        "print('Sample Size: %.3f' % result)"
      ],
      "execution_count": null,
      "outputs": []
    }
  ]
}