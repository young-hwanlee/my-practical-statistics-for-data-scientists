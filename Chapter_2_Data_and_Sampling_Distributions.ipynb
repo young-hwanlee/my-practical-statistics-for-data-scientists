{
  "nbformat": 4,
  "nbformat_minor": 0,
  "metadata": {
    "colab": {
      "name": "Chapter 2 - Data and Sampling Distributions.ipynb",
      "provenance": [],
      "collapsed_sections": [],
      "authorship_tag": "ABX9TyNJTe2OLG8Es8X9rwSqrhjB",
      "include_colab_link": true
    },
    "kernelspec": {
      "name": "python3",
      "display_name": "Python 3"
    },
    "language_info": {
      "name": "python"
    }
  },
  "cells": [
    {
      "cell_type": "markdown",
      "metadata": {
        "id": "view-in-github",
        "colab_type": "text"
      },
      "source": [
        "<a href=\"https://colab.research.google.com/github/young-hwanlee/my-practical-statistics-for-data-scientists/blob/main/Chapter_2_Data_and_Sampling_Distributions.ipynb\" target=\"_parent\"><img src=\"https://colab.research.google.com/assets/colab-badge.svg\" alt=\"Open In Colab\"/></a>"
      ]
    },
    {
      "cell_type": "markdown",
      "metadata": {
        "id": "_xwLkRnZt92d"
      },
      "source": [
        "# **Practical Statistics for Data Scientists (Python)**\n",
        "# **Chapter 2. Data and Sampling Distributions**\n",
        "> (c) 2019 Peter C. Bruce, Andrew Bruce, and Peter Gedeck"
      ]
    },
    {
      "cell_type": "markdown",
      "metadata": {
        "id": "VHIpEesA99Fs"
      },
      "source": [
        "Import required Python packages."
      ]
    },
    {
      "cell_type": "code",
      "metadata": {
        "id": "Ud0o1hDW-BL-"
      },
      "source": [
        "%matplotlib inline\n",
        "\n",
        "from pathlib import Path\n",
        "import pandas as pd\n",
        "import numpy as np\n",
        "from scipy import stats\n",
        "from sklearn.utils import resample\n",
        "\n",
        "import seaborn as sns\n",
        "import matplotlib.pylab as plt"
      ],
      "execution_count": 1,
      "outputs": []
    },
    {
      "cell_type": "code",
      "metadata": {
        "id": "BypqGvpP91_z"
      },
      "source": [
        "# try:\n",
        "#     import common\n",
        "#     DATA = common.dataDirectory()\n",
        "# except ImportError:\n",
        "#     DATA = Path().resolve() / 'data'"
      ],
      "execution_count": 2,
      "outputs": []
    },
    {
      "cell_type": "markdown",
      "metadata": {
        "id": "VMZy1Aa_-6jV"
      },
      "source": [
        "Define paths to data sets. If you don't keep your data in the same directory as the code, adapt the path names."
      ]
    },
    {
      "cell_type": "code",
      "metadata": {
        "id": "FU1dRE-V-wHc"
      },
      "source": [
        "# LOANS_INCOME_CSV = DATA / 'loans_income.csv'\n",
        "# SP500_DATA_CSV = DATA / 'sp500_data.csv.gz'\n",
        "\n",
        "DATA = 'https://raw.githubusercontent.com/young-hwanlee/practical-statistics-for-data-scientists/master/data/'\n",
        "\n",
        "LOANS_INCOME_CSV = DATA + 'loans_income.csv'\n",
        "SP500_DATA_CSV = DATA + 'sp500_data.csv.gz'"
      ],
      "execution_count": 3,
      "outputs": []
    },
    {
      "cell_type": "markdown",
      "metadata": {
        "id": "yxaNzWVL-wb2"
      },
      "source": [
        "Figure 2.1"
      ]
    },
    {
      "cell_type": "code",
      "metadata": {
        "colab": {
          "base_uri": "https://localhost:8080/",
          "height": 112
        },
        "id": "qTmTJGym-wql",
        "outputId": "5a2cd430-a8de-4600-87b4-9617974a55ef"
      },
      "source": [
        "np.random.seed(seed=1)\n",
        "x = np.linspace(-3, 3, 300)\n",
        "xsample = stats.norm.rvs(size=1000)\n",
        "\n",
        "fig, axes = plt.subplots(ncols=2, figsize=(5, 1.5))\n",
        "\n",
        "ax = axes[0]\n",
        "ax.fill(x, stats.norm.pdf(x))\n",
        "ax.set_axis_off()\n",
        "ax.set_xlim(-3, 3)\n",
        "\n",
        "ax = axes[1]\n",
        "ax.hist(xsample, bins=30)\n",
        "ax.set_axis_off()\n",
        "ax.set_xlim(-3, 3)\n",
        "ax.set_position\n",
        "# plt.subplots_adjust(left=0, bottom=0, right=1, top=1, wspace=0, hspace=0)\n",
        "\n",
        "plt.show()"
      ],
      "execution_count": 4,
      "outputs": [
        {
          "output_type": "display_data",
          "data": {
            "image/png": "[encoded data removed]",
            "text/plain": [
              "<Figure size 360x108 with 2 Axes>"
            ]
          },
          "metadata": {
            "needs_background": "light"
          }
        }
      ]
    },
    {
      "cell_type": "markdown",
      "metadata": {
        "id": "XP6JaB4yN9AM"
      },
      "source": [
        "## **2.1 Random Sampling and Sample Bias**"
      ]
    },
    {
      "cell_type": "markdown",
      "metadata": {
        "id": "Qb2o2JO9cL8d"
      },
      "source": [
        "http://www.capitalcentury.com/1935.html"
      ]
    },
    {
      "cell_type": "markdown",
      "metadata": {
        "id": "66UumZHwOhku"
      },
      "source": [
        "## **2.2 Selection Bias**"
      ]
    },
    {
      "cell_type": "markdown",
      "metadata": {
        "id": "V1nQpj8QPkMM"
      },
      "source": [
        "https://www.ncbi.nlm.nih.gov/pmc/articles/PMC2917255/"
      ]
    },
    {
      "cell_type": "markdown",
      "metadata": {
        "id": "mHO-ON_POlE1"
      },
      "source": [
        "https://www.priceactionlab.com/Blog/2012/06/fooled-by-randomness-through-selection-bias/"
      ]
    },
    {
      "cell_type": "markdown",
      "metadata": {
        "id": "dvezIUfdAjzH"
      },
      "source": [
        "## **2.3 Sampling Distribution of a Statistic**"
      ]
    },
    {
      "cell_type": "code",
      "metadata": {
        "colab": {
          "base_uri": "https://localhost:8080/"
        },
        "id": "fLCymRMkbjYz",
        "outputId": "d4fc140f-3ac5-4b1c-dd79-62b8b3a75ad4"
      },
      "source": [
        "loans_income = pd.read_csv(LOANS_INCOME_CSV, squeeze=True)\n",
        "# loans_income = pd.read_csv(LOANS_INCOME_CSV)\n",
        "print(loans_income.head(5))\n",
        "print(loans_income.shape)"
      ],
      "execution_count": 5,
      "outputs": [
        {
          "output_type": "stream",
          "name": "stdout",
          "text": [
            "0     67000\n",
            "1     52000\n",
            "2    100000\n",
            "3     78762\n",
            "4     37041\n",
            "Name: x, dtype: int64\n",
            "(50000,)\n"
          ]
        }
      ]
    },
    {
      "cell_type": "code",
      "metadata": {
        "colab": {
          "base_uri": "https://localhost:8080/",
          "height": 297
        },
        "id": "9_Mf0mMRl_tb",
        "outputId": "3b02ec3e-f366-4536-d26d-0d401014d5df"
      },
      "source": [
        "loans_income.plot.hist(xlim=[0, 250000], figsize=(4, 4))\n",
        "ax.set_xlabel('Income')\n",
        "\n",
        "plt.tight_layout()\n",
        "plt.show()"
      ],
      "execution_count": 6,
      "outputs": [
        {
          "output_type": "display_data",
          "data": {
            "image/png": "[encoded data removed]",
            "text/plain": [
              "<Figure size 288x288 with 1 Axes>"
            ]
          },
          "metadata": {
            "needs_background": "light"
          }
        }
      ]
    },
    {
      "cell_type": "code",
      "metadata": {
        "colab": {
          "base_uri": "https://localhost:8080/",
          "height": 297
        },
        "id": "WabSqRJCezdC",
        "outputId": "6da61460-dc81-4f88-bdbc-7bf6bcd32e36"
      },
      "source": [
        "ax = loans_income.plot.hist(density=True, xlim=[0, 250000], figsize=(4, 4))\n",
        "loans_income.plot.density(ax=ax)\n",
        "ax.set_xlabel('Income')\n",
        "\n",
        "plt.tight_layout()\n",
        "plt.show()"
      ],
      "execution_count": 7,
      "outputs": [
        {
          "output_type": "display_data",
          "data": {
            "image/png": "[encoded data removed]",
            "text/plain": [
              "<Figure size 288x288 with 1 Axes>"
            ]
          },
          "metadata": {
            "needs_background": "light"
          }
        }
      ]
    },
    {
      "cell_type": "code",
      "metadata": {
        "colab": {
          "base_uri": "https://localhost:8080/"
        },
        "id": "xPdJkH0ZcgJb",
        "outputId": "f08bb24f-82e6-455c-909d-f21a28d67d1b"
      },
      "source": [
        "sample_data = pd.DataFrame({\n",
        "    'income': loans_income.sample(1000),\n",
        "    'type': 'Data',\n",
        "})\n",
        "print(sample_data.head(5))\n",
        "print(sample_data.shape)"
      ],
      "execution_count": 8,
      "outputs": [
        {
          "output_type": "stream",
          "name": "stdout",
          "text": [
            "       income  type\n",
            "40292   63000  Data\n",
            "38959   92000  Data\n",
            "17361  134000  Data\n",
            "33996   52000  Data\n",
            "26491   43000  Data\n",
            "(1000, 2)\n"
          ]
        }
      ]
    },
    {
      "cell_type": "code",
      "metadata": {
        "colab": {
          "base_uri": "https://localhost:8080/",
          "height": 204
        },
        "id": "czTOhkjceHnT",
        "outputId": "a15f3f16-a0f8-42c5-cc90-77f450c2ca81"
      },
      "source": [
        "sample_data.head(5)"
      ],
      "execution_count": 9,
      "outputs": [
        {
          "output_type": "execute_result",
          "data": {
            "text/html": [
              "<div>\n",
              "<style scoped>\n",
              "    .dataframe tbody tr th:only-of-type {\n",
              "        vertical-align: middle;\n",
              "    }\n",
              "\n",
              "    .dataframe tbody tr th {\n",
              "        vertical-align: top;\n",
              "    }\n",
              "\n",
              "    .dataframe thead th {\n",
              "        text-align: right;\n",
              "    }\n",
              "</style>\n",
              "<table border=\"1\" class=\"dataframe\">\n",
              "  <thead>\n",
              "    <tr style=\"text-align: right;\">\n",
              "      <th></th>\n",
              "      <th>income</th>\n",
              "      <th>type</th>\n",
              "    </tr>\n",
              "  </thead>\n",
              "  <tbody>\n",
              "    <tr>\n",
              "      <th>40292</th>\n",
              "      <td>63000</td>\n",
              "      <td>Data</td>\n",
              "    </tr>\n",
              "    <tr>\n",
              "      <th>38959</th>\n",
              "      <td>92000</td>\n",
              "      <td>Data</td>\n",
              "    </tr>\n",
              "    <tr>\n",
              "      <th>17361</th>\n",
              "      <td>134000</td>\n",
              "      <td>Data</td>\n",
              "    </tr>\n",
              "    <tr>\n",
              "      <th>33996</th>\n",
              "      <td>52000</td>\n",
              "      <td>Data</td>\n",
              "    </tr>\n",
              "    <tr>\n",
              "      <th>26491</th>\n",
              "      <td>43000</td>\n",
              "      <td>Data</td>\n",
              "    </tr>\n",
              "  </tbody>\n",
              "</table>\n",
              "</div>"
            ],
            "text/plain": [
              "       income  type\n",
              "40292   63000  Data\n",
              "38959   92000  Data\n",
              "17361  134000  Data\n",
              "33996   52000  Data\n",
              "26491   43000  Data"
            ]
          },
          "metadata": {},
          "execution_count": 9
        }
      ]
    },
    {
      "cell_type": "code",
      "metadata": {
        "colab": {
          "base_uri": "https://localhost:8080/"
        },
        "id": "AYbb9iVFAxpq",
        "outputId": "74c1ebc3-7881-4776-da94-c5dea74f983c"
      },
      "source": [
        "sample_mean_05 = pd.DataFrame({\n",
        "    'income': [loans_income.sample(5).mean() for _ in range(1000)],\n",
        "    'type': 'Mean of 5',\n",
        "})\n",
        "\n",
        "sample_mean_20 = pd.DataFrame({\n",
        "    'income': [loans_income.sample(20).mean() for _ in range(1000)],\n",
        "    'type': 'Mean of 20',\n",
        "})\n",
        "\n",
        "results = pd.concat([sample_data, sample_mean_05, sample_mean_20])\n",
        "print(results.head())\n",
        "print(results.shape)"
      ],
      "execution_count": 10,
      "outputs": [
        {
          "output_type": "stream",
          "name": "stdout",
          "text": [
            "         income  type\n",
            "40292   63000.0  Data\n",
            "38959   92000.0  Data\n",
            "17361  134000.0  Data\n",
            "33996   52000.0  Data\n",
            "26491   43000.0  Data\n",
            "(3000, 2)\n"
          ]
        }
      ]
    },
    {
      "cell_type": "code",
      "metadata": {
        "colab": {
          "base_uri": "https://localhost:8080/",
          "height": 297
        },
        "id": "CKeSIizuB-Cs",
        "outputId": "18d4b61e-abdb-42b0-9791-edda42dfca3a"
      },
      "source": [
        "g = sns.FacetGrid(results, col='type', col_wrap=2,\n",
        "                 height=2, aspect=2)\n",
        "g.map(plt.hist, 'income', range=[0, 200000], bins=40)\n",
        "g.set_axis_labels('Income', 'Count')\n",
        "g.set_titles('{col_name}')\n",
        "\n",
        "plt.tight_layout()\n",
        "plt.show()"
      ],
      "execution_count": 11,
      "outputs": [
        {
          "output_type": "display_data",
          "data": {
            "image/png": "[encoded data removed]",
            "text/plain": [
              "<Figure size 576x288 with 3 Axes>"
            ]
          },
          "metadata": {
            "needs_background": "light"
          }
        }
      ]
    },
    {
      "cell_type": "code",
      "metadata": {
        "colab": {
          "base_uri": "https://localhost:8080/",
          "height": 441
        },
        "id": "XhJZGOh4dT0N",
        "outputId": "c2b67453-33b5-4ce7-cbf4-3c0bf31274dd"
      },
      "source": [
        "g = sns.FacetGrid(results, col='type', col_wrap=1,\n",
        "                 height=2, aspect=2)\n",
        "g.map(plt.hist, 'income', range=[0, 200000], bins=40)\n",
        "g.set_axis_labels('Income', 'Count')\n",
        "g.set_titles('{col_name}')\n",
        "\n",
        "plt.tight_layout()\n",
        "plt.show()"
      ],
      "execution_count": 12,
      "outputs": [
        {
          "output_type": "display_data",
          "data": {
            "image/png": "[encoded data removed]",
            "text/plain": [
              "<Figure size 288x432 with 3 Axes>"
            ]
          },
          "metadata": {
            "needs_background": "light"
          }
        }
      ]
    },
    {
      "cell_type": "markdown",
      "metadata": {
        "id": "RjJSTI3Zi6na"
      },
      "source": [
        "https://onlinestatbook.com/stat_sim/sampling_dist/"
      ]
    },
    {
      "cell_type": "markdown",
      "metadata": {
        "id": "wJB61qdhCezL"
      },
      "source": [
        "## **2.4 The Bootstrap**"
      ]
    },
    {
      "cell_type": "code",
      "metadata": {
        "colab": {
          "base_uri": "https://localhost:8080/"
        },
        "id": "ZJNKxDzYClrq",
        "outputId": "0b0713b9-464f-4994-9206-c6428e1fe240"
      },
      "source": [
        "results = []\n",
        "for nrepeat in range(1000):\n",
        "    sample = resample(loans_income)\n",
        "    results.append(sample.median())\n",
        "results = pd.Series(results)\n",
        "print('Bootstrap Statistics:')\n",
        "print(f'original: {loans_income.median()}')\n",
        "print(f'bias: {results.mean() - loans_income.median()}')\n",
        "print(f'std.error: {results.std()}')"
      ],
      "execution_count": 13,
      "outputs": [
        {
          "output_type": "stream",
          "name": "stdout",
          "text": [
            "Bootstrap Statistics:\n",
            "original: 62000.0\n",
            "bias: -82.09799999999814\n",
            "std.error: 228.73933106830748\n"
          ]
        }
      ]
    },
    {
      "cell_type": "code",
      "metadata": {
        "colab": {
          "base_uri": "https://localhost:8080/"
        },
        "id": "MV8JWMIMDRbg",
        "outputId": "06f8320d-8af2-4159-afa0-bed02385364f"
      },
      "source": [
        "print('original: {loans_income.median()}')"
      ],
      "execution_count": 14,
      "outputs": [
        {
          "output_type": "stream",
          "name": "stdout",
          "text": [
            "original: {loans_income.median()}\n"
          ]
        }
      ]
    },
    {
      "cell_type": "markdown",
      "metadata": {
        "id": "fLOlW6-LDT5p"
      },
      "source": [
        "## **2.5 Confidence Intervals**"
      ]
    },
    {
      "cell_type": "code",
      "metadata": {
        "colab": {
          "base_uri": "https://localhost:8080/"
        },
        "id": "mgiaXS0HJLoP",
        "outputId": "ed083013-8152-47e4-fc5c-b67d252a52a9"
      },
      "source": [
        "print('Loan Applicants\\' Average Income : $', loans_income.mean())\n",
        "np.random.seed(seed=3)\n",
        "\n",
        "# create a sample of 20 loan income data\n",
        "sample20 = resample(loans_income, n_samples=20, replace=False)\n",
        "print('Average of Samples from above : $', sample20.mean())"
      ],
      "execution_count": 15,
      "outputs": [
        {
          "output_type": "stream",
          "name": "stdout",
          "text": [
            "Loan Applicants' Average Income : $ 68760.51844\n",
            "Average of Samples from above : $ 55734.1\n"
          ]
        }
      ]
    },
    {
      "cell_type": "code",
      "metadata": {
        "colab": {
          "base_uri": "https://localhost:8080/"
        },
        "id": "G4ZpgxrhKX4R",
        "outputId": "98ee282f-88e7-4a81-d14b-e1f9d6a4ba70"
      },
      "source": [
        "results = []\n",
        "for nrepeat in range(500):\n",
        "    sample = resample(sample20)\n",
        "    results.append(sample.mean())\n",
        "print(results)\n",
        "results = pd.Series(results)\n",
        "print(results)"
      ],
      "execution_count": 16,
      "outputs": [
        {
          "output_type": "stream",
          "name": "stdout",
          "text": [
            "[47060.0, 52950.0, 63918.2, 40156.0, 46462.0, 34971.0, 59599.1, 62730.0, 49234.1, 43463.1, 61834.1, 54184.1, 69606.2, 61176.2, 49303.2, 52290.1, 67647.2, 61385.1, 50371.0, 61241.2, 55993.1, 49515.0, 54684.1, 67445.3, 62913.1, 47363.1, 48115.0, 56447.2, 61401.3, 56242.0, 71738.4, 49274.0, 60686.0, 58600.0, 63039.3, 46640.1, 70395.3, 58043.1, 52230.0, 56638.2, 44706.0, 45628.1, 60608.1, 75952.1, 62352.4, 52112.0, 60110.3, 41754.0, 65241.2, 51226.2, 46733.0, 47219.1, 54043.1, 58230.0, 53349.1, 49097.2, 49582.2, 62162.0, 52693.1, 48949.1, 50312.2, 50490.1, 56138.2, 53006.0, 61382.2, 42634.1, 65025.1, 47715.0, 52721.0, 58384.1, 43050.0, 54833.0, 58027.0, 63336.0, 49883.0, 51069.1, 54356.2, 70815.0, 48906.0, 54025.1, 60059.2, 68877.2, 61384.1, 62175.1, 43963.1, 47512.0, 57632.2, 57949.1, 47412.0, 65934.1, 46619.1, 51214.1, 45884.1, 55775.1, 56915.0, 64860.0, 47601.3, 60991.2, 59406.2, 53614.1, 51128.1, 57847.2, 52963.1, 58437.1, 53263.1, 67154.3, 44513.1, 58913.1, 73530.0, 62202.1, 79128.1, 45059.2, 52165.0, 55375.1, 46628.1, 47930.0, 58475.1, 43280.0, 54978.1, 60073.1, 58456.0, 41969.1, 54525.1, 56563.1, 62178.0, 60126.2, 58415.0, 63928.1, 47865.0, 53246.1, 57228.1, 52784.1, 58316.0, 69876.2, 59479.1, 50469.1, 57580.0, 65465.0, 48969.1, 41862.0, 61269.1, 47750.0, 56462.0, 54584.1, 59221.0, 67376.2, 72458.4, 58062.2, 58334.1, 53177.0, 63184.1, 52825.1, 51769.1, 61378.1, 55632.2, 73143.1, 63791.2, 44550.0, 54778.1, 46392.0, 48663.1, 53736.0, 43221.0, 44190.1, 59121.0, 53565.0, 56362.0, 45300.0, 54321.0, 46176.2, 70467.4, 56621.0, 68639.3, 78743.1, 52727.0, 52751.0, 56791.2, 54549.1, 54197.2, 55873.4, 54878.1, 48181.1, 48469.1, 45891.2, 69956.0, 40827.0, 51643.1, 60182.2, 59265.0, 57171.0, 65954.3, 55262.0, 58910.0, 57801.0, 56682.2, 61906.0, 54471.0, 66473.1, 48300.0, 43815.0, 67063.1, 72618.2, 41269.1, 59606.2, 68749.1, 80263.1, 46984.1, 61669.1, 57828.1, 52823.1, 46413.1, 41428.1, 49871.0, 61854.3, 56453.2, 47213.1, 63000.0, 55890.1, 59082.2, 60892.0, 61734.1, 61141.2, 58530.0, 52825.1, 55175.1, 59626.2, 59356.0, 56413.1, 49174.0, 52349.1, 60750.0, 67663.1, 59418.2, 47740.1, 42975.1, 57749.1, 52545.3, 47749.1, 43225.1, 47263.1, 56721.0, 60302.1, 66312.2, 44333.0, 65488.2, 73169.3, 52040.1, 57318.2, 52803.2, 53983.0, 57536.0, 60527.0, 54795.3, 36156.0, 51790.1, 57176.2, 63671.2, 51297.2, 61041.2, 55534.1, 47068.0, 65313.1, 59034.1, 48383.0, 61365.0, 47915.0, 58278.1, 50018.0, 46130.0, 47768.0, 50356.0, 61100.0, 51641.2, 52950.0, 48471.0, 53421.0, 45528.1, 55350.0, 64615.0, 58656.2, 55005.1, 61686.0, 53063.1, 50286.0, 50755.1, 42971.0, 42762.0, 64765.0, 46276.2, 49265.0, 55349.1, 51634.1, 52076.2, 63464.1, 53319.1, 53577.0, 62547.2, 56282.2, 53438.2, 45192.0, 55106.0, 57100.0, 69034.1, 52369.1, 48262.0, 45000.0, 56762.0, 60755.1, 58115.0, 57738.2, 64316.3, 47150.0, 55850.0, 59221.0, 39556.0, 64141.2, 59448.2, 63028.1, 43951.0, 48801.0, 53614.1, 54934.1, 45521.0, 57356.0, 54445.3, 77376.2, 37974.0, 52413.1, 44662.0, 52616.0, 55264.1, 59790.1, 50059.2, 44615.0, 59501.3, 60508.1, 63678.1, 60030.0, 48640.1, 54456.0, 67839.3, 41619.1, 61556.2, 62697.2, 47805.1, 70432.2, 55836.0, 69239.3, 41030.0, 58267.4, 70904.3, 57065.0, 55591.2, 55701.0, 55325.1, 58050.0, 59606.2, 66499.1, 44032.2, 52691.2, 47282.2, 57846.1, 66363.1, 71504.3, 67734.1, 60756.0, 56167.4, 61040.1, 69119.3, 46269.1, 51734.1, 52899.1, 52562.2, 51568.0, 60229.1, 54112.0, 62650.0, 53799.1, 51965.0, 67321.0, 56532.2, 54636.0, 61456.0, 47133.0, 65013.1, 51369.1, 70371.0, 46740.1, 55156.2, 64063.1, 53026.2, 59303.2, 55280.0, 78154.3, 70734.1, 78106.2, 50571.0, 62413.1, 61491.2, 51815.0, 59969.1, 56195.0, 38312.0, 54828.1, 53791.2, 64177.2, 61855.3, 59014.1, 59893.1, 62741.2, 50134.1, 52500.0, 64295.3, 65216.3, 51078.1, 36271.0, 49393.1, 58001.0, 47056.0, 45330.0, 54230.0, 61280.0, 48033.0, 55936.0, 68636.0, 45313.1, 50436.0, 74328.1, 64103.2, 67897.2, 73776.2, 49750.0, 47106.0, 42275.1, 41256.0, 65613.1, 57365.0, 61384.1, 50663.1, 54749.1, 65310.3, 62863.1, 54821.0, 64494.4, 52391.2, 52189.3, 59314.1, 39784.1, 53126.2, 60728.1, 44451.0, 54577.0, 51527.0, 64510.3, 61632.2, 57806.2, 39562.0, 49619.1, 48500.0, 69932.4, 52136.0, 50171.0, 58421.0, 73432.2, 57030.0, 58945.3, 56400.0, 59225.3, 65665.0, 52730.0, 62560.3, 48590.1, 46465.0, 44865.0, 54696.1, 63062.2, 46933.0, 45506.0, 66456.2, 56421.0, 70906.0, 50469.1, 49971.0, 50240.1, 70226.2, 44295.0, 44500.0, 51871.0, 63409.2, 40877.0, 52425.1, 67575.1, 59686.2, 54726.2, 61821.0, 56667.4, 45006.0, 69932.2, 57899.1, 58564.1]\n",
            "0      47060.0\n",
            "1      52950.0\n",
            "2      63918.2\n",
            "3      40156.0\n",
            "4      46462.0\n",
            "        ...   \n",
            "495    56667.4\n",
            "496    45006.0\n",
            "497    69932.2\n",
            "498    57899.1\n",
            "499    58564.1\n",
            "Length: 500, dtype: float64\n"
          ]
        }
      ]
    },
    {
      "cell_type": "code",
      "metadata": {
        "colab": {
          "base_uri": "https://localhost:8080/"
        },
        "id": "2X8lHfgpKv5e",
        "outputId": "16be64ac-3f29-48f9-b9f0-5a191f9b4f26"
      },
      "source": [
        "confidence_interval = list(results.quantile([0.05, 0.95]))\n",
        "confidence_interval"
      ],
      "execution_count": 17,
      "outputs": [
        {
          "output_type": "execute_result",
          "data": {
            "text/plain": [
              "[43212.45, 70233.43999999999]"
            ]
          },
          "metadata": {},
          "execution_count": 17
        }
      ]
    },
    {
      "cell_type": "code",
      "metadata": {
        "colab": {
          "base_uri": "https://localhost:8080/",
          "height": 228
        },
        "id": "ct1LXNGkLOgz",
        "outputId": "dfdf0ab5-d0d1-4951-db6c-d9b9ccd8c340"
      },
      "source": [
        "ax = results.plot.hist(bins=30, figsize=(4, 3))\n",
        "ax.plot(confidence_interval, [55, 55], color='black')"
      ],
      "execution_count": 18,
      "outputs": [
        {
          "output_type": "execute_result",
          "data": {
            "text/plain": [
              "[<matplotlib.lines.Line2D at 0x7f8fb9530d90>]"
            ]
          },
          "metadata": {},
          "execution_count": 18
        },
        {
          "output_type": "display_data",
          "data": {
            "image/png": "[encoded data removed]",
            "text/plain": [
              "<Figure size 288x216 with 1 Axes>"
            ]
          },
          "metadata": {
            "needs_background": "light"
          }
        }
      ]
    },
    {
      "cell_type": "code",
      "metadata": {
        "colab": {
          "base_uri": "https://localhost:8080/",
          "height": 220
        },
        "id": "34zMAWFXLUnH",
        "outputId": "93ce8921-dffc-4486-b6ac-c72fb215062a"
      },
      "source": [
        "ax = results.plot.hist(bins=30, figsize=(4, 3))\n",
        "ax.plot(confidence_interval, [55, 55], color='black')\n",
        "\n",
        "for x in confidence_interval:\n",
        "    ax.plot([x, x], [0, 65], color='black')\n",
        "    ax.text(x, 70, f'{x:.0f}',\n",
        "            horizontalalignment='center', verticalalignment='center')"
      ],
      "execution_count": 19,
      "outputs": [
        {
          "output_type": "display_data",
          "data": {
            "image/png": "[encoded data removed]",
            "text/plain": [
              "<Figure size 288x216 with 1 Axes>"
            ]
          },
          "metadata": {
            "needs_background": "light"
          }
        }
      ]
    },
    {
      "cell_type": "code",
      "metadata": {
        "colab": {
          "base_uri": "https://localhost:8080/",
          "height": 237
        },
        "id": "L4howTZjLff4",
        "outputId": "992bb68a-9975-4e8a-f05e-4d9332ad4b29"
      },
      "source": [
        "ax = results.plot.hist(bins=30, figsize=(4, 3))\n",
        "ax.plot(confidence_interval, [55, 55], color='black')\n",
        "\n",
        "for x in confidence_interval:\n",
        "    ax.plot([x, x], [0, 65], color='black')\n",
        "    ax.text(x, 70, f'{x:.0f}',\n",
        "            horizontalalignment='center', verticalalignment='center')\n",
        "\n",
        "ax.text(sum(confidence_interval) / 2, 60, '90% interval',\n",
        "        horizontalalignment='center', verticalalignment='center')"
      ],
      "execution_count": 20,
      "outputs": [
        {
          "output_type": "execute_result",
          "data": {
            "text/plain": [
              "Text(56722.94499999999, 60, '90% interval')"
            ]
          },
          "metadata": {},
          "execution_count": 20
        },
        {
          "output_type": "display_data",
          "data": {
            "image/png": "[encoded data removed]",
            "text/plain": [
              "<Figure size 288x216 with 1 Axes>"
            ]
          },
          "metadata": {
            "needs_background": "light"
          }
        }
      ]
    },
    {
      "cell_type": "code",
      "metadata": {
        "colab": {
          "base_uri": "https://localhost:8080/",
          "height": 225
        },
        "id": "xfczjcm-Dg_h",
        "outputId": "91b9959d-f299-4b0b-d1f2-c805d8027ea4"
      },
      "source": [
        "ax = results.plot.hist(bins=30, figsize=(4, 3))\n",
        "ax.plot(confidence_interval, [55, 55], color='black')\n",
        "\n",
        "for x in confidence_interval:\n",
        "    ax.plot([x, x], [0, 65], color='black')\n",
        "    ax.text(x, 70, f'{x:.0f}',\n",
        "            horizontalalignment='center', verticalalignment='center')\n",
        "\n",
        "ax.text(sum(confidence_interval) / 2, 60, '90% interval',\n",
        "        horizontalalignment='center', verticalalignment='center')\n",
        "\n",
        "meanIncome = results.mean()\n",
        "ax.plot([meanIncome, meanIncome], [0, 50], color='black', linestyle='--')\n",
        "ax.text(meanIncome, 10, f'Mean: {meanIncome:.0f}',\n",
        "        bbox=dict(facecolor='white', edgecolor='white', alpha=0.5),\n",
        "        horizontalalignment='center', verticalalignment='center')\n",
        "ax.set_ylim(0, 80)\n",
        "ax.set_ylabel('Counts')\n",
        "\n",
        "plt.tight_layout()\n",
        "plt.show()"
      ],
      "execution_count": 21,
      "outputs": [
        {
          "output_type": "display_data",
          "data": {
            "image/png": "[encoded data removed]",
            "text/plain": [
              "<Figure size 288x216 with 1 Axes>"
            ]
          },
          "metadata": {
            "needs_background": "light"
          }
        }
      ]
    },
    {
      "cell_type": "code",
      "metadata": {
        "colab": {
          "base_uri": "https://localhost:8080/",
          "height": 225
        },
        "id": "b0AskpnQGE42",
        "outputId": "c11e5a03-504a-4893-f6a1-a2467e9d4be0"
      },
      "source": [
        "np.random.seed(seed=3)\n",
        "\n",
        "# create a sample of 20 loan income data\n",
        "sample20 = resample(loans_income, n_samples=20, replace=False)\n",
        "\n",
        "results = []\n",
        "for nrepeat in range(500):\n",
        "    sample = resample(sample20)\n",
        "    results.append(sample.mean())\n",
        "results = pd.Series(results)\n",
        "\n",
        "# 90% Confidence Interval\n",
        "confidence_interval = list(results.quantile([0.05, 0.95]))\n",
        "ax = results.plot.hist(bins=30, figsize=(4, 3), color='C1')\n",
        "ax.plot(confidence_interval, [55, 55], color='black', linestyle='--')\n",
        "for x in confidence_interval:\n",
        "    ax.plot([x, x], [0, 60], color='black')\n",
        "ax.text(82000, 50, \n",
        "        f'90% CI\\n[{confidence_interval[0]:.0f}, {confidence_interval[1]:.0f}]',\n",
        "       fontsize='small')\n",
        "\n",
        "# 95% Confidence Interval\n",
        "confidence_interval = list(results.quantile([0.025, 0.975]))\n",
        "ax = results.plot.hist(bins=30, figsize=(4, 3))\n",
        "ax.plot(confidence_interval, [65, 65], color='black', linestyle='--')\n",
        "for x in confidence_interval:\n",
        "    ax.plot([x, x], [0, 70], color='black')\n",
        "ax.text(82000, 65, \n",
        "        f'95% CI\\n[{confidence_interval[0]:.0f}, {confidence_interval[1]:.0f}]',\n",
        "       fontsize='small')\n",
        "# ax.text(sum(confidence_interval) / 2, 264, '95 % interval',\n",
        "#         horizontalalignment='center', verticalalignment='center')\n",
        "\n",
        "meanIncome = results.mean()\n",
        "ax.plot([meanIncome, meanIncome], [0, 50], color='black', linestyle='--')\n",
        "# ax.text(meanIncome, 5, f'Mean: {meanIncome:.0f}',\n",
        "#         bbox=dict(facecolor='white', edgecolor='white', alpha=0.5),\n",
        "#         horizontalalignment='center', verticalalignment='center')\n",
        "ax.text(meanIncome, 10, f'Mean: {meanIncome:.0f}',\n",
        "        bbox=dict(facecolor='white', edgecolor='white', alpha=0.5),\n",
        "        horizontalalignment='center', verticalalignment='center')\n",
        "ax.set_ylim(0, 80)\n",
        "ax.set_xlim(37000, 102000)\n",
        "ax.set_xticks([40000, 50000, 60000, 70000, 80000])\n",
        "ax.set_ylabel('Counts')\n",
        "\n",
        "plt.tight_layout()\n",
        "plt.show()"
      ],
      "execution_count": 22,
      "outputs": [
        {
          "output_type": "display_data",
          "data": {
            "image/png": "[encoded data removed]",
            "text/plain": [
              "<Figure size 288x216 with 1 Axes>"
            ]
          },
          "metadata": {
            "needs_background": "light"
          }
        }
      ]
    },
    {
      "cell_type": "markdown",
      "metadata": {
        "id": "__i5sWadGNGc"
      },
      "source": [
        "## **2.6 Normal Distribution**\n",
        "### **2.6.1 Standard Normal and QQ-Plots**"
      ]
    },
    {
      "cell_type": "markdown",
      "metadata": {
        "id": "6cOjUvueIA5n"
      },
      "source": [
        "The package *scipy* has the function (scipy.stats.probplot) to create QQ-plots. The argument dist specifies the distribution, which is set by default to the normal distribution."
      ]
    },
    {
      "cell_type": "code",
      "metadata": {
        "colab": {
          "base_uri": "https://localhost:8080/",
          "height": 297
        },
        "id": "_bFlwSYRGdXt",
        "outputId": "9b7f9e92-ae47-4616-e545-8572e22b80f5"
      },
      "source": [
        "fig, ax = plt.subplots(figsize=(4, 4))\n",
        "\n",
        "norm_sample = stats.norm.rvs(size=100)\n",
        "stats.probplot(norm_sample, plot=ax)\n",
        "\n",
        "plt.tight_layout()\n",
        "plt.show()"
      ],
      "execution_count": 23,
      "outputs": [
        {
          "output_type": "display_data",
          "data": {
            "image/png": "[encoded data removed]",
            "text/plain": [
              "<Figure size 288x288 with 1 Axes>"
            ]
          },
          "metadata": {
            "needs_background": "light"
          }
        }
      ]
    },
    {
      "cell_type": "markdown",
      "metadata": {
        "id": "aEMqRKq0Gguk"
      },
      "source": [
        "## **2.7 Long-Tailed Distributions**"
      ]
    },
    {
      "cell_type": "code",
      "metadata": {
        "colab": {
          "base_uri": "https://localhost:8080/"
        },
        "id": "GjpsjwylTtcB",
        "outputId": "5bd05d67-da48-4db9-812e-5b901b062e6f"
      },
      "source": [
        "sp500_px = pd.read_csv(SP500_DATA_CSV)\n",
        "sp500_px.shape"
      ],
      "execution_count": 24,
      "outputs": [
        {
          "output_type": "execute_result",
          "data": {
            "text/plain": [
              "(5647, 518)"
            ]
          },
          "metadata": {},
          "execution_count": 24
        }
      ]
    },
    {
      "cell_type": "code",
      "metadata": {
        "colab": {
          "base_uri": "https://localhost:8080/",
          "height": 355
        },
        "id": "q5A6WnkvUR1Y",
        "outputId": "f1ad09a6-b377-40f8-a209-4cf21925ee6a"
      },
      "source": [
        "sp500_px.head(5)"
      ],
      "execution_count": 25,
      "outputs": [
        {
          "output_type": "execute_result",
          "data": {
            "text/html": [
              "<div>\n",
              "<style scoped>\n",
              "    .dataframe tbody tr th:only-of-type {\n",
              "        vertical-align: middle;\n",
              "    }\n",
              "\n",
              "    .dataframe tbody tr th {\n",
              "        vertical-align: top;\n",
              "    }\n",
              "\n",
              "    .dataframe thead th {\n",
              "        text-align: right;\n",
              "    }\n",
              "</style>\n",
              "<table border=\"1\" class=\"dataframe\">\n",
              "  <thead>\n",
              "    <tr style=\"text-align: right;\">\n",
              "      <th></th>\n",
              "      <th>Unnamed: 0</th>\n",
              "      <th>ADS</th>\n",
              "      <th>CA</th>\n",
              "      <th>MSFT</th>\n",
              "      <th>RHT</th>\n",
              "      <th>CTSH</th>\n",
              "      <th>CSC</th>\n",
              "      <th>EMC</th>\n",
              "      <th>IBM</th>\n",
              "      <th>XRX</th>\n",
              "      <th>ALTR</th>\n",
              "      <th>ADI</th>\n",
              "      <th>AVGO</th>\n",
              "      <th>BRCM</th>\n",
              "      <th>FSLR</th>\n",
              "      <th>INTC</th>\n",
              "      <th>LLTC</th>\n",
              "      <th>MCHP</th>\n",
              "      <th>MU</th>\n",
              "      <th>NVDA</th>\n",
              "      <th>QRVO</th>\n",
              "      <th>QCOM</th>\n",
              "      <th>SWKS</th>\n",
              "      <th>TXN</th>\n",
              "      <th>XLNX</th>\n",
              "      <th>AAPL</th>\n",
              "      <th>HPQ</th>\n",
              "      <th>EA</th>\n",
              "      <th>SNDK</th>\n",
              "      <th>STX</th>\n",
              "      <th>WDC</th>\n",
              "      <th>TEL</th>\n",
              "      <th>HRS</th>\n",
              "      <th>MSI</th>\n",
              "      <th>ACN</th>\n",
              "      <th>AMAT</th>\n",
              "      <th>KLAC</th>\n",
              "      <th>LRCX</th>\n",
              "      <th>ADBE</th>\n",
              "      <th>ADSK</th>\n",
              "      <th>...</th>\n",
              "      <th>ENDP</th>\n",
              "      <th>LLY</th>\n",
              "      <th>MNK</th>\n",
              "      <th>MRK</th>\n",
              "      <th>MYL</th>\n",
              "      <th>PRGO</th>\n",
              "      <th>PFE</th>\n",
              "      <th>ZTS</th>\n",
              "      <th>ABT</th>\n",
              "      <th>A</th>\n",
              "      <th>BCR</th>\n",
              "      <th>BAX</th>\n",
              "      <th>BDX</th>\n",
              "      <th>BSX</th>\n",
              "      <th>EW</th>\n",
              "      <th>HSP</th>\n",
              "      <th>ISRG</th>\n",
              "      <th>JNJ</th>\n",
              "      <th>MDT</th>\n",
              "      <th>PKI</th>\n",
              "      <th>STJ</th>\n",
              "      <th>SYK</th>\n",
              "      <th>TMO</th>\n",
              "      <th>VAR</th>\n",
              "      <th>ZBH</th>\n",
              "      <th>BMY</th>\n",
              "      <th>CAH</th>\n",
              "      <th>CERN</th>\n",
              "      <th>ESRX</th>\n",
              "      <th>MCK</th>\n",
              "      <th>WAT</th>\n",
              "      <th>ALXN</th>\n",
              "      <th>AMGN</th>\n",
              "      <th>BXLT</th>\n",
              "      <th>BIIB</th>\n",
              "      <th>CELG</th>\n",
              "      <th>GILD</th>\n",
              "      <th>REGN</th>\n",
              "      <th>VRTX</th>\n",
              "      <th>HSIC</th>\n",
              "    </tr>\n",
              "  </thead>\n",
              "  <tbody>\n",
              "    <tr>\n",
              "      <th>0</th>\n",
              "      <td>1993-01-29</td>\n",
              "      <td>0.0</td>\n",
              "      <td>0.060124</td>\n",
              "      <td>-0.022100</td>\n",
              "      <td>0.0</td>\n",
              "      <td>0.0</td>\n",
              "      <td>0.018897</td>\n",
              "      <td>0.007368</td>\n",
              "      <td>0.092165</td>\n",
              "      <td>0.259140</td>\n",
              "      <td>-0.007105</td>\n",
              "      <td>-0.015785</td>\n",
              "      <td>0.0</td>\n",
              "      <td>0.0</td>\n",
              "      <td>0.0</td>\n",
              "      <td>-0.050488</td>\n",
              "      <td>-0.089870</td>\n",
              "      <td>0.0</td>\n",
              "      <td>0.037021</td>\n",
              "      <td>0.0</td>\n",
              "      <td>0.0</td>\n",
              "      <td>-0.044718</td>\n",
              "      <td>-0.041262</td>\n",
              "      <td>0.060179</td>\n",
              "      <td>0.033152</td>\n",
              "      <td>-0.024235</td>\n",
              "      <td>0.045586</td>\n",
              "      <td>0.12500</td>\n",
              "      <td>0.0</td>\n",
              "      <td>0.0</td>\n",
              "      <td>0.118103</td>\n",
              "      <td>0.0</td>\n",
              "      <td>0.016412</td>\n",
              "      <td>-1.842719</td>\n",
              "      <td>0.0</td>\n",
              "      <td>-0.012867</td>\n",
              "      <td>0.079940</td>\n",
              "      <td>0.246706</td>\n",
              "      <td>-0.044884</td>\n",
              "      <td>0.057267</td>\n",
              "      <td>...</td>\n",
              "      <td>0.0</td>\n",
              "      <td>-0.077535</td>\n",
              "      <td>0.0</td>\n",
              "      <td>-0.028797</td>\n",
              "      <td>0.166355</td>\n",
              "      <td>-0.577943</td>\n",
              "      <td>0.066591</td>\n",
              "      <td>0.0</td>\n",
              "      <td>0.045961</td>\n",
              "      <td>0.0</td>\n",
              "      <td>-0.326659</td>\n",
              "      <td>0.000000</td>\n",
              "      <td>-0.033363</td>\n",
              "      <td>0.06250</td>\n",
              "      <td>0.0</td>\n",
              "      <td>0.0</td>\n",
              "      <td>0.0</td>\n",
              "      <td>0.018827</td>\n",
              "      <td>0.006047</td>\n",
              "      <td>0.000000</td>\n",
              "      <td>0.187132</td>\n",
              "      <td>0.276317</td>\n",
              "      <td>-0.124187</td>\n",
              "      <td>0.037430</td>\n",
              "      <td>0.0</td>\n",
              "      <td>0.038546</td>\n",
              "      <td>0.060142</td>\n",
              "      <td>0.03126</td>\n",
              "      <td>0.00195</td>\n",
              "      <td>0.0</td>\n",
              "      <td>0.0</td>\n",
              "      <td>0.0</td>\n",
              "      <td>0.34716</td>\n",
              "      <td>0.0</td>\n",
              "      <td>0.04167</td>\n",
              "      <td>0.00000</td>\n",
              "      <td>0.015564</td>\n",
              "      <td>1.75</td>\n",
              "      <td>0.1250</td>\n",
              "      <td>0.0</td>\n",
              "    </tr>\n",
              "    <tr>\n",
              "      <th>1</th>\n",
              "      <td>1993-02-01</td>\n",
              "      <td>0.0</td>\n",
              "      <td>-0.180389</td>\n",
              "      <td>0.027621</td>\n",
              "      <td>0.0</td>\n",
              "      <td>0.0</td>\n",
              "      <td>0.018889</td>\n",
              "      <td>0.018425</td>\n",
              "      <td>0.115207</td>\n",
              "      <td>-0.100775</td>\n",
              "      <td>0.063893</td>\n",
              "      <td>-0.015793</td>\n",
              "      <td>0.0</td>\n",
              "      <td>0.0</td>\n",
              "      <td>0.0</td>\n",
              "      <td>0.095367</td>\n",
              "      <td>0.044935</td>\n",
              "      <td>0.0</td>\n",
              "      <td>0.037020</td>\n",
              "      <td>0.0</td>\n",
              "      <td>0.0</td>\n",
              "      <td>0.006387</td>\n",
              "      <td>-0.041252</td>\n",
              "      <td>0.102317</td>\n",
              "      <td>0.099446</td>\n",
              "      <td>0.064618</td>\n",
              "      <td>0.072942</td>\n",
              "      <td>0.09375</td>\n",
              "      <td>0.0</td>\n",
              "      <td>0.0</td>\n",
              "      <td>0.000000</td>\n",
              "      <td>0.0</td>\n",
              "      <td>-0.032829</td>\n",
              "      <td>0.594428</td>\n",
              "      <td>0.0</td>\n",
              "      <td>0.016077</td>\n",
              "      <td>0.019985</td>\n",
              "      <td>0.411170</td>\n",
              "      <td>0.134672</td>\n",
              "      <td>0.057267</td>\n",
              "      <td>...</td>\n",
              "      <td>0.0</td>\n",
              "      <td>-0.031014</td>\n",
              "      <td>0.0</td>\n",
              "      <td>-0.172781</td>\n",
              "      <td>-0.066536</td>\n",
              "      <td>0.346766</td>\n",
              "      <td>-0.027745</td>\n",
              "      <td>0.0</td>\n",
              "      <td>-0.045960</td>\n",
              "      <td>0.0</td>\n",
              "      <td>-0.093331</td>\n",
              "      <td>0.018157</td>\n",
              "      <td>0.100076</td>\n",
              "      <td>0.03125</td>\n",
              "      <td>0.0</td>\n",
              "      <td>0.0</td>\n",
              "      <td>0.0</td>\n",
              "      <td>-0.056481</td>\n",
              "      <td>-0.048392</td>\n",
              "      <td>0.041782</td>\n",
              "      <td>-0.074851</td>\n",
              "      <td>-0.027632</td>\n",
              "      <td>0.000000</td>\n",
              "      <td>-0.074859</td>\n",
              "      <td>0.0</td>\n",
              "      <td>-0.038546</td>\n",
              "      <td>0.060142</td>\n",
              "      <td>0.10156</td>\n",
              "      <td>0.01953</td>\n",
              "      <td>0.0</td>\n",
              "      <td>0.0</td>\n",
              "      <td>0.0</td>\n",
              "      <td>-0.23144</td>\n",
              "      <td>0.0</td>\n",
              "      <td>0.00000</td>\n",
              "      <td>-0.01041</td>\n",
              "      <td>0.007782</td>\n",
              "      <td>1.25</td>\n",
              "      <td>0.1250</td>\n",
              "      <td>0.0</td>\n",
              "    </tr>\n",
              "    <tr>\n",
              "      <th>2</th>\n",
              "      <td>1993-02-02</td>\n",
              "      <td>0.0</td>\n",
              "      <td>-0.120257</td>\n",
              "      <td>0.035900</td>\n",
              "      <td>0.0</td>\n",
              "      <td>0.0</td>\n",
              "      <td>-0.075573</td>\n",
              "      <td>0.029482</td>\n",
              "      <td>-0.023041</td>\n",
              "      <td>0.028796</td>\n",
              "      <td>-0.014192</td>\n",
              "      <td>0.047363</td>\n",
              "      <td>0.0</td>\n",
              "      <td>0.0</td>\n",
              "      <td>0.0</td>\n",
              "      <td>0.000000</td>\n",
              "      <td>0.067402</td>\n",
              "      <td>0.0</td>\n",
              "      <td>0.123402</td>\n",
              "      <td>0.0</td>\n",
              "      <td>0.0</td>\n",
              "      <td>0.035141</td>\n",
              "      <td>0.041252</td>\n",
              "      <td>-0.024066</td>\n",
              "      <td>0.016572</td>\n",
              "      <td>-0.016148</td>\n",
              "      <td>-0.045586</td>\n",
              "      <td>-0.06250</td>\n",
              "      <td>0.0</td>\n",
              "      <td>0.0</td>\n",
              "      <td>0.118103</td>\n",
              "      <td>0.0</td>\n",
              "      <td>-0.032829</td>\n",
              "      <td>0.237767</td>\n",
              "      <td>0.0</td>\n",
              "      <td>0.051450</td>\n",
              "      <td>0.000000</td>\n",
              "      <td>0.054828</td>\n",
              "      <td>0.082299</td>\n",
              "      <td>-0.042955</td>\n",
              "      <td>...</td>\n",
              "      <td>0.0</td>\n",
              "      <td>-0.062028</td>\n",
              "      <td>0.0</td>\n",
              "      <td>-0.143984</td>\n",
              "      <td>-0.066536</td>\n",
              "      <td>0.693532</td>\n",
              "      <td>-0.133183</td>\n",
              "      <td>0.0</td>\n",
              "      <td>-0.153198</td>\n",
              "      <td>0.0</td>\n",
              "      <td>-0.093331</td>\n",
              "      <td>-0.072626</td>\n",
              "      <td>0.000000</td>\n",
              "      <td>0.03125</td>\n",
              "      <td>0.0</td>\n",
              "      <td>0.0</td>\n",
              "      <td>0.0</td>\n",
              "      <td>-0.018827</td>\n",
              "      <td>0.000000</td>\n",
              "      <td>0.208912</td>\n",
              "      <td>0.018711</td>\n",
              "      <td>-0.027632</td>\n",
              "      <td>0.000000</td>\n",
              "      <td>0.044923</td>\n",
              "      <td>0.0</td>\n",
              "      <td>-0.115639</td>\n",
              "      <td>-0.030071</td>\n",
              "      <td>-0.01562</td>\n",
              "      <td>0.00000</td>\n",
              "      <td>0.0</td>\n",
              "      <td>0.0</td>\n",
              "      <td>0.0</td>\n",
              "      <td>-0.11572</td>\n",
              "      <td>0.0</td>\n",
              "      <td>0.00000</td>\n",
              "      <td>0.00000</td>\n",
              "      <td>-0.007792</td>\n",
              "      <td>-0.25</td>\n",
              "      <td>0.0000</td>\n",
              "      <td>0.0</td>\n",
              "    </tr>\n",
              "    <tr>\n",
              "      <th>3</th>\n",
              "      <td>1993-02-03</td>\n",
              "      <td>0.0</td>\n",
              "      <td>0.060124</td>\n",
              "      <td>-0.024857</td>\n",
              "      <td>0.0</td>\n",
              "      <td>0.0</td>\n",
              "      <td>-0.151128</td>\n",
              "      <td>0.003689</td>\n",
              "      <td>-0.253454</td>\n",
              "      <td>-0.043190</td>\n",
              "      <td>-0.007105</td>\n",
              "      <td>0.205236</td>\n",
              "      <td>0.0</td>\n",
              "      <td>0.0</td>\n",
              "      <td>0.0</td>\n",
              "      <td>-0.050495</td>\n",
              "      <td>0.022467</td>\n",
              "      <td>0.0</td>\n",
              "      <td>-0.012340</td>\n",
              "      <td>0.0</td>\n",
              "      <td>0.0</td>\n",
              "      <td>0.006387</td>\n",
              "      <td>0.041252</td>\n",
              "      <td>-0.024073</td>\n",
              "      <td>0.049723</td>\n",
              "      <td>-0.032305</td>\n",
              "      <td>-0.091184</td>\n",
              "      <td>0.21875</td>\n",
              "      <td>0.0</td>\n",
              "      <td>0.0</td>\n",
              "      <td>0.059052</td>\n",
              "      <td>0.0</td>\n",
              "      <td>0.049247</td>\n",
              "      <td>-0.118893</td>\n",
              "      <td>0.0</td>\n",
              "      <td>0.000000</td>\n",
              "      <td>0.039970</td>\n",
              "      <td>-0.054828</td>\n",
              "      <td>-0.149639</td>\n",
              "      <td>0.057267</td>\n",
              "      <td>...</td>\n",
              "      <td>0.0</td>\n",
              "      <td>0.139564</td>\n",
              "      <td>0.0</td>\n",
              "      <td>0.345561</td>\n",
              "      <td>0.133081</td>\n",
              "      <td>0.693532</td>\n",
              "      <td>0.022199</td>\n",
              "      <td>0.0</td>\n",
              "      <td>0.168520</td>\n",
              "      <td>0.0</td>\n",
              "      <td>0.093331</td>\n",
              "      <td>0.090783</td>\n",
              "      <td>0.044480</td>\n",
              "      <td>0.03125</td>\n",
              "      <td>0.0</td>\n",
              "      <td>0.0</td>\n",
              "      <td>0.0</td>\n",
              "      <td>0.263578</td>\n",
              "      <td>0.030243</td>\n",
              "      <td>0.125347</td>\n",
              "      <td>0.187140</td>\n",
              "      <td>0.000000</td>\n",
              "      <td>0.124187</td>\n",
              "      <td>0.104805</td>\n",
              "      <td>0.0</td>\n",
              "      <td>0.141333</td>\n",
              "      <td>0.000000</td>\n",
              "      <td>-0.01172</td>\n",
              "      <td>0.02344</td>\n",
              "      <td>0.0</td>\n",
              "      <td>0.0</td>\n",
              "      <td>0.0</td>\n",
              "      <td>-0.08679</td>\n",
              "      <td>0.0</td>\n",
              "      <td>0.04167</td>\n",
              "      <td>-0.04167</td>\n",
              "      <td>-0.038919</td>\n",
              "      <td>-0.50</td>\n",
              "      <td>0.0625</td>\n",
              "      <td>0.0</td>\n",
              "    </tr>\n",
              "    <tr>\n",
              "      <th>4</th>\n",
              "      <td>1993-02-04</td>\n",
              "      <td>0.0</td>\n",
              "      <td>-0.360770</td>\n",
              "      <td>-0.060757</td>\n",
              "      <td>0.0</td>\n",
              "      <td>0.0</td>\n",
              "      <td>0.113350</td>\n",
              "      <td>-0.022114</td>\n",
              "      <td>0.069862</td>\n",
              "      <td>0.000000</td>\n",
              "      <td>-0.007096</td>\n",
              "      <td>-0.031570</td>\n",
              "      <td>0.0</td>\n",
              "      <td>0.0</td>\n",
              "      <td>0.0</td>\n",
              "      <td>0.000000</td>\n",
              "      <td>0.022467</td>\n",
              "      <td>0.0</td>\n",
              "      <td>-0.074041</td>\n",
              "      <td>0.0</td>\n",
              "      <td>0.0</td>\n",
              "      <td>0.051113</td>\n",
              "      <td>0.041252</td>\n",
              "      <td>-0.024073</td>\n",
              "      <td>-0.008290</td>\n",
              "      <td>-0.016157</td>\n",
              "      <td>-0.109414</td>\n",
              "      <td>0.09375</td>\n",
              "      <td>0.0</td>\n",
              "      <td>0.0</td>\n",
              "      <td>-0.118103</td>\n",
              "      <td>0.0</td>\n",
              "      <td>0.000000</td>\n",
              "      <td>-0.237776</td>\n",
              "      <td>0.0</td>\n",
              "      <td>-0.003219</td>\n",
              "      <td>-0.099925</td>\n",
              "      <td>-0.246706</td>\n",
              "      <td>0.000000</td>\n",
              "      <td>-0.157480</td>\n",
              "      <td>...</td>\n",
              "      <td>0.0</td>\n",
              "      <td>0.000000</td>\n",
              "      <td>0.0</td>\n",
              "      <td>-0.345561</td>\n",
              "      <td>-0.133073</td>\n",
              "      <td>-0.924709</td>\n",
              "      <td>-0.016648</td>\n",
              "      <td>0.0</td>\n",
              "      <td>-0.061282</td>\n",
              "      <td>0.0</td>\n",
              "      <td>0.186662</td>\n",
              "      <td>0.000000</td>\n",
              "      <td>-0.011123</td>\n",
              "      <td>-0.15625</td>\n",
              "      <td>0.0</td>\n",
              "      <td>0.0</td>\n",
              "      <td>0.0</td>\n",
              "      <td>0.018827</td>\n",
              "      <td>-0.024196</td>\n",
              "      <td>0.167129</td>\n",
              "      <td>-0.187629</td>\n",
              "      <td>-0.082895</td>\n",
              "      <td>0.341510</td>\n",
              "      <td>-0.029946</td>\n",
              "      <td>0.0</td>\n",
              "      <td>-0.115635</td>\n",
              "      <td>0.060142</td>\n",
              "      <td>-0.00782</td>\n",
              "      <td>-0.01562</td>\n",
              "      <td>0.0</td>\n",
              "      <td>0.0</td>\n",
              "      <td>0.0</td>\n",
              "      <td>0.14465</td>\n",
              "      <td>0.0</td>\n",
              "      <td>-0.04166</td>\n",
              "      <td>-0.03126</td>\n",
              "      <td>-0.046711</td>\n",
              "      <td>0.00</td>\n",
              "      <td>0.0625</td>\n",
              "      <td>0.0</td>\n",
              "    </tr>\n",
              "  </tbody>\n",
              "</table>\n",
              "<p>5 rows × 518 columns</p>\n",
              "</div>"
            ],
            "text/plain": [
              "   Unnamed: 0  ADS        CA      MSFT  ...      GILD  REGN    VRTX  HSIC\n",
              "0  1993-01-29  0.0  0.060124 -0.022100  ...  0.015564  1.75  0.1250   0.0\n",
              "1  1993-02-01  0.0 -0.180389  0.027621  ...  0.007782  1.25  0.1250   0.0\n",
              "2  1993-02-02  0.0 -0.120257  0.035900  ... -0.007792 -0.25  0.0000   0.0\n",
              "3  1993-02-03  0.0  0.060124 -0.024857  ... -0.038919 -0.50  0.0625   0.0\n",
              "4  1993-02-04  0.0 -0.360770 -0.060757  ... -0.046711  0.00  0.0625   0.0\n",
              "\n",
              "[5 rows x 518 columns]"
            ]
          },
          "metadata": {},
          "execution_count": 25
        }
      ]
    },
    {
      "cell_type": "code",
      "metadata": {
        "colab": {
          "base_uri": "https://localhost:8080/",
          "height": 297
        },
        "id": "Z9_GcqtqGlgt",
        "outputId": "8f499c7e-870a-4f03-a2bb-fd8589be0bf3"
      },
      "source": [
        "nflx = sp500_px.NFLX\n",
        "nflx = np.diff(np.log(nflx[nflx > 0]))\n",
        "\n",
        "fig, ax = plt.subplots(figsize=(4, 4))\n",
        "stats.probplot(nflx, plot=ax)\n",
        "\n",
        "plt.tight_layout()\n",
        "plt.show()"
      ],
      "execution_count": 26,
      "outputs": [
        {
          "output_type": "display_data",
          "data": {
            "image/png": "[encoded data removed]",
            "text/plain": [
              "<Figure size 288x288 with 1 Axes>"
            ]
          },
          "metadata": {
            "needs_background": "light"
          }
        }
      ]
    },
    {
      "cell_type": "markdown",
      "metadata": {
        "id": "UWq7qFTRcNIQ"
      },
      "source": [
        "## **2.8 Student T Distribution**"
      ]
    },
    {
      "cell_type": "markdown",
      "metadata": {
        "id": "fv6PfDu8ccVr"
      },
      "source": [
        "https://seismo.berkeley.edu/~kirchner/eps_120/Odds_n_ends/Students_original_paper.pdf"
      ]
    },
    {
      "cell_type": "markdown",
      "metadata": {
        "id": "TlijbVz3dbnK"
      },
      "source": [
        "https://onlinestatbook.com/2/estimation/t_distribution.html"
      ]
    },
    {
      "cell_type": "markdown",
      "metadata": {
        "id": "HO9dAEQOGql0"
      },
      "source": [
        "## **2.9 Binomial Distribution**"
      ]
    },
    {
      "cell_type": "code",
      "metadata": {
        "colab": {
          "base_uri": "https://localhost:8080/"
        },
        "id": "-ZMjikjsGuYF",
        "outputId": "dfe01f29-e553-4321-9b12-99f23b3d571b"
      },
      "source": [
        "print(stats.binom.pmf(2, n=5, p=0.1))"
      ],
      "execution_count": 27,
      "outputs": [
        {
          "output_type": "stream",
          "name": "stdout",
          "text": [
            "0.0729\n"
          ]
        }
      ]
    },
    {
      "cell_type": "code",
      "metadata": {
        "colab": {
          "base_uri": "https://localhost:8080/"
        },
        "id": "0DVVi4lLJCEj",
        "outputId": "6b7c8eb1-b533-4488-ceed-f4edac7ad542"
      },
      "source": [
        "print(stats.binom.cdf(2, n=5, p=0.1))"
      ],
      "execution_count": 28,
      "outputs": [
        {
          "output_type": "stream",
          "name": "stdout",
          "text": [
            "0.99144\n"
          ]
        }
      ]
    },
    {
      "cell_type": "markdown",
      "metadata": {
        "id": "Ws7ohf-HitIY"
      },
      "source": [
        "https://www.mathsisfun.com/data/quincunx.html"
      ]
    },
    {
      "cell_type": "markdown",
      "metadata": {
        "id": "zy133pTBG_LR"
      },
      "source": [
        "## **2.12 Poisson and Related Distribution**\n",
        "### **2.12.1 Poisson Distribution**"
      ]
    },
    {
      "cell_type": "code",
      "metadata": {
        "colab": {
          "base_uri": "https://localhost:8080/",
          "height": 265
        },
        "id": "tBtV1rKmHW6I",
        "outputId": "c16421a1-1206-43b7-d5f5-578cde2f6a50"
      },
      "source": [
        "sample = stats.poisson.rvs(2, size=100)\n",
        "\n",
        "pd.Series(sample).plot.hist()\n",
        "plt.show()"
      ],
      "execution_count": 29,
      "outputs": [
        {
          "output_type": "display_data",
          "data": {
            "image/png": "[encoded data removed]",
            "text/plain": [
              "<Figure size 432x288 with 1 Axes>"
            ]
          },
          "metadata": {
            "needs_background": "light"
          }
        }
      ]
    },
    {
      "cell_type": "markdown",
      "metadata": {
        "id": "e16WWnH0HGI9"
      },
      "source": [
        "### **2.12.2 Exponential Distribution**"
      ]
    },
    {
      "cell_type": "code",
      "metadata": {
        "colab": {
          "base_uri": "https://localhost:8080/",
          "height": 265
        },
        "id": "k7QdGIycHgm8",
        "outputId": "f5bd2656-ed56-4fc8-b40a-2abb6da5a04d"
      },
      "source": [
        "sample = stats.expon.rvs(scale=1/0.2, size=100)\n",
        "\n",
        "pd.Series(sample).plot.hist()\n",
        "plt.show()"
      ],
      "execution_count": 30,
      "outputs": [
        {
          "output_type": "display_data",
          "data": {
            "image/png": "[encoded data removed]",
            "text/plain": [
              "<Figure size 432x288 with 1 Axes>"
            ]
          },
          "metadata": {
            "needs_background": "light"
          }
        }
      ]
    },
    {
      "cell_type": "markdown",
      "metadata": {
        "id": "G1vZMVp7HzXv"
      },
      "source": [
        "### **2.12.4 Weibull Distribution**"
      ]
    },
    {
      "cell_type": "code",
      "metadata": {
        "colab": {
          "base_uri": "https://localhost:8080/",
          "height": 265
        },
        "id": "sq4YgD-UH3bj",
        "outputId": "b50d25d9-5f13-4a51-9614-16882a41194d"
      },
      "source": [
        "sample = stats.weibull_min.rvs(1.5, scale=5000, size=100)\n",
        "\n",
        "pd.Series(sample).plot.hist()\n",
        "plt.show()"
      ],
      "execution_count": 31,
      "outputs": [
        {
          "output_type": "display_data",
          "data": {
            "image/png": "[encoded data removed]",
            "text/plain": [
              "<Figure size 432x288 with 1 Axes>"
            ]
          },
          "metadata": {
            "needs_background": "light"
          }
        }
      ]
    },
    {
      "cell_type": "markdown",
      "metadata": {
        "id": "nPKNutdCNK8d"
      },
      "source": [
        "http://www.ipedr.com/vol75/29_ICQM2014-051.pdf"
      ]
    }
  ]
}