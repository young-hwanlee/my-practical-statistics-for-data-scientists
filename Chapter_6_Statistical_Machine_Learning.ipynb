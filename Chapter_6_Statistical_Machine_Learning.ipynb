{
  "nbformat": 4,
  "nbformat_minor": 0,
  "metadata": {
    "colab": {
      "name": "Chapter 6 - Statistical Machine Learning.ipynb",
      "provenance": [],
      "collapsed_sections": [],
      "authorship_tag": "ABX9TyOsahZUzH8OJ/MBsLPi7uuX",
      "include_colab_link": true
    },
    "kernelspec": {
      "name": "python3",
      "display_name": "Python 3"
    },
    "language_info": {
      "name": "python"
    }
  },
  "cells": [
    {
      "cell_type": "markdown",
      "metadata": {
        "id": "view-in-github",
        "colab_type": "text"
      },
      "source": [
        "<a href=\"https://colab.research.google.com/github/young-hwanlee/my-practical-statistics-for-data-scientists/blob/main/Chapter_6_Statistical_Machine_Learning.ipynb\" target=\"_parent\"><img src=\"https://colab.research.google.com/assets/colab-badge.svg\" alt=\"Open In Colab\"/></a>"
      ]
    },
    {
      "cell_type": "code",
      "metadata": {
        "id": "dgU53eBPusDY"
      },
      "source": [
        "# # Clone the repository\n",
        "# !git clone https://github.com/young-hwanlee/practical-statistics-for-data-scientists.git\n",
        "\n",
        "# # Open the file from the list of contents (File)\n",
        "# # Then, copy and paste it"
      ],
      "execution_count": 1,
      "outputs": []
    },
    {
      "cell_type": "markdown",
      "source": [
        "## Practical Statistics for Data Scientists (Python)\n",
        "## Chapter 6. Statistical Machine Learning\n",
        "> (c) 2019 Peter C. Bruce, Andrew Bruce, Peter Gedeck"
      ],
      "metadata": {
        "id": "fBofKgqmSBRr"
      }
    },
    {
      "cell_type": "markdown",
      "source": [
        "Import required Python packages."
      ],
      "metadata": {
        "id": "zoItkqtnTR0U"
      }
    },
    {
      "cell_type": "code",
      "source": [
        "!pip install dmba"
      ],
      "metadata": {
        "colab": {
          "base_uri": "https://localhost:8080/"
        },
        "id": "NaVKAiTdwg3a",
        "outputId": "2a3bc9d1-1cf4-4f03-a268-66995268ff39"
      },
      "execution_count": 2,
      "outputs": [
        {
          "output_type": "stream",
          "name": "stdout",
          "text": [
            "Collecting dmba\n",
            "  Downloading dmba-0.0.19-py3-none-any.whl (11.8 MB)\n",
            "\u001b[K     |████████████████████████████████| 11.8 MB 5.2 MB/s \n",
            "\u001b[?25hInstalling collected packages: dmba\n",
            "Successfully installed dmba-0.0.19\n"
          ]
        }
      ]
    },
    {
      "cell_type": "code",
      "source": [
        "import math\n",
        "import os\n",
        "import random\n",
        "from pathlib import Path\n",
        "from collections import defaultdict\n",
        "from itertools import product\n",
        "\n",
        "import pandas as pd\n",
        "import numpy as np\n",
        "\n",
        "from sklearn import preprocessing\n",
        "from sklearn.neighbors import KNeighborsClassifier\n",
        "from sklearn import metrics\n",
        "from sklearn.model_selection import train_test_split\n",
        "from sklearn.tree import DecisionTreeClassifier\n",
        "from sklearn.ensemble import RandomForestClassifier\n",
        "\n",
        "from xgboost import XGBClassifier\n",
        "\n",
        "from dmba import plotDecisionTree, textDecisionTree\n",
        "\n",
        "import seaborn as sns\n",
        "import matplotlib.pyplot as plt\n",
        "from matplotlib.patches import Ellipse\n",
        "print()"
      ],
      "metadata": {
        "colab": {
          "base_uri": "https://localhost:8080/"
        },
        "id": "n6v4fQWiTdqQ",
        "outputId": "b286f9aa-9446-4754-8495-184f0ad5f7a2"
      },
      "execution_count": 3,
      "outputs": [
        {
          "output_type": "stream",
          "name": "stdout",
          "text": [
            "no display found. Using non-interactive Agg backend\n",
            "\n"
          ]
        }
      ]
    },
    {
      "cell_type": "code",
      "source": [
        "# try:\n",
        "#     import common\n",
        "#     DATA = common.dataDirectory()\n",
        "# except ImportError:\n",
        "#     DATA = Path().resolve() / 'data'"
      ],
      "metadata": {
        "id": "_bhw1tMYTe53"
      },
      "execution_count": 4,
      "outputs": []
    },
    {
      "cell_type": "markdown",
      "source": [
        "Define paths to data sets. If you don't keep your data in the same directory as the code, adapt the path names."
      ],
      "metadata": {
        "id": "oAOeTssxThpr"
      }
    },
    {
      "cell_type": "code",
      "source": [
        "# LOAN200_CSV = DATA / 'loan200.csv'\n",
        "# LOAN3000_CSV = DATA / 'loan3000.csv'\n",
        "# LOAN_DATA_CSV = DATA / 'loan_data.csv.gz'\n",
        "\n",
        "DATA = 'https://raw.githubusercontent.com/young-hwanlee/practical-statistics-for-data-scientists/master/data/'\n",
        "\n",
        "LOAN200_CSV = DATA + 'loan200.csv'\n",
        "LOAN3000_CSV = DATA + 'loan3000.csv'\n",
        "LOAN_DATA_CSV = DATA + 'loan_data.csv.gz'"
      ],
      "metadata": {
        "id": "BT6GbQCQTmCX"
      },
      "execution_count": 5,
      "outputs": []
    },
    {
      "cell_type": "markdown",
      "source": [
        "Set this if the notebook crashes in the XGBoost part.\n"
      ],
      "metadata": {
        "id": "fZO0BbtIToY4"
      }
    },
    {
      "cell_type": "code",
      "source": [
        "os.environ['KMP_DUPLICATE_LIB_OK'] = 'TRUE'"
      ],
      "metadata": {
        "id": "RvviHf_IUD5J"
      },
      "execution_count": 6,
      "outputs": []
    },
    {
      "cell_type": "markdown",
      "source": [
        "## **6.1 K-Nearest Neighbors**\n",
        "### **6.1.1 A Small Example: Predicting Loan Default**"
      ],
      "metadata": {
        "id": "JDWizFw8UE4H"
      }
    },
    {
      "cell_type": "code",
      "source": [
        "loan200 = pd.read_csv(LOAN200_CSV)\n",
        " \n",
        "predictors = ['payment_inc_ratio', 'dti']\n",
        "outcome = 'outcome'\n",
        "\n",
        "newloan = loan200.loc[0:0, predictors]\n",
        "X = loan200.loc[1:, predictors]\n",
        "y = loan200.loc[1:, outcome]\n",
        "\n",
        "knn = KNeighborsClassifier(n_neighbors=20)\n",
        "knn.fit(X, y)\n",
        "knn.predict(newloan)\n",
        "print(knn.predict_proba(newloan))"
      ],
      "metadata": {
        "colab": {
          "base_uri": "https://localhost:8080/"
        },
        "id": "tqETVpvvUQky",
        "outputId": "d501042b-9528-4967-d4fa-9063dddaa4fa"
      },
      "execution_count": 7,
      "outputs": [
        {
          "output_type": "stream",
          "name": "stdout",
          "text": [
            "[[0.45 0.55]]\n"
          ]
        }
      ]
    },
    {
      "cell_type": "code",
      "source": [
        "X.head()"
      ],
      "metadata": {
        "colab": {
          "base_uri": "https://localhost:8080/",
          "height": 206
        },
        "id": "QIQLvykdxDV_",
        "outputId": "1066cad4-4669-44e8-c29d-558937fdcd86"
      },
      "execution_count": 8,
      "outputs": [
        {
          "output_type": "execute_result",
          "data": {
            "text/html": [
              "\n",
              "  <div id=\"df-1b58b57a-035b-4bb1-b025-7f4d4d19d31e\">\n",
              "    <div class=\"colab-df-container\">\n",
              "      <div>\n",
              "<style scoped>\n",
              "    .dataframe tbody tr th:only-of-type {\n",
              "        vertical-align: middle;\n",
              "    }\n",
              "\n",
              "    .dataframe tbody tr th {\n",
              "        vertical-align: top;\n",
              "    }\n",
              "\n",
              "    .dataframe thead th {\n",
              "        text-align: right;\n",
              "    }\n",
              "</style>\n",
              "<table border=\"1\" class=\"dataframe\">\n",
              "  <thead>\n",
              "    <tr style=\"text-align: right;\">\n",
              "      <th></th>\n",
              "      <th>payment_inc_ratio</th>\n",
              "      <th>dti</th>\n",
              "    </tr>\n",
              "  </thead>\n",
              "  <tbody>\n",
              "    <tr>\n",
              "      <th>1</th>\n",
              "      <td>5.46933</td>\n",
              "      <td>21.33</td>\n",
              "    </tr>\n",
              "    <tr>\n",
              "      <th>2</th>\n",
              "      <td>6.90294</td>\n",
              "      <td>8.97</td>\n",
              "    </tr>\n",
              "    <tr>\n",
              "      <th>3</th>\n",
              "      <td>11.14800</td>\n",
              "      <td>1.83</td>\n",
              "    </tr>\n",
              "    <tr>\n",
              "      <th>4</th>\n",
              "      <td>3.72120</td>\n",
              "      <td>10.81</td>\n",
              "    </tr>\n",
              "    <tr>\n",
              "      <th>5</th>\n",
              "      <td>1.89923</td>\n",
              "      <td>11.34</td>\n",
              "    </tr>\n",
              "  </tbody>\n",
              "</table>\n",
              "</div>\n",
              "      <button class=\"colab-df-convert\" onclick=\"convertToInteractive('df-1b58b57a-035b-4bb1-b025-7f4d4d19d31e')\"\n",
              "              title=\"Convert this dataframe to an interactive table.\"\n",
              "              style=\"display:none;\">\n",
              "        \n",
              "  <svg xmlns=\"http://www.w3.org/2000/svg\" height=\"24px\"viewBox=\"0 0 24 24\"\n",
              "       width=\"24px\">\n",
              "    <path d=\"M0 0h24v24H0V0z\" fill=\"none\"/>\n",
              "    <path d=\"M18.56 5.44l.94 2.06.94-2.06 2.06-.94-2.06-.94-.94-2.06-.94 2.06-2.06.94zm-11 1L8.5 8.5l.94-2.06 2.06-.94-2.06-.94L8.5 2.5l-.94 2.06-2.06.94zm10 10l.94 2.06.94-2.06 2.06-.94-2.06-.94-.94-2.06-.94 2.06-2.06.94z\"/><path d=\"M17.41 7.96l-1.37-1.37c-.4-.4-.92-.59-1.43-.59-.52 0-1.04.2-1.43.59L10.3 9.45l-7.72 7.72c-.78.78-.78 2.05 0 2.83L4 21.41c.39.39.9.59 1.41.59.51 0 1.02-.2 1.41-.59l7.78-7.78 2.81-2.81c.8-.78.8-2.07 0-2.86zM5.41 20L4 18.59l7.72-7.72 1.47 1.35L5.41 20z\"/>\n",
              "  </svg>\n",
              "      </button>\n",
              "      \n",
              "  <style>\n",
              "    .colab-df-container {\n",
              "      display:flex;\n",
              "      flex-wrap:wrap;\n",
              "      gap: 12px;\n",
              "    }\n",
              "\n",
              "    .colab-df-convert {\n",
              "      background-color: #E8F0FE;\n",
              "      border: none;\n",
              "      border-radius: 50%;\n",
              "      cursor: pointer;\n",
              "      display: none;\n",
              "      fill: #1967D2;\n",
              "      height: 32px;\n",
              "      padding: 0 0 0 0;\n",
              "      width: 32px;\n",
              "    }\n",
              "\n",
              "    .colab-df-convert:hover {\n",
              "      background-color: #E2EBFA;\n",
              "      box-shadow: 0px 1px 2px rgba(60, 64, 67, 0.3), 0px 1px 3px 1px rgba(60, 64, 67, 0.15);\n",
              "      fill: #174EA6;\n",
              "    }\n",
              "\n",
              "    [theme=dark] .colab-df-convert {\n",
              "      background-color: #3B4455;\n",
              "      fill: #D2E3FC;\n",
              "    }\n",
              "\n",
              "    [theme=dark] .colab-df-convert:hover {\n",
              "      background-color: #434B5C;\n",
              "      box-shadow: 0px 1px 3px 1px rgba(0, 0, 0, 0.15);\n",
              "      filter: drop-shadow(0px 1px 2px rgba(0, 0, 0, 0.3));\n",
              "      fill: #FFFFFF;\n",
              "    }\n",
              "  </style>\n",
              "\n",
              "      <script>\n",
              "        const buttonEl =\n",
              "          document.querySelector('#df-1b58b57a-035b-4bb1-b025-7f4d4d19d31e button.colab-df-convert');\n",
              "        buttonEl.style.display =\n",
              "          google.colab.kernel.accessAllowed ? 'block' : 'none';\n",
              "\n",
              "        async function convertToInteractive(key) {\n",
              "          const element = document.querySelector('#df-1b58b57a-035b-4bb1-b025-7f4d4d19d31e');\n",
              "          const dataTable =\n",
              "            await google.colab.kernel.invokeFunction('convertToInteractive',\n",
              "                                                     [key], {});\n",
              "          if (!dataTable) return;\n",
              "\n",
              "          const docLinkHtml = 'Like what you see? Visit the ' +\n",
              "            '<a target=\"_blank\" href=https://colab.research.google.com/notebooks/data_table.ipynb>data table notebook</a>'\n",
              "            + ' to learn more about interactive tables.';\n",
              "          element.innerHTML = '';\n",
              "          dataTable['output_type'] = 'display_data';\n",
              "          await google.colab.output.renderOutput(dataTable, element);\n",
              "          const docLink = document.createElement('div');\n",
              "          docLink.innerHTML = docLinkHtml;\n",
              "          element.appendChild(docLink);\n",
              "        }\n",
              "      </script>\n",
              "    </div>\n",
              "  </div>\n",
              "  "
            ],
            "text/plain": [
              "   payment_inc_ratio    dti\n",
              "1            5.46933  21.33\n",
              "2            6.90294   8.97\n",
              "3           11.14800   1.83\n",
              "4            3.72120  10.81\n",
              "5            1.89923  11.34"
            ]
          },
          "metadata": {},
          "execution_count": 8
        }
      ]
    },
    {
      "cell_type": "code",
      "source": [
        "nbrs = knn.kneighbors(newloan)\n",
        "maxDistance = np.max(nbrs[0][0])\n",
        "\n",
        "nbrs    # return (neigh_dist, neigh_ind)"
      ],
      "metadata": {
        "colab": {
          "base_uri": "https://localhost:8080/"
        },
        "id": "WyE3eCQExOeH",
        "outputId": "d65c2759-8854-4314-d4b1-3a0fef707f5f"
      },
      "execution_count": 9,
      "outputs": [
        {
          "output_type": "execute_result",
          "data": {
            "text/plain": [
              "(array([[0.43787986, 0.88189485, 0.91751052, 1.65569826, 1.70611292,\n",
              "         1.90596261, 2.08135622, 2.41682933, 2.44351029, 2.73230786,\n",
              "         2.74245402, 2.86057968, 2.88767355, 2.99889915, 3.19912226,\n",
              "         3.21420799, 3.36546794, 3.37976028, 3.462634  , 3.5414263 ]]),\n",
              " array([[ 34, 181, 180,  84,   8, 168,  20, 198,  76,  54, 140,  30,  65,\n",
              "         162, 160, 111,  77,  45,  40, 138]]))"
            ]
          },
          "metadata": {},
          "execution_count": 9
        }
      ]
    },
    {
      "cell_type": "code",
      "source": [
        "nbrs[0]"
      ],
      "metadata": {
        "colab": {
          "base_uri": "https://localhost:8080/"
        },
        "id": "jaldfMyBy5u7",
        "outputId": "8cf3e7b2-6985-4512-ff2c-c7bc67371f31"
      },
      "execution_count": 10,
      "outputs": [
        {
          "output_type": "execute_result",
          "data": {
            "text/plain": [
              "array([[0.43787986, 0.88189485, 0.91751052, 1.65569826, 1.70611292,\n",
              "        1.90596261, 2.08135622, 2.41682933, 2.44351029, 2.73230786,\n",
              "        2.74245402, 2.86057968, 2.88767355, 2.99889915, 3.19912226,\n",
              "        3.21420799, 3.36546794, 3.37976028, 3.462634  , 3.5414263 ]])"
            ]
          },
          "metadata": {},
          "execution_count": 10
        }
      ]
    },
    {
      "cell_type": "code",
      "source": [
        "nbrs[0][0]"
      ],
      "metadata": {
        "colab": {
          "base_uri": "https://localhost:8080/"
        },
        "id": "aTbCvc8Uy9Op",
        "outputId": "b6bacd55-a09b-48c7-e258-34b76f9b2d12"
      },
      "execution_count": 11,
      "outputs": [
        {
          "output_type": "execute_result",
          "data": {
            "text/plain": [
              "array([0.43787986, 0.88189485, 0.91751052, 1.65569826, 1.70611292,\n",
              "       1.90596261, 2.08135622, 2.41682933, 2.44351029, 2.73230786,\n",
              "       2.74245402, 2.86057968, 2.88767355, 2.99889915, 3.19912226,\n",
              "       3.21420799, 3.36546794, 3.37976028, 3.462634  , 3.5414263 ])"
            ]
          },
          "metadata": {},
          "execution_count": 11
        }
      ]
    },
    {
      "cell_type": "code",
      "source": [
        "maxDistance"
      ],
      "metadata": {
        "colab": {
          "base_uri": "https://localhost:8080/"
        },
        "id": "j5ajkFXUyzPH",
        "outputId": "aded0177-c536-4669-d71c-1cf1680e317c"
      },
      "execution_count": 12,
      "outputs": [
        {
          "output_type": "execute_result",
          "data": {
            "text/plain": [
              "3.541426301647403"
            ]
          },
          "metadata": {},
          "execution_count": 12
        }
      ]
    },
    {
      "cell_type": "code",
      "source": [
        "loan200"
      ],
      "metadata": {
        "colab": {
          "base_uri": "https://localhost:8080/",
          "height": 424
        },
        "id": "goRyglQsxq9d",
        "outputId": "6446dc23-c1cf-45e9-978f-4990498ba540"
      },
      "execution_count": 13,
      "outputs": [
        {
          "output_type": "execute_result",
          "data": {
            "text/html": [
              "\n",
              "  <div id=\"df-7d45c3f3-644a-4c06-8eb1-d0f05619245b\">\n",
              "    <div class=\"colab-df-container\">\n",
              "      <div>\n",
              "<style scoped>\n",
              "    .dataframe tbody tr th:only-of-type {\n",
              "        vertical-align: middle;\n",
              "    }\n",
              "\n",
              "    .dataframe tbody tr th {\n",
              "        vertical-align: top;\n",
              "    }\n",
              "\n",
              "    .dataframe thead th {\n",
              "        text-align: right;\n",
              "    }\n",
              "</style>\n",
              "<table border=\"1\" class=\"dataframe\">\n",
              "  <thead>\n",
              "    <tr style=\"text-align: right;\">\n",
              "      <th></th>\n",
              "      <th>outcome</th>\n",
              "      <th>payment_inc_ratio</th>\n",
              "      <th>dti</th>\n",
              "    </tr>\n",
              "  </thead>\n",
              "  <tbody>\n",
              "    <tr>\n",
              "      <th>0</th>\n",
              "      <td>target</td>\n",
              "      <td>9.00000</td>\n",
              "      <td>22.50</td>\n",
              "    </tr>\n",
              "    <tr>\n",
              "      <th>1</th>\n",
              "      <td>default</td>\n",
              "      <td>5.46933</td>\n",
              "      <td>21.33</td>\n",
              "    </tr>\n",
              "    <tr>\n",
              "      <th>2</th>\n",
              "      <td>paid off</td>\n",
              "      <td>6.90294</td>\n",
              "      <td>8.97</td>\n",
              "    </tr>\n",
              "    <tr>\n",
              "      <th>3</th>\n",
              "      <td>paid off</td>\n",
              "      <td>11.14800</td>\n",
              "      <td>1.83</td>\n",
              "    </tr>\n",
              "    <tr>\n",
              "      <th>4</th>\n",
              "      <td>default</td>\n",
              "      <td>3.72120</td>\n",
              "      <td>10.81</td>\n",
              "    </tr>\n",
              "    <tr>\n",
              "      <th>...</th>\n",
              "      <td>...</td>\n",
              "      <td>...</td>\n",
              "      <td>...</td>\n",
              "    </tr>\n",
              "    <tr>\n",
              "      <th>196</th>\n",
              "      <td>default</td>\n",
              "      <td>11.66300</td>\n",
              "      <td>26.09</td>\n",
              "    </tr>\n",
              "    <tr>\n",
              "      <th>197</th>\n",
              "      <td>default</td>\n",
              "      <td>2.97641</td>\n",
              "      <td>16.41</td>\n",
              "    </tr>\n",
              "    <tr>\n",
              "      <th>198</th>\n",
              "      <td>default</td>\n",
              "      <td>1.96846</td>\n",
              "      <td>19.98</td>\n",
              "    </tr>\n",
              "    <tr>\n",
              "      <th>199</th>\n",
              "      <td>paid off</td>\n",
              "      <td>9.64200</td>\n",
              "      <td>20.17</td>\n",
              "    </tr>\n",
              "    <tr>\n",
              "      <th>200</th>\n",
              "      <td>paid off</td>\n",
              "      <td>7.03924</td>\n",
              "      <td>13.88</td>\n",
              "    </tr>\n",
              "  </tbody>\n",
              "</table>\n",
              "<p>201 rows × 3 columns</p>\n",
              "</div>\n",
              "      <button class=\"colab-df-convert\" onclick=\"convertToInteractive('df-7d45c3f3-644a-4c06-8eb1-d0f05619245b')\"\n",
              "              title=\"Convert this dataframe to an interactive table.\"\n",
              "              style=\"display:none;\">\n",
              "        \n",
              "  <svg xmlns=\"http://www.w3.org/2000/svg\" height=\"24px\"viewBox=\"0 0 24 24\"\n",
              "       width=\"24px\">\n",
              "    <path d=\"M0 0h24v24H0V0z\" fill=\"none\"/>\n",
              "    <path d=\"M18.56 5.44l.94 2.06.94-2.06 2.06-.94-2.06-.94-.94-2.06-.94 2.06-2.06.94zm-11 1L8.5 8.5l.94-2.06 2.06-.94-2.06-.94L8.5 2.5l-.94 2.06-2.06.94zm10 10l.94 2.06.94-2.06 2.06-.94-2.06-.94-.94-2.06-.94 2.06-2.06.94z\"/><path d=\"M17.41 7.96l-1.37-1.37c-.4-.4-.92-.59-1.43-.59-.52 0-1.04.2-1.43.59L10.3 9.45l-7.72 7.72c-.78.78-.78 2.05 0 2.83L4 21.41c.39.39.9.59 1.41.59.51 0 1.02-.2 1.41-.59l7.78-7.78 2.81-2.81c.8-.78.8-2.07 0-2.86zM5.41 20L4 18.59l7.72-7.72 1.47 1.35L5.41 20z\"/>\n",
              "  </svg>\n",
              "      </button>\n",
              "      \n",
              "  <style>\n",
              "    .colab-df-container {\n",
              "      display:flex;\n",
              "      flex-wrap:wrap;\n",
              "      gap: 12px;\n",
              "    }\n",
              "\n",
              "    .colab-df-convert {\n",
              "      background-color: #E8F0FE;\n",
              "      border: none;\n",
              "      border-radius: 50%;\n",
              "      cursor: pointer;\n",
              "      display: none;\n",
              "      fill: #1967D2;\n",
              "      height: 32px;\n",
              "      padding: 0 0 0 0;\n",
              "      width: 32px;\n",
              "    }\n",
              "\n",
              "    .colab-df-convert:hover {\n",
              "      background-color: #E2EBFA;\n",
              "      box-shadow: 0px 1px 2px rgba(60, 64, 67, 0.3), 0px 1px 3px 1px rgba(60, 64, 67, 0.15);\n",
              "      fill: #174EA6;\n",
              "    }\n",
              "\n",
              "    [theme=dark] .colab-df-convert {\n",
              "      background-color: #3B4455;\n",
              "      fill: #D2E3FC;\n",
              "    }\n",
              "\n",
              "    [theme=dark] .colab-df-convert:hover {\n",
              "      background-color: #434B5C;\n",
              "      box-shadow: 0px 1px 3px 1px rgba(0, 0, 0, 0.15);\n",
              "      filter: drop-shadow(0px 1px 2px rgba(0, 0, 0, 0.3));\n",
              "      fill: #FFFFFF;\n",
              "    }\n",
              "  </style>\n",
              "\n",
              "      <script>\n",
              "        const buttonEl =\n",
              "          document.querySelector('#df-7d45c3f3-644a-4c06-8eb1-d0f05619245b button.colab-df-convert');\n",
              "        buttonEl.style.display =\n",
              "          google.colab.kernel.accessAllowed ? 'block' : 'none';\n",
              "\n",
              "        async function convertToInteractive(key) {\n",
              "          const element = document.querySelector('#df-7d45c3f3-644a-4c06-8eb1-d0f05619245b');\n",
              "          const dataTable =\n",
              "            await google.colab.kernel.invokeFunction('convertToInteractive',\n",
              "                                                     [key], {});\n",
              "          if (!dataTable) return;\n",
              "\n",
              "          const docLinkHtml = 'Like what you see? Visit the ' +\n",
              "            '<a target=\"_blank\" href=https://colab.research.google.com/notebooks/data_table.ipynb>data table notebook</a>'\n",
              "            + ' to learn more about interactive tables.';\n",
              "          element.innerHTML = '';\n",
              "          dataTable['output_type'] = 'display_data';\n",
              "          await google.colab.output.renderOutput(dataTable, element);\n",
              "          const docLink = document.createElement('div');\n",
              "          docLink.innerHTML = docLinkHtml;\n",
              "          element.appendChild(docLink);\n",
              "        }\n",
              "      </script>\n",
              "    </div>\n",
              "  </div>\n",
              "  "
            ],
            "text/plain": [
              "      outcome  payment_inc_ratio    dti\n",
              "0      target            9.00000  22.50\n",
              "1     default            5.46933  21.33\n",
              "2    paid off            6.90294   8.97\n",
              "3    paid off           11.14800   1.83\n",
              "4     default            3.72120  10.81\n",
              "..        ...                ...    ...\n",
              "196   default           11.66300  26.09\n",
              "197   default            2.97641  16.41\n",
              "198   default            1.96846  19.98\n",
              "199  paid off            9.64200  20.17\n",
              "200  paid off            7.03924  13.88\n",
              "\n",
              "[201 rows x 3 columns]"
            ]
          },
          "metadata": {},
          "execution_count": 13
        }
      ]
    },
    {
      "cell_type": "code",
      "source": [
        "print(nbrs[1][0])\n",
        "print(nbrs[1][0] + 1)"
      ],
      "metadata": {
        "colab": {
          "base_uri": "https://localhost:8080/"
        },
        "id": "Av6scruJx_L0",
        "outputId": "170a2a19-12f3-4931-f71a-5ee10fc10392"
      },
      "execution_count": 14,
      "outputs": [
        {
          "output_type": "stream",
          "name": "stdout",
          "text": [
            "[ 34 181 180  84   8 168  20 198  76  54 140  30  65 162 160 111  77  45\n",
            "  40 138]\n",
            "[ 35 182 181  85   9 169  21 199  77  55 141  31  66 163 161 112  78  46\n",
            "  41 139]\n"
          ]
        }
      ]
    },
    {
      "cell_type": "code",
      "source": [
        "loan200.loc[nbrs[1][0] + 1,:]"
      ],
      "metadata": {
        "colab": {
          "base_uri": "https://localhost:8080/",
          "height": 677
        },
        "id": "2gFI8KoCx1ed",
        "outputId": "9a410949-2d1c-46ba-d32d-291a153bf72b"
      },
      "execution_count": 15,
      "outputs": [
        {
          "output_type": "execute_result",
          "data": {
            "text/html": [
              "\n",
              "  <div id=\"df-a2d9b6c5-27ca-4411-b91e-69adea63edea\">\n",
              "    <div class=\"colab-df-container\">\n",
              "      <div>\n",
              "<style scoped>\n",
              "    .dataframe tbody tr th:only-of-type {\n",
              "        vertical-align: middle;\n",
              "    }\n",
              "\n",
              "    .dataframe tbody tr th {\n",
              "        vertical-align: top;\n",
              "    }\n",
              "\n",
              "    .dataframe thead th {\n",
              "        text-align: right;\n",
              "    }\n",
              "</style>\n",
              "<table border=\"1\" class=\"dataframe\">\n",
              "  <thead>\n",
              "    <tr style=\"text-align: right;\">\n",
              "      <th></th>\n",
              "      <th>outcome</th>\n",
              "      <th>payment_inc_ratio</th>\n",
              "      <th>dti</th>\n",
              "    </tr>\n",
              "  </thead>\n",
              "  <tbody>\n",
              "    <tr>\n",
              "      <th>35</th>\n",
              "      <td>default</td>\n",
              "      <td>8.65527</td>\n",
              "      <td>22.23</td>\n",
              "    </tr>\n",
              "    <tr>\n",
              "      <th>182</th>\n",
              "      <td>default</td>\n",
              "      <td>9.05778</td>\n",
              "      <td>21.62</td>\n",
              "    </tr>\n",
              "    <tr>\n",
              "      <th>181</th>\n",
              "      <td>paid off</td>\n",
              "      <td>9.44925</td>\n",
              "      <td>23.30</td>\n",
              "    </tr>\n",
              "    <tr>\n",
              "      <th>85</th>\n",
              "      <td>default</td>\n",
              "      <td>8.70942</td>\n",
              "      <td>24.13</td>\n",
              "    </tr>\n",
              "    <tr>\n",
              "      <th>9</th>\n",
              "      <td>default</td>\n",
              "      <td>9.43396</td>\n",
              "      <td>24.15</td>\n",
              "    </tr>\n",
              "    <tr>\n",
              "      <th>169</th>\n",
              "      <td>default</td>\n",
              "      <td>8.02887</td>\n",
              "      <td>20.86</td>\n",
              "    </tr>\n",
              "    <tr>\n",
              "      <th>21</th>\n",
              "      <td>default</td>\n",
              "      <td>6.91886</td>\n",
              "      <td>22.47</td>\n",
              "    </tr>\n",
              "    <tr>\n",
              "      <th>199</th>\n",
              "      <td>paid off</td>\n",
              "      <td>9.64200</td>\n",
              "      <td>20.17</td>\n",
              "    </tr>\n",
              "    <tr>\n",
              "      <th>77</th>\n",
              "      <td>paid off</td>\n",
              "      <td>7.70160</td>\n",
              "      <td>24.57</td>\n",
              "    </tr>\n",
              "    <tr>\n",
              "      <th>55</th>\n",
              "      <td>paid off</td>\n",
              "      <td>11.52250</td>\n",
              "      <td>21.45</td>\n",
              "    </tr>\n",
              "    <tr>\n",
              "      <th>141</th>\n",
              "      <td>paid off</td>\n",
              "      <td>8.64978</td>\n",
              "      <td>19.78</td>\n",
              "    </tr>\n",
              "    <tr>\n",
              "      <th>31</th>\n",
              "      <td>paid off</td>\n",
              "      <td>11.86030</td>\n",
              "      <td>22.54</td>\n",
              "    </tr>\n",
              "    <tr>\n",
              "      <th>66</th>\n",
              "      <td>paid off</td>\n",
              "      <td>9.52255</td>\n",
              "      <td>19.66</td>\n",
              "    </tr>\n",
              "    <tr>\n",
              "      <th>163</th>\n",
              "      <td>paid off</td>\n",
              "      <td>7.90032</td>\n",
              "      <td>19.71</td>\n",
              "    </tr>\n",
              "    <tr>\n",
              "      <th>161</th>\n",
              "      <td>paid off</td>\n",
              "      <td>10.18890</td>\n",
              "      <td>25.47</td>\n",
              "    </tr>\n",
              "    <tr>\n",
              "      <th>112</th>\n",
              "      <td>default</td>\n",
              "      <td>5.82492</td>\n",
              "      <td>22.00</td>\n",
              "    </tr>\n",
              "    <tr>\n",
              "      <th>78</th>\n",
              "      <td>default</td>\n",
              "      <td>12.35380</td>\n",
              "      <td>22.22</td>\n",
              "    </tr>\n",
              "    <tr>\n",
              "      <th>46</th>\n",
              "      <td>paid off</td>\n",
              "      <td>5.62357</td>\n",
              "      <td>22.35</td>\n",
              "    </tr>\n",
              "    <tr>\n",
              "      <th>41</th>\n",
              "      <td>paid off</td>\n",
              "      <td>8.16320</td>\n",
              "      <td>19.14</td>\n",
              "    </tr>\n",
              "    <tr>\n",
              "      <th>139</th>\n",
              "      <td>default</td>\n",
              "      <td>10.02450</td>\n",
              "      <td>19.11</td>\n",
              "    </tr>\n",
              "  </tbody>\n",
              "</table>\n",
              "</div>\n",
              "      <button class=\"colab-df-convert\" onclick=\"convertToInteractive('df-a2d9b6c5-27ca-4411-b91e-69adea63edea')\"\n",
              "              title=\"Convert this dataframe to an interactive table.\"\n",
              "              style=\"display:none;\">\n",
              "        \n",
              "  <svg xmlns=\"http://www.w3.org/2000/svg\" height=\"24px\"viewBox=\"0 0 24 24\"\n",
              "       width=\"24px\">\n",
              "    <path d=\"M0 0h24v24H0V0z\" fill=\"none\"/>\n",
              "    <path d=\"M18.56 5.44l.94 2.06.94-2.06 2.06-.94-2.06-.94-.94-2.06-.94 2.06-2.06.94zm-11 1L8.5 8.5l.94-2.06 2.06-.94-2.06-.94L8.5 2.5l-.94 2.06-2.06.94zm10 10l.94 2.06.94-2.06 2.06-.94-2.06-.94-.94-2.06-.94 2.06-2.06.94z\"/><path d=\"M17.41 7.96l-1.37-1.37c-.4-.4-.92-.59-1.43-.59-.52 0-1.04.2-1.43.59L10.3 9.45l-7.72 7.72c-.78.78-.78 2.05 0 2.83L4 21.41c.39.39.9.59 1.41.59.51 0 1.02-.2 1.41-.59l7.78-7.78 2.81-2.81c.8-.78.8-2.07 0-2.86zM5.41 20L4 18.59l7.72-7.72 1.47 1.35L5.41 20z\"/>\n",
              "  </svg>\n",
              "      </button>\n",
              "      \n",
              "  <style>\n",
              "    .colab-df-container {\n",
              "      display:flex;\n",
              "      flex-wrap:wrap;\n",
              "      gap: 12px;\n",
              "    }\n",
              "\n",
              "    .colab-df-convert {\n",
              "      background-color: #E8F0FE;\n",
              "      border: none;\n",
              "      border-radius: 50%;\n",
              "      cursor: pointer;\n",
              "      display: none;\n",
              "      fill: #1967D2;\n",
              "      height: 32px;\n",
              "      padding: 0 0 0 0;\n",
              "      width: 32px;\n",
              "    }\n",
              "\n",
              "    .colab-df-convert:hover {\n",
              "      background-color: #E2EBFA;\n",
              "      box-shadow: 0px 1px 2px rgba(60, 64, 67, 0.3), 0px 1px 3px 1px rgba(60, 64, 67, 0.15);\n",
              "      fill: #174EA6;\n",
              "    }\n",
              "\n",
              "    [theme=dark] .colab-df-convert {\n",
              "      background-color: #3B4455;\n",
              "      fill: #D2E3FC;\n",
              "    }\n",
              "\n",
              "    [theme=dark] .colab-df-convert:hover {\n",
              "      background-color: #434B5C;\n",
              "      box-shadow: 0px 1px 3px 1px rgba(0, 0, 0, 0.15);\n",
              "      filter: drop-shadow(0px 1px 2px rgba(0, 0, 0, 0.3));\n",
              "      fill: #FFFFFF;\n",
              "    }\n",
              "  </style>\n",
              "\n",
              "      <script>\n",
              "        const buttonEl =\n",
              "          document.querySelector('#df-a2d9b6c5-27ca-4411-b91e-69adea63edea button.colab-df-convert');\n",
              "        buttonEl.style.display =\n",
              "          google.colab.kernel.accessAllowed ? 'block' : 'none';\n",
              "\n",
              "        async function convertToInteractive(key) {\n",
              "          const element = document.querySelector('#df-a2d9b6c5-27ca-4411-b91e-69adea63edea');\n",
              "          const dataTable =\n",
              "            await google.colab.kernel.invokeFunction('convertToInteractive',\n",
              "                                                     [key], {});\n",
              "          if (!dataTable) return;\n",
              "\n",
              "          const docLinkHtml = 'Like what you see? Visit the ' +\n",
              "            '<a target=\"_blank\" href=https://colab.research.google.com/notebooks/data_table.ipynb>data table notebook</a>'\n",
              "            + ' to learn more about interactive tables.';\n",
              "          element.innerHTML = '';\n",
              "          dataTable['output_type'] = 'display_data';\n",
              "          await google.colab.output.renderOutput(dataTable, element);\n",
              "          const docLink = document.createElement('div');\n",
              "          docLink.innerHTML = docLinkHtml;\n",
              "          element.appendChild(docLink);\n",
              "        }\n",
              "      </script>\n",
              "    </div>\n",
              "  </div>\n",
              "  "
            ],
            "text/plain": [
              "      outcome  payment_inc_ratio    dti\n",
              "35    default            8.65527  22.23\n",
              "182   default            9.05778  21.62\n",
              "181  paid off            9.44925  23.30\n",
              "85    default            8.70942  24.13\n",
              "9     default            9.43396  24.15\n",
              "169   default            8.02887  20.86\n",
              "21    default            6.91886  22.47\n",
              "199  paid off            9.64200  20.17\n",
              "77   paid off            7.70160  24.57\n",
              "55   paid off           11.52250  21.45\n",
              "141  paid off            8.64978  19.78\n",
              "31   paid off           11.86030  22.54\n",
              "66   paid off            9.52255  19.66\n",
              "163  paid off            7.90032  19.71\n",
              "161  paid off           10.18890  25.47\n",
              "112   default            5.82492  22.00\n",
              "78    default           12.35380  22.22\n",
              "46   paid off            5.62357  22.35\n",
              "41   paid off            8.16320  19.14\n",
              "139   default           10.02450  19.11"
            ]
          },
          "metadata": {},
          "execution_count": 15
        }
      ]
    },
    {
      "cell_type": "code",
      "source": [
        "%matplotlib inline\n",
        "\n",
        "fig, ax = plt.subplots(figsize=(4, 4))\n",
        "sns.scatterplot(x='payment_inc_ratio', y='dti', style='outcome', \n",
        "                hue='outcome', data=loan200, alpha=0.3, ax=ax)\n",
        "sns.scatterplot(x='payment_inc_ratio', y='dti', style='outcome', \n",
        "                hue='outcome', \n",
        "                data=pd.concat([loan200.loc[0:0, :], loan200.loc[nbrs[1][0] + 1, :]]), \n",
        "                ax=ax, legend=False)\n",
        "ellipse = Ellipse(xy=newloan.values[0], \n",
        "                  width=2 * maxDistance, height=2 * maxDistance,\n",
        "                  edgecolor='black', fc='None', lw=1)\n",
        "ax.add_patch(ellipse)\n",
        "ax.set_xlim(3, 16)\n",
        "ax.set_ylim(15, 30)\n",
        "\n",
        "plt.tight_layout()\n",
        "plt.show()"
      ],
      "metadata": {
        "colab": {
          "base_uri": "https://localhost:8080/",
          "height": 297
        },
        "id": "vUhg4X9xUvJ-",
        "outputId": "97a7bc3c-1de8-4e89-9a8f-e161796bbdb5"
      },
      "execution_count": 16,
      "outputs": [
        {
          "output_type": "display_data",
          "data": {
            "image/png": "[encoded data removed]",
            "text/plain": [
              "<Figure size 288x288 with 1 Axes>"
            ]
          },
          "metadata": {
            "needs_background": "light"
          }
        }
      ]
    },
    {
      "cell_type": "markdown",
      "source": [
        "### **6.1.4 Standardization (Normalization, Z-Scores)**"
      ],
      "metadata": {
        "id": "rtfMqC1IU0HB"
      }
    },
    {
      "cell_type": "code",
      "source": [
        "loan_data = pd.read_csv(LOAN_DATA_CSV)\n",
        "loan_data.head()"
      ],
      "metadata": {
        "colab": {
          "base_uri": "https://localhost:8080/",
          "height": 374
        },
        "id": "_-cGl58UR5Kg",
        "outputId": "5b48a5da-1323-47b1-c98c-c4b62e7e6b4a"
      },
      "execution_count": 17,
      "outputs": [
        {
          "output_type": "execute_result",
          "data": {
            "text/html": [
              "\n",
              "  <div id=\"df-a3fb9bcb-a735-4a88-8313-4a346bdbabf8\">\n",
              "    <div class=\"colab-df-container\">\n",
              "      <div>\n",
              "<style scoped>\n",
              "    .dataframe tbody tr th:only-of-type {\n",
              "        vertical-align: middle;\n",
              "    }\n",
              "\n",
              "    .dataframe tbody tr th {\n",
              "        vertical-align: top;\n",
              "    }\n",
              "\n",
              "    .dataframe thead th {\n",
              "        text-align: right;\n",
              "    }\n",
              "</style>\n",
              "<table border=\"1\" class=\"dataframe\">\n",
              "  <thead>\n",
              "    <tr style=\"text-align: right;\">\n",
              "      <th></th>\n",
              "      <th>Unnamed: 0</th>\n",
              "      <th>status</th>\n",
              "      <th>loan_amnt</th>\n",
              "      <th>term</th>\n",
              "      <th>annual_inc</th>\n",
              "      <th>dti</th>\n",
              "      <th>payment_inc_ratio</th>\n",
              "      <th>revol_bal</th>\n",
              "      <th>revol_util</th>\n",
              "      <th>purpose</th>\n",
              "      <th>home_ownership</th>\n",
              "      <th>delinq_2yrs_zero</th>\n",
              "      <th>pub_rec_zero</th>\n",
              "      <th>open_acc</th>\n",
              "      <th>grade</th>\n",
              "      <th>outcome</th>\n",
              "      <th>emp_length</th>\n",
              "      <th>purpose_</th>\n",
              "      <th>home_</th>\n",
              "      <th>emp_len_</th>\n",
              "      <th>borrower_score</th>\n",
              "    </tr>\n",
              "  </thead>\n",
              "  <tbody>\n",
              "    <tr>\n",
              "      <th>0</th>\n",
              "      <td>1</td>\n",
              "      <td>Charged Off</td>\n",
              "      <td>2500</td>\n",
              "      <td>60 months</td>\n",
              "      <td>30000</td>\n",
              "      <td>1.00</td>\n",
              "      <td>2.39320</td>\n",
              "      <td>1687</td>\n",
              "      <td>9.4</td>\n",
              "      <td>car</td>\n",
              "      <td>RENT</td>\n",
              "      <td>1</td>\n",
              "      <td>1</td>\n",
              "      <td>3</td>\n",
              "      <td>4.8</td>\n",
              "      <td>default</td>\n",
              "      <td>1</td>\n",
              "      <td>major_purchase</td>\n",
              "      <td>RENT</td>\n",
              "      <td>&gt; 1 Year</td>\n",
              "      <td>0.65</td>\n",
              "    </tr>\n",
              "    <tr>\n",
              "      <th>1</th>\n",
              "      <td>2</td>\n",
              "      <td>Charged Off</td>\n",
              "      <td>5600</td>\n",
              "      <td>60 months</td>\n",
              "      <td>40000</td>\n",
              "      <td>5.55</td>\n",
              "      <td>4.57170</td>\n",
              "      <td>5210</td>\n",
              "      <td>32.6</td>\n",
              "      <td>small_business</td>\n",
              "      <td>OWN</td>\n",
              "      <td>1</td>\n",
              "      <td>1</td>\n",
              "      <td>11</td>\n",
              "      <td>1.4</td>\n",
              "      <td>default</td>\n",
              "      <td>5</td>\n",
              "      <td>small_business</td>\n",
              "      <td>OWN</td>\n",
              "      <td>&gt; 1 Year</td>\n",
              "      <td>0.80</td>\n",
              "    </tr>\n",
              "    <tr>\n",
              "      <th>2</th>\n",
              "      <td>3</td>\n",
              "      <td>Charged Off</td>\n",
              "      <td>5375</td>\n",
              "      <td>60 months</td>\n",
              "      <td>15000</td>\n",
              "      <td>18.08</td>\n",
              "      <td>9.71600</td>\n",
              "      <td>9279</td>\n",
              "      <td>36.5</td>\n",
              "      <td>other</td>\n",
              "      <td>RENT</td>\n",
              "      <td>1</td>\n",
              "      <td>1</td>\n",
              "      <td>2</td>\n",
              "      <td>6.0</td>\n",
              "      <td>default</td>\n",
              "      <td>1</td>\n",
              "      <td>other</td>\n",
              "      <td>RENT</td>\n",
              "      <td>&gt; 1 Year</td>\n",
              "      <td>0.60</td>\n",
              "    </tr>\n",
              "    <tr>\n",
              "      <th>3</th>\n",
              "      <td>4</td>\n",
              "      <td>Charged Off</td>\n",
              "      <td>9000</td>\n",
              "      <td>36 months</td>\n",
              "      <td>30000</td>\n",
              "      <td>10.08</td>\n",
              "      <td>12.21520</td>\n",
              "      <td>10452</td>\n",
              "      <td>91.7</td>\n",
              "      <td>debt_consolidation</td>\n",
              "      <td>RENT</td>\n",
              "      <td>1</td>\n",
              "      <td>1</td>\n",
              "      <td>4</td>\n",
              "      <td>4.2</td>\n",
              "      <td>default</td>\n",
              "      <td>1</td>\n",
              "      <td>debt_consolidation</td>\n",
              "      <td>RENT</td>\n",
              "      <td>&gt; 1 Year</td>\n",
              "      <td>0.50</td>\n",
              "    </tr>\n",
              "    <tr>\n",
              "      <th>4</th>\n",
              "      <td>5</td>\n",
              "      <td>Charged Off</td>\n",
              "      <td>10000</td>\n",
              "      <td>36 months</td>\n",
              "      <td>100000</td>\n",
              "      <td>7.06</td>\n",
              "      <td>3.90888</td>\n",
              "      <td>11997</td>\n",
              "      <td>55.5</td>\n",
              "      <td>other</td>\n",
              "      <td>RENT</td>\n",
              "      <td>1</td>\n",
              "      <td>1</td>\n",
              "      <td>14</td>\n",
              "      <td>5.4</td>\n",
              "      <td>default</td>\n",
              "      <td>4</td>\n",
              "      <td>other</td>\n",
              "      <td>RENT</td>\n",
              "      <td>&gt; 1 Year</td>\n",
              "      <td>0.55</td>\n",
              "    </tr>\n",
              "  </tbody>\n",
              "</table>\n",
              "</div>\n",
              "      <button class=\"colab-df-convert\" onclick=\"convertToInteractive('df-a3fb9bcb-a735-4a88-8313-4a346bdbabf8')\"\n",
              "              title=\"Convert this dataframe to an interactive table.\"\n",
              "              style=\"display:none;\">\n",
              "        \n",
              "  <svg xmlns=\"http://www.w3.org/2000/svg\" height=\"24px\"viewBox=\"0 0 24 24\"\n",
              "       width=\"24px\">\n",
              "    <path d=\"M0 0h24v24H0V0z\" fill=\"none\"/>\n",
              "    <path d=\"M18.56 5.44l.94 2.06.94-2.06 2.06-.94-2.06-.94-.94-2.06-.94 2.06-2.06.94zm-11 1L8.5 8.5l.94-2.06 2.06-.94-2.06-.94L8.5 2.5l-.94 2.06-2.06.94zm10 10l.94 2.06.94-2.06 2.06-.94-2.06-.94-.94-2.06-.94 2.06-2.06.94z\"/><path d=\"M17.41 7.96l-1.37-1.37c-.4-.4-.92-.59-1.43-.59-.52 0-1.04.2-1.43.59L10.3 9.45l-7.72 7.72c-.78.78-.78 2.05 0 2.83L4 21.41c.39.39.9.59 1.41.59.51 0 1.02-.2 1.41-.59l7.78-7.78 2.81-2.81c.8-.78.8-2.07 0-2.86zM5.41 20L4 18.59l7.72-7.72 1.47 1.35L5.41 20z\"/>\n",
              "  </svg>\n",
              "      </button>\n",
              "      \n",
              "  <style>\n",
              "    .colab-df-container {\n",
              "      display:flex;\n",
              "      flex-wrap:wrap;\n",
              "      gap: 12px;\n",
              "    }\n",
              "\n",
              "    .colab-df-convert {\n",
              "      background-color: #E8F0FE;\n",
              "      border: none;\n",
              "      border-radius: 50%;\n",
              "      cursor: pointer;\n",
              "      display: none;\n",
              "      fill: #1967D2;\n",
              "      height: 32px;\n",
              "      padding: 0 0 0 0;\n",
              "      width: 32px;\n",
              "    }\n",
              "\n",
              "    .colab-df-convert:hover {\n",
              "      background-color: #E2EBFA;\n",
              "      box-shadow: 0px 1px 2px rgba(60, 64, 67, 0.3), 0px 1px 3px 1px rgba(60, 64, 67, 0.15);\n",
              "      fill: #174EA6;\n",
              "    }\n",
              "\n",
              "    [theme=dark] .colab-df-convert {\n",
              "      background-color: #3B4455;\n",
              "      fill: #D2E3FC;\n",
              "    }\n",
              "\n",
              "    [theme=dark] .colab-df-convert:hover {\n",
              "      background-color: #434B5C;\n",
              "      box-shadow: 0px 1px 3px 1px rgba(0, 0, 0, 0.15);\n",
              "      filter: drop-shadow(0px 1px 2px rgba(0, 0, 0, 0.3));\n",
              "      fill: #FFFFFF;\n",
              "    }\n",
              "  </style>\n",
              "\n",
              "      <script>\n",
              "        const buttonEl =\n",
              "          document.querySelector('#df-a3fb9bcb-a735-4a88-8313-4a346bdbabf8 button.colab-df-convert');\n",
              "        buttonEl.style.display =\n",
              "          google.colab.kernel.accessAllowed ? 'block' : 'none';\n",
              "\n",
              "        async function convertToInteractive(key) {\n",
              "          const element = document.querySelector('#df-a3fb9bcb-a735-4a88-8313-4a346bdbabf8');\n",
              "          const dataTable =\n",
              "            await google.colab.kernel.invokeFunction('convertToInteractive',\n",
              "                                                     [key], {});\n",
              "          if (!dataTable) return;\n",
              "\n",
              "          const docLinkHtml = 'Like what you see? Visit the ' +\n",
              "            '<a target=\"_blank\" href=https://colab.research.google.com/notebooks/data_table.ipynb>data table notebook</a>'\n",
              "            + ' to learn more about interactive tables.';\n",
              "          element.innerHTML = '';\n",
              "          dataTable['output_type'] = 'display_data';\n",
              "          await google.colab.output.renderOutput(dataTable, element);\n",
              "          const docLink = document.createElement('div');\n",
              "          docLink.innerHTML = docLinkHtml;\n",
              "          element.appendChild(docLink);\n",
              "        }\n",
              "      </script>\n",
              "    </div>\n",
              "  </div>\n",
              "  "
            ],
            "text/plain": [
              "   Unnamed: 0       status  loan_amnt  ... home_   emp_len_  borrower_score\n",
              "0           1  Charged Off       2500  ...  RENT   > 1 Year            0.65\n",
              "1           2  Charged Off       5600  ...   OWN   > 1 Year            0.80\n",
              "2           3  Charged Off       5375  ...  RENT   > 1 Year            0.60\n",
              "3           4  Charged Off       9000  ...  RENT   > 1 Year            0.50\n",
              "4           5  Charged Off      10000  ...  RENT   > 1 Year            0.55\n",
              "\n",
              "[5 rows x 21 columns]"
            ]
          },
          "metadata": {},
          "execution_count": 17
        }
      ]
    },
    {
      "cell_type": "code",
      "source": [
        "loan_data = loan_data.drop(columns=['Unnamed: 0', 'status'])\n",
        "loan_data.head()"
      ],
      "metadata": {
        "colab": {
          "base_uri": "https://localhost:8080/",
          "height": 357
        },
        "id": "EuCE3UluR79y",
        "outputId": "ee816bac-4382-4b27-d6ea-0e545becfc87"
      },
      "execution_count": 18,
      "outputs": [
        {
          "output_type": "execute_result",
          "data": {
            "text/html": [
              "\n",
              "  <div id=\"df-617b9c21-7e1a-4853-87fe-84d8671c13e7\">\n",
              "    <div class=\"colab-df-container\">\n",
              "      <div>\n",
              "<style scoped>\n",
              "    .dataframe tbody tr th:only-of-type {\n",
              "        vertical-align: middle;\n",
              "    }\n",
              "\n",
              "    .dataframe tbody tr th {\n",
              "        vertical-align: top;\n",
              "    }\n",
              "\n",
              "    .dataframe thead th {\n",
              "        text-align: right;\n",
              "    }\n",
              "</style>\n",
              "<table border=\"1\" class=\"dataframe\">\n",
              "  <thead>\n",
              "    <tr style=\"text-align: right;\">\n",
              "      <th></th>\n",
              "      <th>loan_amnt</th>\n",
              "      <th>term</th>\n",
              "      <th>annual_inc</th>\n",
              "      <th>dti</th>\n",
              "      <th>payment_inc_ratio</th>\n",
              "      <th>revol_bal</th>\n",
              "      <th>revol_util</th>\n",
              "      <th>purpose</th>\n",
              "      <th>home_ownership</th>\n",
              "      <th>delinq_2yrs_zero</th>\n",
              "      <th>pub_rec_zero</th>\n",
              "      <th>open_acc</th>\n",
              "      <th>grade</th>\n",
              "      <th>outcome</th>\n",
              "      <th>emp_length</th>\n",
              "      <th>purpose_</th>\n",
              "      <th>home_</th>\n",
              "      <th>emp_len_</th>\n",
              "      <th>borrower_score</th>\n",
              "    </tr>\n",
              "  </thead>\n",
              "  <tbody>\n",
              "    <tr>\n",
              "      <th>0</th>\n",
              "      <td>2500</td>\n",
              "      <td>60 months</td>\n",
              "      <td>30000</td>\n",
              "      <td>1.00</td>\n",
              "      <td>2.39320</td>\n",
              "      <td>1687</td>\n",
              "      <td>9.4</td>\n",
              "      <td>car</td>\n",
              "      <td>RENT</td>\n",
              "      <td>1</td>\n",
              "      <td>1</td>\n",
              "      <td>3</td>\n",
              "      <td>4.8</td>\n",
              "      <td>default</td>\n",
              "      <td>1</td>\n",
              "      <td>major_purchase</td>\n",
              "      <td>RENT</td>\n",
              "      <td>&gt; 1 Year</td>\n",
              "      <td>0.65</td>\n",
              "    </tr>\n",
              "    <tr>\n",
              "      <th>1</th>\n",
              "      <td>5600</td>\n",
              "      <td>60 months</td>\n",
              "      <td>40000</td>\n",
              "      <td>5.55</td>\n",
              "      <td>4.57170</td>\n",
              "      <td>5210</td>\n",
              "      <td>32.6</td>\n",
              "      <td>small_business</td>\n",
              "      <td>OWN</td>\n",
              "      <td>1</td>\n",
              "      <td>1</td>\n",
              "      <td>11</td>\n",
              "      <td>1.4</td>\n",
              "      <td>default</td>\n",
              "      <td>5</td>\n",
              "      <td>small_business</td>\n",
              "      <td>OWN</td>\n",
              "      <td>&gt; 1 Year</td>\n",
              "      <td>0.80</td>\n",
              "    </tr>\n",
              "    <tr>\n",
              "      <th>2</th>\n",
              "      <td>5375</td>\n",
              "      <td>60 months</td>\n",
              "      <td>15000</td>\n",
              "      <td>18.08</td>\n",
              "      <td>9.71600</td>\n",
              "      <td>9279</td>\n",
              "      <td>36.5</td>\n",
              "      <td>other</td>\n",
              "      <td>RENT</td>\n",
              "      <td>1</td>\n",
              "      <td>1</td>\n",
              "      <td>2</td>\n",
              "      <td>6.0</td>\n",
              "      <td>default</td>\n",
              "      <td>1</td>\n",
              "      <td>other</td>\n",
              "      <td>RENT</td>\n",
              "      <td>&gt; 1 Year</td>\n",
              "      <td>0.60</td>\n",
              "    </tr>\n",
              "    <tr>\n",
              "      <th>3</th>\n",
              "      <td>9000</td>\n",
              "      <td>36 months</td>\n",
              "      <td>30000</td>\n",
              "      <td>10.08</td>\n",
              "      <td>12.21520</td>\n",
              "      <td>10452</td>\n",
              "      <td>91.7</td>\n",
              "      <td>debt_consolidation</td>\n",
              "      <td>RENT</td>\n",
              "      <td>1</td>\n",
              "      <td>1</td>\n",
              "      <td>4</td>\n",
              "      <td>4.2</td>\n",
              "      <td>default</td>\n",
              "      <td>1</td>\n",
              "      <td>debt_consolidation</td>\n",
              "      <td>RENT</td>\n",
              "      <td>&gt; 1 Year</td>\n",
              "      <td>0.50</td>\n",
              "    </tr>\n",
              "    <tr>\n",
              "      <th>4</th>\n",
              "      <td>10000</td>\n",
              "      <td>36 months</td>\n",
              "      <td>100000</td>\n",
              "      <td>7.06</td>\n",
              "      <td>3.90888</td>\n",
              "      <td>11997</td>\n",
              "      <td>55.5</td>\n",
              "      <td>other</td>\n",
              "      <td>RENT</td>\n",
              "      <td>1</td>\n",
              "      <td>1</td>\n",
              "      <td>14</td>\n",
              "      <td>5.4</td>\n",
              "      <td>default</td>\n",
              "      <td>4</td>\n",
              "      <td>other</td>\n",
              "      <td>RENT</td>\n",
              "      <td>&gt; 1 Year</td>\n",
              "      <td>0.55</td>\n",
              "    </tr>\n",
              "  </tbody>\n",
              "</table>\n",
              "</div>\n",
              "      <button class=\"colab-df-convert\" onclick=\"convertToInteractive('df-617b9c21-7e1a-4853-87fe-84d8671c13e7')\"\n",
              "              title=\"Convert this dataframe to an interactive table.\"\n",
              "              style=\"display:none;\">\n",
              "        \n",
              "  <svg xmlns=\"http://www.w3.org/2000/svg\" height=\"24px\"viewBox=\"0 0 24 24\"\n",
              "       width=\"24px\">\n",
              "    <path d=\"M0 0h24v24H0V0z\" fill=\"none\"/>\n",
              "    <path d=\"M18.56 5.44l.94 2.06.94-2.06 2.06-.94-2.06-.94-.94-2.06-.94 2.06-2.06.94zm-11 1L8.5 8.5l.94-2.06 2.06-.94-2.06-.94L8.5 2.5l-.94 2.06-2.06.94zm10 10l.94 2.06.94-2.06 2.06-.94-2.06-.94-.94-2.06-.94 2.06-2.06.94z\"/><path d=\"M17.41 7.96l-1.37-1.37c-.4-.4-.92-.59-1.43-.59-.52 0-1.04.2-1.43.59L10.3 9.45l-7.72 7.72c-.78.78-.78 2.05 0 2.83L4 21.41c.39.39.9.59 1.41.59.51 0 1.02-.2 1.41-.59l7.78-7.78 2.81-2.81c.8-.78.8-2.07 0-2.86zM5.41 20L4 18.59l7.72-7.72 1.47 1.35L5.41 20z\"/>\n",
              "  </svg>\n",
              "      </button>\n",
              "      \n",
              "  <style>\n",
              "    .colab-df-container {\n",
              "      display:flex;\n",
              "      flex-wrap:wrap;\n",
              "      gap: 12px;\n",
              "    }\n",
              "\n",
              "    .colab-df-convert {\n",
              "      background-color: #E8F0FE;\n",
              "      border: none;\n",
              "      border-radius: 50%;\n",
              "      cursor: pointer;\n",
              "      display: none;\n",
              "      fill: #1967D2;\n",
              "      height: 32px;\n",
              "      padding: 0 0 0 0;\n",
              "      width: 32px;\n",
              "    }\n",
              "\n",
              "    .colab-df-convert:hover {\n",
              "      background-color: #E2EBFA;\n",
              "      box-shadow: 0px 1px 2px rgba(60, 64, 67, 0.3), 0px 1px 3px 1px rgba(60, 64, 67, 0.15);\n",
              "      fill: #174EA6;\n",
              "    }\n",
              "\n",
              "    [theme=dark] .colab-df-convert {\n",
              "      background-color: #3B4455;\n",
              "      fill: #D2E3FC;\n",
              "    }\n",
              "\n",
              "    [theme=dark] .colab-df-convert:hover {\n",
              "      background-color: #434B5C;\n",
              "      box-shadow: 0px 1px 3px 1px rgba(0, 0, 0, 0.15);\n",
              "      filter: drop-shadow(0px 1px 2px rgba(0, 0, 0, 0.3));\n",
              "      fill: #FFFFFF;\n",
              "    }\n",
              "  </style>\n",
              "\n",
              "      <script>\n",
              "        const buttonEl =\n",
              "          document.querySelector('#df-617b9c21-7e1a-4853-87fe-84d8671c13e7 button.colab-df-convert');\n",
              "        buttonEl.style.display =\n",
              "          google.colab.kernel.accessAllowed ? 'block' : 'none';\n",
              "\n",
              "        async function convertToInteractive(key) {\n",
              "          const element = document.querySelector('#df-617b9c21-7e1a-4853-87fe-84d8671c13e7');\n",
              "          const dataTable =\n",
              "            await google.colab.kernel.invokeFunction('convertToInteractive',\n",
              "                                                     [key], {});\n",
              "          if (!dataTable) return;\n",
              "\n",
              "          const docLinkHtml = 'Like what you see? Visit the ' +\n",
              "            '<a target=\"_blank\" href=https://colab.research.google.com/notebooks/data_table.ipynb>data table notebook</a>'\n",
              "            + ' to learn more about interactive tables.';\n",
              "          element.innerHTML = '';\n",
              "          dataTable['output_type'] = 'display_data';\n",
              "          await google.colab.output.renderOutput(dataTable, element);\n",
              "          const docLink = document.createElement('div');\n",
              "          docLink.innerHTML = docLinkHtml;\n",
              "          element.appendChild(docLink);\n",
              "        }\n",
              "      </script>\n",
              "    </div>\n",
              "  </div>\n",
              "  "
            ],
            "text/plain": [
              "   loan_amnt       term  annual_inc  ...  home_   emp_len_  borrower_score\n",
              "0       2500  60 months       30000  ...   RENT   > 1 Year            0.65\n",
              "1       5600  60 months       40000  ...    OWN   > 1 Year            0.80\n",
              "2       5375  60 months       15000  ...   RENT   > 1 Year            0.60\n",
              "3       9000  36 months       30000  ...   RENT   > 1 Year            0.50\n",
              "4      10000  36 months      100000  ...   RENT   > 1 Year            0.55\n",
              "\n",
              "[5 rows x 19 columns]"
            ]
          },
          "metadata": {},
          "execution_count": 18
        }
      ]
    },
    {
      "cell_type": "code",
      "source": [
        "loan_data['outcome'] = pd.Categorical(loan_data['outcome'], \n",
        "                                      categories=['paid off', 'default'], \n",
        "                                      ordered=True)\n",
        "loan_data.head()"
      ],
      "metadata": {
        "colab": {
          "base_uri": "https://localhost:8080/",
          "height": 357
        },
        "id": "LANKGAKLR9dU",
        "outputId": "7bc4803a-59e7-4793-d0c1-542417427833"
      },
      "execution_count": 19,
      "outputs": [
        {
          "output_type": "execute_result",
          "data": {
            "text/html": [
              "\n",
              "  <div id=\"df-c36b29e8-6ac9-432b-9888-52f3e2e30455\">\n",
              "    <div class=\"colab-df-container\">\n",
              "      <div>\n",
              "<style scoped>\n",
              "    .dataframe tbody tr th:only-of-type {\n",
              "        vertical-align: middle;\n",
              "    }\n",
              "\n",
              "    .dataframe tbody tr th {\n",
              "        vertical-align: top;\n",
              "    }\n",
              "\n",
              "    .dataframe thead th {\n",
              "        text-align: right;\n",
              "    }\n",
              "</style>\n",
              "<table border=\"1\" class=\"dataframe\">\n",
              "  <thead>\n",
              "    <tr style=\"text-align: right;\">\n",
              "      <th></th>\n",
              "      <th>loan_amnt</th>\n",
              "      <th>term</th>\n",
              "      <th>annual_inc</th>\n",
              "      <th>dti</th>\n",
              "      <th>payment_inc_ratio</th>\n",
              "      <th>revol_bal</th>\n",
              "      <th>revol_util</th>\n",
              "      <th>purpose</th>\n",
              "      <th>home_ownership</th>\n",
              "      <th>delinq_2yrs_zero</th>\n",
              "      <th>pub_rec_zero</th>\n",
              "      <th>open_acc</th>\n",
              "      <th>grade</th>\n",
              "      <th>outcome</th>\n",
              "      <th>emp_length</th>\n",
              "      <th>purpose_</th>\n",
              "      <th>home_</th>\n",
              "      <th>emp_len_</th>\n",
              "      <th>borrower_score</th>\n",
              "    </tr>\n",
              "  </thead>\n",
              "  <tbody>\n",
              "    <tr>\n",
              "      <th>0</th>\n",
              "      <td>2500</td>\n",
              "      <td>60 months</td>\n",
              "      <td>30000</td>\n",
              "      <td>1.00</td>\n",
              "      <td>2.39320</td>\n",
              "      <td>1687</td>\n",
              "      <td>9.4</td>\n",
              "      <td>car</td>\n",
              "      <td>RENT</td>\n",
              "      <td>1</td>\n",
              "      <td>1</td>\n",
              "      <td>3</td>\n",
              "      <td>4.8</td>\n",
              "      <td>default</td>\n",
              "      <td>1</td>\n",
              "      <td>major_purchase</td>\n",
              "      <td>RENT</td>\n",
              "      <td>&gt; 1 Year</td>\n",
              "      <td>0.65</td>\n",
              "    </tr>\n",
              "    <tr>\n",
              "      <th>1</th>\n",
              "      <td>5600</td>\n",
              "      <td>60 months</td>\n",
              "      <td>40000</td>\n",
              "      <td>5.55</td>\n",
              "      <td>4.57170</td>\n",
              "      <td>5210</td>\n",
              "      <td>32.6</td>\n",
              "      <td>small_business</td>\n",
              "      <td>OWN</td>\n",
              "      <td>1</td>\n",
              "      <td>1</td>\n",
              "      <td>11</td>\n",
              "      <td>1.4</td>\n",
              "      <td>default</td>\n",
              "      <td>5</td>\n",
              "      <td>small_business</td>\n",
              "      <td>OWN</td>\n",
              "      <td>&gt; 1 Year</td>\n",
              "      <td>0.80</td>\n",
              "    </tr>\n",
              "    <tr>\n",
              "      <th>2</th>\n",
              "      <td>5375</td>\n",
              "      <td>60 months</td>\n",
              "      <td>15000</td>\n",
              "      <td>18.08</td>\n",
              "      <td>9.71600</td>\n",
              "      <td>9279</td>\n",
              "      <td>36.5</td>\n",
              "      <td>other</td>\n",
              "      <td>RENT</td>\n",
              "      <td>1</td>\n",
              "      <td>1</td>\n",
              "      <td>2</td>\n",
              "      <td>6.0</td>\n",
              "      <td>default</td>\n",
              "      <td>1</td>\n",
              "      <td>other</td>\n",
              "      <td>RENT</td>\n",
              "      <td>&gt; 1 Year</td>\n",
              "      <td>0.60</td>\n",
              "    </tr>\n",
              "    <tr>\n",
              "      <th>3</th>\n",
              "      <td>9000</td>\n",
              "      <td>36 months</td>\n",
              "      <td>30000</td>\n",
              "      <td>10.08</td>\n",
              "      <td>12.21520</td>\n",
              "      <td>10452</td>\n",
              "      <td>91.7</td>\n",
              "      <td>debt_consolidation</td>\n",
              "      <td>RENT</td>\n",
              "      <td>1</td>\n",
              "      <td>1</td>\n",
              "      <td>4</td>\n",
              "      <td>4.2</td>\n",
              "      <td>default</td>\n",
              "      <td>1</td>\n",
              "      <td>debt_consolidation</td>\n",
              "      <td>RENT</td>\n",
              "      <td>&gt; 1 Year</td>\n",
              "      <td>0.50</td>\n",
              "    </tr>\n",
              "    <tr>\n",
              "      <th>4</th>\n",
              "      <td>10000</td>\n",
              "      <td>36 months</td>\n",
              "      <td>100000</td>\n",
              "      <td>7.06</td>\n",
              "      <td>3.90888</td>\n",
              "      <td>11997</td>\n",
              "      <td>55.5</td>\n",
              "      <td>other</td>\n",
              "      <td>RENT</td>\n",
              "      <td>1</td>\n",
              "      <td>1</td>\n",
              "      <td>14</td>\n",
              "      <td>5.4</td>\n",
              "      <td>default</td>\n",
              "      <td>4</td>\n",
              "      <td>other</td>\n",
              "      <td>RENT</td>\n",
              "      <td>&gt; 1 Year</td>\n",
              "      <td>0.55</td>\n",
              "    </tr>\n",
              "  </tbody>\n",
              "</table>\n",
              "</div>\n",
              "      <button class=\"colab-df-convert\" onclick=\"convertToInteractive('df-c36b29e8-6ac9-432b-9888-52f3e2e30455')\"\n",
              "              title=\"Convert this dataframe to an interactive table.\"\n",
              "              style=\"display:none;\">\n",
              "        \n",
              "  <svg xmlns=\"http://www.w3.org/2000/svg\" height=\"24px\"viewBox=\"0 0 24 24\"\n",
              "       width=\"24px\">\n",
              "    <path d=\"M0 0h24v24H0V0z\" fill=\"none\"/>\n",
              "    <path d=\"M18.56 5.44l.94 2.06.94-2.06 2.06-.94-2.06-.94-.94-2.06-.94 2.06-2.06.94zm-11 1L8.5 8.5l.94-2.06 2.06-.94-2.06-.94L8.5 2.5l-.94 2.06-2.06.94zm10 10l.94 2.06.94-2.06 2.06-.94-2.06-.94-.94-2.06-.94 2.06-2.06.94z\"/><path d=\"M17.41 7.96l-1.37-1.37c-.4-.4-.92-.59-1.43-.59-.52 0-1.04.2-1.43.59L10.3 9.45l-7.72 7.72c-.78.78-.78 2.05 0 2.83L4 21.41c.39.39.9.59 1.41.59.51 0 1.02-.2 1.41-.59l7.78-7.78 2.81-2.81c.8-.78.8-2.07 0-2.86zM5.41 20L4 18.59l7.72-7.72 1.47 1.35L5.41 20z\"/>\n",
              "  </svg>\n",
              "      </button>\n",
              "      \n",
              "  <style>\n",
              "    .colab-df-container {\n",
              "      display:flex;\n",
              "      flex-wrap:wrap;\n",
              "      gap: 12px;\n",
              "    }\n",
              "\n",
              "    .colab-df-convert {\n",
              "      background-color: #E8F0FE;\n",
              "      border: none;\n",
              "      border-radius: 50%;\n",
              "      cursor: pointer;\n",
              "      display: none;\n",
              "      fill: #1967D2;\n",
              "      height: 32px;\n",
              "      padding: 0 0 0 0;\n",
              "      width: 32px;\n",
              "    }\n",
              "\n",
              "    .colab-df-convert:hover {\n",
              "      background-color: #E2EBFA;\n",
              "      box-shadow: 0px 1px 2px rgba(60, 64, 67, 0.3), 0px 1px 3px 1px rgba(60, 64, 67, 0.15);\n",
              "      fill: #174EA6;\n",
              "    }\n",
              "\n",
              "    [theme=dark] .colab-df-convert {\n",
              "      background-color: #3B4455;\n",
              "      fill: #D2E3FC;\n",
              "    }\n",
              "\n",
              "    [theme=dark] .colab-df-convert:hover {\n",
              "      background-color: #434B5C;\n",
              "      box-shadow: 0px 1px 3px 1px rgba(0, 0, 0, 0.15);\n",
              "      filter: drop-shadow(0px 1px 2px rgba(0, 0, 0, 0.3));\n",
              "      fill: #FFFFFF;\n",
              "    }\n",
              "  </style>\n",
              "\n",
              "      <script>\n",
              "        const buttonEl =\n",
              "          document.querySelector('#df-c36b29e8-6ac9-432b-9888-52f3e2e30455 button.colab-df-convert');\n",
              "        buttonEl.style.display =\n",
              "          google.colab.kernel.accessAllowed ? 'block' : 'none';\n",
              "\n",
              "        async function convertToInteractive(key) {\n",
              "          const element = document.querySelector('#df-c36b29e8-6ac9-432b-9888-52f3e2e30455');\n",
              "          const dataTable =\n",
              "            await google.colab.kernel.invokeFunction('convertToInteractive',\n",
              "                                                     [key], {});\n",
              "          if (!dataTable) return;\n",
              "\n",
              "          const docLinkHtml = 'Like what you see? Visit the ' +\n",
              "            '<a target=\"_blank\" href=https://colab.research.google.com/notebooks/data_table.ipynb>data table notebook</a>'\n",
              "            + ' to learn more about interactive tables.';\n",
              "          element.innerHTML = '';\n",
              "          dataTable['output_type'] = 'display_data';\n",
              "          await google.colab.output.renderOutput(dataTable, element);\n",
              "          const docLink = document.createElement('div');\n",
              "          docLink.innerHTML = docLinkHtml;\n",
              "          element.appendChild(docLink);\n",
              "        }\n",
              "      </script>\n",
              "    </div>\n",
              "  </div>\n",
              "  "
            ],
            "text/plain": [
              "   loan_amnt       term  annual_inc  ...  home_   emp_len_  borrower_score\n",
              "0       2500  60 months       30000  ...   RENT   > 1 Year            0.65\n",
              "1       5600  60 months       40000  ...    OWN   > 1 Year            0.80\n",
              "2       5375  60 months       15000  ...   RENT   > 1 Year            0.60\n",
              "3       9000  36 months       30000  ...   RENT   > 1 Year            0.50\n",
              "4      10000  36 months      100000  ...   RENT   > 1 Year            0.55\n",
              "\n",
              "[5 rows x 19 columns]"
            ]
          },
          "metadata": {},
          "execution_count": 19
        }
      ]
    },
    {
      "cell_type": "code",
      "source": [
        "predictors = ['payment_inc_ratio', 'dti', 'revol_bal', 'revol_util']\n",
        "outcome = 'outcome'\n",
        "\n",
        "newloan = loan_data.loc[0:0, predictors]\n",
        "print(newloan)\n",
        "print()\n",
        "\n",
        "X = loan_data.loc[1:, predictors]\n",
        "y = loan_data.loc[1:, outcome]\n",
        "\n",
        "knn = KNeighborsClassifier(n_neighbors=5)\n",
        "knn.fit(X, y)\n",
        "\n",
        "nbrs = knn.kneighbors(newloan)\n",
        "nbrs    # return (neigh_dist, neigh_ind)"
      ],
      "metadata": {
        "colab": {
          "base_uri": "https://localhost:8080/"
        },
        "id": "iq8WZes7VBVL",
        "outputId": "2d9ad50b-059a-4236-9d05-19ddf1dd1622"
      },
      "execution_count": 20,
      "outputs": [
        {
          "output_type": "stream",
          "name": "stdout",
          "text": [
            "   payment_inc_ratio  dti  revol_bal  revol_util\n",
            "0             2.3932  1.0       1687         9.4\n",
            "\n"
          ]
        },
        {
          "output_type": "execute_result",
          "data": {
            "text/plain": [
              "(array([[1.55563118, 5.64040694, 7.13883816, 8.84224262, 8.97277387]]),\n",
              " array([[35535, 33650, 25862, 42952, 43598]]))"
            ]
          },
          "metadata": {},
          "execution_count": 20
        }
      ]
    },
    {
      "cell_type": "code",
      "source": [
        "print(X.iloc[nbrs[1][0], :])"
      ],
      "metadata": {
        "colab": {
          "base_uri": "https://localhost:8080/"
        },
        "id": "UBgCG9e_TXO1",
        "outputId": "3ead4769-7d3c-4af5-8d7c-96aebff2f6f5"
      },
      "execution_count": 21,
      "outputs": [
        {
          "output_type": "stream",
          "name": "stdout",
          "text": [
            "       payment_inc_ratio   dti  revol_bal  revol_util\n",
            "35536            1.47212  1.46       1686        10.0\n",
            "33651            3.38178  6.37       1688         8.4\n",
            "25863            2.36303  1.39       1691         3.5\n",
            "42953            1.28160  7.14       1684         3.9\n",
            "43599            4.12244  8.98       1684         7.2\n"
          ]
        }
      ]
    },
    {
      "cell_type": "code",
      "source": [
        "print(X.loc[nbrs[1][0] + 1, :])"
      ],
      "metadata": {
        "colab": {
          "base_uri": "https://localhost:8080/"
        },
        "id": "jWpZ-EWuS6sh",
        "outputId": "69c1b9cc-4aa1-4df9-f7af-e9d4aae1b21b"
      },
      "execution_count": 22,
      "outputs": [
        {
          "output_type": "stream",
          "name": "stdout",
          "text": [
            "       payment_inc_ratio   dti  revol_bal  revol_util\n",
            "35536            1.47212  1.46       1686        10.0\n",
            "33651            3.38178  6.37       1688         8.4\n",
            "25863            2.36303  1.39       1691         3.5\n",
            "42953            1.28160  7.14       1684         3.9\n",
            "43599            4.12244  8.98       1684         7.2\n"
          ]
        }
      ]
    },
    {
      "cell_type": "code",
      "source": [
        "newloan = loan_data.loc[0:0, predictors]\n",
        "X = loan_data.loc[1:, predictors]\n",
        "y = loan_data.loc[1:, outcome]\n",
        "\n",
        "scaler = preprocessing.StandardScaler()\n",
        "\n",
        "scaler.fit(X)\n",
        "X_std = scaler.transform(X)\n",
        "newloan_std = scaler.transform(newloan)\n",
        "\n",
        "knn = KNeighborsClassifier(n_neighbors=5)\n",
        "knn.fit(X_std, y)\n",
        "\n",
        "nbrs = knn.kneighbors(newloan_std)\n",
        "print(X.iloc[nbrs[1][0], :])"
      ],
      "metadata": {
        "colab": {
          "base_uri": "https://localhost:8080/"
        },
        "id": "GGpQw7iMWm2Y",
        "outputId": "120d9185-f03e-4cb8-9ff2-472e9f268535"
      },
      "execution_count": 23,
      "outputs": [
        {
          "output_type": "stream",
          "name": "stdout",
          "text": [
            "       payment_inc_ratio   dti  revol_bal  revol_util\n",
            "2080             2.61091  1.03       1218         9.7\n",
            "1438             2.34343  0.51        278         9.9\n",
            "30215            2.71200  1.34       1075         8.5\n",
            "28542            2.39760  0.74       2917         7.4\n",
            "44737            2.34309  1.37        488         7.2\n"
          ]
        }
      ]
    },
    {
      "cell_type": "code",
      "source": [
        "scaler.fit(X * 1.0)\n",
        "X_std = scaler.transform(X * 1.0)\n",
        "newloan_std = scaler.transform(newloan * 1.0)\n",
        "\n",
        "knn = KNeighborsClassifier(n_neighbors=5)\n",
        "knn.fit(X_std, y)\n",
        "\n",
        "nbrs = knn.kneighbors(newloan_std)\n",
        "print(X.iloc[nbrs[1][0], :])"
      ],
      "metadata": {
        "colab": {
          "base_uri": "https://localhost:8080/"
        },
        "id": "heArUIkVVFh_",
        "outputId": "5752f42b-1833-4aa2-8586-0bf8582e8925"
      },
      "execution_count": 24,
      "outputs": [
        {
          "output_type": "stream",
          "name": "stdout",
          "text": [
            "       payment_inc_ratio   dti  revol_bal  revol_util\n",
            "2080             2.61091  1.03       1218         9.7\n",
            "1438             2.34343  0.51        278         9.9\n",
            "30215            2.71200  1.34       1075         8.5\n",
            "28542            2.39760  0.74       2917         7.4\n",
            "44737            2.34309  1.37        488         7.2\n"
          ]
        }
      ]
    },
    {
      "cell_type": "markdown",
      "source": [
        "### **6.1.6 KNN as a Feature Engineering**"
      ],
      "metadata": {
        "id": "1dgHDwZ1VMGM"
      }
    },
    {
      "cell_type": "code",
      "source": [
        "loan_data = pd.read_csv(LOAN_DATA_CSV)\n",
        "loan_data = loan_data.drop(columns=['Unnamed: 0', 'status'])\n",
        "loan_data['outcome'] = pd.Categorical(loan_data['outcome'], \n",
        "                                      categories=['paid off', 'default'], \n",
        "                                      ordered=True)\n",
        "\n",
        "predictors = ['dti', 'revol_bal', 'revol_util', 'open_acc', \n",
        "              'delinq_2yrs_zero', 'pub_rec_zero']\n",
        "outcome = 'outcome'\n",
        "\n",
        "X = loan_data[predictors]\n",
        "y = loan_data[outcome]\n",
        "\n",
        "knn = KNeighborsClassifier(n_neighbors=20)\n",
        "knn.fit(X, y)"
      ],
      "metadata": {
        "colab": {
          "base_uri": "https://localhost:8080/"
        },
        "id": "iW6TDigGVSxo",
        "outputId": "f9ebb450-1d08-4807-fe3e-e8f8c2bdd118"
      },
      "execution_count": 26,
      "outputs": [
        {
          "output_type": "execute_result",
          "data": {
            "text/plain": [
              "KNeighborsClassifier(n_neighbors=20)"
            ]
          },
          "metadata": {},
          "execution_count": 26
        }
      ]
    },
    {
      "cell_type": "code",
      "source": [
        "print(knn.predict_proba(X))\n",
        "print(np.shape(knn.predict_proba(X)))\n",
        "print()\n",
        "X"
      ],
      "metadata": {
        "colab": {
          "base_uri": "https://localhost:8080/",
          "height": 580
        },
        "id": "nxOmY1vAyg8G",
        "outputId": "355c8048-5519-40af-c258-2265c9127999"
      },
      "execution_count": 34,
      "outputs": [
        {
          "output_type": "stream",
          "name": "stdout",
          "text": [
            "[[0.35 0.65]\n",
            " [0.2  0.8 ]\n",
            " [0.4  0.6 ]\n",
            " ...\n",
            " [0.45 0.55]\n",
            " [0.35 0.65]\n",
            " [0.5  0.5 ]]\n",
            "(45342, 2)\n",
            "\n"
          ]
        },
        {
          "output_type": "execute_result",
          "data": {
            "text/html": [
              "\n",
              "  <div id=\"df-d07fad6f-a3d0-4f33-bc65-d9b8449ae4a4\">\n",
              "    <div class=\"colab-df-container\">\n",
              "      <div>\n",
              "<style scoped>\n",
              "    .dataframe tbody tr th:only-of-type {\n",
              "        vertical-align: middle;\n",
              "    }\n",
              "\n",
              "    .dataframe tbody tr th {\n",
              "        vertical-align: top;\n",
              "    }\n",
              "\n",
              "    .dataframe thead th {\n",
              "        text-align: right;\n",
              "    }\n",
              "</style>\n",
              "<table border=\"1\" class=\"dataframe\">\n",
              "  <thead>\n",
              "    <tr style=\"text-align: right;\">\n",
              "      <th></th>\n",
              "      <th>dti</th>\n",
              "      <th>revol_bal</th>\n",
              "      <th>revol_util</th>\n",
              "      <th>open_acc</th>\n",
              "      <th>delinq_2yrs_zero</th>\n",
              "      <th>pub_rec_zero</th>\n",
              "    </tr>\n",
              "  </thead>\n",
              "  <tbody>\n",
              "    <tr>\n",
              "      <th>0</th>\n",
              "      <td>1.00</td>\n",
              "      <td>1687</td>\n",
              "      <td>9.4</td>\n",
              "      <td>3</td>\n",
              "      <td>1</td>\n",
              "      <td>1</td>\n",
              "    </tr>\n",
              "    <tr>\n",
              "      <th>1</th>\n",
              "      <td>5.55</td>\n",
              "      <td>5210</td>\n",
              "      <td>32.6</td>\n",
              "      <td>11</td>\n",
              "      <td>1</td>\n",
              "      <td>1</td>\n",
              "    </tr>\n",
              "    <tr>\n",
              "      <th>2</th>\n",
              "      <td>18.08</td>\n",
              "      <td>9279</td>\n",
              "      <td>36.5</td>\n",
              "      <td>2</td>\n",
              "      <td>1</td>\n",
              "      <td>1</td>\n",
              "    </tr>\n",
              "    <tr>\n",
              "      <th>3</th>\n",
              "      <td>10.08</td>\n",
              "      <td>10452</td>\n",
              "      <td>91.7</td>\n",
              "      <td>4</td>\n",
              "      <td>1</td>\n",
              "      <td>1</td>\n",
              "    </tr>\n",
              "    <tr>\n",
              "      <th>4</th>\n",
              "      <td>7.06</td>\n",
              "      <td>11997</td>\n",
              "      <td>55.5</td>\n",
              "      <td>14</td>\n",
              "      <td>1</td>\n",
              "      <td>1</td>\n",
              "    </tr>\n",
              "    <tr>\n",
              "      <th>...</th>\n",
              "      <td>...</td>\n",
              "      <td>...</td>\n",
              "      <td>...</td>\n",
              "      <td>...</td>\n",
              "      <td>...</td>\n",
              "      <td>...</td>\n",
              "    </tr>\n",
              "    <tr>\n",
              "      <th>45337</th>\n",
              "      <td>18.97</td>\n",
              "      <td>9725</td>\n",
              "      <td>58.2</td>\n",
              "      <td>9</td>\n",
              "      <td>1</td>\n",
              "      <td>0</td>\n",
              "    </tr>\n",
              "    <tr>\n",
              "      <th>45338</th>\n",
              "      <td>13.24</td>\n",
              "      <td>4925</td>\n",
              "      <td>40.7</td>\n",
              "      <td>13</td>\n",
              "      <td>0</td>\n",
              "      <td>1</td>\n",
              "    </tr>\n",
              "    <tr>\n",
              "      <th>45339</th>\n",
              "      <td>7.95</td>\n",
              "      <td>6574</td>\n",
              "      <td>73.0</td>\n",
              "      <td>8</td>\n",
              "      <td>1</td>\n",
              "      <td>1</td>\n",
              "    </tr>\n",
              "    <tr>\n",
              "      <th>45340</th>\n",
              "      <td>26.91</td>\n",
              "      <td>10303</td>\n",
              "      <td>32.4</td>\n",
              "      <td>10</td>\n",
              "      <td>1</td>\n",
              "      <td>1</td>\n",
              "    </tr>\n",
              "    <tr>\n",
              "      <th>45341</th>\n",
              "      <td>7.82</td>\n",
              "      <td>16676</td>\n",
              "      <td>91.6</td>\n",
              "      <td>13</td>\n",
              "      <td>0</td>\n",
              "      <td>1</td>\n",
              "    </tr>\n",
              "  </tbody>\n",
              "</table>\n",
              "<p>45342 rows × 6 columns</p>\n",
              "</div>\n",
              "      <button class=\"colab-df-convert\" onclick=\"convertToInteractive('df-d07fad6f-a3d0-4f33-bc65-d9b8449ae4a4')\"\n",
              "              title=\"Convert this dataframe to an interactive table.\"\n",
              "              style=\"display:none;\">\n",
              "        \n",
              "  <svg xmlns=\"http://www.w3.org/2000/svg\" height=\"24px\"viewBox=\"0 0 24 24\"\n",
              "       width=\"24px\">\n",
              "    <path d=\"M0 0h24v24H0V0z\" fill=\"none\"/>\n",
              "    <path d=\"M18.56 5.44l.94 2.06.94-2.06 2.06-.94-2.06-.94-.94-2.06-.94 2.06-2.06.94zm-11 1L8.5 8.5l.94-2.06 2.06-.94-2.06-.94L8.5 2.5l-.94 2.06-2.06.94zm10 10l.94 2.06.94-2.06 2.06-.94-2.06-.94-.94-2.06-.94 2.06-2.06.94z\"/><path d=\"M17.41 7.96l-1.37-1.37c-.4-.4-.92-.59-1.43-.59-.52 0-1.04.2-1.43.59L10.3 9.45l-7.72 7.72c-.78.78-.78 2.05 0 2.83L4 21.41c.39.39.9.59 1.41.59.51 0 1.02-.2 1.41-.59l7.78-7.78 2.81-2.81c.8-.78.8-2.07 0-2.86zM5.41 20L4 18.59l7.72-7.72 1.47 1.35L5.41 20z\"/>\n",
              "  </svg>\n",
              "      </button>\n",
              "      \n",
              "  <style>\n",
              "    .colab-df-container {\n",
              "      display:flex;\n",
              "      flex-wrap:wrap;\n",
              "      gap: 12px;\n",
              "    }\n",
              "\n",
              "    .colab-df-convert {\n",
              "      background-color: #E8F0FE;\n",
              "      border: none;\n",
              "      border-radius: 50%;\n",
              "      cursor: pointer;\n",
              "      display: none;\n",
              "      fill: #1967D2;\n",
              "      height: 32px;\n",
              "      padding: 0 0 0 0;\n",
              "      width: 32px;\n",
              "    }\n",
              "\n",
              "    .colab-df-convert:hover {\n",
              "      background-color: #E2EBFA;\n",
              "      box-shadow: 0px 1px 2px rgba(60, 64, 67, 0.3), 0px 1px 3px 1px rgba(60, 64, 67, 0.15);\n",
              "      fill: #174EA6;\n",
              "    }\n",
              "\n",
              "    [theme=dark] .colab-df-convert {\n",
              "      background-color: #3B4455;\n",
              "      fill: #D2E3FC;\n",
              "    }\n",
              "\n",
              "    [theme=dark] .colab-df-convert:hover {\n",
              "      background-color: #434B5C;\n",
              "      box-shadow: 0px 1px 3px 1px rgba(0, 0, 0, 0.15);\n",
              "      filter: drop-shadow(0px 1px 2px rgba(0, 0, 0, 0.3));\n",
              "      fill: #FFFFFF;\n",
              "    }\n",
              "  </style>\n",
              "\n",
              "      <script>\n",
              "        const buttonEl =\n",
              "          document.querySelector('#df-d07fad6f-a3d0-4f33-bc65-d9b8449ae4a4 button.colab-df-convert');\n",
              "        buttonEl.style.display =\n",
              "          google.colab.kernel.accessAllowed ? 'block' : 'none';\n",
              "\n",
              "        async function convertToInteractive(key) {\n",
              "          const element = document.querySelector('#df-d07fad6f-a3d0-4f33-bc65-d9b8449ae4a4');\n",
              "          const dataTable =\n",
              "            await google.colab.kernel.invokeFunction('convertToInteractive',\n",
              "                                                     [key], {});\n",
              "          if (!dataTable) return;\n",
              "\n",
              "          const docLinkHtml = 'Like what you see? Visit the ' +\n",
              "            '<a target=\"_blank\" href=https://colab.research.google.com/notebooks/data_table.ipynb>data table notebook</a>'\n",
              "            + ' to learn more about interactive tables.';\n",
              "          element.innerHTML = '';\n",
              "          dataTable['output_type'] = 'display_data';\n",
              "          await google.colab.output.renderOutput(dataTable, element);\n",
              "          const docLink = document.createElement('div');\n",
              "          docLink.innerHTML = docLinkHtml;\n",
              "          element.appendChild(docLink);\n",
              "        }\n",
              "      </script>\n",
              "    </div>\n",
              "  </div>\n",
              "  "
            ],
            "text/plain": [
              "         dti  revol_bal  revol_util  open_acc  delinq_2yrs_zero  pub_rec_zero\n",
              "0       1.00       1687         9.4         3                 1             1\n",
              "1       5.55       5210        32.6        11                 1             1\n",
              "2      18.08       9279        36.5         2                 1             1\n",
              "3      10.08      10452        91.7         4                 1             1\n",
              "4       7.06      11997        55.5        14                 1             1\n",
              "...      ...        ...         ...       ...               ...           ...\n",
              "45337  18.97       9725        58.2         9                 1             0\n",
              "45338  13.24       4925        40.7        13                 0             1\n",
              "45339   7.95       6574        73.0         8                 1             1\n",
              "45340  26.91      10303        32.4        10                 1             1\n",
              "45341   7.82      16676        91.6        13                 0             1\n",
              "\n",
              "[45342 rows x 6 columns]"
            ]
          },
          "metadata": {},
          "execution_count": 34
        }
      ]
    },
    {
      "cell_type": "code",
      "source": [
        "plt.scatter(range(len(X)), [bs + random.gauss(0, 0.015) for bs in knn.predict_proba(X)[:,0]], \n",
        "            alpha=0.1, marker='.')"
      ],
      "metadata": {
        "colab": {
          "base_uri": "https://localhost:8080/",
          "height": 282
        },
        "id": "b9dfTXTKycS6",
        "outputId": "76f364da-d6ac-4a1d-dcb1-4b7450841640"
      },
      "execution_count": 37,
      "outputs": [
        {
          "output_type": "execute_result",
          "data": {
            "text/plain": [
              "<matplotlib.collections.PathCollection at 0x7f2bcd906890>"
            ]
          },
          "metadata": {},
          "execution_count": 37
        },
        {
          "output_type": "display_data",
          "data": {
            "image/png": "[encoded data removed]",
            "text/plain": [
              "<Figure size 432x288 with 1 Axes>"
            ]
          },
          "metadata": {
            "needs_background": "light"
          }
        }
      ]
    },
    {
      "cell_type": "code",
      "source": [
        "print(knn.predict_proba(X)[:, 0])\n",
        "print('mean:', np.mean(knn.predict_proba(X)[:, 0]))\n",
        "print('std:', np.std(knn.predict_proba(X)[:, 0]))\n",
        "print('min:', np.min(knn.predict_proba(X)[:, 0]))\n",
        "print('max:', np.max(knn.predict_proba(X)[:, 0]))"
      ],
      "metadata": {
        "colab": {
          "base_uri": "https://localhost:8080/"
        },
        "id": "IJrjLp9b0v_z",
        "outputId": "73a5f7ce-5466-4a21-a547-b6d93845f556"
      },
      "execution_count": 42,
      "outputs": [
        {
          "output_type": "stream",
          "name": "stdout",
          "text": [
            "[0.35 0.2  0.4  ... 0.45 0.35 0.5 ]\n",
            "mean: 0.5010983194389308\n",
            "std: 0.128734223078781\n",
            "min: 0.0\n",
            "max: 0.95\n"
          ]
        }
      ]
    },
    {
      "cell_type": "code",
      "source": [
        "loan_data['borrower_score'] = knn.predict_proba(X)[:, 0]\n",
        "print(loan_data['borrower_score'].describe())"
      ],
      "metadata": {
        "colab": {
          "base_uri": "https://localhost:8080/"
        },
        "id": "r3HzpJDv0fYZ",
        "outputId": "7683ca77-f6a7-4d2d-9c6a-177c4f4729dc"
      },
      "execution_count": 38,
      "outputs": [
        {
          "output_type": "stream",
          "name": "stdout",
          "text": [
            "count    45342.000000\n",
            "mean         0.501098\n",
            "std          0.128736\n",
            "min          0.000000\n",
            "25%          0.400000\n",
            "50%          0.500000\n",
            "75%          0.600000\n",
            "max          0.950000\n",
            "Name: borrower_score, dtype: float64\n"
          ]
        }
      ]
    },
    {
      "cell_type": "code",
      "source": [
        "plt.scatter(range(len(X)), [bs + random.gauss(0, 0.015) for bs in knn.predict_proba(X)[:,1]], \n",
        "            alpha=0.1, marker='.')"
      ],
      "metadata": {
        "colab": {
          "base_uri": "https://localhost:8080/",
          "height": 282
        },
        "id": "tJ3K1zw21Y6O",
        "outputId": "7d4c6896-9647-4751-a61f-0877b7f9aea1"
      },
      "execution_count": 43,
      "outputs": [
        {
          "output_type": "execute_result",
          "data": {
            "text/plain": [
              "<matplotlib.collections.PathCollection at 0x7f2bcd6c0c50>"
            ]
          },
          "metadata": {},
          "execution_count": 43
        },
        {
          "output_type": "display_data",
          "data": {
            "image/png": "[encoded data removed]",
            "text/plain": [
              "<Figure size 432x288 with 1 Axes>"
            ]
          },
          "metadata": {
            "needs_background": "light"
          }
        }
      ]
    },
    {
      "cell_type": "markdown",
      "source": [
        "## **6.2 Tree Models**\n",
        "### **6.2.1 A Simple Example**\n",
        "The package _scikit-learn_ has the class `DecisionTreeClassifier` to build a decision tree model. The function `plotDecisionTree` from the _dmba_ package can be used to visualize the tree."
      ],
      "metadata": {
        "id": "QuaBOGwrVTqX"
      }
    },
    {
      "cell_type": "code",
      "source": [
        "loan3000 = pd.read_csv(LOAN3000_CSV)\n",
        "\n",
        "predictors = ['borrower_score', 'payment_inc_ratio']\n",
        "outcome = 'outcome'\n",
        "\n",
        "X = loan3000[predictors]\n",
        "y = loan3000[outcome]\n",
        "\n",
        "loan_tree = DecisionTreeClassifier(random_state=1, criterion='entropy',\n",
        "                                   min_impurity_decrease=0.003)\n",
        "loan_tree.fit(X, y)\n",
        "plotDecisionTree(loan_tree, feature_names=predictors,\n",
        "                 class_names=loan_tree.classes_)"
      ],
      "metadata": {
        "colab": {
          "base_uri": "https://localhost:8080/",
          "height": 514
        },
        "id": "tMk0xqxnVpJy",
        "outputId": "7510f858-edda-440e-eccf-62a60021cc42"
      },
      "execution_count": 45,
      "outputs": [
        {
          "output_type": "execute_result",
          "data": {
            "image/png": "[encoded data removed]",
            "text/plain": [
              "<IPython.core.display.Image object>"
            ]
          },
          "metadata": {},
          "execution_count": 45
        }
      ]
    },
    {
      "cell_type": "code",
      "source": [
        "print(textDecisionTree(loan_tree))"
      ],
      "metadata": {
        "colab": {
          "base_uri": "https://localhost:8080/"
        },
        "id": "DHFDnc1nVpxU",
        "outputId": "8bcf33e4-bd7b-481e-faa1-c4b3ece89f76"
      },
      "execution_count": 46,
      "outputs": [
        {
          "output_type": "stream",
          "name": "stdout",
          "text": [
            "node=0 test node: go to node 1 if 0 <= 0.5750000178813934 else to node 6\n",
            "  node=1 test node: go to node 2 if 0 <= 0.32500000298023224 else to node 3\n",
            "    node=2 leaf node: [[0.785, 0.215]]\n",
            "    node=3 test node: go to node 4 if 1 <= 10.42264986038208 else to node 5\n",
            "      node=4 leaf node: [[0.488, 0.512]]\n",
            "      node=5 leaf node: [[0.613, 0.387]]\n",
            "  node=6 test node: go to node 7 if 1 <= 9.19082498550415 else to node 10\n",
            "    node=7 test node: go to node 8 if 0 <= 0.7249999940395355 else to node 9\n",
            "      node=8 leaf node: [[0.247, 0.753]]\n",
            "      node=9 leaf node: [[0.073, 0.927]]\n",
            "    node=10 leaf node: [[0.457, 0.543]]\n"
          ]
        }
      ]
    },
    {
      "cell_type": "markdown",
      "source": [
        "### **6.2.2 The Recursive Partitioning Algorithm**"
      ],
      "metadata": {
        "id": "wJW12iK_VuBM"
      }
    },
    {
      "cell_type": "code",
      "source": [
        "fig, ax = plt.subplots(figsize=(6, 4))\n",
        "\n",
        "loan3000.loc[loan3000.outcome=='paid off'].plot(\n",
        "    x='borrower_score', y='payment_inc_ratio', style='.', \n",
        "    markerfacecolor='none', markeredgecolor='C1', ax=ax)\n",
        "loan3000.loc[loan3000.outcome=='default'].plot(\n",
        "    x='borrower_score', y='payment_inc_ratio', style='o', \n",
        "    markerfacecolor='none', markeredgecolor='C0', ax=ax)\n",
        "\n",
        "ax.legend(['paid off', 'default']);\n",
        "ax.set_xlim(0, 1)\n",
        "ax.set_ylim(0, 25)\n",
        "ax.set_xlabel('borrower_score')\n",
        "ax.set_ylabel('payment_inc_ratio')\n",
        "\n",
        "x0 = 0.575\n",
        "x1a = 0.325; y1b = 9.191\n",
        "y2a = 10.423; x2b = 0.725\n",
        "\n",
        "ax.plot((x0, x0), (0, 25), color='grey')\n",
        "ax.plot((x1a, x1a), (0, 25), color='grey')\n",
        "ax.plot((x0, 1), (y1b, y1b), color='grey')\n",
        "ax.plot((x1a, x0), (y2a, y2a), color='grey')\n",
        "ax.plot((x2b, x2b), (0, y1b), color='grey')\n",
        "\n",
        "labels = [('default', (x1a / 2, 25 / 2)),\n",
        "          ('default', ((x0 + x1a) / 2, (25 + y2a) / 2)),\n",
        "          ('paid off', ((x0 + x1a) / 2, y2a / 2)),\n",
        "          ('paid off', ((1 + x0) / 2, (y1b + 25) / 2)),\n",
        "          ('paid off', ((1 + x2b) / 2, (y1b + 0) / 2)),\n",
        "          ('paid off', ((x0 + x2b) / 2, (y1b + 0) / 2)),\n",
        "         ]\n",
        "for label, (x, y) in labels:\n",
        "    ax.text(x, y, label, bbox={'facecolor':'white'},\n",
        "            verticalalignment='center', horizontalalignment='center')\n",
        "\n",
        "plt.tight_layout()\n",
        "plt.show()"
      ],
      "metadata": {
        "colab": {
          "base_uri": "https://localhost:8080/",
          "height": 297
        },
        "id": "P5BDAR-KV6F3",
        "outputId": "395c04c9-1fd8-4ec9-a936-08002d9e3a96"
      },
      "execution_count": 50,
      "outputs": [
        {
          "output_type": "display_data",
          "data": {
            "image/png": "[encoded data removed]",
            "text/plain": [
              "<Figure size 432x288 with 1 Axes>"
            ]
          },
          "metadata": {
            "needs_background": "light"
          }
        }
      ]
    },
    {
      "cell_type": "markdown",
      "source": [
        "### **6.2.3 Measuring Homogeneity or Impurity**"
      ],
      "metadata": {
        "id": "dCRU0gX2V7Bq"
      }
    },
    {
      "cell_type": "code",
      "source": [
        "def entropyFunction(x):\n",
        "    if x == 0: return 0\n",
        "    return -x * math.log(x, 2) - (1 - x) * math.log(1 - x, 2)\n",
        "\n",
        "def giniFunction(x):\n",
        "    return x * (1 - x)"
      ],
      "metadata": {
        "id": "PoI0OklaWDV3"
      },
      "execution_count": 51,
      "outputs": []
    },
    {
      "cell_type": "code",
      "source": [
        "x = np.linspace(0, 1.0, 100)\n",
        "\n",
        "impure = pd.DataFrame({\n",
        "    'x': x,\n",
        "    'Gini_orig': [giniFunction(xi) for xi in x]\n",
        "})\n",
        "\n",
        "fig, ax = plt.subplots(figsize=(4, 4))\n",
        "impure.plot(x='x', y='Gini_orig', ax=ax, linestyle=':')\n",
        "\n",
        "plt.tight_layout()\n",
        "plt.show()"
      ],
      "metadata": {
        "colab": {
          "base_uri": "https://localhost:8080/",
          "height": 297
        },
        "id": "MqsB6QL9Ez-J",
        "outputId": "597800dd-a182-4440-d6e3-1b127d03544d"
      },
      "execution_count": 59,
      "outputs": [
        {
          "output_type": "display_data",
          "data": {
            "image/png": "[encoded data removed]",
            "text/plain": [
              "<Figure size 288x288 with 1 Axes>"
            ]
          },
          "metadata": {
            "needs_background": "light"
          }
        }
      ]
    },
    {
      "cell_type": "code",
      "source": [
        "x = np.linspace(0, 0.5, 50)\n",
        "impure = pd.DataFrame({\n",
        "    'x': x,\n",
        "    'Accuracy': 2 * x,\n",
        "    'Gini': [giniFunction(xi) / giniFunction(.5) for xi in x],\n",
        "    'Entropy': [entropyFunction(xi) for xi in x],\n",
        "})"
      ],
      "metadata": {
        "id": "ojXINA6HFRfu"
      },
      "execution_count": 55,
      "outputs": []
    },
    {
      "cell_type": "code",
      "source": [
        "fig, ax = plt.subplots(figsize=(4, 4))\n",
        "\n",
        "impure.plot(x='x', y='Accuracy', ax=ax, linestyle='solid')\n",
        "impure.plot(x='x', y='Entropy', ax=ax, linestyle='--')\n",
        "impure.plot(x='x', y='Gini', ax=ax, linestyle=':')\n",
        "\n",
        "plt.tight_layout()\n",
        "plt.show()"
      ],
      "metadata": {
        "colab": {
          "base_uri": "https://localhost:8080/",
          "height": 297
        },
        "id": "-uX0nNiwWGiy",
        "outputId": "ab2199c6-641c-4079-8d10-8da9c61b30f2"
      },
      "execution_count": 56,
      "outputs": [
        {
          "output_type": "display_data",
          "data": {
            "image/png": "[encoded data removed]",
            "text/plain": [
              "<Figure size 288x288 with 1 Axes>"
            ]
          },
          "metadata": {
            "needs_background": "light"
          }
        }
      ]
    },
    {
      "cell_type": "markdown",
      "source": [
        "## **6.3 Bagging and the Random Forest**\n",
        "### **6.3.2 Random Forest**"
      ],
      "metadata": {
        "id": "1n0vKnX9WMOA"
      }
    },
    {
      "cell_type": "code",
      "source": [
        "predictors = ['borrower_score', 'payment_inc_ratio']\n",
        "outcome = 'outcome'\n",
        "\n",
        "X = loan3000[predictors]\n",
        "y = loan3000[outcome]\n",
        "\n",
        "rf = RandomForestClassifier(n_estimators=500, random_state=1, \n",
        "                            oob_score=True)\n",
        "rf.fit(X, y)\n",
        "print(rf.oob_decision_function_)"
      ],
      "metadata": {
        "id": "py09nD28WW7O"
      },
      "execution_count": null,
      "outputs": []
    },
    {
      "cell_type": "code",
      "source": [
        "n_estimator = list(range(20, 510, 5))\n",
        "oobScores = []\n",
        "for n in n_estimator:\n",
        "    rf = RandomForestClassifier(n_estimators=n, \n",
        "                                criterion='entropy', max_depth=5,\n",
        "                                random_state=1, oob_score=True)\n",
        "    rf.fit(X, y)\n",
        "    oobScores.append(rf.oob_score_)"
      ],
      "metadata": {
        "id": "YHRoUVKmWZrt"
      },
      "execution_count": null,
      "outputs": []
    },
    {
      "cell_type": "code",
      "source": [
        "pd.DataFrame({\n",
        "    'n': n_estimator, \n",
        "    'oobScore': oobScores\n",
        "}).plot(x='n', y='oobScore')"
      ],
      "metadata": {
        "id": "5vfq7BxmWccW"
      },
      "execution_count": null,
      "outputs": []
    },
    {
      "cell_type": "code",
      "source": [
        "predictions = X.copy()\n",
        "predictions['prediction'] = rf.predict(X)\n",
        "predictions.head()\n",
        "\n",
        "fig, ax = plt.subplots(figsize=(4, 4))\n",
        "\n",
        "predictions.loc[predictions.prediction=='paid off'].plot(\n",
        "    x='borrower_score', y='payment_inc_ratio', style='.',\n",
        "    markerfacecolor='none', markeredgecolor='C1', ax=ax)\n",
        "predictions.loc[predictions.prediction=='default'].plot(\n",
        "    x='borrower_score', y='payment_inc_ratio', style='o',\n",
        "    markerfacecolor='none', markeredgecolor='C0', ax=ax)\n",
        "ax.legend(['paid off', 'default']);\n",
        "ax.set_xlim(0, 1)\n",
        "ax.set_ylim(0, 25)\n",
        "ax.set_xlabel('borrower_score')\n",
        "ax.set_ylabel('payment_inc_ratio')\n",
        "\n",
        "plt.tight_layout()\n",
        "plt.show()"
      ],
      "metadata": {
        "id": "rr-kzYkHWf8s"
      },
      "execution_count": null,
      "outputs": []
    },
    {
      "cell_type": "markdown",
      "source": [
        "### **6.3.3 Variable importance**\n",
        "This is different to R. The accuracy decrease is not available out of the box."
      ],
      "metadata": {
        "id": "pKtwpUvoWiPa"
      }
    },
    {
      "cell_type": "code",
      "source": [
        "predictors = ['loan_amnt', 'term', 'annual_inc', 'dti', \n",
        "              'payment_inc_ratio', 'revol_bal', 'revol_util', \n",
        "              'purpose', 'delinq_2yrs_zero', 'pub_rec_zero', \n",
        "              'open_acc', 'grade', 'emp_length', 'purpose_', \n",
        "              'home_', 'emp_len_', 'borrower_score']\n",
        "outcome = 'outcome'\n",
        "\n",
        "X = pd.get_dummies(loan_data[predictors], drop_first=True)\n",
        "y = loan_data[outcome]\n",
        "\n",
        "rf_all = RandomForestClassifier(n_estimators=500, random_state=1)\n",
        "rf_all.fit(X, y)\n",
        "\n",
        "rf_all_entropy = RandomForestClassifier(n_estimators=500, random_state=1,\n",
        "                                        criterion='entropy')\n",
        "print(rf_all_entropy.fit(X, y))"
      ],
      "metadata": {
        "id": "R-8blRhhWt7V"
      },
      "execution_count": null,
      "outputs": []
    },
    {
      "cell_type": "code",
      "source": [
        "rf = RandomForestClassifier(n_estimators=500)\n",
        "scores = defaultdict(list)\n",
        " \n",
        "# crossvalidate the scores on a number of different random splits of the data\n",
        "for _ in range(3):\n",
        "    train_X, valid_X, train_y, valid_y = train_test_split(X, y, \n",
        "                                                          test_size=0.3)\n",
        "    rf.fit(train_X, train_y)\n",
        "    acc = metrics.accuracy_score(valid_y, rf.predict(valid_X))\n",
        "    for column in X.columns:\n",
        "        X_t = valid_X.copy()\n",
        "        X_t[column] = np.random.permutation(X_t[column].values)\n",
        "        shuff_acc = metrics.accuracy_score(valid_y, rf.predict(X_t))\n",
        "        scores[column].append((acc-shuff_acc)/acc)\n",
        "print('Features sorted by their score:')\n",
        "print(sorted([(round(np.mean(score), 4), feat) for\n",
        "              feat, score in scores.items()], reverse=True))"
      ],
      "metadata": {
        "id": "Byz274rhWx_G"
      },
      "execution_count": null,
      "outputs": []
    },
    {
      "cell_type": "code",
      "source": [
        "importances = rf_all.feature_importances_\n",
        "\n",
        "df = pd.DataFrame({\n",
        "    'feature': X.columns, \n",
        "    'Accuracy decrease': [np.mean(scores[column]) for column in \n",
        "                         X.columns],\n",
        "    'Gini decrease': rf_all.feature_importances_, \n",
        "    'Entropy decrease': rf_all_entropy.feature_importances_,\n",
        "})\n",
        "df = df.sort_values('Accuracy decrease')\n",
        "\n",
        "fig, axes = plt.subplots(ncols=2, figsize=(8, 5))\n",
        "ax = df.plot(kind='barh', x='feature', y='Accuracy decrease', \n",
        "             legend=False, ax=axes[0])\n",
        "ax.set_ylabel('')\n",
        "\n",
        "ax = df.plot(kind='barh', x='feature', y='Gini decrease', \n",
        "             legend=False, ax=axes[1])\n",
        "ax.set_ylabel('')\n",
        "ax.get_yaxis().set_visible(False)\n",
        "\n",
        "plt.tight_layout()\n",
        "plt.show()"
      ],
      "metadata": {
        "id": "c-sVfSR6W1Pf"
      },
      "execution_count": null,
      "outputs": []
    },
    {
      "cell_type": "markdown",
      "source": [
        "## **6.4 Boosting**\n",
        "### **6.4.2 XGBoost**"
      ],
      "metadata": {
        "id": "a1uhq77SW6S7"
      }
    },
    {
      "cell_type": "code",
      "source": [
        "predictors = ['borrower_score', 'payment_inc_ratio']\n",
        "outcome = 'outcome'\n",
        "\n",
        "X = loan3000[predictors]\n",
        "y = pd.Series([1 if o == 'default' else 0 for o in loan3000[outcome]])\n",
        "\n",
        "xgb = XGBClassifier(objective='binary:logistic', subsample=.63, \n",
        "                    use_label_encoder=False, eval_metric='error')\n",
        "print(xgb.fit(X, y))"
      ],
      "metadata": {
        "id": "kCQr5jFlXDVk"
      },
      "execution_count": null,
      "outputs": []
    },
    {
      "cell_type": "code",
      "source": [
        "xgb_df = X.copy()\n",
        "xgb_df['prediction'] = ['default' if p == 1 else 'paid off' for p in xgb.predict(X)]\n",
        "xgb_df['prob_default'] = xgb.predict_proba(X)[:, 0]\n",
        "print(xgb_df.head())"
      ],
      "metadata": {
        "id": "B0OJ8I5XXF_U"
      },
      "execution_count": null,
      "outputs": []
    },
    {
      "cell_type": "code",
      "source": [
        "fig, ax = plt.subplots(figsize=(6, 4))\n",
        "\n",
        "xgb_df.loc[xgb_df.prediction=='paid off'].plot(\n",
        "    x='borrower_score', y='payment_inc_ratio', style='.', \n",
        "    markerfacecolor='none', markeredgecolor='C1', ax=ax)\n",
        "xgb_df.loc[xgb_df.prediction=='default'].plot(\n",
        "    x='borrower_score', y='payment_inc_ratio', style='o', \n",
        "    markerfacecolor='none', markeredgecolor='C0', ax=ax)\n",
        "ax.legend(['paid off', 'default']);\n",
        "ax.set_xlim(0, 1)\n",
        "ax.set_ylim(0, 25)\n",
        "ax.set_xlabel('borrower_score')\n",
        "ax.set_ylabel('payment_inc_ratio')\n",
        "\n",
        "plt.tight_layout()\n",
        "plt.show()"
      ],
      "metadata": {
        "id": "Ht-c71dLXJnD"
      },
      "execution_count": null,
      "outputs": []
    },
    {
      "cell_type": "markdown",
      "source": [
        "### **6.4.3 Regularization: Avoiding Overfitting**"
      ],
      "metadata": {
        "id": "8vqQOGl_XNPi"
      }
    },
    {
      "cell_type": "code",
      "source": [
        "predictors = ['loan_amnt', 'term', 'annual_inc', 'dti', \n",
        "              'payment_inc_ratio', 'revol_bal', 'revol_util', \n",
        "              'purpose', 'delinq_2yrs_zero', 'pub_rec_zero', \n",
        "              'open_acc', 'grade', 'emp_length', 'purpose_', \n",
        "              'home_', 'emp_len_', 'borrower_score']\n",
        "outcome = 'outcome'\n",
        "\n",
        "X = pd.get_dummies(loan_data[predictors], drop_first=True)\n",
        "y = pd.Series([1 if o == 'default' else 0 for o in loan_data[outcome]])\n",
        "\n",
        "train_X, valid_X, train_y, valid_y = train_test_split(X, y, test_size=10000)\n",
        "\n",
        "xgb_default = XGBClassifier(objective='binary:logistic', n_estimators=250, max_depth=6,\n",
        "                            reg_lambda=0, learning_rate=0.3, subsample=1,\n",
        "                            use_label_encoder=False, eval_metric='error')\n",
        "xgb_default.fit(train_X, train_y)\n",
        "\n",
        "xgb_penalty = XGBClassifier(objective='binary:logistic', n_estimators=250, max_depth=6,\n",
        "                            reg_lambda=1000, learning_rate=0.1, subsample=0.63,\n",
        "                            use_label_encoder=False, eval_metric='error')\n",
        "print(xgb_penalty.fit(train_X, train_y))"
      ],
      "metadata": {
        "id": "b9mCaxPeXV_u"
      },
      "execution_count": null,
      "outputs": []
    },
    {
      "cell_type": "code",
      "source": [
        "pred_default = xgb_default.predict_proba(train_X)[:, 1]\n",
        "error_default = abs(train_y - pred_default) > 0.5\n",
        "print('default (train): ', np.mean(error_default))\n",
        "\n",
        "pred_default = xgb_default.predict_proba(valid_X)[:, 1]\n",
        "error_default = abs(valid_y - pred_default) > 0.5\n",
        "print('default: ', np.mean(error_default))\n",
        "\n",
        "pred_penalty = xgb_penalty.predict_proba(valid_X)[:, 1]\n",
        "error_penalty = abs(valid_y - pred_penalty) > 0.5\n",
        "print('penalty: ', np.mean(error_penalty))"
      ],
      "metadata": {
        "id": "ow6lWCVdXZZg"
      },
      "execution_count": null,
      "outputs": []
    },
    {
      "cell_type": "code",
      "source": [
        "results = []\n",
        "for ntree_limit in range(1, 250):\n",
        "    train_default = xgb_default.predict_proba(train_X, ntree_limit=ntree_limit)[:, 1]\n",
        "    train_penalty = xgb_penalty.predict_proba(train_X, ntree_limit=ntree_limit)[:, 1]\n",
        "    pred_default = xgb_default.predict_proba(valid_X, ntree_limit=ntree_limit)[:, 1]\n",
        "    pred_penalty = xgb_penalty.predict_proba(valid_X, ntree_limit=ntree_limit)[:, 1]\n",
        "    results.append({\n",
        "        'iterations': ntree_limit,\n",
        "        'default train': np.mean(abs(train_y - train_default) > 0.5),\n",
        "        'penalty train': np.mean(abs(train_y - train_penalty) > 0.5),\n",
        "        'default test': np.mean(abs(valid_y - pred_default) > 0.5),\n",
        "        'penalty test': np.mean(abs(valid_y - pred_penalty) > 0.5),\n",
        "    })\n",
        "\n",
        "results = pd.DataFrame(results)\n",
        "print(results.head())"
      ],
      "metadata": {
        "id": "9Wy4ZGlwXc2F"
      },
      "execution_count": null,
      "outputs": []
    },
    {
      "cell_type": "code",
      "source": [
        "ax = results.plot(x='iterations', y='default test')\n",
        "results.plot(x='iterations', y='penalty test', ax=ax)\n",
        "results.plot(x='iterations', y='default train', ax=ax)\n",
        "results.plot(x='iterations', y='penalty train', ax=ax)\n",
        "plt.show()"
      ],
      "metadata": {
        "id": "7rC74IhmXfSi"
      },
      "execution_count": null,
      "outputs": []
    },
    {
      "cell_type": "markdown",
      "source": [
        "### **6.4.4 Hyperparameters and Cross-Validation**"
      ],
      "metadata": {
        "id": "nbxGbgkMXhRs"
      }
    },
    {
      "cell_type": "code",
      "source": [
        "idx = np.random.choice(range(5), size=len(X), replace=True)\n",
        "error = []\n",
        "for eta, max_depth in product([0.1, 0.5, 0.9], [3, 6, 9]):\n",
        "    xgb = XGBClassifier(objective='binary:logistic', n_estimators=250, \n",
        "                        max_depth=max_depth, learning_rate=eta,\n",
        "                        use_label_encoder=False, eval_metric='error')\n",
        "    cv_error = []\n",
        "    for k in range(5):\n",
        "        fold_idx = idx == k\n",
        "        train_X = X.loc[~fold_idx]; train_y = y[~fold_idx]\n",
        "        valid_X = X.loc[fold_idx]; valid_y = y[fold_idx]\n",
        "\n",
        "        xgb.fit(train_X, train_y)\n",
        "        pred = xgb.predict_proba(valid_X)[:, 1]\n",
        "        cv_error.append(np.mean(abs(valid_y - pred) > 0.5))\n",
        "    error.append({\n",
        "        'eta': eta,\n",
        "        'max_depth': max_depth,\n",
        "        'avg_error': np.mean(cv_error)\n",
        "    })\n",
        "    print(error[-1])\n",
        "errors = pd.DataFrame(error)\n",
        "print(errors)"
      ],
      "metadata": {
        "id": "prslFhHlXp7g"
      },
      "execution_count": null,
      "outputs": []
    },
    {
      "cell_type": "code",
      "source": [
        "print(errors.pivot_table(index='eta', columns='max_depth', values='avg_error') * 100)"
      ],
      "metadata": {
        "id": "3MnxNIO5RueT"
      },
      "execution_count": null,
      "outputs": []
    }
  ]
}