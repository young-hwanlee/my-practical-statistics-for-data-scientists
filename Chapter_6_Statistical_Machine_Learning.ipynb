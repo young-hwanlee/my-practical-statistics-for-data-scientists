{
  "nbformat": 4,
  "nbformat_minor": 0,
  "metadata": {
    "colab": {
      "name": "Chapter 6 - Statistical Machine Learning.ipynb",
      "provenance": [],
      "collapsed_sections": [],
      "authorship_tag": "ABX9TyOqW78WL5F+k1ExEGjmgSw9",
      "include_colab_link": true
    },
    "kernelspec": {
      "name": "python3",
      "display_name": "Python 3"
    },
    "language_info": {
      "name": "python"
    }
  },
  "cells": [
    {
      "cell_type": "markdown",
      "metadata": {
        "id": "view-in-github",
        "colab_type": "text"
      },
      "source": [
        "<a href=\"https://colab.research.google.com/github/young-hwanlee/my-practical-statistics-for-data-scientists/blob/main/Chapter_6_Statistical_Machine_Learning.ipynb\" target=\"_parent\"><img src=\"https://colab.research.google.com/assets/colab-badge.svg\" alt=\"Open In Colab\"/></a>"
      ]
    },
    {
      "cell_type": "code",
      "metadata": {
        "id": "dgU53eBPusDY",
        "colab": {
          "base_uri": "https://localhost:8080/"
        },
        "outputId": "bc446f40-cb7d-4e03-a2ac-df4315c5bdaf"
      },
      "source": [
        "# # Clone the repository\n",
        "# !git clone https://github.com/young-hwanlee/practical-statistics-for-data-scientists.git\n",
        "\n",
        "# # Open the file from the list of contents (File)\n",
        "# # Then, copy and paste it"
      ],
      "execution_count": 1,
      "outputs": [
        {
          "output_type": "stream",
          "name": "stdout",
          "text": [
            "Cloning into 'practical-statistics-for-data-scientists'...\n",
            "remote: Enumerating objects: 363, done.\u001b[K\n",
            "remote: Counting objects: 100% (156/156), done.\u001b[K\n",
            "remote: Compressing objects: 100% (128/128), done.\u001b[K\n",
            "remote: Total 363 (delta 75), reused 92 (delta 26), pack-reused 207\u001b[K\n",
            "Receiving objects: 100% (363/363), 83.68 MiB | 32.98 MiB/s, done.\n",
            "Resolving deltas: 100% (161/161), done.\n"
          ]
        }
      ]
    },
    {
      "cell_type": "markdown",
      "source": [
        "## Practical Statistics for Data Scientists (Python)\n",
        "## Chapter 6. Statistical Machine Learning\n",
        "> (c) 2019 Peter C. Bruce, Andrew Bruce, Peter Gedeck"
      ],
      "metadata": {
        "id": "fBofKgqmSBRr"
      }
    },
    {
      "cell_type": "markdown",
      "source": [
        "Import required Python packages."
      ],
      "metadata": {
        "id": "zoItkqtnTR0U"
      }
    },
    {
      "cell_type": "code",
      "source": [
        "import math\n",
        "import os\n",
        "import random\n",
        "from pathlib import Path\n",
        "from collections import defaultdict\n",
        "from itertools import product\n",
        "\n",
        "import pandas as pd\n",
        "import numpy as np\n",
        "\n",
        "from sklearn import preprocessing\n",
        "from sklearn.neighbors import KNeighborsClassifier\n",
        "from sklearn import metrics\n",
        "from sklearn.model_selection import train_test_split\n",
        "from sklearn.tree import DecisionTreeClassifier\n",
        "from sklearn.ensemble import RandomForestClassifier\n",
        "\n",
        "from xgboost import XGBClassifier\n",
        "\n",
        "from dmba import plotDecisionTree, textDecisionTree\n",
        "\n",
        "import seaborn as sns\n",
        "import matplotlib.pyplot as plt\n",
        "from matplotlib.patches import Ellipse\n",
        "print()"
      ],
      "metadata": {
        "id": "n6v4fQWiTdqQ"
      },
      "execution_count": null,
      "outputs": []
    },
    {
      "cell_type": "code",
      "source": [
        "# try:\n",
        "#     import common\n",
        "#     DATA = common.dataDirectory()\n",
        "# except ImportError:\n",
        "#     DATA = Path().resolve() / 'data'"
      ],
      "metadata": {
        "id": "_bhw1tMYTe53"
      },
      "execution_count": null,
      "outputs": []
    },
    {
      "cell_type": "markdown",
      "source": [
        "Define paths to data sets. If you don't keep your data in the same directory as the code, adapt the path names."
      ],
      "metadata": {
        "id": "oAOeTssxThpr"
      }
    },
    {
      "cell_type": "code",
      "source": [
        "LOAN200_CSV = DATA / 'loan200.csv'\n",
        "LOAN3000_CSV = DATA / 'loan3000.csv'\n",
        "LOAN_DATA_CSV = DATA / 'loan_data.csv.gz'"
      ],
      "metadata": {
        "id": "BT6GbQCQTmCX"
      },
      "execution_count": null,
      "outputs": []
    },
    {
      "cell_type": "markdown",
      "source": [
        "Set this if the notebook crashes in the XGBoost part.\n"
      ],
      "metadata": {
        "id": "fZO0BbtIToY4"
      }
    },
    {
      "cell_type": "code",
      "source": [
        "os.environ['KMP_DUPLICATE_LIB_OK'] = 'TRUE'"
      ],
      "metadata": {
        "id": "RvviHf_IUD5J"
      },
      "execution_count": null,
      "outputs": []
    },
    {
      "cell_type": "markdown",
      "source": [
        "## **6.1 K-Nearest Neighbors**\n",
        "### **6.1.1 A Small Example: Predicting Loan Default**"
      ],
      "metadata": {
        "id": "JDWizFw8UE4H"
      }
    },
    {
      "cell_type": "code",
      "source": [
        "loan200 = pd.read_csv(LOAN200_CSV)\n",
        " \n",
        "predictors = ['payment_inc_ratio', 'dti']\n",
        "outcome = 'outcome'\n",
        "\n",
        "newloan = loan200.loc[0:0, predictors]\n",
        "X = loan200.loc[1:, predictors]\n",
        "y = loan200.loc[1:, outcome]\n",
        "\n",
        "knn = KNeighborsClassifier(n_neighbors=20)\n",
        "knn.fit(X, y)\n",
        "knn.predict(newloan)\n",
        "print(knn.predict_proba(newloan))"
      ],
      "metadata": {
        "id": "tqETVpvvUQky"
      },
      "execution_count": null,
      "outputs": []
    },
    {
      "cell_type": "code",
      "source": [
        "nbrs = knn.kneighbors(newloan)\n",
        "maxDistance = np.max(nbrs[0][0])\n",
        "\n",
        "fig, ax = plt.subplots(figsize=(4, 4))\n",
        "sns.scatterplot(x='payment_inc_ratio', y='dti', style='outcome', \n",
        "                hue='outcome', data=loan200, alpha=0.3, ax=ax)\n",
        "sns.scatterplot(x='payment_inc_ratio', y='dti', style='outcome', \n",
        "                hue='outcome', \n",
        "                data=pd.concat([loan200.loc[0:0, :], loan200.loc[nbrs[1][0] + 1,:]]), \n",
        "                ax=ax, legend=False)\n",
        "ellipse = Ellipse(xy=newloan.values[0], \n",
        "                  width=2 * maxDistance, height=2 * maxDistance,\n",
        "                  edgecolor='black', fc='None', lw=1)\n",
        "ax.add_patch(ellipse)\n",
        "ax.set_xlim(3, 16)\n",
        "ax.set_ylim(15, 30)\n",
        "\n",
        "plt.tight_layout()\n",
        "plt.show()"
      ],
      "metadata": {
        "id": "vUhg4X9xUvJ-"
      },
      "execution_count": null,
      "outputs": []
    },
    {
      "cell_type": "markdown",
      "source": [
        "### **6.1.4 Standardization (Normalization, Z-Scores)**"
      ],
      "metadata": {
        "id": "rtfMqC1IU0HB"
      }
    },
    {
      "cell_type": "code",
      "source": [
        "loan_data = pd.read_csv(LOAN_DATA_CSV)\n",
        "loan_data = loan_data.drop(columns=['Unnamed: 0', 'status'])\n",
        "loan_data['outcome'] = pd.Categorical(loan_data['outcome'], \n",
        "                                      categories=['paid off', 'default'], \n",
        "                                      ordered=True)\n",
        "\n",
        "predictors = ['payment_inc_ratio', 'dti', 'revol_bal', 'revol_util']\n",
        "outcome = 'outcome'\n",
        "\n",
        "newloan = loan_data.loc[0:0, predictors]\n",
        "print(newloan)\n",
        "X = loan_data.loc[1:, predictors]\n",
        "y = loan_data.loc[1:, outcome]\n",
        "\n",
        "knn = KNeighborsClassifier(n_neighbors=5)\n",
        "knn.fit(X, y)\n",
        "\n",
        "nbrs = knn.kneighbors(newloan)\n",
        "print(X.iloc[nbrs[1][0], :])"
      ],
      "metadata": {
        "id": "iq8WZes7VBVL"
      },
      "execution_count": null,
      "outputs": []
    },
    {
      "cell_type": "code",
      "source": [
        "newloan = loan_data.loc[0:0, predictors]\n",
        "X = loan_data.loc[1:, predictors]\n",
        "y = loan_data.loc[1:, outcome]\n",
        "\n",
        "scaler = preprocessing.StandardScaler()\n",
        "scaler.fit(X * 1.0)\n",
        "\n",
        "X_std = scaler.transform(X * 1.0)\n",
        "newloan_std = scaler.transform(newloan * 1.0)\n",
        "\n",
        "knn = KNeighborsClassifier(n_neighbors=5)\n",
        "knn.fit(X_std, y)\n",
        "\n",
        "nbrs = knn.kneighbors(newloan_std)\n",
        "print(X.iloc[nbrs[1][0], :])"
      ],
      "metadata": {
        "id": "heArUIkVVFh_"
      },
      "execution_count": null,
      "outputs": []
    },
    {
      "cell_type": "markdown",
      "source": [
        "### **6.1.6 KNN as a Feature Engine**"
      ],
      "metadata": {
        "id": "1dgHDwZ1VMGM"
      }
    },
    {
      "cell_type": "code",
      "source": [
        "loan_data = pd.read_csv(LOAN_DATA_CSV)\n",
        "loan_data = loan_data.drop(columns=['Unnamed: 0', 'status'])\n",
        "loan_data['outcome'] = pd.Categorical(loan_data['outcome'], \n",
        "                                      categories=['paid off', 'default'], \n",
        "                                      ordered=True)\n",
        "\n",
        "predictors = ['dti', 'revol_bal', 'revol_util', 'open_acc', \n",
        "              'delinq_2yrs_zero', 'pub_rec_zero']\n",
        "outcome = 'outcome'\n",
        "\n",
        "X = loan_data[predictors]\n",
        "y = loan_data[outcome]\n",
        "\n",
        "knn = KNeighborsClassifier(n_neighbors=20)\n",
        "knn.fit(X, y)\n",
        "plt.scatter(range(len(X)), [bs + random.gauss(0, 0.015) for bs in knn.predict_proba(X)[:,0]], \n",
        "            alpha=0.1, marker='.')\n",
        "knn.predict_proba(X)[:, 0]\n",
        "\n",
        "loan_data['borrower_score'] = knn.predict_proba(X)[:, 0]\n",
        "print(loan_data['borrower_score'].describe())"
      ],
      "metadata": {
        "id": "iW6TDigGVSxo"
      },
      "execution_count": null,
      "outputs": []
    },
    {
      "cell_type": "markdown",
      "source": [
        "## **6.2 Tree Models**\n",
        "### **6.2.1 A Simple Example**\n",
        "The package _scikit-learn_ has the class `DecisionTreeClassifier` to build a decision tree model. The function `plotDecisionTree` from the _dmba_ package can be used to visualize the tree."
      ],
      "metadata": {
        "id": "QuaBOGwrVTqX"
      }
    },
    {
      "cell_type": "code",
      "source": [
        "loan3000 = pd.read_csv(LOAN3000_CSV)\n",
        "\n",
        "predictors = ['borrower_score', 'payment_inc_ratio']\n",
        "outcome = 'outcome'\n",
        "\n",
        "X = loan3000[predictors]\n",
        "y = loan3000[outcome]\n",
        "\n",
        "loan_tree = DecisionTreeClassifier(random_state=1, criterion='entropy',\n",
        "                                   min_impurity_decrease=0.003)\n",
        "loan_tree.fit(X, y)\n",
        "plotDecisionTree(loan_tree, feature_names=predictors, class_names=loan_tree.classes_)"
      ],
      "metadata": {
        "id": "tMk0xqxnVpJy"
      },
      "execution_count": null,
      "outputs": []
    },
    {
      "cell_type": "code",
      "source": [
        "print(textDecisionTree(loan_tree))"
      ],
      "metadata": {
        "id": "DHFDnc1nVpxU"
      },
      "execution_count": null,
      "outputs": []
    },
    {
      "cell_type": "markdown",
      "source": [
        "### **6.2.2 The Recursive Partitioning Algorithm**"
      ],
      "metadata": {
        "id": "wJW12iK_VuBM"
      }
    },
    {
      "cell_type": "code",
      "source": [
        "fig, ax = plt.subplots(figsize=(6, 4))\n",
        "\n",
        "loan3000.loc[loan3000.outcome=='paid off'].plot(\n",
        "    x='borrower_score', y='payment_inc_ratio', style='.', \n",
        "    markerfacecolor='none', markeredgecolor='C1', ax=ax)\n",
        "loan3000.loc[loan3000.outcome=='default'].plot(\n",
        "    x='borrower_score', y='payment_inc_ratio', style='o', \n",
        "    markerfacecolor='none', markeredgecolor='C0', ax=ax)\n",
        "ax.legend(['paid off', 'default']);\n",
        "ax.set_xlim(0, 1)\n",
        "ax.set_ylim(0, 25)\n",
        "ax.set_xlabel('borrower_score')\n",
        "ax.set_ylabel('payment_inc_ratio')\n",
        "\n",
        "x0 = 0.575\n",
        "x1a = 0.325; y1b = 9.191\n",
        "y2a = 10.423; x2b = 0.725\n",
        "ax.plot((x0, x0), (0, 25), color='grey')\n",
        "ax.plot((x1a, x1a), (0, 25), color='grey')\n",
        "ax.plot((x0, 1), (y1b, y1b), color='grey')\n",
        "ax.plot((x1a, x0), (y2a, y2a), color='grey')\n",
        "ax.plot((x2b, x2b), (0, y1b), color='grey')\n",
        "\n",
        "labels = [('default', (x1a / 2, 25 / 2)),\n",
        "          ('default', ((x0 + x1a) / 2, (25 + y2a) / 2)),\n",
        "          ('paid off', ((x0 + x1a) / 2, y2a / 2)),\n",
        "          ('paid off', ((1 + x0) / 2, (y1b + 25) / 2)),\n",
        "          ('paid off', ((1 + x2b) / 2, (y1b + 0) / 2)),\n",
        "          ('paid off', ((x0 + x2b) / 2, (y1b + 0) / 2)),\n",
        "         ]\n",
        "for label, (x, y) in labels:\n",
        "    ax.text(x, y, label, bbox={'facecolor':'white'},\n",
        "            verticalalignment='center', horizontalalignment='center')\n",
        "\n",
        "plt.tight_layout()\n",
        "plt.show()"
      ],
      "metadata": {
        "id": "P5BDAR-KV6F3"
      },
      "execution_count": null,
      "outputs": []
    },
    {
      "cell_type": "markdown",
      "source": [
        "### **6.2.3 Measuring Homogeneity or Impurity**"
      ],
      "metadata": {
        "id": "dCRU0gX2V7Bq"
      }
    },
    {
      "cell_type": "code",
      "source": [
        "def entropyFunction(x):\n",
        "    if x == 0: return 0\n",
        "    return -x * math.log(x, 2) - (1 - x) * math.log(1 - x, 2)\n",
        "\n",
        "def giniFunction(x):\n",
        "    return x * (1 - x)"
      ],
      "metadata": {
        "id": "PoI0OklaWDV3"
      },
      "execution_count": null,
      "outputs": []
    },
    {
      "cell_type": "code",
      "source": [
        "x = np.linspace(0, 0.5, 50)\n",
        "impure = pd.DataFrame({\n",
        "    'x': x,\n",
        "    'Accuracy': 2 * x,\n",
        "    'Gini': [giniFunction(xi) / giniFunction(.5) for xi in x],\n",
        "    'Entropy': [entropyFunction(xi) for xi in x],\n",
        "})\n",
        "\n",
        "fig, ax = plt.subplots(figsize=(4, 4))\n",
        "\n",
        "impure.plot(x='x', y='Accuracy', ax=ax, linestyle='solid')\n",
        "impure.plot(x='x', y='Entropy', ax=ax, linestyle='--')\n",
        "impure.plot(x='x', y='Gini', ax=ax, linestyle=':')\n",
        "\n",
        "plt.tight_layout()\n",
        "plt.show()"
      ],
      "metadata": {
        "id": "-uX0nNiwWGiy"
      },
      "execution_count": null,
      "outputs": []
    },
    {
      "cell_type": "markdown",
      "source": [
        "## **6.3 Bagging and the Random Forest**\n",
        "### **6.3.2 Random Forest**"
      ],
      "metadata": {
        "id": "1n0vKnX9WMOA"
      }
    },
    {
      "cell_type": "code",
      "source": [
        "predictors = ['borrower_score', 'payment_inc_ratio']\n",
        "outcome = 'outcome'\n",
        "\n",
        "X = loan3000[predictors]\n",
        "y = loan3000[outcome]\n",
        "\n",
        "rf = RandomForestClassifier(n_estimators=500, random_state=1, \n",
        "                            oob_score=True)\n",
        "rf.fit(X, y)\n",
        "print(rf.oob_decision_function_)"
      ],
      "metadata": {
        "id": "py09nD28WW7O"
      },
      "execution_count": null,
      "outputs": []
    },
    {
      "cell_type": "code",
      "source": [
        "n_estimator = list(range(20, 510, 5))\n",
        "oobScores = []\n",
        "for n in n_estimator:\n",
        "    rf = RandomForestClassifier(n_estimators=n, \n",
        "                                criterion='entropy', max_depth=5,\n",
        "                                random_state=1, oob_score=True)\n",
        "    rf.fit(X, y)\n",
        "    oobScores.append(rf.oob_score_)"
      ],
      "metadata": {
        "id": "YHRoUVKmWZrt"
      },
      "execution_count": null,
      "outputs": []
    },
    {
      "cell_type": "code",
      "source": [
        "pd.DataFrame({\n",
        "    'n': n_estimator, \n",
        "    'oobScore': oobScores\n",
        "}).plot(x='n', y='oobScore')"
      ],
      "metadata": {
        "id": "5vfq7BxmWccW"
      },
      "execution_count": null,
      "outputs": []
    },
    {
      "cell_type": "code",
      "source": [
        "predictions = X.copy()\n",
        "predictions['prediction'] = rf.predict(X)\n",
        "predictions.head()\n",
        "\n",
        "fig, ax = plt.subplots(figsize=(4, 4))\n",
        "\n",
        "predictions.loc[predictions.prediction=='paid off'].plot(\n",
        "    x='borrower_score', y='payment_inc_ratio', style='.',\n",
        "    markerfacecolor='none', markeredgecolor='C1', ax=ax)\n",
        "predictions.loc[predictions.prediction=='default'].plot(\n",
        "    x='borrower_score', y='payment_inc_ratio', style='o',\n",
        "    markerfacecolor='none', markeredgecolor='C0', ax=ax)\n",
        "ax.legend(['paid off', 'default']);\n",
        "ax.set_xlim(0, 1)\n",
        "ax.set_ylim(0, 25)\n",
        "ax.set_xlabel('borrower_score')\n",
        "ax.set_ylabel('payment_inc_ratio')\n",
        "\n",
        "plt.tight_layout()\n",
        "plt.show()"
      ],
      "metadata": {
        "id": "rr-kzYkHWf8s"
      },
      "execution_count": null,
      "outputs": []
    },
    {
      "cell_type": "markdown",
      "source": [
        "### **6.3.3 Variable importance**\n",
        "This is different to R. The accuracy decrease is not available out of the box."
      ],
      "metadata": {
        "id": "pKtwpUvoWiPa"
      }
    },
    {
      "cell_type": "code",
      "source": [
        "predictors = ['loan_amnt', 'term', 'annual_inc', 'dti', \n",
        "              'payment_inc_ratio', 'revol_bal', 'revol_util', \n",
        "              'purpose', 'delinq_2yrs_zero', 'pub_rec_zero', \n",
        "              'open_acc', 'grade', 'emp_length', 'purpose_', \n",
        "              'home_', 'emp_len_', 'borrower_score']\n",
        "outcome = 'outcome'\n",
        "\n",
        "X = pd.get_dummies(loan_data[predictors], drop_first=True)\n",
        "y = loan_data[outcome]\n",
        "\n",
        "rf_all = RandomForestClassifier(n_estimators=500, random_state=1)\n",
        "rf_all.fit(X, y)\n",
        "\n",
        "rf_all_entropy = RandomForestClassifier(n_estimators=500, random_state=1,\n",
        "                                        criterion='entropy')\n",
        "print(rf_all_entropy.fit(X, y))"
      ],
      "metadata": {
        "id": "R-8blRhhWt7V"
      },
      "execution_count": null,
      "outputs": []
    },
    {
      "cell_type": "code",
      "source": [
        "rf = RandomForestClassifier(n_estimators=500)\n",
        "scores = defaultdict(list)\n",
        " \n",
        "# crossvalidate the scores on a number of different random splits of the data\n",
        "for _ in range(3):\n",
        "    train_X, valid_X, train_y, valid_y = train_test_split(X, y, \n",
        "                                                          test_size=0.3)\n",
        "    rf.fit(train_X, train_y)\n",
        "    acc = metrics.accuracy_score(valid_y, rf.predict(valid_X))\n",
        "    for column in X.columns:\n",
        "        X_t = valid_X.copy()\n",
        "        X_t[column] = np.random.permutation(X_t[column].values)\n",
        "        shuff_acc = metrics.accuracy_score(valid_y, rf.predict(X_t))\n",
        "        scores[column].append((acc-shuff_acc)/acc)\n",
        "print('Features sorted by their score:')\n",
        "print(sorted([(round(np.mean(score), 4), feat) for\n",
        "              feat, score in scores.items()], reverse=True))"
      ],
      "metadata": {
        "id": "Byz274rhWx_G"
      },
      "execution_count": null,
      "outputs": []
    },
    {
      "cell_type": "code",
      "source": [
        "importances = rf_all.feature_importances_\n",
        "\n",
        "df = pd.DataFrame({\n",
        "    'feature': X.columns, \n",
        "    'Accuracy decrease': [np.mean(scores[column]) for column in \n",
        "                         X.columns],\n",
        "    'Gini decrease': rf_all.feature_importances_, \n",
        "    'Entropy decrease': rf_all_entropy.feature_importances_,\n",
        "})\n",
        "df = df.sort_values('Accuracy decrease')\n",
        "\n",
        "fig, axes = plt.subplots(ncols=2, figsize=(8, 5))\n",
        "ax = df.plot(kind='barh', x='feature', y='Accuracy decrease', \n",
        "             legend=False, ax=axes[0])\n",
        "ax.set_ylabel('')\n",
        "\n",
        "ax = df.plot(kind='barh', x='feature', y='Gini decrease', \n",
        "             legend=False, ax=axes[1])\n",
        "ax.set_ylabel('')\n",
        "ax.get_yaxis().set_visible(False)\n",
        "\n",
        "plt.tight_layout()\n",
        "plt.show()"
      ],
      "metadata": {
        "id": "c-sVfSR6W1Pf"
      },
      "execution_count": null,
      "outputs": []
    },
    {
      "cell_type": "markdown",
      "source": [
        "## **6.4 Boosting**\n",
        "### **6.4.2 XGBoost**"
      ],
      "metadata": {
        "id": "a1uhq77SW6S7"
      }
    },
    {
      "cell_type": "code",
      "source": [
        "predictors = ['borrower_score', 'payment_inc_ratio']\n",
        "outcome = 'outcome'\n",
        "\n",
        "X = loan3000[predictors]\n",
        "y = pd.Series([1 if o == 'default' else 0 for o in loan3000[outcome]])\n",
        "\n",
        "xgb = XGBClassifier(objective='binary:logistic', subsample=.63, \n",
        "                    use_label_encoder=False, eval_metric='error')\n",
        "print(xgb.fit(X, y))"
      ],
      "metadata": {
        "id": "kCQr5jFlXDVk"
      },
      "execution_count": null,
      "outputs": []
    },
    {
      "cell_type": "code",
      "source": [
        "xgb_df = X.copy()\n",
        "xgb_df['prediction'] = ['default' if p == 1 else 'paid off' for p in xgb.predict(X)]\n",
        "xgb_df['prob_default'] = xgb.predict_proba(X)[:, 0]\n",
        "print(xgb_df.head())"
      ],
      "metadata": {
        "id": "B0OJ8I5XXF_U"
      },
      "execution_count": null,
      "outputs": []
    },
    {
      "cell_type": "code",
      "source": [
        "fig, ax = plt.subplots(figsize=(6, 4))\n",
        "\n",
        "xgb_df.loc[xgb_df.prediction=='paid off'].plot(\n",
        "    x='borrower_score', y='payment_inc_ratio', style='.', \n",
        "    markerfacecolor='none', markeredgecolor='C1', ax=ax)\n",
        "xgb_df.loc[xgb_df.prediction=='default'].plot(\n",
        "    x='borrower_score', y='payment_inc_ratio', style='o', \n",
        "    markerfacecolor='none', markeredgecolor='C0', ax=ax)\n",
        "ax.legend(['paid off', 'default']);\n",
        "ax.set_xlim(0, 1)\n",
        "ax.set_ylim(0, 25)\n",
        "ax.set_xlabel('borrower_score')\n",
        "ax.set_ylabel('payment_inc_ratio')\n",
        "\n",
        "plt.tight_layout()\n",
        "plt.show()"
      ],
      "metadata": {
        "id": "Ht-c71dLXJnD"
      },
      "execution_count": null,
      "outputs": []
    },
    {
      "cell_type": "markdown",
      "source": [
        "### **6.4.3 Regularization: Avoiding Overfitting**"
      ],
      "metadata": {
        "id": "8vqQOGl_XNPi"
      }
    },
    {
      "cell_type": "code",
      "source": [
        "predictors = ['loan_amnt', 'term', 'annual_inc', 'dti', \n",
        "              'payment_inc_ratio', 'revol_bal', 'revol_util', \n",
        "              'purpose', 'delinq_2yrs_zero', 'pub_rec_zero', \n",
        "              'open_acc', 'grade', 'emp_length', 'purpose_', \n",
        "              'home_', 'emp_len_', 'borrower_score']\n",
        "outcome = 'outcome'\n",
        "\n",
        "X = pd.get_dummies(loan_data[predictors], drop_first=True)\n",
        "y = pd.Series([1 if o == 'default' else 0 for o in loan_data[outcome]])\n",
        "\n",
        "train_X, valid_X, train_y, valid_y = train_test_split(X, y, test_size=10000)\n",
        "\n",
        "xgb_default = XGBClassifier(objective='binary:logistic', n_estimators=250, max_depth=6,\n",
        "                            reg_lambda=0, learning_rate=0.3, subsample=1,\n",
        "                            use_label_encoder=False, eval_metric='error')\n",
        "xgb_default.fit(train_X, train_y)\n",
        "\n",
        "xgb_penalty = XGBClassifier(objective='binary:logistic', n_estimators=250, max_depth=6,\n",
        "                            reg_lambda=1000, learning_rate=0.1, subsample=0.63,\n",
        "                            use_label_encoder=False, eval_metric='error')\n",
        "print(xgb_penalty.fit(train_X, train_y))"
      ],
      "metadata": {
        "id": "b9mCaxPeXV_u"
      },
      "execution_count": null,
      "outputs": []
    },
    {
      "cell_type": "code",
      "source": [
        "pred_default = xgb_default.predict_proba(train_X)[:, 1]\n",
        "error_default = abs(train_y - pred_default) > 0.5\n",
        "print('default (train): ', np.mean(error_default))\n",
        "\n",
        "pred_default = xgb_default.predict_proba(valid_X)[:, 1]\n",
        "error_default = abs(valid_y - pred_default) > 0.5\n",
        "print('default: ', np.mean(error_default))\n",
        "\n",
        "pred_penalty = xgb_penalty.predict_proba(valid_X)[:, 1]\n",
        "error_penalty = abs(valid_y - pred_penalty) > 0.5\n",
        "print('penalty: ', np.mean(error_penalty))"
      ],
      "metadata": {
        "id": "ow6lWCVdXZZg"
      },
      "execution_count": null,
      "outputs": []
    },
    {
      "cell_type": "code",
      "source": [
        "results = []\n",
        "for ntree_limit in range(1, 250):\n",
        "    train_default = xgb_default.predict_proba(train_X, ntree_limit=ntree_limit)[:, 1]\n",
        "    train_penalty = xgb_penalty.predict_proba(train_X, ntree_limit=ntree_limit)[:, 1]\n",
        "    pred_default = xgb_default.predict_proba(valid_X, ntree_limit=ntree_limit)[:, 1]\n",
        "    pred_penalty = xgb_penalty.predict_proba(valid_X, ntree_limit=ntree_limit)[:, 1]\n",
        "    results.append({\n",
        "        'iterations': ntree_limit,\n",
        "        'default train': np.mean(abs(train_y - train_default) > 0.5),\n",
        "        'penalty train': np.mean(abs(train_y - train_penalty) > 0.5),\n",
        "        'default test': np.mean(abs(valid_y - pred_default) > 0.5),\n",
        "        'penalty test': np.mean(abs(valid_y - pred_penalty) > 0.5),\n",
        "    })\n",
        "\n",
        "results = pd.DataFrame(results)\n",
        "print(results.head())"
      ],
      "metadata": {
        "id": "9Wy4ZGlwXc2F"
      },
      "execution_count": null,
      "outputs": []
    },
    {
      "cell_type": "code",
      "source": [
        "ax = results.plot(x='iterations', y='default test')\n",
        "results.plot(x='iterations', y='penalty test', ax=ax)\n",
        "results.plot(x='iterations', y='default train', ax=ax)\n",
        "results.plot(x='iterations', y='penalty train', ax=ax)\n",
        "plt.show()"
      ],
      "metadata": {
        "id": "7rC74IhmXfSi"
      },
      "execution_count": null,
      "outputs": []
    },
    {
      "cell_type": "markdown",
      "source": [
        "### **6.4.4 Hyperparameters and Cross-Validation**"
      ],
      "metadata": {
        "id": "nbxGbgkMXhRs"
      }
    },
    {
      "cell_type": "code",
      "source": [
        "idx = np.random.choice(range(5), size=len(X), replace=True)\n",
        "error = []\n",
        "for eta, max_depth in product([0.1, 0.5, 0.9], [3, 6, 9]):\n",
        "    xgb = XGBClassifier(objective='binary:logistic', n_estimators=250, \n",
        "                        max_depth=max_depth, learning_rate=eta,\n",
        "                        use_label_encoder=False, eval_metric='error')\n",
        "    cv_error = []\n",
        "    for k in range(5):\n",
        "        fold_idx = idx == k\n",
        "        train_X = X.loc[~fold_idx]; train_y = y[~fold_idx]\n",
        "        valid_X = X.loc[fold_idx]; valid_y = y[fold_idx]\n",
        "\n",
        "        xgb.fit(train_X, train_y)\n",
        "        pred = xgb.predict_proba(valid_X)[:, 1]\n",
        "        cv_error.append(np.mean(abs(valid_y - pred) > 0.5))\n",
        "    error.append({\n",
        "        'eta': eta,\n",
        "        'max_depth': max_depth,\n",
        "        'avg_error': np.mean(cv_error)\n",
        "    })\n",
        "    print(error[-1])\n",
        "errors = pd.DataFrame(error)\n",
        "print(errors)"
      ],
      "metadata": {
        "id": "prslFhHlXp7g"
      },
      "execution_count": null,
      "outputs": []
    },
    {
      "cell_type": "code",
      "source": [
        "print(errors.pivot_table(index='eta', columns='max_depth', values='avg_error') * 100)"
      ],
      "metadata": {
        "id": "3MnxNIO5RueT"
      },
      "execution_count": null,
      "outputs": []
    }
  ]
}