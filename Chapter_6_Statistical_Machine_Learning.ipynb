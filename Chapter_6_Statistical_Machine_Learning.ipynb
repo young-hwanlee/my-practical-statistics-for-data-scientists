{
  "nbformat": 4,
  "nbformat_minor": 0,
  "metadata": {
    "colab": {
      "name": "Chapter 6 - Statistical Machine Learning.ipynb",
      "provenance": [],
      "collapsed_sections": [],
      "authorship_tag": "ABX9TyO6xhSvu9yf/KvTucmcYz0A",
      "include_colab_link": true
    },
    "kernelspec": {
      "name": "python3",
      "display_name": "Python 3"
    },
    "language_info": {
      "name": "python"
    }
  },
  "cells": [
    {
      "cell_type": "markdown",
      "metadata": {
        "id": "view-in-github",
        "colab_type": "text"
      },
      "source": [
        "<a href=\"https://colab.research.google.com/github/young-hwanlee/my-practical-statistics-for-data-scientists/blob/main/Chapter_6_Statistical_Machine_Learning.ipynb\" target=\"_parent\"><img src=\"https://colab.research.google.com/assets/colab-badge.svg\" alt=\"Open In Colab\"/></a>"
      ]
    },
    {
      "cell_type": "code",
      "metadata": {
        "id": "dgU53eBPusDY"
      },
      "source": [
        "# # Clone the repository\n",
        "# !git clone https://github.com/young-hwanlee/practical-statistics-for-data-scientists.git\n",
        "\n",
        "# # Open the file from the list of contents (File)\n",
        "# # Then, copy and paste it"
      ],
      "execution_count": 1,
      "outputs": []
    },
    {
      "cell_type": "markdown",
      "source": [
        "## Practical Statistics for Data Scientists (Python)\n",
        "## Chapter 6. Statistical Machine Learning\n",
        "> (c) 2019 Peter C. Bruce, Andrew Bruce, Peter Gedeck"
      ],
      "metadata": {
        "id": "fBofKgqmSBRr"
      }
    },
    {
      "cell_type": "markdown",
      "source": [
        "Import required Python packages."
      ],
      "metadata": {
        "id": "zoItkqtnTR0U"
      }
    },
    {
      "cell_type": "code",
      "source": [
        "!pip install dmba"
      ],
      "metadata": {
        "colab": {
          "base_uri": "https://localhost:8080/"
        },
        "id": "NaVKAiTdwg3a",
        "outputId": "2640f840-a859-4057-be47-70981b0f22fc"
      },
      "execution_count": 2,
      "outputs": [
        {
          "output_type": "stream",
          "name": "stdout",
          "text": [
            "Collecting dmba\n",
            "  Downloading dmba-0.0.19-py3-none-any.whl (11.8 MB)\n",
            "\u001b[K     |████████████████████████████████| 11.8 MB 16.5 MB/s \n",
            "\u001b[?25hInstalling collected packages: dmba\n",
            "Successfully installed dmba-0.0.19\n"
          ]
        }
      ]
    },
    {
      "cell_type": "code",
      "source": [
        "import math\n",
        "import os\n",
        "import random\n",
        "from pathlib import Path\n",
        "from collections import defaultdict\n",
        "from itertools import product\n",
        "\n",
        "import pandas as pd\n",
        "import numpy as np\n",
        "\n",
        "from sklearn import preprocessing\n",
        "from sklearn.neighbors import KNeighborsClassifier\n",
        "from sklearn import metrics\n",
        "from sklearn.model_selection import train_test_split\n",
        "from sklearn.tree import DecisionTreeClassifier\n",
        "from sklearn.ensemble import RandomForestClassifier\n",
        "\n",
        "from xgboost import XGBClassifier\n",
        "\n",
        "from dmba import plotDecisionTree, textDecisionTree\n",
        "\n",
        "import seaborn as sns\n",
        "import matplotlib.pyplot as plt\n",
        "from matplotlib.patches import Ellipse\n",
        "print()"
      ],
      "metadata": {
        "colab": {
          "base_uri": "https://localhost:8080/"
        },
        "id": "n6v4fQWiTdqQ",
        "outputId": "b5f873ac-1ff4-4e3a-af44-2358472675d5"
      },
      "execution_count": 3,
      "outputs": [
        {
          "output_type": "stream",
          "name": "stdout",
          "text": [
            "no display found. Using non-interactive Agg backend\n",
            "\n"
          ]
        }
      ]
    },
    {
      "cell_type": "code",
      "source": [
        "# try:\n",
        "#     import common\n",
        "#     DATA = common.dataDirectory()\n",
        "# except ImportError:\n",
        "#     DATA = Path().resolve() / 'data'"
      ],
      "metadata": {
        "id": "_bhw1tMYTe53"
      },
      "execution_count": 4,
      "outputs": []
    },
    {
      "cell_type": "markdown",
      "source": [
        "Define paths to data sets. If you don't keep your data in the same directory as the code, adapt the path names."
      ],
      "metadata": {
        "id": "oAOeTssxThpr"
      }
    },
    {
      "cell_type": "code",
      "source": [
        "# LOAN200_CSV = DATA / 'loan200.csv'\n",
        "# LOAN3000_CSV = DATA / 'loan3000.csv'\n",
        "# LOAN_DATA_CSV = DATA / 'loan_data.csv.gz'\n",
        "\n",
        "DATA = 'https://raw.githubusercontent.com/young-hwanlee/practical-statistics-for-data-scientists/master/data/'\n",
        "\n",
        "LOAN200_CSV = DATA + 'loan200.csv'\n",
        "LOAN3000_CSV = DATA + 'loan3000.csv'\n",
        "LOAN_DATA_CSV = DATA + 'loan_data.csv.gz'"
      ],
      "metadata": {
        "id": "BT6GbQCQTmCX"
      },
      "execution_count": 5,
      "outputs": []
    },
    {
      "cell_type": "markdown",
      "source": [
        "Set this if the notebook crashes in the XGBoost part.\n"
      ],
      "metadata": {
        "id": "fZO0BbtIToY4"
      }
    },
    {
      "cell_type": "code",
      "source": [
        "os.environ['KMP_DUPLICATE_LIB_OK'] = 'TRUE'"
      ],
      "metadata": {
        "id": "RvviHf_IUD5J"
      },
      "execution_count": 6,
      "outputs": []
    },
    {
      "cell_type": "markdown",
      "source": [
        "## **6.1 K-Nearest Neighbors**\n",
        "### **6.1.1 A Small Example: Predicting Loan Default**"
      ],
      "metadata": {
        "id": "JDWizFw8UE4H"
      }
    },
    {
      "cell_type": "code",
      "source": [
        "loan200 = pd.read_csv(LOAN200_CSV)\n",
        " \n",
        "predictors = ['payment_inc_ratio', 'dti']\n",
        "outcome = 'outcome'\n",
        "\n",
        "newloan = loan200.loc[0:0, predictors]\n",
        "X = loan200.loc[1:, predictors]\n",
        "y = loan200.loc[1:, outcome]\n",
        "\n",
        "knn = KNeighborsClassifier(n_neighbors=20)\n",
        "knn.fit(X, y)\n",
        "knn.predict(newloan)\n",
        "print(knn.predict_proba(newloan))"
      ],
      "metadata": {
        "colab": {
          "base_uri": "https://localhost:8080/"
        },
        "id": "tqETVpvvUQky",
        "outputId": "ee88961a-1eae-48ee-febd-c9f0eb4995b9"
      },
      "execution_count": 7,
      "outputs": [
        {
          "output_type": "stream",
          "name": "stdout",
          "text": [
            "[[0.45 0.55]]\n"
          ]
        }
      ]
    },
    {
      "cell_type": "code",
      "source": [
        "X.head()"
      ],
      "metadata": {
        "colab": {
          "base_uri": "https://localhost:8080/",
          "height": 206
        },
        "id": "QIQLvykdxDV_",
        "outputId": "2cf3f165-72bd-44ce-daf4-c43e7e8ae28d"
      },
      "execution_count": 8,
      "outputs": [
        {
          "output_type": "execute_result",
          "data": {
            "text/html": [
              "\n",
              "  <div id=\"df-f50b44b0-372d-4366-833a-d8ebe68fd683\">\n",
              "    <div class=\"colab-df-container\">\n",
              "      <div>\n",
              "<style scoped>\n",
              "    .dataframe tbody tr th:only-of-type {\n",
              "        vertical-align: middle;\n",
              "    }\n",
              "\n",
              "    .dataframe tbody tr th {\n",
              "        vertical-align: top;\n",
              "    }\n",
              "\n",
              "    .dataframe thead th {\n",
              "        text-align: right;\n",
              "    }\n",
              "</style>\n",
              "<table border=\"1\" class=\"dataframe\">\n",
              "  <thead>\n",
              "    <tr style=\"text-align: right;\">\n",
              "      <th></th>\n",
              "      <th>payment_inc_ratio</th>\n",
              "      <th>dti</th>\n",
              "    </tr>\n",
              "  </thead>\n",
              "  <tbody>\n",
              "    <tr>\n",
              "      <th>1</th>\n",
              "      <td>5.46933</td>\n",
              "      <td>21.33</td>\n",
              "    </tr>\n",
              "    <tr>\n",
              "      <th>2</th>\n",
              "      <td>6.90294</td>\n",
              "      <td>8.97</td>\n",
              "    </tr>\n",
              "    <tr>\n",
              "      <th>3</th>\n",
              "      <td>11.14800</td>\n",
              "      <td>1.83</td>\n",
              "    </tr>\n",
              "    <tr>\n",
              "      <th>4</th>\n",
              "      <td>3.72120</td>\n",
              "      <td>10.81</td>\n",
              "    </tr>\n",
              "    <tr>\n",
              "      <th>5</th>\n",
              "      <td>1.89923</td>\n",
              "      <td>11.34</td>\n",
              "    </tr>\n",
              "  </tbody>\n",
              "</table>\n",
              "</div>\n",
              "      <button class=\"colab-df-convert\" onclick=\"convertToInteractive('df-f50b44b0-372d-4366-833a-d8ebe68fd683')\"\n",
              "              title=\"Convert this dataframe to an interactive table.\"\n",
              "              style=\"display:none;\">\n",
              "        \n",
              "  <svg xmlns=\"http://www.w3.org/2000/svg\" height=\"24px\"viewBox=\"0 0 24 24\"\n",
              "       width=\"24px\">\n",
              "    <path d=\"M0 0h24v24H0V0z\" fill=\"none\"/>\n",
              "    <path d=\"M18.56 5.44l.94 2.06.94-2.06 2.06-.94-2.06-.94-.94-2.06-.94 2.06-2.06.94zm-11 1L8.5 8.5l.94-2.06 2.06-.94-2.06-.94L8.5 2.5l-.94 2.06-2.06.94zm10 10l.94 2.06.94-2.06 2.06-.94-2.06-.94-.94-2.06-.94 2.06-2.06.94z\"/><path d=\"M17.41 7.96l-1.37-1.37c-.4-.4-.92-.59-1.43-.59-.52 0-1.04.2-1.43.59L10.3 9.45l-7.72 7.72c-.78.78-.78 2.05 0 2.83L4 21.41c.39.39.9.59 1.41.59.51 0 1.02-.2 1.41-.59l7.78-7.78 2.81-2.81c.8-.78.8-2.07 0-2.86zM5.41 20L4 18.59l7.72-7.72 1.47 1.35L5.41 20z\"/>\n",
              "  </svg>\n",
              "      </button>\n",
              "      \n",
              "  <style>\n",
              "    .colab-df-container {\n",
              "      display:flex;\n",
              "      flex-wrap:wrap;\n",
              "      gap: 12px;\n",
              "    }\n",
              "\n",
              "    .colab-df-convert {\n",
              "      background-color: #E8F0FE;\n",
              "      border: none;\n",
              "      border-radius: 50%;\n",
              "      cursor: pointer;\n",
              "      display: none;\n",
              "      fill: #1967D2;\n",
              "      height: 32px;\n",
              "      padding: 0 0 0 0;\n",
              "      width: 32px;\n",
              "    }\n",
              "\n",
              "    .colab-df-convert:hover {\n",
              "      background-color: #E2EBFA;\n",
              "      box-shadow: 0px 1px 2px rgba(60, 64, 67, 0.3), 0px 1px 3px 1px rgba(60, 64, 67, 0.15);\n",
              "      fill: #174EA6;\n",
              "    }\n",
              "\n",
              "    [theme=dark] .colab-df-convert {\n",
              "      background-color: #3B4455;\n",
              "      fill: #D2E3FC;\n",
              "    }\n",
              "\n",
              "    [theme=dark] .colab-df-convert:hover {\n",
              "      background-color: #434B5C;\n",
              "      box-shadow: 0px 1px 3px 1px rgba(0, 0, 0, 0.15);\n",
              "      filter: drop-shadow(0px 1px 2px rgba(0, 0, 0, 0.3));\n",
              "      fill: #FFFFFF;\n",
              "    }\n",
              "  </style>\n",
              "\n",
              "      <script>\n",
              "        const buttonEl =\n",
              "          document.querySelector('#df-f50b44b0-372d-4366-833a-d8ebe68fd683 button.colab-df-convert');\n",
              "        buttonEl.style.display =\n",
              "          google.colab.kernel.accessAllowed ? 'block' : 'none';\n",
              "\n",
              "        async function convertToInteractive(key) {\n",
              "          const element = document.querySelector('#df-f50b44b0-372d-4366-833a-d8ebe68fd683');\n",
              "          const dataTable =\n",
              "            await google.colab.kernel.invokeFunction('convertToInteractive',\n",
              "                                                     [key], {});\n",
              "          if (!dataTable) return;\n",
              "\n",
              "          const docLinkHtml = 'Like what you see? Visit the ' +\n",
              "            '<a target=\"_blank\" href=https://colab.research.google.com/notebooks/data_table.ipynb>data table notebook</a>'\n",
              "            + ' to learn more about interactive tables.';\n",
              "          element.innerHTML = '';\n",
              "          dataTable['output_type'] = 'display_data';\n",
              "          await google.colab.output.renderOutput(dataTable, element);\n",
              "          const docLink = document.createElement('div');\n",
              "          docLink.innerHTML = docLinkHtml;\n",
              "          element.appendChild(docLink);\n",
              "        }\n",
              "      </script>\n",
              "    </div>\n",
              "  </div>\n",
              "  "
            ],
            "text/plain": [
              "   payment_inc_ratio    dti\n",
              "1            5.46933  21.33\n",
              "2            6.90294   8.97\n",
              "3           11.14800   1.83\n",
              "4            3.72120  10.81\n",
              "5            1.89923  11.34"
            ]
          },
          "metadata": {},
          "execution_count": 8
        }
      ]
    },
    {
      "cell_type": "code",
      "source": [
        "nbrs = knn.kneighbors(newloan)\n",
        "maxDistance = np.max(nbrs[0][0])\n",
        "\n",
        "nbrs    # return (neigh_dist, neigh_ind)"
      ],
      "metadata": {
        "colab": {
          "base_uri": "https://localhost:8080/"
        },
        "id": "WyE3eCQExOeH",
        "outputId": "0d5181a4-8f2e-44c4-88e6-deabdbd145e2"
      },
      "execution_count": 9,
      "outputs": [
        {
          "output_type": "execute_result",
          "data": {
            "text/plain": [
              "(array([[0.43787986, 0.88189485, 0.91751052, 1.65569826, 1.70611292,\n",
              "         1.90596261, 2.08135622, 2.41682933, 2.44351029, 2.73230786,\n",
              "         2.74245402, 2.86057968, 2.88767355, 2.99889915, 3.19912226,\n",
              "         3.21420799, 3.36546794, 3.37976028, 3.462634  , 3.5414263 ]]),\n",
              " array([[ 34, 181, 180,  84,   8, 168,  20, 198,  76,  54, 140,  30,  65,\n",
              "         162, 160, 111,  77,  45,  40, 138]]))"
            ]
          },
          "metadata": {},
          "execution_count": 9
        }
      ]
    },
    {
      "cell_type": "code",
      "source": [
        "nbrs[0]"
      ],
      "metadata": {
        "colab": {
          "base_uri": "https://localhost:8080/"
        },
        "id": "jaldfMyBy5u7",
        "outputId": "61440001-2751-4ff5-e585-b0c2015ed83d"
      },
      "execution_count": 10,
      "outputs": [
        {
          "output_type": "execute_result",
          "data": {
            "text/plain": [
              "array([[0.43787986, 0.88189485, 0.91751052, 1.65569826, 1.70611292,\n",
              "        1.90596261, 2.08135622, 2.41682933, 2.44351029, 2.73230786,\n",
              "        2.74245402, 2.86057968, 2.88767355, 2.99889915, 3.19912226,\n",
              "        3.21420799, 3.36546794, 3.37976028, 3.462634  , 3.5414263 ]])"
            ]
          },
          "metadata": {},
          "execution_count": 10
        }
      ]
    },
    {
      "cell_type": "code",
      "source": [
        "nbrs[0][0]"
      ],
      "metadata": {
        "colab": {
          "base_uri": "https://localhost:8080/"
        },
        "id": "aTbCvc8Uy9Op",
        "outputId": "b629ff87-e9fd-417c-a10c-40699942c88a"
      },
      "execution_count": 11,
      "outputs": [
        {
          "output_type": "execute_result",
          "data": {
            "text/plain": [
              "array([0.43787986, 0.88189485, 0.91751052, 1.65569826, 1.70611292,\n",
              "       1.90596261, 2.08135622, 2.41682933, 2.44351029, 2.73230786,\n",
              "       2.74245402, 2.86057968, 2.88767355, 2.99889915, 3.19912226,\n",
              "       3.21420799, 3.36546794, 3.37976028, 3.462634  , 3.5414263 ])"
            ]
          },
          "metadata": {},
          "execution_count": 11
        }
      ]
    },
    {
      "cell_type": "code",
      "source": [
        "maxDistance"
      ],
      "metadata": {
        "colab": {
          "base_uri": "https://localhost:8080/"
        },
        "id": "j5ajkFXUyzPH",
        "outputId": "d7af22ef-a07a-4d9e-a98a-30186de576a2"
      },
      "execution_count": 12,
      "outputs": [
        {
          "output_type": "execute_result",
          "data": {
            "text/plain": [
              "3.541426301647403"
            ]
          },
          "metadata": {},
          "execution_count": 12
        }
      ]
    },
    {
      "cell_type": "code",
      "source": [
        "loan200"
      ],
      "metadata": {
        "colab": {
          "base_uri": "https://localhost:8080/",
          "height": 424
        },
        "id": "goRyglQsxq9d",
        "outputId": "063bd3f7-a8fb-4825-bd50-add91f15e2aa"
      },
      "execution_count": 13,
      "outputs": [
        {
          "output_type": "execute_result",
          "data": {
            "text/html": [
              "\n",
              "  <div id=\"df-08d737f3-4d56-404a-8a9c-a40b4fab596d\">\n",
              "    <div class=\"colab-df-container\">\n",
              "      <div>\n",
              "<style scoped>\n",
              "    .dataframe tbody tr th:only-of-type {\n",
              "        vertical-align: middle;\n",
              "    }\n",
              "\n",
              "    .dataframe tbody tr th {\n",
              "        vertical-align: top;\n",
              "    }\n",
              "\n",
              "    .dataframe thead th {\n",
              "        text-align: right;\n",
              "    }\n",
              "</style>\n",
              "<table border=\"1\" class=\"dataframe\">\n",
              "  <thead>\n",
              "    <tr style=\"text-align: right;\">\n",
              "      <th></th>\n",
              "      <th>outcome</th>\n",
              "      <th>payment_inc_ratio</th>\n",
              "      <th>dti</th>\n",
              "    </tr>\n",
              "  </thead>\n",
              "  <tbody>\n",
              "    <tr>\n",
              "      <th>0</th>\n",
              "      <td>target</td>\n",
              "      <td>9.00000</td>\n",
              "      <td>22.50</td>\n",
              "    </tr>\n",
              "    <tr>\n",
              "      <th>1</th>\n",
              "      <td>default</td>\n",
              "      <td>5.46933</td>\n",
              "      <td>21.33</td>\n",
              "    </tr>\n",
              "    <tr>\n",
              "      <th>2</th>\n",
              "      <td>paid off</td>\n",
              "      <td>6.90294</td>\n",
              "      <td>8.97</td>\n",
              "    </tr>\n",
              "    <tr>\n",
              "      <th>3</th>\n",
              "      <td>paid off</td>\n",
              "      <td>11.14800</td>\n",
              "      <td>1.83</td>\n",
              "    </tr>\n",
              "    <tr>\n",
              "      <th>4</th>\n",
              "      <td>default</td>\n",
              "      <td>3.72120</td>\n",
              "      <td>10.81</td>\n",
              "    </tr>\n",
              "    <tr>\n",
              "      <th>...</th>\n",
              "      <td>...</td>\n",
              "      <td>...</td>\n",
              "      <td>...</td>\n",
              "    </tr>\n",
              "    <tr>\n",
              "      <th>196</th>\n",
              "      <td>default</td>\n",
              "      <td>11.66300</td>\n",
              "      <td>26.09</td>\n",
              "    </tr>\n",
              "    <tr>\n",
              "      <th>197</th>\n",
              "      <td>default</td>\n",
              "      <td>2.97641</td>\n",
              "      <td>16.41</td>\n",
              "    </tr>\n",
              "    <tr>\n",
              "      <th>198</th>\n",
              "      <td>default</td>\n",
              "      <td>1.96846</td>\n",
              "      <td>19.98</td>\n",
              "    </tr>\n",
              "    <tr>\n",
              "      <th>199</th>\n",
              "      <td>paid off</td>\n",
              "      <td>9.64200</td>\n",
              "      <td>20.17</td>\n",
              "    </tr>\n",
              "    <tr>\n",
              "      <th>200</th>\n",
              "      <td>paid off</td>\n",
              "      <td>7.03924</td>\n",
              "      <td>13.88</td>\n",
              "    </tr>\n",
              "  </tbody>\n",
              "</table>\n",
              "<p>201 rows × 3 columns</p>\n",
              "</div>\n",
              "      <button class=\"colab-df-convert\" onclick=\"convertToInteractive('df-08d737f3-4d56-404a-8a9c-a40b4fab596d')\"\n",
              "              title=\"Convert this dataframe to an interactive table.\"\n",
              "              style=\"display:none;\">\n",
              "        \n",
              "  <svg xmlns=\"http://www.w3.org/2000/svg\" height=\"24px\"viewBox=\"0 0 24 24\"\n",
              "       width=\"24px\">\n",
              "    <path d=\"M0 0h24v24H0V0z\" fill=\"none\"/>\n",
              "    <path d=\"M18.56 5.44l.94 2.06.94-2.06 2.06-.94-2.06-.94-.94-2.06-.94 2.06-2.06.94zm-11 1L8.5 8.5l.94-2.06 2.06-.94-2.06-.94L8.5 2.5l-.94 2.06-2.06.94zm10 10l.94 2.06.94-2.06 2.06-.94-2.06-.94-.94-2.06-.94 2.06-2.06.94z\"/><path d=\"M17.41 7.96l-1.37-1.37c-.4-.4-.92-.59-1.43-.59-.52 0-1.04.2-1.43.59L10.3 9.45l-7.72 7.72c-.78.78-.78 2.05 0 2.83L4 21.41c.39.39.9.59 1.41.59.51 0 1.02-.2 1.41-.59l7.78-7.78 2.81-2.81c.8-.78.8-2.07 0-2.86zM5.41 20L4 18.59l7.72-7.72 1.47 1.35L5.41 20z\"/>\n",
              "  </svg>\n",
              "      </button>\n",
              "      \n",
              "  <style>\n",
              "    .colab-df-container {\n",
              "      display:flex;\n",
              "      flex-wrap:wrap;\n",
              "      gap: 12px;\n",
              "    }\n",
              "\n",
              "    .colab-df-convert {\n",
              "      background-color: #E8F0FE;\n",
              "      border: none;\n",
              "      border-radius: 50%;\n",
              "      cursor: pointer;\n",
              "      display: none;\n",
              "      fill: #1967D2;\n",
              "      height: 32px;\n",
              "      padding: 0 0 0 0;\n",
              "      width: 32px;\n",
              "    }\n",
              "\n",
              "    .colab-df-convert:hover {\n",
              "      background-color: #E2EBFA;\n",
              "      box-shadow: 0px 1px 2px rgba(60, 64, 67, 0.3), 0px 1px 3px 1px rgba(60, 64, 67, 0.15);\n",
              "      fill: #174EA6;\n",
              "    }\n",
              "\n",
              "    [theme=dark] .colab-df-convert {\n",
              "      background-color: #3B4455;\n",
              "      fill: #D2E3FC;\n",
              "    }\n",
              "\n",
              "    [theme=dark] .colab-df-convert:hover {\n",
              "      background-color: #434B5C;\n",
              "      box-shadow: 0px 1px 3px 1px rgba(0, 0, 0, 0.15);\n",
              "      filter: drop-shadow(0px 1px 2px rgba(0, 0, 0, 0.3));\n",
              "      fill: #FFFFFF;\n",
              "    }\n",
              "  </style>\n",
              "\n",
              "      <script>\n",
              "        const buttonEl =\n",
              "          document.querySelector('#df-08d737f3-4d56-404a-8a9c-a40b4fab596d button.colab-df-convert');\n",
              "        buttonEl.style.display =\n",
              "          google.colab.kernel.accessAllowed ? 'block' : 'none';\n",
              "\n",
              "        async function convertToInteractive(key) {\n",
              "          const element = document.querySelector('#df-08d737f3-4d56-404a-8a9c-a40b4fab596d');\n",
              "          const dataTable =\n",
              "            await google.colab.kernel.invokeFunction('convertToInteractive',\n",
              "                                                     [key], {});\n",
              "          if (!dataTable) return;\n",
              "\n",
              "          const docLinkHtml = 'Like what you see? Visit the ' +\n",
              "            '<a target=\"_blank\" href=https://colab.research.google.com/notebooks/data_table.ipynb>data table notebook</a>'\n",
              "            + ' to learn more about interactive tables.';\n",
              "          element.innerHTML = '';\n",
              "          dataTable['output_type'] = 'display_data';\n",
              "          await google.colab.output.renderOutput(dataTable, element);\n",
              "          const docLink = document.createElement('div');\n",
              "          docLink.innerHTML = docLinkHtml;\n",
              "          element.appendChild(docLink);\n",
              "        }\n",
              "      </script>\n",
              "    </div>\n",
              "  </div>\n",
              "  "
            ],
            "text/plain": [
              "      outcome  payment_inc_ratio    dti\n",
              "0      target            9.00000  22.50\n",
              "1     default            5.46933  21.33\n",
              "2    paid off            6.90294   8.97\n",
              "3    paid off           11.14800   1.83\n",
              "4     default            3.72120  10.81\n",
              "..        ...                ...    ...\n",
              "196   default           11.66300  26.09\n",
              "197   default            2.97641  16.41\n",
              "198   default            1.96846  19.98\n",
              "199  paid off            9.64200  20.17\n",
              "200  paid off            7.03924  13.88\n",
              "\n",
              "[201 rows x 3 columns]"
            ]
          },
          "metadata": {},
          "execution_count": 13
        }
      ]
    },
    {
      "cell_type": "code",
      "source": [
        "print(loan200[outcome])"
      ],
      "metadata": {
        "colab": {
          "base_uri": "https://localhost:8080/"
        },
        "id": "tqA6nJRAWdQh",
        "outputId": "1e9c7d48-34bb-47e3-c675-548ab710784b"
      },
      "execution_count": 14,
      "outputs": [
        {
          "output_type": "stream",
          "name": "stdout",
          "text": [
            "0        target\n",
            "1       default\n",
            "2      paid off\n",
            "3      paid off\n",
            "4       default\n",
            "         ...   \n",
            "196     default\n",
            "197     default\n",
            "198     default\n",
            "199    paid off\n",
            "200    paid off\n",
            "Name: outcome, Length: 201, dtype: object\n"
          ]
        }
      ]
    },
    {
      "cell_type": "code",
      "source": [
        "print(nbrs[1][0])\n",
        "print(nbrs[1][0] + 1)"
      ],
      "metadata": {
        "colab": {
          "base_uri": "https://localhost:8080/"
        },
        "id": "Av6scruJx_L0",
        "outputId": "5f845288-9674-4a11-9652-7c53abd713f6"
      },
      "execution_count": 15,
      "outputs": [
        {
          "output_type": "stream",
          "name": "stdout",
          "text": [
            "[ 34 181 180  84   8 168  20 198  76  54 140  30  65 162 160 111  77  45\n",
            "  40 138]\n",
            "[ 35 182 181  85   9 169  21 199  77  55 141  31  66 163 161 112  78  46\n",
            "  41 139]\n"
          ]
        }
      ]
    },
    {
      "cell_type": "code",
      "source": [
        "loan200.loc[nbrs[1][0] + 1,:]"
      ],
      "metadata": {
        "colab": {
          "base_uri": "https://localhost:8080/",
          "height": 677
        },
        "id": "2gFI8KoCx1ed",
        "outputId": "a3612e2a-d7e5-40f8-84a6-5a833fc06149"
      },
      "execution_count": 16,
      "outputs": [
        {
          "output_type": "execute_result",
          "data": {
            "text/html": [
              "\n",
              "  <div id=\"df-47bb86fe-e4b8-44de-8f0d-57f348f83713\">\n",
              "    <div class=\"colab-df-container\">\n",
              "      <div>\n",
              "<style scoped>\n",
              "    .dataframe tbody tr th:only-of-type {\n",
              "        vertical-align: middle;\n",
              "    }\n",
              "\n",
              "    .dataframe tbody tr th {\n",
              "        vertical-align: top;\n",
              "    }\n",
              "\n",
              "    .dataframe thead th {\n",
              "        text-align: right;\n",
              "    }\n",
              "</style>\n",
              "<table border=\"1\" class=\"dataframe\">\n",
              "  <thead>\n",
              "    <tr style=\"text-align: right;\">\n",
              "      <th></th>\n",
              "      <th>outcome</th>\n",
              "      <th>payment_inc_ratio</th>\n",
              "      <th>dti</th>\n",
              "    </tr>\n",
              "  </thead>\n",
              "  <tbody>\n",
              "    <tr>\n",
              "      <th>35</th>\n",
              "      <td>default</td>\n",
              "      <td>8.65527</td>\n",
              "      <td>22.23</td>\n",
              "    </tr>\n",
              "    <tr>\n",
              "      <th>182</th>\n",
              "      <td>default</td>\n",
              "      <td>9.05778</td>\n",
              "      <td>21.62</td>\n",
              "    </tr>\n",
              "    <tr>\n",
              "      <th>181</th>\n",
              "      <td>paid off</td>\n",
              "      <td>9.44925</td>\n",
              "      <td>23.30</td>\n",
              "    </tr>\n",
              "    <tr>\n",
              "      <th>85</th>\n",
              "      <td>default</td>\n",
              "      <td>8.70942</td>\n",
              "      <td>24.13</td>\n",
              "    </tr>\n",
              "    <tr>\n",
              "      <th>9</th>\n",
              "      <td>default</td>\n",
              "      <td>9.43396</td>\n",
              "      <td>24.15</td>\n",
              "    </tr>\n",
              "    <tr>\n",
              "      <th>169</th>\n",
              "      <td>default</td>\n",
              "      <td>8.02887</td>\n",
              "      <td>20.86</td>\n",
              "    </tr>\n",
              "    <tr>\n",
              "      <th>21</th>\n",
              "      <td>default</td>\n",
              "      <td>6.91886</td>\n",
              "      <td>22.47</td>\n",
              "    </tr>\n",
              "    <tr>\n",
              "      <th>199</th>\n",
              "      <td>paid off</td>\n",
              "      <td>9.64200</td>\n",
              "      <td>20.17</td>\n",
              "    </tr>\n",
              "    <tr>\n",
              "      <th>77</th>\n",
              "      <td>paid off</td>\n",
              "      <td>7.70160</td>\n",
              "      <td>24.57</td>\n",
              "    </tr>\n",
              "    <tr>\n",
              "      <th>55</th>\n",
              "      <td>paid off</td>\n",
              "      <td>11.52250</td>\n",
              "      <td>21.45</td>\n",
              "    </tr>\n",
              "    <tr>\n",
              "      <th>141</th>\n",
              "      <td>paid off</td>\n",
              "      <td>8.64978</td>\n",
              "      <td>19.78</td>\n",
              "    </tr>\n",
              "    <tr>\n",
              "      <th>31</th>\n",
              "      <td>paid off</td>\n",
              "      <td>11.86030</td>\n",
              "      <td>22.54</td>\n",
              "    </tr>\n",
              "    <tr>\n",
              "      <th>66</th>\n",
              "      <td>paid off</td>\n",
              "      <td>9.52255</td>\n",
              "      <td>19.66</td>\n",
              "    </tr>\n",
              "    <tr>\n",
              "      <th>163</th>\n",
              "      <td>paid off</td>\n",
              "      <td>7.90032</td>\n",
              "      <td>19.71</td>\n",
              "    </tr>\n",
              "    <tr>\n",
              "      <th>161</th>\n",
              "      <td>paid off</td>\n",
              "      <td>10.18890</td>\n",
              "      <td>25.47</td>\n",
              "    </tr>\n",
              "    <tr>\n",
              "      <th>112</th>\n",
              "      <td>default</td>\n",
              "      <td>5.82492</td>\n",
              "      <td>22.00</td>\n",
              "    </tr>\n",
              "    <tr>\n",
              "      <th>78</th>\n",
              "      <td>default</td>\n",
              "      <td>12.35380</td>\n",
              "      <td>22.22</td>\n",
              "    </tr>\n",
              "    <tr>\n",
              "      <th>46</th>\n",
              "      <td>paid off</td>\n",
              "      <td>5.62357</td>\n",
              "      <td>22.35</td>\n",
              "    </tr>\n",
              "    <tr>\n",
              "      <th>41</th>\n",
              "      <td>paid off</td>\n",
              "      <td>8.16320</td>\n",
              "      <td>19.14</td>\n",
              "    </tr>\n",
              "    <tr>\n",
              "      <th>139</th>\n",
              "      <td>default</td>\n",
              "      <td>10.02450</td>\n",
              "      <td>19.11</td>\n",
              "    </tr>\n",
              "  </tbody>\n",
              "</table>\n",
              "</div>\n",
              "      <button class=\"colab-df-convert\" onclick=\"convertToInteractive('df-47bb86fe-e4b8-44de-8f0d-57f348f83713')\"\n",
              "              title=\"Convert this dataframe to an interactive table.\"\n",
              "              style=\"display:none;\">\n",
              "        \n",
              "  <svg xmlns=\"http://www.w3.org/2000/svg\" height=\"24px\"viewBox=\"0 0 24 24\"\n",
              "       width=\"24px\">\n",
              "    <path d=\"M0 0h24v24H0V0z\" fill=\"none\"/>\n",
              "    <path d=\"M18.56 5.44l.94 2.06.94-2.06 2.06-.94-2.06-.94-.94-2.06-.94 2.06-2.06.94zm-11 1L8.5 8.5l.94-2.06 2.06-.94-2.06-.94L8.5 2.5l-.94 2.06-2.06.94zm10 10l.94 2.06.94-2.06 2.06-.94-2.06-.94-.94-2.06-.94 2.06-2.06.94z\"/><path d=\"M17.41 7.96l-1.37-1.37c-.4-.4-.92-.59-1.43-.59-.52 0-1.04.2-1.43.59L10.3 9.45l-7.72 7.72c-.78.78-.78 2.05 0 2.83L4 21.41c.39.39.9.59 1.41.59.51 0 1.02-.2 1.41-.59l7.78-7.78 2.81-2.81c.8-.78.8-2.07 0-2.86zM5.41 20L4 18.59l7.72-7.72 1.47 1.35L5.41 20z\"/>\n",
              "  </svg>\n",
              "      </button>\n",
              "      \n",
              "  <style>\n",
              "    .colab-df-container {\n",
              "      display:flex;\n",
              "      flex-wrap:wrap;\n",
              "      gap: 12px;\n",
              "    }\n",
              "\n",
              "    .colab-df-convert {\n",
              "      background-color: #E8F0FE;\n",
              "      border: none;\n",
              "      border-radius: 50%;\n",
              "      cursor: pointer;\n",
              "      display: none;\n",
              "      fill: #1967D2;\n",
              "      height: 32px;\n",
              "      padding: 0 0 0 0;\n",
              "      width: 32px;\n",
              "    }\n",
              "\n",
              "    .colab-df-convert:hover {\n",
              "      background-color: #E2EBFA;\n",
              "      box-shadow: 0px 1px 2px rgba(60, 64, 67, 0.3), 0px 1px 3px 1px rgba(60, 64, 67, 0.15);\n",
              "      fill: #174EA6;\n",
              "    }\n",
              "\n",
              "    [theme=dark] .colab-df-convert {\n",
              "      background-color: #3B4455;\n",
              "      fill: #D2E3FC;\n",
              "    }\n",
              "\n",
              "    [theme=dark] .colab-df-convert:hover {\n",
              "      background-color: #434B5C;\n",
              "      box-shadow: 0px 1px 3px 1px rgba(0, 0, 0, 0.15);\n",
              "      filter: drop-shadow(0px 1px 2px rgba(0, 0, 0, 0.3));\n",
              "      fill: #FFFFFF;\n",
              "    }\n",
              "  </style>\n",
              "\n",
              "      <script>\n",
              "        const buttonEl =\n",
              "          document.querySelector('#df-47bb86fe-e4b8-44de-8f0d-57f348f83713 button.colab-df-convert');\n",
              "        buttonEl.style.display =\n",
              "          google.colab.kernel.accessAllowed ? 'block' : 'none';\n",
              "\n",
              "        async function convertToInteractive(key) {\n",
              "          const element = document.querySelector('#df-47bb86fe-e4b8-44de-8f0d-57f348f83713');\n",
              "          const dataTable =\n",
              "            await google.colab.kernel.invokeFunction('convertToInteractive',\n",
              "                                                     [key], {});\n",
              "          if (!dataTable) return;\n",
              "\n",
              "          const docLinkHtml = 'Like what you see? Visit the ' +\n",
              "            '<a target=\"_blank\" href=https://colab.research.google.com/notebooks/data_table.ipynb>data table notebook</a>'\n",
              "            + ' to learn more about interactive tables.';\n",
              "          element.innerHTML = '';\n",
              "          dataTable['output_type'] = 'display_data';\n",
              "          await google.colab.output.renderOutput(dataTable, element);\n",
              "          const docLink = document.createElement('div');\n",
              "          docLink.innerHTML = docLinkHtml;\n",
              "          element.appendChild(docLink);\n",
              "        }\n",
              "      </script>\n",
              "    </div>\n",
              "  </div>\n",
              "  "
            ],
            "text/plain": [
              "      outcome  payment_inc_ratio    dti\n",
              "35    default            8.65527  22.23\n",
              "182   default            9.05778  21.62\n",
              "181  paid off            9.44925  23.30\n",
              "85    default            8.70942  24.13\n",
              "9     default            9.43396  24.15\n",
              "169   default            8.02887  20.86\n",
              "21    default            6.91886  22.47\n",
              "199  paid off            9.64200  20.17\n",
              "77   paid off            7.70160  24.57\n",
              "55   paid off           11.52250  21.45\n",
              "141  paid off            8.64978  19.78\n",
              "31   paid off           11.86030  22.54\n",
              "66   paid off            9.52255  19.66\n",
              "163  paid off            7.90032  19.71\n",
              "161  paid off           10.18890  25.47\n",
              "112   default            5.82492  22.00\n",
              "78    default           12.35380  22.22\n",
              "46   paid off            5.62357  22.35\n",
              "41   paid off            8.16320  19.14\n",
              "139   default           10.02450  19.11"
            ]
          },
          "metadata": {},
          "execution_count": 16
        }
      ]
    },
    {
      "cell_type": "code",
      "source": [
        "%matplotlib inline\n",
        "\n",
        "fig, ax = plt.subplots(figsize=(4, 4))\n",
        "sns.scatterplot(x='payment_inc_ratio', y='dti', style='outcome', \n",
        "                hue='outcome', data=loan200, alpha=0.3, ax=ax)\n",
        "sns.scatterplot(x='payment_inc_ratio', y='dti', style='outcome', \n",
        "                hue='outcome', \n",
        "                data=pd.concat([loan200.loc[0:0, :], loan200.loc[nbrs[1][0] + 1, :]]), \n",
        "                ax=ax, legend=False)\n",
        "ellipse = Ellipse(xy=newloan.values[0], \n",
        "                  width=2 * maxDistance, height=2 * maxDistance,\n",
        "                  edgecolor='black', fc='None', lw=1)\n",
        "ax.add_patch(ellipse)\n",
        "ax.set_xlim(3, 16)\n",
        "ax.set_ylim(15, 30)\n",
        "\n",
        "plt.tight_layout()\n",
        "plt.show()"
      ],
      "metadata": {
        "colab": {
          "base_uri": "https://localhost:8080/",
          "height": 297
        },
        "id": "vUhg4X9xUvJ-",
        "outputId": "9f7b4a2e-454f-426a-e47f-f2e2fddec571"
      },
      "execution_count": 17,
      "outputs": [
        {
          "output_type": "display_data",
          "data": {
            "image/png": "[encoded data removed]",
            "text/plain": [
              "<Figure size 288x288 with 1 Axes>"
            ]
          },
          "metadata": {
            "needs_background": "light"
          }
        }
      ]
    },
    {
      "cell_type": "markdown",
      "source": [
        "### **6.1.4 Standardization (Normalization, Z-Scores)**"
      ],
      "metadata": {
        "id": "rtfMqC1IU0HB"
      }
    },
    {
      "cell_type": "code",
      "source": [
        "loan_data = pd.read_csv(LOAN_DATA_CSV)\n",
        "loan_data.head()"
      ],
      "metadata": {
        "colab": {
          "base_uri": "https://localhost:8080/",
          "height": 374
        },
        "id": "_-cGl58UR5Kg",
        "outputId": "146f81a5-62be-480f-d3a7-be99ef9b3ecb"
      },
      "execution_count": 18,
      "outputs": [
        {
          "output_type": "execute_result",
          "data": {
            "text/html": [
              "\n",
              "  <div id=\"df-84b3b64a-ca5e-484e-af35-24ebdc679185\">\n",
              "    <div class=\"colab-df-container\">\n",
              "      <div>\n",
              "<style scoped>\n",
              "    .dataframe tbody tr th:only-of-type {\n",
              "        vertical-align: middle;\n",
              "    }\n",
              "\n",
              "    .dataframe tbody tr th {\n",
              "        vertical-align: top;\n",
              "    }\n",
              "\n",
              "    .dataframe thead th {\n",
              "        text-align: right;\n",
              "    }\n",
              "</style>\n",
              "<table border=\"1\" class=\"dataframe\">\n",
              "  <thead>\n",
              "    <tr style=\"text-align: right;\">\n",
              "      <th></th>\n",
              "      <th>Unnamed: 0</th>\n",
              "      <th>status</th>\n",
              "      <th>loan_amnt</th>\n",
              "      <th>term</th>\n",
              "      <th>annual_inc</th>\n",
              "      <th>dti</th>\n",
              "      <th>payment_inc_ratio</th>\n",
              "      <th>revol_bal</th>\n",
              "      <th>revol_util</th>\n",
              "      <th>purpose</th>\n",
              "      <th>home_ownership</th>\n",
              "      <th>delinq_2yrs_zero</th>\n",
              "      <th>pub_rec_zero</th>\n",
              "      <th>open_acc</th>\n",
              "      <th>grade</th>\n",
              "      <th>outcome</th>\n",
              "      <th>emp_length</th>\n",
              "      <th>purpose_</th>\n",
              "      <th>home_</th>\n",
              "      <th>emp_len_</th>\n",
              "      <th>borrower_score</th>\n",
              "    </tr>\n",
              "  </thead>\n",
              "  <tbody>\n",
              "    <tr>\n",
              "      <th>0</th>\n",
              "      <td>1</td>\n",
              "      <td>Charged Off</td>\n",
              "      <td>2500</td>\n",
              "      <td>60 months</td>\n",
              "      <td>30000</td>\n",
              "      <td>1.00</td>\n",
              "      <td>2.39320</td>\n",
              "      <td>1687</td>\n",
              "      <td>9.4</td>\n",
              "      <td>car</td>\n",
              "      <td>RENT</td>\n",
              "      <td>1</td>\n",
              "      <td>1</td>\n",
              "      <td>3</td>\n",
              "      <td>4.8</td>\n",
              "      <td>default</td>\n",
              "      <td>1</td>\n",
              "      <td>major_purchase</td>\n",
              "      <td>RENT</td>\n",
              "      <td>&gt; 1 Year</td>\n",
              "      <td>0.65</td>\n",
              "    </tr>\n",
              "    <tr>\n",
              "      <th>1</th>\n",
              "      <td>2</td>\n",
              "      <td>Charged Off</td>\n",
              "      <td>5600</td>\n",
              "      <td>60 months</td>\n",
              "      <td>40000</td>\n",
              "      <td>5.55</td>\n",
              "      <td>4.57170</td>\n",
              "      <td>5210</td>\n",
              "      <td>32.6</td>\n",
              "      <td>small_business</td>\n",
              "      <td>OWN</td>\n",
              "      <td>1</td>\n",
              "      <td>1</td>\n",
              "      <td>11</td>\n",
              "      <td>1.4</td>\n",
              "      <td>default</td>\n",
              "      <td>5</td>\n",
              "      <td>small_business</td>\n",
              "      <td>OWN</td>\n",
              "      <td>&gt; 1 Year</td>\n",
              "      <td>0.80</td>\n",
              "    </tr>\n",
              "    <tr>\n",
              "      <th>2</th>\n",
              "      <td>3</td>\n",
              "      <td>Charged Off</td>\n",
              "      <td>5375</td>\n",
              "      <td>60 months</td>\n",
              "      <td>15000</td>\n",
              "      <td>18.08</td>\n",
              "      <td>9.71600</td>\n",
              "      <td>9279</td>\n",
              "      <td>36.5</td>\n",
              "      <td>other</td>\n",
              "      <td>RENT</td>\n",
              "      <td>1</td>\n",
              "      <td>1</td>\n",
              "      <td>2</td>\n",
              "      <td>6.0</td>\n",
              "      <td>default</td>\n",
              "      <td>1</td>\n",
              "      <td>other</td>\n",
              "      <td>RENT</td>\n",
              "      <td>&gt; 1 Year</td>\n",
              "      <td>0.60</td>\n",
              "    </tr>\n",
              "    <tr>\n",
              "      <th>3</th>\n",
              "      <td>4</td>\n",
              "      <td>Charged Off</td>\n",
              "      <td>9000</td>\n",
              "      <td>36 months</td>\n",
              "      <td>30000</td>\n",
              "      <td>10.08</td>\n",
              "      <td>12.21520</td>\n",
              "      <td>10452</td>\n",
              "      <td>91.7</td>\n",
              "      <td>debt_consolidation</td>\n",
              "      <td>RENT</td>\n",
              "      <td>1</td>\n",
              "      <td>1</td>\n",
              "      <td>4</td>\n",
              "      <td>4.2</td>\n",
              "      <td>default</td>\n",
              "      <td>1</td>\n",
              "      <td>debt_consolidation</td>\n",
              "      <td>RENT</td>\n",
              "      <td>&gt; 1 Year</td>\n",
              "      <td>0.50</td>\n",
              "    </tr>\n",
              "    <tr>\n",
              "      <th>4</th>\n",
              "      <td>5</td>\n",
              "      <td>Charged Off</td>\n",
              "      <td>10000</td>\n",
              "      <td>36 months</td>\n",
              "      <td>100000</td>\n",
              "      <td>7.06</td>\n",
              "      <td>3.90888</td>\n",
              "      <td>11997</td>\n",
              "      <td>55.5</td>\n",
              "      <td>other</td>\n",
              "      <td>RENT</td>\n",
              "      <td>1</td>\n",
              "      <td>1</td>\n",
              "      <td>14</td>\n",
              "      <td>5.4</td>\n",
              "      <td>default</td>\n",
              "      <td>4</td>\n",
              "      <td>other</td>\n",
              "      <td>RENT</td>\n",
              "      <td>&gt; 1 Year</td>\n",
              "      <td>0.55</td>\n",
              "    </tr>\n",
              "  </tbody>\n",
              "</table>\n",
              "</div>\n",
              "      <button class=\"colab-df-convert\" onclick=\"convertToInteractive('df-84b3b64a-ca5e-484e-af35-24ebdc679185')\"\n",
              "              title=\"Convert this dataframe to an interactive table.\"\n",
              "              style=\"display:none;\">\n",
              "        \n",
              "  <svg xmlns=\"http://www.w3.org/2000/svg\" height=\"24px\"viewBox=\"0 0 24 24\"\n",
              "       width=\"24px\">\n",
              "    <path d=\"M0 0h24v24H0V0z\" fill=\"none\"/>\n",
              "    <path d=\"M18.56 5.44l.94 2.06.94-2.06 2.06-.94-2.06-.94-.94-2.06-.94 2.06-2.06.94zm-11 1L8.5 8.5l.94-2.06 2.06-.94-2.06-.94L8.5 2.5l-.94 2.06-2.06.94zm10 10l.94 2.06.94-2.06 2.06-.94-2.06-.94-.94-2.06-.94 2.06-2.06.94z\"/><path d=\"M17.41 7.96l-1.37-1.37c-.4-.4-.92-.59-1.43-.59-.52 0-1.04.2-1.43.59L10.3 9.45l-7.72 7.72c-.78.78-.78 2.05 0 2.83L4 21.41c.39.39.9.59 1.41.59.51 0 1.02-.2 1.41-.59l7.78-7.78 2.81-2.81c.8-.78.8-2.07 0-2.86zM5.41 20L4 18.59l7.72-7.72 1.47 1.35L5.41 20z\"/>\n",
              "  </svg>\n",
              "      </button>\n",
              "      \n",
              "  <style>\n",
              "    .colab-df-container {\n",
              "      display:flex;\n",
              "      flex-wrap:wrap;\n",
              "      gap: 12px;\n",
              "    }\n",
              "\n",
              "    .colab-df-convert {\n",
              "      background-color: #E8F0FE;\n",
              "      border: none;\n",
              "      border-radius: 50%;\n",
              "      cursor: pointer;\n",
              "      display: none;\n",
              "      fill: #1967D2;\n",
              "      height: 32px;\n",
              "      padding: 0 0 0 0;\n",
              "      width: 32px;\n",
              "    }\n",
              "\n",
              "    .colab-df-convert:hover {\n",
              "      background-color: #E2EBFA;\n",
              "      box-shadow: 0px 1px 2px rgba(60, 64, 67, 0.3), 0px 1px 3px 1px rgba(60, 64, 67, 0.15);\n",
              "      fill: #174EA6;\n",
              "    }\n",
              "\n",
              "    [theme=dark] .colab-df-convert {\n",
              "      background-color: #3B4455;\n",
              "      fill: #D2E3FC;\n",
              "    }\n",
              "\n",
              "    [theme=dark] .colab-df-convert:hover {\n",
              "      background-color: #434B5C;\n",
              "      box-shadow: 0px 1px 3px 1px rgba(0, 0, 0, 0.15);\n",
              "      filter: drop-shadow(0px 1px 2px rgba(0, 0, 0, 0.3));\n",
              "      fill: #FFFFFF;\n",
              "    }\n",
              "  </style>\n",
              "\n",
              "      <script>\n",
              "        const buttonEl =\n",
              "          document.querySelector('#df-84b3b64a-ca5e-484e-af35-24ebdc679185 button.colab-df-convert');\n",
              "        buttonEl.style.display =\n",
              "          google.colab.kernel.accessAllowed ? 'block' : 'none';\n",
              "\n",
              "        async function convertToInteractive(key) {\n",
              "          const element = document.querySelector('#df-84b3b64a-ca5e-484e-af35-24ebdc679185');\n",
              "          const dataTable =\n",
              "            await google.colab.kernel.invokeFunction('convertToInteractive',\n",
              "                                                     [key], {});\n",
              "          if (!dataTable) return;\n",
              "\n",
              "          const docLinkHtml = 'Like what you see? Visit the ' +\n",
              "            '<a target=\"_blank\" href=https://colab.research.google.com/notebooks/data_table.ipynb>data table notebook</a>'\n",
              "            + ' to learn more about interactive tables.';\n",
              "          element.innerHTML = '';\n",
              "          dataTable['output_type'] = 'display_data';\n",
              "          await google.colab.output.renderOutput(dataTable, element);\n",
              "          const docLink = document.createElement('div');\n",
              "          docLink.innerHTML = docLinkHtml;\n",
              "          element.appendChild(docLink);\n",
              "        }\n",
              "      </script>\n",
              "    </div>\n",
              "  </div>\n",
              "  "
            ],
            "text/plain": [
              "   Unnamed: 0       status  loan_amnt  ... home_   emp_len_  borrower_score\n",
              "0           1  Charged Off       2500  ...  RENT   > 1 Year            0.65\n",
              "1           2  Charged Off       5600  ...   OWN   > 1 Year            0.80\n",
              "2           3  Charged Off       5375  ...  RENT   > 1 Year            0.60\n",
              "3           4  Charged Off       9000  ...  RENT   > 1 Year            0.50\n",
              "4           5  Charged Off      10000  ...  RENT   > 1 Year            0.55\n",
              "\n",
              "[5 rows x 21 columns]"
            ]
          },
          "metadata": {},
          "execution_count": 18
        }
      ]
    },
    {
      "cell_type": "code",
      "source": [
        "loan_data = loan_data.drop(columns=['Unnamed: 0', 'status'])\n",
        "loan_data.head()"
      ],
      "metadata": {
        "colab": {
          "base_uri": "https://localhost:8080/",
          "height": 357
        },
        "id": "EuCE3UluR79y",
        "outputId": "bd99f9fa-7538-4c4c-d45e-852be3e38f9f"
      },
      "execution_count": 19,
      "outputs": [
        {
          "output_type": "execute_result",
          "data": {
            "text/html": [
              "\n",
              "  <div id=\"df-e7267fd3-79ad-415e-81eb-4b6feb5ae319\">\n",
              "    <div class=\"colab-df-container\">\n",
              "      <div>\n",
              "<style scoped>\n",
              "    .dataframe tbody tr th:only-of-type {\n",
              "        vertical-align: middle;\n",
              "    }\n",
              "\n",
              "    .dataframe tbody tr th {\n",
              "        vertical-align: top;\n",
              "    }\n",
              "\n",
              "    .dataframe thead th {\n",
              "        text-align: right;\n",
              "    }\n",
              "</style>\n",
              "<table border=\"1\" class=\"dataframe\">\n",
              "  <thead>\n",
              "    <tr style=\"text-align: right;\">\n",
              "      <th></th>\n",
              "      <th>loan_amnt</th>\n",
              "      <th>term</th>\n",
              "      <th>annual_inc</th>\n",
              "      <th>dti</th>\n",
              "      <th>payment_inc_ratio</th>\n",
              "      <th>revol_bal</th>\n",
              "      <th>revol_util</th>\n",
              "      <th>purpose</th>\n",
              "      <th>home_ownership</th>\n",
              "      <th>delinq_2yrs_zero</th>\n",
              "      <th>pub_rec_zero</th>\n",
              "      <th>open_acc</th>\n",
              "      <th>grade</th>\n",
              "      <th>outcome</th>\n",
              "      <th>emp_length</th>\n",
              "      <th>purpose_</th>\n",
              "      <th>home_</th>\n",
              "      <th>emp_len_</th>\n",
              "      <th>borrower_score</th>\n",
              "    </tr>\n",
              "  </thead>\n",
              "  <tbody>\n",
              "    <tr>\n",
              "      <th>0</th>\n",
              "      <td>2500</td>\n",
              "      <td>60 months</td>\n",
              "      <td>30000</td>\n",
              "      <td>1.00</td>\n",
              "      <td>2.39320</td>\n",
              "      <td>1687</td>\n",
              "      <td>9.4</td>\n",
              "      <td>car</td>\n",
              "      <td>RENT</td>\n",
              "      <td>1</td>\n",
              "      <td>1</td>\n",
              "      <td>3</td>\n",
              "      <td>4.8</td>\n",
              "      <td>default</td>\n",
              "      <td>1</td>\n",
              "      <td>major_purchase</td>\n",
              "      <td>RENT</td>\n",
              "      <td>&gt; 1 Year</td>\n",
              "      <td>0.65</td>\n",
              "    </tr>\n",
              "    <tr>\n",
              "      <th>1</th>\n",
              "      <td>5600</td>\n",
              "      <td>60 months</td>\n",
              "      <td>40000</td>\n",
              "      <td>5.55</td>\n",
              "      <td>4.57170</td>\n",
              "      <td>5210</td>\n",
              "      <td>32.6</td>\n",
              "      <td>small_business</td>\n",
              "      <td>OWN</td>\n",
              "      <td>1</td>\n",
              "      <td>1</td>\n",
              "      <td>11</td>\n",
              "      <td>1.4</td>\n",
              "      <td>default</td>\n",
              "      <td>5</td>\n",
              "      <td>small_business</td>\n",
              "      <td>OWN</td>\n",
              "      <td>&gt; 1 Year</td>\n",
              "      <td>0.80</td>\n",
              "    </tr>\n",
              "    <tr>\n",
              "      <th>2</th>\n",
              "      <td>5375</td>\n",
              "      <td>60 months</td>\n",
              "      <td>15000</td>\n",
              "      <td>18.08</td>\n",
              "      <td>9.71600</td>\n",
              "      <td>9279</td>\n",
              "      <td>36.5</td>\n",
              "      <td>other</td>\n",
              "      <td>RENT</td>\n",
              "      <td>1</td>\n",
              "      <td>1</td>\n",
              "      <td>2</td>\n",
              "      <td>6.0</td>\n",
              "      <td>default</td>\n",
              "      <td>1</td>\n",
              "      <td>other</td>\n",
              "      <td>RENT</td>\n",
              "      <td>&gt; 1 Year</td>\n",
              "      <td>0.60</td>\n",
              "    </tr>\n",
              "    <tr>\n",
              "      <th>3</th>\n",
              "      <td>9000</td>\n",
              "      <td>36 months</td>\n",
              "      <td>30000</td>\n",
              "      <td>10.08</td>\n",
              "      <td>12.21520</td>\n",
              "      <td>10452</td>\n",
              "      <td>91.7</td>\n",
              "      <td>debt_consolidation</td>\n",
              "      <td>RENT</td>\n",
              "      <td>1</td>\n",
              "      <td>1</td>\n",
              "      <td>4</td>\n",
              "      <td>4.2</td>\n",
              "      <td>default</td>\n",
              "      <td>1</td>\n",
              "      <td>debt_consolidation</td>\n",
              "      <td>RENT</td>\n",
              "      <td>&gt; 1 Year</td>\n",
              "      <td>0.50</td>\n",
              "    </tr>\n",
              "    <tr>\n",
              "      <th>4</th>\n",
              "      <td>10000</td>\n",
              "      <td>36 months</td>\n",
              "      <td>100000</td>\n",
              "      <td>7.06</td>\n",
              "      <td>3.90888</td>\n",
              "      <td>11997</td>\n",
              "      <td>55.5</td>\n",
              "      <td>other</td>\n",
              "      <td>RENT</td>\n",
              "      <td>1</td>\n",
              "      <td>1</td>\n",
              "      <td>14</td>\n",
              "      <td>5.4</td>\n",
              "      <td>default</td>\n",
              "      <td>4</td>\n",
              "      <td>other</td>\n",
              "      <td>RENT</td>\n",
              "      <td>&gt; 1 Year</td>\n",
              "      <td>0.55</td>\n",
              "    </tr>\n",
              "  </tbody>\n",
              "</table>\n",
              "</div>\n",
              "      <button class=\"colab-df-convert\" onclick=\"convertToInteractive('df-e7267fd3-79ad-415e-81eb-4b6feb5ae319')\"\n",
              "              title=\"Convert this dataframe to an interactive table.\"\n",
              "              style=\"display:none;\">\n",
              "        \n",
              "  <svg xmlns=\"http://www.w3.org/2000/svg\" height=\"24px\"viewBox=\"0 0 24 24\"\n",
              "       width=\"24px\">\n",
              "    <path d=\"M0 0h24v24H0V0z\" fill=\"none\"/>\n",
              "    <path d=\"M18.56 5.44l.94 2.06.94-2.06 2.06-.94-2.06-.94-.94-2.06-.94 2.06-2.06.94zm-11 1L8.5 8.5l.94-2.06 2.06-.94-2.06-.94L8.5 2.5l-.94 2.06-2.06.94zm10 10l.94 2.06.94-2.06 2.06-.94-2.06-.94-.94-2.06-.94 2.06-2.06.94z\"/><path d=\"M17.41 7.96l-1.37-1.37c-.4-.4-.92-.59-1.43-.59-.52 0-1.04.2-1.43.59L10.3 9.45l-7.72 7.72c-.78.78-.78 2.05 0 2.83L4 21.41c.39.39.9.59 1.41.59.51 0 1.02-.2 1.41-.59l7.78-7.78 2.81-2.81c.8-.78.8-2.07 0-2.86zM5.41 20L4 18.59l7.72-7.72 1.47 1.35L5.41 20z\"/>\n",
              "  </svg>\n",
              "      </button>\n",
              "      \n",
              "  <style>\n",
              "    .colab-df-container {\n",
              "      display:flex;\n",
              "      flex-wrap:wrap;\n",
              "      gap: 12px;\n",
              "    }\n",
              "\n",
              "    .colab-df-convert {\n",
              "      background-color: #E8F0FE;\n",
              "      border: none;\n",
              "      border-radius: 50%;\n",
              "      cursor: pointer;\n",
              "      display: none;\n",
              "      fill: #1967D2;\n",
              "      height: 32px;\n",
              "      padding: 0 0 0 0;\n",
              "      width: 32px;\n",
              "    }\n",
              "\n",
              "    .colab-df-convert:hover {\n",
              "      background-color: #E2EBFA;\n",
              "      box-shadow: 0px 1px 2px rgba(60, 64, 67, 0.3), 0px 1px 3px 1px rgba(60, 64, 67, 0.15);\n",
              "      fill: #174EA6;\n",
              "    }\n",
              "\n",
              "    [theme=dark] .colab-df-convert {\n",
              "      background-color: #3B4455;\n",
              "      fill: #D2E3FC;\n",
              "    }\n",
              "\n",
              "    [theme=dark] .colab-df-convert:hover {\n",
              "      background-color: #434B5C;\n",
              "      box-shadow: 0px 1px 3px 1px rgba(0, 0, 0, 0.15);\n",
              "      filter: drop-shadow(0px 1px 2px rgba(0, 0, 0, 0.3));\n",
              "      fill: #FFFFFF;\n",
              "    }\n",
              "  </style>\n",
              "\n",
              "      <script>\n",
              "        const buttonEl =\n",
              "          document.querySelector('#df-e7267fd3-79ad-415e-81eb-4b6feb5ae319 button.colab-df-convert');\n",
              "        buttonEl.style.display =\n",
              "          google.colab.kernel.accessAllowed ? 'block' : 'none';\n",
              "\n",
              "        async function convertToInteractive(key) {\n",
              "          const element = document.querySelector('#df-e7267fd3-79ad-415e-81eb-4b6feb5ae319');\n",
              "          const dataTable =\n",
              "            await google.colab.kernel.invokeFunction('convertToInteractive',\n",
              "                                                     [key], {});\n",
              "          if (!dataTable) return;\n",
              "\n",
              "          const docLinkHtml = 'Like what you see? Visit the ' +\n",
              "            '<a target=\"_blank\" href=https://colab.research.google.com/notebooks/data_table.ipynb>data table notebook</a>'\n",
              "            + ' to learn more about interactive tables.';\n",
              "          element.innerHTML = '';\n",
              "          dataTable['output_type'] = 'display_data';\n",
              "          await google.colab.output.renderOutput(dataTable, element);\n",
              "          const docLink = document.createElement('div');\n",
              "          docLink.innerHTML = docLinkHtml;\n",
              "          element.appendChild(docLink);\n",
              "        }\n",
              "      </script>\n",
              "    </div>\n",
              "  </div>\n",
              "  "
            ],
            "text/plain": [
              "   loan_amnt       term  annual_inc  ...  home_   emp_len_  borrower_score\n",
              "0       2500  60 months       30000  ...   RENT   > 1 Year            0.65\n",
              "1       5600  60 months       40000  ...    OWN   > 1 Year            0.80\n",
              "2       5375  60 months       15000  ...   RENT   > 1 Year            0.60\n",
              "3       9000  36 months       30000  ...   RENT   > 1 Year            0.50\n",
              "4      10000  36 months      100000  ...   RENT   > 1 Year            0.55\n",
              "\n",
              "[5 rows x 19 columns]"
            ]
          },
          "metadata": {},
          "execution_count": 19
        }
      ]
    },
    {
      "cell_type": "code",
      "source": [
        "loan_data['outcome'] = pd.Categorical(loan_data['outcome'], \n",
        "                                      categories=['paid off', 'default'], \n",
        "                                      ordered=True)\n",
        "loan_data.head()"
      ],
      "metadata": {
        "colab": {
          "base_uri": "https://localhost:8080/",
          "height": 357
        },
        "id": "LANKGAKLR9dU",
        "outputId": "8875f7c2-724e-425d-a954-af5357e3507f"
      },
      "execution_count": 20,
      "outputs": [
        {
          "output_type": "execute_result",
          "data": {
            "text/html": [
              "\n",
              "  <div id=\"df-d2bd1212-ed14-44e9-80c8-1f16e0bc6733\">\n",
              "    <div class=\"colab-df-container\">\n",
              "      <div>\n",
              "<style scoped>\n",
              "    .dataframe tbody tr th:only-of-type {\n",
              "        vertical-align: middle;\n",
              "    }\n",
              "\n",
              "    .dataframe tbody tr th {\n",
              "        vertical-align: top;\n",
              "    }\n",
              "\n",
              "    .dataframe thead th {\n",
              "        text-align: right;\n",
              "    }\n",
              "</style>\n",
              "<table border=\"1\" class=\"dataframe\">\n",
              "  <thead>\n",
              "    <tr style=\"text-align: right;\">\n",
              "      <th></th>\n",
              "      <th>loan_amnt</th>\n",
              "      <th>term</th>\n",
              "      <th>annual_inc</th>\n",
              "      <th>dti</th>\n",
              "      <th>payment_inc_ratio</th>\n",
              "      <th>revol_bal</th>\n",
              "      <th>revol_util</th>\n",
              "      <th>purpose</th>\n",
              "      <th>home_ownership</th>\n",
              "      <th>delinq_2yrs_zero</th>\n",
              "      <th>pub_rec_zero</th>\n",
              "      <th>open_acc</th>\n",
              "      <th>grade</th>\n",
              "      <th>outcome</th>\n",
              "      <th>emp_length</th>\n",
              "      <th>purpose_</th>\n",
              "      <th>home_</th>\n",
              "      <th>emp_len_</th>\n",
              "      <th>borrower_score</th>\n",
              "    </tr>\n",
              "  </thead>\n",
              "  <tbody>\n",
              "    <tr>\n",
              "      <th>0</th>\n",
              "      <td>2500</td>\n",
              "      <td>60 months</td>\n",
              "      <td>30000</td>\n",
              "      <td>1.00</td>\n",
              "      <td>2.39320</td>\n",
              "      <td>1687</td>\n",
              "      <td>9.4</td>\n",
              "      <td>car</td>\n",
              "      <td>RENT</td>\n",
              "      <td>1</td>\n",
              "      <td>1</td>\n",
              "      <td>3</td>\n",
              "      <td>4.8</td>\n",
              "      <td>default</td>\n",
              "      <td>1</td>\n",
              "      <td>major_purchase</td>\n",
              "      <td>RENT</td>\n",
              "      <td>&gt; 1 Year</td>\n",
              "      <td>0.65</td>\n",
              "    </tr>\n",
              "    <tr>\n",
              "      <th>1</th>\n",
              "      <td>5600</td>\n",
              "      <td>60 months</td>\n",
              "      <td>40000</td>\n",
              "      <td>5.55</td>\n",
              "      <td>4.57170</td>\n",
              "      <td>5210</td>\n",
              "      <td>32.6</td>\n",
              "      <td>small_business</td>\n",
              "      <td>OWN</td>\n",
              "      <td>1</td>\n",
              "      <td>1</td>\n",
              "      <td>11</td>\n",
              "      <td>1.4</td>\n",
              "      <td>default</td>\n",
              "      <td>5</td>\n",
              "      <td>small_business</td>\n",
              "      <td>OWN</td>\n",
              "      <td>&gt; 1 Year</td>\n",
              "      <td>0.80</td>\n",
              "    </tr>\n",
              "    <tr>\n",
              "      <th>2</th>\n",
              "      <td>5375</td>\n",
              "      <td>60 months</td>\n",
              "      <td>15000</td>\n",
              "      <td>18.08</td>\n",
              "      <td>9.71600</td>\n",
              "      <td>9279</td>\n",
              "      <td>36.5</td>\n",
              "      <td>other</td>\n",
              "      <td>RENT</td>\n",
              "      <td>1</td>\n",
              "      <td>1</td>\n",
              "      <td>2</td>\n",
              "      <td>6.0</td>\n",
              "      <td>default</td>\n",
              "      <td>1</td>\n",
              "      <td>other</td>\n",
              "      <td>RENT</td>\n",
              "      <td>&gt; 1 Year</td>\n",
              "      <td>0.60</td>\n",
              "    </tr>\n",
              "    <tr>\n",
              "      <th>3</th>\n",
              "      <td>9000</td>\n",
              "      <td>36 months</td>\n",
              "      <td>30000</td>\n",
              "      <td>10.08</td>\n",
              "      <td>12.21520</td>\n",
              "      <td>10452</td>\n",
              "      <td>91.7</td>\n",
              "      <td>debt_consolidation</td>\n",
              "      <td>RENT</td>\n",
              "      <td>1</td>\n",
              "      <td>1</td>\n",
              "      <td>4</td>\n",
              "      <td>4.2</td>\n",
              "      <td>default</td>\n",
              "      <td>1</td>\n",
              "      <td>debt_consolidation</td>\n",
              "      <td>RENT</td>\n",
              "      <td>&gt; 1 Year</td>\n",
              "      <td>0.50</td>\n",
              "    </tr>\n",
              "    <tr>\n",
              "      <th>4</th>\n",
              "      <td>10000</td>\n",
              "      <td>36 months</td>\n",
              "      <td>100000</td>\n",
              "      <td>7.06</td>\n",
              "      <td>3.90888</td>\n",
              "      <td>11997</td>\n",
              "      <td>55.5</td>\n",
              "      <td>other</td>\n",
              "      <td>RENT</td>\n",
              "      <td>1</td>\n",
              "      <td>1</td>\n",
              "      <td>14</td>\n",
              "      <td>5.4</td>\n",
              "      <td>default</td>\n",
              "      <td>4</td>\n",
              "      <td>other</td>\n",
              "      <td>RENT</td>\n",
              "      <td>&gt; 1 Year</td>\n",
              "      <td>0.55</td>\n",
              "    </tr>\n",
              "  </tbody>\n",
              "</table>\n",
              "</div>\n",
              "      <button class=\"colab-df-convert\" onclick=\"convertToInteractive('df-d2bd1212-ed14-44e9-80c8-1f16e0bc6733')\"\n",
              "              title=\"Convert this dataframe to an interactive table.\"\n",
              "              style=\"display:none;\">\n",
              "        \n",
              "  <svg xmlns=\"http://www.w3.org/2000/svg\" height=\"24px\"viewBox=\"0 0 24 24\"\n",
              "       width=\"24px\">\n",
              "    <path d=\"M0 0h24v24H0V0z\" fill=\"none\"/>\n",
              "    <path d=\"M18.56 5.44l.94 2.06.94-2.06 2.06-.94-2.06-.94-.94-2.06-.94 2.06-2.06.94zm-11 1L8.5 8.5l.94-2.06 2.06-.94-2.06-.94L8.5 2.5l-.94 2.06-2.06.94zm10 10l.94 2.06.94-2.06 2.06-.94-2.06-.94-.94-2.06-.94 2.06-2.06.94z\"/><path d=\"M17.41 7.96l-1.37-1.37c-.4-.4-.92-.59-1.43-.59-.52 0-1.04.2-1.43.59L10.3 9.45l-7.72 7.72c-.78.78-.78 2.05 0 2.83L4 21.41c.39.39.9.59 1.41.59.51 0 1.02-.2 1.41-.59l7.78-7.78 2.81-2.81c.8-.78.8-2.07 0-2.86zM5.41 20L4 18.59l7.72-7.72 1.47 1.35L5.41 20z\"/>\n",
              "  </svg>\n",
              "      </button>\n",
              "      \n",
              "  <style>\n",
              "    .colab-df-container {\n",
              "      display:flex;\n",
              "      flex-wrap:wrap;\n",
              "      gap: 12px;\n",
              "    }\n",
              "\n",
              "    .colab-df-convert {\n",
              "      background-color: #E8F0FE;\n",
              "      border: none;\n",
              "      border-radius: 50%;\n",
              "      cursor: pointer;\n",
              "      display: none;\n",
              "      fill: #1967D2;\n",
              "      height: 32px;\n",
              "      padding: 0 0 0 0;\n",
              "      width: 32px;\n",
              "    }\n",
              "\n",
              "    .colab-df-convert:hover {\n",
              "      background-color: #E2EBFA;\n",
              "      box-shadow: 0px 1px 2px rgba(60, 64, 67, 0.3), 0px 1px 3px 1px rgba(60, 64, 67, 0.15);\n",
              "      fill: #174EA6;\n",
              "    }\n",
              "\n",
              "    [theme=dark] .colab-df-convert {\n",
              "      background-color: #3B4455;\n",
              "      fill: #D2E3FC;\n",
              "    }\n",
              "\n",
              "    [theme=dark] .colab-df-convert:hover {\n",
              "      background-color: #434B5C;\n",
              "      box-shadow: 0px 1px 3px 1px rgba(0, 0, 0, 0.15);\n",
              "      filter: drop-shadow(0px 1px 2px rgba(0, 0, 0, 0.3));\n",
              "      fill: #FFFFFF;\n",
              "    }\n",
              "  </style>\n",
              "\n",
              "      <script>\n",
              "        const buttonEl =\n",
              "          document.querySelector('#df-d2bd1212-ed14-44e9-80c8-1f16e0bc6733 button.colab-df-convert');\n",
              "        buttonEl.style.display =\n",
              "          google.colab.kernel.accessAllowed ? 'block' : 'none';\n",
              "\n",
              "        async function convertToInteractive(key) {\n",
              "          const element = document.querySelector('#df-d2bd1212-ed14-44e9-80c8-1f16e0bc6733');\n",
              "          const dataTable =\n",
              "            await google.colab.kernel.invokeFunction('convertToInteractive',\n",
              "                                                     [key], {});\n",
              "          if (!dataTable) return;\n",
              "\n",
              "          const docLinkHtml = 'Like what you see? Visit the ' +\n",
              "            '<a target=\"_blank\" href=https://colab.research.google.com/notebooks/data_table.ipynb>data table notebook</a>'\n",
              "            + ' to learn more about interactive tables.';\n",
              "          element.innerHTML = '';\n",
              "          dataTable['output_type'] = 'display_data';\n",
              "          await google.colab.output.renderOutput(dataTable, element);\n",
              "          const docLink = document.createElement('div');\n",
              "          docLink.innerHTML = docLinkHtml;\n",
              "          element.appendChild(docLink);\n",
              "        }\n",
              "      </script>\n",
              "    </div>\n",
              "  </div>\n",
              "  "
            ],
            "text/plain": [
              "   loan_amnt       term  annual_inc  ...  home_   emp_len_  borrower_score\n",
              "0       2500  60 months       30000  ...   RENT   > 1 Year            0.65\n",
              "1       5600  60 months       40000  ...    OWN   > 1 Year            0.80\n",
              "2       5375  60 months       15000  ...   RENT   > 1 Year            0.60\n",
              "3       9000  36 months       30000  ...   RENT   > 1 Year            0.50\n",
              "4      10000  36 months      100000  ...   RENT   > 1 Year            0.55\n",
              "\n",
              "[5 rows x 19 columns]"
            ]
          },
          "metadata": {},
          "execution_count": 20
        }
      ]
    },
    {
      "cell_type": "code",
      "source": [
        "print(loan_data[outcome])"
      ],
      "metadata": {
        "colab": {
          "base_uri": "https://localhost:8080/"
        },
        "id": "nWtSYNi-W706",
        "outputId": "98c21b33-467f-40ee-94e4-7df6acf5c721"
      },
      "execution_count": 21,
      "outputs": [
        {
          "output_type": "stream",
          "name": "stdout",
          "text": [
            "0         default\n",
            "1         default\n",
            "2         default\n",
            "3         default\n",
            "4         default\n",
            "           ...   \n",
            "45337    paid off\n",
            "45338    paid off\n",
            "45339    paid off\n",
            "45340    paid off\n",
            "45341    paid off\n",
            "Name: outcome, Length: 45342, dtype: category\n",
            "Categories (2, object): ['paid off' < 'default']\n"
          ]
        }
      ]
    },
    {
      "cell_type": "code",
      "source": [
        "predictors = ['payment_inc_ratio', 'dti', 'revol_bal', 'revol_util']\n",
        "outcome = 'outcome'\n",
        "\n",
        "newloan = loan_data.loc[0:0, predictors]\n",
        "print(newloan)\n",
        "print()\n",
        "\n",
        "X = loan_data.loc[1:, predictors]\n",
        "y = loan_data.loc[1:, outcome]\n",
        "\n",
        "knn = KNeighborsClassifier(n_neighbors=5)\n",
        "knn.fit(X, y)\n",
        "\n",
        "nbrs = knn.kneighbors(newloan)\n",
        "nbrs    # return (neigh_dist, neigh_ind)"
      ],
      "metadata": {
        "colab": {
          "base_uri": "https://localhost:8080/"
        },
        "id": "iq8WZes7VBVL",
        "outputId": "a4b66e35-5a6e-4c4c-9aad-c6ec589d0403"
      },
      "execution_count": 22,
      "outputs": [
        {
          "output_type": "stream",
          "name": "stdout",
          "text": [
            "   payment_inc_ratio  dti  revol_bal  revol_util\n",
            "0             2.3932  1.0       1687         9.4\n",
            "\n"
          ]
        },
        {
          "output_type": "execute_result",
          "data": {
            "text/plain": [
              "(array([[1.55563118, 5.64040694, 7.13883816, 8.84224262, 8.97277387]]),\n",
              " array([[35535, 33650, 25862, 42952, 43598]]))"
            ]
          },
          "metadata": {},
          "execution_count": 22
        }
      ]
    },
    {
      "cell_type": "code",
      "source": [
        "print(X.iloc[nbrs[1][0], :])"
      ],
      "metadata": {
        "colab": {
          "base_uri": "https://localhost:8080/"
        },
        "id": "UBgCG9e_TXO1",
        "outputId": "b9580f2b-131e-470a-a0b2-91d6733e6d28"
      },
      "execution_count": 23,
      "outputs": [
        {
          "output_type": "stream",
          "name": "stdout",
          "text": [
            "       payment_inc_ratio   dti  revol_bal  revol_util\n",
            "35536            1.47212  1.46       1686        10.0\n",
            "33651            3.38178  6.37       1688         8.4\n",
            "25863            2.36303  1.39       1691         3.5\n",
            "42953            1.28160  7.14       1684         3.9\n",
            "43599            4.12244  8.98       1684         7.2\n"
          ]
        }
      ]
    },
    {
      "cell_type": "code",
      "source": [
        "print(X.loc[nbrs[1][0] + 1, :])"
      ],
      "metadata": {
        "colab": {
          "base_uri": "https://localhost:8080/"
        },
        "id": "jWpZ-EWuS6sh",
        "outputId": "ec3356d1-8c36-46b3-ad21-5960496ce5cc"
      },
      "execution_count": 24,
      "outputs": [
        {
          "output_type": "stream",
          "name": "stdout",
          "text": [
            "       payment_inc_ratio   dti  revol_bal  revol_util\n",
            "35536            1.47212  1.46       1686        10.0\n",
            "33651            3.38178  6.37       1688         8.4\n",
            "25863            2.36303  1.39       1691         3.5\n",
            "42953            1.28160  7.14       1684         3.9\n",
            "43599            4.12244  8.98       1684         7.2\n"
          ]
        }
      ]
    },
    {
      "cell_type": "code",
      "source": [
        "newloan = loan_data.loc[0:0, predictors]\n",
        "X = loan_data.loc[1:, predictors]\n",
        "y = loan_data.loc[1:, outcome]\n",
        "\n",
        "scaler = preprocessing.StandardScaler()\n",
        "\n",
        "scaler.fit(X)\n",
        "X_std = scaler.transform(X)\n",
        "newloan_std = scaler.transform(newloan)\n",
        "\n",
        "knn = KNeighborsClassifier(n_neighbors=5)\n",
        "knn.fit(X_std, y)\n",
        "\n",
        "nbrs = knn.kneighbors(newloan_std)\n",
        "print(X.iloc[nbrs[1][0], :])"
      ],
      "metadata": {
        "colab": {
          "base_uri": "https://localhost:8080/"
        },
        "id": "GGpQw7iMWm2Y",
        "outputId": "bb6502f3-e49e-4c00-c6f6-db1a143cf3fc"
      },
      "execution_count": 25,
      "outputs": [
        {
          "output_type": "stream",
          "name": "stdout",
          "text": [
            "       payment_inc_ratio   dti  revol_bal  revol_util\n",
            "2080             2.61091  1.03       1218         9.7\n",
            "1438             2.34343  0.51        278         9.9\n",
            "30215            2.71200  1.34       1075         8.5\n",
            "28542            2.39760  0.74       2917         7.4\n",
            "44737            2.34309  1.37        488         7.2\n"
          ]
        }
      ]
    },
    {
      "cell_type": "code",
      "source": [
        "scaler.fit(X * 1.0)\n",
        "X_std = scaler.transform(X * 1.0)\n",
        "newloan_std = scaler.transform(newloan * 1.0)\n",
        "\n",
        "knn = KNeighborsClassifier(n_neighbors=5)\n",
        "knn.fit(X_std, y)\n",
        "\n",
        "nbrs = knn.kneighbors(newloan_std)\n",
        "print(X.iloc[nbrs[1][0], :])"
      ],
      "metadata": {
        "colab": {
          "base_uri": "https://localhost:8080/"
        },
        "id": "heArUIkVVFh_",
        "outputId": "0e3bfc60-1ba7-484e-b4d6-6a7955309265"
      },
      "execution_count": 26,
      "outputs": [
        {
          "output_type": "stream",
          "name": "stdout",
          "text": [
            "       payment_inc_ratio   dti  revol_bal  revol_util\n",
            "2080             2.61091  1.03       1218         9.7\n",
            "1438             2.34343  0.51        278         9.9\n",
            "30215            2.71200  1.34       1075         8.5\n",
            "28542            2.39760  0.74       2917         7.4\n",
            "44737            2.34309  1.37        488         7.2\n"
          ]
        }
      ]
    },
    {
      "cell_type": "markdown",
      "source": [
        "### **6.1.6 KNN as a Feature Engineering**"
      ],
      "metadata": {
        "id": "1dgHDwZ1VMGM"
      }
    },
    {
      "cell_type": "code",
      "source": [
        "loan_data = pd.read_csv(LOAN_DATA_CSV)\n",
        "loan_data = loan_data.drop(columns=['Unnamed: 0', 'status'])\n",
        "loan_data['outcome'] = pd.Categorical(loan_data['outcome'], \n",
        "                                      categories=['paid off', 'default'], \n",
        "                                      ordered=True)\n",
        "\n",
        "predictors = ['dti', 'revol_bal', 'revol_util', 'open_acc', \n",
        "              'delinq_2yrs_zero', 'pub_rec_zero']\n",
        "outcome = 'outcome'\n",
        "\n",
        "X = loan_data[predictors]\n",
        "y = loan_data[outcome]\n",
        "\n",
        "knn = KNeighborsClassifier(n_neighbors=20)\n",
        "knn.fit(X, y)"
      ],
      "metadata": {
        "colab": {
          "base_uri": "https://localhost:8080/"
        },
        "id": "iW6TDigGVSxo",
        "outputId": "7b9f7ec0-7954-4f55-dacf-5b53586d13de"
      },
      "execution_count": 27,
      "outputs": [
        {
          "output_type": "execute_result",
          "data": {
            "text/plain": [
              "KNeighborsClassifier(n_neighbors=20)"
            ]
          },
          "metadata": {},
          "execution_count": 27
        }
      ]
    },
    {
      "cell_type": "code",
      "source": [
        "print(knn.predict_proba(X))\n",
        "print(np.shape(knn.predict_proba(X)))\n",
        "print()\n",
        "X"
      ],
      "metadata": {
        "colab": {
          "base_uri": "https://localhost:8080/",
          "height": 580
        },
        "id": "nxOmY1vAyg8G",
        "outputId": "b894fe52-f995-4fcb-e039-e4f5ab36d2fc"
      },
      "execution_count": 28,
      "outputs": [
        {
          "output_type": "stream",
          "name": "stdout",
          "text": [
            "[[0.35 0.65]\n",
            " [0.2  0.8 ]\n",
            " [0.4  0.6 ]\n",
            " ...\n",
            " [0.45 0.55]\n",
            " [0.35 0.65]\n",
            " [0.5  0.5 ]]\n",
            "(45342, 2)\n",
            "\n"
          ]
        },
        {
          "output_type": "execute_result",
          "data": {
            "text/html": [
              "\n",
              "  <div id=\"df-3316a7d8-2cde-4429-89a2-ac0b6464323e\">\n",
              "    <div class=\"colab-df-container\">\n",
              "      <div>\n",
              "<style scoped>\n",
              "    .dataframe tbody tr th:only-of-type {\n",
              "        vertical-align: middle;\n",
              "    }\n",
              "\n",
              "    .dataframe tbody tr th {\n",
              "        vertical-align: top;\n",
              "    }\n",
              "\n",
              "    .dataframe thead th {\n",
              "        text-align: right;\n",
              "    }\n",
              "</style>\n",
              "<table border=\"1\" class=\"dataframe\">\n",
              "  <thead>\n",
              "    <tr style=\"text-align: right;\">\n",
              "      <th></th>\n",
              "      <th>dti</th>\n",
              "      <th>revol_bal</th>\n",
              "      <th>revol_util</th>\n",
              "      <th>open_acc</th>\n",
              "      <th>delinq_2yrs_zero</th>\n",
              "      <th>pub_rec_zero</th>\n",
              "    </tr>\n",
              "  </thead>\n",
              "  <tbody>\n",
              "    <tr>\n",
              "      <th>0</th>\n",
              "      <td>1.00</td>\n",
              "      <td>1687</td>\n",
              "      <td>9.4</td>\n",
              "      <td>3</td>\n",
              "      <td>1</td>\n",
              "      <td>1</td>\n",
              "    </tr>\n",
              "    <tr>\n",
              "      <th>1</th>\n",
              "      <td>5.55</td>\n",
              "      <td>5210</td>\n",
              "      <td>32.6</td>\n",
              "      <td>11</td>\n",
              "      <td>1</td>\n",
              "      <td>1</td>\n",
              "    </tr>\n",
              "    <tr>\n",
              "      <th>2</th>\n",
              "      <td>18.08</td>\n",
              "      <td>9279</td>\n",
              "      <td>36.5</td>\n",
              "      <td>2</td>\n",
              "      <td>1</td>\n",
              "      <td>1</td>\n",
              "    </tr>\n",
              "    <tr>\n",
              "      <th>3</th>\n",
              "      <td>10.08</td>\n",
              "      <td>10452</td>\n",
              "      <td>91.7</td>\n",
              "      <td>4</td>\n",
              "      <td>1</td>\n",
              "      <td>1</td>\n",
              "    </tr>\n",
              "    <tr>\n",
              "      <th>4</th>\n",
              "      <td>7.06</td>\n",
              "      <td>11997</td>\n",
              "      <td>55.5</td>\n",
              "      <td>14</td>\n",
              "      <td>1</td>\n",
              "      <td>1</td>\n",
              "    </tr>\n",
              "    <tr>\n",
              "      <th>...</th>\n",
              "      <td>...</td>\n",
              "      <td>...</td>\n",
              "      <td>...</td>\n",
              "      <td>...</td>\n",
              "      <td>...</td>\n",
              "      <td>...</td>\n",
              "    </tr>\n",
              "    <tr>\n",
              "      <th>45337</th>\n",
              "      <td>18.97</td>\n",
              "      <td>9725</td>\n",
              "      <td>58.2</td>\n",
              "      <td>9</td>\n",
              "      <td>1</td>\n",
              "      <td>0</td>\n",
              "    </tr>\n",
              "    <tr>\n",
              "      <th>45338</th>\n",
              "      <td>13.24</td>\n",
              "      <td>4925</td>\n",
              "      <td>40.7</td>\n",
              "      <td>13</td>\n",
              "      <td>0</td>\n",
              "      <td>1</td>\n",
              "    </tr>\n",
              "    <tr>\n",
              "      <th>45339</th>\n",
              "      <td>7.95</td>\n",
              "      <td>6574</td>\n",
              "      <td>73.0</td>\n",
              "      <td>8</td>\n",
              "      <td>1</td>\n",
              "      <td>1</td>\n",
              "    </tr>\n",
              "    <tr>\n",
              "      <th>45340</th>\n",
              "      <td>26.91</td>\n",
              "      <td>10303</td>\n",
              "      <td>32.4</td>\n",
              "      <td>10</td>\n",
              "      <td>1</td>\n",
              "      <td>1</td>\n",
              "    </tr>\n",
              "    <tr>\n",
              "      <th>45341</th>\n",
              "      <td>7.82</td>\n",
              "      <td>16676</td>\n",
              "      <td>91.6</td>\n",
              "      <td>13</td>\n",
              "      <td>0</td>\n",
              "      <td>1</td>\n",
              "    </tr>\n",
              "  </tbody>\n",
              "</table>\n",
              "<p>45342 rows × 6 columns</p>\n",
              "</div>\n",
              "      <button class=\"colab-df-convert\" onclick=\"convertToInteractive('df-3316a7d8-2cde-4429-89a2-ac0b6464323e')\"\n",
              "              title=\"Convert this dataframe to an interactive table.\"\n",
              "              style=\"display:none;\">\n",
              "        \n",
              "  <svg xmlns=\"http://www.w3.org/2000/svg\" height=\"24px\"viewBox=\"0 0 24 24\"\n",
              "       width=\"24px\">\n",
              "    <path d=\"M0 0h24v24H0V0z\" fill=\"none\"/>\n",
              "    <path d=\"M18.56 5.44l.94 2.06.94-2.06 2.06-.94-2.06-.94-.94-2.06-.94 2.06-2.06.94zm-11 1L8.5 8.5l.94-2.06 2.06-.94-2.06-.94L8.5 2.5l-.94 2.06-2.06.94zm10 10l.94 2.06.94-2.06 2.06-.94-2.06-.94-.94-2.06-.94 2.06-2.06.94z\"/><path d=\"M17.41 7.96l-1.37-1.37c-.4-.4-.92-.59-1.43-.59-.52 0-1.04.2-1.43.59L10.3 9.45l-7.72 7.72c-.78.78-.78 2.05 0 2.83L4 21.41c.39.39.9.59 1.41.59.51 0 1.02-.2 1.41-.59l7.78-7.78 2.81-2.81c.8-.78.8-2.07 0-2.86zM5.41 20L4 18.59l7.72-7.72 1.47 1.35L5.41 20z\"/>\n",
              "  </svg>\n",
              "      </button>\n",
              "      \n",
              "  <style>\n",
              "    .colab-df-container {\n",
              "      display:flex;\n",
              "      flex-wrap:wrap;\n",
              "      gap: 12px;\n",
              "    }\n",
              "\n",
              "    .colab-df-convert {\n",
              "      background-color: #E8F0FE;\n",
              "      border: none;\n",
              "      border-radius: 50%;\n",
              "      cursor: pointer;\n",
              "      display: none;\n",
              "      fill: #1967D2;\n",
              "      height: 32px;\n",
              "      padding: 0 0 0 0;\n",
              "      width: 32px;\n",
              "    }\n",
              "\n",
              "    .colab-df-convert:hover {\n",
              "      background-color: #E2EBFA;\n",
              "      box-shadow: 0px 1px 2px rgba(60, 64, 67, 0.3), 0px 1px 3px 1px rgba(60, 64, 67, 0.15);\n",
              "      fill: #174EA6;\n",
              "    }\n",
              "\n",
              "    [theme=dark] .colab-df-convert {\n",
              "      background-color: #3B4455;\n",
              "      fill: #D2E3FC;\n",
              "    }\n",
              "\n",
              "    [theme=dark] .colab-df-convert:hover {\n",
              "      background-color: #434B5C;\n",
              "      box-shadow: 0px 1px 3px 1px rgba(0, 0, 0, 0.15);\n",
              "      filter: drop-shadow(0px 1px 2px rgba(0, 0, 0, 0.3));\n",
              "      fill: #FFFFFF;\n",
              "    }\n",
              "  </style>\n",
              "\n",
              "      <script>\n",
              "        const buttonEl =\n",
              "          document.querySelector('#df-3316a7d8-2cde-4429-89a2-ac0b6464323e button.colab-df-convert');\n",
              "        buttonEl.style.display =\n",
              "          google.colab.kernel.accessAllowed ? 'block' : 'none';\n",
              "\n",
              "        async function convertToInteractive(key) {\n",
              "          const element = document.querySelector('#df-3316a7d8-2cde-4429-89a2-ac0b6464323e');\n",
              "          const dataTable =\n",
              "            await google.colab.kernel.invokeFunction('convertToInteractive',\n",
              "                                                     [key], {});\n",
              "          if (!dataTable) return;\n",
              "\n",
              "          const docLinkHtml = 'Like what you see? Visit the ' +\n",
              "            '<a target=\"_blank\" href=https://colab.research.google.com/notebooks/data_table.ipynb>data table notebook</a>'\n",
              "            + ' to learn more about interactive tables.';\n",
              "          element.innerHTML = '';\n",
              "          dataTable['output_type'] = 'display_data';\n",
              "          await google.colab.output.renderOutput(dataTable, element);\n",
              "          const docLink = document.createElement('div');\n",
              "          docLink.innerHTML = docLinkHtml;\n",
              "          element.appendChild(docLink);\n",
              "        }\n",
              "      </script>\n",
              "    </div>\n",
              "  </div>\n",
              "  "
            ],
            "text/plain": [
              "         dti  revol_bal  revol_util  open_acc  delinq_2yrs_zero  pub_rec_zero\n",
              "0       1.00       1687         9.4         3                 1             1\n",
              "1       5.55       5210        32.6        11                 1             1\n",
              "2      18.08       9279        36.5         2                 1             1\n",
              "3      10.08      10452        91.7         4                 1             1\n",
              "4       7.06      11997        55.5        14                 1             1\n",
              "...      ...        ...         ...       ...               ...           ...\n",
              "45337  18.97       9725        58.2         9                 1             0\n",
              "45338  13.24       4925        40.7        13                 0             1\n",
              "45339   7.95       6574        73.0         8                 1             1\n",
              "45340  26.91      10303        32.4        10                 1             1\n",
              "45341   7.82      16676        91.6        13                 0             1\n",
              "\n",
              "[45342 rows x 6 columns]"
            ]
          },
          "metadata": {},
          "execution_count": 28
        }
      ]
    },
    {
      "cell_type": "code",
      "source": [
        "plt.scatter(range(len(X)), [bs + random.gauss(0, 0.015) for bs in knn.predict_proba(X)[:,0]], \n",
        "            alpha=0.1, marker='.')"
      ],
      "metadata": {
        "colab": {
          "base_uri": "https://localhost:8080/",
          "height": 282
        },
        "id": "b9dfTXTKycS6",
        "outputId": "229b566a-2e3f-4f70-94c8-b6514714d5a4"
      },
      "execution_count": 29,
      "outputs": [
        {
          "output_type": "execute_result",
          "data": {
            "text/plain": [
              "<matplotlib.collections.PathCollection at 0x7f24b6c82850>"
            ]
          },
          "metadata": {},
          "execution_count": 29
        },
        {
          "output_type": "display_data",
          "data": {
            "image/png": "[encoded data removed]",
            "text/plain": [
              "<Figure size 432x288 with 1 Axes>"
            ]
          },
          "metadata": {
            "needs_background": "light"
          }
        }
      ]
    },
    {
      "cell_type": "code",
      "source": [
        "print(knn.predict_proba(X)[:, 0])\n",
        "print('mean:', np.mean(knn.predict_proba(X)[:, 0]))\n",
        "print('std:', np.std(knn.predict_proba(X)[:, 0]))\n",
        "print('min:', np.min(knn.predict_proba(X)[:, 0]))\n",
        "print('max:', np.max(knn.predict_proba(X)[:, 0]))"
      ],
      "metadata": {
        "colab": {
          "base_uri": "https://localhost:8080/"
        },
        "id": "IJrjLp9b0v_z",
        "outputId": "10e8582a-3fe5-480e-a96a-0d349dffff24"
      },
      "execution_count": 30,
      "outputs": [
        {
          "output_type": "stream",
          "name": "stdout",
          "text": [
            "[0.35 0.2  0.4  ... 0.45 0.35 0.5 ]\n",
            "mean: 0.5010983194389308\n",
            "std: 0.128734223078781\n",
            "min: 0.0\n",
            "max: 0.95\n"
          ]
        }
      ]
    },
    {
      "cell_type": "code",
      "source": [
        "loan_data['borrower_score'] = knn.predict_proba(X)[:, 0]\n",
        "print(loan_data['borrower_score'].describe())"
      ],
      "metadata": {
        "colab": {
          "base_uri": "https://localhost:8080/"
        },
        "id": "r3HzpJDv0fYZ",
        "outputId": "a5ee12cd-7c0c-48c1-9c34-0999dde22939"
      },
      "execution_count": 31,
      "outputs": [
        {
          "output_type": "stream",
          "name": "stdout",
          "text": [
            "count    45342.000000\n",
            "mean         0.501098\n",
            "std          0.128736\n",
            "min          0.000000\n",
            "25%          0.400000\n",
            "50%          0.500000\n",
            "75%          0.600000\n",
            "max          0.950000\n",
            "Name: borrower_score, dtype: float64\n"
          ]
        }
      ]
    },
    {
      "cell_type": "code",
      "source": [
        "plt.scatter(range(len(X)), [bs + random.gauss(0, 0.015) for bs in knn.predict_proba(X)[:,1]], \n",
        "            alpha=0.1, marker='.')"
      ],
      "metadata": {
        "colab": {
          "base_uri": "https://localhost:8080/",
          "height": 282
        },
        "id": "tJ3K1zw21Y6O",
        "outputId": "563563e0-7999-4fc4-e7f0-5a427e69031e"
      },
      "execution_count": 32,
      "outputs": [
        {
          "output_type": "execute_result",
          "data": {
            "text/plain": [
              "<matplotlib.collections.PathCollection at 0x7f24b6d77c10>"
            ]
          },
          "metadata": {},
          "execution_count": 32
        },
        {
          "output_type": "display_data",
          "data": {
            "image/png": "[encoded data removed]",
            "text/plain": [
              "<Figure size 432x288 with 1 Axes>"
            ]
          },
          "metadata": {
            "needs_background": "light"
          }
        }
      ]
    },
    {
      "cell_type": "markdown",
      "source": [
        "## **6.2 Tree Models**\n",
        "### **6.2.1 A Simple Example**\n",
        "The package _scikit-learn_ has the class `DecisionTreeClassifier` to build a decision tree model. The function `plotDecisionTree` from the _dmba_ package can be used to visualize the tree."
      ],
      "metadata": {
        "id": "QuaBOGwrVTqX"
      }
    },
    {
      "cell_type": "code",
      "source": [
        "loan3000 = pd.read_csv(LOAN3000_CSV)\n",
        "\n",
        "predictors = ['borrower_score', 'payment_inc_ratio']\n",
        "outcome = 'outcome'\n",
        "\n",
        "X = loan3000[predictors]\n",
        "y = loan3000[outcome]\n",
        "\n",
        "loan_tree = DecisionTreeClassifier(random_state=1, criterion='entropy',\n",
        "                                   min_impurity_decrease=0.003)\n",
        "loan_tree.fit(X, y)\n",
        "plotDecisionTree(loan_tree, feature_names=predictors,\n",
        "                 class_names=loan_tree.classes_)"
      ],
      "metadata": {
        "colab": {
          "base_uri": "https://localhost:8080/",
          "height": 514
        },
        "id": "tMk0xqxnVpJy",
        "outputId": "a8b9d573-2ab9-4e9e-d7b6-a7a328956e14"
      },
      "execution_count": 33,
      "outputs": [
        {
          "output_type": "execute_result",
          "data": {
            "image/png": "[encoded data removed]",
            "text/plain": [
              "<IPython.core.display.Image object>"
            ]
          },
          "metadata": {},
          "execution_count": 33
        }
      ]
    },
    {
      "cell_type": "code",
      "source": [
        "print(textDecisionTree(loan_tree))"
      ],
      "metadata": {
        "colab": {
          "base_uri": "https://localhost:8080/"
        },
        "id": "DHFDnc1nVpxU",
        "outputId": "e73fc2e5-1dbb-42a7-ee91-acd5e9ae5e2f"
      },
      "execution_count": 34,
      "outputs": [
        {
          "output_type": "stream",
          "name": "stdout",
          "text": [
            "node=0 test node: go to node 1 if 0 <= 0.5750000178813934 else to node 6\n",
            "  node=1 test node: go to node 2 if 0 <= 0.32500000298023224 else to node 3\n",
            "    node=2 leaf node: [[0.785, 0.215]]\n",
            "    node=3 test node: go to node 4 if 1 <= 10.42264986038208 else to node 5\n",
            "      node=4 leaf node: [[0.488, 0.512]]\n",
            "      node=5 leaf node: [[0.613, 0.387]]\n",
            "  node=6 test node: go to node 7 if 1 <= 9.19082498550415 else to node 10\n",
            "    node=7 test node: go to node 8 if 0 <= 0.7249999940395355 else to node 9\n",
            "      node=8 leaf node: [[0.247, 0.753]]\n",
            "      node=9 leaf node: [[0.073, 0.927]]\n",
            "    node=10 leaf node: [[0.457, 0.543]]\n"
          ]
        }
      ]
    },
    {
      "cell_type": "markdown",
      "source": [
        "### **6.2.2 The Recursive Partitioning Algorithm**"
      ],
      "metadata": {
        "id": "wJW12iK_VuBM"
      }
    },
    {
      "cell_type": "code",
      "source": [
        "fig, ax = plt.subplots(figsize=(6, 4))\n",
        "\n",
        "loan3000.loc[loan3000.outcome=='paid off'].plot(\n",
        "    x='borrower_score', y='payment_inc_ratio', style='.', \n",
        "    markerfacecolor='none', markeredgecolor='C1', ax=ax)\n",
        "loan3000.loc[loan3000.outcome=='default'].plot(\n",
        "    x='borrower_score', y='payment_inc_ratio', style='o', \n",
        "    markerfacecolor='none', markeredgecolor='C0', ax=ax)\n",
        "\n",
        "ax.legend(['paid off', 'default']);\n",
        "ax.set_xlim(0, 1)\n",
        "ax.set_ylim(0, 25)\n",
        "ax.set_xlabel('borrower_score')\n",
        "ax.set_ylabel('payment_inc_ratio')\n",
        "\n",
        "x0 = 0.575\n",
        "x1a = 0.325; y1b = 9.191\n",
        "y2a = 10.423; x2b = 0.725\n",
        "\n",
        "ax.plot((x0, x0), (0, 25), color='grey')\n",
        "ax.plot((x1a, x1a), (0, 25), color='grey')\n",
        "ax.plot((x0, 1), (y1b, y1b), color='grey')\n",
        "ax.plot((x1a, x0), (y2a, y2a), color='grey')\n",
        "ax.plot((x2b, x2b), (0, y1b), color='grey')\n",
        "\n",
        "labels = [('default', (x1a / 2, 25 / 2)),\n",
        "          ('default', ((x0 + x1a) / 2, (25 + y2a) / 2)),\n",
        "          ('paid off', ((x0 + x1a) / 2, y2a / 2)),\n",
        "          ('paid off', ((1 + x0) / 2, (y1b + 25) / 2)),\n",
        "          ('paid off', ((1 + x2b) / 2, (y1b + 0) / 2)),\n",
        "          ('paid off', ((x0 + x2b) / 2, (y1b + 0) / 2)),\n",
        "         ]\n",
        "for label, (x, y) in labels:\n",
        "    ax.text(x, y, label, bbox={'facecolor':'white'},\n",
        "            verticalalignment='center', horizontalalignment='center')\n",
        "\n",
        "plt.tight_layout()\n",
        "plt.show()"
      ],
      "metadata": {
        "colab": {
          "base_uri": "https://localhost:8080/",
          "height": 297
        },
        "id": "P5BDAR-KV6F3",
        "outputId": "3a47e413-12be-4593-d311-611c9b4eaadf"
      },
      "execution_count": 35,
      "outputs": [
        {
          "output_type": "display_data",
          "data": {
            "image/png": "[encoded data removed]",
            "text/plain": [
              "<Figure size 432x288 with 1 Axes>"
            ]
          },
          "metadata": {
            "needs_background": "light"
          }
        }
      ]
    },
    {
      "cell_type": "markdown",
      "source": [
        "### **6.2.3 Measuring Homogeneity or Impurity**"
      ],
      "metadata": {
        "id": "dCRU0gX2V7Bq"
      }
    },
    {
      "cell_type": "code",
      "source": [
        "def entropyFunction(x):\n",
        "    if x == 0: return 0\n",
        "    return -x * math.log(x, 2) - (1 - x) * math.log(1 - x, 2)\n",
        "\n",
        "def giniFunction(x):\n",
        "    return x * (1 - x)"
      ],
      "metadata": {
        "id": "PoI0OklaWDV3"
      },
      "execution_count": 36,
      "outputs": []
    },
    {
      "cell_type": "code",
      "source": [
        "x = np.linspace(0, 1.0, 100)\n",
        "\n",
        "impure = pd.DataFrame({\n",
        "    'x': x,\n",
        "    'Gini_orig': [giniFunction(xi) for xi in x]\n",
        "})\n",
        "\n",
        "fig, ax = plt.subplots(figsize=(4, 4))\n",
        "impure.plot(x='x', y='Gini_orig', ax=ax, linestyle=':')\n",
        "\n",
        "plt.tight_layout()\n",
        "plt.show()"
      ],
      "metadata": {
        "colab": {
          "base_uri": "https://localhost:8080/",
          "height": 297
        },
        "id": "MqsB6QL9Ez-J",
        "outputId": "c2bf5efc-9b64-4322-e902-05ebf23f7d37"
      },
      "execution_count": 37,
      "outputs": [
        {
          "output_type": "display_data",
          "data": {
            "image/png": "[encoded data removed]",
            "text/plain": [
              "<Figure size 288x288 with 1 Axes>"
            ]
          },
          "metadata": {
            "needs_background": "light"
          }
        }
      ]
    },
    {
      "cell_type": "code",
      "source": [
        "x = np.linspace(0, 0.5, 50)\n",
        "impure = pd.DataFrame({\n",
        "    'x': x,\n",
        "    'Accuracy': 2 * x,\n",
        "    'Gini': [giniFunction(xi) / giniFunction(.5) for xi in x],\n",
        "    'Entropy': [entropyFunction(xi) for xi in x],\n",
        "})"
      ],
      "metadata": {
        "id": "ojXINA6HFRfu"
      },
      "execution_count": 38,
      "outputs": []
    },
    {
      "cell_type": "code",
      "source": [
        "fig, ax = plt.subplots(figsize=(4, 4))\n",
        "\n",
        "impure.plot(x='x', y='Accuracy', ax=ax, linestyle='solid')\n",
        "impure.plot(x='x', y='Entropy', ax=ax, linestyle='--')\n",
        "impure.plot(x='x', y='Gini', ax=ax, linestyle=':')\n",
        "\n",
        "plt.tight_layout()\n",
        "plt.show()"
      ],
      "metadata": {
        "colab": {
          "base_uri": "https://localhost:8080/",
          "height": 297
        },
        "id": "-uX0nNiwWGiy",
        "outputId": "a16bcfe9-7460-4385-c2ff-49f9c534d45e"
      },
      "execution_count": 39,
      "outputs": [
        {
          "output_type": "display_data",
          "data": {
            "image/png": "[encoded data removed]",
            "text/plain": [
              "<Figure size 288x288 with 1 Axes>"
            ]
          },
          "metadata": {
            "needs_background": "light"
          }
        }
      ]
    },
    {
      "cell_type": "markdown",
      "source": [
        "https://www.analyticsvidhya.com/blog/2016/04/tree-based-algorithms-complete-tutorial-scratch-in-python/"
      ],
      "metadata": {
        "id": "7r6vX1cAxVk9"
      }
    },
    {
      "cell_type": "markdown",
      "source": [
        "## **6.3 Bagging and the Random Forest**\n",
        "### **6.3.2 Random Forest**"
      ],
      "metadata": {
        "id": "1n0vKnX9WMOA"
      }
    },
    {
      "cell_type": "code",
      "source": [
        "predictors = ['borrower_score', 'payment_inc_ratio']\n",
        "outcome = 'outcome'\n",
        "\n",
        "X = loan3000[predictors]\n",
        "y = loan3000[outcome]\n",
        "\n",
        "rf = RandomForestClassifier(n_estimators=500, random_state=1, \n",
        "                            oob_score=True)\n",
        "rf.fit(X, y)\n",
        "print(rf.oob_decision_function_)"
      ],
      "metadata": {
        "id": "py09nD28WW7O",
        "colab": {
          "base_uri": "https://localhost:8080/"
        },
        "outputId": "03770417-9823-45f4-e104-77863e9a2c2b"
      },
      "execution_count": 40,
      "outputs": [
        {
          "output_type": "stream",
          "name": "stdout",
          "text": [
            "[[0.18131868 0.81868132]\n",
            " [0.26704545 0.73295455]\n",
            " [0.93333333 0.06666667]\n",
            " ...\n",
            " [1.         0.        ]\n",
            " [0.73157895 0.26842105]\n",
            " [0.68085106 0.31914894]]\n"
          ]
        }
      ]
    },
    {
      "cell_type": "code",
      "source": [
        "n_estimator = list(range(20, 510, 5))\n",
        "oobScores = []\n",
        "for n in n_estimator:\n",
        "    rf = RandomForestClassifier(n_estimators=n, criterion='entropy',\n",
        "                                max_depth=5, random_state=1, oob_score=True)\n",
        "    rf.fit(X, y)\n",
        "    oobScores.append(rf.oob_score_)"
      ],
      "metadata": {
        "id": "YHRoUVKmWZrt"
      },
      "execution_count": 41,
      "outputs": []
    },
    {
      "cell_type": "code",
      "source": [
        "# pd.DataFrame({\n",
        "#     'n': n_estimator, \n",
        "#     'oobScore': oobScores\n",
        "# }).plot(x='n', y='oobScore')\n",
        "\n",
        "df = pd.DataFrame({'n': n_estimator, 'oobScore': oobScores})\n",
        "df.plot(x='n', y='oobScore')"
      ],
      "metadata": {
        "id": "5vfq7BxmWccW",
        "colab": {
          "base_uri": "https://localhost:8080/",
          "height": 296
        },
        "outputId": "13e3d942-7d60-4869-b9d4-94863a51fad7"
      },
      "execution_count": 42,
      "outputs": [
        {
          "output_type": "execute_result",
          "data": {
            "text/plain": [
              "<matplotlib.axes._subplots.AxesSubplot at 0x7f24b51dfad0>"
            ]
          },
          "metadata": {},
          "execution_count": 42
        },
        {
          "output_type": "display_data",
          "data": {
            "image/png": "[encoded data removed]",
            "text/plain": [
              "<Figure size 432x288 with 1 Axes>"
            ]
          },
          "metadata": {
            "needs_background": "light"
          }
        }
      ]
    },
    {
      "cell_type": "code",
      "source": [
        "predictions = X.copy()\n",
        "predictions['prediction'] = rf.predict(X)\n",
        "predictions.head()"
      ],
      "metadata": {
        "colab": {
          "base_uri": "https://localhost:8080/",
          "height": 206
        },
        "id": "wNx7kLS3Fwqv",
        "outputId": "b04d1c9c-3a19-4eee-f9a4-5d635cd93a10"
      },
      "execution_count": 43,
      "outputs": [
        {
          "output_type": "execute_result",
          "data": {
            "text/html": [
              "\n",
              "  <div id=\"df-89c1ef3c-3877-44d8-a1d4-b835fe0d3b84\">\n",
              "    <div class=\"colab-df-container\">\n",
              "      <div>\n",
              "<style scoped>\n",
              "    .dataframe tbody tr th:only-of-type {\n",
              "        vertical-align: middle;\n",
              "    }\n",
              "\n",
              "    .dataframe tbody tr th {\n",
              "        vertical-align: top;\n",
              "    }\n",
              "\n",
              "    .dataframe thead th {\n",
              "        text-align: right;\n",
              "    }\n",
              "</style>\n",
              "<table border=\"1\" class=\"dataframe\">\n",
              "  <thead>\n",
              "    <tr style=\"text-align: right;\">\n",
              "      <th></th>\n",
              "      <th>borrower_score</th>\n",
              "      <th>payment_inc_ratio</th>\n",
              "      <th>prediction</th>\n",
              "    </tr>\n",
              "  </thead>\n",
              "  <tbody>\n",
              "    <tr>\n",
              "      <th>0</th>\n",
              "      <td>0.40</td>\n",
              "      <td>5.11135</td>\n",
              "      <td>default</td>\n",
              "    </tr>\n",
              "    <tr>\n",
              "      <th>1</th>\n",
              "      <td>0.40</td>\n",
              "      <td>5.43165</td>\n",
              "      <td>default</td>\n",
              "    </tr>\n",
              "    <tr>\n",
              "      <th>2</th>\n",
              "      <td>0.70</td>\n",
              "      <td>9.23003</td>\n",
              "      <td>paid off</td>\n",
              "    </tr>\n",
              "    <tr>\n",
              "      <th>3</th>\n",
              "      <td>0.40</td>\n",
              "      <td>2.33482</td>\n",
              "      <td>paid off</td>\n",
              "    </tr>\n",
              "    <tr>\n",
              "      <th>4</th>\n",
              "      <td>0.45</td>\n",
              "      <td>12.10320</td>\n",
              "      <td>default</td>\n",
              "    </tr>\n",
              "  </tbody>\n",
              "</table>\n",
              "</div>\n",
              "      <button class=\"colab-df-convert\" onclick=\"convertToInteractive('df-89c1ef3c-3877-44d8-a1d4-b835fe0d3b84')\"\n",
              "              title=\"Convert this dataframe to an interactive table.\"\n",
              "              style=\"display:none;\">\n",
              "        \n",
              "  <svg xmlns=\"http://www.w3.org/2000/svg\" height=\"24px\"viewBox=\"0 0 24 24\"\n",
              "       width=\"24px\">\n",
              "    <path d=\"M0 0h24v24H0V0z\" fill=\"none\"/>\n",
              "    <path d=\"M18.56 5.44l.94 2.06.94-2.06 2.06-.94-2.06-.94-.94-2.06-.94 2.06-2.06.94zm-11 1L8.5 8.5l.94-2.06 2.06-.94-2.06-.94L8.5 2.5l-.94 2.06-2.06.94zm10 10l.94 2.06.94-2.06 2.06-.94-2.06-.94-.94-2.06-.94 2.06-2.06.94z\"/><path d=\"M17.41 7.96l-1.37-1.37c-.4-.4-.92-.59-1.43-.59-.52 0-1.04.2-1.43.59L10.3 9.45l-7.72 7.72c-.78.78-.78 2.05 0 2.83L4 21.41c.39.39.9.59 1.41.59.51 0 1.02-.2 1.41-.59l7.78-7.78 2.81-2.81c.8-.78.8-2.07 0-2.86zM5.41 20L4 18.59l7.72-7.72 1.47 1.35L5.41 20z\"/>\n",
              "  </svg>\n",
              "      </button>\n",
              "      \n",
              "  <style>\n",
              "    .colab-df-container {\n",
              "      display:flex;\n",
              "      flex-wrap:wrap;\n",
              "      gap: 12px;\n",
              "    }\n",
              "\n",
              "    .colab-df-convert {\n",
              "      background-color: #E8F0FE;\n",
              "      border: none;\n",
              "      border-radius: 50%;\n",
              "      cursor: pointer;\n",
              "      display: none;\n",
              "      fill: #1967D2;\n",
              "      height: 32px;\n",
              "      padding: 0 0 0 0;\n",
              "      width: 32px;\n",
              "    }\n",
              "\n",
              "    .colab-df-convert:hover {\n",
              "      background-color: #E2EBFA;\n",
              "      box-shadow: 0px 1px 2px rgba(60, 64, 67, 0.3), 0px 1px 3px 1px rgba(60, 64, 67, 0.15);\n",
              "      fill: #174EA6;\n",
              "    }\n",
              "\n",
              "    [theme=dark] .colab-df-convert {\n",
              "      background-color: #3B4455;\n",
              "      fill: #D2E3FC;\n",
              "    }\n",
              "\n",
              "    [theme=dark] .colab-df-convert:hover {\n",
              "      background-color: #434B5C;\n",
              "      box-shadow: 0px 1px 3px 1px rgba(0, 0, 0, 0.15);\n",
              "      filter: drop-shadow(0px 1px 2px rgba(0, 0, 0, 0.3));\n",
              "      fill: #FFFFFF;\n",
              "    }\n",
              "  </style>\n",
              "\n",
              "      <script>\n",
              "        const buttonEl =\n",
              "          document.querySelector('#df-89c1ef3c-3877-44d8-a1d4-b835fe0d3b84 button.colab-df-convert');\n",
              "        buttonEl.style.display =\n",
              "          google.colab.kernel.accessAllowed ? 'block' : 'none';\n",
              "\n",
              "        async function convertToInteractive(key) {\n",
              "          const element = document.querySelector('#df-89c1ef3c-3877-44d8-a1d4-b835fe0d3b84');\n",
              "          const dataTable =\n",
              "            await google.colab.kernel.invokeFunction('convertToInteractive',\n",
              "                                                     [key], {});\n",
              "          if (!dataTable) return;\n",
              "\n",
              "          const docLinkHtml = 'Like what you see? Visit the ' +\n",
              "            '<a target=\"_blank\" href=https://colab.research.google.com/notebooks/data_table.ipynb>data table notebook</a>'\n",
              "            + ' to learn more about interactive tables.';\n",
              "          element.innerHTML = '';\n",
              "          dataTable['output_type'] = 'display_data';\n",
              "          await google.colab.output.renderOutput(dataTable, element);\n",
              "          const docLink = document.createElement('div');\n",
              "          docLink.innerHTML = docLinkHtml;\n",
              "          element.appendChild(docLink);\n",
              "        }\n",
              "      </script>\n",
              "    </div>\n",
              "  </div>\n",
              "  "
            ],
            "text/plain": [
              "   borrower_score  payment_inc_ratio prediction\n",
              "0            0.40            5.11135    default\n",
              "1            0.40            5.43165    default\n",
              "2            0.70            9.23003   paid off\n",
              "3            0.40            2.33482   paid off\n",
              "4            0.45           12.10320    default"
            ]
          },
          "metadata": {},
          "execution_count": 43
        }
      ]
    },
    {
      "cell_type": "code",
      "source": [
        "fig, ax = plt.subplots(figsize=(4, 4))\n",
        "\n",
        "predictions.loc[predictions.prediction=='paid off'].plot(\n",
        "    x='borrower_score', y='payment_inc_ratio', style='.',\n",
        "    markerfacecolor='none', markeredgecolor='C1', ax=ax)\n",
        "predictions.loc[predictions.prediction=='default'].plot(\n",
        "    x='borrower_score', y='payment_inc_ratio', style='o',\n",
        "    markerfacecolor='none', markeredgecolor='C0', ax=ax)\n",
        "\n",
        "ax.legend(['paid off', 'default']);\n",
        "ax.set_xlim(0, 1)\n",
        "ax.set_ylim(0, 25)\n",
        "ax.set_xlabel('borrower_score')\n",
        "ax.set_ylabel('payment_inc_ratio')\n",
        "\n",
        "plt.tight_layout()\n",
        "plt.show()"
      ],
      "metadata": {
        "id": "rr-kzYkHWf8s",
        "colab": {
          "base_uri": "https://localhost:8080/",
          "height": 297
        },
        "outputId": "75043367-8865-4ec3-8316-7944a02d586e"
      },
      "execution_count": 44,
      "outputs": [
        {
          "output_type": "display_data",
          "data": {
            "image/png": "[encoded data removed]",
            "text/plain": [
              "<Figure size 288x288 with 1 Axes>"
            ]
          },
          "metadata": {
            "needs_background": "light"
          }
        }
      ]
    },
    {
      "cell_type": "markdown",
      "source": [
        "### **6.3.3 Variable importance**\n",
        "This is different to R. The accuracy decrease is not available out of the box."
      ],
      "metadata": {
        "id": "pKtwpUvoWiPa"
      }
    },
    {
      "cell_type": "code",
      "source": [
        "predictors = ['loan_amnt', 'term', 'annual_inc', 'dti', 'payment_inc_ratio',\n",
        "              'revol_bal', 'revol_util', 'purpose', 'delinq_2yrs_zero',\n",
        "              'pub_rec_zero', 'open_acc', 'grade', 'emp_length', 'purpose_', \n",
        "              'home_', 'emp_len_', 'borrower_score']\n",
        "outcome = 'outcome'\n",
        "\n",
        "X = pd.get_dummies(loan_data[predictors], drop_first=True)\n",
        "y = loan_data[outcome]\n",
        "\n",
        "rf_all = RandomForestClassifier(n_estimators=500, random_state=1)\n",
        "rf_all.fit(X, y)\n",
        "\n",
        "rf_all_entropy = RandomForestClassifier(n_estimators=500, random_state=1,\n",
        "                                        criterion='entropy')\n",
        "print(rf_all_entropy.fit(X, y))"
      ],
      "metadata": {
        "id": "R-8blRhhWt7V",
        "colab": {
          "base_uri": "https://localhost:8080/"
        },
        "outputId": "82478678-58d1-409c-f086-aba310b634b5"
      },
      "execution_count": 45,
      "outputs": [
        {
          "output_type": "stream",
          "name": "stdout",
          "text": [
            "RandomForestClassifier(criterion='entropy', n_estimators=500, random_state=1)\n"
          ]
        }
      ]
    },
    {
      "cell_type": "code",
      "source": [
        "rf = RandomForestClassifier(n_estimators=500)\n",
        "scores = defaultdict(list)\n",
        " \n",
        "# crossvalidate the scores on a number of different random splits of the data\n",
        "for _ in range(3):\n",
        "    train_X, valid_X, train_y, valid_y = train_test_split(X, y, test_size=0.3)\n",
        "    rf.fit(train_X, train_y)\n",
        "    acc = metrics.accuracy_score(valid_y, rf.predict(valid_X))\n",
        "    for column in X.columns:\n",
        "        X_t = valid_X.copy()\n",
        "        X_t[column] = np.random.permutation(X_t[column].values)\n",
        "        shuff_acc = metrics.accuracy_score(valid_y, rf.predict(X_t))\n",
        "        scores[column].append((acc-shuff_acc)/acc)\n",
        "\n",
        "print('Features sorted by their score:')\n",
        "print(sorted([(round(np.mean(score), 4), feat) for\n",
        "              feat, score in scores.items()], reverse=True))"
      ],
      "metadata": {
        "id": "Byz274rhWx_G",
        "colab": {
          "base_uri": "https://localhost:8080/"
        },
        "outputId": "1838e278-7956-4120-c80c-1be32ee09df1"
      },
      "execution_count": 46,
      "outputs": [
        {
          "output_type": "stream",
          "name": "stdout",
          "text": [
            "Features sorted by their score:\n",
            "[(0.0779, 'borrower_score'), (0.0347, 'grade'), (0.0282, 'term_60 months'), (0.0115, 'payment_inc_ratio'), (0.0111, 'annual_inc'), (0.006, 'dti'), (0.0031, 'revol_bal'), (0.003, 'revol_util'), (0.0019, 'purpose__small_business'), (0.0018, 'delinq_2yrs_zero'), (0.0017, 'purpose_small_business'), (0.0017, 'emp_length'), (0.0016, 'open_acc'), (0.0008, 'purpose__other'), (0.0007, 'purpose_credit_card'), (0.0006, 'home__RENT'), (0.0005, 'purpose_house'), (0.0003, 'purpose_wedding'), (0.0003, 'purpose_debt_consolidation'), (0.0003, 'home__OWN'), (0.0002, 'purpose_home_improvement'), (0.0001, 'purpose_vacation'), (0.0001, 'purpose__home_improvement'), (0.0001, 'pub_rec_zero'), (-0.0, 'purpose_other'), (-0.0, 'purpose_medical'), (0.0, 'emp_len__ > 1 Year'), (-0.0001, 'purpose_moving'), (-0.0001, 'purpose__medical'), (-0.0002, 'purpose__debt_consolidation'), (-0.0003, 'purpose_major_purchase'), (-0.0004, 'loan_amnt'), (-0.0006, 'purpose__major_purchase')]\n"
          ]
        }
      ]
    },
    {
      "cell_type": "code",
      "source": [
        "scores"
      ],
      "metadata": {
        "colab": {
          "base_uri": "https://localhost:8080/"
        },
        "id": "E7MzKdewuie6",
        "outputId": "f924ef15-9064-4b7b-da22-92243d79b52b"
      },
      "execution_count": 47,
      "outputs": [
        {
          "output_type": "execute_result",
          "data": {
            "text/plain": [
              "defaultdict(list,\n",
              "            {'annual_inc': [0.01459369817578776,\n",
              "              0.006417348971011274,\n",
              "              0.01220316622691291],\n",
              "             'borrower_score': [0.08081813156440022,\n",
              "              0.07866784686877629,\n",
              "              0.07431838170624454],\n",
              "             'delinq_2yrs_zero': [0.002100608070757243,\n",
              "              0.0007745076344323577,\n",
              "              0.0026385224274407142],\n",
              "             'dti': [0.007960199004975202,\n",
              "              0.004204470015490156,\n",
              "              0.0059366754617414825],\n",
              "             'emp_len__ > 1 Year': [0.0014372581536760873,\n",
              "              0.0007745076344323577,\n",
              "              -0.002088830255057087],\n",
              "             'emp_length': [-0.001326699834162478,\n",
              "              0.0032086744855057206,\n",
              "              0.0031882145998241756],\n",
              "             'grade': [0.03206191265892753,\n",
              "              0.037729586191635286,\n",
              "              0.03441072999120488],\n",
              "             'home__OWN': [-0.0004422332780541037, 0.0012170834255366815, 0.0],\n",
              "             'home__RENT': [0.0014372581536760873,\n",
              "              0.003319318433281676,\n",
              "              -0.0028583992963940657],\n",
              "             'loan_amnt': [-0.0035378662244333306,\n",
              "              0.0025448107988493185,\n",
              "              -0.00021987686895335134],\n",
              "             'open_acc': [-0.00033167495854066124,\n",
              "              0.0032086744855057206,\n",
              "              0.0018689533861037356],\n",
              "             'payment_inc_ratio': [0.008181315644002254,\n",
              "              0.015379508740871866,\n",
              "              0.010993843447669394],\n",
              "             'pub_rec_zero': [0.0008844665561083744,\n",
              "              -0.00044257579110415664,\n",
              "              -0.00021987686895335134],\n",
              "             'purpose__debt_consolidation': [-0.00154781647318953,\n",
              "              -0.0008851515822084804,\n",
              "              0.001759014951627143],\n",
              "             'purpose__home_improvement': [0.0008844665561083744,\n",
              "              -0.0007745076344323577,\n",
              "              0.00032981530343011004],\n",
              "             'purpose__major_purchase': [0.000552791597567713,\n",
              "              -0.001659659216640838,\n",
              "              -0.0005496921723834614],\n",
              "             'purpose__medical': [-0.00022111663902705186,\n",
              "              0.0,\n",
              "              -0.00021987686895335134],\n",
              "             'purpose__other': [-0.001105583195135426,\n",
              "              0.0015490152688648823,\n",
              "              0.002088830255057253],\n",
              "             'purpose__small_business': [-0.000773908236594765,\n",
              "              0.005642841336578916,\n",
              "              0.0008795074758135715],\n",
              "             'purpose_credit_card': [0.001326699834162478,\n",
              "              -0.00033193184332820105,\n",
              "              0.0010993843447669228],\n",
              "             'purpose_debt_consolidation': [-0.0006633499170813225,\n",
              "              0.0007745076344323577,\n",
              "              0.0007695690413368128],\n",
              "             'purpose_home_improvement': [0.0009950248756218168,\n",
              "              0.0,\n",
              "              -0.0004397537379067027],\n",
              "             'purpose_house': [0.0,\n",
              "              0.0005532197388802793,\n",
              "              0.0008795074758135715],\n",
              "             'purpose_major_purchase': [-0.00011055831951360941,\n",
              "              -0.0005532197388802793,\n",
              "              -0.00021987686895335134],\n",
              "             'purpose_medical': [-0.00011055831951360941,\n",
              "              0.00011064394777612271,\n",
              "              -0.00010993843447659266],\n",
              "             'purpose_moving': [-0.0008844665561083744,\n",
              "              0.00033193184332820105,\n",
              "              0.00010993843447675869],\n",
              "             'purpose_other': [-0.0014372581536760873,\n",
              "              0.0005532197388802793,\n",
              "              0.0007695690413368128],\n",
              "             'purpose_small_business': [0.00011055831951360941,\n",
              "              0.003319318433281676,\n",
              "              0.0016490765171503841],\n",
              "             'purpose_vacation': [0.00022111663902705186,\n",
              "              -0.00011064394777595561,\n",
              "              0.00032981530343011004],\n",
              "             'purpose_wedding': [0.00022111663902705186,\n",
              "              -0.00033193184332820105,\n",
              "              0.0008795074758135715],\n",
              "             'revol_bal': [0.00022111663902705186,\n",
              "              0.003983182119938078,\n",
              "              0.00516710642040467],\n",
              "             'revol_util': [0.0025428413488115136,\n",
              "              0.0004425757911043237,\n",
              "              0.0059366754617414825],\n",
              "             'term_60 months': [0.017689331122166987,\n",
              "              0.03197610090728041,\n",
              "              0.03496042216358834]})"
            ]
          },
          "metadata": {},
          "execution_count": 47
        }
      ]
    },
    {
      "cell_type": "code",
      "source": [
        "scores.items()"
      ],
      "metadata": {
        "colab": {
          "base_uri": "https://localhost:8080/"
        },
        "id": "KedHM7ObuvOb",
        "outputId": "621ead05-5cdb-45a3-94c3-2eadd52a630c"
      },
      "execution_count": 48,
      "outputs": [
        {
          "output_type": "execute_result",
          "data": {
            "text/plain": [
              "dict_items([('loan_amnt', [-0.0035378662244333306, 0.0025448107988493185, -0.00021987686895335134]), ('annual_inc', [0.01459369817578776, 0.006417348971011274, 0.01220316622691291]), ('dti', [0.007960199004975202, 0.004204470015490156, 0.0059366754617414825]), ('payment_inc_ratio', [0.008181315644002254, 0.015379508740871866, 0.010993843447669394]), ('revol_bal', [0.00022111663902705186, 0.003983182119938078, 0.00516710642040467]), ('revol_util', [0.0025428413488115136, 0.0004425757911043237, 0.0059366754617414825]), ('delinq_2yrs_zero', [0.002100608070757243, 0.0007745076344323577, 0.0026385224274407142]), ('pub_rec_zero', [0.0008844665561083744, -0.00044257579110415664, -0.00021987686895335134]), ('open_acc', [-0.00033167495854066124, 0.0032086744855057206, 0.0018689533861037356]), ('grade', [0.03206191265892753, 0.037729586191635286, 0.03441072999120488]), ('emp_length', [-0.001326699834162478, 0.0032086744855057206, 0.0031882145998241756]), ('borrower_score', [0.08081813156440022, 0.07866784686877629, 0.07431838170624454]), ('term_60 months', [0.017689331122166987, 0.03197610090728041, 0.03496042216358834]), ('purpose_credit_card', [0.001326699834162478, -0.00033193184332820105, 0.0010993843447669228]), ('purpose_debt_consolidation', [-0.0006633499170813225, 0.0007745076344323577, 0.0007695690413368128]), ('purpose_home_improvement', [0.0009950248756218168, 0.0, -0.0004397537379067027]), ('purpose_house', [0.0, 0.0005532197388802793, 0.0008795074758135715]), ('purpose_major_purchase', [-0.00011055831951360941, -0.0005532197388802793, -0.00021987686895335134]), ('purpose_medical', [-0.00011055831951360941, 0.00011064394777612271, -0.00010993843447659266]), ('purpose_moving', [-0.0008844665561083744, 0.00033193184332820105, 0.00010993843447675869]), ('purpose_other', [-0.0014372581536760873, 0.0005532197388802793, 0.0007695690413368128]), ('purpose_small_business', [0.00011055831951360941, 0.003319318433281676, 0.0016490765171503841]), ('purpose_vacation', [0.00022111663902705186, -0.00011064394777595561, 0.00032981530343011004]), ('purpose_wedding', [0.00022111663902705186, -0.00033193184332820105, 0.0008795074758135715]), ('purpose__debt_consolidation', [-0.00154781647318953, -0.0008851515822084804, 0.001759014951627143]), ('purpose__home_improvement', [0.0008844665561083744, -0.0007745076344323577, 0.00032981530343011004]), ('purpose__major_purchase', [0.000552791597567713, -0.001659659216640838, -0.0005496921723834614]), ('purpose__medical', [-0.00022111663902705186, 0.0, -0.00021987686895335134]), ('purpose__other', [-0.001105583195135426, 0.0015490152688648823, 0.002088830255057253]), ('purpose__small_business', [-0.000773908236594765, 0.005642841336578916, 0.0008795074758135715]), ('home__OWN', [-0.0004422332780541037, 0.0012170834255366815, 0.0]), ('home__RENT', [0.0014372581536760873, 0.003319318433281676, -0.0028583992963940657]), ('emp_len__ > 1 Year', [0.0014372581536760873, 0.0007745076344323577, -0.002088830255057087])])"
            ]
          },
          "metadata": {},
          "execution_count": 48
        }
      ]
    },
    {
      "cell_type": "code",
      "source": [
        "importances = rf_all.feature_importances_\n",
        "\n",
        "df = pd.DataFrame({\n",
        "    'feature': X.columns, \n",
        "    'Accuracy decrease': [np.mean(scores[column]) for column in \n",
        "                         X.columns],\n",
        "    'Gini decrease': rf_all.feature_importances_, \n",
        "    'Entropy decrease': rf_all_entropy.feature_importances_,\n",
        "})\n",
        "df = df.sort_values('Accuracy decrease')\n",
        "\n",
        "fig, axes = plt.subplots(ncols=2, figsize=(8, 5))\n",
        "ax = df.plot(kind='barh', x='feature', y='Accuracy decrease', \n",
        "             legend=False, ax=axes[0])\n",
        "ax.set_ylabel('')\n",
        "\n",
        "ax = df.plot(kind='barh', x='feature', y='Gini decrease', \n",
        "             legend=False, ax=axes[1])\n",
        "ax.set_ylabel('')\n",
        "ax.get_yaxis().set_visible(False)\n",
        "\n",
        "plt.tight_layout()\n",
        "plt.show()"
      ],
      "metadata": {
        "id": "c-sVfSR6W1Pf",
        "colab": {
          "base_uri": "https://localhost:8080/",
          "height": 369
        },
        "outputId": "4040aa24-eaa7-4ae3-b4d7-85875b6717c3"
      },
      "execution_count": 49,
      "outputs": [
        {
          "output_type": "display_data",
          "data": {
            "image/png": "[encoded data removed]",
            "text/plain": [
              "<Figure size 576x360 with 2 Axes>"
            ]
          },
          "metadata": {
            "needs_background": "light"
          }
        }
      ]
    },
    {
      "cell_type": "code",
      "source": [
        "fig, axes = plt.subplots(ncols=2, figsize=(8, 5))\n",
        "ax = df.plot(kind='barh', x='feature', y='Accuracy decrease', \n",
        "             legend=False, ax=axes[0])\n",
        "# ax.set_ylabel('')\n",
        "\n",
        "ax = df.plot(kind='barh', x='feature', y='Gini decrease', \n",
        "             legend=False, ax=axes[1])\n",
        "# ax.set_ylabel('')\n",
        "# ax.get_yaxis().set_visible(False)\n",
        "\n",
        "plt.tight_layout()\n",
        "plt.show()"
      ],
      "metadata": {
        "colab": {
          "base_uri": "https://localhost:8080/",
          "height": 369
        },
        "id": "wVmN7va1AgZ4",
        "outputId": "560f82e7-abab-4360-f630-b3e5b6c7dfaa"
      },
      "execution_count": 50,
      "outputs": [
        {
          "output_type": "display_data",
          "data": {
            "image/png": "[encoded data removed]",
            "text/plain": [
              "<Figure size 576x360 with 2 Axes>"
            ]
          },
          "metadata": {
            "needs_background": "light"
          }
        }
      ]
    },
    {
      "cell_type": "code",
      "source": [
        "fig, axes = plt.subplots(ncols=2, figsize=(8, 5))\n",
        "ax = df.plot(kind='barh', x='feature', y='Accuracy decrease', \n",
        "             legend=False, ax=axes[0])\n",
        "# ax.set_ylabel('')\n",
        "\n",
        "ax = df.plot(kind='barh', x='feature', y='Gini decrease', \n",
        "             legend=False, ax=axes[1])\n",
        "ax.set_ylabel('')\n",
        "ax.get_yaxis().set_visible(True)\n",
        "\n",
        "plt.tight_layout()\n",
        "plt.show()"
      ],
      "metadata": {
        "colab": {
          "base_uri": "https://localhost:8080/",
          "height": 369
        },
        "id": "f7-eP-GEAnjk",
        "outputId": "f54d8180-02d4-4895-d176-35efbaf5223e"
      },
      "execution_count": 51,
      "outputs": [
        {
          "output_type": "display_data",
          "data": {
            "image/png": "[encoded data removed]",
            "text/plain": [
              "<Figure size 576x360 with 2 Axes>"
            ]
          },
          "metadata": {
            "needs_background": "light"
          }
        }
      ]
    },
    {
      "cell_type": "code",
      "source": [
        "fig, axes = plt.subplots(ncols=2, figsize=(8, 5))\n",
        "ax = df.plot(kind='barh', x='feature', y='Accuracy decrease', \n",
        "             legend=False, ax=axes[0])\n",
        "ax.set_ylabel('')\n",
        "\n",
        "ax = df.plot(kind='barh', x='feature', y='Gini decrease', \n",
        "             legend=False, ax=axes[1])\n",
        "ax.set_ylabel('')\n",
        "ax.get_yaxis().set_visible(True)\n",
        "\n",
        "plt.tight_layout()\n",
        "plt.show()"
      ],
      "metadata": {
        "colab": {
          "base_uri": "https://localhost:8080/",
          "height": 369
        },
        "id": "mXkaNgRPAz0W",
        "outputId": "a740953e-f002-49b4-e50f-6df2a7b13657"
      },
      "execution_count": 52,
      "outputs": [
        {
          "output_type": "display_data",
          "data": {
            "image/png": "[encoded data removed]",
            "text/plain": [
              "<Figure size 576x360 with 2 Axes>"
            ]
          },
          "metadata": {
            "needs_background": "light"
          }
        }
      ]
    },
    {
      "cell_type": "markdown",
      "source": [
        "## **6.4 Boosting**\n",
        "### **6.4.2 XGBoost**"
      ],
      "metadata": {
        "id": "a1uhq77SW6S7"
      }
    },
    {
      "cell_type": "code",
      "source": [
        "predictors = ['borrower_score', 'payment_inc_ratio']\n",
        "outcome = 'outcome'\n",
        "\n",
        "X = loan3000[predictors]\n",
        "y = pd.Series([1 if o == 'default' else 0 for o in loan3000[outcome]])"
      ],
      "metadata": {
        "id": "UMMar5viIKEB"
      },
      "execution_count": 53,
      "outputs": []
    },
    {
      "cell_type": "code",
      "source": [
        "y"
      ],
      "metadata": {
        "colab": {
          "base_uri": "https://localhost:8080/"
        },
        "id": "IfvMhQSBILSa",
        "outputId": "7fd1b3ce-9efa-4ecd-bb17-bcaeaa2ef0a1"
      },
      "execution_count": 54,
      "outputs": [
        {
          "output_type": "execute_result",
          "data": {
            "text/plain": [
              "0       0\n",
              "1       1\n",
              "2       0\n",
              "3       0\n",
              "4       1\n",
              "       ..\n",
              "2995    0\n",
              "2996    0\n",
              "2997    1\n",
              "2998    1\n",
              "2999    1\n",
              "Length: 3000, dtype: int64"
            ]
          },
          "metadata": {},
          "execution_count": 54
        }
      ]
    },
    {
      "cell_type": "code",
      "source": [
        "y_textbook = loan3000[outcome]\n",
        "y_textbook"
      ],
      "metadata": {
        "colab": {
          "base_uri": "https://localhost:8080/"
        },
        "id": "zEy44FBmINVf",
        "outputId": "0a78e3ef-3d27-4417-e3c8-a32d8b675026"
      },
      "execution_count": 55,
      "outputs": [
        {
          "output_type": "execute_result",
          "data": {
            "text/plain": [
              "0       paid off\n",
              "1        default\n",
              "2       paid off\n",
              "3       paid off\n",
              "4        default\n",
              "          ...   \n",
              "2995    paid off\n",
              "2996    paid off\n",
              "2997     default\n",
              "2998     default\n",
              "2999     default\n",
              "Name: outcome, Length: 3000, dtype: object"
            ]
          },
          "metadata": {},
          "execution_count": 55
        }
      ]
    },
    {
      "cell_type": "code",
      "source": [
        "xgb = XGBClassifier(objective='binary:logistic', subsample=.63, \n",
        "                    use_label_encoder=False, eval_metric='error')\n",
        "print(xgb.fit(X, y))"
      ],
      "metadata": {
        "id": "kCQr5jFlXDVk",
        "colab": {
          "base_uri": "https://localhost:8080/"
        },
        "outputId": "c7cefdca-3c91-40d7-9c80-850f6ee644e8"
      },
      "execution_count": 56,
      "outputs": [
        {
          "output_type": "stream",
          "name": "stdout",
          "text": [
            "XGBClassifier(eval_metric='error', subsample=0.63, use_label_encoder=False)\n"
          ]
        }
      ]
    },
    {
      "cell_type": "code",
      "source": [
        "xgb.fit(X,y)\n",
        "XGBClassifier(base_score=0.5, booster='gbtree', colsample_bylevel=1,\n",
        "              colsample_bynode=1, colsample_bytree=1, gamma=0, learning_rate=0.1,\n",
        "              max_delta_step=0, max_depth=3, min_child_weight=1, missing=None,\n",
        "              n_estimators=100, n_jobs=1, nthread=None, objective=\"binary:logistic\",\n",
        "              random_state=0, reg_alpha=0, reg_lambda=1, scale_pos_weight=1, seed=None,\n",
        "              silent=None, subsample=0.63, verbosity=1)"
      ],
      "metadata": {
        "colab": {
          "base_uri": "https://localhost:8080/"
        },
        "id": "KyDBAXEnJF3Z",
        "outputId": "5168fdc7-5ecd-48e4-a6c7-9294c93b252d"
      },
      "execution_count": 57,
      "outputs": [
        {
          "output_type": "execute_result",
          "data": {
            "text/plain": [
              "XGBClassifier(subsample=0.63)"
            ]
          },
          "metadata": {},
          "execution_count": 57
        }
      ]
    },
    {
      "cell_type": "code",
      "source": [
        "X"
      ],
      "metadata": {
        "colab": {
          "base_uri": "https://localhost:8080/",
          "height": 424
        },
        "id": "1SPGNho7Kz2r",
        "outputId": "f9e809d9-f49f-457d-c5b0-d52688f877bc"
      },
      "execution_count": 58,
      "outputs": [
        {
          "output_type": "execute_result",
          "data": {
            "text/html": [
              "\n",
              "  <div id=\"df-f3660648-13fa-42ff-91de-ff02abf37d06\">\n",
              "    <div class=\"colab-df-container\">\n",
              "      <div>\n",
              "<style scoped>\n",
              "    .dataframe tbody tr th:only-of-type {\n",
              "        vertical-align: middle;\n",
              "    }\n",
              "\n",
              "    .dataframe tbody tr th {\n",
              "        vertical-align: top;\n",
              "    }\n",
              "\n",
              "    .dataframe thead th {\n",
              "        text-align: right;\n",
              "    }\n",
              "</style>\n",
              "<table border=\"1\" class=\"dataframe\">\n",
              "  <thead>\n",
              "    <tr style=\"text-align: right;\">\n",
              "      <th></th>\n",
              "      <th>borrower_score</th>\n",
              "      <th>payment_inc_ratio</th>\n",
              "    </tr>\n",
              "  </thead>\n",
              "  <tbody>\n",
              "    <tr>\n",
              "      <th>0</th>\n",
              "      <td>0.40</td>\n",
              "      <td>5.11135</td>\n",
              "    </tr>\n",
              "    <tr>\n",
              "      <th>1</th>\n",
              "      <td>0.40</td>\n",
              "      <td>5.43165</td>\n",
              "    </tr>\n",
              "    <tr>\n",
              "      <th>2</th>\n",
              "      <td>0.70</td>\n",
              "      <td>9.23003</td>\n",
              "    </tr>\n",
              "    <tr>\n",
              "      <th>3</th>\n",
              "      <td>0.40</td>\n",
              "      <td>2.33482</td>\n",
              "    </tr>\n",
              "    <tr>\n",
              "      <th>4</th>\n",
              "      <td>0.45</td>\n",
              "      <td>12.10320</td>\n",
              "    </tr>\n",
              "    <tr>\n",
              "      <th>...</th>\n",
              "      <td>...</td>\n",
              "      <td>...</td>\n",
              "    </tr>\n",
              "    <tr>\n",
              "      <th>2995</th>\n",
              "      <td>0.50</td>\n",
              "      <td>18.36620</td>\n",
              "    </tr>\n",
              "    <tr>\n",
              "      <th>2996</th>\n",
              "      <td>0.60</td>\n",
              "      <td>1.80421</td>\n",
              "    </tr>\n",
              "    <tr>\n",
              "      <th>2997</th>\n",
              "      <td>0.20</td>\n",
              "      <td>15.42180</td>\n",
              "    </tr>\n",
              "    <tr>\n",
              "      <th>2998</th>\n",
              "      <td>0.45</td>\n",
              "      <td>8.92335</td>\n",
              "    </tr>\n",
              "    <tr>\n",
              "      <th>2999</th>\n",
              "      <td>0.40</td>\n",
              "      <td>12.88190</td>\n",
              "    </tr>\n",
              "  </tbody>\n",
              "</table>\n",
              "<p>3000 rows × 2 columns</p>\n",
              "</div>\n",
              "      <button class=\"colab-df-convert\" onclick=\"convertToInteractive('df-f3660648-13fa-42ff-91de-ff02abf37d06')\"\n",
              "              title=\"Convert this dataframe to an interactive table.\"\n",
              "              style=\"display:none;\">\n",
              "        \n",
              "  <svg xmlns=\"http://www.w3.org/2000/svg\" height=\"24px\"viewBox=\"0 0 24 24\"\n",
              "       width=\"24px\">\n",
              "    <path d=\"M0 0h24v24H0V0z\" fill=\"none\"/>\n",
              "    <path d=\"M18.56 5.44l.94 2.06.94-2.06 2.06-.94-2.06-.94-.94-2.06-.94 2.06-2.06.94zm-11 1L8.5 8.5l.94-2.06 2.06-.94-2.06-.94L8.5 2.5l-.94 2.06-2.06.94zm10 10l.94 2.06.94-2.06 2.06-.94-2.06-.94-.94-2.06-.94 2.06-2.06.94z\"/><path d=\"M17.41 7.96l-1.37-1.37c-.4-.4-.92-.59-1.43-.59-.52 0-1.04.2-1.43.59L10.3 9.45l-7.72 7.72c-.78.78-.78 2.05 0 2.83L4 21.41c.39.39.9.59 1.41.59.51 0 1.02-.2 1.41-.59l7.78-7.78 2.81-2.81c.8-.78.8-2.07 0-2.86zM5.41 20L4 18.59l7.72-7.72 1.47 1.35L5.41 20z\"/>\n",
              "  </svg>\n",
              "      </button>\n",
              "      \n",
              "  <style>\n",
              "    .colab-df-container {\n",
              "      display:flex;\n",
              "      flex-wrap:wrap;\n",
              "      gap: 12px;\n",
              "    }\n",
              "\n",
              "    .colab-df-convert {\n",
              "      background-color: #E8F0FE;\n",
              "      border: none;\n",
              "      border-radius: 50%;\n",
              "      cursor: pointer;\n",
              "      display: none;\n",
              "      fill: #1967D2;\n",
              "      height: 32px;\n",
              "      padding: 0 0 0 0;\n",
              "      width: 32px;\n",
              "    }\n",
              "\n",
              "    .colab-df-convert:hover {\n",
              "      background-color: #E2EBFA;\n",
              "      box-shadow: 0px 1px 2px rgba(60, 64, 67, 0.3), 0px 1px 3px 1px rgba(60, 64, 67, 0.15);\n",
              "      fill: #174EA6;\n",
              "    }\n",
              "\n",
              "    [theme=dark] .colab-df-convert {\n",
              "      background-color: #3B4455;\n",
              "      fill: #D2E3FC;\n",
              "    }\n",
              "\n",
              "    [theme=dark] .colab-df-convert:hover {\n",
              "      background-color: #434B5C;\n",
              "      box-shadow: 0px 1px 3px 1px rgba(0, 0, 0, 0.15);\n",
              "      filter: drop-shadow(0px 1px 2px rgba(0, 0, 0, 0.3));\n",
              "      fill: #FFFFFF;\n",
              "    }\n",
              "  </style>\n",
              "\n",
              "      <script>\n",
              "        const buttonEl =\n",
              "          document.querySelector('#df-f3660648-13fa-42ff-91de-ff02abf37d06 button.colab-df-convert');\n",
              "        buttonEl.style.display =\n",
              "          google.colab.kernel.accessAllowed ? 'block' : 'none';\n",
              "\n",
              "        async function convertToInteractive(key) {\n",
              "          const element = document.querySelector('#df-f3660648-13fa-42ff-91de-ff02abf37d06');\n",
              "          const dataTable =\n",
              "            await google.colab.kernel.invokeFunction('convertToInteractive',\n",
              "                                                     [key], {});\n",
              "          if (!dataTable) return;\n",
              "\n",
              "          const docLinkHtml = 'Like what you see? Visit the ' +\n",
              "            '<a target=\"_blank\" href=https://colab.research.google.com/notebooks/data_table.ipynb>data table notebook</a>'\n",
              "            + ' to learn more about interactive tables.';\n",
              "          element.innerHTML = '';\n",
              "          dataTable['output_type'] = 'display_data';\n",
              "          await google.colab.output.renderOutput(dataTable, element);\n",
              "          const docLink = document.createElement('div');\n",
              "          docLink.innerHTML = docLinkHtml;\n",
              "          element.appendChild(docLink);\n",
              "        }\n",
              "      </script>\n",
              "    </div>\n",
              "  </div>\n",
              "  "
            ],
            "text/plain": [
              "      borrower_score  payment_inc_ratio\n",
              "0               0.40            5.11135\n",
              "1               0.40            5.43165\n",
              "2               0.70            9.23003\n",
              "3               0.40            2.33482\n",
              "4               0.45           12.10320\n",
              "...              ...                ...\n",
              "2995            0.50           18.36620\n",
              "2996            0.60            1.80421\n",
              "2997            0.20           15.42180\n",
              "2998            0.45            8.92335\n",
              "2999            0.40           12.88190\n",
              "\n",
              "[3000 rows x 2 columns]"
            ]
          },
          "metadata": {},
          "execution_count": 58
        }
      ]
    },
    {
      "cell_type": "code",
      "source": [
        "xgb.predict_proba(X)"
      ],
      "metadata": {
        "colab": {
          "base_uri": "https://localhost:8080/"
        },
        "id": "KtqmRP_uV-oK",
        "outputId": "e97d583c-a7f9-4a6b-b288-317c7cc82e8e"
      },
      "execution_count": 59,
      "outputs": [
        {
          "output_type": "execute_result",
          "data": {
            "text/plain": [
              "array([[0.56080514, 0.43919486],\n",
              "       [0.44243634, 0.55756366],\n",
              "       [0.6847507 , 0.31524932],\n",
              "       ...,\n",
              "       [0.08500743, 0.9149926 ],\n",
              "       [0.50247246, 0.49752754],\n",
              "       [0.37898022, 0.6210198 ]], dtype=float32)"
            ]
          },
          "metadata": {},
          "execution_count": 59
        }
      ]
    },
    {
      "cell_type": "code",
      "source": [
        "xgb_df = X.copy()\n",
        "xgb_df['prediction'] = ['default' if p == 1 else 'paid off' for p in xgb.predict(X)]\n",
        "# xgb_df['prob_default'] = xgb.predict_proba(X)[:, 0] # It seems wrong.\n",
        "# It seems like that XGBoost is different from others in terms of category location.\n",
        "xgb_df['prob_default'] = xgb.predict_proba(X)[:, 1] # Category: [paid off; default]\n",
        "print(xgb_df.head())"
      ],
      "metadata": {
        "id": "B0OJ8I5XXF_U",
        "colab": {
          "base_uri": "https://localhost:8080/"
        },
        "outputId": "2707d91d-ad44-4add-ff53-0b8db9c972c6"
      },
      "execution_count": 60,
      "outputs": [
        {
          "output_type": "stream",
          "name": "stdout",
          "text": [
            "   borrower_score  payment_inc_ratio prediction  prob_default\n",
            "0            0.40            5.11135   paid off      0.439195\n",
            "1            0.40            5.43165    default      0.557564\n",
            "2            0.70            9.23003   paid off      0.315249\n",
            "3            0.40            2.33482   paid off      0.461870\n",
            "4            0.45           12.10320    default      0.630166\n"
          ]
        }
      ]
    },
    {
      "cell_type": "code",
      "source": [
        "fig, ax = plt.subplots(figsize=(6, 4))\n",
        "\n",
        "xgb_df.loc[xgb_df.prediction=='paid off'].plot(\n",
        "    x='borrower_score', y='payment_inc_ratio', style='.', \n",
        "    markerfacecolor='none', markeredgecolor='C1', ax=ax)\n",
        "xgb_df.loc[xgb_df.prediction=='default'].plot(\n",
        "    x='borrower_score', y='payment_inc_ratio', style='o', \n",
        "    markerfacecolor='none', markeredgecolor='C0', ax=ax)\n",
        "\n",
        "ax.legend(['paid off', 'default']);\n",
        "ax.set_xlim(0, 1)\n",
        "ax.set_ylim(0, 25)\n",
        "ax.set_xlabel('borrower_score')\n",
        "ax.set_ylabel('payment_inc_ratio')\n",
        "\n",
        "plt.tight_layout()\n",
        "plt.show()"
      ],
      "metadata": {
        "id": "Ht-c71dLXJnD",
        "colab": {
          "base_uri": "https://localhost:8080/",
          "height": 297
        },
        "outputId": "b1917e5b-f480-46cf-caf8-3fd1370e9592"
      },
      "execution_count": 61,
      "outputs": [
        {
          "output_type": "display_data",
          "data": {
            "image/png": "[encoded data removed]",
            "text/plain": [
              "<Figure size 432x288 with 1 Axes>"
            ]
          },
          "metadata": {
            "needs_background": "light"
          }
        }
      ]
    },
    {
      "cell_type": "markdown",
      "source": [
        "### **6.4.3 Regularization: Avoiding Overfitting**"
      ],
      "metadata": {
        "id": "8vqQOGl_XNPi"
      }
    },
    {
      "cell_type": "code",
      "source": [
        "predictors = ['loan_amnt', 'term', 'annual_inc', 'dti', 'payment_inc_ratio',\n",
        "              'revol_bal', 'revol_util', 'purpose', 'delinq_2yrs_zero',\n",
        "              'pub_rec_zero', 'open_acc', 'grade', 'emp_length', 'purpose_', \n",
        "              'home_', 'emp_len_', 'borrower_score']\n",
        "outcome = 'outcome'\n",
        "\n",
        "X = pd.get_dummies(loan_data[predictors], drop_first=True)\n",
        "y = pd.Series([1 if o == 'default' else 0 for o in loan_data[outcome]])\n",
        "\n",
        "train_X, valid_X, train_y, valid_y = train_test_split(X, y, test_size=10000)\n",
        "\n",
        "xgb_default = XGBClassifier(objective='binary:logistic', n_estimators=250, max_depth=6,\n",
        "                            reg_lambda=0, learning_rate=0.3, subsample=1,\n",
        "                            use_label_encoder=False, eval_metric='error')\n",
        "xgb_default.fit(train_X, train_y)"
      ],
      "metadata": {
        "id": "b9mCaxPeXV_u",
        "colab": {
          "base_uri": "https://localhost:8080/"
        },
        "outputId": "b42ceb25-2c75-498e-fe18-8a5c7f2a4d7a"
      },
      "execution_count": 62,
      "outputs": [
        {
          "output_type": "execute_result",
          "data": {
            "text/plain": [
              "XGBClassifier(eval_metric='error', learning_rate=0.3, max_depth=6,\n",
              "              n_estimators=250, reg_lambda=0, use_label_encoder=False)"
            ]
          },
          "metadata": {},
          "execution_count": 62
        }
      ]
    },
    {
      "cell_type": "code",
      "source": [
        "print(loan_data[outcome])\n",
        "print('')\n",
        "print(y)"
      ],
      "metadata": {
        "colab": {
          "base_uri": "https://localhost:8080/"
        },
        "id": "p60VuEEYR0CA",
        "outputId": "876d949f-8882-4b88-c3a2-afe148fce77e"
      },
      "execution_count": 63,
      "outputs": [
        {
          "output_type": "stream",
          "name": "stdout",
          "text": [
            "0         default\n",
            "1         default\n",
            "2         default\n",
            "3         default\n",
            "4         default\n",
            "           ...   \n",
            "45337    paid off\n",
            "45338    paid off\n",
            "45339    paid off\n",
            "45340    paid off\n",
            "45341    paid off\n",
            "Name: outcome, Length: 45342, dtype: category\n",
            "Categories (2, object): ['paid off' < 'default']\n",
            "\n",
            "0        1\n",
            "1        1\n",
            "2        1\n",
            "3        1\n",
            "4        1\n",
            "        ..\n",
            "45337    0\n",
            "45338    0\n",
            "45339    0\n",
            "45340    0\n",
            "45341    0\n",
            "Length: 45342, dtype: int64\n"
          ]
        }
      ]
    },
    {
      "cell_type": "code",
      "source": [
        "xgb_default.predict_proba(X)"
      ],
      "metadata": {
        "colab": {
          "base_uri": "https://localhost:8080/"
        },
        "id": "rHCUqZNBYFsE",
        "outputId": "087eac1a-7768-4c24-9ddb-f968a9b1309c"
      },
      "execution_count": 64,
      "outputs": [
        {
          "output_type": "execute_result",
          "data": {
            "text/plain": [
              "array([[0.26845455, 0.73154545],\n",
              "       [0.55544126, 0.44455877],\n",
              "       [0.05910885, 0.94089115],\n",
              "       ...,\n",
              "       [0.66044563, 0.33955437],\n",
              "       [0.69286996, 0.30713004],\n",
              "       [0.73834455, 0.26165548]], dtype=float32)"
            ]
          },
          "metadata": {},
          "execution_count": 64
        }
      ]
    },
    {
      "cell_type": "code",
      "source": [
        "xgb_default.predict_proba(valid_X)"
      ],
      "metadata": {
        "colab": {
          "base_uri": "https://localhost:8080/"
        },
        "id": "knCxFVtJPb6N",
        "outputId": "2d5d60b5-9c45-4d06-cd3c-5559ed349c7d"
      },
      "execution_count": 65,
      "outputs": [
        {
          "output_type": "execute_result",
          "data": {
            "text/plain": [
              "array([[0.6917629 , 0.30823705],\n",
              "       [0.36780918, 0.6321908 ],\n",
              "       [0.92731816, 0.07268183],\n",
              "       ...,\n",
              "       [0.58893114, 0.41106886],\n",
              "       [0.8358825 , 0.16411752],\n",
              "       [0.50662607, 0.49337393]], dtype=float32)"
            ]
          },
          "metadata": {},
          "execution_count": 65
        }
      ]
    },
    {
      "cell_type": "code",
      "source": [
        "xgb_default.predict_proba(valid_X)[:, 1]"
      ],
      "metadata": {
        "colab": {
          "base_uri": "https://localhost:8080/"
        },
        "id": "zjO_mlPPRffi",
        "outputId": "e1e5f457-9a10-4704-f2ff-86e58bb08c83"
      },
      "execution_count": 66,
      "outputs": [
        {
          "output_type": "execute_result",
          "data": {
            "text/plain": [
              "array([0.30823705, 0.6321908 , 0.07268183, ..., 0.41106886, 0.16411752,\n",
              "       0.49337393], dtype=float32)"
            ]
          },
          "metadata": {},
          "execution_count": 66
        }
      ]
    },
    {
      "cell_type": "code",
      "source": [
        "valid_y"
      ],
      "metadata": {
        "colab": {
          "base_uri": "https://localhost:8080/"
        },
        "id": "axTP3pXgPfvF",
        "outputId": "f8af77b3-dc32-4efe-dd89-942071f8f237"
      },
      "execution_count": 67,
      "outputs": [
        {
          "output_type": "execute_result",
          "data": {
            "text/plain": [
              "41694    0\n",
              "3804     1\n",
              "37318    0\n",
              "6985     1\n",
              "5677     1\n",
              "        ..\n",
              "34546    0\n",
              "28109    0\n",
              "30824    0\n",
              "32855    0\n",
              "32606    0\n",
              "Length: 10000, dtype: int64"
            ]
          },
          "metadata": {},
          "execution_count": 67
        }
      ]
    },
    {
      "cell_type": "code",
      "source": [
        "pred_default = xgb_default.predict_proba(valid_X)[:, 1] # Category: [paid off; default]\n",
        "error_default = abs(valid_y - pred_default) > 0.5\n",
        "print('default:', np.mean(error_default))"
      ],
      "metadata": {
        "colab": {
          "base_uri": "https://localhost:8080/"
        },
        "id": "QTw1bWQ7N6eU",
        "outputId": "50ee6279-c88c-4b7f-817f-039d4ab55f13"
      },
      "execution_count": 68,
      "outputs": [
        {
          "output_type": "stream",
          "name": "stdout",
          "text": [
            "default: 0.3545\n"
          ]
        }
      ]
    },
    {
      "cell_type": "code",
      "source": [
        "xgb_penalty = XGBClassifier(objective='binary:logistic', n_estimators=250, max_depth=6,\n",
        "                            reg_lambda=1000, learning_rate=0.1, subsample=0.63,\n",
        "                            use_label_encoder=False, eval_metric='error')\n",
        "print(xgb_penalty.fit(train_X, train_y))"
      ],
      "metadata": {
        "colab": {
          "base_uri": "https://localhost:8080/"
        },
        "id": "lwCWYu-0Nw7M",
        "outputId": "a58d3897-8a8c-404d-8ff0-011b865d9d13"
      },
      "execution_count": 69,
      "outputs": [
        {
          "output_type": "stream",
          "name": "stdout",
          "text": [
            "XGBClassifier(eval_metric='error', max_depth=6, n_estimators=250,\n",
            "              reg_lambda=1000, subsample=0.63, use_label_encoder=False)\n"
          ]
        }
      ]
    },
    {
      "cell_type": "code",
      "source": [
        "pred_default = xgb_default.predict_proba(train_X)[:, 1]\n",
        "error_default = abs(train_y - pred_default) > 0.5\n",
        "print('default (train): ', np.mean(error_default))\n",
        "\n",
        "pred_default = xgb_default.predict_proba(valid_X)[:, 1]\n",
        "error_default = abs(valid_y - pred_default) > 0.5\n",
        "print('default: ', np.mean(error_default))\n",
        "\n",
        "pred_penalty = xgb_penalty.predict_proba(valid_X)[:, 1]\n",
        "error_penalty = abs(valid_y - pred_penalty) > 0.5\n",
        "print('penalty: ', np.mean(error_penalty))"
      ],
      "metadata": {
        "id": "ow6lWCVdXZZg",
        "colab": {
          "base_uri": "https://localhost:8080/"
        },
        "outputId": "60d680f9-93fd-41e6-cefe-ea8b45255eae"
      },
      "execution_count": 70,
      "outputs": [
        {
          "output_type": "stream",
          "name": "stdout",
          "text": [
            "default (train):  0.12594080697187482\n",
            "default:  0.3545\n",
            "penalty:  0.3279\n"
          ]
        }
      ]
    },
    {
      "cell_type": "code",
      "source": [
        "results = []\n",
        "for ntree_limit in range(1, 250):\n",
        "    train_default = xgb_default.predict_proba(train_X, ntree_limit=ntree_limit)[:, 1]\n",
        "    train_penalty = xgb_penalty.predict_proba(train_X, ntree_limit=ntree_limit)[:, 1]\n",
        "    pred_default = xgb_default.predict_proba(valid_X, ntree_limit=ntree_limit)[:, 1]\n",
        "    pred_penalty = xgb_penalty.predict_proba(valid_X, ntree_limit=ntree_limit)[:, 1]\n",
        "    results.append({\n",
        "        'iterations': ntree_limit,\n",
        "        'default train': np.mean(abs(train_y - train_default) > 0.5),\n",
        "        'penalty train': np.mean(abs(train_y - train_penalty) > 0.5),\n",
        "        'default test': np.mean(abs(valid_y - pred_default) > 0.5),\n",
        "        'penalty test': np.mean(abs(valid_y - pred_penalty) > 0.5),\n",
        "    })\n",
        "\n",
        "results = pd.DataFrame(results)\n",
        "print(results.head())"
      ],
      "metadata": {
        "id": "9Wy4ZGlwXc2F",
        "colab": {
          "base_uri": "https://localhost:8080/"
        },
        "outputId": "60d97d60-e5fe-45c9-afa8-ff378bcb97e5"
      },
      "execution_count": 71,
      "outputs": [
        {
          "output_type": "stream",
          "name": "stdout",
          "text": [
            "   iterations  default train  penalty train  default test  penalty test\n",
            "0           1       0.345000       0.337191        0.3492        0.3474\n",
            "1           2       0.329806       0.340360        0.3360        0.3447\n",
            "2           3       0.327938       0.338577        0.3397        0.3424\n",
            "3           4       0.322902       0.339002        0.3349        0.3384\n",
            "4           5       0.321148       0.339851        0.3324        0.3409\n"
          ]
        }
      ]
    },
    {
      "cell_type": "code",
      "source": [
        "ax = results.plot(x='iterations', y='default test')\n",
        "results.plot(x='iterations', y='penalty test', ax=ax)\n",
        "results.plot(x='iterations', y='default train', ax=ax)\n",
        "results.plot(x='iterations', y='penalty train', ax=ax)\n",
        "plt.show()"
      ],
      "metadata": {
        "id": "7rC74IhmXfSi",
        "colab": {
          "base_uri": "https://localhost:8080/",
          "height": 279
        },
        "outputId": "4f0323a0-d288-4eca-a8a5-d097d9712970"
      },
      "execution_count": 72,
      "outputs": [
        {
          "output_type": "display_data",
          "data": {
            "image/png": "[encoded data removed]",
            "text/plain": [
              "<Figure size 432x288 with 1 Axes>"
            ]
          },
          "metadata": {
            "needs_background": "light"
          }
        }
      ]
    },
    {
      "cell_type": "code",
      "source": [
        "ax = results.plot(x='iterations', y='default train')\n",
        "results.plot(x='iterations', y='default test', ax=ax)\n",
        "results.plot(x='iterations', y='penalty train', ax=ax)\n",
        "results.plot(x='iterations', y='penalty test', ax=ax)\n",
        "plt.show()"
      ],
      "metadata": {
        "colab": {
          "base_uri": "https://localhost:8080/",
          "height": 279
        },
        "id": "nAFHqZtmisHK",
        "outputId": "e980032e-2460-443f-ea8a-a0f21ffdf25d"
      },
      "execution_count": 73,
      "outputs": [
        {
          "output_type": "display_data",
          "data": {
            "image/png": "[encoded data removed]",
            "text/plain": [
              "<Figure size 432x288 with 1 Axes>"
            ]
          },
          "metadata": {
            "needs_background": "light"
          }
        }
      ]
    },
    {
      "cell_type": "markdown",
      "source": [
        "### **6.4.4 Hyperparameters and Cross-Validation**"
      ],
      "metadata": {
        "id": "nbxGbgkMXhRs"
      }
    },
    {
      "cell_type": "code",
      "source": [
        "len(X)"
      ],
      "metadata": {
        "colab": {
          "base_uri": "https://localhost:8080/"
        },
        "id": "WGrHDF3VkbkV",
        "outputId": "54a508cb-ccf8-43a2-ba37-3364cfc812e7"
      },
      "execution_count": 74,
      "outputs": [
        {
          "output_type": "execute_result",
          "data": {
            "text/plain": [
              "45342"
            ]
          },
          "metadata": {},
          "execution_count": 74
        }
      ]
    },
    {
      "cell_type": "code",
      "source": [
        "for k in range(5):\n",
        "    print(np.random.choice(range(5), size=len(X), replace=True))"
      ],
      "metadata": {
        "colab": {
          "base_uri": "https://localhost:8080/"
        },
        "id": "R1KWAG6BkRcp",
        "outputId": "f21f4864-3878-4e40-a5d7-5cd716196c58"
      },
      "execution_count": 75,
      "outputs": [
        {
          "output_type": "stream",
          "name": "stdout",
          "text": [
            "[0 0 0 ... 2 2 4]\n",
            "[2 0 1 ... 1 1 2]\n",
            "[3 2 0 ... 4 2 3]\n",
            "[3 2 0 ... 1 3 1]\n",
            "[0 1 2 ... 2 1 0]\n"
          ]
        }
      ]
    },
    {
      "cell_type": "code",
      "source": [
        "temp = np.random.choice(range(5), size=len(X), replace=True)\n",
        "print(temp)\n",
        "print(len(temp))"
      ],
      "metadata": {
        "colab": {
          "base_uri": "https://localhost:8080/"
        },
        "id": "hIT3xvSqk9Um",
        "outputId": "c573fe0e-31d3-41ab-d5f3-e5d4e4c7a878"
      },
      "execution_count": 76,
      "outputs": [
        {
          "output_type": "stream",
          "name": "stdout",
          "text": [
            "[2 3 0 ... 4 3 0]\n",
            "45342\n"
          ]
        }
      ]
    },
    {
      "cell_type": "code",
      "source": [
        "fold_idx = temp == 0\n",
        "X.loc[~fold_idx]"
      ],
      "metadata": {
        "colab": {
          "base_uri": "https://localhost:8080/",
          "height": 505
        },
        "id": "ZFvCvJDamLTd",
        "outputId": "a8f716c9-8cbb-4ac7-ec23-837a2c4d0ef6"
      },
      "execution_count": 77,
      "outputs": [
        {
          "output_type": "execute_result",
          "data": {
            "text/html": [
              "\n",
              "  <div id=\"df-ca2c1e08-69ed-4523-8a48-264dae02a43d\">\n",
              "    <div class=\"colab-df-container\">\n",
              "      <div>\n",
              "<style scoped>\n",
              "    .dataframe tbody tr th:only-of-type {\n",
              "        vertical-align: middle;\n",
              "    }\n",
              "\n",
              "    .dataframe tbody tr th {\n",
              "        vertical-align: top;\n",
              "    }\n",
              "\n",
              "    .dataframe thead th {\n",
              "        text-align: right;\n",
              "    }\n",
              "</style>\n",
              "<table border=\"1\" class=\"dataframe\">\n",
              "  <thead>\n",
              "    <tr style=\"text-align: right;\">\n",
              "      <th></th>\n",
              "      <th>loan_amnt</th>\n",
              "      <th>annual_inc</th>\n",
              "      <th>dti</th>\n",
              "      <th>payment_inc_ratio</th>\n",
              "      <th>revol_bal</th>\n",
              "      <th>revol_util</th>\n",
              "      <th>delinq_2yrs_zero</th>\n",
              "      <th>pub_rec_zero</th>\n",
              "      <th>open_acc</th>\n",
              "      <th>grade</th>\n",
              "      <th>emp_length</th>\n",
              "      <th>borrower_score</th>\n",
              "      <th>term_60 months</th>\n",
              "      <th>purpose_credit_card</th>\n",
              "      <th>purpose_debt_consolidation</th>\n",
              "      <th>purpose_home_improvement</th>\n",
              "      <th>purpose_house</th>\n",
              "      <th>purpose_major_purchase</th>\n",
              "      <th>purpose_medical</th>\n",
              "      <th>purpose_moving</th>\n",
              "      <th>purpose_other</th>\n",
              "      <th>purpose_small_business</th>\n",
              "      <th>purpose_vacation</th>\n",
              "      <th>purpose_wedding</th>\n",
              "      <th>purpose__debt_consolidation</th>\n",
              "      <th>purpose__home_improvement</th>\n",
              "      <th>purpose__major_purchase</th>\n",
              "      <th>purpose__medical</th>\n",
              "      <th>purpose__other</th>\n",
              "      <th>purpose__small_business</th>\n",
              "      <th>home__OWN</th>\n",
              "      <th>home__RENT</th>\n",
              "      <th>emp_len__ &gt; 1 Year</th>\n",
              "    </tr>\n",
              "  </thead>\n",
              "  <tbody>\n",
              "    <tr>\n",
              "      <th>0</th>\n",
              "      <td>2500</td>\n",
              "      <td>30000</td>\n",
              "      <td>1.00</td>\n",
              "      <td>2.39320</td>\n",
              "      <td>1687</td>\n",
              "      <td>9.4</td>\n",
              "      <td>1</td>\n",
              "      <td>1</td>\n",
              "      <td>3</td>\n",
              "      <td>4.8</td>\n",
              "      <td>1</td>\n",
              "      <td>0.35</td>\n",
              "      <td>1</td>\n",
              "      <td>0</td>\n",
              "      <td>0</td>\n",
              "      <td>0</td>\n",
              "      <td>0</td>\n",
              "      <td>0</td>\n",
              "      <td>0</td>\n",
              "      <td>0</td>\n",
              "      <td>0</td>\n",
              "      <td>0</td>\n",
              "      <td>0</td>\n",
              "      <td>0</td>\n",
              "      <td>0</td>\n",
              "      <td>0</td>\n",
              "      <td>1</td>\n",
              "      <td>0</td>\n",
              "      <td>0</td>\n",
              "      <td>0</td>\n",
              "      <td>0</td>\n",
              "      <td>1</td>\n",
              "      <td>1</td>\n",
              "    </tr>\n",
              "    <tr>\n",
              "      <th>1</th>\n",
              "      <td>5600</td>\n",
              "      <td>40000</td>\n",
              "      <td>5.55</td>\n",
              "      <td>4.57170</td>\n",
              "      <td>5210</td>\n",
              "      <td>32.6</td>\n",
              "      <td>1</td>\n",
              "      <td>1</td>\n",
              "      <td>11</td>\n",
              "      <td>1.4</td>\n",
              "      <td>5</td>\n",
              "      <td>0.20</td>\n",
              "      <td>1</td>\n",
              "      <td>0</td>\n",
              "      <td>0</td>\n",
              "      <td>0</td>\n",
              "      <td>0</td>\n",
              "      <td>0</td>\n",
              "      <td>0</td>\n",
              "      <td>0</td>\n",
              "      <td>0</td>\n",
              "      <td>1</td>\n",
              "      <td>0</td>\n",
              "      <td>0</td>\n",
              "      <td>0</td>\n",
              "      <td>0</td>\n",
              "      <td>0</td>\n",
              "      <td>0</td>\n",
              "      <td>0</td>\n",
              "      <td>1</td>\n",
              "      <td>1</td>\n",
              "      <td>0</td>\n",
              "      <td>1</td>\n",
              "    </tr>\n",
              "    <tr>\n",
              "      <th>3</th>\n",
              "      <td>9000</td>\n",
              "      <td>30000</td>\n",
              "      <td>10.08</td>\n",
              "      <td>12.21520</td>\n",
              "      <td>10452</td>\n",
              "      <td>91.7</td>\n",
              "      <td>1</td>\n",
              "      <td>1</td>\n",
              "      <td>4</td>\n",
              "      <td>4.2</td>\n",
              "      <td>1</td>\n",
              "      <td>0.50</td>\n",
              "      <td>0</td>\n",
              "      <td>0</td>\n",
              "      <td>1</td>\n",
              "      <td>0</td>\n",
              "      <td>0</td>\n",
              "      <td>0</td>\n",
              "      <td>0</td>\n",
              "      <td>0</td>\n",
              "      <td>0</td>\n",
              "      <td>0</td>\n",
              "      <td>0</td>\n",
              "      <td>0</td>\n",
              "      <td>1</td>\n",
              "      <td>0</td>\n",
              "      <td>0</td>\n",
              "      <td>0</td>\n",
              "      <td>0</td>\n",
              "      <td>0</td>\n",
              "      <td>0</td>\n",
              "      <td>1</td>\n",
              "      <td>1</td>\n",
              "    </tr>\n",
              "    <tr>\n",
              "      <th>4</th>\n",
              "      <td>10000</td>\n",
              "      <td>100000</td>\n",
              "      <td>7.06</td>\n",
              "      <td>3.90888</td>\n",
              "      <td>11997</td>\n",
              "      <td>55.5</td>\n",
              "      <td>1</td>\n",
              "      <td>1</td>\n",
              "      <td>14</td>\n",
              "      <td>5.4</td>\n",
              "      <td>4</td>\n",
              "      <td>0.45</td>\n",
              "      <td>0</td>\n",
              "      <td>0</td>\n",
              "      <td>0</td>\n",
              "      <td>0</td>\n",
              "      <td>0</td>\n",
              "      <td>0</td>\n",
              "      <td>0</td>\n",
              "      <td>0</td>\n",
              "      <td>1</td>\n",
              "      <td>0</td>\n",
              "      <td>0</td>\n",
              "      <td>0</td>\n",
              "      <td>0</td>\n",
              "      <td>0</td>\n",
              "      <td>0</td>\n",
              "      <td>0</td>\n",
              "      <td>1</td>\n",
              "      <td>0</td>\n",
              "      <td>0</td>\n",
              "      <td>1</td>\n",
              "      <td>1</td>\n",
              "    </tr>\n",
              "    <tr>\n",
              "      <th>5</th>\n",
              "      <td>21000</td>\n",
              "      <td>105000</td>\n",
              "      <td>13.22</td>\n",
              "      <td>8.01977</td>\n",
              "      <td>32135</td>\n",
              "      <td>90.3</td>\n",
              "      <td>1</td>\n",
              "      <td>1</td>\n",
              "      <td>7</td>\n",
              "      <td>5.8</td>\n",
              "      <td>11</td>\n",
              "      <td>0.60</td>\n",
              "      <td>0</td>\n",
              "      <td>0</td>\n",
              "      <td>1</td>\n",
              "      <td>0</td>\n",
              "      <td>0</td>\n",
              "      <td>0</td>\n",
              "      <td>0</td>\n",
              "      <td>0</td>\n",
              "      <td>0</td>\n",
              "      <td>0</td>\n",
              "      <td>0</td>\n",
              "      <td>0</td>\n",
              "      <td>1</td>\n",
              "      <td>0</td>\n",
              "      <td>0</td>\n",
              "      <td>0</td>\n",
              "      <td>0</td>\n",
              "      <td>0</td>\n",
              "      <td>0</td>\n",
              "      <td>1</td>\n",
              "      <td>1</td>\n",
              "    </tr>\n",
              "    <tr>\n",
              "      <th>...</th>\n",
              "      <td>...</td>\n",
              "      <td>...</td>\n",
              "      <td>...</td>\n",
              "      <td>...</td>\n",
              "      <td>...</td>\n",
              "      <td>...</td>\n",
              "      <td>...</td>\n",
              "      <td>...</td>\n",
              "      <td>...</td>\n",
              "      <td>...</td>\n",
              "      <td>...</td>\n",
              "      <td>...</td>\n",
              "      <td>...</td>\n",
              "      <td>...</td>\n",
              "      <td>...</td>\n",
              "      <td>...</td>\n",
              "      <td>...</td>\n",
              "      <td>...</td>\n",
              "      <td>...</td>\n",
              "      <td>...</td>\n",
              "      <td>...</td>\n",
              "      <td>...</td>\n",
              "      <td>...</td>\n",
              "      <td>...</td>\n",
              "      <td>...</td>\n",
              "      <td>...</td>\n",
              "      <td>...</td>\n",
              "      <td>...</td>\n",
              "      <td>...</td>\n",
              "      <td>...</td>\n",
              "      <td>...</td>\n",
              "      <td>...</td>\n",
              "      <td>...</td>\n",
              "    </tr>\n",
              "    <tr>\n",
              "      <th>45334</th>\n",
              "      <td>15000</td>\n",
              "      <td>100000</td>\n",
              "      <td>23.70</td>\n",
              "      <td>5.94252</td>\n",
              "      <td>30929</td>\n",
              "      <td>65.9</td>\n",
              "      <td>1</td>\n",
              "      <td>1</td>\n",
              "      <td>9</td>\n",
              "      <td>5.6</td>\n",
              "      <td>1</td>\n",
              "      <td>0.35</td>\n",
              "      <td>0</td>\n",
              "      <td>1</td>\n",
              "      <td>0</td>\n",
              "      <td>0</td>\n",
              "      <td>0</td>\n",
              "      <td>0</td>\n",
              "      <td>0</td>\n",
              "      <td>0</td>\n",
              "      <td>0</td>\n",
              "      <td>0</td>\n",
              "      <td>0</td>\n",
              "      <td>0</td>\n",
              "      <td>0</td>\n",
              "      <td>0</td>\n",
              "      <td>0</td>\n",
              "      <td>0</td>\n",
              "      <td>0</td>\n",
              "      <td>0</td>\n",
              "      <td>0</td>\n",
              "      <td>1</td>\n",
              "      <td>1</td>\n",
              "    </tr>\n",
              "    <tr>\n",
              "      <th>45336</th>\n",
              "      <td>21000</td>\n",
              "      <td>86666</td>\n",
              "      <td>24.08</td>\n",
              "      <td>10.58380</td>\n",
              "      <td>24895</td>\n",
              "      <td>61.3</td>\n",
              "      <td>1</td>\n",
              "      <td>1</td>\n",
              "      <td>15</td>\n",
              "      <td>3.4</td>\n",
              "      <td>7</td>\n",
              "      <td>0.45</td>\n",
              "      <td>0</td>\n",
              "      <td>0</td>\n",
              "      <td>1</td>\n",
              "      <td>0</td>\n",
              "      <td>0</td>\n",
              "      <td>0</td>\n",
              "      <td>0</td>\n",
              "      <td>0</td>\n",
              "      <td>0</td>\n",
              "      <td>0</td>\n",
              "      <td>0</td>\n",
              "      <td>0</td>\n",
              "      <td>1</td>\n",
              "      <td>0</td>\n",
              "      <td>0</td>\n",
              "      <td>0</td>\n",
              "      <td>0</td>\n",
              "      <td>0</td>\n",
              "      <td>0</td>\n",
              "      <td>1</td>\n",
              "      <td>1</td>\n",
              "    </tr>\n",
              "    <tr>\n",
              "      <th>45337</th>\n",
              "      <td>8000</td>\n",
              "      <td>72000</td>\n",
              "      <td>18.97</td>\n",
              "      <td>4.57850</td>\n",
              "      <td>9725</td>\n",
              "      <td>58.2</td>\n",
              "      <td>1</td>\n",
              "      <td>0</td>\n",
              "      <td>9</td>\n",
              "      <td>4.2</td>\n",
              "      <td>8</td>\n",
              "      <td>0.65</td>\n",
              "      <td>0</td>\n",
              "      <td>1</td>\n",
              "      <td>0</td>\n",
              "      <td>0</td>\n",
              "      <td>0</td>\n",
              "      <td>0</td>\n",
              "      <td>0</td>\n",
              "      <td>0</td>\n",
              "      <td>0</td>\n",
              "      <td>0</td>\n",
              "      <td>0</td>\n",
              "      <td>0</td>\n",
              "      <td>0</td>\n",
              "      <td>0</td>\n",
              "      <td>0</td>\n",
              "      <td>0</td>\n",
              "      <td>0</td>\n",
              "      <td>0</td>\n",
              "      <td>0</td>\n",
              "      <td>1</td>\n",
              "      <td>1</td>\n",
              "    </tr>\n",
              "    <tr>\n",
              "      <th>45339</th>\n",
              "      <td>4375</td>\n",
              "      <td>20000</td>\n",
              "      <td>7.95</td>\n",
              "      <td>9.98460</td>\n",
              "      <td>6574</td>\n",
              "      <td>73.0</td>\n",
              "      <td>1</td>\n",
              "      <td>1</td>\n",
              "      <td>8</td>\n",
              "      <td>2.4</td>\n",
              "      <td>1</td>\n",
              "      <td>0.45</td>\n",
              "      <td>0</td>\n",
              "      <td>0</td>\n",
              "      <td>1</td>\n",
              "      <td>0</td>\n",
              "      <td>0</td>\n",
              "      <td>0</td>\n",
              "      <td>0</td>\n",
              "      <td>0</td>\n",
              "      <td>0</td>\n",
              "      <td>0</td>\n",
              "      <td>0</td>\n",
              "      <td>0</td>\n",
              "      <td>1</td>\n",
              "      <td>0</td>\n",
              "      <td>0</td>\n",
              "      <td>0</td>\n",
              "      <td>0</td>\n",
              "      <td>0</td>\n",
              "      <td>0</td>\n",
              "      <td>0</td>\n",
              "      <td>1</td>\n",
              "    </tr>\n",
              "    <tr>\n",
              "      <th>45340</th>\n",
              "      <td>8000</td>\n",
              "      <td>48000</td>\n",
              "      <td>26.91</td>\n",
              "      <td>6.45250</td>\n",
              "      <td>10303</td>\n",
              "      <td>32.4</td>\n",
              "      <td>1</td>\n",
              "      <td>1</td>\n",
              "      <td>10</td>\n",
              "      <td>5.2</td>\n",
              "      <td>1</td>\n",
              "      <td>0.35</td>\n",
              "      <td>0</td>\n",
              "      <td>0</td>\n",
              "      <td>1</td>\n",
              "      <td>0</td>\n",
              "      <td>0</td>\n",
              "      <td>0</td>\n",
              "      <td>0</td>\n",
              "      <td>0</td>\n",
              "      <td>0</td>\n",
              "      <td>0</td>\n",
              "      <td>0</td>\n",
              "      <td>0</td>\n",
              "      <td>1</td>\n",
              "      <td>0</td>\n",
              "      <td>0</td>\n",
              "      <td>0</td>\n",
              "      <td>0</td>\n",
              "      <td>0</td>\n",
              "      <td>0</td>\n",
              "      <td>0</td>\n",
              "      <td>1</td>\n",
              "    </tr>\n",
              "  </tbody>\n",
              "</table>\n",
              "<p>36332 rows × 33 columns</p>\n",
              "</div>\n",
              "      <button class=\"colab-df-convert\" onclick=\"convertToInteractive('df-ca2c1e08-69ed-4523-8a48-264dae02a43d')\"\n",
              "              title=\"Convert this dataframe to an interactive table.\"\n",
              "              style=\"display:none;\">\n",
              "        \n",
              "  <svg xmlns=\"http://www.w3.org/2000/svg\" height=\"24px\"viewBox=\"0 0 24 24\"\n",
              "       width=\"24px\">\n",
              "    <path d=\"M0 0h24v24H0V0z\" fill=\"none\"/>\n",
              "    <path d=\"M18.56 5.44l.94 2.06.94-2.06 2.06-.94-2.06-.94-.94-2.06-.94 2.06-2.06.94zm-11 1L8.5 8.5l.94-2.06 2.06-.94-2.06-.94L8.5 2.5l-.94 2.06-2.06.94zm10 10l.94 2.06.94-2.06 2.06-.94-2.06-.94-.94-2.06-.94 2.06-2.06.94z\"/><path d=\"M17.41 7.96l-1.37-1.37c-.4-.4-.92-.59-1.43-.59-.52 0-1.04.2-1.43.59L10.3 9.45l-7.72 7.72c-.78.78-.78 2.05 0 2.83L4 21.41c.39.39.9.59 1.41.59.51 0 1.02-.2 1.41-.59l7.78-7.78 2.81-2.81c.8-.78.8-2.07 0-2.86zM5.41 20L4 18.59l7.72-7.72 1.47 1.35L5.41 20z\"/>\n",
              "  </svg>\n",
              "      </button>\n",
              "      \n",
              "  <style>\n",
              "    .colab-df-container {\n",
              "      display:flex;\n",
              "      flex-wrap:wrap;\n",
              "      gap: 12px;\n",
              "    }\n",
              "\n",
              "    .colab-df-convert {\n",
              "      background-color: #E8F0FE;\n",
              "      border: none;\n",
              "      border-radius: 50%;\n",
              "      cursor: pointer;\n",
              "      display: none;\n",
              "      fill: #1967D2;\n",
              "      height: 32px;\n",
              "      padding: 0 0 0 0;\n",
              "      width: 32px;\n",
              "    }\n",
              "\n",
              "    .colab-df-convert:hover {\n",
              "      background-color: #E2EBFA;\n",
              "      box-shadow: 0px 1px 2px rgba(60, 64, 67, 0.3), 0px 1px 3px 1px rgba(60, 64, 67, 0.15);\n",
              "      fill: #174EA6;\n",
              "    }\n",
              "\n",
              "    [theme=dark] .colab-df-convert {\n",
              "      background-color: #3B4455;\n",
              "      fill: #D2E3FC;\n",
              "    }\n",
              "\n",
              "    [theme=dark] .colab-df-convert:hover {\n",
              "      background-color: #434B5C;\n",
              "      box-shadow: 0px 1px 3px 1px rgba(0, 0, 0, 0.15);\n",
              "      filter: drop-shadow(0px 1px 2px rgba(0, 0, 0, 0.3));\n",
              "      fill: #FFFFFF;\n",
              "    }\n",
              "  </style>\n",
              "\n",
              "      <script>\n",
              "        const buttonEl =\n",
              "          document.querySelector('#df-ca2c1e08-69ed-4523-8a48-264dae02a43d button.colab-df-convert');\n",
              "        buttonEl.style.display =\n",
              "          google.colab.kernel.accessAllowed ? 'block' : 'none';\n",
              "\n",
              "        async function convertToInteractive(key) {\n",
              "          const element = document.querySelector('#df-ca2c1e08-69ed-4523-8a48-264dae02a43d');\n",
              "          const dataTable =\n",
              "            await google.colab.kernel.invokeFunction('convertToInteractive',\n",
              "                                                     [key], {});\n",
              "          if (!dataTable) return;\n",
              "\n",
              "          const docLinkHtml = 'Like what you see? Visit the ' +\n",
              "            '<a target=\"_blank\" href=https://colab.research.google.com/notebooks/data_table.ipynb>data table notebook</a>'\n",
              "            + ' to learn more about interactive tables.';\n",
              "          element.innerHTML = '';\n",
              "          dataTable['output_type'] = 'display_data';\n",
              "          await google.colab.output.renderOutput(dataTable, element);\n",
              "          const docLink = document.createElement('div');\n",
              "          docLink.innerHTML = docLinkHtml;\n",
              "          element.appendChild(docLink);\n",
              "        }\n",
              "      </script>\n",
              "    </div>\n",
              "  </div>\n",
              "  "
            ],
            "text/plain": [
              "       loan_amnt  annual_inc    dti  ...  home__OWN  home__RENT  emp_len__ > 1 Year\n",
              "0           2500       30000   1.00  ...          0           1                   1\n",
              "1           5600       40000   5.55  ...          1           0                   1\n",
              "3           9000       30000  10.08  ...          0           1                   1\n",
              "4          10000      100000   7.06  ...          0           1                   1\n",
              "5          21000      105000  13.22  ...          0           1                   1\n",
              "...          ...         ...    ...  ...        ...         ...                 ...\n",
              "45334      15000      100000  23.70  ...          0           1                   1\n",
              "45336      21000       86666  24.08  ...          0           1                   1\n",
              "45337       8000       72000  18.97  ...          0           1                   1\n",
              "45339       4375       20000   7.95  ...          0           0                   1\n",
              "45340       8000       48000  26.91  ...          0           0                   1\n",
              "\n",
              "[36332 rows x 33 columns]"
            ]
          },
          "metadata": {},
          "execution_count": 77
        }
      ]
    },
    {
      "cell_type": "code",
      "source": [
        "print(fold_idx)\n",
        "print(sum(fold_idx))"
      ],
      "metadata": {
        "colab": {
          "base_uri": "https://localhost:8080/"
        },
        "id": "bE2USo25m_Zw",
        "outputId": "b18e1e0a-bc59-4917-8649-45e88e93da9c"
      },
      "execution_count": 78,
      "outputs": [
        {
          "output_type": "stream",
          "name": "stdout",
          "text": [
            "[False False  True ... False False  True]\n",
            "9010\n"
          ]
        }
      ]
    },
    {
      "cell_type": "code",
      "source": [
        "y_length = []\n",
        "for k in range(5):\n",
        "    fold_idx = temp == k\n",
        "    y_length.append(len(y.loc[~fold_idx]))\n",
        "print(y_length)"
      ],
      "metadata": {
        "colab": {
          "base_uri": "https://localhost:8080/"
        },
        "id": "9qIrh6lQmjRr",
        "outputId": "025913cd-a438-4b92-d1da-3126c012f4a9"
      },
      "execution_count": 79,
      "outputs": [
        {
          "output_type": "stream",
          "name": "stdout",
          "text": [
            "[36332, 36039, 36262, 36510, 36225]\n"
          ]
        }
      ]
    },
    {
      "cell_type": "code",
      "source": [
        "idx = np.random.choice(range(5), size=len(X), replace=True)\n",
        "error = []\n",
        "\n",
        "for eta, max_depth in product([0.1, 0.5, 0.9], [3, 6, 9]):\n",
        "    xgb = XGBClassifier(objective='binary:logistic', n_estimators=250, \n",
        "                        max_depth=max_depth, learning_rate=eta,\n",
        "                        use_label_encoder=False, eval_metric='error')\n",
        "    cv_error = []\n",
        "    for k in range(5):\n",
        "        fold_idx = idx == k\n",
        "        train_X = X.loc[~fold_idx]; train_y = y[~fold_idx]\n",
        "        valid_X = X.loc[fold_idx]; valid_y = y[fold_idx]\n",
        "\n",
        "        xgb.fit(train_X, train_y)\n",
        "        pred = xgb.predict_proba(valid_X)[:, 1]\n",
        "        cv_error.append(np.mean(abs(valid_y - pred) > 0.5))\n",
        "    error.append({\n",
        "        'eta': eta,\n",
        "        'max_depth': max_depth,\n",
        "        'avg_error': np.mean(cv_error)\n",
        "    })\n",
        "    print(error[-1])\n",
        "errors = pd.DataFrame(error)\n",
        "print(errors)"
      ],
      "metadata": {
        "id": "prslFhHlXp7g",
        "colab": {
          "base_uri": "https://localhost:8080/"
        },
        "outputId": "3496e642-02c0-4603-e447-de6df44bf3f1"
      },
      "execution_count": 80,
      "outputs": [
        {
          "output_type": "stream",
          "name": "stdout",
          "text": [
            "{'eta': 0.1, 'max_depth': 3, 'avg_error': 0.3292848534641768}\n",
            "{'eta': 0.1, 'max_depth': 6, 'avg_error': 0.3354804621032402}\n",
            "{'eta': 0.1, 'max_depth': 9, 'avg_error': 0.3421944611676707}\n",
            "{'eta': 0.5, 'max_depth': 3, 'avg_error': 0.3407759077672927}\n",
            "{'eta': 0.5, 'max_depth': 6, 'avg_error': 0.36687833905314426}\n",
            "{'eta': 0.5, 'max_depth': 9, 'avg_error': 0.37385264566153165}\n",
            "{'eta': 0.9, 'max_depth': 3, 'avg_error': 0.35264037132617476}\n",
            "{'eta': 0.9, 'max_depth': 6, 'avg_error': 0.3872982756292354}\n",
            "{'eta': 0.9, 'max_depth': 9, 'avg_error': 0.38582738678378975}\n",
            "   eta  max_depth  avg_error\n",
            "0  0.1          3   0.329285\n",
            "1  0.1          6   0.335480\n",
            "2  0.1          9   0.342194\n",
            "3  0.5          3   0.340776\n",
            "4  0.5          6   0.366878\n",
            "5  0.5          9   0.373853\n",
            "6  0.9          3   0.352640\n",
            "7  0.9          6   0.387298\n",
            "8  0.9          9   0.385827\n"
          ]
        }
      ]
    },
    {
      "cell_type": "code",
      "source": [
        "print(errors.pivot_table(index='eta', columns='max_depth', values='avg_error') * 100)"
      ],
      "metadata": {
        "id": "3MnxNIO5RueT",
        "colab": {
          "base_uri": "https://localhost:8080/"
        },
        "outputId": "c089d119-2cc2-4cd8-8798-9940af4f748f"
      },
      "execution_count": 81,
      "outputs": [
        {
          "output_type": "stream",
          "name": "stdout",
          "text": [
            "max_depth          3          6          9\n",
            "eta                                       \n",
            "0.1        32.928485  33.548046  34.219446\n",
            "0.5        34.077591  36.687834  37.385265\n",
            "0.9        35.264037  38.729828  38.582739\n"
          ]
        }
      ]
    }
  ]
}