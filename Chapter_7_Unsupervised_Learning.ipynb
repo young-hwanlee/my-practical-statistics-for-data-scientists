{
  "nbformat": 4,
  "nbformat_minor": 0,
  "metadata": {
    "colab": {
      "name": "Chapter 7 - Unsupervised Learning.ipynb",
      "provenance": [],
      "collapsed_sections": [],
      "authorship_tag": "ABX9TyOTghBwM0qYIIdGuFxUoNJ2",
      "include_colab_link": true
    },
    "kernelspec": {
      "name": "python3",
      "display_name": "Python 3"
    },
    "language_info": {
      "name": "python"
    }
  },
  "cells": [
    {
      "cell_type": "markdown",
      "metadata": {
        "id": "view-in-github",
        "colab_type": "text"
      },
      "source": [
        "<a href=\"https://colab.research.google.com/github/young-hwanlee/my-practical-statistics-for-data-scientists/blob/main/Chapter_7_Unsupervised_Learning.ipynb\" target=\"_parent\"><img src=\"https://colab.research.google.com/assets/colab-badge.svg\" alt=\"Open In Colab\"/></a>"
      ]
    },
    {
      "cell_type": "code",
      "metadata": {
        "id": "mSfIrOHbuzSt"
      },
      "source": [
        "# # Clone the repository\n",
        "# !git clone https://github.com/young-hwanlee/practical-statistics-for-data-scientists.git\n",
        "\n",
        "# # Open the file from the list of contents (File)\n",
        "# # Then, copy and paste it"
      ],
      "execution_count": 1,
      "outputs": []
    },
    {
      "cell_type": "markdown",
      "source": [
        "## Practical Statistics for Data Scientists (Python)\n",
        "## Chapter 7. Unsupervised Learning\n",
        "> (c) 2019 Peter C. Bruce, Andrew Bruce, Peter Gedeck"
      ],
      "metadata": {
        "id": "geXy_eB6wK_U"
      }
    },
    {
      "cell_type": "markdown",
      "source": [
        "Import required Python packages."
      ],
      "metadata": {
        "id": "idwifSoowQIq"
      }
    },
    {
      "cell_type": "code",
      "source": [
        "!pip install prince"
      ],
      "metadata": {
        "colab": {
          "base_uri": "https://localhost:8080/"
        },
        "id": "i9zGrb8NgCf6",
        "outputId": "6414fd74-f0c4-486e-c692-b2251f272c96"
      },
      "execution_count": 2,
      "outputs": [
        {
          "output_type": "stream",
          "name": "stdout",
          "text": [
            "Collecting prince\n",
            "  Downloading prince-0.7.1-py3-none-any.whl (21 kB)\n",
            "Requirement already satisfied: numpy>=1.17.1 in /usr/local/lib/python3.7/dist-packages (from prince) (1.19.5)\n",
            "Requirement already satisfied: matplotlib>=3.0.2 in /usr/local/lib/python3.7/dist-packages (from prince) (3.2.2)\n",
            "Requirement already satisfied: scipy>=1.3.0 in /usr/local/lib/python3.7/dist-packages (from prince) (1.4.1)\n",
            "Requirement already satisfied: scikit-learn>=0.22.1 in /usr/local/lib/python3.7/dist-packages (from prince) (1.0.2)\n",
            "Requirement already satisfied: pandas>=1.0.3 in /usr/local/lib/python3.7/dist-packages (from prince) (1.3.5)\n",
            "Requirement already satisfied: python-dateutil>=2.1 in /usr/local/lib/python3.7/dist-packages (from matplotlib>=3.0.2->prince) (2.8.2)\n",
            "Requirement already satisfied: kiwisolver>=1.0.1 in /usr/local/lib/python3.7/dist-packages (from matplotlib>=3.0.2->prince) (1.3.2)\n",
            "Requirement already satisfied: pyparsing!=2.0.4,!=2.1.2,!=2.1.6,>=2.0.1 in /usr/local/lib/python3.7/dist-packages (from matplotlib>=3.0.2->prince) (3.0.7)\n",
            "Requirement already satisfied: cycler>=0.10 in /usr/local/lib/python3.7/dist-packages (from matplotlib>=3.0.2->prince) (0.11.0)\n",
            "Requirement already satisfied: pytz>=2017.3 in /usr/local/lib/python3.7/dist-packages (from pandas>=1.0.3->prince) (2018.9)\n",
            "Requirement already satisfied: six>=1.5 in /usr/local/lib/python3.7/dist-packages (from python-dateutil>=2.1->matplotlib>=3.0.2->prince) (1.15.0)\n",
            "Requirement already satisfied: joblib>=0.11 in /usr/local/lib/python3.7/dist-packages (from scikit-learn>=0.22.1->prince) (1.1.0)\n",
            "Requirement already satisfied: threadpoolctl>=2.0.0 in /usr/local/lib/python3.7/dist-packages (from scikit-learn>=0.22.1->prince) (3.1.0)\n",
            "Installing collected packages: prince\n",
            "Successfully installed prince-0.7.1\n"
          ]
        }
      ]
    },
    {
      "cell_type": "code",
      "source": [
        "import math\n",
        "from pathlib import Path\n",
        "import pandas as pd\n",
        "import numpy as np\n",
        "\n",
        "from sklearn import preprocessing\n",
        "from sklearn.decomposition import PCA\n",
        "from sklearn.cluster import KMeans\n",
        "from sklearn.mixture import GaussianMixture\n",
        "\n",
        "from scipy.cluster.hierarchy import linkage, dendrogram, fcluster\n",
        "from scipy.stats import multivariate_normal\n",
        "\n",
        "import prince\n",
        "\n",
        "import matplotlib.pyplot as plt\n",
        "from matplotlib import cm \n",
        "from matplotlib.colors import from_levels_and_colors\n",
        "import seaborn as sns\n",
        "\n",
        "%matplotlib inline\n",
        "print()"
      ],
      "metadata": {
        "id": "v5uGjdjmwguV",
        "colab": {
          "base_uri": "https://localhost:8080/"
        },
        "outputId": "e16d11c5-701e-4bfa-bc0f-fe2430ee2b2f"
      },
      "execution_count": 3,
      "outputs": [
        {
          "output_type": "stream",
          "name": "stdout",
          "text": [
            "\n"
          ]
        }
      ]
    },
    {
      "cell_type": "code",
      "source": [
        "# try:\n",
        "#     import common\n",
        "#     DATA = common.dataDirectory()\n",
        "# except ImportError:\n",
        "#     DATA = Path().resolve() / 'data'"
      ],
      "metadata": {
        "id": "NVK1A7v9w0u2"
      },
      "execution_count": 4,
      "outputs": []
    },
    {
      "cell_type": "markdown",
      "source": [
        "Define paths to data sets. If you don't keep your data in the same directory as the code, adapt the path names."
      ],
      "metadata": {
        "id": "yE-Or8Qqw5hm"
      }
    },
    {
      "cell_type": "code",
      "source": [
        "# SP500_DATA_CSV = DATA / 'sp500_data.csv.gz'\n",
        "# SP500_SECTORS_CSV = DATA / 'sp500_sectors.csv'\n",
        "# LOAN_DATA_CSV = DATA / 'loan_data.csv.gz'\n",
        "# HOUSE_TASKS_CSV = DATA / 'housetasks.csv'\n",
        "\n",
        "DATA = 'https://raw.githubusercontent.com/young-hwanlee/practical-statistics-for-data-scientists/master/data/'\n",
        "\n",
        "SP500_DATA_CSV = DATA + 'sp500_data.csv.gz'\n",
        "SP500_SECTORS_CSV = DATA + 'sp500_sectors.csv'\n",
        "LOAN_DATA_CSV = DATA + 'loan_data.csv.gz'\n",
        "HOUSE_TASKS_CSV = DATA + 'housetasks.csv'"
      ],
      "metadata": {
        "id": "iU94oaoVw8kg"
      },
      "execution_count": 5,
      "outputs": []
    },
    {
      "cell_type": "markdown",
      "source": [
        "## **7.1 Principal Components Analysis**\n",
        "### **7.1.1 A Simple Example**"
      ],
      "metadata": {
        "id": "QavXEst0xbYb"
      }
    },
    {
      "cell_type": "code",
      "source": [
        "sp500_px = pd.read_csv(SP500_DATA_CSV, index_col=0)\n",
        "oil_px = sp500_px[['XOM', 'CVX']]\n",
        "print(oil_px.head())"
      ],
      "metadata": {
        "id": "bP8aZTe7xinD",
        "colab": {
          "base_uri": "https://localhost:8080/"
        },
        "outputId": "e498e791-9f1b-42ca-b179-f516415be546"
      },
      "execution_count": 6,
      "outputs": [
        {
          "output_type": "stream",
          "name": "stdout",
          "text": [
            "                 XOM       CVX\n",
            "1993-01-29 -0.016991  0.072921\n",
            "1993-02-01  0.016991  0.102089\n",
            "1993-02-02  0.084954  0.029168\n",
            "1993-02-03  0.067964  0.058337\n",
            "1993-02-04  0.034378  0.044272\n"
          ]
        }
      ]
    },
    {
      "cell_type": "code",
      "source": [
        "pcs = PCA(n_components=2)\n",
        "pcs.fit(oil_px)\n",
        "loadings = pd.DataFrame(pcs.components_, columns=oil_px.columns)\n",
        "print(loadings)"
      ],
      "metadata": {
        "id": "7w0icqb5xlHX",
        "colab": {
          "base_uri": "https://localhost:8080/"
        },
        "outputId": "6bd92905-0ed0-4d4f-f3b3-0b07473743e5"
      },
      "execution_count": 7,
      "outputs": [
        {
          "output_type": "stream",
          "name": "stdout",
          "text": [
            "        XOM       CVX\n",
            "0 -0.664711 -0.747101\n",
            "1  0.747101 -0.664711\n"
          ]
        }
      ]
    },
    {
      "cell_type": "code",
      "source": [
        "def abline(slope, intercept, ax):\n",
        "    \"\"\"Calculate coordinates of a line based on slope and intercept\"\"\"\n",
        "    x_vals = np.array(ax.get_xlim())\n",
        "    return (x_vals, intercept + slope * x_vals)"
      ],
      "metadata": {
        "id": "IANuuoskjCC6"
      },
      "execution_count": 8,
      "outputs": []
    },
    {
      "cell_type": "code",
      "source": [
        "ax = oil_px.plot.scatter(x='XOM', y='CVX', alpha=0.3, figsize=(4, 4))\n",
        "ax.set_xlim(-3, 3)\n",
        "ax.set_ylim(-3, 3)\n",
        "\n",
        "# ax.plot(*abline(loadings.loc[0, 'CVX'] / loadings.loc[0, 'XOM'], 0, ax),\n",
        "#         '--', color='C1')\n",
        "# ax.plot(*abline(loadings.loc[1, 'CVX'] / loadings.loc[1, 'XOM'], 0, ax),\n",
        "#         '--', color='C1)\n",
        "ax.plot(*abline(loadings.loc[0, 'CVX'] / loadings.loc[0, 'XOM'], 0, ax),\n",
        "        '--', color='r')\n",
        "ax.plot(*abline(loadings.loc[1, 'CVX'] / loadings.loc[1, 'XOM'], 0, ax),\n",
        "        '--', color='b')\n",
        "\n",
        "plt.tight_layout()\n",
        "plt.show()"
      ],
      "metadata": {
        "id": "KKoQHL7nxr1T",
        "colab": {
          "base_uri": "https://localhost:8080/",
          "height": 297
        },
        "outputId": "5366ef95-db02-424d-e430-fff3cd9f5db0"
      },
      "execution_count": 9,
      "outputs": [
        {
          "output_type": "display_data",
          "data": {
            "image/png": "[encoded data removed]",
            "text/plain": [
              "<Figure size 288x288 with 1 Axes>"
            ]
          },
          "metadata": {
            "needs_background": "light"
          }
        }
      ]
    },
    {
      "cell_type": "markdown",
      "source": [
        "### **7.1.3 Interpreting Principal Components**"
      ],
      "metadata": {
        "id": "zmi5HIRjxxtF"
      }
    },
    {
      "cell_type": "code",
      "source": [
        "sp500_px"
      ],
      "metadata": {
        "colab": {
          "base_uri": "https://localhost:8080/",
          "height": 661
        },
        "id": "JjT7AoUJqkuj",
        "outputId": "7cfc4966-33df-4155-9a24-546ede14936f"
      },
      "execution_count": 10,
      "outputs": [
        {
          "output_type": "execute_result",
          "data": {
            "text/html": [
              "\n",
              "  <div id=\"df-ef5a341f-4eb9-4c12-a42c-591a0dacdeb8\">\n",
              "    <div class=\"colab-df-container\">\n",
              "      <div>\n",
              "<style scoped>\n",
              "    .dataframe tbody tr th:only-of-type {\n",
              "        vertical-align: middle;\n",
              "    }\n",
              "\n",
              "    .dataframe tbody tr th {\n",
              "        vertical-align: top;\n",
              "    }\n",
              "\n",
              "    .dataframe thead th {\n",
              "        text-align: right;\n",
              "    }\n",
              "</style>\n",
              "<table border=\"1\" class=\"dataframe\">\n",
              "  <thead>\n",
              "    <tr style=\"text-align: right;\">\n",
              "      <th></th>\n",
              "      <th>ADS</th>\n",
              "      <th>CA</th>\n",
              "      <th>MSFT</th>\n",
              "      <th>RHT</th>\n",
              "      <th>CTSH</th>\n",
              "      <th>CSC</th>\n",
              "      <th>EMC</th>\n",
              "      <th>IBM</th>\n",
              "      <th>XRX</th>\n",
              "      <th>ALTR</th>\n",
              "      <th>ADI</th>\n",
              "      <th>AVGO</th>\n",
              "      <th>BRCM</th>\n",
              "      <th>FSLR</th>\n",
              "      <th>INTC</th>\n",
              "      <th>LLTC</th>\n",
              "      <th>MCHP</th>\n",
              "      <th>MU</th>\n",
              "      <th>NVDA</th>\n",
              "      <th>QRVO</th>\n",
              "      <th>QCOM</th>\n",
              "      <th>SWKS</th>\n",
              "      <th>TXN</th>\n",
              "      <th>XLNX</th>\n",
              "      <th>AAPL</th>\n",
              "      <th>HPQ</th>\n",
              "      <th>EA</th>\n",
              "      <th>SNDK</th>\n",
              "      <th>STX</th>\n",
              "      <th>WDC</th>\n",
              "      <th>TEL</th>\n",
              "      <th>HRS</th>\n",
              "      <th>MSI</th>\n",
              "      <th>ACN</th>\n",
              "      <th>AMAT</th>\n",
              "      <th>KLAC</th>\n",
              "      <th>LRCX</th>\n",
              "      <th>ADBE</th>\n",
              "      <th>ADSK</th>\n",
              "      <th>ORCL</th>\n",
              "      <th>...</th>\n",
              "      <th>ENDP</th>\n",
              "      <th>LLY</th>\n",
              "      <th>MNK</th>\n",
              "      <th>MRK</th>\n",
              "      <th>MYL</th>\n",
              "      <th>PRGO</th>\n",
              "      <th>PFE</th>\n",
              "      <th>ZTS</th>\n",
              "      <th>ABT</th>\n",
              "      <th>A</th>\n",
              "      <th>BCR</th>\n",
              "      <th>BAX</th>\n",
              "      <th>BDX</th>\n",
              "      <th>BSX</th>\n",
              "      <th>EW</th>\n",
              "      <th>HSP</th>\n",
              "      <th>ISRG</th>\n",
              "      <th>JNJ</th>\n",
              "      <th>MDT</th>\n",
              "      <th>PKI</th>\n",
              "      <th>STJ</th>\n",
              "      <th>SYK</th>\n",
              "      <th>TMO</th>\n",
              "      <th>VAR</th>\n",
              "      <th>ZBH</th>\n",
              "      <th>BMY</th>\n",
              "      <th>CAH</th>\n",
              "      <th>CERN</th>\n",
              "      <th>ESRX</th>\n",
              "      <th>MCK</th>\n",
              "      <th>WAT</th>\n",
              "      <th>ALXN</th>\n",
              "      <th>AMGN</th>\n",
              "      <th>BXLT</th>\n",
              "      <th>BIIB</th>\n",
              "      <th>CELG</th>\n",
              "      <th>GILD</th>\n",
              "      <th>REGN</th>\n",
              "      <th>VRTX</th>\n",
              "      <th>HSIC</th>\n",
              "    </tr>\n",
              "  </thead>\n",
              "  <tbody>\n",
              "    <tr>\n",
              "      <th>1993-01-29</th>\n",
              "      <td>0.000000</td>\n",
              "      <td>0.060124</td>\n",
              "      <td>-0.022100</td>\n",
              "      <td>0.000000</td>\n",
              "      <td>0.000000</td>\n",
              "      <td>0.018897</td>\n",
              "      <td>0.007368</td>\n",
              "      <td>0.092165</td>\n",
              "      <td>0.259140</td>\n",
              "      <td>-0.007105</td>\n",
              "      <td>-0.015785</td>\n",
              "      <td>0.000000</td>\n",
              "      <td>0.000000</td>\n",
              "      <td>0.000000</td>\n",
              "      <td>-0.050488</td>\n",
              "      <td>-0.089870</td>\n",
              "      <td>0.000000</td>\n",
              "      <td>0.037021</td>\n",
              "      <td>0.000000</td>\n",
              "      <td>0.000000</td>\n",
              "      <td>-0.044718</td>\n",
              "      <td>-0.041262</td>\n",
              "      <td>0.060179</td>\n",
              "      <td>0.033152</td>\n",
              "      <td>-0.024235</td>\n",
              "      <td>0.045586</td>\n",
              "      <td>0.125000</td>\n",
              "      <td>0.000000</td>\n",
              "      <td>0.000000</td>\n",
              "      <td>0.118103</td>\n",
              "      <td>0.000000</td>\n",
              "      <td>0.016412</td>\n",
              "      <td>-1.842719</td>\n",
              "      <td>0.000000</td>\n",
              "      <td>-0.012867</td>\n",
              "      <td>0.079940</td>\n",
              "      <td>0.246706</td>\n",
              "      <td>-0.044884</td>\n",
              "      <td>0.057267</td>\n",
              "      <td>-0.005776</td>\n",
              "      <td>...</td>\n",
              "      <td>0.000000</td>\n",
              "      <td>-0.077535</td>\n",
              "      <td>0.000000</td>\n",
              "      <td>-0.028797</td>\n",
              "      <td>0.166355</td>\n",
              "      <td>-0.577943</td>\n",
              "      <td>0.066591</td>\n",
              "      <td>0.000000</td>\n",
              "      <td>0.045961</td>\n",
              "      <td>0.000000</td>\n",
              "      <td>-0.326659</td>\n",
              "      <td>0.000000</td>\n",
              "      <td>-0.033363</td>\n",
              "      <td>0.062500</td>\n",
              "      <td>0.000000</td>\n",
              "      <td>0.000000</td>\n",
              "      <td>0.000000</td>\n",
              "      <td>0.018827</td>\n",
              "      <td>0.006047</td>\n",
              "      <td>0.000000</td>\n",
              "      <td>0.187132</td>\n",
              "      <td>0.276317</td>\n",
              "      <td>-0.124187</td>\n",
              "      <td>0.037430</td>\n",
              "      <td>0.000000</td>\n",
              "      <td>0.038546</td>\n",
              "      <td>0.060142</td>\n",
              "      <td>0.031260</td>\n",
              "      <td>0.001950</td>\n",
              "      <td>0.000000</td>\n",
              "      <td>0.000000</td>\n",
              "      <td>0.000000</td>\n",
              "      <td>0.347160</td>\n",
              "      <td>0.000000</td>\n",
              "      <td>0.041670</td>\n",
              "      <td>0.000000</td>\n",
              "      <td>0.015564</td>\n",
              "      <td>1.750000</td>\n",
              "      <td>0.125000</td>\n",
              "      <td>0.000000</td>\n",
              "    </tr>\n",
              "    <tr>\n",
              "      <th>1993-02-01</th>\n",
              "      <td>0.000000</td>\n",
              "      <td>-0.180389</td>\n",
              "      <td>0.027621</td>\n",
              "      <td>0.000000</td>\n",
              "      <td>0.000000</td>\n",
              "      <td>0.018889</td>\n",
              "      <td>0.018425</td>\n",
              "      <td>0.115207</td>\n",
              "      <td>-0.100775</td>\n",
              "      <td>0.063893</td>\n",
              "      <td>-0.015793</td>\n",
              "      <td>0.000000</td>\n",
              "      <td>0.000000</td>\n",
              "      <td>0.000000</td>\n",
              "      <td>0.095367</td>\n",
              "      <td>0.044935</td>\n",
              "      <td>0.000000</td>\n",
              "      <td>0.037020</td>\n",
              "      <td>0.000000</td>\n",
              "      <td>0.000000</td>\n",
              "      <td>0.006387</td>\n",
              "      <td>-0.041252</td>\n",
              "      <td>0.102317</td>\n",
              "      <td>0.099446</td>\n",
              "      <td>0.064618</td>\n",
              "      <td>0.072942</td>\n",
              "      <td>0.093750</td>\n",
              "      <td>0.000000</td>\n",
              "      <td>0.000000</td>\n",
              "      <td>0.000000</td>\n",
              "      <td>0.000000</td>\n",
              "      <td>-0.032829</td>\n",
              "      <td>0.594428</td>\n",
              "      <td>0.000000</td>\n",
              "      <td>0.016077</td>\n",
              "      <td>0.019985</td>\n",
              "      <td>0.411170</td>\n",
              "      <td>0.134672</td>\n",
              "      <td>0.057267</td>\n",
              "      <td>0.025999</td>\n",
              "      <td>...</td>\n",
              "      <td>0.000000</td>\n",
              "      <td>-0.031014</td>\n",
              "      <td>0.000000</td>\n",
              "      <td>-0.172781</td>\n",
              "      <td>-0.066536</td>\n",
              "      <td>0.346766</td>\n",
              "      <td>-0.027745</td>\n",
              "      <td>0.000000</td>\n",
              "      <td>-0.045960</td>\n",
              "      <td>0.000000</td>\n",
              "      <td>-0.093331</td>\n",
              "      <td>0.018157</td>\n",
              "      <td>0.100076</td>\n",
              "      <td>0.031250</td>\n",
              "      <td>0.000000</td>\n",
              "      <td>0.000000</td>\n",
              "      <td>0.000000</td>\n",
              "      <td>-0.056481</td>\n",
              "      <td>-0.048392</td>\n",
              "      <td>0.041782</td>\n",
              "      <td>-0.074851</td>\n",
              "      <td>-0.027632</td>\n",
              "      <td>0.000000</td>\n",
              "      <td>-0.074859</td>\n",
              "      <td>0.000000</td>\n",
              "      <td>-0.038546</td>\n",
              "      <td>0.060142</td>\n",
              "      <td>0.101560</td>\n",
              "      <td>0.019530</td>\n",
              "      <td>0.000000</td>\n",
              "      <td>0.000000</td>\n",
              "      <td>0.000000</td>\n",
              "      <td>-0.231440</td>\n",
              "      <td>0.000000</td>\n",
              "      <td>0.000000</td>\n",
              "      <td>-0.010410</td>\n",
              "      <td>0.007782</td>\n",
              "      <td>1.250000</td>\n",
              "      <td>0.125000</td>\n",
              "      <td>0.000000</td>\n",
              "    </tr>\n",
              "    <tr>\n",
              "      <th>1993-02-02</th>\n",
              "      <td>0.000000</td>\n",
              "      <td>-0.120257</td>\n",
              "      <td>0.035900</td>\n",
              "      <td>0.000000</td>\n",
              "      <td>0.000000</td>\n",
              "      <td>-0.075573</td>\n",
              "      <td>0.029482</td>\n",
              "      <td>-0.023041</td>\n",
              "      <td>0.028796</td>\n",
              "      <td>-0.014192</td>\n",
              "      <td>0.047363</td>\n",
              "      <td>0.000000</td>\n",
              "      <td>0.000000</td>\n",
              "      <td>0.000000</td>\n",
              "      <td>0.000000</td>\n",
              "      <td>0.067402</td>\n",
              "      <td>0.000000</td>\n",
              "      <td>0.123402</td>\n",
              "      <td>0.000000</td>\n",
              "      <td>0.000000</td>\n",
              "      <td>0.035141</td>\n",
              "      <td>0.041252</td>\n",
              "      <td>-0.024066</td>\n",
              "      <td>0.016572</td>\n",
              "      <td>-0.016148</td>\n",
              "      <td>-0.045586</td>\n",
              "      <td>-0.062500</td>\n",
              "      <td>0.000000</td>\n",
              "      <td>0.000000</td>\n",
              "      <td>0.118103</td>\n",
              "      <td>0.000000</td>\n",
              "      <td>-0.032829</td>\n",
              "      <td>0.237767</td>\n",
              "      <td>0.000000</td>\n",
              "      <td>0.051450</td>\n",
              "      <td>0.000000</td>\n",
              "      <td>0.054828</td>\n",
              "      <td>0.082299</td>\n",
              "      <td>-0.042955</td>\n",
              "      <td>-0.011562</td>\n",
              "      <td>...</td>\n",
              "      <td>0.000000</td>\n",
              "      <td>-0.062028</td>\n",
              "      <td>0.000000</td>\n",
              "      <td>-0.143984</td>\n",
              "      <td>-0.066536</td>\n",
              "      <td>0.693532</td>\n",
              "      <td>-0.133183</td>\n",
              "      <td>0.000000</td>\n",
              "      <td>-0.153198</td>\n",
              "      <td>0.000000</td>\n",
              "      <td>-0.093331</td>\n",
              "      <td>-0.072626</td>\n",
              "      <td>0.000000</td>\n",
              "      <td>0.031250</td>\n",
              "      <td>0.000000</td>\n",
              "      <td>0.000000</td>\n",
              "      <td>0.000000</td>\n",
              "      <td>-0.018827</td>\n",
              "      <td>0.000000</td>\n",
              "      <td>0.208912</td>\n",
              "      <td>0.018711</td>\n",
              "      <td>-0.027632</td>\n",
              "      <td>0.000000</td>\n",
              "      <td>0.044923</td>\n",
              "      <td>0.000000</td>\n",
              "      <td>-0.115639</td>\n",
              "      <td>-0.030071</td>\n",
              "      <td>-0.015620</td>\n",
              "      <td>0.000000</td>\n",
              "      <td>0.000000</td>\n",
              "      <td>0.000000</td>\n",
              "      <td>0.000000</td>\n",
              "      <td>-0.115720</td>\n",
              "      <td>0.000000</td>\n",
              "      <td>0.000000</td>\n",
              "      <td>0.000000</td>\n",
              "      <td>-0.007792</td>\n",
              "      <td>-0.250000</td>\n",
              "      <td>0.000000</td>\n",
              "      <td>0.000000</td>\n",
              "    </tr>\n",
              "    <tr>\n",
              "      <th>1993-02-03</th>\n",
              "      <td>0.000000</td>\n",
              "      <td>0.060124</td>\n",
              "      <td>-0.024857</td>\n",
              "      <td>0.000000</td>\n",
              "      <td>0.000000</td>\n",
              "      <td>-0.151128</td>\n",
              "      <td>0.003689</td>\n",
              "      <td>-0.253454</td>\n",
              "      <td>-0.043190</td>\n",
              "      <td>-0.007105</td>\n",
              "      <td>0.205236</td>\n",
              "      <td>0.000000</td>\n",
              "      <td>0.000000</td>\n",
              "      <td>0.000000</td>\n",
              "      <td>-0.050495</td>\n",
              "      <td>0.022467</td>\n",
              "      <td>0.000000</td>\n",
              "      <td>-0.012340</td>\n",
              "      <td>0.000000</td>\n",
              "      <td>0.000000</td>\n",
              "      <td>0.006387</td>\n",
              "      <td>0.041252</td>\n",
              "      <td>-0.024073</td>\n",
              "      <td>0.049723</td>\n",
              "      <td>-0.032305</td>\n",
              "      <td>-0.091184</td>\n",
              "      <td>0.218750</td>\n",
              "      <td>0.000000</td>\n",
              "      <td>0.000000</td>\n",
              "      <td>0.059052</td>\n",
              "      <td>0.000000</td>\n",
              "      <td>0.049247</td>\n",
              "      <td>-0.118893</td>\n",
              "      <td>0.000000</td>\n",
              "      <td>0.000000</td>\n",
              "      <td>0.039970</td>\n",
              "      <td>-0.054828</td>\n",
              "      <td>-0.149639</td>\n",
              "      <td>0.057267</td>\n",
              "      <td>0.002884</td>\n",
              "      <td>...</td>\n",
              "      <td>0.000000</td>\n",
              "      <td>0.139564</td>\n",
              "      <td>0.000000</td>\n",
              "      <td>0.345561</td>\n",
              "      <td>0.133081</td>\n",
              "      <td>0.693532</td>\n",
              "      <td>0.022199</td>\n",
              "      <td>0.000000</td>\n",
              "      <td>0.168520</td>\n",
              "      <td>0.000000</td>\n",
              "      <td>0.093331</td>\n",
              "      <td>0.090783</td>\n",
              "      <td>0.044480</td>\n",
              "      <td>0.031250</td>\n",
              "      <td>0.000000</td>\n",
              "      <td>0.000000</td>\n",
              "      <td>0.000000</td>\n",
              "      <td>0.263578</td>\n",
              "      <td>0.030243</td>\n",
              "      <td>0.125347</td>\n",
              "      <td>0.187140</td>\n",
              "      <td>0.000000</td>\n",
              "      <td>0.124187</td>\n",
              "      <td>0.104805</td>\n",
              "      <td>0.000000</td>\n",
              "      <td>0.141333</td>\n",
              "      <td>0.000000</td>\n",
              "      <td>-0.011720</td>\n",
              "      <td>0.023440</td>\n",
              "      <td>0.000000</td>\n",
              "      <td>0.000000</td>\n",
              "      <td>0.000000</td>\n",
              "      <td>-0.086790</td>\n",
              "      <td>0.000000</td>\n",
              "      <td>0.041670</td>\n",
              "      <td>-0.041670</td>\n",
              "      <td>-0.038919</td>\n",
              "      <td>-0.500000</td>\n",
              "      <td>0.062500</td>\n",
              "      <td>0.000000</td>\n",
              "    </tr>\n",
              "    <tr>\n",
              "      <th>1993-02-04</th>\n",
              "      <td>0.000000</td>\n",
              "      <td>-0.360770</td>\n",
              "      <td>-0.060757</td>\n",
              "      <td>0.000000</td>\n",
              "      <td>0.000000</td>\n",
              "      <td>0.113350</td>\n",
              "      <td>-0.022114</td>\n",
              "      <td>0.069862</td>\n",
              "      <td>0.000000</td>\n",
              "      <td>-0.007096</td>\n",
              "      <td>-0.031570</td>\n",
              "      <td>0.000000</td>\n",
              "      <td>0.000000</td>\n",
              "      <td>0.000000</td>\n",
              "      <td>0.000000</td>\n",
              "      <td>0.022467</td>\n",
              "      <td>0.000000</td>\n",
              "      <td>-0.074041</td>\n",
              "      <td>0.000000</td>\n",
              "      <td>0.000000</td>\n",
              "      <td>0.051113</td>\n",
              "      <td>0.041252</td>\n",
              "      <td>-0.024073</td>\n",
              "      <td>-0.008290</td>\n",
              "      <td>-0.016157</td>\n",
              "      <td>-0.109414</td>\n",
              "      <td>0.093750</td>\n",
              "      <td>0.000000</td>\n",
              "      <td>0.000000</td>\n",
              "      <td>-0.118103</td>\n",
              "      <td>0.000000</td>\n",
              "      <td>0.000000</td>\n",
              "      <td>-0.237776</td>\n",
              "      <td>0.000000</td>\n",
              "      <td>-0.003219</td>\n",
              "      <td>-0.099925</td>\n",
              "      <td>-0.246706</td>\n",
              "      <td>0.000000</td>\n",
              "      <td>-0.157480</td>\n",
              "      <td>-0.017329</td>\n",
              "      <td>...</td>\n",
              "      <td>0.000000</td>\n",
              "      <td>0.000000</td>\n",
              "      <td>0.000000</td>\n",
              "      <td>-0.345561</td>\n",
              "      <td>-0.133073</td>\n",
              "      <td>-0.924709</td>\n",
              "      <td>-0.016648</td>\n",
              "      <td>0.000000</td>\n",
              "      <td>-0.061282</td>\n",
              "      <td>0.000000</td>\n",
              "      <td>0.186662</td>\n",
              "      <td>0.000000</td>\n",
              "      <td>-0.011123</td>\n",
              "      <td>-0.156250</td>\n",
              "      <td>0.000000</td>\n",
              "      <td>0.000000</td>\n",
              "      <td>0.000000</td>\n",
              "      <td>0.018827</td>\n",
              "      <td>-0.024196</td>\n",
              "      <td>0.167129</td>\n",
              "      <td>-0.187629</td>\n",
              "      <td>-0.082895</td>\n",
              "      <td>0.341510</td>\n",
              "      <td>-0.029946</td>\n",
              "      <td>0.000000</td>\n",
              "      <td>-0.115635</td>\n",
              "      <td>0.060142</td>\n",
              "      <td>-0.007820</td>\n",
              "      <td>-0.015620</td>\n",
              "      <td>0.000000</td>\n",
              "      <td>0.000000</td>\n",
              "      <td>0.000000</td>\n",
              "      <td>0.144650</td>\n",
              "      <td>0.000000</td>\n",
              "      <td>-0.041660</td>\n",
              "      <td>-0.031260</td>\n",
              "      <td>-0.046711</td>\n",
              "      <td>0.000000</td>\n",
              "      <td>0.062500</td>\n",
              "      <td>0.000000</td>\n",
              "    </tr>\n",
              "    <tr>\n",
              "      <th>...</th>\n",
              "      <td>...</td>\n",
              "      <td>...</td>\n",
              "      <td>...</td>\n",
              "      <td>...</td>\n",
              "      <td>...</td>\n",
              "      <td>...</td>\n",
              "      <td>...</td>\n",
              "      <td>...</td>\n",
              "      <td>...</td>\n",
              "      <td>...</td>\n",
              "      <td>...</td>\n",
              "      <td>...</td>\n",
              "      <td>...</td>\n",
              "      <td>...</td>\n",
              "      <td>...</td>\n",
              "      <td>...</td>\n",
              "      <td>...</td>\n",
              "      <td>...</td>\n",
              "      <td>...</td>\n",
              "      <td>...</td>\n",
              "      <td>...</td>\n",
              "      <td>...</td>\n",
              "      <td>...</td>\n",
              "      <td>...</td>\n",
              "      <td>...</td>\n",
              "      <td>...</td>\n",
              "      <td>...</td>\n",
              "      <td>...</td>\n",
              "      <td>...</td>\n",
              "      <td>...</td>\n",
              "      <td>...</td>\n",
              "      <td>...</td>\n",
              "      <td>...</td>\n",
              "      <td>...</td>\n",
              "      <td>...</td>\n",
              "      <td>...</td>\n",
              "      <td>...</td>\n",
              "      <td>...</td>\n",
              "      <td>...</td>\n",
              "      <td>...</td>\n",
              "      <td>...</td>\n",
              "      <td>...</td>\n",
              "      <td>...</td>\n",
              "      <td>...</td>\n",
              "      <td>...</td>\n",
              "      <td>...</td>\n",
              "      <td>...</td>\n",
              "      <td>...</td>\n",
              "      <td>...</td>\n",
              "      <td>...</td>\n",
              "      <td>...</td>\n",
              "      <td>...</td>\n",
              "      <td>...</td>\n",
              "      <td>...</td>\n",
              "      <td>...</td>\n",
              "      <td>...</td>\n",
              "      <td>...</td>\n",
              "      <td>...</td>\n",
              "      <td>...</td>\n",
              "      <td>...</td>\n",
              "      <td>...</td>\n",
              "      <td>...</td>\n",
              "      <td>...</td>\n",
              "      <td>...</td>\n",
              "      <td>...</td>\n",
              "      <td>...</td>\n",
              "      <td>...</td>\n",
              "      <td>...</td>\n",
              "      <td>...</td>\n",
              "      <td>...</td>\n",
              "      <td>...</td>\n",
              "      <td>...</td>\n",
              "      <td>...</td>\n",
              "      <td>...</td>\n",
              "      <td>...</td>\n",
              "      <td>...</td>\n",
              "      <td>...</td>\n",
              "      <td>...</td>\n",
              "      <td>...</td>\n",
              "      <td>...</td>\n",
              "      <td>...</td>\n",
              "    </tr>\n",
              "    <tr>\n",
              "      <th>2015-06-25</th>\n",
              "      <td>0.019989</td>\n",
              "      <td>-0.529999</td>\n",
              "      <td>-0.379997</td>\n",
              "      <td>0.080002</td>\n",
              "      <td>0.350003</td>\n",
              "      <td>-0.580002</td>\n",
              "      <td>-0.457999</td>\n",
              "      <td>-1.720001</td>\n",
              "      <td>-0.009936</td>\n",
              "      <td>0.039997</td>\n",
              "      <td>-0.470002</td>\n",
              "      <td>-0.900009</td>\n",
              "      <td>-0.279999</td>\n",
              "      <td>-0.660000</td>\n",
              "      <td>-0.030000</td>\n",
              "      <td>-0.270000</td>\n",
              "      <td>-0.310002</td>\n",
              "      <td>-0.109999</td>\n",
              "      <td>0.160000</td>\n",
              "      <td>0.230003</td>\n",
              "      <td>-0.250000</td>\n",
              "      <td>0.780007</td>\n",
              "      <td>-0.430001</td>\n",
              "      <td>-0.150002</td>\n",
              "      <td>-1.360001</td>\n",
              "      <td>-0.500000</td>\n",
              "      <td>-0.490005</td>\n",
              "      <td>-0.590001</td>\n",
              "      <td>-1.229999</td>\n",
              "      <td>-2.186584</td>\n",
              "      <td>-1.559997</td>\n",
              "      <td>-0.680000</td>\n",
              "      <td>-0.150002</td>\n",
              "      <td>-0.729996</td>\n",
              "      <td>-0.160000</td>\n",
              "      <td>-0.079998</td>\n",
              "      <td>0.120002</td>\n",
              "      <td>0.120002</td>\n",
              "      <td>-0.690003</td>\n",
              "      <td>-0.179332</td>\n",
              "      <td>...</td>\n",
              "      <td>-0.150002</td>\n",
              "      <td>0.639999</td>\n",
              "      <td>-0.389999</td>\n",
              "      <td>-0.349998</td>\n",
              "      <td>-0.540001</td>\n",
              "      <td>-1.250000</td>\n",
              "      <td>-0.189999</td>\n",
              "      <td>5.540001</td>\n",
              "      <td>-0.318462</td>\n",
              "      <td>0.249376</td>\n",
              "      <td>0.609180</td>\n",
              "      <td>0.564911</td>\n",
              "      <td>0.120011</td>\n",
              "      <td>0.260001</td>\n",
              "      <td>0.990006</td>\n",
              "      <td>0.170005</td>\n",
              "      <td>1.709991</td>\n",
              "      <td>-0.379997</td>\n",
              "      <td>-0.070000</td>\n",
              "      <td>0.409458</td>\n",
              "      <td>0.099611</td>\n",
              "      <td>-0.438428</td>\n",
              "      <td>1.319992</td>\n",
              "      <td>-0.699997</td>\n",
              "      <td>-0.260002</td>\n",
              "      <td>-0.159114</td>\n",
              "      <td>-0.766540</td>\n",
              "      <td>-0.059998</td>\n",
              "      <td>0.199997</td>\n",
              "      <td>-1.419998</td>\n",
              "      <td>-2.500000</td>\n",
              "      <td>1.889999</td>\n",
              "      <td>-2.060012</td>\n",
              "      <td>0.150002</td>\n",
              "      <td>-1.630004</td>\n",
              "      <td>-0.990005</td>\n",
              "      <td>-2.250000</td>\n",
              "      <td>1.270019</td>\n",
              "      <td>-1.919998</td>\n",
              "      <td>-0.080002</td>\n",
              "    </tr>\n",
              "    <tr>\n",
              "      <th>2015-06-26</th>\n",
              "      <td>-1.299988</td>\n",
              "      <td>-0.330000</td>\n",
              "      <td>-0.390004</td>\n",
              "      <td>-1.820000</td>\n",
              "      <td>0.190003</td>\n",
              "      <td>0.330002</td>\n",
              "      <td>-0.328565</td>\n",
              "      <td>-0.769989</td>\n",
              "      <td>0.020000</td>\n",
              "      <td>0.000000</td>\n",
              "      <td>-0.570000</td>\n",
              "      <td>-3.700012</td>\n",
              "      <td>-0.689998</td>\n",
              "      <td>-1.000000</td>\n",
              "      <td>-0.490000</td>\n",
              "      <td>-0.770000</td>\n",
              "      <td>-0.760002</td>\n",
              "      <td>-0.610000</td>\n",
              "      <td>-0.260000</td>\n",
              "      <td>-4.439994</td>\n",
              "      <td>-0.709999</td>\n",
              "      <td>-2.599998</td>\n",
              "      <td>-0.489997</td>\n",
              "      <td>-0.770001</td>\n",
              "      <td>-0.919998</td>\n",
              "      <td>-0.049999</td>\n",
              "      <td>0.110000</td>\n",
              "      <td>0.610001</td>\n",
              "      <td>0.060001</td>\n",
              "      <td>-0.496950</td>\n",
              "      <td>-0.589996</td>\n",
              "      <td>-0.090004</td>\n",
              "      <td>0.090000</td>\n",
              "      <td>-0.970001</td>\n",
              "      <td>-0.179998</td>\n",
              "      <td>0.000000</td>\n",
              "      <td>-0.379997</td>\n",
              "      <td>-1.480003</td>\n",
              "      <td>-1.189998</td>\n",
              "      <td>-0.109587</td>\n",
              "      <td>...</td>\n",
              "      <td>-1.420005</td>\n",
              "      <td>0.659996</td>\n",
              "      <td>-4.029999</td>\n",
              "      <td>0.270001</td>\n",
              "      <td>-1.620002</td>\n",
              "      <td>0.540008</td>\n",
              "      <td>-0.250000</td>\n",
              "      <td>-5.310001</td>\n",
              "      <td>0.497597</td>\n",
              "      <td>0.020000</td>\n",
              "      <td>0.389474</td>\n",
              "      <td>-0.200982</td>\n",
              "      <td>-0.260010</td>\n",
              "      <td>-0.200001</td>\n",
              "      <td>0.770004</td>\n",
              "      <td>0.129998</td>\n",
              "      <td>-0.279999</td>\n",
              "      <td>0.209999</td>\n",
              "      <td>-0.629997</td>\n",
              "      <td>0.149804</td>\n",
              "      <td>-0.200005</td>\n",
              "      <td>0.859993</td>\n",
              "      <td>-0.629989</td>\n",
              "      <td>-0.250000</td>\n",
              "      <td>-0.139999</td>\n",
              "      <td>0.497220</td>\n",
              "      <td>-0.985545</td>\n",
              "      <td>-0.260002</td>\n",
              "      <td>-0.760003</td>\n",
              "      <td>-2.190003</td>\n",
              "      <td>-0.070007</td>\n",
              "      <td>-2.380005</td>\n",
              "      <td>-1.390000</td>\n",
              "      <td>0.550004</td>\n",
              "      <td>-3.509979</td>\n",
              "      <td>-1.080002</td>\n",
              "      <td>-0.800003</td>\n",
              "      <td>-1.900024</td>\n",
              "      <td>-3.629997</td>\n",
              "      <td>0.440002</td>\n",
              "    </tr>\n",
              "    <tr>\n",
              "      <th>2015-06-29</th>\n",
              "      <td>-10.299988</td>\n",
              "      <td>-0.410000</td>\n",
              "      <td>-0.670002</td>\n",
              "      <td>-1.250000</td>\n",
              "      <td>-1.919998</td>\n",
              "      <td>-0.510002</td>\n",
              "      <td>-0.139999</td>\n",
              "      <td>-0.949997</td>\n",
              "      <td>-0.100000</td>\n",
              "      <td>-0.040001</td>\n",
              "      <td>-1.420002</td>\n",
              "      <td>-0.840011</td>\n",
              "      <td>-0.500000</td>\n",
              "      <td>-1.110001</td>\n",
              "      <td>-0.310002</td>\n",
              "      <td>-0.670002</td>\n",
              "      <td>-0.590000</td>\n",
              "      <td>-0.610000</td>\n",
              "      <td>-0.379999</td>\n",
              "      <td>0.309998</td>\n",
              "      <td>-0.780003</td>\n",
              "      <td>-0.849998</td>\n",
              "      <td>-1.040001</td>\n",
              "      <td>-0.340000</td>\n",
              "      <td>-0.930000</td>\n",
              "      <td>-0.360001</td>\n",
              "      <td>-0.549996</td>\n",
              "      <td>-1.040001</td>\n",
              "      <td>0.049999</td>\n",
              "      <td>-1.341763</td>\n",
              "      <td>-1.570000</td>\n",
              "      <td>-0.489997</td>\n",
              "      <td>-0.570000</td>\n",
              "      <td>-1.459999</td>\n",
              "      <td>-0.380001</td>\n",
              "      <td>-0.780003</td>\n",
              "      <td>-1.630005</td>\n",
              "      <td>0.059998</td>\n",
              "      <td>-1.020000</td>\n",
              "      <td>-0.209223</td>\n",
              "      <td>...</td>\n",
              "      <td>-1.800003</td>\n",
              "      <td>-1.569999</td>\n",
              "      <td>0.670006</td>\n",
              "      <td>-0.639999</td>\n",
              "      <td>-0.520005</td>\n",
              "      <td>-3.390000</td>\n",
              "      <td>-0.140000</td>\n",
              "      <td>-1.439998</td>\n",
              "      <td>-0.527455</td>\n",
              "      <td>-0.859996</td>\n",
              "      <td>-0.748990</td>\n",
              "      <td>-0.271591</td>\n",
              "      <td>-0.720001</td>\n",
              "      <td>-0.100001</td>\n",
              "      <td>-2.099991</td>\n",
              "      <td>-0.019997</td>\n",
              "      <td>-8.130005</td>\n",
              "      <td>-1.300003</td>\n",
              "      <td>-1.079994</td>\n",
              "      <td>-1.078572</td>\n",
              "      <td>-0.760003</td>\n",
              "      <td>-1.300003</td>\n",
              "      <td>-1.470001</td>\n",
              "      <td>-1.020005</td>\n",
              "      <td>2.290001</td>\n",
              "      <td>-1.262935</td>\n",
              "      <td>-1.389999</td>\n",
              "      <td>-0.629998</td>\n",
              "      <td>-1.460007</td>\n",
              "      <td>-1.809997</td>\n",
              "      <td>-2.250000</td>\n",
              "      <td>-5.490005</td>\n",
              "      <td>-5.029999</td>\n",
              "      <td>0.090000</td>\n",
              "      <td>-8.290009</td>\n",
              "      <td>-1.209999</td>\n",
              "      <td>-2.419998</td>\n",
              "      <td>-9.620026</td>\n",
              "      <td>-3.770004</td>\n",
              "      <td>-2.479996</td>\n",
              "    </tr>\n",
              "    <tr>\n",
              "      <th>2015-06-30</th>\n",
              "      <td>-2.109986</td>\n",
              "      <td>-0.049999</td>\n",
              "      <td>-0.559997</td>\n",
              "      <td>-0.099999</td>\n",
              "      <td>-0.689999</td>\n",
              "      <td>-0.610001</td>\n",
              "      <td>0.239999</td>\n",
              "      <td>-1.330001</td>\n",
              "      <td>-0.200000</td>\n",
              "      <td>0.020001</td>\n",
              "      <td>-0.149994</td>\n",
              "      <td>-0.870010</td>\n",
              "      <td>0.280003</td>\n",
              "      <td>-1.439998</td>\n",
              "      <td>-0.209999</td>\n",
              "      <td>-0.540000</td>\n",
              "      <td>-0.239998</td>\n",
              "      <td>-0.049999</td>\n",
              "      <td>-0.129999</td>\n",
              "      <td>0.269997</td>\n",
              "      <td>-0.119999</td>\n",
              "      <td>-0.029999</td>\n",
              "      <td>-0.470002</td>\n",
              "      <td>-0.270000</td>\n",
              "      <td>-0.140000</td>\n",
              "      <td>-0.060000</td>\n",
              "      <td>-0.099998</td>\n",
              "      <td>-2.289997</td>\n",
              "      <td>-2.090000</td>\n",
              "      <td>-3.380005</td>\n",
              "      <td>-0.399994</td>\n",
              "      <td>-0.479995</td>\n",
              "      <td>-0.470001</td>\n",
              "      <td>-0.910003</td>\n",
              "      <td>-0.060002</td>\n",
              "      <td>-0.209999</td>\n",
              "      <td>0.150001</td>\n",
              "      <td>-1.180000</td>\n",
              "      <td>-1.009998</td>\n",
              "      <td>-0.298884</td>\n",
              "      <td>...</td>\n",
              "      <td>-0.159996</td>\n",
              "      <td>-1.010002</td>\n",
              "      <td>0.069999</td>\n",
              "      <td>-0.779999</td>\n",
              "      <td>-0.419998</td>\n",
              "      <td>-1.429993</td>\n",
              "      <td>-0.260002</td>\n",
              "      <td>0.550003</td>\n",
              "      <td>-0.427929</td>\n",
              "      <td>-0.500000</td>\n",
              "      <td>-1.597851</td>\n",
              "      <td>-0.651821</td>\n",
              "      <td>-1.350006</td>\n",
              "      <td>-0.289999</td>\n",
              "      <td>-1.280014</td>\n",
              "      <td>0.010002</td>\n",
              "      <td>-3.920013</td>\n",
              "      <td>-0.970001</td>\n",
              "      <td>-0.090004</td>\n",
              "      <td>-0.988694</td>\n",
              "      <td>-0.550003</td>\n",
              "      <td>-0.730003</td>\n",
              "      <td>-1.080001</td>\n",
              "      <td>-0.269996</td>\n",
              "      <td>-1.269997</td>\n",
              "      <td>-0.089496</td>\n",
              "      <td>-0.979995</td>\n",
              "      <td>0.089997</td>\n",
              "      <td>-0.949997</td>\n",
              "      <td>-0.990005</td>\n",
              "      <td>-0.299988</td>\n",
              "      <td>0.270004</td>\n",
              "      <td>0.279999</td>\n",
              "      <td>-1.710001</td>\n",
              "      <td>0.390014</td>\n",
              "      <td>0.439995</td>\n",
              "      <td>-0.209999</td>\n",
              "      <td>-2.070007</td>\n",
              "      <td>-0.849999</td>\n",
              "      <td>-1.360001</td>\n",
              "    </tr>\n",
              "    <tr>\n",
              "      <th>2015-07-01</th>\n",
              "      <td>-1.210022</td>\n",
              "      <td>0.020000</td>\n",
              "      <td>-0.009998</td>\n",
              "      <td>0.869995</td>\n",
              "      <td>0.329998</td>\n",
              "      <td>-0.190003</td>\n",
              "      <td>-0.039999</td>\n",
              "      <td>0.520004</td>\n",
              "      <td>-0.030000</td>\n",
              "      <td>-0.079998</td>\n",
              "      <td>-0.510002</td>\n",
              "      <td>1.089996</td>\n",
              "      <td>-0.079998</td>\n",
              "      <td>-1.279999</td>\n",
              "      <td>-0.310000</td>\n",
              "      <td>-0.280003</td>\n",
              "      <td>-1.260003</td>\n",
              "      <td>-0.269998</td>\n",
              "      <td>-0.210001</td>\n",
              "      <td>-0.889999</td>\n",
              "      <td>-0.199996</td>\n",
              "      <td>-2.089996</td>\n",
              "      <td>-0.240002</td>\n",
              "      <td>-0.480004</td>\n",
              "      <td>-0.300004</td>\n",
              "      <td>0.190000</td>\n",
              "      <td>0.629997</td>\n",
              "      <td>-2.130001</td>\n",
              "      <td>-0.299999</td>\n",
              "      <td>0.290000</td>\n",
              "      <td>-0.529999</td>\n",
              "      <td>-0.150002</td>\n",
              "      <td>-0.270001</td>\n",
              "      <td>0.320000</td>\n",
              "      <td>0.170000</td>\n",
              "      <td>0.070000</td>\n",
              "      <td>-0.650001</td>\n",
              "      <td>-0.629998</td>\n",
              "      <td>-0.200001</td>\n",
              "      <td>-0.368624</td>\n",
              "      <td>...</td>\n",
              "      <td>0.669998</td>\n",
              "      <td>1.049995</td>\n",
              "      <td>0.859993</td>\n",
              "      <td>0.669998</td>\n",
              "      <td>1.180000</td>\n",
              "      <td>-0.680007</td>\n",
              "      <td>0.129998</td>\n",
              "      <td>-0.320000</td>\n",
              "      <td>0.119421</td>\n",
              "      <td>0.369999</td>\n",
              "      <td>1.018630</td>\n",
              "      <td>1.310002</td>\n",
              "      <td>0.160003</td>\n",
              "      <td>-0.020001</td>\n",
              "      <td>0.090011</td>\n",
              "      <td>0.139999</td>\n",
              "      <td>-1.589997</td>\n",
              "      <td>0.169998</td>\n",
              "      <td>-0.199997</td>\n",
              "      <td>-0.549273</td>\n",
              "      <td>-0.110001</td>\n",
              "      <td>-0.160003</td>\n",
              "      <td>0.150009</td>\n",
              "      <td>-0.500000</td>\n",
              "      <td>-0.790001</td>\n",
              "      <td>1.220001</td>\n",
              "      <td>0.659996</td>\n",
              "      <td>0.010003</td>\n",
              "      <td>0.159996</td>\n",
              "      <td>-1.119995</td>\n",
              "      <td>-0.250000</td>\n",
              "      <td>1.270005</td>\n",
              "      <td>0.050003</td>\n",
              "      <td>-1.380001</td>\n",
              "      <td>-2.910003</td>\n",
              "      <td>1.180000</td>\n",
              "      <td>-2.099999</td>\n",
              "      <td>-8.719970</td>\n",
              "      <td>2.080001</td>\n",
              "      <td>0.940002</td>\n",
              "    </tr>\n",
              "  </tbody>\n",
              "</table>\n",
              "<p>5647 rows × 517 columns</p>\n",
              "</div>\n",
              "      <button class=\"colab-df-convert\" onclick=\"convertToInteractive('df-ef5a341f-4eb9-4c12-a42c-591a0dacdeb8')\"\n",
              "              title=\"Convert this dataframe to an interactive table.\"\n",
              "              style=\"display:none;\">\n",
              "        \n",
              "  <svg xmlns=\"http://www.w3.org/2000/svg\" height=\"24px\"viewBox=\"0 0 24 24\"\n",
              "       width=\"24px\">\n",
              "    <path d=\"M0 0h24v24H0V0z\" fill=\"none\"/>\n",
              "    <path d=\"M18.56 5.44l.94 2.06.94-2.06 2.06-.94-2.06-.94-.94-2.06-.94 2.06-2.06.94zm-11 1L8.5 8.5l.94-2.06 2.06-.94-2.06-.94L8.5 2.5l-.94 2.06-2.06.94zm10 10l.94 2.06.94-2.06 2.06-.94-2.06-.94-.94-2.06-.94 2.06-2.06.94z\"/><path d=\"M17.41 7.96l-1.37-1.37c-.4-.4-.92-.59-1.43-.59-.52 0-1.04.2-1.43.59L10.3 9.45l-7.72 7.72c-.78.78-.78 2.05 0 2.83L4 21.41c.39.39.9.59 1.41.59.51 0 1.02-.2 1.41-.59l7.78-7.78 2.81-2.81c.8-.78.8-2.07 0-2.86zM5.41 20L4 18.59l7.72-7.72 1.47 1.35L5.41 20z\"/>\n",
              "  </svg>\n",
              "      </button>\n",
              "      \n",
              "  <style>\n",
              "    .colab-df-container {\n",
              "      display:flex;\n",
              "      flex-wrap:wrap;\n",
              "      gap: 12px;\n",
              "    }\n",
              "\n",
              "    .colab-df-convert {\n",
              "      background-color: #E8F0FE;\n",
              "      border: none;\n",
              "      border-radius: 50%;\n",
              "      cursor: pointer;\n",
              "      display: none;\n",
              "      fill: #1967D2;\n",
              "      height: 32px;\n",
              "      padding: 0 0 0 0;\n",
              "      width: 32px;\n",
              "    }\n",
              "\n",
              "    .colab-df-convert:hover {\n",
              "      background-color: #E2EBFA;\n",
              "      box-shadow: 0px 1px 2px rgba(60, 64, 67, 0.3), 0px 1px 3px 1px rgba(60, 64, 67, 0.15);\n",
              "      fill: #174EA6;\n",
              "    }\n",
              "\n",
              "    [theme=dark] .colab-df-convert {\n",
              "      background-color: #3B4455;\n",
              "      fill: #D2E3FC;\n",
              "    }\n",
              "\n",
              "    [theme=dark] .colab-df-convert:hover {\n",
              "      background-color: #434B5C;\n",
              "      box-shadow: 0px 1px 3px 1px rgba(0, 0, 0, 0.15);\n",
              "      filter: drop-shadow(0px 1px 2px rgba(0, 0, 0, 0.3));\n",
              "      fill: #FFFFFF;\n",
              "    }\n",
              "  </style>\n",
              "\n",
              "      <script>\n",
              "        const buttonEl =\n",
              "          document.querySelector('#df-ef5a341f-4eb9-4c12-a42c-591a0dacdeb8 button.colab-df-convert');\n",
              "        buttonEl.style.display =\n",
              "          google.colab.kernel.accessAllowed ? 'block' : 'none';\n",
              "\n",
              "        async function convertToInteractive(key) {\n",
              "          const element = document.querySelector('#df-ef5a341f-4eb9-4c12-a42c-591a0dacdeb8');\n",
              "          const dataTable =\n",
              "            await google.colab.kernel.invokeFunction('convertToInteractive',\n",
              "                                                     [key], {});\n",
              "          if (!dataTable) return;\n",
              "\n",
              "          const docLinkHtml = 'Like what you see? Visit the ' +\n",
              "            '<a target=\"_blank\" href=https://colab.research.google.com/notebooks/data_table.ipynb>data table notebook</a>'\n",
              "            + ' to learn more about interactive tables.';\n",
              "          element.innerHTML = '';\n",
              "          dataTable['output_type'] = 'display_data';\n",
              "          await google.colab.output.renderOutput(dataTable, element);\n",
              "          const docLink = document.createElement('div');\n",
              "          docLink.innerHTML = docLinkHtml;\n",
              "          element.appendChild(docLink);\n",
              "        }\n",
              "      </script>\n",
              "    </div>\n",
              "  </div>\n",
              "  "
            ],
            "text/plain": [
              "                  ADS        CA      MSFT  ...      REGN      VRTX      HSIC\n",
              "1993-01-29   0.000000  0.060124 -0.022100  ...  1.750000  0.125000  0.000000\n",
              "1993-02-01   0.000000 -0.180389  0.027621  ...  1.250000  0.125000  0.000000\n",
              "1993-02-02   0.000000 -0.120257  0.035900  ... -0.250000  0.000000  0.000000\n",
              "1993-02-03   0.000000  0.060124 -0.024857  ... -0.500000  0.062500  0.000000\n",
              "1993-02-04   0.000000 -0.360770 -0.060757  ...  0.000000  0.062500  0.000000\n",
              "...               ...       ...       ...  ...       ...       ...       ...\n",
              "2015-06-25   0.019989 -0.529999 -0.379997  ...  1.270019 -1.919998 -0.080002\n",
              "2015-06-26  -1.299988 -0.330000 -0.390004  ... -1.900024 -3.629997  0.440002\n",
              "2015-06-29 -10.299988 -0.410000 -0.670002  ... -9.620026 -3.770004 -2.479996\n",
              "2015-06-30  -2.109986 -0.049999 -0.559997  ... -2.070007 -0.849999 -1.360001\n",
              "2015-07-01  -1.210022  0.020000 -0.009998  ... -8.719970  2.080001  0.940002\n",
              "\n",
              "[5647 rows x 517 columns]"
            ]
          },
          "metadata": {},
          "execution_count": 10
        }
      ]
    },
    {
      "cell_type": "code",
      "source": [
        "syms = sorted(['AAPL', 'MSFT', 'CSCO', 'INTC', 'CVX', 'XOM', 'SLB', 'COP',\n",
        "               'JPM', 'WFC', 'USB', 'AXP', 'WMT', 'TGT', 'HD', 'COST'])\n",
        "top_sp = sp500_px.loc[sp500_px.index >= '2011-01-01', syms]\n",
        "top_sp"
      ],
      "metadata": {
        "colab": {
          "base_uri": "https://localhost:8080/",
          "height": 423
        },
        "id": "2ZPQMJh5q8tM",
        "outputId": "f63d2dbd-e235-48f8-98eb-466411d7a719"
      },
      "execution_count": 11,
      "outputs": [
        {
          "output_type": "execute_result",
          "data": {
            "text/html": [
              "\n",
              "  <div id=\"df-5513f750-a6ea-4797-b76e-103c45f856f8\">\n",
              "    <div class=\"colab-df-container\">\n",
              "      <div>\n",
              "<style scoped>\n",
              "    .dataframe tbody tr th:only-of-type {\n",
              "        vertical-align: middle;\n",
              "    }\n",
              "\n",
              "    .dataframe tbody tr th {\n",
              "        vertical-align: top;\n",
              "    }\n",
              "\n",
              "    .dataframe thead th {\n",
              "        text-align: right;\n",
              "    }\n",
              "</style>\n",
              "<table border=\"1\" class=\"dataframe\">\n",
              "  <thead>\n",
              "    <tr style=\"text-align: right;\">\n",
              "      <th></th>\n",
              "      <th>AAPL</th>\n",
              "      <th>AXP</th>\n",
              "      <th>COP</th>\n",
              "      <th>COST</th>\n",
              "      <th>CSCO</th>\n",
              "      <th>CVX</th>\n",
              "      <th>HD</th>\n",
              "      <th>INTC</th>\n",
              "      <th>JPM</th>\n",
              "      <th>MSFT</th>\n",
              "      <th>SLB</th>\n",
              "      <th>TGT</th>\n",
              "      <th>USB</th>\n",
              "      <th>WFC</th>\n",
              "      <th>WMT</th>\n",
              "      <th>XOM</th>\n",
              "    </tr>\n",
              "  </thead>\n",
              "  <tbody>\n",
              "    <tr>\n",
              "      <th>2011-01-03</th>\n",
              "      <td>0.527368</td>\n",
              "      <td>0.093870</td>\n",
              "      <td>-0.336272</td>\n",
              "      <td>-0.240605</td>\n",
              "      <td>0.035704</td>\n",
              "      <td>0.240681</td>\n",
              "      <td>0.099184</td>\n",
              "      <td>-0.137211</td>\n",
              "      <td>0.512093</td>\n",
              "      <td>-0.061805</td>\n",
              "      <td>-0.325923</td>\n",
              "      <td>0.455646</td>\n",
              "      <td>-0.234866</td>\n",
              "      <td>0.250042</td>\n",
              "      <td>0.294839</td>\n",
              "      <td>0.736805</td>\n",
              "    </tr>\n",
              "    <tr>\n",
              "      <th>2011-01-04</th>\n",
              "      <td>-0.154321</td>\n",
              "      <td>-0.431788</td>\n",
              "      <td>-0.463161</td>\n",
              "      <td>-0.171859</td>\n",
              "      <td>0.008926</td>\n",
              "      <td>-0.584516</td>\n",
              "      <td>-0.541005</td>\n",
              "      <td>0.025726</td>\n",
              "      <td>0.335894</td>\n",
              "      <td>0.132440</td>\n",
              "      <td>-2.030049</td>\n",
              "      <td>-0.580720</td>\n",
              "      <td>-0.153566</td>\n",
              "      <td>0.000000</td>\n",
              "      <td>0.142951</td>\n",
              "      <td>0.168668</td>\n",
              "    </tr>\n",
              "    <tr>\n",
              "      <th>2011-01-05</th>\n",
              "      <td>0.597152</td>\n",
              "      <td>0.895406</td>\n",
              "      <td>-0.057104</td>\n",
              "      <td>-0.859307</td>\n",
              "      <td>0.169599</td>\n",
              "      <td>0.446985</td>\n",
              "      <td>-0.054099</td>\n",
              "      <td>-0.214392</td>\n",
              "      <td>0.689468</td>\n",
              "      <td>0.088294</td>\n",
              "      <td>1.536499</td>\n",
              "      <td>-0.482448</td>\n",
              "      <td>0.198732</td>\n",
              "      <td>0.857284</td>\n",
              "      <td>-0.303772</td>\n",
              "      <td>0.026631</td>\n",
              "    </tr>\n",
              "    <tr>\n",
              "      <th>2011-01-06</th>\n",
              "      <td>-0.132850</td>\n",
              "      <td>-0.612646</td>\n",
              "      <td>-0.463161</td>\n",
              "      <td>0.249200</td>\n",
              "      <td>0.035706</td>\n",
              "      <td>-0.919751</td>\n",
              "      <td>-0.189354</td>\n",
              "      <td>0.085757</td>\n",
              "      <td>0.070713</td>\n",
              "      <td>0.688689</td>\n",
              "      <td>-1.927614</td>\n",
              "      <td>-0.786210</td>\n",
              "      <td>-0.532962</td>\n",
              "      <td>0.000000</td>\n",
              "      <td>-0.312709</td>\n",
              "      <td>0.248558</td>\n",
              "    </tr>\n",
              "    <tr>\n",
              "      <th>2011-01-07</th>\n",
              "      <td>0.285820</td>\n",
              "      <td>-0.537242</td>\n",
              "      <td>-0.006350</td>\n",
              "      <td>-0.257788</td>\n",
              "      <td>0.098187</td>\n",
              "      <td>0.180511</td>\n",
              "      <td>-0.036064</td>\n",
              "      <td>-0.042878</td>\n",
              "      <td>-0.795539</td>\n",
              "      <td>-0.035317</td>\n",
              "      <td>0.931215</td>\n",
              "      <td>-0.089345</td>\n",
              "      <td>-0.171633</td>\n",
              "      <td>-0.651894</td>\n",
              "      <td>0.169758</td>\n",
              "      <td>0.337329</td>\n",
              "    </tr>\n",
              "    <tr>\n",
              "      <th>...</th>\n",
              "      <td>...</td>\n",
              "      <td>...</td>\n",
              "      <td>...</td>\n",
              "      <td>...</td>\n",
              "      <td>...</td>\n",
              "      <td>...</td>\n",
              "      <td>...</td>\n",
              "      <td>...</td>\n",
              "      <td>...</td>\n",
              "      <td>...</td>\n",
              "      <td>...</td>\n",
              "      <td>...</td>\n",
              "      <td>...</td>\n",
              "      <td>...</td>\n",
              "      <td>...</td>\n",
              "      <td>...</td>\n",
              "    </tr>\n",
              "    <tr>\n",
              "      <th>2015-06-25</th>\n",
              "      <td>-1.360001</td>\n",
              "      <td>-1.105863</td>\n",
              "      <td>-0.949997</td>\n",
              "      <td>-1.000000</td>\n",
              "      <td>-0.158775</td>\n",
              "      <td>-1.110001</td>\n",
              "      <td>-1.000000</td>\n",
              "      <td>-0.030000</td>\n",
              "      <td>-0.665647</td>\n",
              "      <td>-0.379997</td>\n",
              "      <td>-0.690003</td>\n",
              "      <td>0.080002</td>\n",
              "      <td>-0.238625</td>\n",
              "      <td>-0.580002</td>\n",
              "      <td>-0.589996</td>\n",
              "      <td>-0.919998</td>\n",
              "    </tr>\n",
              "    <tr>\n",
              "      <th>2015-06-26</th>\n",
              "      <td>-0.919998</td>\n",
              "      <td>-0.288920</td>\n",
              "      <td>0.029998</td>\n",
              "      <td>0.119996</td>\n",
              "      <td>-0.208393</td>\n",
              "      <td>0.360000</td>\n",
              "      <td>-0.169999</td>\n",
              "      <td>-0.490000</td>\n",
              "      <td>0.009930</td>\n",
              "      <td>-0.390004</td>\n",
              "      <td>0.279999</td>\n",
              "      <td>-0.409996</td>\n",
              "      <td>-0.020001</td>\n",
              "      <td>0.099999</td>\n",
              "      <td>0.160004</td>\n",
              "      <td>0.029999</td>\n",
              "    </tr>\n",
              "    <tr>\n",
              "      <th>2015-06-29</th>\n",
              "      <td>-0.930000</td>\n",
              "      <td>-1.414705</td>\n",
              "      <td>-0.410000</td>\n",
              "      <td>-1.319993</td>\n",
              "      <td>-0.446558</td>\n",
              "      <td>-0.809998</td>\n",
              "      <td>-1.019997</td>\n",
              "      <td>-0.310002</td>\n",
              "      <td>-0.476886</td>\n",
              "      <td>-0.670002</td>\n",
              "      <td>0.060006</td>\n",
              "      <td>-1.390007</td>\n",
              "      <td>-0.500000</td>\n",
              "      <td>-0.739998</td>\n",
              "      <td>-0.380005</td>\n",
              "      <td>-0.230003</td>\n",
              "    </tr>\n",
              "    <tr>\n",
              "      <th>2015-06-30</th>\n",
              "      <td>-0.140000</td>\n",
              "      <td>-0.449997</td>\n",
              "      <td>-0.119999</td>\n",
              "      <td>-1.320007</td>\n",
              "      <td>-0.367171</td>\n",
              "      <td>-0.979996</td>\n",
              "      <td>-0.020005</td>\n",
              "      <td>-0.209999</td>\n",
              "      <td>-0.129153</td>\n",
              "      <td>-0.559997</td>\n",
              "      <td>-0.189995</td>\n",
              "      <td>-1.020005</td>\n",
              "      <td>-0.439998</td>\n",
              "      <td>-0.299999</td>\n",
              "      <td>-0.879998</td>\n",
              "      <td>-0.540001</td>\n",
              "    </tr>\n",
              "    <tr>\n",
              "      <th>2015-07-01</th>\n",
              "      <td>-0.300004</td>\n",
              "      <td>-0.239997</td>\n",
              "      <td>-1.479999</td>\n",
              "      <td>0.700012</td>\n",
              "      <td>-0.070000</td>\n",
              "      <td>-0.210007</td>\n",
              "      <td>-0.379997</td>\n",
              "      <td>-0.310000</td>\n",
              "      <td>-0.050003</td>\n",
              "      <td>-0.009998</td>\n",
              "      <td>-2.119995</td>\n",
              "      <td>0.890000</td>\n",
              "      <td>0.230004</td>\n",
              "      <td>-0.180000</td>\n",
              "      <td>0.279999</td>\n",
              "      <td>-0.909996</td>\n",
              "    </tr>\n",
              "  </tbody>\n",
              "</table>\n",
              "<p>1131 rows × 16 columns</p>\n",
              "</div>\n",
              "      <button class=\"colab-df-convert\" onclick=\"convertToInteractive('df-5513f750-a6ea-4797-b76e-103c45f856f8')\"\n",
              "              title=\"Convert this dataframe to an interactive table.\"\n",
              "              style=\"display:none;\">\n",
              "        \n",
              "  <svg xmlns=\"http://www.w3.org/2000/svg\" height=\"24px\"viewBox=\"0 0 24 24\"\n",
              "       width=\"24px\">\n",
              "    <path d=\"M0 0h24v24H0V0z\" fill=\"none\"/>\n",
              "    <path d=\"M18.56 5.44l.94 2.06.94-2.06 2.06-.94-2.06-.94-.94-2.06-.94 2.06-2.06.94zm-11 1L8.5 8.5l.94-2.06 2.06-.94-2.06-.94L8.5 2.5l-.94 2.06-2.06.94zm10 10l.94 2.06.94-2.06 2.06-.94-2.06-.94-.94-2.06-.94 2.06-2.06.94z\"/><path d=\"M17.41 7.96l-1.37-1.37c-.4-.4-.92-.59-1.43-.59-.52 0-1.04.2-1.43.59L10.3 9.45l-7.72 7.72c-.78.78-.78 2.05 0 2.83L4 21.41c.39.39.9.59 1.41.59.51 0 1.02-.2 1.41-.59l7.78-7.78 2.81-2.81c.8-.78.8-2.07 0-2.86zM5.41 20L4 18.59l7.72-7.72 1.47 1.35L5.41 20z\"/>\n",
              "  </svg>\n",
              "      </button>\n",
              "      \n",
              "  <style>\n",
              "    .colab-df-container {\n",
              "      display:flex;\n",
              "      flex-wrap:wrap;\n",
              "      gap: 12px;\n",
              "    }\n",
              "\n",
              "    .colab-df-convert {\n",
              "      background-color: #E8F0FE;\n",
              "      border: none;\n",
              "      border-radius: 50%;\n",
              "      cursor: pointer;\n",
              "      display: none;\n",
              "      fill: #1967D2;\n",
              "      height: 32px;\n",
              "      padding: 0 0 0 0;\n",
              "      width: 32px;\n",
              "    }\n",
              "\n",
              "    .colab-df-convert:hover {\n",
              "      background-color: #E2EBFA;\n",
              "      box-shadow: 0px 1px 2px rgba(60, 64, 67, 0.3), 0px 1px 3px 1px rgba(60, 64, 67, 0.15);\n",
              "      fill: #174EA6;\n",
              "    }\n",
              "\n",
              "    [theme=dark] .colab-df-convert {\n",
              "      background-color: #3B4455;\n",
              "      fill: #D2E3FC;\n",
              "    }\n",
              "\n",
              "    [theme=dark] .colab-df-convert:hover {\n",
              "      background-color: #434B5C;\n",
              "      box-shadow: 0px 1px 3px 1px rgba(0, 0, 0, 0.15);\n",
              "      filter: drop-shadow(0px 1px 2px rgba(0, 0, 0, 0.3));\n",
              "      fill: #FFFFFF;\n",
              "    }\n",
              "  </style>\n",
              "\n",
              "      <script>\n",
              "        const buttonEl =\n",
              "          document.querySelector('#df-5513f750-a6ea-4797-b76e-103c45f856f8 button.colab-df-convert');\n",
              "        buttonEl.style.display =\n",
              "          google.colab.kernel.accessAllowed ? 'block' : 'none';\n",
              "\n",
              "        async function convertToInteractive(key) {\n",
              "          const element = document.querySelector('#df-5513f750-a6ea-4797-b76e-103c45f856f8');\n",
              "          const dataTable =\n",
              "            await google.colab.kernel.invokeFunction('convertToInteractive',\n",
              "                                                     [key], {});\n",
              "          if (!dataTable) return;\n",
              "\n",
              "          const docLinkHtml = 'Like what you see? Visit the ' +\n",
              "            '<a target=\"_blank\" href=https://colab.research.google.com/notebooks/data_table.ipynb>data table notebook</a>'\n",
              "            + ' to learn more about interactive tables.';\n",
              "          element.innerHTML = '';\n",
              "          dataTable['output_type'] = 'display_data';\n",
              "          await google.colab.output.renderOutput(dataTable, element);\n",
              "          const docLink = document.createElement('div');\n",
              "          docLink.innerHTML = docLinkHtml;\n",
              "          element.appendChild(docLink);\n",
              "        }\n",
              "      </script>\n",
              "    </div>\n",
              "  </div>\n",
              "  "
            ],
            "text/plain": [
              "                AAPL       AXP       COP  ...       WFC       WMT       XOM\n",
              "2011-01-03  0.527368  0.093870 -0.336272  ...  0.250042  0.294839  0.736805\n",
              "2011-01-04 -0.154321 -0.431788 -0.463161  ...  0.000000  0.142951  0.168668\n",
              "2011-01-05  0.597152  0.895406 -0.057104  ...  0.857284 -0.303772  0.026631\n",
              "2011-01-06 -0.132850 -0.612646 -0.463161  ...  0.000000 -0.312709  0.248558\n",
              "2011-01-07  0.285820 -0.537242 -0.006350  ... -0.651894  0.169758  0.337329\n",
              "...              ...       ...       ...  ...       ...       ...       ...\n",
              "2015-06-25 -1.360001 -1.105863 -0.949997  ... -0.580002 -0.589996 -0.919998\n",
              "2015-06-26 -0.919998 -0.288920  0.029998  ...  0.099999  0.160004  0.029999\n",
              "2015-06-29 -0.930000 -1.414705 -0.410000  ... -0.739998 -0.380005 -0.230003\n",
              "2015-06-30 -0.140000 -0.449997 -0.119999  ... -0.299999 -0.879998 -0.540001\n",
              "2015-07-01 -0.300004 -0.239997 -1.479999  ... -0.180000  0.279999 -0.909996\n",
              "\n",
              "[1131 rows x 16 columns]"
            ]
          },
          "metadata": {},
          "execution_count": 11
        }
      ]
    },
    {
      "cell_type": "code",
      "source": [
        "sp_pca = PCA()\n",
        "sp_pca.fit(top_sp)\n",
        "\n",
        "explained_variance = pd.DataFrame(sp_pca.explained_variance_)\n",
        "ax = explained_variance.head(10).plot.bar(legend=False, figsize=(4, 4))\n",
        "ax.set_xlabel('Component')\n",
        "\n",
        "plt.tight_layout()\n",
        "plt.show()"
      ],
      "metadata": {
        "id": "M3s5QaDox1cr",
        "colab": {
          "base_uri": "https://localhost:8080/",
          "height": 297
        },
        "outputId": "f729736c-9737-4045-dc29-eb5101f1b397"
      },
      "execution_count": 12,
      "outputs": [
        {
          "output_type": "display_data",
          "data": {
            "image/png": "[encoded data removed]",
            "text/plain": [
              "<Figure size 288x288 with 1 Axes>"
            ]
          },
          "metadata": {
            "needs_background": "light"
          }
        }
      ]
    },
    {
      "cell_type": "code",
      "source": [
        "ax = explained_variance.plot.bar(legend=False, figsize=(4, 4))\n",
        "ax.set_xlabel('Component')\n",
        "\n",
        "plt.tight_layout()\n",
        "plt.show()"
      ],
      "metadata": {
        "colab": {
          "base_uri": "https://localhost:8080/",
          "height": 297
        },
        "id": "XyaTsviarvGi",
        "outputId": "ae8248c9-f7ef-49e1-c000-8dba00d0148b"
      },
      "execution_count": 13,
      "outputs": [
        {
          "output_type": "display_data",
          "data": {
            "image/png": "[encoded data removed]",
            "text/plain": [
              "<Figure size 288x288 with 1 Axes>"
            ]
          },
          "metadata": {
            "needs_background": "light"
          }
        }
      ]
    },
    {
      "cell_type": "code",
      "source": [
        "sp_pca"
      ],
      "metadata": {
        "colab": {
          "base_uri": "https://localhost:8080/"
        },
        "id": "gKuPLGNM6RAW",
        "outputId": "30443fdc-469b-4d09-8775-a3ad66131b3c"
      },
      "execution_count": 14,
      "outputs": [
        {
          "output_type": "execute_result",
          "data": {
            "text/plain": [
              "PCA()"
            ]
          },
          "metadata": {},
          "execution_count": 14
        }
      ]
    },
    {
      "cell_type": "code",
      "source": [
        "np.shape(sp_pca.components_)"
      ],
      "metadata": {
        "colab": {
          "base_uri": "https://localhost:8080/"
        },
        "id": "yUMxUNzk6QyV",
        "outputId": "c9693155-904e-4d53-b41c-e671c0e13424"
      },
      "execution_count": 15,
      "outputs": [
        {
          "output_type": "execute_result",
          "data": {
            "text/plain": [
              "(16, 16)"
            ]
          },
          "metadata": {},
          "execution_count": 15
        }
      ]
    },
    {
      "cell_type": "code",
      "source": [
        "loadings = pd.DataFrame(sp_pca.components_[0:5, :], \n",
        "                        columns=top_sp.columns)\n",
        "print(loadings)"
      ],
      "metadata": {
        "id": "eTTA3hc0x57s",
        "colab": {
          "base_uri": "https://localhost:8080/"
        },
        "outputId": "6bf61b13-4f9a-45d9-a7cb-ee63d3b99703"
      },
      "execution_count": 16,
      "outputs": [
        {
          "output_type": "stream",
          "name": "stdout",
          "text": [
            "       AAPL       AXP       COP  ...       WFC       WMT       XOM\n",
            "0 -0.300825 -0.246332 -0.261529  ... -0.145684 -0.122304 -0.317952\n",
            "1 -0.505116 -0.139426  0.174212  ... -0.047427 -0.222889  0.154192\n",
            "2 -0.786730  0.135458 -0.002367  ...  0.041932  0.175806  0.090167\n",
            "3 -0.120586  0.061814 -0.206026  ...  0.018614  0.058439 -0.295204\n",
            "4  0.111576 -0.596666 -0.005813  ... -0.216425  0.091541  0.013277\n",
            "\n",
            "[5 rows x 16 columns]\n"
          ]
        }
      ]
    },
    {
      "cell_type": "code",
      "source": [
        "maxPC = 1.01 * np.max(np.max(np.abs(loadings.loc[0:5, :])))\n",
        "print(maxPC)"
      ],
      "metadata": {
        "colab": {
          "base_uri": "https://localhost:8080/"
        },
        "id": "6NtXxHzx8DTm",
        "outputId": "9a6faf92-f679-45b5-97a2-dc0ed12d98e8"
      },
      "execution_count": 17,
      "outputs": [
        {
          "output_type": "stream",
          "name": "stdout",
          "text": [
            "0.7945969308281738\n"
          ]
        }
      ]
    },
    {
      "cell_type": "code",
      "source": [
        "f, axes = plt.subplots(5, 1, figsize=(5, 5), sharex=True)\n",
        "\n",
        "# Matplotlib converts \"CN\" colors to RGBA when drawing Artists. The Styling with cycler section\n",
        "# contains additional information about controlling colors and style properties.\n",
        "for i, ax in enumerate(axes):\n",
        "    pc_loadings = loadings.loc[i, :]\n",
        "    colors = ['C0' if l > 0 else 'C1' for l in pc_loadings]\n",
        "    ax.axhline(color='#888888')\n",
        "    pc_loadings.plot.bar(ax=ax, color=colors)\n",
        "    ax.set_ylabel(f'PC{i+1}')\n",
        "    ax.set_ylim(-maxPC, maxPC)\n",
        "\n",
        "plt.tight_layout()\n",
        "plt.show()"
      ],
      "metadata": {
        "id": "0gjQlBxix9Fw",
        "colab": {
          "base_uri": "https://localhost:8080/",
          "height": 369
        },
        "outputId": "4ec895f8-721d-424f-8d21-c07d2ee86c49"
      },
      "execution_count": 18,
      "outputs": [
        {
          "output_type": "display_data",
          "data": {
            "image/png": "[encoded data removed]",
            "text/plain": [
              "<Figure size 360x360 with 5 Axes>"
            ]
          },
          "metadata": {
            "needs_background": "light"
          }
        }
      ]
    },
    {
      "cell_type": "markdown",
      "source": [
        "### **7.1.4 Correspondence Analysis**"
      ],
      "metadata": {
        "id": "hQjD3cTGx9-z"
      }
    },
    {
      "cell_type": "code",
      "source": [
        "housetasks = pd.read_csv(HOUSE_TASKS_CSV, index_col=0)\n",
        "\n",
        "ca = prince.CA(n_components=2)\n",
        "ca = ca.fit(housetasks)\n",
        "\n",
        "ca.plot_coordinates(housetasks, figsize=(6, 6))\n",
        "plt.tight_layout()\n",
        "plt.show()"
      ],
      "metadata": {
        "id": "7OyIGSqFyPVL",
        "colab": {
          "base_uri": "https://localhost:8080/",
          "height": 441
        },
        "outputId": "12092bac-f712-4239-8b22-53a6d99e38c6"
      },
      "execution_count": 19,
      "outputs": [
        {
          "output_type": "display_data",
          "data": {
            "image/png": "[encoded data removed]",
            "text/plain": [
              "<Figure size 432x432 with 1 Axes>"
            ]
          },
          "metadata": {
            "needs_background": "light"
          }
        }
      ]
    },
    {
      "cell_type": "markdown",
      "source": [
        "https://oreil.ly/yVryf"
      ],
      "metadata": {
        "id": "36gVmTsyDcgi"
      }
    },
    {
      "cell_type": "markdown",
      "source": [
        "## **7.2 K-Means Clustering**\n",
        "### **7.2.1 A Simple Example**"
      ],
      "metadata": {
        "id": "H1PuHvKJyUK4"
      }
    },
    {
      "cell_type": "code",
      "source": [
        "df = sp500_px.loc[sp500_px.index >= '2011-01-01', ['XOM', 'CVX']]\n",
        "kmeans = KMeans(n_clusters=4).fit(df)\n",
        "df['cluster'] = kmeans.labels_\n",
        "print(df.head())"
      ],
      "metadata": {
        "id": "epyzkVsMybpN"
      },
      "execution_count": null,
      "outputs": []
    },
    {
      "cell_type": "code",
      "source": [
        "centers = pd.DataFrame(kmeans.cluster_centers_, columns=['XOM', 'CVX'])\n",
        "print(centers)"
      ],
      "metadata": {
        "id": "LQBZxa02ycvV"
      },
      "execution_count": null,
      "outputs": []
    },
    {
      "cell_type": "code",
      "source": [
        "fig, ax = plt.subplots(figsize=(4, 4))\n",
        "ax = sns.scatterplot(x='XOM', y='CVX', hue='cluster', style='cluster', \n",
        "                     ax=ax, data=df)\n",
        "ax.set_xlim(-3, 3)\n",
        "ax.set_ylim(-3, 3)\n",
        "centers.plot.scatter(x='XOM', y='CVX', ax=ax, s=50, color='black')\n",
        "\n",
        "plt.tight_layout()\n",
        "plt.show()"
      ],
      "metadata": {
        "id": "65Lt2mPdygf7"
      },
      "execution_count": null,
      "outputs": []
    },
    {
      "cell_type": "markdown",
      "source": [
        "### **7.2.2 K-Means Algorithm**\n",
        "The _scikit-learn_ algorithm is repeated 10 times by default (`n_init`), `max_iter` is used to control the number of iterations."
      ],
      "metadata": {
        "id": "4I9l9OM5ymat"
      }
    },
    {
      "cell_type": "code",
      "source": [
        "syms = sorted(['AAPL', 'MSFT', 'CSCO', 'INTC', 'CVX', 'XOM', 'SLB', 'COP', \n",
        "               'JPM', 'WFC', 'USB', 'AXP', 'WMT', 'TGT', 'HD', 'COST'])\n",
        "top_sp = sp500_px.loc[sp500_px.index >= '2011-01-01', syms]\n",
        "kmeans = KMeans(n_clusters=5).fit(top_sp)"
      ],
      "metadata": {
        "id": "ZQ6UkXF-y7ry"
      },
      "execution_count": null,
      "outputs": []
    },
    {
      "cell_type": "markdown",
      "source": [
        "### **7.2.3 Interpreting the Clusters**"
      ],
      "metadata": {
        "id": "a5P8BqiFzAAm"
      }
    },
    {
      "cell_type": "code",
      "source": [
        "from collections import Counter\n",
        "print(Counter(kmeans.labels_))"
      ],
      "metadata": {
        "id": "0xhlDVEFy_d1"
      },
      "execution_count": null,
      "outputs": []
    },
    {
      "cell_type": "code",
      "source": [
        "centers = pd.DataFrame(kmeans.cluster_centers_, columns=syms)\n",
        "\n",
        "f, axes = plt.subplots(5, 1, figsize=(5, 6), sharex=True)\n",
        "for i, ax in enumerate(axes):\n",
        "    center = centers.loc[i, :]\n",
        "    maxPC = 1.01 * np.max(np.max(np.abs(center)))\n",
        "    colors = ['C0' if l > 0 else 'C1' for l in center]\n",
        "    ax.axhline(color='#888888')\n",
        "    center.plot.bar(ax=ax, color=colors)\n",
        "    ax.set_ylabel(f'Cluster {i + 1}')\n",
        "    ax.set_ylim(-maxPC, maxPC)\n",
        "\n",
        "plt.tight_layout()\n",
        "plt.show()"
      ],
      "metadata": {
        "id": "s6NdFzJwzHVv"
      },
      "execution_count": null,
      "outputs": []
    },
    {
      "cell_type": "markdown",
      "source": [
        "### **7.2.4 Selecting the Number of Clusters**"
      ],
      "metadata": {
        "id": "y1wSNQVIzOQM"
      }
    },
    {
      "cell_type": "code",
      "source": [
        "inertia = []\n",
        "for n_clusters in range(2, 15):\n",
        "    kmeans = KMeans(n_clusters=n_clusters, random_state=0).fit(top_sp)\n",
        "    inertia.append(kmeans.inertia_ / n_clusters)\n",
        "inertias = pd.DataFrame({'n_clusters': range(2, 15), 'inertia': inertia})\n",
        "ax = inertias.plot(x='n_clusters', y='inertia')\n",
        "plt.xlabel('Number of clusters(k)')\n",
        "plt.ylabel('Average Within-Cluster Squared Distances')\n",
        "plt.ylim((0, 1.1 * inertias.inertia.max()))\n",
        "ax.legend().set_visible(False)\n",
        "\n",
        "plt.tight_layout()\n",
        "plt.show()"
      ],
      "metadata": {
        "id": "64wfxIq1zTYZ"
      },
      "execution_count": null,
      "outputs": []
    },
    {
      "cell_type": "markdown",
      "source": [
        "## **7.3 Hierarchical Clustering**\n",
        "### **7.3.1 A Simple Example**"
      ],
      "metadata": {
        "id": "V_ViLwoPzVmu"
      }
    },
    {
      "cell_type": "code",
      "source": [
        "syms1 = ['AAPL', 'AMZN', 'AXP', 'COP', 'COST', 'CSCO', 'CVX', 'GOOGL', 'HD', \n",
        "         'INTC', 'JPM', 'MSFT', 'SLB', 'TGT', 'USB', 'WFC', 'WMT', 'XOM']\n",
        "df = sp500_px.loc[sp500_px.index >= '2011-01-01', syms1].transpose()\n",
        "\n",
        "Z = linkage(df, method='complete')\n",
        "print(Z.shape)"
      ],
      "metadata": {
        "id": "3o7oLzLizgPz"
      },
      "execution_count": null,
      "outputs": []
    },
    {
      "cell_type": "markdown",
      "source": [
        "### **7.3.2 The Dendrogram**"
      ],
      "metadata": {
        "id": "hEBGV3vUzkhf"
      }
    },
    {
      "cell_type": "code",
      "source": [
        "fig, ax = plt.subplots(figsize=(5, 5))\n",
        "dendrogram(Z, labels=list(df.index), color_threshold=0)\n",
        "plt.xticks(rotation=90)\n",
        "ax.set_ylabel('distance')\n",
        "\n",
        "plt.tight_layout()\n",
        "plt.show()"
      ],
      "metadata": {
        "id": "nUx1NDcbzsTy"
      },
      "execution_count": null,
      "outputs": []
    },
    {
      "cell_type": "code",
      "source": [
        "memb = fcluster(Z, 4, criterion='maxclust')\n",
        "memb = pd.Series(memb, index=df.index)\n",
        "for key, item in memb.groupby(memb):\n",
        "    print(f\"{key} : {', '.join(item.index)}\")"
      ],
      "metadata": {
        "id": "PHOUiGT6zwwU"
      },
      "execution_count": null,
      "outputs": []
    },
    {
      "cell_type": "markdown",
      "source": [
        "### **7.3.4 Measures of Dissimilarity**"
      ],
      "metadata": {
        "id": "B4U1o1I6zxji"
      }
    },
    {
      "cell_type": "code",
      "source": [
        "df = sp500_px.loc[sp500_px.index >= '2011-01-01', ['XOM', 'CVX']]\n",
        "fig, axes = plt.subplots(nrows=2, ncols=2, figsize=(5, 5))\n",
        "for i, method in enumerate(['single', 'average', 'complete', 'ward']):\n",
        "    ax = axes[i // 2, i % 2]\n",
        "    Z = linkage(df, method=method)\n",
        "    colors = [f'C{c+1}' for c in fcluster(Z, 4, criterion='maxclust')]\n",
        "    ax = sns.scatterplot(x='XOM', y='CVX', hue=colors, style=colors,\n",
        "                         size=0.5, ax=ax, data=df, legend=False)\n",
        "\n",
        "    ax.set_xlim(-3, 3)\n",
        "    ax.set_ylim(-3, 3)\n",
        "    ax.set_title(method)\n",
        "\n",
        "plt.tight_layout()\n",
        "plt.show()"
      ],
      "metadata": {
        "id": "7xRpjDhez6KG"
      },
      "execution_count": null,
      "outputs": []
    },
    {
      "cell_type": "markdown",
      "source": [
        "## **7.4 Model based clustering**\n",
        "### **7.4.1 Multivariate Normal Distribution**\n",
        "Define a colormap that corresponds to the probability levels."
      ],
      "metadata": {
        "id": "VlCec4Q0z94g"
      }
    },
    {
      "cell_type": "code",
      "source": [
        "mean = [0.5, -0.5]\n",
        "cov = [[1, 1], [1, 2]]\n",
        "probability = [.5, .75, .95, .99]\n",
        "def probLevel(p):\n",
        "    D = 1\n",
        "    return (1 - p) / (2 * math.pi * D)\n",
        "levels = [probLevel(p) for p in probability]\n",
        "\n",
        "fig, ax = plt.subplots(figsize=(5, 5))\n",
        "\n",
        "x, y = np.mgrid[-2.8:3.8:.01, -5:4:.01]\n",
        "pos = np.empty(x.shape + (2,))\n",
        "pos[:, :, 0] = x; pos[:, :, 1] = y\n",
        "rv = multivariate_normal(mean, cov)\n",
        "\n",
        "\n",
        "CS = ax.contourf(x, y, rv.pdf(pos), cmap=cm.GnBu, levels=50)\n",
        "ax.contour(CS, levels=levels, colors=['black'])\n",
        "ax.plot(*mean, color='black', marker='o')\n",
        "\n",
        "\n",
        "plt.tight_layout()\n",
        "plt.show()"
      ],
      "metadata": {
        "id": "K8NQvaiR0S_-"
      },
      "execution_count": null,
      "outputs": []
    },
    {
      "cell_type": "markdown",
      "source": [
        "### **7.4.2 Mixtures of Normals**"
      ],
      "metadata": {
        "id": "RlW5mkt60Y64"
      }
    },
    {
      "cell_type": "code",
      "source": [
        "df = sp500_px.loc[sp500_px.index >= '2011-01-01', ['XOM', 'CVX']]\n",
        "mclust = GaussianMixture(n_components=2).fit(df)\n",
        "print(mclust.bic(df))"
      ],
      "metadata": {
        "id": "KNWB_s7_0dJW"
      },
      "execution_count": null,
      "outputs": []
    },
    {
      "cell_type": "code",
      "source": [
        "fig, ax = plt.subplots(figsize=(4, 4))\n",
        "colors = [f'C{c}' for c in mclust.predict(df)]\n",
        "df.plot.scatter(x='XOM', y='CVX', c=colors, alpha=0.5, ax=ax)\n",
        "ax.set_xlim(-3, 3)\n",
        "ax.set_ylim(-3, 3)\n",
        "\n",
        "plt.tight_layout()\n",
        "plt.show()"
      ],
      "metadata": {
        "id": "I_rRVxjb0fu8"
      },
      "execution_count": null,
      "outputs": []
    },
    {
      "cell_type": "code",
      "source": [
        "print('Mean')\n",
        "print(mclust.means_)\n",
        "print('Covariances')\n",
        "print(mclust.covariances_)"
      ],
      "metadata": {
        "id": "066Nkj670h_y"
      },
      "execution_count": null,
      "outputs": []
    },
    {
      "cell_type": "markdown",
      "source": [
        "### **7.4.3 Selecting the number of clusters**"
      ],
      "metadata": {
        "id": "5vfIlKjr0nUA"
      }
    },
    {
      "cell_type": "code",
      "source": [
        "results = []\n",
        "covariance_types = ['full', 'tied', 'diag', 'spherical']\n",
        "for n_components in range(1, 9):\n",
        "    for covariance_type in covariance_types:\n",
        "        mclust = GaussianMixture(n_components = n_components, warm_start=True,\n",
        "                                 covariance_type = covariance_type)\n",
        "        mclust.fit(df)\n",
        "        results.append({\n",
        "            'bic': mclust.bic(df),\n",
        "            'n_components': n_components,\n",
        "            'covariance_type': covariance_type,\n",
        "        })\n",
        "        \n",
        "results = pd.DataFrame(results)\n",
        "\n",
        "colors = ['C0', 'C1', 'C2', 'C3']\n",
        "styles = ['C0-','C1:','C0-.', 'C1--']\n",
        "\n",
        "fig, ax = plt.subplots(figsize=(4, 4))\n",
        "for i, covariance_type in enumerate(covariance_types):\n",
        "    subset = results.loc[results.covariance_type == covariance_type, :]\n",
        "    subset.plot(x='n_components', y='bic', ax=ax, label=covariance_type, \n",
        "                kind='line', style=styles[i]) # , color=colors[i])\n",
        "\n",
        "plt.tight_layout()\n",
        "plt.show()"
      ],
      "metadata": {
        "id": "DHtrfJF20thS"
      },
      "execution_count": null,
      "outputs": []
    },
    {
      "cell_type": "markdown",
      "source": [
        "## **7.5 Scaling and Categorical Variables**\n",
        "### **7.5.1 Scaling the Variables**"
      ],
      "metadata": {
        "id": "UiAroLJy0wGH"
      }
    },
    {
      "cell_type": "code",
      "source": [
        "loan_data = pd.read_csv(LOAN_DATA_CSV)\n",
        "loan_data['outcome'] = pd.Categorical(loan_data['outcome'], \n",
        "                                      categories=['paid off', 'default'], \n",
        "                                      ordered=True)\n",
        "defaults = loan_data.loc[loan_data['outcome'] == 'default',]\n",
        "\n",
        "columns = ['loan_amnt', 'annual_inc', 'revol_bal', 'open_acc', \n",
        "           'dti', 'revol_util']\n",
        "\n",
        "df = defaults[columns]\n",
        "kmeans = KMeans(n_clusters=4, random_state=1).fit(df)\n",
        "counts = Counter(kmeans.labels_)\n",
        "\n",
        "centers = pd.DataFrame(kmeans.cluster_centers_, columns=columns)\n",
        "centers['size'] = [counts[i] for i in range(4)]\n",
        "print(centers)"
      ],
      "metadata": {
        "id": "_KZ8Zlq61CwI"
      },
      "execution_count": null,
      "outputs": []
    },
    {
      "cell_type": "code",
      "source": [
        "scaler = preprocessing.StandardScaler()\n",
        "df0 = scaler.fit_transform(df * 1.0)\n",
        "\n",
        "kmeans = KMeans(n_clusters=4, random_state=1).fit(df0)\n",
        "counts = Counter(kmeans.labels_)\n",
        "\n",
        "centers = pd.DataFrame(scaler.inverse_transform(kmeans.cluster_centers_), \n",
        "                       columns=columns)\n",
        "centers['size'] = [counts[i] for i in range(4)]\n",
        "print(centers)"
      ],
      "metadata": {
        "id": "JJ2AalTf1E_B"
      },
      "execution_count": null,
      "outputs": []
    },
    {
      "cell_type": "markdown",
      "source": [
        "### **7.5.2 Dominant Variables**"
      ],
      "metadata": {
        "id": "FKXVj3A-1JUc"
      }
    },
    {
      "cell_type": "code",
      "source": [
        "syms = ['GOOGL', 'AMZN', 'AAPL', 'MSFT', 'CSCO', 'INTC', 'CVX', 'XOM', \n",
        "        'SLB', 'COP', 'JPM', 'WFC', 'USB', 'AXP', 'WMT', 'TGT', 'HD', 'COST']\n",
        "top_sp1 = sp500_px.loc[sp500_px.index >= '2005-01-01', syms]\n",
        "\n",
        "sp_pca1 = PCA()\n",
        "sp_pca1.fit(top_sp1)\n",
        "\n",
        "explained_variance = pd.DataFrame(sp_pca1.explained_variance_)\n",
        "ax = explained_variance.head(10).plot.bar(legend=False, figsize=(4, 4))\n",
        "ax.set_xlabel('Component')\n",
        "\n",
        "plt.tight_layout()\n",
        "plt.show()"
      ],
      "metadata": {
        "id": "y-RzI4ra1RVS"
      },
      "execution_count": null,
      "outputs": []
    },
    {
      "cell_type": "code",
      "source": [
        "loadings = pd.DataFrame(sp_pca1.components_[0:2, :], \n",
        "                        columns=top_sp1.columns)\n",
        "print(loadings.transpose())"
      ],
      "metadata": {
        "id": "t77ylVqW1XV1"
      },
      "execution_count": null,
      "outputs": []
    },
    {
      "cell_type": "markdown",
      "source": [
        "### **7.5.3 Categorical Data and Gower's Distance**\n",
        "Currently not available in any of the standard packages. However work is in progress to add it to scikit-learn. We will update this notebook once it becomes available.  \n",
        "https://github.com/scikit-learn/scikit-learn/pull/9555/"
      ],
      "metadata": {
        "id": "yqeXcLQN1Ymo"
      }
    },
    {
      "cell_type": "code",
      "source": [
        "x = defaults[['dti', 'payment_inc_ratio', 'home_', 'purpose_']].loc[0:4, :]\n",
        "print(x)"
      ],
      "metadata": {
        "id": "ci-9auUe1slj"
      },
      "execution_count": null,
      "outputs": []
    },
    {
      "cell_type": "markdown",
      "source": [
        "```\n",
        "###############################################################\n",
        "## Figure 7-13: Categorical data and Gower's distance\n",
        "\n",
        "x <- loan_data[1:5, c('dti', 'payment_inc_ratio', 'home_', 'purpose_')]\n",
        "x\n",
        "\n",
        "daisy(x, metric='gower')\n",
        "\n",
        "set.seed(301)\n",
        "df <- loan_data[sample(nrow(loan_data), 250),\n",
        "                c('dti', 'payment_inc_ratio', 'home_', 'purpose_')]\n",
        "d = daisy(df, metric='gower')\n",
        "hcl <- hclust(d)\n",
        "dnd <- as.dendrogram(hcl)\n",
        "\n",
        "png(filename=file.path(PSDS_PATH, 'figures', 'psds_0713.png'), width = 4, height=4, units='in', res=300)\n",
        "par(mar=c(0,5,0,0)+.1)\n",
        "plot(dnd, leaflab='none', ylab='distance')\n",
        "dev.off()\n",
        "\n",
        "dnd_cut <- cut(dnd, h=.5)\n",
        "df[labels(dnd_cut$lower[[1]]),]\n",
        "\n",
        "\n",
        "## Problems in clustering with mixed data types\n",
        "df <- model.matrix(~ -1 + dti + payment_inc_ratio + home_ + pub_rec_zero, data=defaults)\n",
        "df0 <- scale(df)\n",
        "km0 <- kmeans(df0, centers=4, nstart=10)\n",
        "centers0 <- scale(km0$centers, center=FALSE, scale=1/attr(df0, 'scaled:scale'))\n",
        "round(scale(centers0, center=-attr(df0, 'scaled:center'), scale=FALSE), 2)\n",
        "```"
      ],
      "metadata": {
        "id": "k7Oi0tp11zRo"
      }
    },
    {
      "cell_type": "markdown",
      "source": [
        "### **7.5.4 Problems with Clustering Mixed Data**"
      ],
      "metadata": {
        "id": "Wnm2TDNM2W8z"
      }
    },
    {
      "cell_type": "code",
      "source": [
        "columns = ['dti', 'payment_inc_ratio', 'home_', 'pub_rec_zero']\n",
        "df = pd.get_dummies(defaults[columns])\n",
        "\n",
        "scaler = preprocessing.StandardScaler()\n",
        "\n",
        "df0 = scaler.fit_transform(df * 1.0)\n",
        "kmeans = KMeans(n_clusters=4, random_state=1).fit(df0)\n",
        "centers = pd.DataFrame(scaler.inverse_transform(kmeans.cluster_centers_), \n",
        "                       columns=df.columns)\n",
        "print(centers)"
      ],
      "metadata": {
        "id": "WB1b3pEQuAWs"
      },
      "execution_count": null,
      "outputs": []
    }
  ]
}