{
  "nbformat": 4,
  "nbformat_minor": 0,
  "metadata": {
    "colab": {
      "name": "Chapter 5 - Classification.ipynb",
      "provenance": [],
      "collapsed_sections": [],
      "authorship_tag": "ABX9TyNiJDYJ/zIge8KZiitVTCgP",
      "include_colab_link": true
    },
    "kernelspec": {
      "name": "python3",
      "display_name": "Python 3"
    },
    "language_info": {
      "name": "python"
    }
  },
  "cells": [
    {
      "cell_type": "markdown",
      "metadata": {
        "id": "view-in-github",
        "colab_type": "text"
      },
      "source": [
        "<a href=\"https://colab.research.google.com/github/young-hwanlee/my-practical-statistics-for-data-scientists/blob/main/Chapter_5_Classification.ipynb\" target=\"_parent\"><img src=\"https://colab.research.google.com/assets/colab-badge.svg\" alt=\"Open In Colab\"/></a>"
      ]
    },
    {
      "cell_type": "code",
      "metadata": {
        "id": "Dt2F5iCBulij"
      },
      "source": [
        "# # Clone the repository\n",
        "# !git clone https://github.com/young-hwanlee/practical-statistics-for-data-scientists.git\n",
        "\n",
        "# # Open the file from the list of contents (File)\n",
        "# # Then, copy and paste it"
      ],
      "execution_count": 1,
      "outputs": []
    },
    {
      "cell_type": "markdown",
      "source": [
        "## Practical Statistics for Data Scientists (Python)\n",
        "## Chapter 5. Classification\n",
        "> (c) 2019 Peter C. Bruce, Andrew Bruce, Peter Gedeck"
      ],
      "metadata": {
        "id": "yMaxJCFIqw3J"
      }
    },
    {
      "cell_type": "code",
      "source": [
        "!pip install pygam"
      ],
      "metadata": {
        "colab": {
          "base_uri": "https://localhost:8080/"
        },
        "id": "8QimKIlysL1b",
        "outputId": "e196f5d0-f416-47fd-831e-d082183b841e"
      },
      "execution_count": 2,
      "outputs": [
        {
          "output_type": "stream",
          "name": "stdout",
          "text": [
            "Collecting pygam\n",
            "  Downloading pygam-0.8.0-py2.py3-none-any.whl (1.8 MB)\n",
            "\u001b[K     |████████████████████████████████| 1.8 MB 5.2 MB/s \n",
            "\u001b[?25hRequirement already satisfied: numpy in /usr/local/lib/python3.7/dist-packages (from pygam) (1.19.5)\n",
            "Requirement already satisfied: progressbar2 in /usr/local/lib/python3.7/dist-packages (from pygam) (3.38.0)\n",
            "Requirement already satisfied: scipy in /usr/local/lib/python3.7/dist-packages (from pygam) (1.4.1)\n",
            "Requirement already satisfied: future in /usr/local/lib/python3.7/dist-packages (from pygam) (0.16.0)\n",
            "Requirement already satisfied: six in /usr/local/lib/python3.7/dist-packages (from progressbar2->pygam) (1.15.0)\n",
            "Requirement already satisfied: python-utils>=2.3.0 in /usr/local/lib/python3.7/dist-packages (from progressbar2->pygam) (3.1.0)\n",
            "Installing collected packages: pygam\n",
            "Successfully installed pygam-0.8.0\n"
          ]
        }
      ]
    },
    {
      "cell_type": "code",
      "source": [
        "!pip install dmba"
      ],
      "metadata": {
        "colab": {
          "base_uri": "https://localhost:8080/"
        },
        "id": "RjBEFucasSJs",
        "outputId": "8f4eb83b-d528-4e9b-abeb-b75771db9631"
      },
      "execution_count": 3,
      "outputs": [
        {
          "output_type": "stream",
          "name": "stdout",
          "text": [
            "Collecting dmba\n",
            "  Downloading dmba-0.0.19-py3-none-any.whl (11.8 MB)\n",
            "\u001b[K     |████████████████████████████████| 11.8 MB 5.1 MB/s \n",
            "\u001b[?25hInstalling collected packages: dmba\n",
            "Successfully installed dmba-0.0.19\n"
          ]
        }
      ]
    },
    {
      "cell_type": "markdown",
      "source": [
        "Import required Python packages."
      ],
      "metadata": {
        "id": "0jmZ66YCrEyN"
      }
    },
    {
      "cell_type": "code",
      "source": [
        "from pathlib import Path\n",
        "import pandas as pd\n",
        "import numpy as np\n",
        "\n",
        "from sklearn.naive_bayes import MultinomialNB\n",
        "from sklearn.discriminant_analysis import LinearDiscriminantAnalysis\n",
        "from sklearn.linear_model import LogisticRegression #, LogisticRegressionCV\n",
        "from sklearn.tree import DecisionTreeClassifier\n",
        "from sklearn.metrics import confusion_matrix, precision_recall_fscore_support\n",
        "from sklearn.metrics import roc_curve, accuracy_score, roc_auc_score\n",
        "\n",
        "import statsmodels.api as sm\n",
        "\n",
        "from imblearn.over_sampling import SMOTE, ADASYN, BorderlineSMOTE\n",
        "from pygam import LinearGAM, s, f, l\n",
        "\n",
        "\n",
        "from dmba import classificationSummary\n",
        "\n",
        "import seaborn as sns\n",
        "import matplotlib.pyplot as plt\n",
        "\n",
        "%matplotlib inline"
      ],
      "metadata": {
        "colab": {
          "base_uri": "https://localhost:8080/"
        },
        "id": "UndhZjX9rMWf",
        "outputId": "0f3c621c-39f6-4435-8135-ddc8cf3cb44b"
      },
      "execution_count": 4,
      "outputs": [
        {
          "output_type": "stream",
          "name": "stderr",
          "text": [
            "/usr/local/lib/python3.7/dist-packages/statsmodels/tools/_testing.py:19: FutureWarning: pandas.util.testing is deprecated. Use the functions in the public API at pandas.testing instead.\n",
            "  import pandas.util.testing as tm\n"
          ]
        },
        {
          "output_type": "stream",
          "name": "stdout",
          "text": [
            "no display found. Using non-interactive Agg backend\n"
          ]
        }
      ]
    },
    {
      "cell_type": "code",
      "source": [
        "# try:\n",
        "#     import common\n",
        "#     DATA = common.dataDirectory()\n",
        "# except ImportError:\n",
        "#     DATA = Path().resolve() / 'data'"
      ],
      "metadata": {
        "id": "qfqmIU2ErSIY"
      },
      "execution_count": 5,
      "outputs": []
    },
    {
      "cell_type": "markdown",
      "source": [
        "Define paths to data sets. If you don't keep your data in the same directory as the code, adapt the path names."
      ],
      "metadata": {
        "id": "_PyLZ9IMraEX"
      }
    },
    {
      "cell_type": "code",
      "source": [
        "# LOAN3000_CSV = DATA / 'loan3000.csv'\n",
        "# LOAN_DATA_CSV = DATA / 'loan_data.csv.gz'\n",
        "# FULL_TRAIN_SET_CSV = DATA / 'full_train_set.csv.gz'\n",
        "\n",
        "DATA = 'https://raw.githubusercontent.com/young-hwanlee/practical-statistics-for-data-scientists/master/data/'\n",
        "\n",
        "LOAN3000_CSV = DATA + 'loan3000.csv'\n",
        "LOAN_DATA_CSV = DATA + 'loan_data.csv.gz'\n",
        "FULL_TRAIN_SET_CSV = DATA + 'full_train_set.csv.gz'"
      ],
      "metadata": {
        "id": "cq-m6WLRrcXZ"
      },
      "execution_count": 6,
      "outputs": []
    },
    {
      "cell_type": "markdown",
      "source": [
        "# **5.1 Naive Bayes**\n",
        "## **5.1.2 The Naive Solution**\n"
      ],
      "metadata": {
        "id": "_v3XsYcirfWD"
      }
    },
    {
      "cell_type": "code",
      "source": [
        "loan_data = pd.read_csv(LOAN_DATA_CSV)"
      ],
      "metadata": {
        "id": "Na47XLfivOTD"
      },
      "execution_count": 7,
      "outputs": []
    },
    {
      "cell_type": "code",
      "source": [
        "loan_data.head()"
      ],
      "metadata": {
        "colab": {
          "base_uri": "https://localhost:8080/",
          "height": 374
        },
        "id": "T-6wgAFcvO5h",
        "outputId": "da7980e2-3215-49f9-a88c-3bbd527dd765"
      },
      "execution_count": 8,
      "outputs": [
        {
          "output_type": "execute_result",
          "data": {
            "text/html": [
              "\n",
              "  <div id=\"df-e311f30c-912b-4f2b-9ad0-6713448f74e2\">\n",
              "    <div class=\"colab-df-container\">\n",
              "      <div>\n",
              "<style scoped>\n",
              "    .dataframe tbody tr th:only-of-type {\n",
              "        vertical-align: middle;\n",
              "    }\n",
              "\n",
              "    .dataframe tbody tr th {\n",
              "        vertical-align: top;\n",
              "    }\n",
              "\n",
              "    .dataframe thead th {\n",
              "        text-align: right;\n",
              "    }\n",
              "</style>\n",
              "<table border=\"1\" class=\"dataframe\">\n",
              "  <thead>\n",
              "    <tr style=\"text-align: right;\">\n",
              "      <th></th>\n",
              "      <th>Unnamed: 0</th>\n",
              "      <th>status</th>\n",
              "      <th>loan_amnt</th>\n",
              "      <th>term</th>\n",
              "      <th>annual_inc</th>\n",
              "      <th>dti</th>\n",
              "      <th>payment_inc_ratio</th>\n",
              "      <th>revol_bal</th>\n",
              "      <th>revol_util</th>\n",
              "      <th>purpose</th>\n",
              "      <th>home_ownership</th>\n",
              "      <th>delinq_2yrs_zero</th>\n",
              "      <th>pub_rec_zero</th>\n",
              "      <th>open_acc</th>\n",
              "      <th>grade</th>\n",
              "      <th>outcome</th>\n",
              "      <th>emp_length</th>\n",
              "      <th>purpose_</th>\n",
              "      <th>home_</th>\n",
              "      <th>emp_len_</th>\n",
              "      <th>borrower_score</th>\n",
              "    </tr>\n",
              "  </thead>\n",
              "  <tbody>\n",
              "    <tr>\n",
              "      <th>0</th>\n",
              "      <td>1</td>\n",
              "      <td>Charged Off</td>\n",
              "      <td>2500</td>\n",
              "      <td>60 months</td>\n",
              "      <td>30000</td>\n",
              "      <td>1.00</td>\n",
              "      <td>2.39320</td>\n",
              "      <td>1687</td>\n",
              "      <td>9.4</td>\n",
              "      <td>car</td>\n",
              "      <td>RENT</td>\n",
              "      <td>1</td>\n",
              "      <td>1</td>\n",
              "      <td>3</td>\n",
              "      <td>4.8</td>\n",
              "      <td>default</td>\n",
              "      <td>1</td>\n",
              "      <td>major_purchase</td>\n",
              "      <td>RENT</td>\n",
              "      <td>&gt; 1 Year</td>\n",
              "      <td>0.65</td>\n",
              "    </tr>\n",
              "    <tr>\n",
              "      <th>1</th>\n",
              "      <td>2</td>\n",
              "      <td>Charged Off</td>\n",
              "      <td>5600</td>\n",
              "      <td>60 months</td>\n",
              "      <td>40000</td>\n",
              "      <td>5.55</td>\n",
              "      <td>4.57170</td>\n",
              "      <td>5210</td>\n",
              "      <td>32.6</td>\n",
              "      <td>small_business</td>\n",
              "      <td>OWN</td>\n",
              "      <td>1</td>\n",
              "      <td>1</td>\n",
              "      <td>11</td>\n",
              "      <td>1.4</td>\n",
              "      <td>default</td>\n",
              "      <td>5</td>\n",
              "      <td>small_business</td>\n",
              "      <td>OWN</td>\n",
              "      <td>&gt; 1 Year</td>\n",
              "      <td>0.80</td>\n",
              "    </tr>\n",
              "    <tr>\n",
              "      <th>2</th>\n",
              "      <td>3</td>\n",
              "      <td>Charged Off</td>\n",
              "      <td>5375</td>\n",
              "      <td>60 months</td>\n",
              "      <td>15000</td>\n",
              "      <td>18.08</td>\n",
              "      <td>9.71600</td>\n",
              "      <td>9279</td>\n",
              "      <td>36.5</td>\n",
              "      <td>other</td>\n",
              "      <td>RENT</td>\n",
              "      <td>1</td>\n",
              "      <td>1</td>\n",
              "      <td>2</td>\n",
              "      <td>6.0</td>\n",
              "      <td>default</td>\n",
              "      <td>1</td>\n",
              "      <td>other</td>\n",
              "      <td>RENT</td>\n",
              "      <td>&gt; 1 Year</td>\n",
              "      <td>0.60</td>\n",
              "    </tr>\n",
              "    <tr>\n",
              "      <th>3</th>\n",
              "      <td>4</td>\n",
              "      <td>Charged Off</td>\n",
              "      <td>9000</td>\n",
              "      <td>36 months</td>\n",
              "      <td>30000</td>\n",
              "      <td>10.08</td>\n",
              "      <td>12.21520</td>\n",
              "      <td>10452</td>\n",
              "      <td>91.7</td>\n",
              "      <td>debt_consolidation</td>\n",
              "      <td>RENT</td>\n",
              "      <td>1</td>\n",
              "      <td>1</td>\n",
              "      <td>4</td>\n",
              "      <td>4.2</td>\n",
              "      <td>default</td>\n",
              "      <td>1</td>\n",
              "      <td>debt_consolidation</td>\n",
              "      <td>RENT</td>\n",
              "      <td>&gt; 1 Year</td>\n",
              "      <td>0.50</td>\n",
              "    </tr>\n",
              "    <tr>\n",
              "      <th>4</th>\n",
              "      <td>5</td>\n",
              "      <td>Charged Off</td>\n",
              "      <td>10000</td>\n",
              "      <td>36 months</td>\n",
              "      <td>100000</td>\n",
              "      <td>7.06</td>\n",
              "      <td>3.90888</td>\n",
              "      <td>11997</td>\n",
              "      <td>55.5</td>\n",
              "      <td>other</td>\n",
              "      <td>RENT</td>\n",
              "      <td>1</td>\n",
              "      <td>1</td>\n",
              "      <td>14</td>\n",
              "      <td>5.4</td>\n",
              "      <td>default</td>\n",
              "      <td>4</td>\n",
              "      <td>other</td>\n",
              "      <td>RENT</td>\n",
              "      <td>&gt; 1 Year</td>\n",
              "      <td>0.55</td>\n",
              "    </tr>\n",
              "  </tbody>\n",
              "</table>\n",
              "</div>\n",
              "      <button class=\"colab-df-convert\" onclick=\"convertToInteractive('df-e311f30c-912b-4f2b-9ad0-6713448f74e2')\"\n",
              "              title=\"Convert this dataframe to an interactive table.\"\n",
              "              style=\"display:none;\">\n",
              "        \n",
              "  <svg xmlns=\"http://www.w3.org/2000/svg\" height=\"24px\"viewBox=\"0 0 24 24\"\n",
              "       width=\"24px\">\n",
              "    <path d=\"M0 0h24v24H0V0z\" fill=\"none\"/>\n",
              "    <path d=\"M18.56 5.44l.94 2.06.94-2.06 2.06-.94-2.06-.94-.94-2.06-.94 2.06-2.06.94zm-11 1L8.5 8.5l.94-2.06 2.06-.94-2.06-.94L8.5 2.5l-.94 2.06-2.06.94zm10 10l.94 2.06.94-2.06 2.06-.94-2.06-.94-.94-2.06-.94 2.06-2.06.94z\"/><path d=\"M17.41 7.96l-1.37-1.37c-.4-.4-.92-.59-1.43-.59-.52 0-1.04.2-1.43.59L10.3 9.45l-7.72 7.72c-.78.78-.78 2.05 0 2.83L4 21.41c.39.39.9.59 1.41.59.51 0 1.02-.2 1.41-.59l7.78-7.78 2.81-2.81c.8-.78.8-2.07 0-2.86zM5.41 20L4 18.59l7.72-7.72 1.47 1.35L5.41 20z\"/>\n",
              "  </svg>\n",
              "      </button>\n",
              "      \n",
              "  <style>\n",
              "    .colab-df-container {\n",
              "      display:flex;\n",
              "      flex-wrap:wrap;\n",
              "      gap: 12px;\n",
              "    }\n",
              "\n",
              "    .colab-df-convert {\n",
              "      background-color: #E8F0FE;\n",
              "      border: none;\n",
              "      border-radius: 50%;\n",
              "      cursor: pointer;\n",
              "      display: none;\n",
              "      fill: #1967D2;\n",
              "      height: 32px;\n",
              "      padding: 0 0 0 0;\n",
              "      width: 32px;\n",
              "    }\n",
              "\n",
              "    .colab-df-convert:hover {\n",
              "      background-color: #E2EBFA;\n",
              "      box-shadow: 0px 1px 2px rgba(60, 64, 67, 0.3), 0px 1px 3px 1px rgba(60, 64, 67, 0.15);\n",
              "      fill: #174EA6;\n",
              "    }\n",
              "\n",
              "    [theme=dark] .colab-df-convert {\n",
              "      background-color: #3B4455;\n",
              "      fill: #D2E3FC;\n",
              "    }\n",
              "\n",
              "    [theme=dark] .colab-df-convert:hover {\n",
              "      background-color: #434B5C;\n",
              "      box-shadow: 0px 1px 3px 1px rgba(0, 0, 0, 0.15);\n",
              "      filter: drop-shadow(0px 1px 2px rgba(0, 0, 0, 0.3));\n",
              "      fill: #FFFFFF;\n",
              "    }\n",
              "  </style>\n",
              "\n",
              "      <script>\n",
              "        const buttonEl =\n",
              "          document.querySelector('#df-e311f30c-912b-4f2b-9ad0-6713448f74e2 button.colab-df-convert');\n",
              "        buttonEl.style.display =\n",
              "          google.colab.kernel.accessAllowed ? 'block' : 'none';\n",
              "\n",
              "        async function convertToInteractive(key) {\n",
              "          const element = document.querySelector('#df-e311f30c-912b-4f2b-9ad0-6713448f74e2');\n",
              "          const dataTable =\n",
              "            await google.colab.kernel.invokeFunction('convertToInteractive',\n",
              "                                                     [key], {});\n",
              "          if (!dataTable) return;\n",
              "\n",
              "          const docLinkHtml = 'Like what you see? Visit the ' +\n",
              "            '<a target=\"_blank\" href=https://colab.research.google.com/notebooks/data_table.ipynb>data table notebook</a>'\n",
              "            + ' to learn more about interactive tables.';\n",
              "          element.innerHTML = '';\n",
              "          dataTable['output_type'] = 'display_data';\n",
              "          await google.colab.output.renderOutput(dataTable, element);\n",
              "          const docLink = document.createElement('div');\n",
              "          docLink.innerHTML = docLinkHtml;\n",
              "          element.appendChild(docLink);\n",
              "        }\n",
              "      </script>\n",
              "    </div>\n",
              "  </div>\n",
              "  "
            ],
            "text/plain": [
              "   Unnamed: 0       status  loan_amnt  ... home_   emp_len_  borrower_score\n",
              "0           1  Charged Off       2500  ...  RENT   > 1 Year            0.65\n",
              "1           2  Charged Off       5600  ...   OWN   > 1 Year            0.80\n",
              "2           3  Charged Off       5375  ...  RENT   > 1 Year            0.60\n",
              "3           4  Charged Off       9000  ...  RENT   > 1 Year            0.50\n",
              "4           5  Charged Off      10000  ...  RENT   > 1 Year            0.55\n",
              "\n",
              "[5 rows x 21 columns]"
            ]
          },
          "metadata": {},
          "execution_count": 8
        }
      ]
    },
    {
      "cell_type": "code",
      "source": [
        "# convert to categorical\n",
        "loan_data.outcome = loan_data.outcome.astype('category')\n",
        "loan_data.outcome.cat.reorder_categories(['paid off', 'default'])\n",
        "\n",
        "loan_data.purpose_ = loan_data.purpose_.astype('category')\n",
        "loan_data.home_ = loan_data.home_.astype('category')\n",
        "loan_data.emp_len_ = loan_data.emp_len_.astype('category')"
      ],
      "metadata": {
        "id": "btXFk6hfxCS4"
      },
      "execution_count": 9,
      "outputs": []
    },
    {
      "cell_type": "code",
      "source": [
        "print(set(loan_data.outcome))\n",
        "print(set(loan_data.purpose_))\n",
        "print(set(loan_data.home_))\n",
        "print(set(loan_data.emp_len_))"
      ],
      "metadata": {
        "colab": {
          "base_uri": "https://localhost:8080/"
        },
        "id": "xYGecAwLxERT",
        "outputId": "a6f7fbbd-5d98-41f9-8bb0-d1e7f69965e7"
      },
      "execution_count": 10,
      "outputs": [
        {
          "output_type": "stream",
          "name": "stdout",
          "text": [
            "{'paid off', 'default'}\n",
            "{'home_improvement', 'medical', 'small_business', 'major_purchase', 'debt_consolidation', 'credit_card', 'other'}\n",
            "{'RENT', 'OWN', 'MORTGAGE'}\n",
            "{' > 1 Year', ' < 1 Year'}\n"
          ]
        }
      ]
    },
    {
      "cell_type": "code",
      "source": [
        "predictors = ['purpose_', 'home_', 'emp_len_']\n",
        "outcome = 'outcome'\n",
        "\n",
        "X = pd.get_dummies(loan_data[predictors], prefix='', prefix_sep='')\n",
        "y = loan_data[outcome]"
      ],
      "metadata": {
        "id": "-vO1k5gA229l"
      },
      "execution_count": 11,
      "outputs": []
    },
    {
      "cell_type": "code",
      "source": [
        "X"
      ],
      "metadata": {
        "colab": {
          "base_uri": "https://localhost:8080/",
          "height": 505
        },
        "id": "gcS9WMrM24dt",
        "outputId": "29b190e1-42fe-4e7d-cfbb-8bcfad86c3c0"
      },
      "execution_count": 12,
      "outputs": [
        {
          "output_type": "execute_result",
          "data": {
            "text/html": [
              "\n",
              "  <div id=\"df-400d47e6-8ecd-455f-9ef1-fc1d69337017\">\n",
              "    <div class=\"colab-df-container\">\n",
              "      <div>\n",
              "<style scoped>\n",
              "    .dataframe tbody tr th:only-of-type {\n",
              "        vertical-align: middle;\n",
              "    }\n",
              "\n",
              "    .dataframe tbody tr th {\n",
              "        vertical-align: top;\n",
              "    }\n",
              "\n",
              "    .dataframe thead th {\n",
              "        text-align: right;\n",
              "    }\n",
              "</style>\n",
              "<table border=\"1\" class=\"dataframe\">\n",
              "  <thead>\n",
              "    <tr style=\"text-align: right;\">\n",
              "      <th></th>\n",
              "      <th>credit_card</th>\n",
              "      <th>debt_consolidation</th>\n",
              "      <th>home_improvement</th>\n",
              "      <th>major_purchase</th>\n",
              "      <th>medical</th>\n",
              "      <th>other</th>\n",
              "      <th>small_business</th>\n",
              "      <th>MORTGAGE</th>\n",
              "      <th>OWN</th>\n",
              "      <th>RENT</th>\n",
              "      <th>&lt; 1 Year</th>\n",
              "      <th>&gt; 1 Year</th>\n",
              "    </tr>\n",
              "  </thead>\n",
              "  <tbody>\n",
              "    <tr>\n",
              "      <th>0</th>\n",
              "      <td>0</td>\n",
              "      <td>0</td>\n",
              "      <td>0</td>\n",
              "      <td>1</td>\n",
              "      <td>0</td>\n",
              "      <td>0</td>\n",
              "      <td>0</td>\n",
              "      <td>0</td>\n",
              "      <td>0</td>\n",
              "      <td>1</td>\n",
              "      <td>0</td>\n",
              "      <td>1</td>\n",
              "    </tr>\n",
              "    <tr>\n",
              "      <th>1</th>\n",
              "      <td>0</td>\n",
              "      <td>0</td>\n",
              "      <td>0</td>\n",
              "      <td>0</td>\n",
              "      <td>0</td>\n",
              "      <td>0</td>\n",
              "      <td>1</td>\n",
              "      <td>0</td>\n",
              "      <td>1</td>\n",
              "      <td>0</td>\n",
              "      <td>0</td>\n",
              "      <td>1</td>\n",
              "    </tr>\n",
              "    <tr>\n",
              "      <th>2</th>\n",
              "      <td>0</td>\n",
              "      <td>0</td>\n",
              "      <td>0</td>\n",
              "      <td>0</td>\n",
              "      <td>0</td>\n",
              "      <td>1</td>\n",
              "      <td>0</td>\n",
              "      <td>0</td>\n",
              "      <td>0</td>\n",
              "      <td>1</td>\n",
              "      <td>0</td>\n",
              "      <td>1</td>\n",
              "    </tr>\n",
              "    <tr>\n",
              "      <th>3</th>\n",
              "      <td>0</td>\n",
              "      <td>1</td>\n",
              "      <td>0</td>\n",
              "      <td>0</td>\n",
              "      <td>0</td>\n",
              "      <td>0</td>\n",
              "      <td>0</td>\n",
              "      <td>0</td>\n",
              "      <td>0</td>\n",
              "      <td>1</td>\n",
              "      <td>0</td>\n",
              "      <td>1</td>\n",
              "    </tr>\n",
              "    <tr>\n",
              "      <th>4</th>\n",
              "      <td>0</td>\n",
              "      <td>0</td>\n",
              "      <td>0</td>\n",
              "      <td>0</td>\n",
              "      <td>0</td>\n",
              "      <td>1</td>\n",
              "      <td>0</td>\n",
              "      <td>0</td>\n",
              "      <td>0</td>\n",
              "      <td>1</td>\n",
              "      <td>0</td>\n",
              "      <td>1</td>\n",
              "    </tr>\n",
              "    <tr>\n",
              "      <th>...</th>\n",
              "      <td>...</td>\n",
              "      <td>...</td>\n",
              "      <td>...</td>\n",
              "      <td>...</td>\n",
              "      <td>...</td>\n",
              "      <td>...</td>\n",
              "      <td>...</td>\n",
              "      <td>...</td>\n",
              "      <td>...</td>\n",
              "      <td>...</td>\n",
              "      <td>...</td>\n",
              "      <td>...</td>\n",
              "    </tr>\n",
              "    <tr>\n",
              "      <th>45337</th>\n",
              "      <td>1</td>\n",
              "      <td>0</td>\n",
              "      <td>0</td>\n",
              "      <td>0</td>\n",
              "      <td>0</td>\n",
              "      <td>0</td>\n",
              "      <td>0</td>\n",
              "      <td>0</td>\n",
              "      <td>0</td>\n",
              "      <td>1</td>\n",
              "      <td>0</td>\n",
              "      <td>1</td>\n",
              "    </tr>\n",
              "    <tr>\n",
              "      <th>45338</th>\n",
              "      <td>0</td>\n",
              "      <td>0</td>\n",
              "      <td>0</td>\n",
              "      <td>0</td>\n",
              "      <td>0</td>\n",
              "      <td>1</td>\n",
              "      <td>0</td>\n",
              "      <td>1</td>\n",
              "      <td>0</td>\n",
              "      <td>0</td>\n",
              "      <td>0</td>\n",
              "      <td>1</td>\n",
              "    </tr>\n",
              "    <tr>\n",
              "      <th>45339</th>\n",
              "      <td>0</td>\n",
              "      <td>1</td>\n",
              "      <td>0</td>\n",
              "      <td>0</td>\n",
              "      <td>0</td>\n",
              "      <td>0</td>\n",
              "      <td>0</td>\n",
              "      <td>1</td>\n",
              "      <td>0</td>\n",
              "      <td>0</td>\n",
              "      <td>0</td>\n",
              "      <td>1</td>\n",
              "    </tr>\n",
              "    <tr>\n",
              "      <th>45340</th>\n",
              "      <td>0</td>\n",
              "      <td>1</td>\n",
              "      <td>0</td>\n",
              "      <td>0</td>\n",
              "      <td>0</td>\n",
              "      <td>0</td>\n",
              "      <td>0</td>\n",
              "      <td>1</td>\n",
              "      <td>0</td>\n",
              "      <td>0</td>\n",
              "      <td>0</td>\n",
              "      <td>1</td>\n",
              "    </tr>\n",
              "    <tr>\n",
              "      <th>45341</th>\n",
              "      <td>0</td>\n",
              "      <td>1</td>\n",
              "      <td>0</td>\n",
              "      <td>0</td>\n",
              "      <td>0</td>\n",
              "      <td>0</td>\n",
              "      <td>0</td>\n",
              "      <td>1</td>\n",
              "      <td>0</td>\n",
              "      <td>0</td>\n",
              "      <td>0</td>\n",
              "      <td>1</td>\n",
              "    </tr>\n",
              "  </tbody>\n",
              "</table>\n",
              "<p>45342 rows × 12 columns</p>\n",
              "</div>\n",
              "      <button class=\"colab-df-convert\" onclick=\"convertToInteractive('df-400d47e6-8ecd-455f-9ef1-fc1d69337017')\"\n",
              "              title=\"Convert this dataframe to an interactive table.\"\n",
              "              style=\"display:none;\">\n",
              "        \n",
              "  <svg xmlns=\"http://www.w3.org/2000/svg\" height=\"24px\"viewBox=\"0 0 24 24\"\n",
              "       width=\"24px\">\n",
              "    <path d=\"M0 0h24v24H0V0z\" fill=\"none\"/>\n",
              "    <path d=\"M18.56 5.44l.94 2.06.94-2.06 2.06-.94-2.06-.94-.94-2.06-.94 2.06-2.06.94zm-11 1L8.5 8.5l.94-2.06 2.06-.94-2.06-.94L8.5 2.5l-.94 2.06-2.06.94zm10 10l.94 2.06.94-2.06 2.06-.94-2.06-.94-.94-2.06-.94 2.06-2.06.94z\"/><path d=\"M17.41 7.96l-1.37-1.37c-.4-.4-.92-.59-1.43-.59-.52 0-1.04.2-1.43.59L10.3 9.45l-7.72 7.72c-.78.78-.78 2.05 0 2.83L4 21.41c.39.39.9.59 1.41.59.51 0 1.02-.2 1.41-.59l7.78-7.78 2.81-2.81c.8-.78.8-2.07 0-2.86zM5.41 20L4 18.59l7.72-7.72 1.47 1.35L5.41 20z\"/>\n",
              "  </svg>\n",
              "      </button>\n",
              "      \n",
              "  <style>\n",
              "    .colab-df-container {\n",
              "      display:flex;\n",
              "      flex-wrap:wrap;\n",
              "      gap: 12px;\n",
              "    }\n",
              "\n",
              "    .colab-df-convert {\n",
              "      background-color: #E8F0FE;\n",
              "      border: none;\n",
              "      border-radius: 50%;\n",
              "      cursor: pointer;\n",
              "      display: none;\n",
              "      fill: #1967D2;\n",
              "      height: 32px;\n",
              "      padding: 0 0 0 0;\n",
              "      width: 32px;\n",
              "    }\n",
              "\n",
              "    .colab-df-convert:hover {\n",
              "      background-color: #E2EBFA;\n",
              "      box-shadow: 0px 1px 2px rgba(60, 64, 67, 0.3), 0px 1px 3px 1px rgba(60, 64, 67, 0.15);\n",
              "      fill: #174EA6;\n",
              "    }\n",
              "\n",
              "    [theme=dark] .colab-df-convert {\n",
              "      background-color: #3B4455;\n",
              "      fill: #D2E3FC;\n",
              "    }\n",
              "\n",
              "    [theme=dark] .colab-df-convert:hover {\n",
              "      background-color: #434B5C;\n",
              "      box-shadow: 0px 1px 3px 1px rgba(0, 0, 0, 0.15);\n",
              "      filter: drop-shadow(0px 1px 2px rgba(0, 0, 0, 0.3));\n",
              "      fill: #FFFFFF;\n",
              "    }\n",
              "  </style>\n",
              "\n",
              "      <script>\n",
              "        const buttonEl =\n",
              "          document.querySelector('#df-400d47e6-8ecd-455f-9ef1-fc1d69337017 button.colab-df-convert');\n",
              "        buttonEl.style.display =\n",
              "          google.colab.kernel.accessAllowed ? 'block' : 'none';\n",
              "\n",
              "        async function convertToInteractive(key) {\n",
              "          const element = document.querySelector('#df-400d47e6-8ecd-455f-9ef1-fc1d69337017');\n",
              "          const dataTable =\n",
              "            await google.colab.kernel.invokeFunction('convertToInteractive',\n",
              "                                                     [key], {});\n",
              "          if (!dataTable) return;\n",
              "\n",
              "          const docLinkHtml = 'Like what you see? Visit the ' +\n",
              "            '<a target=\"_blank\" href=https://colab.research.google.com/notebooks/data_table.ipynb>data table notebook</a>'\n",
              "            + ' to learn more about interactive tables.';\n",
              "          element.innerHTML = '';\n",
              "          dataTable['output_type'] = 'display_data';\n",
              "          await google.colab.output.renderOutput(dataTable, element);\n",
              "          const docLink = document.createElement('div');\n",
              "          docLink.innerHTML = docLinkHtml;\n",
              "          element.appendChild(docLink);\n",
              "        }\n",
              "      </script>\n",
              "    </div>\n",
              "  </div>\n",
              "  "
            ],
            "text/plain": [
              "       credit_card  debt_consolidation  ...   < 1 Year   > 1 Year\n",
              "0                0                   0  ...          0          1\n",
              "1                0                   0  ...          0          1\n",
              "2                0                   0  ...          0          1\n",
              "3                0                   1  ...          0          1\n",
              "4                0                   0  ...          0          1\n",
              "...            ...                 ...  ...        ...        ...\n",
              "45337            1                   0  ...          0          1\n",
              "45338            0                   0  ...          0          1\n",
              "45339            0                   1  ...          0          1\n",
              "45340            0                   1  ...          0          1\n",
              "45341            0                   1  ...          0          1\n",
              "\n",
              "[45342 rows x 12 columns]"
            ]
          },
          "metadata": {},
          "execution_count": 12
        }
      ]
    },
    {
      "cell_type": "code",
      "source": [
        "X.loc[146]"
      ],
      "metadata": {
        "colab": {
          "base_uri": "https://localhost:8080/"
        },
        "id": "y_kvPd6VHoZq",
        "outputId": "cde2808d-fb39-43c9-a5ae-65787f141556"
      },
      "execution_count": 13,
      "outputs": [
        {
          "output_type": "execute_result",
          "data": {
            "text/plain": [
              "credit_card           0\n",
              "debt_consolidation    0\n",
              "home_improvement      0\n",
              "major_purchase        0\n",
              "medical               0\n",
              "other                 0\n",
              "small_business        1\n",
              "MORTGAGE              1\n",
              "OWN                   0\n",
              "RENT                  0\n",
              " < 1 Year             0\n",
              " > 1 Year             1\n",
              "Name: 146, dtype: uint8"
            ]
          },
          "metadata": {},
          "execution_count": 13
        }
      ]
    },
    {
      "cell_type": "code",
      "source": [
        "X.loc[146:146, :]"
      ],
      "metadata": {
        "colab": {
          "base_uri": "https://localhost:8080/",
          "height": 162
        },
        "id": "94qJ3WtWILl9",
        "outputId": "a30c83ee-9efc-4632-86dc-7696a75e75b7"
      },
      "execution_count": 14,
      "outputs": [
        {
          "output_type": "execute_result",
          "data": {
            "text/html": [
              "\n",
              "  <div id=\"df-e0a4dca3-a5ef-47eb-9d7a-4aa6d0bbea6f\">\n",
              "    <div class=\"colab-df-container\">\n",
              "      <div>\n",
              "<style scoped>\n",
              "    .dataframe tbody tr th:only-of-type {\n",
              "        vertical-align: middle;\n",
              "    }\n",
              "\n",
              "    .dataframe tbody tr th {\n",
              "        vertical-align: top;\n",
              "    }\n",
              "\n",
              "    .dataframe thead th {\n",
              "        text-align: right;\n",
              "    }\n",
              "</style>\n",
              "<table border=\"1\" class=\"dataframe\">\n",
              "  <thead>\n",
              "    <tr style=\"text-align: right;\">\n",
              "      <th></th>\n",
              "      <th>credit_card</th>\n",
              "      <th>debt_consolidation</th>\n",
              "      <th>home_improvement</th>\n",
              "      <th>major_purchase</th>\n",
              "      <th>medical</th>\n",
              "      <th>other</th>\n",
              "      <th>small_business</th>\n",
              "      <th>MORTGAGE</th>\n",
              "      <th>OWN</th>\n",
              "      <th>RENT</th>\n",
              "      <th>&lt; 1 Year</th>\n",
              "      <th>&gt; 1 Year</th>\n",
              "    </tr>\n",
              "  </thead>\n",
              "  <tbody>\n",
              "    <tr>\n",
              "      <th>146</th>\n",
              "      <td>0</td>\n",
              "      <td>0</td>\n",
              "      <td>0</td>\n",
              "      <td>0</td>\n",
              "      <td>0</td>\n",
              "      <td>0</td>\n",
              "      <td>1</td>\n",
              "      <td>1</td>\n",
              "      <td>0</td>\n",
              "      <td>0</td>\n",
              "      <td>0</td>\n",
              "      <td>1</td>\n",
              "    </tr>\n",
              "  </tbody>\n",
              "</table>\n",
              "</div>\n",
              "      <button class=\"colab-df-convert\" onclick=\"convertToInteractive('df-e0a4dca3-a5ef-47eb-9d7a-4aa6d0bbea6f')\"\n",
              "              title=\"Convert this dataframe to an interactive table.\"\n",
              "              style=\"display:none;\">\n",
              "        \n",
              "  <svg xmlns=\"http://www.w3.org/2000/svg\" height=\"24px\"viewBox=\"0 0 24 24\"\n",
              "       width=\"24px\">\n",
              "    <path d=\"M0 0h24v24H0V0z\" fill=\"none\"/>\n",
              "    <path d=\"M18.56 5.44l.94 2.06.94-2.06 2.06-.94-2.06-.94-.94-2.06-.94 2.06-2.06.94zm-11 1L8.5 8.5l.94-2.06 2.06-.94-2.06-.94L8.5 2.5l-.94 2.06-2.06.94zm10 10l.94 2.06.94-2.06 2.06-.94-2.06-.94-.94-2.06-.94 2.06-2.06.94z\"/><path d=\"M17.41 7.96l-1.37-1.37c-.4-.4-.92-.59-1.43-.59-.52 0-1.04.2-1.43.59L10.3 9.45l-7.72 7.72c-.78.78-.78 2.05 0 2.83L4 21.41c.39.39.9.59 1.41.59.51 0 1.02-.2 1.41-.59l7.78-7.78 2.81-2.81c.8-.78.8-2.07 0-2.86zM5.41 20L4 18.59l7.72-7.72 1.47 1.35L5.41 20z\"/>\n",
              "  </svg>\n",
              "      </button>\n",
              "      \n",
              "  <style>\n",
              "    .colab-df-container {\n",
              "      display:flex;\n",
              "      flex-wrap:wrap;\n",
              "      gap: 12px;\n",
              "    }\n",
              "\n",
              "    .colab-df-convert {\n",
              "      background-color: #E8F0FE;\n",
              "      border: none;\n",
              "      border-radius: 50%;\n",
              "      cursor: pointer;\n",
              "      display: none;\n",
              "      fill: #1967D2;\n",
              "      height: 32px;\n",
              "      padding: 0 0 0 0;\n",
              "      width: 32px;\n",
              "    }\n",
              "\n",
              "    .colab-df-convert:hover {\n",
              "      background-color: #E2EBFA;\n",
              "      box-shadow: 0px 1px 2px rgba(60, 64, 67, 0.3), 0px 1px 3px 1px rgba(60, 64, 67, 0.15);\n",
              "      fill: #174EA6;\n",
              "    }\n",
              "\n",
              "    [theme=dark] .colab-df-convert {\n",
              "      background-color: #3B4455;\n",
              "      fill: #D2E3FC;\n",
              "    }\n",
              "\n",
              "    [theme=dark] .colab-df-convert:hover {\n",
              "      background-color: #434B5C;\n",
              "      box-shadow: 0px 1px 3px 1px rgba(0, 0, 0, 0.15);\n",
              "      filter: drop-shadow(0px 1px 2px rgba(0, 0, 0, 0.3));\n",
              "      fill: #FFFFFF;\n",
              "    }\n",
              "  </style>\n",
              "\n",
              "      <script>\n",
              "        const buttonEl =\n",
              "          document.querySelector('#df-e0a4dca3-a5ef-47eb-9d7a-4aa6d0bbea6f button.colab-df-convert');\n",
              "        buttonEl.style.display =\n",
              "          google.colab.kernel.accessAllowed ? 'block' : 'none';\n",
              "\n",
              "        async function convertToInteractive(key) {\n",
              "          const element = document.querySelector('#df-e0a4dca3-a5ef-47eb-9d7a-4aa6d0bbea6f');\n",
              "          const dataTable =\n",
              "            await google.colab.kernel.invokeFunction('convertToInteractive',\n",
              "                                                     [key], {});\n",
              "          if (!dataTable) return;\n",
              "\n",
              "          const docLinkHtml = 'Like what you see? Visit the ' +\n",
              "            '<a target=\"_blank\" href=https://colab.research.google.com/notebooks/data_table.ipynb>data table notebook</a>'\n",
              "            + ' to learn more about interactive tables.';\n",
              "          element.innerHTML = '';\n",
              "          dataTable['output_type'] = 'display_data';\n",
              "          await google.colab.output.renderOutput(dataTable, element);\n",
              "          const docLink = document.createElement('div');\n",
              "          docLink.innerHTML = docLinkHtml;\n",
              "          element.appendChild(docLink);\n",
              "        }\n",
              "      </script>\n",
              "    </div>\n",
              "  </div>\n",
              "  "
            ],
            "text/plain": [
              "     credit_card  debt_consolidation  ...   < 1 Year   > 1 Year\n",
              "146            0                   0  ...          0          1\n",
              "\n",
              "[1 rows x 12 columns]"
            ]
          },
          "metadata": {},
          "execution_count": 14
        }
      ]
    },
    {
      "cell_type": "code",
      "source": [
        "naive_model = MultinomialNB(alpha=0.01, fit_prior=True)\n",
        "# naive_model = MultinomialNB(alpha=0, fit_prior=False)\n",
        "naive_model.fit(X, y)\n",
        "\n",
        "new_loan = X.loc[146:146, :]\n",
        "print('predicted class: ', naive_model.predict(new_loan)[0])"
      ],
      "metadata": {
        "colab": {
          "base_uri": "https://localhost:8080/"
        },
        "id": "IFfu6UMd3ddu",
        "outputId": "fd91ff2a-2ed8-4eaa-cebe-e621fb88dbf7"
      },
      "execution_count": 15,
      "outputs": [
        {
          "output_type": "stream",
          "name": "stdout",
          "text": [
            "predicted class:  default\n"
          ]
        }
      ]
    },
    {
      "cell_type": "code",
      "source": [
        "probabilities = pd.DataFrame(naive_model.predict_proba(new_loan),\n",
        "                             columns=naive_model.classes_)\n",
        "print('predicted probabilities',)\n",
        "print(probabilities)"
      ],
      "metadata": {
        "colab": {
          "base_uri": "https://localhost:8080/"
        },
        "id": "g7-EgShVrsg8",
        "outputId": "f16a0a31-f57a-4d9c-f631-4f380beb7a27"
      },
      "execution_count": 16,
      "outputs": [
        {
          "output_type": "stream",
          "name": "stdout",
          "text": [
            "predicted probabilities\n",
            "    default  paid off\n",
            "0  0.653696  0.346304\n"
          ]
        }
      ]
    },
    {
      "cell_type": "code",
      "source": [
        "naive_model.classes_"
      ],
      "metadata": {
        "colab": {
          "base_uri": "https://localhost:8080/"
        },
        "id": "lA3JwMQv-XPv",
        "outputId": "a18b059a-3965-445f-a0b0-c55c83ab30b1"
      },
      "execution_count": 17,
      "outputs": [
        {
          "output_type": "execute_result",
          "data": {
            "text/plain": [
              "array(['default', 'paid off'], dtype='<U8')"
            ]
          },
          "metadata": {},
          "execution_count": 17
        }
      ]
    },
    {
      "cell_type": "code",
      "source": [
        "naive_model.class_count_"
      ],
      "metadata": {
        "colab": {
          "base_uri": "https://localhost:8080/"
        },
        "id": "Yv2aZ0-W3UX_",
        "outputId": "a1d75080-ead5-4888-e7f0-b909d3c38585"
      },
      "execution_count": 18,
      "outputs": [
        {
          "output_type": "execute_result",
          "data": {
            "text/plain": [
              "array([22671., 22671.])"
            ]
          },
          "metadata": {},
          "execution_count": 18
        }
      ]
    },
    {
      "cell_type": "code",
      "source": [
        "print(naive_model.feature_names_in_)\n",
        "print(naive_model.feature_count_)"
      ],
      "metadata": {
        "colab": {
          "base_uri": "https://localhost:8080/"
        },
        "id": "UqsFr4ir129B",
        "outputId": "187ec408-8b18-420d-8589-f25b754336d5"
      },
      "execution_count": 19,
      "outputs": [
        {
          "output_type": "stream",
          "name": "stdout",
          "text": [
            "['credit_card' 'debt_consolidation' 'home_improvement' 'major_purchase'\n",
            " 'medical' 'other' 'small_business' 'MORTGAGE' 'OWN' 'RENT' ' < 1 Year'\n",
            " ' > 1 Year']\n",
            "[[ 3435. 13052.  1356.   845.   325.  2621.  1037.  9779.  1888. 11004.\n",
            "   1072. 21599.]\n",
            " [ 4253. 12518.  1621.  1215.   323.  2265.   476. 11097.  1834.  9740.\n",
            "    704. 21967.]]\n"
          ]
        }
      ]
    },
    {
      "cell_type": "code",
      "source": [
        "print(np.sum(naive_model.feature_count_[0]))\n",
        "print(np.sum(naive_model.feature_count_[1]))"
      ],
      "metadata": {
        "colab": {
          "base_uri": "https://localhost:8080/"
        },
        "id": "GSiHOHCAAL7q",
        "outputId": "06722fcf-34f4-4237-dee4-ef27ac11520b"
      },
      "execution_count": 20,
      "outputs": [
        {
          "output_type": "stream",
          "name": "stdout",
          "text": [
            "68013.0\n",
            "68013.0\n"
          ]
        }
      ]
    },
    {
      "cell_type": "markdown",
      "source": [
        "### **Example not in book**"
      ],
      "metadata": {
        "id": "NhwnxE3vr5uS"
      }
    },
    {
      "cell_type": "markdown",
      "source": [
        "Numerical variables are not supported in scikit-learn. The example would need to demonstrate binning a variable and display the probability distribution of the bins."
      ],
      "metadata": {
        "id": "Jx9IqhYfr_nh"
      }
    },
    {
      "cell_type": "markdown",
      "source": [
        "```\n",
        "## example not in book\n",
        "less_naive <- NaiveBayes(outcome ~ borrower_score + payment_inc_ratio + \n",
        "                           purpose_ + home_ + emp_len_, data = loan_data)\n",
        "less_naive$table[1:2]\n",
        "\n",
        "png(filename=file.path(PSDS_PATH, 'figures', 'psds_naive_bayes.png'),  width = 4, height=3, units='in', res=300)\n",
        "\n",
        "stats <- less_naive$table[[1]]\n",
        "ggplot(data.frame(borrower_score=c(0,1)), aes(borrower_score)) +\n",
        "  stat_function(fun = dnorm, color='blue', linetype=1, \n",
        "                arg=list(mean=stats[1, 1], sd=stats[1, 2])) +\n",
        "  stat_function(fun = dnorm, color='red', linetype=2, \n",
        "                arg=list(mean=stats[2, 1], sd=stats[2, 2])) +\n",
        "  labs(y='probability')\n",
        "dev.off()\n",
        "```"
      ],
      "metadata": {
        "id": "543EAI8ksKj5"
      }
    },
    {
      "cell_type": "markdown",
      "source": [
        "## **5.2 Discriminant Analysis**\n",
        "Both PCA and LDA are linear transformation techniques. However, PCA is an unsupervised while LDA is a supervised dimensionality reduction technique."
      ],
      "metadata": {
        "id": "Umky9-zTsTlt"
      }
    },
    {
      "cell_type": "markdown",
      "source": [
        "### **5.2.3 A Simple Example**"
      ],
      "metadata": {
        "id": "ECO4JxbJOM4l"
      }
    },
    {
      "cell_type": "code",
      "source": [
        "loan3000 = pd.read_csv(LOAN3000_CSV)\n",
        "loan3000.outcome = loan3000.outcome.astype('category')\n",
        "# loan3000.outcome.cat.reorder_categories(['paid off', 'default'])\n",
        "\n",
        "predictors = ['borrower_score', 'payment_inc_ratio']\n",
        "outcome = 'outcome'\n",
        "\n",
        "X = loan3000[predictors]\n",
        "y = loan3000[outcome]\n",
        "\n",
        "loan_lda = LinearDiscriminantAnalysis()\n",
        "loan_lda.fit(X, y)\n",
        "print(pd.DataFrame(loan_lda.scalings_, index=X.columns))"
      ],
      "metadata": {
        "id": "YJhWMDWssGkl",
        "colab": {
          "base_uri": "https://localhost:8080/"
        },
        "outputId": "8f66a1e0-c00a-4662-ebb5-aee8933145fd"
      },
      "execution_count": 21,
      "outputs": [
        {
          "output_type": "stream",
          "name": "stdout",
          "text": [
            "                          0\n",
            "borrower_score     7.175839\n",
            "payment_inc_ratio -0.099676\n"
          ]
        }
      ]
    },
    {
      "cell_type": "code",
      "source": [
        "X"
      ],
      "metadata": {
        "colab": {
          "base_uri": "https://localhost:8080/",
          "height": 423
        },
        "id": "xwnU6fIkQAzr",
        "outputId": "89334268-ea6f-4cfc-f8e1-950ccd0699ea"
      },
      "execution_count": 22,
      "outputs": [
        {
          "output_type": "execute_result",
          "data": {
            "text/html": [
              "\n",
              "  <div id=\"df-780c882e-ccb2-472a-9318-19f6a1cc7872\">\n",
              "    <div class=\"colab-df-container\">\n",
              "      <div>\n",
              "<style scoped>\n",
              "    .dataframe tbody tr th:only-of-type {\n",
              "        vertical-align: middle;\n",
              "    }\n",
              "\n",
              "    .dataframe tbody tr th {\n",
              "        vertical-align: top;\n",
              "    }\n",
              "\n",
              "    .dataframe thead th {\n",
              "        text-align: right;\n",
              "    }\n",
              "</style>\n",
              "<table border=\"1\" class=\"dataframe\">\n",
              "  <thead>\n",
              "    <tr style=\"text-align: right;\">\n",
              "      <th></th>\n",
              "      <th>borrower_score</th>\n",
              "      <th>payment_inc_ratio</th>\n",
              "    </tr>\n",
              "  </thead>\n",
              "  <tbody>\n",
              "    <tr>\n",
              "      <th>0</th>\n",
              "      <td>0.40</td>\n",
              "      <td>5.11135</td>\n",
              "    </tr>\n",
              "    <tr>\n",
              "      <th>1</th>\n",
              "      <td>0.40</td>\n",
              "      <td>5.43165</td>\n",
              "    </tr>\n",
              "    <tr>\n",
              "      <th>2</th>\n",
              "      <td>0.70</td>\n",
              "      <td>9.23003</td>\n",
              "    </tr>\n",
              "    <tr>\n",
              "      <th>3</th>\n",
              "      <td>0.40</td>\n",
              "      <td>2.33482</td>\n",
              "    </tr>\n",
              "    <tr>\n",
              "      <th>4</th>\n",
              "      <td>0.45</td>\n",
              "      <td>12.10320</td>\n",
              "    </tr>\n",
              "    <tr>\n",
              "      <th>...</th>\n",
              "      <td>...</td>\n",
              "      <td>...</td>\n",
              "    </tr>\n",
              "    <tr>\n",
              "      <th>2995</th>\n",
              "      <td>0.50</td>\n",
              "      <td>18.36620</td>\n",
              "    </tr>\n",
              "    <tr>\n",
              "      <th>2996</th>\n",
              "      <td>0.60</td>\n",
              "      <td>1.80421</td>\n",
              "    </tr>\n",
              "    <tr>\n",
              "      <th>2997</th>\n",
              "      <td>0.20</td>\n",
              "      <td>15.42180</td>\n",
              "    </tr>\n",
              "    <tr>\n",
              "      <th>2998</th>\n",
              "      <td>0.45</td>\n",
              "      <td>8.92335</td>\n",
              "    </tr>\n",
              "    <tr>\n",
              "      <th>2999</th>\n",
              "      <td>0.40</td>\n",
              "      <td>12.88190</td>\n",
              "    </tr>\n",
              "  </tbody>\n",
              "</table>\n",
              "<p>3000 rows × 2 columns</p>\n",
              "</div>\n",
              "      <button class=\"colab-df-convert\" onclick=\"convertToInteractive('df-780c882e-ccb2-472a-9318-19f6a1cc7872')\"\n",
              "              title=\"Convert this dataframe to an interactive table.\"\n",
              "              style=\"display:none;\">\n",
              "        \n",
              "  <svg xmlns=\"http://www.w3.org/2000/svg\" height=\"24px\"viewBox=\"0 0 24 24\"\n",
              "       width=\"24px\">\n",
              "    <path d=\"M0 0h24v24H0V0z\" fill=\"none\"/>\n",
              "    <path d=\"M18.56 5.44l.94 2.06.94-2.06 2.06-.94-2.06-.94-.94-2.06-.94 2.06-2.06.94zm-11 1L8.5 8.5l.94-2.06 2.06-.94-2.06-.94L8.5 2.5l-.94 2.06-2.06.94zm10 10l.94 2.06.94-2.06 2.06-.94-2.06-.94-.94-2.06-.94 2.06-2.06.94z\"/><path d=\"M17.41 7.96l-1.37-1.37c-.4-.4-.92-.59-1.43-.59-.52 0-1.04.2-1.43.59L10.3 9.45l-7.72 7.72c-.78.78-.78 2.05 0 2.83L4 21.41c.39.39.9.59 1.41.59.51 0 1.02-.2 1.41-.59l7.78-7.78 2.81-2.81c.8-.78.8-2.07 0-2.86zM5.41 20L4 18.59l7.72-7.72 1.47 1.35L5.41 20z\"/>\n",
              "  </svg>\n",
              "      </button>\n",
              "      \n",
              "  <style>\n",
              "    .colab-df-container {\n",
              "      display:flex;\n",
              "      flex-wrap:wrap;\n",
              "      gap: 12px;\n",
              "    }\n",
              "\n",
              "    .colab-df-convert {\n",
              "      background-color: #E8F0FE;\n",
              "      border: none;\n",
              "      border-radius: 50%;\n",
              "      cursor: pointer;\n",
              "      display: none;\n",
              "      fill: #1967D2;\n",
              "      height: 32px;\n",
              "      padding: 0 0 0 0;\n",
              "      width: 32px;\n",
              "    }\n",
              "\n",
              "    .colab-df-convert:hover {\n",
              "      background-color: #E2EBFA;\n",
              "      box-shadow: 0px 1px 2px rgba(60, 64, 67, 0.3), 0px 1px 3px 1px rgba(60, 64, 67, 0.15);\n",
              "      fill: #174EA6;\n",
              "    }\n",
              "\n",
              "    [theme=dark] .colab-df-convert {\n",
              "      background-color: #3B4455;\n",
              "      fill: #D2E3FC;\n",
              "    }\n",
              "\n",
              "    [theme=dark] .colab-df-convert:hover {\n",
              "      background-color: #434B5C;\n",
              "      box-shadow: 0px 1px 3px 1px rgba(0, 0, 0, 0.15);\n",
              "      filter: drop-shadow(0px 1px 2px rgba(0, 0, 0, 0.3));\n",
              "      fill: #FFFFFF;\n",
              "    }\n",
              "  </style>\n",
              "\n",
              "      <script>\n",
              "        const buttonEl =\n",
              "          document.querySelector('#df-780c882e-ccb2-472a-9318-19f6a1cc7872 button.colab-df-convert');\n",
              "        buttonEl.style.display =\n",
              "          google.colab.kernel.accessAllowed ? 'block' : 'none';\n",
              "\n",
              "        async function convertToInteractive(key) {\n",
              "          const element = document.querySelector('#df-780c882e-ccb2-472a-9318-19f6a1cc7872');\n",
              "          const dataTable =\n",
              "            await google.colab.kernel.invokeFunction('convertToInteractive',\n",
              "                                                     [key], {});\n",
              "          if (!dataTable) return;\n",
              "\n",
              "          const docLinkHtml = 'Like what you see? Visit the ' +\n",
              "            '<a target=\"_blank\" href=https://colab.research.google.com/notebooks/data_table.ipynb>data table notebook</a>'\n",
              "            + ' to learn more about interactive tables.';\n",
              "          element.innerHTML = '';\n",
              "          dataTable['output_type'] = 'display_data';\n",
              "          await google.colab.output.renderOutput(dataTable, element);\n",
              "          const docLink = document.createElement('div');\n",
              "          docLink.innerHTML = docLinkHtml;\n",
              "          element.appendChild(docLink);\n",
              "        }\n",
              "      </script>\n",
              "    </div>\n",
              "  </div>\n",
              "  "
            ],
            "text/plain": [
              "      borrower_score  payment_inc_ratio\n",
              "0               0.40            5.11135\n",
              "1               0.40            5.43165\n",
              "2               0.70            9.23003\n",
              "3               0.40            2.33482\n",
              "4               0.45           12.10320\n",
              "...              ...                ...\n",
              "2995            0.50           18.36620\n",
              "2996            0.60            1.80421\n",
              "2997            0.20           15.42180\n",
              "2998            0.45            8.92335\n",
              "2999            0.40           12.88190\n",
              "\n",
              "[3000 rows x 2 columns]"
            ]
          },
          "metadata": {},
          "execution_count": 22
        }
      ]
    },
    {
      "cell_type": "code",
      "source": [
        "pred = pd.DataFrame(loan_lda.predict_proba(loan3000[predictors]),\n",
        "                    columns=loan_lda.classes_)\n",
        "print(pred.head())"
      ],
      "metadata": {
        "id": "fwbzpJxGssaA",
        "colab": {
          "base_uri": "https://localhost:8080/"
        },
        "outputId": "ff56913e-8664-4456-b494-77406ef94ed4"
      },
      "execution_count": 23,
      "outputs": [
        {
          "output_type": "stream",
          "name": "stdout",
          "text": [
            "    default  paid off\n",
            "0  0.553544  0.446456\n",
            "1  0.558953  0.441047\n",
            "2  0.272696  0.727304\n",
            "3  0.506254  0.493746\n",
            "4  0.609952  0.390048\n"
          ]
        }
      ]
    },
    {
      "cell_type": "markdown",
      "source": [
        "### **Figure 5.1**"
      ],
      "metadata": {
        "id": "uWwtCB95s3wo"
      }
    },
    {
      "cell_type": "code",
      "source": [
        "# Use scalings and center of means to determine decision boundary\n",
        "center = np.mean(loan_lda.means_, axis=0)\n",
        "slope = - loan_lda.scalings_[0] / loan_lda.scalings_[1]\n",
        "intercept = center[1] - center[0] * slope   # y-intercept\n",
        "\n",
        "# slope = - loan_lda.scalings_[1] / loan_lda.scalings_[0]\n",
        "# intercept = center[0] - center[1] * slope   # y-intercept\n",
        "\n",
        "print(center)\n",
        "print(loan_lda.scalings_)\n",
        "print(slope)\n",
        "print(intercept)"
      ],
      "metadata": {
        "colab": {
          "base_uri": "https://localhost:8080/"
        },
        "id": "m5zxmQVsPRtq",
        "outputId": "2f146e31-151a-4021-fa86-1373eb7abf19"
      },
      "execution_count": 24,
      "outputs": [
        {
          "output_type": "stream",
          "name": "stdout",
          "text": [
            "[0.50093515 8.16350619]\n",
            "[[ 7.1758388 ]\n",
            " [-0.09967559]]\n",
            "[71.99193766]\n",
            "[-27.89978562]\n"
          ]
        }
      ]
    },
    {
      "cell_type": "code",
      "source": [
        "loan3000.head()"
      ],
      "metadata": {
        "colab": {
          "base_uri": "https://localhost:8080/",
          "height": 206
        },
        "id": "kDSNZw1TV3vL",
        "outputId": "e14c392c-5099-4f89-fef9-e48766a6907c"
      },
      "execution_count": 26,
      "outputs": [
        {
          "output_type": "execute_result",
          "data": {
            "text/html": [
              "\n",
              "  <div id=\"df-ee5605ea-123d-4054-b6a9-6c627a72d3f3\">\n",
              "    <div class=\"colab-df-container\">\n",
              "      <div>\n",
              "<style scoped>\n",
              "    .dataframe tbody tr th:only-of-type {\n",
              "        vertical-align: middle;\n",
              "    }\n",
              "\n",
              "    .dataframe tbody tr th {\n",
              "        vertical-align: top;\n",
              "    }\n",
              "\n",
              "    .dataframe thead th {\n",
              "        text-align: right;\n",
              "    }\n",
              "</style>\n",
              "<table border=\"1\" class=\"dataframe\">\n",
              "  <thead>\n",
              "    <tr style=\"text-align: right;\">\n",
              "      <th></th>\n",
              "      <th>Unnamed: 0</th>\n",
              "      <th>outcome</th>\n",
              "      <th>purpose_</th>\n",
              "      <th>dti</th>\n",
              "      <th>borrower_score</th>\n",
              "      <th>payment_inc_ratio</th>\n",
              "    </tr>\n",
              "  </thead>\n",
              "  <tbody>\n",
              "    <tr>\n",
              "      <th>0</th>\n",
              "      <td>32109</td>\n",
              "      <td>paid off</td>\n",
              "      <td>debt_consolidation</td>\n",
              "      <td>21.23</td>\n",
              "      <td>0.40</td>\n",
              "      <td>5.11135</td>\n",
              "    </tr>\n",
              "    <tr>\n",
              "      <th>1</th>\n",
              "      <td>16982</td>\n",
              "      <td>default</td>\n",
              "      <td>credit_card</td>\n",
              "      <td>15.49</td>\n",
              "      <td>0.40</td>\n",
              "      <td>5.43165</td>\n",
              "    </tr>\n",
              "    <tr>\n",
              "      <th>2</th>\n",
              "      <td>25335</td>\n",
              "      <td>paid off</td>\n",
              "      <td>debt_consolidation</td>\n",
              "      <td>27.30</td>\n",
              "      <td>0.70</td>\n",
              "      <td>9.23003</td>\n",
              "    </tr>\n",
              "    <tr>\n",
              "      <th>3</th>\n",
              "      <td>34580</td>\n",
              "      <td>paid off</td>\n",
              "      <td>major_purchase</td>\n",
              "      <td>21.11</td>\n",
              "      <td>0.40</td>\n",
              "      <td>2.33482</td>\n",
              "    </tr>\n",
              "    <tr>\n",
              "      <th>4</th>\n",
              "      <td>14424</td>\n",
              "      <td>default</td>\n",
              "      <td>debt_consolidation</td>\n",
              "      <td>16.46</td>\n",
              "      <td>0.45</td>\n",
              "      <td>12.10320</td>\n",
              "    </tr>\n",
              "  </tbody>\n",
              "</table>\n",
              "</div>\n",
              "      <button class=\"colab-df-convert\" onclick=\"convertToInteractive('df-ee5605ea-123d-4054-b6a9-6c627a72d3f3')\"\n",
              "              title=\"Convert this dataframe to an interactive table.\"\n",
              "              style=\"display:none;\">\n",
              "        \n",
              "  <svg xmlns=\"http://www.w3.org/2000/svg\" height=\"24px\"viewBox=\"0 0 24 24\"\n",
              "       width=\"24px\">\n",
              "    <path d=\"M0 0h24v24H0V0z\" fill=\"none\"/>\n",
              "    <path d=\"M18.56 5.44l.94 2.06.94-2.06 2.06-.94-2.06-.94-.94-2.06-.94 2.06-2.06.94zm-11 1L8.5 8.5l.94-2.06 2.06-.94-2.06-.94L8.5 2.5l-.94 2.06-2.06.94zm10 10l.94 2.06.94-2.06 2.06-.94-2.06-.94-.94-2.06-.94 2.06-2.06.94z\"/><path d=\"M17.41 7.96l-1.37-1.37c-.4-.4-.92-.59-1.43-.59-.52 0-1.04.2-1.43.59L10.3 9.45l-7.72 7.72c-.78.78-.78 2.05 0 2.83L4 21.41c.39.39.9.59 1.41.59.51 0 1.02-.2 1.41-.59l7.78-7.78 2.81-2.81c.8-.78.8-2.07 0-2.86zM5.41 20L4 18.59l7.72-7.72 1.47 1.35L5.41 20z\"/>\n",
              "  </svg>\n",
              "      </button>\n",
              "      \n",
              "  <style>\n",
              "    .colab-df-container {\n",
              "      display:flex;\n",
              "      flex-wrap:wrap;\n",
              "      gap: 12px;\n",
              "    }\n",
              "\n",
              "    .colab-df-convert {\n",
              "      background-color: #E8F0FE;\n",
              "      border: none;\n",
              "      border-radius: 50%;\n",
              "      cursor: pointer;\n",
              "      display: none;\n",
              "      fill: #1967D2;\n",
              "      height: 32px;\n",
              "      padding: 0 0 0 0;\n",
              "      width: 32px;\n",
              "    }\n",
              "\n",
              "    .colab-df-convert:hover {\n",
              "      background-color: #E2EBFA;\n",
              "      box-shadow: 0px 1px 2px rgba(60, 64, 67, 0.3), 0px 1px 3px 1px rgba(60, 64, 67, 0.15);\n",
              "      fill: #174EA6;\n",
              "    }\n",
              "\n",
              "    [theme=dark] .colab-df-convert {\n",
              "      background-color: #3B4455;\n",
              "      fill: #D2E3FC;\n",
              "    }\n",
              "\n",
              "    [theme=dark] .colab-df-convert:hover {\n",
              "      background-color: #434B5C;\n",
              "      box-shadow: 0px 1px 3px 1px rgba(0, 0, 0, 0.15);\n",
              "      filter: drop-shadow(0px 1px 2px rgba(0, 0, 0, 0.3));\n",
              "      fill: #FFFFFF;\n",
              "    }\n",
              "  </style>\n",
              "\n",
              "      <script>\n",
              "        const buttonEl =\n",
              "          document.querySelector('#df-ee5605ea-123d-4054-b6a9-6c627a72d3f3 button.colab-df-convert');\n",
              "        buttonEl.style.display =\n",
              "          google.colab.kernel.accessAllowed ? 'block' : 'none';\n",
              "\n",
              "        async function convertToInteractive(key) {\n",
              "          const element = document.querySelector('#df-ee5605ea-123d-4054-b6a9-6c627a72d3f3');\n",
              "          const dataTable =\n",
              "            await google.colab.kernel.invokeFunction('convertToInteractive',\n",
              "                                                     [key], {});\n",
              "          if (!dataTable) return;\n",
              "\n",
              "          const docLinkHtml = 'Like what you see? Visit the ' +\n",
              "            '<a target=\"_blank\" href=https://colab.research.google.com/notebooks/data_table.ipynb>data table notebook</a>'\n",
              "            + ' to learn more about interactive tables.';\n",
              "          element.innerHTML = '';\n",
              "          dataTable['output_type'] = 'display_data';\n",
              "          await google.colab.output.renderOutput(dataTable, element);\n",
              "          const docLink = document.createElement('div');\n",
              "          docLink.innerHTML = docLinkHtml;\n",
              "          element.appendChild(docLink);\n",
              "        }\n",
              "      </script>\n",
              "    </div>\n",
              "  </div>\n",
              "  "
            ],
            "text/plain": [
              "   Unnamed: 0   outcome  ... borrower_score  payment_inc_ratio\n",
              "0       32109  paid off  ...           0.40            5.11135\n",
              "1       16982   default  ...           0.40            5.43165\n",
              "2       25335  paid off  ...           0.70            9.23003\n",
              "3       34580  paid off  ...           0.40            2.33482\n",
              "4       14424   default  ...           0.45           12.10320\n",
              "\n",
              "[5 rows x 6 columns]"
            ]
          },
          "metadata": {},
          "execution_count": 26
        }
      ]
    },
    {
      "cell_type": "code",
      "source": [
        "# payment_inc_ratio for borrower_score of 0 and 20\n",
        "x_0 = (0 - intercept) / slope\n",
        "x_20 = (20 - intercept) / slope\n",
        "\n",
        "lda_df = pd.concat([loan3000, pred['default']], axis=1)\n",
        "lda_df.head()"
      ],
      "metadata": {
        "colab": {
          "base_uri": "https://localhost:8080/",
          "height": 206
        },
        "id": "U5CCF9HIVYDZ",
        "outputId": "b32d94c2-d79c-4e68-d945-339a54513f4f"
      },
      "execution_count": 25,
      "outputs": [
        {
          "output_type": "execute_result",
          "data": {
            "text/html": [
              "\n",
              "  <div id=\"df-664c0f0c-3f5c-48e5-98df-0da762e4af12\">\n",
              "    <div class=\"colab-df-container\">\n",
              "      <div>\n",
              "<style scoped>\n",
              "    .dataframe tbody tr th:only-of-type {\n",
              "        vertical-align: middle;\n",
              "    }\n",
              "\n",
              "    .dataframe tbody tr th {\n",
              "        vertical-align: top;\n",
              "    }\n",
              "\n",
              "    .dataframe thead th {\n",
              "        text-align: right;\n",
              "    }\n",
              "</style>\n",
              "<table border=\"1\" class=\"dataframe\">\n",
              "  <thead>\n",
              "    <tr style=\"text-align: right;\">\n",
              "      <th></th>\n",
              "      <th>Unnamed: 0</th>\n",
              "      <th>outcome</th>\n",
              "      <th>purpose_</th>\n",
              "      <th>dti</th>\n",
              "      <th>borrower_score</th>\n",
              "      <th>payment_inc_ratio</th>\n",
              "      <th>default</th>\n",
              "    </tr>\n",
              "  </thead>\n",
              "  <tbody>\n",
              "    <tr>\n",
              "      <th>0</th>\n",
              "      <td>32109</td>\n",
              "      <td>paid off</td>\n",
              "      <td>debt_consolidation</td>\n",
              "      <td>21.23</td>\n",
              "      <td>0.40</td>\n",
              "      <td>5.11135</td>\n",
              "      <td>0.553544</td>\n",
              "    </tr>\n",
              "    <tr>\n",
              "      <th>1</th>\n",
              "      <td>16982</td>\n",
              "      <td>default</td>\n",
              "      <td>credit_card</td>\n",
              "      <td>15.49</td>\n",
              "      <td>0.40</td>\n",
              "      <td>5.43165</td>\n",
              "      <td>0.558953</td>\n",
              "    </tr>\n",
              "    <tr>\n",
              "      <th>2</th>\n",
              "      <td>25335</td>\n",
              "      <td>paid off</td>\n",
              "      <td>debt_consolidation</td>\n",
              "      <td>27.30</td>\n",
              "      <td>0.70</td>\n",
              "      <td>9.23003</td>\n",
              "      <td>0.272696</td>\n",
              "    </tr>\n",
              "    <tr>\n",
              "      <th>3</th>\n",
              "      <td>34580</td>\n",
              "      <td>paid off</td>\n",
              "      <td>major_purchase</td>\n",
              "      <td>21.11</td>\n",
              "      <td>0.40</td>\n",
              "      <td>2.33482</td>\n",
              "      <td>0.506254</td>\n",
              "    </tr>\n",
              "    <tr>\n",
              "      <th>4</th>\n",
              "      <td>14424</td>\n",
              "      <td>default</td>\n",
              "      <td>debt_consolidation</td>\n",
              "      <td>16.46</td>\n",
              "      <td>0.45</td>\n",
              "      <td>12.10320</td>\n",
              "      <td>0.609952</td>\n",
              "    </tr>\n",
              "  </tbody>\n",
              "</table>\n",
              "</div>\n",
              "      <button class=\"colab-df-convert\" onclick=\"convertToInteractive('df-664c0f0c-3f5c-48e5-98df-0da762e4af12')\"\n",
              "              title=\"Convert this dataframe to an interactive table.\"\n",
              "              style=\"display:none;\">\n",
              "        \n",
              "  <svg xmlns=\"http://www.w3.org/2000/svg\" height=\"24px\"viewBox=\"0 0 24 24\"\n",
              "       width=\"24px\">\n",
              "    <path d=\"M0 0h24v24H0V0z\" fill=\"none\"/>\n",
              "    <path d=\"M18.56 5.44l.94 2.06.94-2.06 2.06-.94-2.06-.94-.94-2.06-.94 2.06-2.06.94zm-11 1L8.5 8.5l.94-2.06 2.06-.94-2.06-.94L8.5 2.5l-.94 2.06-2.06.94zm10 10l.94 2.06.94-2.06 2.06-.94-2.06-.94-.94-2.06-.94 2.06-2.06.94z\"/><path d=\"M17.41 7.96l-1.37-1.37c-.4-.4-.92-.59-1.43-.59-.52 0-1.04.2-1.43.59L10.3 9.45l-7.72 7.72c-.78.78-.78 2.05 0 2.83L4 21.41c.39.39.9.59 1.41.59.51 0 1.02-.2 1.41-.59l7.78-7.78 2.81-2.81c.8-.78.8-2.07 0-2.86zM5.41 20L4 18.59l7.72-7.72 1.47 1.35L5.41 20z\"/>\n",
              "  </svg>\n",
              "      </button>\n",
              "      \n",
              "  <style>\n",
              "    .colab-df-container {\n",
              "      display:flex;\n",
              "      flex-wrap:wrap;\n",
              "      gap: 12px;\n",
              "    }\n",
              "\n",
              "    .colab-df-convert {\n",
              "      background-color: #E8F0FE;\n",
              "      border: none;\n",
              "      border-radius: 50%;\n",
              "      cursor: pointer;\n",
              "      display: none;\n",
              "      fill: #1967D2;\n",
              "      height: 32px;\n",
              "      padding: 0 0 0 0;\n",
              "      width: 32px;\n",
              "    }\n",
              "\n",
              "    .colab-df-convert:hover {\n",
              "      background-color: #E2EBFA;\n",
              "      box-shadow: 0px 1px 2px rgba(60, 64, 67, 0.3), 0px 1px 3px 1px rgba(60, 64, 67, 0.15);\n",
              "      fill: #174EA6;\n",
              "    }\n",
              "\n",
              "    [theme=dark] .colab-df-convert {\n",
              "      background-color: #3B4455;\n",
              "      fill: #D2E3FC;\n",
              "    }\n",
              "\n",
              "    [theme=dark] .colab-df-convert:hover {\n",
              "      background-color: #434B5C;\n",
              "      box-shadow: 0px 1px 3px 1px rgba(0, 0, 0, 0.15);\n",
              "      filter: drop-shadow(0px 1px 2px rgba(0, 0, 0, 0.3));\n",
              "      fill: #FFFFFF;\n",
              "    }\n",
              "  </style>\n",
              "\n",
              "      <script>\n",
              "        const buttonEl =\n",
              "          document.querySelector('#df-664c0f0c-3f5c-48e5-98df-0da762e4af12 button.colab-df-convert');\n",
              "        buttonEl.style.display =\n",
              "          google.colab.kernel.accessAllowed ? 'block' : 'none';\n",
              "\n",
              "        async function convertToInteractive(key) {\n",
              "          const element = document.querySelector('#df-664c0f0c-3f5c-48e5-98df-0da762e4af12');\n",
              "          const dataTable =\n",
              "            await google.colab.kernel.invokeFunction('convertToInteractive',\n",
              "                                                     [key], {});\n",
              "          if (!dataTable) return;\n",
              "\n",
              "          const docLinkHtml = 'Like what you see? Visit the ' +\n",
              "            '<a target=\"_blank\" href=https://colab.research.google.com/notebooks/data_table.ipynb>data table notebook</a>'\n",
              "            + ' to learn more about interactive tables.';\n",
              "          element.innerHTML = '';\n",
              "          dataTable['output_type'] = 'display_data';\n",
              "          await google.colab.output.renderOutput(dataTable, element);\n",
              "          const docLink = document.createElement('div');\n",
              "          docLink.innerHTML = docLinkHtml;\n",
              "          element.appendChild(docLink);\n",
              "        }\n",
              "      </script>\n",
              "    </div>\n",
              "  </div>\n",
              "  "
            ],
            "text/plain": [
              "   Unnamed: 0   outcome  ... payment_inc_ratio   default\n",
              "0       32109  paid off  ...           5.11135  0.553544\n",
              "1       16982   default  ...           5.43165  0.558953\n",
              "2       25335  paid off  ...           9.23003  0.272696\n",
              "3       34580  paid off  ...           2.33482  0.506254\n",
              "4       14424   default  ...          12.10320  0.609952\n",
              "\n",
              "[5 rows x 7 columns]"
            ]
          },
          "metadata": {},
          "execution_count": 25
        }
      ]
    },
    {
      "cell_type": "code",
      "source": [
        "fig, ax = plt.subplots(figsize=(4, 4))\n",
        "g = sns.scatterplot(x='borrower_score', y='payment_inc_ratio',\n",
        "                    hue='default', data=lda_df, \n",
        "                    palette=sns.diverging_palette(240, 10, n=9, as_cmap=True),\n",
        "                    ax=ax, legend=False)\n",
        "\n",
        "ax.set_ylim(0, 20)\n",
        "# ax.set_xlim(0.15, 0.8)\n",
        "ax.set_xlim(0.1, 0.9)\n",
        "ax.plot((x_0, x_20), (0, 20), linewidth=3)\n",
        "ax.plot(*loan_lda.means_.transpose())\n",
        "\n",
        "plt.tight_layout()\n",
        "plt.show()"
      ],
      "metadata": {
        "id": "qWaX4pcXtB5_",
        "colab": {
          "base_uri": "https://localhost:8080/",
          "height": 297
        },
        "outputId": "997cd59b-1630-488e-9196-a7bb1a68c33e"
      },
      "execution_count": 31,
      "outputs": [
        {
          "output_type": "display_data",
          "data": {
            "image/png": "[encoded data removed]",
            "text/plain": [
              "<Figure size 288x288 with 1 Axes>"
            ]
          },
          "metadata": {
            "needs_background": "light"
          }
        }
      ]
    },
    {
      "cell_type": "code",
      "source": [
        "loan_lda.means_"
      ],
      "metadata": {
        "colab": {
          "base_uri": "https://localhost:8080/"
        },
        "id": "oAcs0ZAZY3bQ",
        "outputId": "edf5c5bb-1427-4870-956a-b35ba9b1918e"
      },
      "execution_count": 29,
      "outputs": [
        {
          "output_type": "execute_result",
          "data": {
            "text/plain": [
              "array([[0.46280277, 8.86181347],\n",
              "       [0.53906752, 7.4651989 ]])"
            ]
          },
          "metadata": {},
          "execution_count": 29
        }
      ]
    },
    {
      "cell_type": "code",
      "source": [
        "loan_lda.means_.transpose()"
      ],
      "metadata": {
        "colab": {
          "base_uri": "https://localhost:8080/"
        },
        "id": "ZW1AcG-3YtCl",
        "outputId": "9b2aa0d7-f311-45e1-8666-970e937d37d9"
      },
      "execution_count": 28,
      "outputs": [
        {
          "output_type": "execute_result",
          "data": {
            "text/plain": [
              "array([[0.46280277, 0.53906752],\n",
              "       [8.86181347, 7.4651989 ]])"
            ]
          },
          "metadata": {},
          "execution_count": 28
        }
      ]
    },
    {
      "cell_type": "markdown",
      "source": [
        "## **5.3 Logistic regression**\n",
        "### **5.3.1 Logistic Response Function and Logit**"
      ],
      "metadata": {
        "id": "P0FLTmINs_r6"
      }
    },
    {
      "cell_type": "code",
      "source": [
        "p = np.arange(0.01, 1, 0.01)\n",
        "df = pd.DataFrame({\n",
        "    'p': p,\n",
        "    'logit': np.log(p / (1 - p)),\n",
        "    'odds': p / (1 - p),\n",
        "})\n",
        "\n",
        "fig, ax = plt.subplots(figsize=(3, 3))\n",
        "ax.axhline(0, color='grey', linestyle='--')\n",
        "ax.axvline(0.5, color='grey', linestyle='--')\n",
        "ax.plot(df['p'], df['logit'])\n",
        "ax.set_xlabel('Probability')\n",
        "ax.set_ylabel('logit(p)')\n",
        "\n",
        "plt.tight_layout()\n",
        "plt.show()"
      ],
      "metadata": {
        "id": "IzOxfU5RtT4i",
        "colab": {
          "base_uri": "https://localhost:8080/",
          "height": 225
        },
        "outputId": "74dc1ad0-2a62-4698-e499-97a466794b20"
      },
      "execution_count": 32,
      "outputs": [
        {
          "output_type": "display_data",
          "data": {
            "image/png": "[encoded data removed]",
            "text/plain": [
              "<Figure size 216x216 with 1 Axes>"
            ]
          },
          "metadata": {
            "needs_background": "light"
          }
        }
      ]
    },
    {
      "cell_type": "markdown",
      "source": [
        "### **5.3.2 Logistic Regression and the GLM**"
      ],
      "metadata": {
        "id": "qu-THnqFtXz5"
      }
    },
    {
      "cell_type": "markdown",
      "source": [
        "The package _scikit-learn_ has a specialised class for `LogisticRegression`. _Statsmodels_ has a more general method based on generalized linear model (GLM)."
      ],
      "metadata": {
        "id": "mpQCQZ8ZtdQ1"
      }
    },
    {
      "cell_type": "code",
      "source": [
        "predictors = ['payment_inc_ratio', 'purpose_', 'home_', 'emp_len_', \n",
        "              'borrower_score']\n",
        "outcome = 'outcome'\n",
        "X = pd.get_dummies(loan_data[predictors], prefix='', prefix_sep='', \n",
        "                   drop_first=True)\n",
        "y = loan_data[outcome] # .cat.categories\n",
        "\n",
        "logit_reg = LogisticRegression(penalty='l2', C=1e42, solver='liblinear')\n",
        "logit_reg.fit(X, y)\n",
        "\n",
        "print('intercept ', logit_reg.intercept_[0])\n",
        "print('classes', logit_reg.classes_)\n",
        "pd.DataFrame({'coeff': logit_reg.coef_[0]}, \n",
        "             index=X.columns)"
      ],
      "metadata": {
        "id": "pJCcdBwptgYO"
      },
      "execution_count": null,
      "outputs": []
    },
    {
      "cell_type": "markdown",
      "source": [
        "Note that the intercept and coefficients are reversed compared to the R model."
      ],
      "metadata": {
        "id": "uZo6uJGutlMq"
      }
    },
    {
      "cell_type": "code",
      "source": [
        "print(loan_data['purpose_'].cat.categories)\n",
        "print(loan_data['home_'].cat.categories)\n",
        "print(loan_data['emp_len_'].cat.categories)"
      ],
      "metadata": {
        "id": "9OVgiSdWtnb7"
      },
      "execution_count": null,
      "outputs": []
    },
    {
      "cell_type": "markdown",
      "source": [
        "_Not in book_ :\n",
        "If you have a feature or outcome variable that is ordinal, use the scikit-learn `OrdinalEncoder` to replace the categories (here, 'paid off' and 'default') with numbers. In the below code, we replace 'paid off' with 0 and 'default' with 1. This reverses the order of the predicted classes and as a consequence, the coefficients will be reversed."
      ],
      "metadata": {
        "id": "NkVO5QXStrrT"
      }
    },
    {
      "cell_type": "code",
      "source": [
        "from sklearn.preprocessing import OrdinalEncoder\n",
        "enc = OrdinalEncoder(categories=[['paid off', 'default']])\n",
        "y_enc = enc.fit_transform(loan_data[[outcome]]).ravel()\n",
        "\n",
        "logit_reg_enc = LogisticRegression(penalty=\"l2\", C=1e42, solver='liblinear')\n",
        "logit_reg_enc.fit(X, y_enc)\n",
        "\n",
        "print('intercept ', logit_reg_enc.intercept_[0])\n",
        "print('classes', logit_reg_enc.classes_)\n",
        "pd.DataFrame({'coeff': logit_reg_enc.coef_[0]}, \n",
        "             index=X.columns)"
      ],
      "metadata": {
        "id": "xx1z0sARtxeT"
      },
      "execution_count": null,
      "outputs": []
    },
    {
      "cell_type": "markdown",
      "source": [
        "### **5.3.4 Predicted Values from Logistic Regression**"
      ],
      "metadata": {
        "id": "oODW-hFtuD-j"
      }
    },
    {
      "cell_type": "code",
      "source": [
        "pred = pd.DataFrame(logit_reg.predict_log_proba(X),\n",
        "                    columns=logit_reg.classes_)\n",
        "print(pred.describe())"
      ],
      "metadata": {
        "id": "Gjvsb4-uuKEz"
      },
      "execution_count": null,
      "outputs": []
    },
    {
      "cell_type": "code",
      "source": [
        "pred = pd.DataFrame(logit_reg.predict_proba(X),\n",
        "                    columns=logit_reg.classes_)\n",
        "print(pred.describe())"
      ],
      "metadata": {
        "id": "ZFp5iKaRuNMh"
      },
      "execution_count": null,
      "outputs": []
    },
    {
      "cell_type": "markdown",
      "source": [
        "### **5.3.5 Interpreting the Coefficients and Odds Ratios**"
      ],
      "metadata": {
        "id": "5Nyio6OnuUps"
      }
    },
    {
      "cell_type": "code",
      "source": [
        "fig, ax = plt.subplots(figsize=(3, 3))\n",
        "ax.plot(df['logit'], df['odds'])\n",
        "ax.set_xlabel('log(odds ratio)')\n",
        "ax.set_ylabel('odds ratio')\n",
        "ax.set_xlim(0, 5.1)\n",
        "ax.set_ylim(-5, 105)\n",
        "\n",
        "plt.tight_layout()\n",
        "plt.show()"
      ],
      "metadata": {
        "id": "AAPT_UbSua3V"
      },
      "execution_count": null,
      "outputs": []
    },
    {
      "cell_type": "markdown",
      "source": [
        "### **5.3.7 Assessing the Model**"
      ],
      "metadata": {
        "id": "Q7YeLBZsuhI0"
      }
    },
    {
      "cell_type": "markdown",
      "source": [
        "For comparison, here the GLM model using _statsmodels_. This method requires that the outcome is mapped to numbers."
      ],
      "metadata": {
        "id": "iqowT-EHulb7"
      }
    },
    {
      "cell_type": "code",
      "source": [
        "# use GLM (general linear model) with the binomial family to \n",
        "# fit a logistic regression\n",
        "y_numbers = [1 if yi == 'default' else 0 for yi in y]\n",
        "logit_reg_sm = sm.GLM(y_numbers, X.assign(const=1), \n",
        "                      family=sm.families.Binomial())\n",
        "logit_result = logit_reg_sm.fit()\n",
        "print(logit_result.summary())"
      ],
      "metadata": {
        "id": "qo7p8p5Wupp-"
      },
      "execution_count": null,
      "outputs": []
    },
    {
      "cell_type": "markdown",
      "source": [
        "Use splines."
      ],
      "metadata": {
        "id": "qu3ZnujMutm5"
      }
    },
    {
      "cell_type": "code",
      "source": [
        "import statsmodels.formula.api as smf\n",
        "formula = ('outcome ~ bs(payment_inc_ratio, df=8) + purpose_ + ' +\n",
        "           'home_ + emp_len_ + bs(borrower_score, df=3)')\n",
        "model = smf.glm(formula=formula, data=loan_data, family=sm.families.Binomial())\n",
        "results = model.fit()\n",
        "print(results.summary())"
      ],
      "metadata": {
        "id": "bkUYxEvruwdu"
      },
      "execution_count": null,
      "outputs": []
    },
    {
      "cell_type": "code",
      "source": [
        "from statsmodels.genmod.generalized_linear_model import GLMResults\n",
        "def partialResidualPlot(model, df, outcome, feature, fig, ax):\n",
        "    y_actual = [0 if s == 'default' else 1 for s in df[outcome]]\n",
        "    y_pred = model.predict(df)\n",
        "    org_params = model.params.copy()\n",
        "    zero_params = model.params.copy()\n",
        "    # set model parametes of other features to 0\n",
        "    for i, name in enumerate(zero_params.index):\n",
        "        if feature in name:\n",
        "            continue\n",
        "        zero_params[i] = 0.0\n",
        "    model.initialize(model.model, zero_params)\n",
        "    feature_prediction = model.predict(df)\n",
        "    ypartial = -np.log(1/feature_prediction - 1)\n",
        "    ypartial = ypartial - np.mean(ypartial)\n",
        "    model.initialize(model.model, org_params)\n",
        "    results = pd.DataFrame({\n",
        "        'feature': df[feature],\n",
        "        'residual': -2 * (y_actual - y_pred),\n",
        "        'ypartial': ypartial/ 2,\n",
        "    })\n",
        "    results = results.sort_values(by=['feature'])\n",
        "\n",
        "    ax.scatter(results.feature, results.residual, marker=\".\", s=72./fig.dpi)\n",
        "    ax.plot(results.feature, results.ypartial, color='black')\n",
        "    ax.set_xlabel(feature)\n",
        "    ax.set_ylabel(f'Residual + {feature} contribution')\n",
        "    return ax\n",
        "\n",
        "fig, ax = plt.subplots(figsize=(5, 5))\n",
        "partialResidualPlot(results, loan_data, 'outcome', 'payment_inc_ratio', fig, ax)\n",
        "ax.set_xlim(0, 25)\n",
        "ax.set_ylim(-2.5, 2.5)\n",
        "\n",
        "\n",
        "plt.tight_layout()\n",
        "plt.show()"
      ],
      "metadata": {
        "id": "c-lqUyz1u3R5"
      },
      "execution_count": null,
      "outputs": []
    },
    {
      "cell_type": "markdown",
      "source": [
        "## **5.4 Evaluating Classification Models**\n",
        "### **5.4.1 Confusion Matrix**"
      ],
      "metadata": {
        "id": "5OnZjoldu9yx"
      }
    },
    {
      "cell_type": "code",
      "source": [
        "# Confusion matrix\n",
        "pred = logit_reg.predict(X)\n",
        "pred_y = logit_reg.predict(X) == 'default'\n",
        "true_y = y == 'default'\n",
        "true_pos = true_y & pred_y\n",
        "true_neg = ~true_y & ~pred_y\n",
        "false_pos = ~true_y & pred_y\n",
        "false_neg = true_y & ~pred_y\n",
        "\n",
        "conf_mat = pd.DataFrame([[np.sum(true_pos), np.sum(false_neg)], [np.sum(false_pos), np.sum(true_neg)]],\n",
        "                       index=['Y = default', 'Y = paid off'],\n",
        "                       columns=['Yhat = default', 'Yhat = paid off'])\n",
        "print(conf_mat)"
      ],
      "metadata": {
        "id": "mzXjXOTvvG1N"
      },
      "execution_count": null,
      "outputs": []
    },
    {
      "cell_type": "code",
      "source": [
        "print(confusion_matrix(y, logit_reg.predict(X)))"
      ],
      "metadata": {
        "id": "2HfRRY0pvKMH"
      },
      "execution_count": null,
      "outputs": []
    },
    {
      "cell_type": "markdown",
      "source": [
        "The package _dmba_ contains the function `classificationSummary` that prints confusion matrix and accuracy for a classification model."
      ],
      "metadata": {
        "id": "fmGM-TBpvMhe"
      }
    },
    {
      "cell_type": "code",
      "source": [
        "classificationSummary(y, logit_reg.predict(X), \n",
        "                      class_names=logit_reg.classes_)"
      ],
      "metadata": {
        "id": "2NDXZ7B2vQcv"
      },
      "execution_count": null,
      "outputs": []
    },
    {
      "cell_type": "markdown",
      "source": [
        "### **5.4.3 Precision, Recall, and Specificity**"
      ],
      "metadata": {
        "id": "MTl6fpDpvVGu"
      }
    },
    {
      "cell_type": "markdown",
      "source": [
        "The _scikit-learn_ function `precision_recall_fscore_support` returns\n",
        "precision, recall, fbeta_score and support."
      ],
      "metadata": {
        "id": "QWLvkK-HviIs"
      }
    },
    {
      "cell_type": "code",
      "source": [
        "conf_mat = confusion_matrix(y, logit_reg.predict(X))\n",
        "print('Precision', conf_mat[0, 0] / sum(conf_mat[:, 0]))\n",
        "print('Recall', conf_mat[0, 0] / sum(conf_mat[0, :]))\n",
        "print('Specificity', conf_mat[1, 1] / sum(conf_mat[1, :]))"
      ],
      "metadata": {
        "id": "KoI6OY0lvnbj"
      },
      "execution_count": null,
      "outputs": []
    },
    {
      "cell_type": "code",
      "source": [
        "precision_recall_fscore_support(y, logit_reg.predict(X), \n",
        "                                labels=['default', 'paid off'])"
      ],
      "metadata": {
        "id": "jjroNiBxvqa-"
      },
      "execution_count": null,
      "outputs": []
    },
    {
      "cell_type": "markdown",
      "source": [
        "### **5.4.4 ROC Curve**"
      ],
      "metadata": {
        "id": "uXyiu5xcvvk-"
      }
    },
    {
      "cell_type": "markdown",
      "source": [
        "The function `roc_curve` in _Scikit-learn_ calculates all the information that is required for plotting a ROC curve."
      ],
      "metadata": {
        "id": "UfYvZUOqvzmr"
      }
    },
    {
      "cell_type": "code",
      "source": [
        "fpr, tpr, thresholds = roc_curve(y, logit_reg.predict_proba(X)[:, 0], \n",
        "                                 pos_label='default')\n",
        "roc_df = pd.DataFrame({'recall': tpr, 'specificity': 1 - fpr})\n",
        "\n",
        "ax = roc_df.plot(x='specificity', y='recall', figsize=(4, 4), legend=False)\n",
        "ax.set_ylim(0, 1)\n",
        "ax.set_xlim(1, 0)\n",
        "ax.plot((1, 0), (0, 1))\n",
        "ax.set_xlabel('specificity')\n",
        "ax.set_ylabel('recall')\n",
        "\n",
        "plt.tight_layout()\n",
        "plt.show()"
      ],
      "metadata": {
        "id": "W6aWd4LWv3tY"
      },
      "execution_count": null,
      "outputs": []
    },
    {
      "cell_type": "markdown",
      "source": [
        "### **5.4.5 AUC**"
      ],
      "metadata": {
        "id": "yqC-5bScv9Fi"
      }
    },
    {
      "cell_type": "markdown",
      "source": [
        "Accuracy can easily be calculated using the _scikit-learn_ function `accuracy_score`."
      ],
      "metadata": {
        "id": "kADJZ7h6wAea"
      }
    },
    {
      "cell_type": "code",
      "source": [
        "print(np.sum(roc_df.recall[:-1] * np.diff(1 - roc_df.specificity)))\n",
        "print(roc_auc_score([1 if yi == 'default' else 0 for yi in y], logit_reg.predict_proba(X)[:, 0]))"
      ],
      "metadata": {
        "id": "PwUiCL1UwDq3"
      },
      "execution_count": null,
      "outputs": []
    },
    {
      "cell_type": "code",
      "source": [
        "fpr, tpr, thresholds = roc_curve(y, logit_reg.predict_proba(X)[:,0], \n",
        "                                 pos_label='default')\n",
        "roc_df = pd.DataFrame({'recall': tpr, 'specificity': 1 - fpr})\n",
        "\n",
        "ax = roc_df.plot(x='specificity', y='recall', figsize=(4, 4), legend=False)\n",
        "ax.set_ylim(0, 1)\n",
        "ax.set_xlim(1, 0)\n",
        "# ax.plot((1, 0), (0, 1))\n",
        "ax.set_xlabel('specificity')\n",
        "ax.set_ylabel('recall')\n",
        "ax.fill_between(roc_df.specificity, 0, roc_df.recall, alpha=0.3)\n",
        "\n",
        "plt.tight_layout()\n",
        "plt.show()"
      ],
      "metadata": {
        "id": "aY4IZqgRwHuf"
      },
      "execution_count": null,
      "outputs": []
    },
    {
      "cell_type": "markdown",
      "source": [
        "## **5.5 Strategies for Imbalanced Data**\n",
        "### **5.5.1 Undersampling**\n",
        "> The results differ from the R version, however are equivalent to results obtained using the R code. Model based results are of similar magnitude."
      ],
      "metadata": {
        "id": "NkfWkUE_wL-0"
      }
    },
    {
      "cell_type": "code",
      "source": [
        "full_train_set = pd.read_csv(FULL_TRAIN_SET_CSV)\n",
        "print(full_train_set.shape)"
      ],
      "metadata": {
        "id": "KAW2nILKwZHf"
      },
      "execution_count": null,
      "outputs": []
    },
    {
      "cell_type": "code",
      "source": [
        "print('percentage of loans in default: ', \n",
        "print(      100 * np.mean(full_train_set.outcome == 'default')))"
      ],
      "metadata": {
        "id": "VoA_LdcIwc--"
      },
      "execution_count": null,
      "outputs": []
    },
    {
      "cell_type": "code",
      "source": [
        "predictors = ['payment_inc_ratio', 'purpose_', 'home_', 'emp_len_', \n",
        "              'dti', 'revol_bal', 'revol_util']\n",
        "outcome = 'outcome'\n",
        "X = pd.get_dummies(full_train_set[predictors], prefix='', prefix_sep='', \n",
        "                   drop_first=True)\n",
        "y = full_train_set[outcome]\n",
        "\n",
        "full_model = LogisticRegression(penalty='l2', C=1e42, solver='liblinear')\n",
        "full_model.fit(X, y)\n",
        "print('percentage of loans predicted to default: ', \n",
        "print(      100 * np.mean(full_model.predict(X) == 'default')))"
      ],
      "metadata": {
        "id": "bB_I1nhOwlzW"
      },
      "execution_count": null,
      "outputs": []
    },
    {
      "cell_type": "code",
      "source": [
        "(np.mean(full_train_set.outcome == 'default') / \n",
        " np.mean(full_model.predict(X) == 'default'))"
      ],
      "metadata": {
        "id": "Qv9sfmigwofp"
      },
      "execution_count": null,
      "outputs": []
    },
    {
      "cell_type": "markdown",
      "source": [
        "### **5.5.2 Oversampling and Up/Down Weighting**"
      ],
      "metadata": {
        "id": "FI-0QyfowttE"
      }
    },
    {
      "cell_type": "code",
      "source": [
        "default_wt = 1 / np.mean(full_train_set.outcome == 'default')\n",
        "wt = [default_wt if outcome == 'default' else 1 for outcome in full_train_set.outcome]\n",
        "\n",
        "full_model = LogisticRegression(penalty=\"l2\", C=1e42, solver='liblinear')\n",
        "full_model.fit(X, y, wt)\n",
        "print('percentage of loans predicted to default (weighting): ', \n",
        "print(      100 * np.mean(full_model.predict(X) == 'default')))"
      ],
      "metadata": {
        "id": "h3lLaFg5w0oV"
      },
      "execution_count": null,
      "outputs": []
    },
    {
      "cell_type": "markdown",
      "source": [
        "### **5.5.3 Data Generation**"
      ],
      "metadata": {
        "id": "hx0D3J45w9jc"
      }
    },
    {
      "cell_type": "markdown",
      "source": [
        "The package _imbalanced-learn_ provides an implementation of the _SMOTE_ and similar algorithms."
      ],
      "metadata": {
        "id": "Iq56YIevxC-x"
      }
    },
    {
      "cell_type": "code",
      "source": [
        "X_resampled, y_resampled = SMOTE().fit_resample(X, y)\n",
        "print('percentage of loans in default (SMOTE resampled): ', \n",
        "      100 * np.mean(y_resampled == 'default'))\n",
        "\n",
        "full_model = LogisticRegression(penalty=\"l2\", C=1e42, solver='liblinear')\n",
        "full_model.fit(X_resampled, y_resampled)\n",
        "print('percentage of loans predicted to default (SMOTE): ', \n",
        "      100 * np.mean(full_model.predict(X) == 'default'))\n",
        "\n",
        "\n",
        "X_resampled, y_resampled = ADASYN().fit_resample(X, y)\n",
        "print('percentage of loans in default (ADASYN resampled): ', \n",
        "      100 * np.mean(y_resampled == 'default'))\n",
        "\n",
        "full_model = LogisticRegression(penalty=\"l2\", C=1e42, solver='liblinear')\n",
        "full_model.fit(X_resampled, y_resampled)\n",
        "print('percentage of loans predicted to default (ADASYN): ', \n",
        "print(      100 * np.mean(full_model.predict(X) == 'default')))"
      ],
      "metadata": {
        "id": "OJZiiixVxJJg"
      },
      "execution_count": null,
      "outputs": []
    },
    {
      "cell_type": "markdown",
      "source": [
        "### **5.5.5 Exploring the Predictions**"
      ],
      "metadata": {
        "id": "lylM43ebxNgP"
      }
    },
    {
      "cell_type": "code",
      "source": [
        "loan3000 = pd.read_csv(LOAN3000_CSV)\n",
        "\n",
        "predictors = ['borrower_score', 'payment_inc_ratio']\n",
        "outcome = 'outcome'\n",
        "\n",
        "X = loan3000[predictors]\n",
        "y = loan3000[outcome]\n",
        "\n",
        "loan_tree = DecisionTreeClassifier(random_state=1, criterion='entropy', \n",
        "                                   min_impurity_decrease=0.003)\n",
        "loan_tree.fit(X, y)\n",
        "\n",
        "loan_lda = LinearDiscriminantAnalysis()\n",
        "loan_lda.fit(X, y)\n",
        "\n",
        "logit_reg = LogisticRegression(penalty=\"l2\", solver='liblinear')\n",
        "logit_reg.fit(X, y)\n",
        "\n",
        "\n",
        "## model\n",
        "gam = LinearGAM(s(0) + s(1))\n",
        "print(gam.gridsearch(X.values, [1 if yi == 'default' else 0 for yi in y]))"
      ],
      "metadata": {
        "id": "rwYwzP7GxTyp"
      },
      "execution_count": null,
      "outputs": []
    },
    {
      "cell_type": "code",
      "source": [
        "models = {\n",
        "    'Decision Tree': loan_tree,\n",
        "    'Linear Discriminant Analysis': loan_lda,\n",
        "    'Logistic Regression': logit_reg,\n",
        "    'Generalized Additive Model': gam,\n",
        "}\n",
        "\n",
        "fig, axes = plt.subplots(nrows=2, ncols=2, figsize=(5, 5))\n",
        "\n",
        "xvalues = np.arange(0.25, 0.73, 0.005)\n",
        "yvalues = np.arange(-0.1, 20.1, 0.1)\n",
        "xx, yy = np.meshgrid(xvalues, yvalues)\n",
        "X = np.c_[xx.ravel(), yy.ravel()]\n",
        "\n",
        "boundary = {}\n",
        "\n",
        "for n, (title, model) in enumerate(models.items()):\n",
        "    ax = axes[n // 2, n % 2]\n",
        "    predict = model.predict(X)\n",
        "    if 'Generalized' in title:\n",
        "        Z = np.array([1 if z > 0.5 else 0 for z in predict])\n",
        "    else:\n",
        "        \n",
        "        Z = np.array([1 if z == 'default' else 0 for z in predict])\n",
        "    Z = Z.reshape(xx.shape)\n",
        "    boundary[title] = yvalues[np.argmax(Z > 0, axis=0)]\n",
        "    boundary[title][Z[-1,:] == 0] = yvalues[-1]\n",
        "\n",
        "    c = ax.pcolormesh(xx, yy, Z, cmap='Blues', vmin=0.1, vmax=1.3, shading='auto')\n",
        "    ax.set_title(title)\n",
        "    ax.grid(True)\n",
        "\n",
        "plt.tight_layout()\n",
        "plt.show()"
      ],
      "metadata": {
        "id": "3eFoKRh7xYX8"
      },
      "execution_count": null,
      "outputs": []
    },
    {
      "cell_type": "code",
      "source": [
        "boundary['borrower_score'] = xvalues\n",
        "boundaries = pd.DataFrame(boundary)\n",
        "\n",
        "fig, ax = plt.subplots(figsize=(5, 4))\n",
        "boundaries.plot(x='borrower_score', ax=ax)\n",
        "ax.set_ylabel('payment_inc_ratio')\n",
        "ax.set_ylim(0, 20)\n",
        "\n",
        "\n",
        "plt.tight_layout()\n",
        "plt.show()"
      ],
      "metadata": {
        "id": "pq213oQOpxH2"
      },
      "execution_count": null,
      "outputs": []
    }
  ]
}